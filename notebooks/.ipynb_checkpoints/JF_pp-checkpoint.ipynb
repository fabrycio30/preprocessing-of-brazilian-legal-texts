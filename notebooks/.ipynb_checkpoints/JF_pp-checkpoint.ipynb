{
 "cells": [
  {
   "cell_type": "code",
   "execution_count": 1,
   "id": "5c5d93de",
   "metadata": {},
   "outputs": [],
   "source": [
    "path = \"D:\\\\dados-juridicos\\\\brutos\\\\jjf\\\\\""
   ]
  },
  {
   "cell_type": "code",
   "execution_count": 2,
   "id": "8f7ce0cb",
   "metadata": {},
   "outputs": [
    {
     "name": "stdout",
     "output_type": "stream",
     "text": [
      "Defaulting to user installation because normal site-packages is not writeable\n",
      "Requirement already satisfied: pandas in c:\\users\\fabry\\appdata\\roaming\\python\\python311\\site-packages (2.2.2)\n",
      "Requirement already satisfied: numpy>=1.23.2 in c:\\programdata\\anaconda3\\lib\\site-packages (from pandas) (1.24.3)\n",
      "Requirement already satisfied: python-dateutil>=2.8.2 in c:\\programdata\\anaconda3\\lib\\site-packages (from pandas) (2.8.2)\n",
      "Requirement already satisfied: pytz>=2020.1 in c:\\programdata\\anaconda3\\lib\\site-packages (from pandas) (2023.3.post1)\n",
      "Requirement already satisfied: tzdata>=2022.7 in c:\\programdata\\anaconda3\\lib\\site-packages (from pandas) (2023.3)\n",
      "Requirement already satisfied: six>=1.5 in c:\\programdata\\anaconda3\\lib\\site-packages (from python-dateutil>=2.8.2->pandas) (1.16.0)\n"
     ]
    },
    {
     "name": "stderr",
     "output_type": "stream",
     "text": [
      "\n",
      "[notice] A new release of pip is available: 24.0 -> 24.1\n",
      "[notice] To update, run: python.exe -m pip install --upgrade pip\n"
     ]
    }
   ],
   "source": [
    "!pip install pandas -U"
   ]
  },
  {
   "cell_type": "code",
   "execution_count": 5,
   "id": "0384af48",
   "metadata": {},
   "outputs": [
    {
     "name": "stderr",
     "output_type": "stream",
     "text": [
      "C:\\Users\\fabry\\AppData\\Roaming\\Python\\Python311\\site-packages\\pandas\\core\\arrays\\masked.py:60: UserWarning: Pandas requires version '1.3.6' or newer of 'bottleneck' (version '1.3.5' currently installed).\n",
      "  from pandas.core import (\n"
     ]
    }
   ],
   "source": [
    "import pandas as pd"
   ]
  },
  {
   "cell_type": "code",
   "execution_count": 6,
   "id": "9e0582c4",
   "metadata": {},
   "outputs": [],
   "source": [
    "colunas_desejadas = ['Origem', 'Ementa', 'Fonte_da_publicacao']"
   ]
  },
  {
   "cell_type": "code",
   "execution_count": null,
   "id": "9e0fc6c1",
   "metadata": {},
   "outputs": [],
   "source": []
  },
  {
   "cell_type": "code",
   "execution_count": 7,
   "id": "ce960849",
   "metadata": {
    "scrolled": true
   },
   "outputs": [
    {
     "data": {
      "text/html": [
       "<div>\n",
       "<style scoped>\n",
       "    .dataframe tbody tr th:only-of-type {\n",
       "        vertical-align: middle;\n",
       "    }\n",
       "\n",
       "    .dataframe tbody tr th {\n",
       "        vertical-align: top;\n",
       "    }\n",
       "\n",
       "    .dataframe thead th {\n",
       "        text-align: right;\n",
       "    }\n",
       "</style>\n",
       "<table border=\"1\" class=\"dataframe\">\n",
       "  <thead>\n",
       "    <tr style=\"text-align: right;\">\n",
       "      <th></th>\n",
       "      <th>Origem</th>\n",
       "      <th>Fonte_da_publicacao</th>\n",
       "      <th>Ementa</th>\n",
       "    </tr>\n",
       "  </thead>\n",
       "  <tbody>\n",
       "    <tr>\n",
       "      <th>0</th>\n",
       "      <td>10ª Turma</td>\n",
       "      <td>E M E N T A PREVIDENCIÁRIO. REVISÃO. APOSENTAD...</td>\n",
       "      <td>PODER JUDICIÁRIOTribunal Regional Federal da 3...</td>\n",
       "    </tr>\n",
       "    <tr>\n",
       "      <th>1</th>\n",
       "      <td>10ª Turma</td>\n",
       "      <td>E M E N T A PREVIDENCIÁRIO. REVISÃO. APOSENTAD...</td>\n",
       "      <td>PODER JUDICIÁRIOTribunal Regional Federal da 3...</td>\n",
       "    </tr>\n",
       "    <tr>\n",
       "      <th>2</th>\n",
       "      <td>10ª Turma</td>\n",
       "      <td>E M E N T A  PREVIDENCIÁRIO. RECONHECIMENTO DE...</td>\n",
       "      <td>PODER JUDICIÁRIOTribunal Regional Federal da 3...</td>\n",
       "    </tr>\n",
       "    <tr>\n",
       "      <th>3</th>\n",
       "      <td>10ª Turma</td>\n",
       "      <td>E M E N T A PREVIDENCIÁRIO. APOSENTADORIA POR ...</td>\n",
       "      <td>PODER JUDICIÁRIOTribunal Regional Federal da 3...</td>\n",
       "    </tr>\n",
       "    <tr>\n",
       "      <th>4</th>\n",
       "      <td>10ª Turma</td>\n",
       "      <td>E M E N T A PREVIDENCIÁRIO. APOSENTADORIA POR ...</td>\n",
       "      <td>PODER JUDICIÁRIOTribunal Regional Federal da 3...</td>\n",
       "    </tr>\n",
       "    <tr>\n",
       "      <th>...</th>\n",
       "      <td>...</td>\n",
       "      <td>...</td>\n",
       "      <td>...</td>\n",
       "    </tr>\n",
       "    <tr>\n",
       "      <th>49052</th>\n",
       "      <td>10ª Turma</td>\n",
       "      <td>E M E N T APROCESSO CIVIL. EXTINÇÃO DO FEITO S...</td>\n",
       "      <td>PODER JUDICIÁRIOTribunal Regional Federal da 3...</td>\n",
       "    </tr>\n",
       "    <tr>\n",
       "      <th>49053</th>\n",
       "      <td>10ª Turma</td>\n",
       "      <td>E M E N T APROCESSO CIVIL. PREVIDENCIÁRIO. CUM...</td>\n",
       "      <td>PODER JUDICIÁRIOTribunal Regional Federal da 3...</td>\n",
       "    </tr>\n",
       "    <tr>\n",
       "      <th>49054</th>\n",
       "      <td>10ª Turma</td>\n",
       "      <td>E M E N T APREVIDENCIÁRIO. PROCESSO CIVIL. AGR...</td>\n",
       "      <td>PODER JUDICIÁRIOTribunal Regional Federal da 3...</td>\n",
       "    </tr>\n",
       "    <tr>\n",
       "      <th>49055</th>\n",
       "      <td>10ª Turma</td>\n",
       "      <td>E M E N T A DIREITO PREVIDENCIÁRIO E PROCESSUA...</td>\n",
       "      <td>PODER JUDICIÁRIOTribunal Regional Federal da 3...</td>\n",
       "    </tr>\n",
       "    <tr>\n",
       "      <th>49056</th>\n",
       "      <td>10ª Turma</td>\n",
       "      <td>E M E N T A DIREITO PREVIDENCIÁRIO E PROCESSUA...</td>\n",
       "      <td>PODER JUDICIÁRIOTribunal Regional Federal da 3...</td>\n",
       "    </tr>\n",
       "  </tbody>\n",
       "</table>\n",
       "<p>49057 rows × 3 columns</p>\n",
       "</div>"
      ],
      "text/plain": [
       "          Origem                                Fonte_da_publicacao  \\\n",
       "0      10ª Turma  E M E N T A PREVIDENCIÁRIO. REVISÃO. APOSENTAD...   \n",
       "1      10ª Turma  E M E N T A PREVIDENCIÁRIO. REVISÃO. APOSENTAD...   \n",
       "2      10ª Turma  E M E N T A  PREVIDENCIÁRIO. RECONHECIMENTO DE...   \n",
       "3      10ª Turma  E M E N T A PREVIDENCIÁRIO. APOSENTADORIA POR ...   \n",
       "4      10ª Turma  E M E N T A PREVIDENCIÁRIO. APOSENTADORIA POR ...   \n",
       "...          ...                                                ...   \n",
       "49052  10ª Turma  E M E N T APROCESSO CIVIL. EXTINÇÃO DO FEITO S...   \n",
       "49053  10ª Turma  E M E N T APROCESSO CIVIL. PREVIDENCIÁRIO. CUM...   \n",
       "49054  10ª Turma  E M E N T APREVIDENCIÁRIO. PROCESSO CIVIL. AGR...   \n",
       "49055  10ª Turma  E M E N T A DIREITO PREVIDENCIÁRIO E PROCESSUA...   \n",
       "49056  10ª Turma  E M E N T A DIREITO PREVIDENCIÁRIO E PROCESSUA...   \n",
       "\n",
       "                                                  Ementa  \n",
       "0      PODER JUDICIÁRIOTribunal Regional Federal da 3...  \n",
       "1      PODER JUDICIÁRIOTribunal Regional Federal da 3...  \n",
       "2      PODER JUDICIÁRIOTribunal Regional Federal da 3...  \n",
       "3      PODER JUDICIÁRIOTribunal Regional Federal da 3...  \n",
       "4      PODER JUDICIÁRIOTribunal Regional Federal da 3...  \n",
       "...                                                  ...  \n",
       "49052  PODER JUDICIÁRIOTribunal Regional Federal da 3...  \n",
       "49053  PODER JUDICIÁRIOTribunal Regional Federal da 3...  \n",
       "49054  PODER JUDICIÁRIOTribunal Regional Federal da 3...  \n",
       "49055  PODER JUDICIÁRIOTribunal Regional Federal da 3...  \n",
       "49056  PODER JUDICIÁRIOTribunal Regional Federal da 3...  \n",
       "\n",
       "[49057 rows x 3 columns]"
      ]
     },
     "execution_count": 7,
     "metadata": {},
     "output_type": "execute_result"
    }
   ],
   "source": [
    "df3 = pd.read_csv(f'{path}dadosJF_parte_3.csv.aspx',skiprows=range(1,1050000), usecols=colunas_desejadas, nrows=350000) ##778575   #usecols=colunas_desejadas,\n",
    "df3"
   ]
  },
  {
   "cell_type": "code",
   "execution_count": 16,
   "id": "9627e112",
   "metadata": {},
   "outputs": [
    {
     "data": {
      "text/plain": [
       "'E M E N T A PREVIDENCIÁRIO. APOSENTADORIA POR IDADE. SEGURADA ESPECIAL RURAL EM REGIMEDE ECONOMIA FAMILIAR E TRABALHO URBANO. § 3º, do ART. 48, DA LEI Nº 8.213/91.1. A Lei nº 11.718/2008, ao alterar o Art. 48, da Lei nº 8.213/91, possibilitouao segurado o direito à aposentadoria por idade, mediante a soma dos lapsostemporais de trabalho rural com o urbano.2. O Art. 106, da Lei nº 8.213/91, dispõe que a comprovação do exercício deatividade rural será feita, dentre outros documentos, por meio de um dosdocumentos elencados, no caso de segurado especial em regime de economiafamiliar.3. Tendo a autora completado 60 anos e cumprido a carência com a soma dotempo de serviço rural reconhecido e das contribuições vertidas ao RGPS,faz jus ao benefício de aposentadoria por idade.4. Aplica-se o disposto no Manual de Orientação de Procedimentos para osCálculos na Justiça Federal no que tange aos índices de correção monetáriae taxa de juros de mora.5. Os honorários advocatícios devem observar as disposições contidas noinciso II, do § 4º, do Art. 85, do CPC, e a Súmula 111, do e. STJ.6. A autarquia previdenciária está isenta das custas e emolumentos, nos termosdo Art. 4º, I, da Lei 9.289/96, do Art. 24-A da Lei 9.028/95, com a redaçãodada pelo Art. 3º da MP 2.180-35/01, e do Art. 8º, § 1º, da Lei 8.620/93.7. Apelação provida em parte.'"
      ]
     },
     "execution_count": 16,
     "metadata": {},
     "output_type": "execute_result"
    }
   ],
   "source": [
    "df3.Fonte_da_publicacao[4]"
   ]
  },
  {
   "cell_type": "code",
   "execution_count": 9,
   "id": "3c408a0e",
   "metadata": {},
   "outputs": [
    {
     "data": {
      "text/plain": [
       "'E M E N T A\\xa0PREVIDENCIÁRIO. APOSENTADORIA POR IDADE. SEGURADA ESPECIAL RURAL EM REGIMEDE ECONOMIA FAMILIAR E TRABALHO URBANO. § 3º, do ART. 48, DA LEI Nº 8.213/91.1. A Lei nº 11.718/2008, ao alterar o Art. 48, da Lei nº 8.213/91, possibilitouao segurado o direito à aposentadoria por idade, mediante a soma dos lapsostemporais de trabalho rural com o urbano.2. O Art. 106, da Lei nº 8.213/91, dispõe que\\xa0a comprovação do exercício deatividade rural será feita, dentre outros documentos, por meio de um dosdocumentos elencados, no caso de segurado especial em regime de economiafamiliar.3. Tendo a autora completado 60 anos e cumprido a carência com a soma dotempo de serviço rural reconhecido e das contribuições vertidas ao RGPS,faz jus ao benefício de aposentadoria por idade.4. Aplica-se o disposto no Manual de Orientação de Procedimentos para osCálculos na Justiça Federal no que tange aos índices de correção monetáriae taxa de juros de mora.5. Os honorários advocatícios devem observar as disposições contidas noinciso II, do § 4º, do Art. 85, do CPC, e a Súmula 111, do e. STJ.6. A autarquia previdenciária está isenta das custas e emolumentos, nos termosdo Art. 4º, I, da Lei 9.289/96, do Art. 24-A da Lei 9.028/95, com a redaçãodada pelo Art. 3º da MP 2.180-35/01, e do Art. 8º, § 1º, da Lei 8.620/93.7. Apelação provida em parte.'"
      ]
     },
     "execution_count": 9,
     "metadata": {},
     "output_type": "execute_result"
    }
   ],
   "source": [
    "df3.Fonte_da_publicacao[4]"
   ]
  },
  {
   "cell_type": "code",
   "execution_count": 11,
   "id": "20d4c359",
   "metadata": {},
   "outputs": [
    {
     "data": {
      "text/plain": [
       "'APELAÇÃO CÍVEL (198) Nº 0000481-57.2017.4.03.6107RELATOR: Gab. 04 - DES. FED. PEIXOTO JUNIORAPELANTE: AGROPECUARIA JACAREZINHO LTDAAdvogados do(a) APELANTE: SERGIO GONINI BENICIO - SP195470-A, CAMILA DECAMARGO VIEIRA ALTERO - SP242542-AAPELADO: UNIAO FEDERAL - FAZENDA NACIONAL\\xa0\\xa0\\xa0\\xa0\\xa0\\xa0 E M E N T APROCESSUAL CIVIL. EMBARGOS DE DECLARAÇÃO.I - Arguição de irregularidade no julgado que não se justifica, tendo emvista exegese clara e inteligível da matéria aduzida constante do Acórdão.II - Recurso julgado sem omissões nem contradições, na linha de fundamentosque, segundo o entendimento exposto, presidem as questões.III - A omissão que justifica a declaração da decisão por via dos embargos nãodiz respeito à falta de menção explícita de dispositivos legais ou de exaustivaapreciação, ponto por ponto, de tudo quanto suscetível de questionamentos.IV - A declaração do julgado pelo motivo de contradição apenas se justificase há discrepância nas operações lógicas desenvolvidas na decisão, se hádissonância interna e não suposta antinomia entre Acórdão e dispositivoslegais ou constitucionais ou precedentes jurisprudenciais que a parte invocaem seu favor.V - Os embargos declaratórios não são meio de impugnação destinado a obter areforma do julgado ou rediscussão de questões já decididas, não se devendoconfundir omissão, contradição ou obscuridade com inconformismo diante doresultado ou fundamentação do julgamento.VI - Embargos de declaração rejeitados.'"
      ]
     },
     "execution_count": 11,
     "metadata": {},
     "output_type": "execute_result"
    }
   ],
   "source": [
    "df3.Fonte_da_publicacao[10002]"
   ]
  },
  {
   "cell_type": "code",
   "execution_count": null,
   "id": "d2259f03",
   "metadata": {},
   "outputs": [],
   "source": [
    "#1ª Turma, Ementa: PODER JUDICIÁRIOTribunal Regional Federal da 3ª Região1ª TurmaAPELAÇÃO / REMESSA NECESSÁRIA (1728) Nº 5005625-11.2018.4.03.6100RELATOR: Gab. 02 - DES. FED. WILSON ZAUHYAPELANTE: GPS - PREDIAL SISTEMAS DE SEGURANCA LTDA, GPS PREDIAL SISTEMASDE SEGURANCA LTDA.,"
   ]
  },
  {
   "cell_type": "code",
   "execution_count": 17,
   "id": "c12218e5",
   "metadata": {},
   "outputs": [
    {
     "data": {
      "text/plain": [
       "'E M E N T A\\xa0PREVIDENCIÁRIO. REVISÃO. APOSENTADORIA POR TEMPO DE CONTRIBUIÇÃO. CONVERSÃOEM APOSENTADORIA ESPECIAL. ATIVIDADE ESPECIAL. RUÍDO.\\xa01. Até 29/04/95 a comprovação do tempo de serviço laborado em condiçõesespeciais era feita mediante o enquadramento da atividade no rol dos Decretos53.831/64 e 83.080/79. A partir daquela data até a publicação da Lei 9.528/97,em 10/12/1997, por meio da apresentação de formulário que demonstre a efetivaexposição de forma permanente, não ocasional nem intermitente, a agentesprejudiciais a saúde ou a integridade física. Após 10/12/1997, tal formuláriodeve estar fundamentado em laudo técnico das condições ambientais do trabalho,assinado por médico do trabalho ou engenheiro do trabalho. Quanto aos agentesruído e calor, o laudo pericial sempre foi exigido.2. Admite-se como especial a atividade exposta a ruídos superiores a80 decibéis até 05/03/1997, a 90 decibéis no período entre 06/03/1997 e18/11/2003 e, a partir de então, até os dias atuais, em nível acima de 85decibéis. (REsp 1398260/PR, Relator Ministro Herman Benjamin, Primeira Seção,j. 14/05/2014, DJe 05/12/2014).3. O uso do equipamento de proteção individual - EPI pode ser insuficientepara neutralizar completamente a nocividade a que o trabalhador estejasubmetido. (STF, ARE 664335/SC, Tribunal Pleno, Relator Ministro Luiz Fux,j. 04/12/2014, DJe-029 DIVULG 11/02/2015 Public 12/02/2015).4. Aplica-se o disposto no Manual de Orientação de Procedimentos para osCálculos na Justiça Federal no que tange aos índices de correção monetáriae taxa de juros de mora.5. Os honorários advocatícios devem observar as disposições contidas noinciso II, do § 4º, do Art. 85, do CPC, e a Súmula 111, do e. STJ.6. A autarquia previdenciária está isenta das custas e emolumentos, nos termosdo Art. 4º, I, da Lei 9.289/96, do Art. 24-A da Lei 9.028/95, com a redaçãodada pelo Art. 3º da MP 2.180-35/01, e do Art. 8º, § 1º, da Lei 8.620/93.7. Apelação do autor\\xa0não conhecida e remessa oficial, havida como submetida,e apelação do réu providas em parte.'"
      ]
     },
     "execution_count": 17,
     "metadata": {},
     "output_type": "execute_result"
    }
   ],
   "source": [
    "df2.Fonte_da_publicacao[10001]"
   ]
  },
  {
   "cell_type": "code",
   "execution_count": 25,
   "id": "4860b9bd",
   "metadata": {},
   "outputs": [
    {
     "data": {
      "text/plain": [
       "'E M E N T A PREVIDENCIÁRIO. REVISÃO. APOSENTADORIA POR TEMPO DE CONTRIBUIÇÃO. CONVERSÃOEM APOSENTADORIA ESPECIAL. ATIVIDADE ESPECIAL. RUÍDO. 1. Até 29/04/95 a comprovação do tempo de serviço laborado em condiçõesespeciais era feita mediante o enquadramento da atividade no rol dos Decretos53.831/64 e 83.080/79. A partir daquela data até a publicação da Lei 9.528/97,em 10/12/1997, por meio da apresentação de formulário que demonstre a efetivaexposição de forma permanente, não ocasional nem intermitente, a agentesprejudiciais a saúde ou a integridade física. Após 10/12/1997, tal formuláriodeve estar fundamentado em laudo técnico das condições ambientais do trabalho,assinado por médico do trabalho ou engenheiro do trabalho. Quanto aos agentesruído e calor, o laudo pericial sempre foi exigido.2. Admite-se como especial a atividade exposta a ruídos superiores a80 decibéis até 05/03/1997, a 90 decibéis no período entre 06/03/1997 e18/11/2003 e, a partir de então, até os dias atuais, em nível acima de 85decibéis. (REsp 1398260/PR, Relator Ministro Herman Benjamin, Primeira Seção,j. 14/05/2014, DJe 05/12/2014).3. O uso do equipamento de proteção individual - EPI pode ser insuficientepara neutralizar completamente a nocividade a que o trabalhador estejasubmetido. (STF, ARE 664335/SC, Tribunal Pleno, Relator Ministro Luiz Fux,j. 04/12/2014, DJe-029 DIVULG 11/02/2015 Public 12/02/2015).4. Aplica-se o disposto no Manual de Orientação de Procedimentos para osCálculos na Justiça Federal no que tange aos índices de correção monetáriae taxa de juros de mora.5. Os honorários advocatícios devem observar as disposições contidas noinciso II, do § 4º, do Art. 85, do CPC, e a Súmula 111, do e. STJ.6. A autarquia previdenciária está isenta das custas e emolumentos, nos termosdo Art. 4º, I, da Lei 9.289/96, do Art. 24-A da Lei 9.028/95, com a redaçãodada pelo Art. 3º da MP 2.180-35/01, e do Art. 8º, § 1º, da Lei 8.620/93.7. Apelação do autor não conhecida e remessa oficial, havida como submetida,e apelação do réu providas em parte.'"
      ]
     },
     "execution_count": 25,
     "metadata": {},
     "output_type": "execute_result"
    }
   ],
   "source": [
    "df2.Fonte_da_publicacao[10001]"
   ]
  },
  {
   "cell_type": "code",
   "execution_count": 27,
   "id": "c5e063b8",
   "metadata": {},
   "outputs": [
    {
     "data": {
      "text/plain": [
       "'PODER JUDICIÁRIOTribunal Regional Federal da 3ª Região10ª TurmaAPELAÇÃO CÍVEL (198) Nº 5273370-93.2020.4.03.9999RELATOR: Gab. 34 - DES. FED. BAPTISTA PEREIRAAPELANTE: INSTITUTO NACIONAL DO SEGURO SOCIAL - INSSAPELADO: PAULO RIBEIRO DAS DORESAdvogado do(a) APELADO: AIALA DELA CORT MENDES - SP261537-NOUTROS PARTICIPANTES: PODER JUDICIÁRIOTribunal Regional Federal da 3ª Região10ª Turma APELAÇÃO CÍVEL (198) Nº 5273370-93.2020.4.03.9999RELATOR: Gab. 34 - DES. FED. BAPTISTA PEREIRAAPELANTE: INSTITUTO NACIONAL DO SEGURO SOCIAL - INSS APELADO: PAULO RIBEIRO DAS DORESAdvogado do(a) APELADO: AIALA DELA CORT MENDES - SP261537-NOUTROS PARTICIPANTES: R E L A T Ó R I O Trata-se de remessa oficial, havida como submetida, e apelação interpostaem ação de conhecimento que tem por objeto a concessão da aposentadoria poridade a trabalhador rural.O MM. Juízo a quo julgou procedente o pedido, condenando o réu a conceder obenefício, no valor de um salário mínimo, a partir da data do requerimentoadministrativo (05/09/2017), pagar as prestações em atraso corrigidasmonetariamente e acrescidas de juros de mora, e honorários advocatíciosde 10% do valor da condenação, observado o disposto na Súmula 111 do STJ,isentando-o das custas.Em seu recurso o réu pleiteia a reforma da r. sentença.Com contrarrazões, subiram os autos.É o relatório. PODER JUDICIÁRIOTribunal Regional Federal da 3ª Região10ª Turma APELAÇÃO CÍVEL (198) Nº 5273370-93.2020.4.03.9999RELATOR: Gab. 34 - DES. FED. BAPTISTA PEREIRAAPELANTE: INSTITUTO NACIONAL DO SEGURO SOCIAL - INSS APELADO: PAULO RIBEIRO DAS DORESAdvogado do(a) APELADO: AIALA DELA CORT MENDES - SP261537-NOUTROS PARTICIPANTES: V O T O O benefício de aposentadoria por idade está previsto no Art. 48, da Lei nº8.213/91, que dispõe:\"Art. 48. A aposentadoria por idade será devida ao segurado que, cumprida acarência exigida nesta Lei, completar 65 (sessenta e cinco) anos de idade,se homem, e 60 (sessenta), se mulher.§ 1º Os limites fixados no caput são reduzidos para sessenta e cinqüenta ecinco anos no caso de trabalhadores rurais, respectivamente homens e mulheres,referidos na alínea a do inciso I, na alínea g do inciso V e nos incisos VIe VII do art. 11.§ 2º Para os efeitos do disposto no § 1o deste artigo, o trabalhador ruraldeve comprovar o efetivo exercício de atividade rural, ainda que de formadescontínua, no período imediatamente anterior ao requerimento do benefício,por tempo igual ao número de meses de contribuição correspondente à carênciado benefício pretendido, computado o período a que se referem os incisosIII a VIII do § 9º do art. 11 desta Lei.§ 3º Os trabalhadores rurais de que trata o § 1º deste artigo que não atendamao disposto no § 2o deste artigo, mas que satisfaçam essa condição, se foremconsiderados períodos de contribuição sob outras categorias do segurado,farão jus ao benefício ao completarem 65 (sessenta e cinco) anos de idade,se homem, e 60 (sessenta) anos, se mulher.\"A aposentadoria por idade, no caso de trabalhadores rurais, referidos naalínea a, do inciso I, na alínea g, do inciso V e nos incisos VI e VII,do Art. 11, da Lei 8.213/91, portanto, é devida ao segurado que, cumpridoo número de meses exigidos no Art. 143, da Lei 8.213/91, completar 60 anosde idade para homens e 55 para mulheres (Art. 48, § 1º).A regra de transição contida no Art. 143, retro citado, tem a seguinteredação: \"Art. 143. O trabalhador rural ora enquadrado como segurado obrigatório noRegime Geral de Previdência Social, na forma da alínea \"a\" do inciso I, ou doinciso IV ou VII do art. 11 desta Lei, pode requerer aposentadoria por idade,no valor de um salário mínimo, durante quinze anos, contados a partir da datade vigência desta Lei, desde que comprove o exercício de atividade rural,ainda que descontínua, no período imediatamente anterior ao requerimento dobenefício, em número de meses idêntico à carência do referido benefício.\"O período de 15 anos a que se refere o dispositivo retro citado exauriu-se,assim como as sucessivas prorrogações, em 31.12.2010, como disposto no Art. 2º,da Lei nº 11.718/08:\"Art. 2o Para o trabalhador rural empregado, o prazo previsto no art. 143da Lei no 8.213, de 24 de julho de 1991, fica prorrogado até o dia 31 dedezembro de 2010.\"Assim, a partir de 01.01.2011 há necessidade de recolhimento de contribuições,na forma estabelecida no Art. 3º, da Lei nº 11.718/08.Acresça-se que a Lei nº 11.718, de 20.06.08, acrescentou o Art. 14-A à Leinº 5.889/73, permitindo a contratação de trabalhador rural por pequeno prazo,sem registro em CTPS, mediante a sua inclusão, pelo empregador, na GFIP.Entretanto, importante frisar que as contribuições previdenciárias dostrabalhadores rurais diaristas, denominados de volantes ou bóia fria, são deresponsabilidade do empregador, cabendo à Secretaria da Receita Previdenciáriaa sua arrecadação e fiscalização.Nesse sentido a orientação desta Corte Regional:\"PREVIDENCIÁRIO - SALÁRIO-MATERNIDADE - RURAL - ATIVIDADE RURAL COMPROVADA -REQUISITOS PREENCHIDOS - CONSECTÁRIOS - APELAÇÃO DA PARTE AUTORA PROVIDA.Os rurícolas diaristas, conforme já pacificou a jurisprudência, sãoconsiderados segurados especiais, não sendo admissível excluí-los das normasprevidenciárias.Para fazer jus ao salário-maternidade, a trabalhadora rural qualificada como\"bóia-fria\", volante ou diarista necessita comprovar a sua atividade rural,incumbindo ao INSS as atribuições de fiscalizar e cobrar as contribuiçõesprevidenciárias de responsabilidade dos empregadores.Comprovado o efetivo exercício de atividade laborativa da parte autoranas lides rurais, nos últimos 10 meses imediatamente anteriores à datado parto ou do requerimento do benefício, mesmo que de forma descontínua,consoante exigido pelo parágrafo 2º do artigo 91 do Decreto nº 3.048/99,é de ser reconhecido o direito ao beneficio de salário-maternidade.O valor do salário-maternidade será no montante do 04 (quatro)salários-mínimos, vigentes na época do nascimento da filha da requerente.... \"omissis\".Apelação da parte autora provida.(AC 200203990244216, Desembargadora Federal LEIDE POLO, 7ª Turma, DJF3 CJ101/07/2009, p. 171); PREVIDÊNCIA SOCIAL E PROCESSUAL CIVIL. MATÉRIA PRELIMINARREJEITADA. SALÁRIO-MATERNIDADE DE RURÍCOLA. BÓIA-FRIA. INÍCIO DE PROVAMATERIAL CONJUGADA COM PROVA TESTEMUNHAL. ADMISSIBILIDADE. CONJUNTO PROBATÓRIOSUFICIENTE PARA OBTENÇÃO DO BENEFÍCIO. APELAÇÃO AUTÁRQUICA IMPROVIDA.- ... \"omissis\".- A trabalhadora rural qualificada como \"bóia-fria\" é considerada seguradaempregada, uma vez que executa serviços sob subordinação, de caráter nãoeventual e mediante remuneração, entendimento que o próprio INSS chancela.- Início de prova material corroborado por depoimentos testemunhais, os quaisrevelam a atividade rural da postulante no período que antecedeu o parto dafilha.- Salário-maternidade devido, no importe de um salário mínimo, por cento evinte dias, como na inicial se pediu.- ... \"omissis\".- ... \"omissis\".- ... \"omissis\".- Apelação improvida; sentença confirmada.(AC 200803990164855, Desembargadora Federal VERA JUCOVSKY, 8ª Turma, DJF307/10/2008);PREVIDENCIÁRIO. APOSENTADORIA POR INVALIDEZ. NÃO VINCULAÇÃO DO JUIZAO LAUDO PERICIAL. ART. 436 DO CPC. INCAPACIDADE TIDA COMO TOTAL,PERMANENTE E INSUSCETÍVEL DE REABILITAÇÃO OU READAPTAÇÃO. TRABALHADORRURÍCOLA. PREENCHIMENTO DOS REQUISITOS. COMPROVAÇÃO DO EXERCÍCIO DE ATIVIDADENO CAMPO POR MAIS DE 12 MESES. INÍCIO RAZOÁVEL DE PROVA MATERIAL. CERTIDÃODE CASAMENTO: MARIDO QUALIFICADO COMO LAVRADOR: EXTENSÃO À ESPOSA. NOTASFISCAIS DE PRODUTOR RURAL. PROVA TESTEMUNHAL \"BÓIA-FRIA\": EMPREGADO:COMPROVAÇÃO DO RECOLHIMENTO DE CONTRIBUIÇÕES: ÔNUS DO EMPREGADOR. SENTENÇAREFORMADA. BENEFÍCIO DEFERIDO. VALOR. DA RENDA MENSAL. TERMO INICIAL. CORREÇÃOMONETÁRIA. JUROS. HONORÁRIOS ADVOCATÍCIOS E PERICIAIS. TUTELA JURISDICIONALANTECIPADA DE OFÍCIO.I - ... \"omissis\".II - ... \"omissis\".III - ... \"omissis\".IV - Quanto ao cumprimento do período de carência e à condição de segurado daPrevidência Social, os trabalhadores rurais que exerçam atividade na qualidadede empregado, diarista, avulso ou segurado especial da Previdência Socialnão necessitam comprovar o recolhimento das contribuições previdenciárias,mas sim o exercício da atividade laboral no campo por período superior adoze meses (arts. 39, 48, § 2º, e 143 da Lei 8.213/91).V - Era entendimento antigo que a atividade do \"bóia-fria\" não caracterizariarelação de emprego formal, melhor se enquadrando às disposições do art. 11,V, da Lei nº 8.213/91 (contribuinte individual), obrigado a comprovar ascontribuições. Porém, como o próprio INSS, na regulamentação administrativaON2, de 11.3.94, artigo 5º, \"s\" e ON8, de 21.3.97, considera como empregadoo trabalhador volante (ou bóiafria), para fins de concessão de benefícioprevidenciário, deve ser assim considerado, razão pela qual não lhe cabecomprovar o recolhimento das contribuições previdenciárias, que constituiônus do empregador, cabendo-lhe, tão somente, a comprovação do exercício daatividade laboral no campo por período equivalente ao da carência exigidapor lei.VI - ... \"omissis\".VII - ... \"omissis\".VIII - ... \"omissis\".IX -... \"omissis\".X - ... \"omissis\".XI - ... \"omissis\".XII - ... \"omissis\".XIII - ... \"omissis\".XIV - ... \"omissis\".XV - Apelação parcialmente provida.XVI - ... \"omissis\".(AC 200161120041333, Desembargadora Federal MARISA SANTOS, 9ª Turma, DJU20/04/2005, p. 615.);PREVIDENCIÁRIO. PROCESSUAL CIVIL. AGRAVO. ART. 557, § 1º, DO CPC. PENSÃOPOR MORTE. TRABALHADOR RURAL. QUALIDADE DE SEGURADO COMPROVADA.I - O compulsar dos autos revela que há início de prova material daatividade rural desempenhada pelo de cujus, que corroborado pelos depoimentostestemunhais, demonstram a sua qualidade de segurado no momento do óbito.II - A regulamentação administrativa da própria autarquia previdenciária (ON2, de 11/3/1994, artigo 5º, item \"s\", com igual redação da ON 8, de 21/3/97)considera o trabalhador volante, ou bóiafria, como empregado.III - A responsabilidade pelo recolhimento das contribuições previdenciáriasrelativa à atividade rural exercida pelo de cujus, na condição de empregado,cabia aos seus empregadores, não podendo recair tal ônus sobre seusdependentes.IV - Agravo interposto pelo INSS, na forma do art. 557, §1º, do CPC,desprovido.(AC 200803990604685, Desembargador Federal SERGIO NASCIMENTO, 10ª Turma,DJF3 CJ1 17/03/2010, p. 2114); ePROCESSO CIVIL. PREVIDENCIÁRIO. REMESSA OFICIAL NÃO CONHECIDA. PRELIMINARESAFASTADAS. SALÁRIOMATERNIDADE.EMPREGADA RURAL. INÍCIO DE PROVA MATERIAL. PROVATESTEMUNHAL. SUCUMBÊNCIA. SENTENÇA REFORMADA EM PARTE. PROCEDÊNCIA DA AÇÃOMANTIDA.1. ... \"omissis\".2. ... \"omissis\".3. ... \"omissis\".4. ... \"omissis\".5. A autora, como trabalhadora volante ou bóia-fria, é considerada empregada,de modo que o recolhimento das contribuições previdenciárias cabe a seuempregador. Assim, na qualidade de segurada obrigatória, a sua filiaçãodecorre automaticamente do exercício de atividade remunerada abrangida peloRegime Geral de Previdência Social - RGPS. Aliás, a qualificação do bóia-friacomo empregado é dada pela própria autarquia previdenciária, a teor do queconsta da Instrução Normativa INSS/DC nº 118/2005 (inciso III do artigo 3º).6. Nos termos do artigo 55, § 3º, da Lei nº 8.213/91 e de acordo com ajurisprudência consubstanciada na Súmula 149 do Superior Tribunal de Justiça,é possível a comprovação do trabalho rural mediante a apresentação de iníciode prova documental, devendo esta ser complementada por prova testemunhal.7. Dos depoimentos testemunhais aliados à prova documental produzida nos autosé possível reconhecer o exercício de trabalho rural pela autora e, comprovadoo nascimento de sua filha, o benefício previdenciário de salário-maternidadehá de ser concedido, pelo período de 120 dias a contar da data do parto,no valor de um salário mínimo mensal.8. ... \"omissis\".9. ... \"omissis\".10. ... \"omissis\".11. Preliminares afastadas. Remessa oficial não conhecida. Apelação do INSSparcialmente provida. Ação procedente.(AC 200003990391915, Juiz Federal convocado ALEXANDRE SORMANI, TurmaSuplementar da 3ª Seção, DJF3 15/10/2008)\".Dessarte, os requisitos para a concessão da aposentadoria por idade aotrabalhador rural compreendem a idade e a comprovação de efetivo exercíciode atividade no campo.O e. Superior Tribunal de Justiça, no julgamento do recurso representativo dacontrovérsia, pacificou a questão no sentido da possibilidade do reconhecimentode trabalho rural anterior ao documento mais antigo juntado como início deprova material, conforme julgado abaixo transcrito:\"PREVIDENCIÁRIO. RECURSO ESPECIAL REPRESENTATIVO DA CONTROVÉRSIA. APOSENTADORIAPOR TEMPO DE SERVIÇO. ART. 55, § 3º, DA LEI 8.213/91. TEMPO DE SERVIÇORURAL. RECONHECIMENTO A PARTIR DO DOCUMENTO MAIS ANTIGO. DESNECESSIDADE. INÍCIODE PROVA MATERIAL CONJUGADO COM PROVA TESTEMUNHAL. PERÍODO DE ATIVIDADERURAL COINCIDENTE COM INÍCIO DE ATIVIDADE URBANA REGISTRADA EM CTPS. RECURSOPARCIALMENTE PROVIDO.1. A controvérsia cinge-se em saber sobre a possibilidade, ou não, dereconhecimento do período de trabalho rural anterior ao documento mais antigojuntado como início de prova material.2. De acordo com o art. 400 do Código de Processo Civil \"a prova testemunhalé sempre admissível, não dispondo a lei de modo diverso\". Por sua vez,a Lei de Benefícios, ao disciplinar a aposentadoria por tempo de serviço,expressamente estabelece no § 3º do art. 55 que a comprovação do tempo deserviço só produzirá efeito quando baseada em início de prova material,\"não sendo admitida prova exclusivamente testemunhal, salvo na ocorrênciade motivo de força maior ou caso fortuito, conforme disposto no Regulamento\"(Súmula 149/STJ).3. No âmbito desta Corte, é pacífico o entendimento de ser possível oreconhecimento do tempo de serviço mediante apresentação de um início deprova material, desde que corroborado por testemunhos idôneos. Precedentes.4. A Lei de Benefícios, ao exigir um \"início de prova material\", teve porpressuposto assegurar o direito à contagem do tempo de atividade exercidapor trabalhador rural em período anterior ao advento da Lei 8.213/91 levandoem conta as dificuldades deste, notadamente hipossuficiente.5. Ainda que inexista prova documental do período antecedente ao casamentodo segurado, ocorrido em 1974, os testemunhos colhidos em juízo, conformereconhecido pelas instâncias ordinárias, corroboraram a alegação da iniciale confirmaram o trabalho do autor desde 1967.6. No caso concreto, mostra-se necessário decotar, dos períodos reconhecidos nasentença, alguns poucos meses em função de os autos evidenciarem os registrosde contratos de trabalho urbano em datas que coincidem com o termo final dosinterregnos de labor como rurícola, não impedindo, contudo, o reconhecimento dodireito à aposentadoria por tempo de serviço, mormente por estar incontroversaa circunstância de que o autor cumpriu a carência devida no exercício deatividade urbana, conforme exige o inc. II do art. 25 da Lei 8.213/91.7. Os juros de mora devem incidir em 1% ao mês, a partir da citação válida,nos termos da Súmula n. 204/STJ, por se tratar de matéria previdenciária. E,a partir do advento da Lei 11.960/09, no percentual estabelecido para cadernetade poupança. Acórdão sujeito ao regime do art. 543-C do Código de ProcessoCivil.(STJ, REsp 1348633/SP, Rel. Ministro ARNALDO ESTEVES LIMA, PRIMEIRA SEÇÃO,julgado em 28/08/2013, DJe 05/12/2014)\".Ainda, como já decidido pela c. Corte Superior de Justiça, desnecessáriaa produção de prova material do período total reclamado, ou, no períodoimediatamente anterior ao requerimento do benefício:\"PROCESSUAL CIVIL E PREVIDENCIÁRIO. APOSENTADORIA RURAL PORIDADE. CARÊNCIA. NÃO COMPROVAÇÃO DO LABOR NO PERÍODO IMEDIATAMENTEANTERIOR AO REQUERIMENTO. INÍCIO DE PROVA MATERIAL AMPLIADO PORTESTEMUNHAL. INSUFICIÊNCIA. SÚMULA 7 DO STJ.1. Conforme estabelecido pelo Plenário do STJ, \"aos recursos interpostoscom fundamento no CPC/1973 (relativos a decisões publicadas até 17 de marçode 2016) devem ser exigidos os requisitos de admissibilidade na forma neleprevista, com as interpretações dadas até então pela jurisprudência doSuperior Tribunal de Justiça\" (Enunciado Administrativo n. 2).2. Nos termos dos arts. 48, § 1º, 55, § 3º, e 143 da Lei n. 8.213/1991,é devida a aposentadoria por idade ao trabalhador rural que completar 60anos de idade, se homem, e 55 anos, se mulher, desde que esteja demonstradoo exercício de atividade agrícola, por um início de prova material, aindaque de forma descontínua, no período imediatamente anterior ao requerimentodo benefício, em número de meses idêntico ao período de carência.3. Na esteira do REsp n. 1.348.633/SP, da Primeira Seção, para efeito dereconhecimento do labor agrícola, mostra-se desnecessário que o início deprova material seja contemporâneo a todo o período de carência exigido,desde que a eficácia daquele seja ampliada por prova testemunhal idônea.4. Caso em que a instância ordinária concluiu pela insuficiência das provascolhidas, porquanto subsistiram dúvidas acerca da alegada atividade rural,cuja inversão do julgado esbarra no óbice do verbete sumular 7 do STJ.5. Agravo interno desprovido.(AgInt no AREsp 938.333/MS, Rel. Ministro GURGEL DE FARIA, PRIMEIRA TURMA,julgado em 28/11/2017, DJe 07/02/2018);PREVIDENCIÁRIO. PROCESSUAL CIVIL. INEXISTÊNCIA DE VIOLAÇÃO DO ART. 535 DOCPC. PRESTAÇÃO JURISDICIONAL SUFICIENTE E FUNDAMENTADA. APOSENTADORIA. TEMPODE SERVIÇO RURAL. INÍCIO DE PROVA MATERIAL RECONHECIDO PELAS INSTÂNCIASORDINÁRIAS E AMPLIADO PELAS PROVAS TESTEMUNHAIS. CONJUNTO PROBATÓRIOHARMÔNICO. INCIDÊNCIA DA SÚMULA 83/STJ. REEXAME DE PROVAS. SÚMULA 7/STJ.1. O tempo de serviço rural pode ser comprovado mediante a produção deinício de prova material, complementada por prova testemunhal idônea - quandonecessária ao preenchimento de eventuais lacunas -, não sendo esta admitidaexclusivamente, a teor do disposto no art. 55, § 3º, da Lei 8.213/91 e naSúmula 149 do STJ.2. Não se exige prova documental plena da atividade rural em relação a todosos anos integrantes do período correspondente à carência, mas um documentoque, juntamente com a prova oral, criando um liame com a circunstância fáticaque se quer demonstrar, possibilite um juízo de valor seguro. Precedentes.3. Com base nas circunstâncias fáticas, o Tribunal de origem, ao apreciar aquestão, entendeu que a recorrida preencheu os requisitos para a concessão daaposentadoria por idade rural. Entender de modo diverso do consignado pelaCorte a quo exige o reexame de matéria fático-probatória, o que é vedadopela Súmula 7 do STJ. Agravo regimental improvido.(AgRg no AREsp 730.275/PR, Rel. Ministro HUMBERTO MARTINS, SEGUNDA TURMA,julgado em 25/08/2015, DJe 02/09/2015).\"Tecidas estas considerações, passo ao exame do caso concreto.O primeiro requisito encontra-se atendido, pois o autor, nascido em 30/07/1955,completou 60 anos em 2015, portanto, anteriormente à data do ajuizamento daação.Impõe-se verificar, se demonstrado, ou não, o trabalho rural de modo apreencher a carência exigida de 180 meses.Para comprovar o alegado exercício de atividade rural, o autor juntou aosautos as cópias de sua CTPS, na qual estão registrados os contratos detrabalho de natureza rural, firmados com Leandro Yukitoshi Shimabukuronos períodos de 01/09/1992 a 30/09/1994 e de 02/05/1996 a 21/05/1999, ecom Orlando Walter no período de 01/11/2015 a 31/01/2017; e o extrato deDeclaração de Aptidão ao Pronaf, emitido pela Secretaria de Agricultura eAbastecimento, em 07.12.2016, com informação de desativação em 19.06.2018,pelo motivo de abandono de atividade.A prova oral, como posto pelo douto Juízo sentenciante, corrobora a provamaterial apresentada quanto à atividade rural sem registro.Malgrado conste da CTPS em relação ao último registro do período de 01/11/2015a 31/07/2017, que o autor trabalhou como empregado doméstico, como posto peloJuízo sentenciante, restou esclarecido pelo empregador Orlando Walter em seudepoimento \"que registrou o autor em CTPS, mas o fez como doméstico, porquenão tinha CNPJ de agricultor, mas os trabalhos eram rurais, não domésticos.\".A prova testemunhal ampliou a eficácia probatória referente ao períodoexigido à concessão do benefício postulado.Nesse sentido:\"PREVIDENCIÁRIO. RECURSO ESPECIAL REPRESENTATIVO DA CONTROVÉRSIA. APOSENTADORIAPOR TEMPO DE SERVIÇO. ART. 55, § 3º, DA LEI 8.213/91. TEMPO DE SERVIÇORURAL. RECONHECIMENTO A PARTIR DO DOCUMENTO MAIS ANTIGO. DESNECESSIDADE. INÍCIODE PROVA MATERIAL CONJUGADO COM PROVA TESTEMUNHAL. PERÍODO DE ATIVIDADERURAL COINCIDENTE COM INÍCIO DE ATIVIDADE URBANA REGISTRADA EM CTPS. RECURSOPARCIALMENTE PROVIDO.1. A controvérsia cinge-se em saber sobre a possibilidade, ou não, dereconhecimento do período de trabalho rural anterior ao documento mais antigojuntado como início de prova material.2. De acordo com o art. 400 do Código de Processo Civil \"a prova testemunhalé sempre admissível, não dispondo a lei de modo diverso\". Por sua vez,a Lei de Benefícios, ao disciplinar a aposentadoria por tempo de serviço,expressamente estabelece no § 3º do art. 55 que a comprovação do tempo deserviço só produzirá efeito quando baseada em início de prova material,\"não sendo admitida prova exclusivamente testemunhal, salvo na ocorrênciade motivo de força maior ou caso fortuito, conforme disposto no Regulamento\"(Súmula 149/STJ).3. No âmbito desta Corte, é pacífico o entendimento de ser possível oreconhecimento do tempo de serviço mediante apresentação de um início deprova material, desde que corroborado por testemunhos idôneos. Precedentes.4. A Lei de Benefícios, ao exigir um \"início de prova material\", teve porpressuposto assegurar o direito à contagem do tempo de atividade exercidapor trabalhador rural em período anterior ao advento da Lei 8.213/91 levandoem conta as dificuldades deste, notadamente hipossuficiente.5. Ainda que inexista prova documental do período antecedente ao casamentodo segurado, ocorrido em 1974, os testemunhos colhidos em juízo, conformereconhecido pelas instâncias ordinárias, corroboraram a alegação da iniciale confirmaram o trabalho do autor desde 1967.6. No caso concreto, mostra-se necessário decotar, dos períodos reconhecidos nasentença, alguns poucos meses em função de os autos evidenciarem os registrosde contratos de trabalho urbano em datas que coincidem com o termo final dosinterregnos de labor como rurícola, não impedindo, contudo, o reconhecimento dodireito à aposentadoria por tempo de serviço, mormente por estar incontroversaa circunstância de que o autor cumpriu a carência devida no exercício deatividade urbana, conforme exige o inc. II do art. 25 da Lei 8.213/91.7. ... \"omissis\".(STJ, REsp 1348633/SP, Rel. Ministro ARNALDO ESTEVES LIMA, PRIMEIRA SEÇÃO,julgado em 28/08/2013, DJe 05/12/2014);AGRAVO REGIMENTAL. PREVIDENCIÁRIO. SALÁRIO MATERNIDADE. INÍCIO DE PROVAMATERIAL. QUALIFICAÇÃO DE LAVRADOR, CONSTANTE NA CERTIDÃO DE NASCIMENTODO FILHO, CORROBORADO POR PROVA TESTEMUNHAL. POSSIBILIDADE. REEXAME DEPROVAS. SÚMULA 7/STJ.1. Na esteira da sólida jurisprudência desta Corte, a qualificação profissionalde lavrador ou agricultor, constante dos assentamentos de registro civil,constitui indício aceitável de prova material do exercício da atividaderural, nos termos do art. 55, § 3º, da Lei nº 8.213/1991, podendo, inclusive,produzir efeitos para período de tempo anterior e posterior nele retratado,desde que a prova testemunhal amplie a eficácia probatória referente aoperíodo de carência legalmente exigido à concessão do benefício postulado.2. Tendo a Corte de origem concluído que as provas testemunhais e documentaisproduzidas nos autos foram suficientes para demonstrar a condição detrabalhadora rural da autora, a fim de conceder-lhe o benefício de saláriomaternidade, entender de modo diverso do consignado pelo Tribunal a quo comopropugnado, demandaria o reexame do conjunto fático-probatório, providênciasabidamente incompatível com a via estreita do recurso especial (Súmula nº7/STJ).3. Agravo regimental a que se nega provimento.(STJ, AgRg no AREsp 67.393/PI, Rel. Ministro MARCO AURÉLIO BELLIZZE, QUINTATURMA, julgado em 17/05/2012, DJe 08/06/2012)\"Como cediço, é de natureza descontínua a atividade rural, por isso mesmo outraqualquer atividade exercida pelo segurado em épocas de falta de colocaçãode mão-de-obra não desnatura a pretensão de exigir a concessão do benefício(Art. 9º, § 8º, III, do Decreto nº 3.048/99); nem, aliás, o exercício paraleloa descaracteriza, se compatíveis. Assim, como se vê dos autos, o conjunto probatório está apto a demonstrarque o autor efetivamente exerceu atividade rural no período correspondenteà carência exigida.Satisfeitos os requisitos, faz jus a autoria à percepção do benefício deaposentadoria por idade, segundo orientação dominante do Superior Tribunalde Justiça:\"PREVIDENCIÁRIO. APOSENTADORIA POR IDADE. TRABALHADOR RURAL. INÍCIO DE PROVAMATERIAL CORROBORADO POR PROVA TESTEMUNHAL.1. Para fins de aposentadoria por idade rural, não se exige que a provamaterial se refira a todo o período de carência, desde que haja provatestemunhal apta a ampliar a eficácia probatória dos documentos. Precedentes.2. Hipótese em que o agravado preencheu todos os requisitos para a concessãoda aposentadoria especial, ressaltando que a prova documental foi complementadapor prova testemunhal.Agravo regimental improvido.(AgRg no AREsp 204.219/CE, Rel. Ministro HUMBERTO MARTINS, SEGUNDA TURMA,julgado em 04/10/2012, DJe 16/10/2012) ePROCESSUAL CIVIL E PREVIDENCIÁRIO. AGRAVO REGIMENTAL NO AGRAVO EM RECURSOESPECIAL. APOSENTADORIA POR IDADE RURAL. PROVA DA CONDIÇÃO DE RURÍCOLA. REEXAMEDE MATÉRIA FÁTICA. IMPOSSIBIL IDADE. INCIDÊNCIA DA SÚMULA N. 7/STJ.1. Esta Corte Superior tem entendimento pacífico de que documentos comocertidões de casamento do segurado, de óbito de seu cônjuge, de nascimentode seus filhos, dentre outros, são considerados aptos para o início daprova material do trabalho rural, desde que corroborados por idônea provatestemunhal, o que ocorreu no caso dos autos. A revisão deste entendimento emsede de recurso especial requer a reapreciação do contexto fático-probatório,o que encontra óbice na Súmula 7/STJ. Nesse sentido: AgRg no AREsp 98754/GO,Rel. Ministro Teori Albino Zavascki, Primeira Turma, DJe 02/08/2012; AgRg noAREsp 191490/MG, Rel. Ministro Herman Benjamin, Segunda Turma, DJe 27/08/2012;AgRg no Ag 1410311/GO, Rel. Ministro Gilson Dipp, Quinta Turma, DJe 22/03/2012;AgRg no AREsp 47.907/MG, Rel. Ministro Sebastião Reis Júnior, Sexta Turma,DJe 28/03/2012.2. Agravo regimental não provido.(AgRg no AREsp 134.999/GO, Rel. Ministro BENEDITO GONÇALVES, PRIMEIRA TURMA,julgado em 02/10/2012, DJe 05/10/2012)\".O termo inicial do benefício deve ser mantido na data do requerimentoadministrativo (05/09/2017).Destarte, é de se manter a r. sentença quanto à matéria de fundo, devendoo réu conceder ao autor o benefício de aposentadoria por idade a partir de05/09/2017, e pagar as prestações vencidas, observada a prescrição quinquenal,corrigidas monetariamente e acrescidas de juros de mora.Aplica-se o disposto no Manual de Orientação de Procedimentos para os Cálculosna Justiça Federal no que tange aos índices de correção monetária e taxa dejuros de mora.Convém alertar que das prestações vencidas devem ser descontadas aquelas pagasadministrativamente ou por força de liminar, e insuscetíveis de cumulaçãocom o benefício concedido, na forma do Art. 124, da Lei nº 8.213/91.Os honorários advocatícios devem observar as disposições contidas no incisoII, do § 4º, do Art. 85, do CPC, e a Súmula 111, do e. STJ.A autarquia previdenciária está isenta das custas e emolumentos, nos termosdo Art. 4º, I, da Lei 9.289/96, do Art. 24-A da Lei 9.028/95, com a redaçãodada pelo Art. 3º da MP 2.180-35/01, e do Art. 8º, § 1º, da Lei 8.620/93. Ante o exposto, dou parcial provimento à remessa oficial, havida comosubmetida, para adequar os consectários legais e os honorários advocatícios,e nego provimento à apelação.É o voto. E M E N T A PREVIDENCIÁRIO. APOSENTADORIA POR IDADE. TRABALHADOR RURAL. INÍCIO DE PROVAMATERIAL CORROBORADO POR PROVA TESTEMUNHAL.1. A aposentadoria por idade, no caso de trabalhadores rurais, é devidaao segurado que, cumprido o número de meses exigidos no Art. 143, da Lei8.213/91, completar 60 anos de idade para homens e 55 para mulheres.2. Início de prova material corroborada por prova oral produzida em Juízo.3. Satisfeitos os requisitos, o autor faz jus ao benefício de aposentadoriapor idade.4. Aplica-se o disposto no Manual de Orientação de Procedimentos para osCálculos na Justiça Federal no que tange aos índices de correção monetáriae taxa de juros de mora.5. Os honorários advocatícios devem observar as disposições contidas noinciso II, do § 4º, do Art. 85, do CPC, e a Súmula 111, do e. STJ.6. A autarquia previdenciária está isenta das custas e emolumentos, nos termosdo Art. 4º, I, da Lei 9.289/96, do Art. 24-A da Lei 9.028/95, com a redaçãodada pelo Art. 3º da MP 2.180-35/01, e do Art. 8º, § 1º, da Lei 8.620/93.7. Remessa oficial, havida como submetida, provida em parte e apelaçãodesprovida. ACÓRDÃOVistos e relatados estes autos em que são partes as acima indicadas,a Décima Turma, por unanimidade, decidiu dar parcial provimento à remessaoficial, havida como submetida, e negar provimento à apelação, sendo queo Des. Fed. Nelson Porfírio e a Des. Fed. Leila Paiva ressalvaram seusentendimentos, nos termos do relatório e voto que ficam fazendo parteintegrante do presente julgado.'"
      ]
     },
     "execution_count": 27,
     "metadata": {},
     "output_type": "execute_result"
    }
   ],
   "source": [
    "df2.Ementa[2]"
   ]
  },
  {
   "cell_type": "code",
   "execution_count": 23,
   "id": "d5d4704a",
   "metadata": {},
   "outputs": [
    {
     "data": {
      "text/plain": [
       "'E M E N T A\\xa0RETRATAÇÃO. MANDADO DE SEGURANÇA. CONTRIBUIÇÕESPREVIDENCIÁRIAS. SALÁRIO-MATERNIDADE.1. Constou do acórdão proferido pela Turma: \"O Superior Tribunal de Justiçaassentou sua jurisprudência no sentido de que o salário-maternidade nãopossui natureza indenizatória, devendo integrar, destarte, o salário decontribuição.\"2. Contudo, o STF fixou entendimento em sentido contrário, conforme destacadopela Vice-Presidente. O Supremo Tribunal Federal, no julgamento do RE n.°576.967/PR, alçado como representativo de controvérsia (tema n.° 72) esubmetido à sistemática da repercussão geral (art. 1.036 do CPC), pacificouo seguinte entendimento: \"É inconstitucional a incidência da contribuiçãoprevidenciária a cargo do empregador sobre o salário maternidade\".3. Juízo positivo de retratação, passando o dispositivo do julgado a ter aseguinte redação quanto ao agravo legal da impetrante: PARCIAL PROVIMENTO aoagravo legal da impetrante para declarar a não incidência de contribuiçõesprevidenciárias sobre o salário-maternidade.'"
      ]
     },
     "execution_count": 23,
     "metadata": {},
     "output_type": "execute_result"
    }
   ],
   "source": [
    "df1.Fonte_da_publicacao[10000]"
   ]
  },
  {
   "cell_type": "code",
   "execution_count": 6,
   "id": "6cc7b9f1",
   "metadata": {},
   "outputs": [
    {
     "data": {
      "text/plain": [
       "'E M E N T A\\xa0RETRATAÇÃO. MANDADO DE SEGURANÇA. CONTRIBUIÇÕESPREVIDENCIÁRIAS. SALÁRIO-MATERNIDADE.1. Constou do acórdão proferido pela Turma: \"O Superior Tribunal de Justiçaassentou sua jurisprudência no sentido de que o salário-maternidade nãopossui natureza indenizatória, devendo integrar, destarte, o salário decontribuição.\"2. Contudo, o STF fixou entendimento em sentido contrário, conforme destacadopela Vice-Presidente. O Supremo Tribunal Federal, no julgamento do RE n.°576.967/PR, alçado como representativo de controvérsia (tema n.° 72) esubmetido à sistemática da repercussão geral (art. 1.036 do CPC), pacificouo seguinte entendimento: \"É inconstitucional a incidência da contribuiçãoprevidenciária a cargo do empregador sobre o salário maternidade\".3. Juízo positivo de retratação, passando o dispositivo do julgado a ter aseguinte redação quanto ao agravo legal da impetrante: PARCIAL PROVIMENTO aoagravo legal da impetrante para declarar a não incidência de contribuiçõesprevidenciárias sobre o salário-maternidade.'"
      ]
     },
     "execution_count": 6,
     "metadata": {},
     "output_type": "execute_result"
    }
   ],
   "source": [
    "df.Fonte_da_publicacao[10000]"
   ]
  },
  {
   "cell_type": "code",
   "execution_count": 7,
   "id": "85945add",
   "metadata": {},
   "outputs": [
    {
     "data": {
      "text/plain": [
       "'PODER JUDICIÁRIOTribunal Regional Federal da 3ª Região1ª TurmaAPELAÇÃO CÍVEL (198) Nº\\xa00008151-16.2012.4.03.6110RELATOR:\\xa0Gab. 02 - DES. FED. WILSON ZAUHYAPELANTE: MUNICIPIO DE ITU, UNIAO FEDERAL - FAZENDA NACIONALAdvogado do(a) APELANTE: ALECIO CASTELLUCCI FIGUEIREDO - SP188320-AAPELADO: MUNICIPIO DE ITU, UNIAO FEDERAL - FAZENDA NACIONALAdvogado do(a) APELADO: ALECIO CASTELLUCCI FIGUEIREDO - SP188320-AOUTROS PARTICIPANTES:\\xa0\\xa0\\xa0\\xa0\\xa0\\xa0PODER JUDICIÁRIOTribunal Regional Federal da 3ª Região1ª Turma\\xa0APELAÇÃO CÍVEL (198) Nº\\xa00008151-16.2012.4.03.6110RELATOR:\\xa0Gab. 02 - DES. FED. WILSON ZAUHYAPELANTE: MUNICIPIO DE ITU, UNIAO FEDERAL - FAZENDA NACIONALAdvogado do(a) APELANTE: ALECIO CASTELLUCCI FIGUEIREDO - SP188320-AAPELADO: MUNICIPIO DE ITU, UNIAO FEDERAL - FAZENDA NACIONALAdvogado do(a) APELADO: ALECIO CASTELLUCCI FIGUEIREDO - SP188320-AOUTROS PARTICIPANTES:\\xa0\\xa0\\xa0\\xa0\\xa0\\xa0R E L A T Ó R I O\\xa0Retornam da Vice-Presidência os presentes autos.Conforme consignado pela Vice-Presidente:\"Trata-se de Recurso Extraordinário interposto pelo Contribuinte, comfundamento no art. 102, III, \"a\", da Constituição Federal, contra acórdãoproferido por órgão fracionário deste E. Tribunal Regional Federal.Em seu recurso excepcional a recorrente alega, em síntese, que não incidecontribuição previdenciária sobre os valores despendidos a título desalário-maternidade, entre outras verbas.(...)O Supremo Tribunal Federal, no julgamento do RE n.° 576.9671PR, alçado comorepresentativo de controvérsia (tema n.° 72) e submetido à sistemática darepercussão geral (art. 1.036 do CPC), pacificou o seguinte entendimento:\"É inconstitucional a incidência da contribuição previdenciária a cargo doempregador sobre o salário maternidade\".(...)No caso concreto, o entendimento emanado do acórdão recorrido contrasta,em princípio, com o atual entendimento manifestado pelo Supremo TribunalFederal no acórdão paradigma acima mencionado.Em face do exposto, com fundamento no art. 1.040, II do Código de ProcessoCivil, encaminhem-se os autos à C. Turma Julgadora, para reexame dacontrovérsia à luz do paradigma citado e verificação da pertinência de seproceder a um juizo positivo de retratação na espécie.\"É o relatório.\\xa0\\xa0\\xa0\\xa0\\xa0\\xa0\\xa0\\xa0\\xa0PODER JUDICIÁRIOTribunal Regional Federal da 3ª Região1ª Turma\\xa0APELAÇÃO CÍVEL (198) Nº\\xa00008151-16.2012.4.03.6110RELATOR:\\xa0Gab. 02 - DES. FED. WILSON ZAUHYAPELANTE: MUNICIPIO DE ITU, UNIAO FEDERAL - FAZENDA NACIONALAdvogado do(a) APELANTE: ALECIO CASTELLUCCI FIGUEIREDO - SP188320-AAPELADO: MUNICIPIO DE ITU, UNIAO FEDERAL - FAZENDA NACIONALAdvogado do(a) APELADO: ALECIO CASTELLUCCI FIGUEIREDO - SP188320-AOUTROS PARTICIPANTES:\\xa0\\xa0\\xa0\\xa0\\xa0V O T O\\xa0\\xa0\\xa0Conforme constou do acórdão proferido pela Turma em 14 de abril de 2015:\"O STJ firmou entendimento no sentido de que as verbas pagas a títulode salário maternidade, (...) têm natureza salarial e, portanto, sofremincidência de contribuição previdenciária. (...) Agravos improvidos.\"\\xa0Contudo, o STF fixou entendimento em sentido contrário, conforme destacadopela Vice-Presidente.\\xa0Conforme constou do relatório do acórdão que apreciou os agravos legais(fls. 440 dos autos físicos):\"Trata-se de agravo legal de fls. 387/429 interposto pelo Município de Itue outro agravo legal de fls. 431/437v interposto pela União Federal contraa decisão proferida por este Relator às fls. 374/386 que, nos termos doart. 557, do CPC, negou seguimento às apelações da impetrante e da União edeu provimento à remessa oficial.A r. sentença concedeu em parte a segurança. Apelaram ambas as partes. (...)Em suas razões de inconformismo o impetrante alega que não incide contribuiçãoprevidenciária sobre verbas pagas a título de férias gozadas, saláriomaternidade e 13° salário.A União Federal alega que incide contribuição previdenciária sobregratificações eventuais, visto que integram o salário-contribuição, nãopossuindo caráter indenizatório.\"\\xa0Ante o exposto, exerço juízo positivo de retratação, passando o dispositivodo julgado a ter a seguinte redação quanto ao agravo legal da impetrante:DOU PARCIAL PROVIMENTO ao agravo legal da impetrante para declarar a nãoincidência de contribuições previdenciárias sobre o salário-maternidade.É o voto.\\xa0\\xa0\\xa0\\xa0\\xa0\\xa0\\xa0\\xa0\\xa0E M E N T A\\xa0RETRATAÇÃO. MANDADO DE SEGURANÇA. CONTRIBUIÇÕESPREVIDENCIÁRIAS. SALÁRIO-MATERNIDADE.1. Constou do acórdão proferido pela Turma: \"O STJ firmou entendimentono sentido de que as verbas pagas a título de salário maternidade,(...) têm natureza salarial e, portanto, sofrem incidência de contribuiçãoprevidenciária.\"2. Contudo, o STF fixou entendimento em sentido contrário, conforme destacadopela Vice-Presidente. O Supremo Tribunal Federal, no julgamento do RE n.°576.9671PR, alçado como representativo de controvérsia (tema n.° 72) esubmetido à sistemática da repercussão geral (art. 1.036 do CPC), pacificouo seguinte entendimento: \"É inconstitucional a incidência da contribuiçãoprevidenciária a cargo do empregador sobre o salário maternidade\".3. Juízo positivo de retratação, passando o dispositivo do julgado a ter aseguinte redação quanto ao agravo legal da impetrante: PARCIAL PROVIMENTO aoagravo legal da impetrante para declarar a não incidência de contribuiçõesprevidenciárias sobre o salário-maternidade.\\xa0 ACÓRDÃOVistos        e relatados estes autos em que são partes as acima indicadas,a Primeira Turma, por unanimidade,  exerceu juízo positivo de retratação,passando o dispositivo do julgado a ter a seguinte redação quanto ao agravolegal da impetrante: DOU PARCIAL PROVIMENTO ao agravo legal da impetrantepara declarar a não incidência de contribuições previdenciárias sobre osalário-maternidade, nos termos do relatório e voto  que       ficam fazendoparte integrante do presente julgado.'"
      ]
     },
     "execution_count": 7,
     "metadata": {},
     "output_type": "execute_result"
    }
   ],
   "source": [
    "df.Ementa[1000]"
   ]
  },
  {
   "cell_type": "code",
   "execution_count": 10,
   "id": "7b6af51b",
   "metadata": {},
   "outputs": [
    {
     "data": {
      "text/plain": [
       "'10ª Turma'"
      ]
     },
     "execution_count": 10,
     "metadata": {},
     "output_type": "execute_result"
    }
   ],
   "source": [
    "df3['Origem'][1000]"
   ]
  },
  {
   "cell_type": "code",
   "execution_count": 14,
   "id": "582abdb5",
   "metadata": {},
   "outputs": [],
   "source": [
    "df3['Fonte_da_publicacao'] = df3['Fonte_da_publicacao'].apply(remove_excess_spaces)#remove espaços, a função está a abaixo (executa-las antes de chamá-la)\n",
    "df3['Fonte_da_publicacao'] = df3['Fonte_da_publicacao'].str.replace('\\xa0', ' ')"
   ]
  },
  {
   "cell_type": "code",
   "execution_count": 15,
   "id": "2b4d6245",
   "metadata": {},
   "outputs": [],
   "source": [
    "df3['Ementa'] = df3['Ementa'].apply(remove_excess_spaces)#remove espaços, a função está a abaixo (executa-las antes de chamá-la)\n",
    "df3['Ementa'] = df3['Ementa'].str.replace('\\xa0', ' ')"
   ]
  },
  {
   "cell_type": "code",
   "execution_count": 17,
   "id": "a36d728b",
   "metadata": {},
   "outputs": [],
   "source": [
    "df3['text'] = df3['Origem']+ \", Ementa: \"+df3['Ementa']+\", \"+df3['Fonte_da_publicacao']"
   ]
  },
  {
   "cell_type": "code",
   "execution_count": 18,
   "id": "a4dedbd2",
   "metadata": {},
   "outputs": [
    {
     "data": {
      "text/plain": [
       "'10ª Turma, Ementa: PODER JUDICIÁRIOTribunal Regional Federal da 3ª Região10ª TurmaAPELAÇÃO CÍVEL (198) Nº 5268764-22.2020.4.03.9999RELATOR: Gab. 34 - DES. FED. BAPTISTA PEREIRAAPELANTE: INSTITUTO NACIONAL DO SEGURO SOCIAL - INSSAPELADO: ANALIA PIRES MUNHOZAdvogado do(a) APELADO: CRISTIANO ALEX MARTINS ROMEIRO - SP251787-NOUTROS PARTICIPANTES: PODER JUDICIÁRIOTribunal Regional Federal da 3ª Região10ª Turma APELAÇÃO CÍVEL (198) Nº 5268764-22.2020.4.03.9999RELATOR: Gab. 34 - DES. FED. BAPTISTA PEREIRAAPELANTE: INSTITUTO NACIONAL DO SEGURO SOCIAL - INSS APELADO: ANALIA PIRES MUNHOZAdvogado do(a) APELADO: CRISTIANO ALEX MARTINS ROMEIRO - SP251787-NOUTROS PARTICIPANTES: R E L A T Ó R I O Trata-se de remessa oficial, havida como submetida, eapelação interposta em ação de conhecimento, que tem por objeto a concessãoda aposentadoria por idade, nos termos da Lei nº 11.718/08, mediante oreconhecimento da atividade rural desenvolvida no período de 20.02.1978 a09.07.1991, para compor a carência. O MM. Juízo a quo julgou procedente o pedido, condenando o réu a concedero benefício, desde a data do requerimento administrativo (26.03.2018), pagar asprestações em atraso acrescidas de correção monetária e com juros de mora, bemcomo honorários advocatícios fixados em 10% sobre o valor da condenação. Em seu recurso o réu pleiteia a reforma da r. sentença. Caso assimnão se entenda, requer a redução dos honorários advocatícios. Prequestionaa matéria para fins recursais. Com contrarrazões, subiram os autos. É o relatório. PODER JUDICIÁRIOTribunal Regional Federal da 3ª Região10ª Turma APELAÇÃO CÍVEL (198) Nº 5268764-22.2020.4.03.9999RELATOR: Gab. 34 - DES. FED. BAPTISTA PEREIRAAPELANTE: INSTITUTO NACIONAL DO SEGURO SOCIAL - INSS APELADO: ANALIA PIRES MUNHOZAdvogado do(a) APELADO: CRISTIANO ALEX MARTINS ROMEIRO - SP251787-NOUTROS PARTICIPANTES: V O T O O benefício de aposentadoria por idade está previsto no Art. 48, da Lei nº8.213/91, que dispõe:\"Art. 48. A aposentadoria por idade será devida ao segurado que, cumprida acarência exigida nesta Lei, completar 65 (sessenta e cinco) anos de idade,se homem, e 60 (sessenta), se mulher.§ 1º Os limites fixados no caput são reduzidos para sessenta e cinqüenta ecinco anos no caso de trabalhadores rurais, respectivamente homens e mulheres,referidos na alínea a do inciso I, na alínea g do inciso V e nos incisos VIe VII do art. 11.§ 2º Para os efeitos do disposto no § 1º deste artigo, o trabalhador ruraldeve comprovar o efetivo exercício de atividade rural, ainda que de formadescontínua, no período imediatamente anterior ao requerimento do benefício,por tempo igual ao número de meses de contribuição correspondente à carênciado benefício pretendido, computado o período a que se referem os incisosIII a VIII do § 9º do art. 11 desta Lei.§ 3o Os trabalhadores rurais de que trata o § 1º deste artigo que não atendamao disposto no § 2º deste artigo, mas que satisfaçam essa condição, se foremconsiderados períodos de contribuição sob outras categorias do segurado,farão jus ao benefício ao completar em 65 (sessenta e cinco) anos de idade,se homem, e 60 (sessenta) anos, se mulher.\"A regra de transição contida no Art. 143 que tem a seguinte redação:\"Art. 143. O trabalhador rural ora enquadrado como segurado obrigatório noRegime Geral de Previdência Social, na forma da alínea \"a\" do inciso I, ou doinciso IV ou VII do art. 11 desta Lei, pode requerer aposentadoria por idade,no valor de um salário mínimo, durante quinze anos, contados a partir da datade vigência desta Lei, desde que comprove o exercício de atividade rural,ainda que descontínua, no período imediatamente anterior ao requerimento dobenefício, em número de meses idêntico à carência do referido benefício.\"O período de 15 anos a que se refere o dispositivo retro citado exauriu-se,assim como as sucessivas prorrogações, em 31.12.2010, como disposto no Art. 2º,da Lei nº 11.718/08:\"Art. 2o Para o trabalhador rural empregado, o prazo previsto no art. 143da Lei no 8.213, de 24 de julho de 1991, fica prorrogado até o dia 31 dedezembro de 2010.\"Assim, a partir de 01.01.2011 há necessidade de recolhimento de contribuições,na forma estabelecida no Art. 3º, da Lei nº 11.718/08.Acresça-se que a Lei nº 11.718, de 20.06.08, acrescentou o Art. 14-A à Leinº 5.889/73, permitindo a contratação de trabalhador rural por pequeno prazo,sem registro em CTPS, mediante a sua inclusão, pelo empregador, na GFIP.Entretanto, importante frisar que as contribuições previdenciárias dostrabalhadores rurais diaristas, denominados de volantes ou boia-fria,são de responsabilidade do empregador, cabendo à Secretaria da ReceitaPrevidenciária a sua arrecadação e fiscalização. Precedentes desta CorteRegional: AC 200203990244216, 7ª Turma; AC 200803990164855, 8ª Turma; AC200161120041333, 9ª Turma e AC 200803990604685, 10ª Turma.A alteração legislativa trazida pela Lei 11.718, de 20.06.2008, que introduziuo §§3 e 4º ao Art. 48 da Lei 8.213/91, passou a permitir a concessão deaposentadoria por idade àqueles segurados que, embora inicialmente rurícolas,passaram a exercer outras atividades e tenha idade mínima de 60 anos (mulher)e 65 anos (homem). Tecidas estas considerações, passo ao exame do caso concreto.A autora pretende a percepção do benefício de aposentadoria por idade nostermos da Lei nº 11.718/08, mediante o reconhecimento da atividade ruraldesenvolvida sem registro para acrescer aos períodos laborados formalmentecom vínculo anotados em sua CTPS/CNIS, para compor a carência. O primeiro requisito encontra-se atendido, pois a autora, nascida em16.12.1978, completou 60 anos no ano de 2017, anteriormente à data doajuizamento da ação.Impõe-se verificar, se demonstrado, ou não, a carência exigida de 180 meses.Para comprovar o alegado exercício da atividade rural, a autora instruiua petição inicial com cópia da certidão de seu casamento com José TomazMunhoz, celebrado em 24.01.1976, na qual não consta a ocupação laboral dosnubentes; de sua CTPS, na qual constam registros de contratos de trabalho,exercidos como rurícola no período descontínuo de 29.05.1972 a 26.09.1991;da certidão de nascimento de seu filho, nascido em 29.05.1979, na qual ogenitor está qualificado como lavrador; e do documento Extrato Resumo deDocumentos para Cálculo de Tempo de Contribuição, NB nº 41/177.445.394-8,emitido por ocasião do pleito administrativo com DER em 26.03.2018. Como se vê, a autora não se arrima somente na condição de lavrador de seumarido para comprovar o exercício da atividade rural, tendo apresentado tambémdocumento em nome próprio, qual seja, a sua CTPS, que constitui prova plena,nos termos do Art. 106, da Lei 8.213/91.De sua vez, a prova oral como posto pelo douto Juízo sentenciante, corroboraa prova material apresentada. Comprovado que se acha, é de ser averbado no cadastro da autora,independentemente do recolhimento das contribuições e, tão só, para finsde aposentação por idade pelo Regime Geral da Previdência Social - RGPS,o serviço rural no período de 20.02.1978 a 09.06.1991, não concomitante aojá reconhecido pelo INSS.Como se vê do documento Extrato Resumo de Documentos para Cálculo de Tempode Contribuição, emitido por ocasião do pleito administrativo, consta oreconhecimento de 130 meses de carência contributiva vertida ao RGPS.Somados o tempo de trabalho rural ora reconhecido e as contribuições vertidasao RGPS, cumpre a autora a carência necessária de 180 meses.Como já dito, a Lei nº 11.718/2008, ao alterar o Art. 48, da Lei possibilitouao segurado o direito à aposentadoria por idade, mediante a soma dos lapsostemporais de trabalho rural com o urbano.Nesse passo, tendo a autora tendo completado 60 anos de idade em 26.03.2018,atende também o requisito etário, fazendo jus ao benefício de aposentadoriapor idade, contemplada no Art. 48, caput, da Lei 8.213/91. Nesse sentido decidiu o e. Superior Tribunal de Justiça ao julgar o REsp1674221/SP, submetido ao rito dos recursos repetitivos:\"PREVIDENCIÁRIO. APOSENTADORIA RURAL POR IDADE. REQUISITOS:IDADE E COMPROVAÇÃO DA ATIVIDADE AGRÍCOLA NO PERÍODO IMEDIATAMENTEANTERIOR AO REQUERIMENTO. ARTS. 26, I, 39, I, E 143, TODOS DA LEIN. 8.213/1991. DISSOCIAÇÃO PREVISTA NO § 1º DO ART. 3º DA LEI N. 10.666/2003DIRIGIDA AOS TRABALHADORES URBANOS. PRECEDENTE DA TERCEIRA SEÇÃO.1. A Lei n. 8.213/1991, ao regulamentar o disposto no inc. I do art. 202 daredação original de nossa Carta Política, assegurou ao trabalhador ruraldenominado segurado especial o direito à aposentadoria quando atingida aidade de 60 anos, se homem, e 55 anos, se mulher (art. 48, § 1º).2. Os rurícolas em atividade por ocasião da Lei de Benefícios, em 24 de julhode 1991, foram dispensados do recolhimento das contribuições relativas aoexercício do trabalho no campo, substituindo a carência pela comprovação doefetivo desempenho do labor agrícola (arts. 26, I e 39, I).3. Se ao alcançar a faixa etária exigida no art. 48, § 1º, da Lei n. 8.213/91,o segurado especial deixar de exercer atividade como rurícola sem ter atendidoa regra de carência, não fará jus à aposentação rural pelo descumprimento deum dos dois únicos critérios legalmente previstos para a aquisição do direito.4. Caso os trabalhadores rurais não atendam à carência na forma especificadapelo art. 143, mas satisfaçam essa condição mediante o cômputo de períodosde contribuição em outras categorias, farão jus ao benefício ao completarem65 anos de idade, se homem, e 60 anos, se mulher, conforme preceitua o § 3ºdo art. 48 da Lei de Benefícios, incluído pela Lei nº 11.718, de 2008.5. Não se mostra possível conjugar de modo favorável ao trabalhador rural anorma do § 1º do art. 3º da Lei n. 10.666/2003, que permitiu a dissociação dacomprovação dos requisitos para os benefícios que especificou: aposentadoriapor contribuição, especial e por idade urbana, os quais pressupõemcontribuição.6. Incidente de uniformização desprovido.(Pet 7.476/PR, Rel. Ministro NAPOLEÃO NUNES MAIA FILHO, Rel. p/ AcórdãoMinistro JORGE MUSSI, TERCEIRA SEÇÃO, julgado em 13/12/2010, DJe 25/04/2011);PREVIDENCIÁRIO. APOSENTADORIA HÍBRIDA POR IDADE. ART. 48, § 3º,DA LEI N. 8213/91. EXEGESE. MESCLA DOS PERÍODOS DE TRABALHO URBANOE RURAL. EXERCÍCIO DE ATIVIDADE RURAL NO MOMENTO QUE ANTECEDE OREQUERIMENTO. DESNECESSIDADE. CÔMPUTO DO TEMPO DE SERVIÇO RURAL ANTERIOR ÀVIGÊNCIA DA LEI N. 8.213/91 PARA FINS DE CARÊNCIA. POSSIBILIDADE.1. A Lei 11.718/2008, ao alterar o art. 48 da Lei 8.213/91, conferiu aosegurado o direito à aposentadoria híbrida por idade, possibilitando que,na apuração do tempo de serviço, seja realizada a soma dos lapsos temporaisde trabalho rural com o urbano.2. Para fins do aludido benefício, em que é considerado no cálculo tanto otempo de serviço urbano quanto o de serviço rural, é irrelevante a naturezado trabalho exercido no momento anterior ao requerimento da aposentadoria.3. O tempo de serviço rural anterior ao advento da Lei n. 8.213/91 podeser computado para fins da carência necessária à obtenção da aposentadoriahíbrida por idade, ainda que não tenha sido efetivado o recolhimento dascontribuições.4. O cálculo do benefício ocorrerá na forma do disposto no inciso IIdo caput do art. 29 da Lei n. 8.213/91, sendo que, nas competências emque foi exercido o labor rurícola sem o recolhimento de contribuições,o valor a integrar o período básico de cálculo - PBC será o limite mínimode salário-de-contribuição da Previdência Social.5. A idade mínima para essa modalidade de benefício é a mesma exigida paraa aposentadoria do trabalhador urbano, ou seja, 65 anos para o homem e 60anos para a mulher, portanto, sem a redução de 5 anos a que faria jus otrabalhador exclusivamente rurícola.6. Recurso especial improvido.(REsp 1476383/PR, Rel. Ministro SÉRGIO KUKINA, PRIMEIRA TURMA, julgado em01/10/2015, DJe 08/10/2015);PROCESSUAL CIVIL E PREVIDENCIÁRIO. RECURSO ESPECIAL. APOSENTADORIA PORIDADE HÍBRIDA. VIOLAÇÃO DO ARTIGO 535 DO CPC. NÃO CARACTERIZAÇÃO. JULGAMENTOEXTRA PETITA. NÃO OCORRÊNCIA. ARTIGO 48, §§ 3º E 4º DA LEI 8.213/1991, COMA REDAÇÃO DADA PELA LEI 11.718/2008. OBSERVÂNCIA. RECURSO ESPECIAL CONHECIDOE NÃO PROVIDO.1. A Lei 11.718/2008 introduziu no sistema previdenciário brasileiro umanova modalidade de aposentadoria por idade denominada aposentadoria poridade híbrida.2. Neste caso, permite-se ao segurado mesclar o período urbano ao períodorural e vice-versa, para implementar a carência mínima necessária e obtero benefício etário híbrido.3. Não atendendo o segurado rural à regra básica para aposentadoria ruralpor idade com comprovação de atividade rural, segundo a regra de transiçãoprevista no artigo 142 da Lei 8.213/1991, o § 3º do artigo 48 da Lei8.213/1991, introduzido pela Lei 11.718/2008, permite que aos 65 anos, sehomem e 60 anos, mulher, o segurado preencha o período de carência faltantecom períodos de contribuição de outra qualidade de segurado, calculando-seo benefício de acordo com o § 4º do artigo 48.4. Considerando que a intenção do legislador foi a de permitir aostrabalhadores rurais, que se enquadrem nas categorias de seguradoempregado, contribuinte individual, trabalhador avulso e segurado especial,o aproveitamento do tempo rural mesclado ao tempo urbano, preenchendo inclusivecarência, o direito à aposentadoria por idade híbrida deve ser reconhecido.5. Recurso especial conhecido e não provido.(STJ, REsp 1367479/RS, Rel. Ministro MAURO CAMPBELL MARQUES, SEGUNDA TURMA,julgado em 04/09/2014, DJe 10/09/2014)\".O termo inicial do benefício deve ser mantido na data do requerimentoadministrativo (26.03.2018), e, para o cálculo da renda mensal inicial dobenefício (RMI), à hipótese dos autos, deverá ser observado o que dispõemos Art. 28, 29, 33 e 50, da Lei 8.213/91.Destarte, é de se manter a r. sentença quanto a matéria de fundo, devendoo réu conceder à autora o benefício de aposentadoria por idade a partirde 26.03.2018, e pagar as prestações vencidas, corrigidas monetariamente eacrescidas de juros de mora.Aplica-se o disposto no Manual de Orientação de Procedimentos para os Cálculosna Justiça Federal no que tange aos índices de correção monetária e taxa dejuros de mora.Convém alertar que das prestações vencidas devem ser descontadas aquelas pagasadministrativamente ou por força de liminar, e insuscetíveis de cumulaçãocom o benefício concedido, na forma do Art. 124, da Lei nº 8.213/91.Os honorários advocatícios devem observar as disposições contidas no incisoII, do § 4º, do Art. 85, do CPC, e a Súmula 111, do e. STJ.A autarquia previdenciária está isenta das custas e emolumentos, nos termosdo Art. 4º, I, da Lei 9.289/96, do Art. 24-A da Lei 9.028/95, com a redaçãodada pelo Art. 3º da MP 2.180-35/01, e do Art. 8º, § 1º, da Lei 8.620/93.Por fim, quanto ao prequestionamento da matéria para fins recursais, nãohá afronta a dispositivos legais e constitucionais, porquanto o recurso foianalisado em todos os seus aspectos.Ante o exposto, dou parcial provimento à remessa oficial, havida comosubmetida, e à apelação para adequar os consectários legais e os honoráriosadvocatícios.É o voto E M E N T A PREVIDENCIÁRIO. APOSENTADORIA POR IDADE. TRABALHADORA RURAL. BENEFÍCIO DEVIDONOS TERMOS DO § 3º, DO ART. 48, DA LEI Nº 8.213/91.1. A Lei nº 11.718/2008, ao alterar o Art. 48, da Lei nº 8.213/91, possibilitouao segurado o direito à aposentadoria por idade, mediante a soma dos lapsostemporais de trabalho rural com o urbano.2. Tempo de serviço rural comprovado mediante apresentação de início deprova material corroborada por idônea prova testemunhal.3. Tendo a autora completado 60 anos e cumprido a carência com a soma dotempo de serviço rural reconhecido e das contribuições vertidas ao RGPS,faz jus ao benefício de aposentadoria por idade.4. Aplica-se o disposto no Manual de Orientação de Procedimentos para osCálculos na Justiça Federal no que tange aos índices de correção monetáriae taxa de juros de mora.5. Os honorários advocatícios devem observar as disposições contidas noinciso II, do § 4º, do Art. 85, do CPC, e a Súmula 111, do e. STJ.6. A autarquia previdenciária está isenta das custas e emolumentos, nos termosdo Art. 4º, I, da Lei 9.289/96, do Art. 24-A da Lei 9.028/95, com a redaçãodada pelo Art. 3º da MP 2.180-35/01, e do Art. 8º, § 1º, da Lei 8.620/93.7. Remessa oficial, havida como submetida, e apelação providas em parte. ACÓRDÃOVistos e relatados estes autos em que são partes as acima indicadas,a Décima Turma, por unanimidade, decidiu dar parcial provimento à remessaoficial, havida como submetida, e à apelação, sendo que o Des. Fed. NelsonPorfírio e a Des. Fed. Leila Paiva ressalvaram seus entendimentos, nostermos do relatório e voto que ficam fazendo parte integrante dopresente julgado., E M E N T A PREVIDENCIÁRIO. APOSENTADORIA POR IDADE. TRABALHADORA RURAL. BENEFÍCIO DEVIDONOS TERMOS DO § 3º, DO ART. 48, DA LEI Nº 8.213/91.1. A Lei nº 11.718/2008, ao alterar o Art. 48, da Lei nº 8.213/91, possibilitouao segurado o direito à aposentadoria por idade, mediante a soma dos lapsostemporais de trabalho rural com o urbano.2. Tempo de serviço rural comprovado mediante apresentação de início deprova material corroborada por idônea prova testemunhal.3. Tendo a autora completado 60 anos e cumprido a carência com a soma dotempo de serviço rural reconhecido e das contribuições vertidas ao RGPS,faz jus ao benefício de aposentadoria por idade.4. Aplica-se o disposto no Manual de Orientação de Procedimentos para osCálculos na Justiça Federal no que tange aos índices de correção monetáriae taxa de juros de mora.5. Os honorários advocatícios devem observar as disposições contidas noinciso II, do § 4º, do Art. 85, do CPC, e a Súmula 111, do e. STJ.6. A autarquia previdenciária está isenta das custas e emolumentos, nos termosdo Art. 4º, I, da Lei 9.289/96, do Art. 24-A da Lei 9.028/95, com a redaçãodada pelo Art. 3º da MP 2.180-35/01, e do Art. 8º, § 1º, da Lei 8.620/93.7. Remessa oficial, havida como submetida, e apelação providas em parte.'"
      ]
     },
     "execution_count": 18,
     "metadata": {},
     "output_type": "execute_result"
    }
   ],
   "source": [
    "df3.text[5]"
   ]
  },
  {
   "cell_type": "code",
   "execution_count": null,
   "id": "9e75b292",
   "metadata": {},
   "outputs": [],
   "source": [
    "..."
   ]
  },
  {
   "cell_type": "code",
   "execution_count": 11,
   "id": "b049f3f2",
   "metadata": {},
   "outputs": [],
   "source": [
    "# Ajuste os caracteres \"\\n\" para justificar\n",
    "df['text'] = df['text'].str.replace('\\n', ' ')\n",
    "df['text'] = df['text'].str.replace('\\\\n', ' ')\n"
   ]
  },
  {
   "cell_type": "code",
   "execution_count": null,
   "id": "bc08e0da",
   "metadata": {},
   "outputs": [],
   "source": [
    "df['text'] = df['text'].str.replace('\\xa0', ' ')"
   ]
  },
  {
   "cell_type": "code",
   "execution_count": 15,
   "id": "db9b9998",
   "metadata": {},
   "outputs": [
    {
     "data": {
      "text/plain": [
       "'Em 19/09/2022, No TRF - TERCEIRA REGIÃO, Ementa: E M E N T APROCESSO CIVIL. EMBARGOS DE DECLARAÇÃO. OMISSÃO APENAS NO TEXTO DOACÓRDÃO. APELAÇÃO DA UNIÃO FEDERAL E REMESSA OFICIAL PARCIALMENTE PROVIDASPARA ASSEGURAR A INCLUSÃO DO PIS E COFINS NAS PRÓPRIAS BASES. EMBARGOS DEDECLARAÇÃO PARCIALMENTE ACOLHIDOS APENAS PARA SANAR ERRO MATERIAL.- Os embargos de declaração, a teor do disposto no art. 1.022 do CPC, somentetêm cabimento nos casos de obscuridade ou contradição (inc. I), de omissão(inc. II) e de erro material (inc. III).- No caso em tela, constou do voto da Relatora (e do dispositivo de tal voto -id. 210070910), bem como da ementa (id. 254016224) o parcial provimento daapelação da União Federal para assegurar a inclusão do PIS e COFINS sobreas suas próprias de cálculo.- Todavia, o acórdão nada mencionou a esse respeito, de modo que deveser sanada a omissão contido passando a constar do referido acórdão(id. 254016223): \" Vistos e relatados estes autos em que são partes as acimaindicadas, a Quarta Turma, à unanimidade, decidiu dar parcial provimentoà apelação da impetrante para reconhecer a prescrição quinquenal no quese refere à exclusão do ISS das bases de cálculo do PIS e da COFINS edar parcial provimento à apelação da União Federal e à remessa oficial notocante a assegurar a inclusão do PIS e da COFINS sobre suas próprias bases decálculo (cálculo por dentro), nos termos do voto da Des. Fed. MARLI FERREIRA(Relatora), com quem votaram a Des. Fed. MÔNICA NOBRE e o Des. Fed. MARCELOSARAIVA. E, por maioria, decidiu dar parcial provimento à apelação da UniãoFederal e à remessa oficial, em menor extensão, apenas para restringira restituição/compensação do ICMS aqui pretendida ao limite temporal de15/03/2017 nos termos do julgamento do RE 574.706/PR, mantendo incólumesa restituição/compensação autorizadas pela sentença, sem restrição quanto arequerê-las administrativamente, nos termos do voto da Des. Fed. MÔNICA NOBRE,com quem votaram o Des. Fed. MARCELO SARAIVA, o Juiz Fed. Conv. MARCELOGUERRA e o Des. Fed. PAULO DOMINGUES. Vencida a Des. Fed. MARLI FERREIRA(Relatora), que dava parcial provimento à apelação da União Federal e àremessa oficial no sentido de autorizar a restituição na forma explicitadae consoante a legislação de regência, bem como para julgar improcedente opedido e assegurar a inclusão do PIS e da COFINS sobre suas próprias bases decálculo (cálculo por dentro), aplicando-se o entendimento em vigor sobre amatéria específica do E. Supremo Tribunal Federal e do C. Superior Tribunalde Justiça, mantendo a r. sentença em seus demais e exatos termos. Lavraráacórdão a Des. Fed. MÔNICA NOBRE. O Juiz Fed. Conv. MARCELO GUERRA votou naforma do art. 942, §1.º do CPC. O Des. Fed. PAULO DOMINGUES votou na formados artigos 53 e 260 do RITRF3. Ausente, justificadamente, em razão de férias,o Des. Fed. ANDRÉ NABARRETE (substituído pelo Juiz Federal Convocado MARCELOGUERRA), nos termos do relatório e voto que ficam fazendo parte integrantedo presente julgado\".- No mais,  o v. Acórdão embargado não se ressente de quaisquer vícios. Dasimples leitura do julgado verifica-se que foram abordadas todas as questõesdebatidas pelas partes.- De qualquer sorte, acerca do ponto específico da irresignação dacontribuinte, não procede a alegação no sentido de que seja declarado que,quanto ao ICMS, ocorreu o trânsito em julgado e a possibilidade de compensaçãodos valores.- Isso porque, diante da vedação legal prevista no art. 170-A do CTN e doentendimento jurisprudencial consolidado,  é vedada a compensação de tributoobjeto de contestação judicial, como no presente caso, antes do trânsito emjulgado da respectiva sentença. Precedentes.- A pretensão para que a compensação não se dê após o trânsito em julgado daação não pode ser acolhida, visto que a demanda pode ser modificada atéentão, porquanto o direito só se concretiza ante a inexistência de recursoa ser interposto.- Assim, infere-se que a compensação somente pode ser efetivada após o trânsitoem julgado da respectiva decisão judicial, aplicando-se o entendimento,inclusive, às hipóteses de tributo indevidamente recolhido. - No tocante à omissão apontada pela UNIÃO FEDERAL, acerca da pendênciade julgamento do 592.616- RG/RS (Tema 118), pelo Supremo Tribunal Federal,insta consignar que não há qualquer determinação de suspensão nacional dosfeitos que tratam da matéria, cabendo ao magistrado decidir de acordo como livre convencimento motivado até que surja precedente vinculante.- Por todo o exposto, verifica-se que os argumentos das embargantes denotammero inconformismo e intuito de rediscutir a controvérsia, não se prestandoos aclaratórios a esse fim.      - Embargos de declaração da União Federal e de LITOCOMP INDÚSTRIA GRÁFICAE EDITORA LTDA parcialmente acolhidos apenas para sanar a omissão relativaao parcial provimento da apelação fazendária quanto ao pedido de inclusãodo PIS e COFINS nas próprias bases de cálculo., Decisão: PODER JUDICIÁRIOTribunal Regional Federal da 3ª Região4ª TurmaAPELAÇÃO / REMESSA NECESSÁRIA (1728) Nº 5006857-53.2021.4.03.6100RELATOR: Gab. 13 - DES. FED. MONICA NOBREAPELANTE: LITOCOMP INDUSTRIA GRAFICA E EDITORA LTDA., UNIAO FEDERAL -FAZENDA NACIONALAdvogado do(a) APELANTE: MARCELO MIRANDA DOURADO FONTES ROSA - SP247111-AAPELADO: UNIAO FEDERAL - FAZENDA NACIONAL, LITOCOMP INDUSTRIA GRAFICA EEDITORA LTDA.Advogado do(a) APELADO: MARCELO MIRANDA DOURADO FONTES ROSA - SP247111-AOUTROS PARTICIPANTES:      PODER JUDICIÁRIOTribunal Regional Federal da 3ª Região4ª Turma APELAÇÃO / REMESSA NECESSÁRIA (1728) Nº 5006857-53.2021.4.03.6100RELATOR: Gab. 13 - DES. FED. MONICA NOBREAPELANTE: LITOCOMP INDUSTRIA GRAFICA E EDITORA LTDA., UNIAO FEDERAL -FAZENDA NACIONALAdvogado do(a) APELANTE: MARCELO MIRANDA DOURADO FONTES ROSA - SP247111-AAPELADO: UNIAO FEDERAL - FAZENDA NACIONAL, LITOCOMP INDUSTRIA GRAFICA EEDITORA LTDA.Advogado do(a) APELADO: MARCELO MIRANDA DOURADO FONTES ROSA - SP247111-A      R E L A T Ó R I O Cuida-se de embargos de declaração opostos pela UNIÃO FEDERAL e por LITOCOMPINDÚSTRIA GRÁFICA E EDITORA LTDA em face do acórdão de id. 254016223 quedeu parcial provimento à apelação da impetrante para reconhecer a prescriçãoquinquenal no que se refere à exclusão do ISS das bases de cálculo do PIS eda COFINS e deu parcial provimento à apelação da União Federal e à remessaoficial, em menor extensão, apenas para restringir a restituição/compensaçãodo ICMS ao limite temporal de 15/03/2017 nos termos do julgamento do RE574.706/PR.Em seus declaratórios, a UNIÃO FEDERAL argui, em síntese, a ocorrênciade omissão quanto à pendência de julgamento do Tema 118 do STF e quanto àdeterminação de inclusão do PIS/COFINS na própria base de cálculo.Por sua vez, LITOCOMP INDÚSTRIA GRÁFICA E EDITORA LTDA aduz omissão acercado pedido de trânsito em julgado parcial da questão relativa à exclusão doICMS da base do PIS e COFINS, bem como omissão no tocante à exclusão do PISe COFINS das próprias bases.Ambas as partes apresentaram resposta.É o relatório.           PODER JUDICIÁRIOTribunal Regional Federal da 3ª Região4ª Turma APELAÇÃO / REMESSA NECESSÁRIA (1728) Nº 5006857-53.2021.4.03.6100RELATOR: Gab. 13 - DES. FED. MONICA NOBREAPELANTE: LITOCOMP INDUSTRIA GRAFICA E EDITORA LTDA., UNIAO FEDERAL -FAZENDA NACIONALAdvogado do(a) APELANTE: MARCELO MIRANDA DOURADO FONTES ROSA - SP247111-AAPELADO: UNIAO FEDERAL - FAZENDA NACIONAL, LITOCOMP INDUSTRIA GRAFICA EEDITORA LTDA.Advogado do(a) APELADO: MARCELO MIRANDA DOURADO FONTES ROSA - SP247111-A     V O T O Assiste razão, em parte, às embargantes apenas no que se refere à omissão,no acórdão, quanto à determinação constante da ementa acerca da inclusão doPIS e COFINS nas próprias bases.Os embargos de declaração, a teor do disposto no art. 1.022 do CPC, somentetêm cabimento nos casos de obscuridade ou contradição (inc. I), de omissão(inc. II) e de erro material (inc. III).No caso em tela, constou do voto da Relatora (e do dispositivo de tal voto -id. 210070910), bem como da ementa (id. 254016224) o parcial provimento daapelação da União Federal para assegurar a inclusão do PIS e COFINS sobre assuas próprias de cálculo. Todavia, o acórdão nada mencionou a esse respeito,de modo que deve ser sanada a omissão contido passando a constar do referidoacórdão (id. 254016223):\"Vistos e relatados estes autos em que são partes as acima indicadas, a QuartaTurma, à unanimidade, decidiu dar parcial provimento à apelação da impetrantepara reconhecer a prescrição quinquenal no que se refere à exclusão do ISSdas bases de cálculo do PIS e da COFINS e dar parcial provimento à apelação daUnião Federal e à remessa oficial no tocante a assegurar a inclusão do PIS eda COFINS sobre suas próprias bases de cálculo (cálculo por dentro), nostermos do voto da Des. Fed. MARLI FERREIRA (Relatora), com quem votaram aDes. Fed. MÔNICA NOBRE e o Des. Fed. MARCELO SARAIVA. E, por maioria, decidiudar parcial provimento à apelação da União Federal e à remessa oficial,em menor extensão, apenas para restringir a restituição/compensação do ICMSaqui pretendida ao limite temporal de 15/03/2017 nos termos do julgamento doRE 574.706/PR, mantendo incólumes a restituição/compensação autorizadas pelasentença, sem restrição quanto a requerê-las administrativamente, nos termos dovoto da Des. Fed. MÔNICA NOBRE, com quem votaram o Des. Fed. MARCELO SARAIVA,o Juiz Fed. Conv. MARCELO GUERRA e o Des. Fed. PAULO DOMINGUES. Vencida aDes. Fed. MARLI FERREIRA (Relatora), que dava parcial provimento à apelaçãoda União Federal e à remessa oficial no sentido de autorizar a restituição naforma explicitada e consoante a legislação de regência, bem como para julgarimprocedente o pedido e assegurar a inclusão do PIS e da COFINS sobre suaspróprias bases de cálculo (cálculo por dentro), aplicando-se o entendimentoem vigor sobre a matéria específica do E. Supremo Tribunal Federal e doC. Superior Tribunal de Justiça, mantendo a r. sentença em seus demais e exatostermos. Lavrará acórdão a Des. Fed. MÔNICA NOBRE. O Juiz Fed. Conv. MARCELOGUERRA votou na forma do art. 942, §1.º do CPC. O Des. Fed. PAULO DOMINGUESvotou na forma dos artigos 53 e 260 do RITRF3. Ausente, justificadamente, emrazão de férias, o Des. Fed. ANDRÉ NABARRETE (substituído pelo Juiz FederalConvocado MARCELO GUERRA), nos termos do relatório e voto que ficam fazendoparte integrante do presente julgado\".No mais,  o v. Acórdão embargado não se ressente de quaisquer vícios. Dasimples leitura do julgado verifica-se que foram abordadas todas as questõesdebatidas pelas partes.De qualquer sorte, acerca do ponto específico da irresignação da contribuinte,não procede a alegação no sentido de que seja declarado que, quanto ao ICMS,ocorreu o trânsito em julgado e a possibilidade de compensação dos valores.Isso porque, diante da vedação legal prevista no art. 170-A do CTN e doentendimento jurisprudencial consolidado,  é vedada a compensação de tributoobjeto de contestação judicial, como no presente caso, antes do trânsitoem julgado da respectiva sentença. Nesse sentido, colaciono o seguinteentendimento:..EMEN: TRIBUTÁRIO E PROCESSUAL CIVIL. AGRAVO REGIMENTAL EM AGRAVO DEINSTRUMENTO CONTROVÉRSIA LIMITADA À COMPENSAÇÃO ANTES DO TRÂNSITO EMJULGADO. ARTIGO 170-A, DO CTN. INAPLICABILIDADE. 1.Os sucessivos regimesde legais de substituição tributária, consoante pacífico entendimento daPrimeira Seção externado no julgamento do ERESP 488.992/MG, não retroagem, porisso que \"a Lei Complementar 104/2001, que introduziu no Código Tributário oart. 170-A, segundo o qual \"é vedada a compensação mediante o aproveitamentode tributo, objeto de contestação judicial pelo sujeito passivo, antes dotrânsito em julgado da respectiva decisão judicial\". Agregou-se, com isso,novo requisito para a realização da compensação tributária: a inexistência dediscussão judicial sobre os créditos a serem utilizados pelo contribuintena compensação. Atualmente, portanto, a compensação será viável apenasapós o trânsito em julgado da decisão, (...)\". 2. In casu, verifica-se quea presente demanda foi ajuizada antes da entrada em vigor do art 170-A,do CTN, introduzido pela Lei Complementar 104/01, vigente em 11/01/2001,portanto, inaplicável o referido dispositivo. 3. Precedentes desta Corte:AgRg nos EREsp 611.099/SC, Rel. Ministra DENISE ARRUDA, PRIMEIRA SEÇÃO,julgado em 27/02/2008, DJe 17/03/2008; EREsp 359.014/PR, Rel. Ministro HERMANBENJAMIN, PRIMEIRA SEÇÃO, julgado em 13.12.2006, DJ 01.10.2007 p. 203; EREsp628.079/SE, Rel. Ministro LUIZ FUX, PRIMEIRA SEÇÃO, julgado em 13/06/2007,DJ 13/08/2007 p. 321. 5. Agravo regimental desprovido. ..EMEN:(AGA - AGRAVO REGIMENTAL NO AGRAVO DE INSTRUMENTO - 940481 2007.01.93269-0,LUIZ FUX, STJ - PRIMEIRA TURMA, DJE DATA:15/12/2008 ..DTPB:.)- grifei.A pretensão para que a compensação não se dê após o trânsito em julgado daação não pode ser acolhida, visto que a demanda pode ser modificada atéentão, porquanto o direito só se concretiza ante a inexistência de recursoa ser interposto.Assim, infere-se que a compensação somente pode ser efetivada após o trânsitoem julgado da respectiva decisão judicial, aplicando-se o entendimento,inclusive, às hipóteses de tributo indevidamente recolhido. Neste sentido,destaco o entendimento firmado sob o rito dos recursos especiais repetitivos:TRIBUTÁRIO. COMPENSAÇÃO. ART. 170-A DO CTN. REQUISITO DO TRÂNSITO EMJULGADO. APLICABILIDADE A HIPÓTESES DE INCONSTITUCIONALIDADE DO TRIBUTORECOLHIDO.\"Nos termos do art. 170-A do CTN, \"é vedada a compensação medianteo aproveitamento de tributo, objeto de contestação judicial pelo sujeitopassivo, antes do trânsito em julgado da respectiva decisão judicial\", vedaçãoque se aplica inclusive às hipóteses de reconhecida inconstitucionalidadedo tributo indevidamente recolhido. 2. Recurso especial provido. Acórdãosujeito ao regime do art. 543-C do CPC e da Resolução STJ 08/08.(REsp nº 1167039, Rel. Min. TEORI ALBINO ZAVASCKI, DJe de 02/09/2010)- grifei.No tocante à omissão apontada pela UNIÃO FEDERAL, acerca da pendência dejulgamento do 592.616- RG/RS, pelo Supremo Tribunal Federal, insta consignarque não há qualquer determinação de suspensão nacional dos feitos que tratamda matéria, cabendo ao magistrado decidir de acordo com o livre convencimentomotivado até que surja precedente vinculante.Por todo o exposto, verifica-se que os argumentos das embargantes denotammero inconformismo e intuito de rediscutir a controvérsia, não se prestandoos aclaratórios a esse fim.             Por tais razões, acolho parcialmente os embargos de declaração da UniãoFederal e de LITOCOMP INDÚSTRIA GRÁFICA E EDITORA LTDA apenas para sanara omissão relativa ao parcial provimento da apelação fazendária quanto aopedido de inclusão do PIS e COFINS nas próprias bases de cálculo.É o voto.E M E N T APROCESSO CIVIL. EMBARGOS DE DECLARAÇÃO. OMISSÃO APENAS NO TEXTO DOACÓRDÃO. APELAÇÃO DA UNIÃO FEDERAL E REMESSA OFICIAL PARCIALMENTE PROVIDASPARA ASSEGURAR A INCLUSÃO DO PIS E COFINS NAS PRÓPRIAS BASES. EMBARGOS DEDECLARAÇÃO PARCIALMENTE ACOLHIDOS APENAS PARA SANAR ERRO MATERIAL.- Os embargos de declaração, a teor do disposto no art. 1.022 do CPC, somentetêm cabimento nos casos de obscuridade ou contradição (inc. I), de omissão(inc. II) e de erro material (inc. III).- No caso em tela, constou do voto da Relatora (e do dispositivo de tal voto -id. 210070910), bem como da ementa (id. 254016224) o parcial provimento daapelação da União Federal para assegurar a inclusão do PIS e COFINS sobreas suas próprias de cálculo.- Todavia, o acórdão nada mencionou a esse respeito, de modo que deveser sanada a omissão contido passando a constar do referido acórdão(id. 254016223): \" Vistos e relatados estes autos em que são partes as acimaindicadas, a Quarta Turma, à unanimidade, decidiu dar parcial provimentoà apelação da impetrante para reconhecer a prescrição quinquenal no quese refere à exclusão do ISS das bases de cálculo do PIS e da COFINS edar parcial provimento à apelação da União Federal e à remessa oficial notocante a assegurar a inclusão do PIS e da COFINS sobre suas próprias bases decálculo (cálculo por dentro), nos termos do voto da Des. Fed. MARLI FERREIRA(Relatora), com quem votaram a Des. Fed. MÔNICA NOBRE e o Des. Fed. MARCELOSARAIVA. E, por maioria, decidiu dar parcial provimento à apelação da UniãoFederal e à remessa oficial, em menor extensão, apenas para restringira restituição/compensação do ICMS aqui pretendida ao limite temporal de15/03/2017 nos termos do julgamento do RE 574.706/PR, mantendo incólumesa restituição/compensação autorizadas pela sentença, sem restrição quanto arequerê-las administrativamente, nos termos do voto da Des. Fed. MÔNICA NOBRE,com quem votaram o Des. Fed. MARCELO SARAIVA, o Juiz Fed. Conv. MARCELOGUERRA e o Des. Fed. PAULO DOMINGUES. Vencida a Des. Fed. MARLI FERREIRA(Relatora), que dava parcial provimento à apelação da União Federal e àremessa oficial no sentido de autorizar a restituição na forma explicitadae consoante a legislação de regência, bem como para julgar improcedente opedido e assegurar a inclusão do PIS e da COFINS sobre suas próprias bases decálculo (cálculo por dentro), aplicando-se o entendimento em vigor sobre amatéria específica do E. Supremo Tribunal Federal e do C. Superior Tribunalde Justiça, mantendo a r. sentença em seus demais e exatos termos. Lavraráacórdão a Des. Fed. MÔNICA NOBRE. O Juiz Fed. Conv. MARCELO GUERRA votou naforma do art. 942, §1.º do CPC. O Des. Fed. PAULO DOMINGUES votou na formados artigos 53 e 260 do RITRF3. Ausente, justificadamente, em razão de férias,o Des. Fed. ANDRÉ NABARRETE (substituído pelo Juiz Federal Convocado MARCELOGUERRA), nos termos do relatório e voto que ficam fazendo parte integrantedo presente julgado\".- No mais,  o v. Acórdão embargado não se ressente de quaisquer vícios. Dasimples leitura do julgado verifica-se que foram abordadas todas as questõesdebatidas pelas partes.- De qualquer sorte, acerca do ponto específico da irresignação dacontribuinte, não procede a alegação no sentido de que seja declarado que,quanto ao ICMS, ocorreu o trânsito em julgado e a possibilidade de compensaçãodos valores.- Isso porque, diante da vedação legal prevista no art. 170-A do CTN e doentendimento jurisprudencial consolidado,  é vedada a compensação de tributoobjeto de contestação judicial, como no presente caso, antes do trânsito emjulgado da respectiva sentença. Precedentes.- A pretensão para que a compensação não se dê após o trânsito em julgado daação não pode ser acolhida, visto que a demanda pode ser modificada atéentão, porquanto o direito só se concretiza ante a inexistência de recursoa ser interposto.- Assim, infere-se que a compensação somente pode ser efetivada após o trânsitoem julgado da respectiva decisão judicial, aplicando-se o entendimento,inclusive, às hipóteses de tributo indevidamente recolhido. - No tocante à omissão apontada pela UNIÃO FEDERAL, acerca da pendênciade julgamento do 592.616- RG/RS (Tema 118), pelo Supremo Tribunal Federal,insta consignar que não há qualquer determinação de suspensão nacional dosfeitos que tratam da matéria, cabendo ao magistrado decidir de acordo como livre convencimento motivado até que surja precedente vinculante.- Por todo o exposto, verifica-se que os argumentos das embargantes denotammero inconformismo e intuito de rediscutir a controvérsia, não se prestandoos aclaratórios a esse fim.      - Embargos de declaração da União Federal e de LITOCOMP INDÚSTRIA GRÁFICAE EDITORA LTDA parcialmente acolhidos apenas para sanar a omissão relativaao parcial provimento da apelação fazendária quanto ao pedido de inclusãodo PIS e COFINS nas próprias bases de cálculo.    ACÓRDÃOVistos        e relatados estes autos em que são partes as acima indicadas,a Quarta Turma, à unanimidade, decidiu acolher parcialmente os embargos dedeclaração da União Federal e de LITOCOMP INDÚSTRIA GRÁFICA E EDITORA LTDAapenas para sanar a omissão relativa ao parcial provimento da apelaçãofazendária quanto ao pedido de inclusão do PIS e COFINS nas própriasbases de cálculo, nos termos do voto da Des. Fed. MÔNICA NOBRE (Relatora),com quem votaram o Des. Fed. ANDRÉ NABARRETE, a Des. Fed. MARLI FERREIRA,o Des. Fed. MAIRAN MAIA e o Des. Fed. PAULO DOMINGUES.Ausente, justificadamente, por motivo de férias, o Des. Fed. MARCELO SARAIVA.O Des. Fed. MAIRAN MAIA e o Des. Fed. PAULO DOMINGUES votaram na forma dosartigos 53 e 260, § 1.º do RITRF3, nos termos do relatório e voto  que       ficam fazendo parte integrantedo presente julgado.'"
      ]
     },
     "execution_count": 15,
     "metadata": {},
     "output_type": "execute_result"
    }
   ],
   "source": [
    "df['text'][987]"
   ]
  },
  {
   "cell_type": "code",
   "execution_count": 12,
   "id": "ffda0990",
   "metadata": {},
   "outputs": [],
   "source": [
    "import re"
   ]
  },
  {
   "cell_type": "code",
   "execution_count": 11,
   "id": "d11bb570",
   "metadata": {},
   "outputs": [],
   "source": [
    "def remove_non_breaking_spaces(text):\n",
    "    return text.replace(\"\\xa0\", \" \").strip()"
   ]
  },
  {
   "cell_type": "code",
   "execution_count": 14,
   "id": "3ec562d2",
   "metadata": {},
   "outputs": [],
   "source": [
    "def remove_metadata(text):\n",
    "    text = re.sub(r', Length: \\d+, dtype: object', '', text)\n",
    "    text = str(text).replace(\"nan\", \"\")\n",
    "    return text.strip()"
   ]
  },
  {
   "cell_type": "code",
   "execution_count": 15,
   "id": "b805fbd7",
   "metadata": {},
   "outputs": [],
   "source": [
    "def remove_html_tags(text):\n",
    "    text = str(text)\n",
    "    clean = re.compile('<.*?>')\n",
    "    return re.sub(clean, '', text)"
   ]
  },
  {
   "cell_type": "code",
   "execution_count": 13,
   "id": "2e763d59",
   "metadata": {},
   "outputs": [],
   "source": [
    "def remove_excess_spaces(text):\n",
    "    text = str(text)\n",
    "    return re.sub(r'\\s+', ' ', text).strip()"
   ]
  },
  {
   "cell_type": "code",
   "execution_count": 17,
   "id": "744d664c",
   "metadata": {},
   "outputs": [],
   "source": [
    "def remove_reticencias_nan(text):\n",
    "    text = re.sub(r'\\.\\.\\.', '', text)\n",
    "    text = str(text).replace(\"nan\", \"\")\n",
    "    text = str(text).replace(\"NaN\", \"\")\n",
    "    return text.strip()  # Remove espaços em branco extras\n"
   ]
  },
  {
   "cell_type": "code",
   "execution_count": 18,
   "id": "3e41c3c9",
   "metadata": {},
   "outputs": [],
   "source": [
    "df['text'] = df['text'].apply(remove_non_breaking_spaces)\n",
    "df['text'] = df['text'].apply(remove_html_tags)\n",
    "df['text'] = df['text'].apply(remove_excess_spaces)\n",
    "df['text'] = df['text'].apply(remove_reticencias_nan)\n",
    "df['text'] = df['text'].apply(remove_metadata)"
   ]
  },
  {
   "cell_type": "code",
   "execution_count": 16,
   "id": "16d6fa45",
   "metadata": {},
   "outputs": [
    {
     "data": {
      "text/plain": [
       "'Em 22/09/2022, No TRF - TERCEIRA REGIÃO, Ementa: E M E N T A PREVIDENCIÁRIO. PENSÃO POR MORTE. ART. 74 DA LEI N.º 8.213/91. NÃO COMPROVADAA CONVIVÊNCIA. IMPOSSIBILIDADE DE CONCESSÃO DO BENEFÍCIO.- A prova produzida, inconsistente, é insuficiente para ensejar a concessãodo benefício vindicado, eis que não demonstrada a convivência da autora como de cujus.- Reconhecimento da improcedência do pedido formulado.- Apelação da autora não provida., Decisão: PODER JUDICIÁRIOTribunal Regional Federal da 3ª Região8ª TurmaAPELAÇÃO CÍVEL (198) Nº 5153429-18.2021.4.03.9999RELATOR: Gab. 27 - DES. FED. THEREZINHA CAZERTAAPELANTE: MARISA GUALBERTO DE OLIVEIRAAdvogado do(a) APELANTE: ESTEVAN TOSO FERRAZ - SP230862-NAPELADO: INSTITUTO NACIONAL DO SEGURO SOCIAL - INSSOUTROS PARTICIPANTES:     APELAÇÃO CÍVEL (198) Nº 5153429-18.2021.4.03.9999RELATOR: Gab. 27 - DES. FED. THEREZINHA CAZERTAAPELANTE: MARISA GUALBERTO DE OLIVEIRAAdvogado do(a) APELANTE: ESTEVAN TOSO FERRAZ - SP230862-NAPELADO: INSTITUTO NACIONAL DO SEGURO SOCIAL - INSS OUTROS PARTICIPANTES:  \\xadR E L A T Ó R I O  Trata-se de demanda objetivando a concessão do benefício de pensão por morte decompanheiro, falecido em 25/10/2011, previsto no art. 74 da Lei n.º 8.213/91.O juízo a quo julgou improcedente o pedido formulado.A parte autora apela, pleiteando a reforma da sentença, sustentando,em síntese, o cumprimento dos requisitos legais necessários à concessãopretendida.Sem contrarrazões, subiram os autos.É o relatório.  THEREZINHA CAZERTADesembargadora Federal Relatora    APELAÇÃO CÍVEL (198) Nº 5153429-18.2021.4.03.9999RELATOR: Gab. 27 - DES. FED. THEREZINHA CAZERTAAPELANTE: MARISA GUALBERTO DE OLIVEIRAAdvogado do(a) APELANTE: ESTEVAN TOSO FERRAZ - SP230862-NAPELADO: INSTITUTO NACIONAL DO SEGURO SOCIAL - INSS OUTROS PARTICIPANTES:  \\xadV O T O  Tempestivo o recurso e presentes os demais requisitos de admissibilidade,passa-se ao exame da insurgência propriamente dita, considerando-se a matériaobjeto de devolução. PENSÃO POR MORTE O benefício de pensão por morte encontra-se disciplinado pelos arts. 74a 79 da Lei n.º 8.213/91, cujo texto original foi objeto de alterações,vigorando atualmente a redação dada pela Lei n.º 13.846, de 18/6/2019.Aplicável, quanto à concessão desse benefício, a lei vigente à época do óbitodo segurado, consoante o teor do verbete n.º 340, da Súmula da Jurisprudênciado Superior Tribunal de Justiça.Para se obter a implementação da aludida pensão, é necessário o preenchimentode dois requisitos: o falecido deve deter a qualidade de segurado e éimprescindível subsistir relação de dependência econômica entre ele e osrequerentes do benefício.Dispensa-se a demonstração do período de carência, nos termos do art. 26,inciso I, da Lei n.° 8.213/91, conquanto sua duração possa variar conforme aquantidade de contribuições recolhidas pelo instituidor, consoante o dispostono art. 77 do mesmo diploma legal.Com relação à dependência econômica, o art. 16 da Lei n.º 8.213/91 estabeleceo rol dos beneficiários, dividindo-os em três classes e indicando tanto ashipóteses em que a dependência econômica é presumida quanto aquelas em queela deverá ser comprovada.Cumpre observar, ainda, que é vedada a concessão da pensão aos dependentes dosegurado que perder essa qualidade, nos termos do art. 15 da Lei de Benefícios,salvo se antes preenchidos os requisitos para a obtenção da aposentadoria,conforme previsto no art. 102, §§ 1.º e 2.º. DO CASO DOS AUTOS Para demonstrar suas alegações, a parte autora juntou documentos, entre osquais se destacam:- certidão de óbito do sr. Roberto Cesar Fernandes, falecido em 25/10/2011,consignando sua residência com endereço à Rua Antônio Valente da Costa, n.º1, Jardim Alvorada, em Monte Alto - SP, com 44 anos e divorciado, e tendocomo declarante a sra. Rosimere Maria Fernandes da Costa, consignando queera divorciado da autora;- escritura de declaração de dependência econômica, em nome do falecido,declarando que a autora é sua dependente econômica e que é seu desejo quesuas dependentes sejam suas beneficiárias de quaisquer convênios médicos etítulos de quaisquer clubes para os quais ele contribua ou venha contribuir,datado de 23/10/2008;- contas de luz e água, em nome do falecido, sendo a mais antiga referenteao mês de agosto/2011, com endereço à rua Orico Campos Negreiros Junior,n.º 160, Jardim Bela Vista, Monte Alto - SP;- certidão de casamento celebrado entre a autora e o falecido, em 16/5/2009,com averbação de sentença transitada em julgado, datado de 6/7/2011,decretando o divórcio do casal;- cópia de petição de ação de divórcio, consignando o endereço da autora àrua Orico Campos Negreiros Junior, n.º 160, Jardim Bela Vista, Monte Alto -SP, e do falecido à rua Suíça, n.º 41, Monte Alto - SP, datado de 7/6/2011;- aviso de recebimento consignando o endereço da autora à rua Orico CamposNegreiros Junior, n.º 160, Monte Alto - SP;- comunicado de decisão administrativa indeferindo o pedido de pensão pormorte, apresentado pela autora em 17/7/2012, pelo motivo de falta da qualidadede dependente;Cabe ressaltar a existência de prova oral.Em depoimento pessoal, a autora informa que seu ex-cônjuge, após ser mandadoembora de seu emprego, se endividou e, após ser informado que se viesse afalecer as dívidas seriam suportadas pela autora, decidiram se divorciar,mas que permaneceram juntos de fato.A testemunha Rosimeire Aparecida Piquetti Pereira declara ter trabalhadopara a autora, sendo faxineira diarista. Declara que sempre viu a autora e ofalecido como marido e mulher, que o falecido era quem trabalhava e sustentavaa família. que a autora se comportou como viúva no velório. Declara quetrabalhou para a autora e o falecido nos anos de 2008 e 2009, e que estavatrabalhando para eles quando do evento do óbito; que moravam na residênciaa autora, o falecido e a filha da autora. Declara que jamais ouviu sobreseparação de fato ou divórcio do casal.A testemunha José Carlos Sonco declara ser amigo do falecido, que moravamapenas o falecido e a autora e que nunca soube sobre separação do casal eque sempre que visitava o casal convivia como marido e mulher.Neste caso, restou comprovado a qualidade de segurado do falecido, porquantomantinha vínculo empregatício por ocasião do óbito.Contudo, o conjunto probatório, testemunhal e documental, revela-se frágile inconsistente, insuficiente para comprovar a existência da união estávela justificar a concessão do benefício.A fragilidade está apontada na divergência de endereços à data do óbito (nacertidão de óbito se registra o endereço do falecido à Rua Antônio Valente daCosta, n.º 1, Jardim Alvorada, em Monte Alto - SP, mesmo endereço de seusgenitores, enquanto a autora alega residir à rua Orico Campos NegreirosJunior, n.º 160, Monte Alto - SP ).Ainda, na petição de ação de divórcio acostada, há nova divergência deendereços (endereço da autora à rua Orico Campos Negreiros Junior, n.º 160,Jardim Bela Vista, Monte Alto - SP, e do falecido à rua Suíça, n.º 41,Monte Alto - SP) (f. 40, Id. 186395176).E, a prova testemunhal também revela-se inconsistente, pois a testemunhaRosimeire aduziu que laborou na casa da autora e do falecido nos anos de2008 e 2009, para posteriormente responder, quando questionado pelo juízo,que permaneceu trabalhando para o casal até a data do falecimento, ocorridono ano de 2011, e que eles viviam com a filha da autora. Já a testemunhaJosé Carlos Sonco indicou que a autora e o falecido viviam sozinhos.Insuficiente a prova apresentada, não restando demonstrada a condiçãode companheira do de cujus, à data do óbito, forçoso o reconhecimento daimprocedência do pedido.De rigor, portanto, o indeferimento do benefício, porquanto não comprovadoo cumprimento dos requisitos para a sua concessão.Posto isso, nego provimento à apelação.É o voto.  THEREZINHA CAZERTADesembargadora Federal RelatoraE M E N T A PREVIDENCIÁRIO. PENSÃO POR MORTE. ART. 74 DA LEI N.º 8.213/91. NÃO COMPROVADAA CONVIVÊNCIA. IMPOSSIBILIDADE DE CONCESSÃO DO BENEFÍCIO.- A prova produzida, inconsistente, é insuficiente para ensejar a concessãodo benefício vindicado, eis que não demonstrada a convivência da autora como de cujus.- Reconhecimento da improcedência do pedido formulado.- Apelação da autora não provida.   ACÓRDÃOVistos        e relatados estes autos em que são partes as acima indicadas,a Oitava Turma, por unanimidade, decidiu negar provimento à apelação, nostermos do relatório e voto  que       ficam fazendo parte integrante dopresente julgado.'"
      ]
     },
     "execution_count": 16,
     "metadata": {},
     "output_type": "execute_result"
    }
   ],
   "source": [
    "df['text'][10]"
   ]
  },
  {
   "cell_type": "code",
   "execution_count": 17,
   "id": "ec029781",
   "metadata": {},
   "outputs": [
    {
     "data": {
      "text/plain": [
       "'Em 22/09/2022, No TRF - TERCEIRA REGIÃO, Ementa: E M E N T A PREVIDENCIÁRIO. PENSÃO POR MORTE. ART. 74 DA LEI N.º 8.213/91. NÃO COMPROVADAA CONVIVÊNCIA. IMPOSSIBILIDADE DE CONCESSÃO DO BENEFÍCIO.- A prova produzida, inconsistente, é insuficiente para ensejar a concessãodo benefício vindicado, eis que não demonstrada a convivência da autora como de cujus.- Reconhecimento da improcedência do pedido formulado.- Apelação da autora não provida., Decisão: PODER JUDICIÁRIOTribunal Regional Federal da 3ª Região8ª TurmaAPELAÇÃO CÍVEL (198) Nº 5153429-18.2021.4.03.9999RELATOR: Gab. 27 - DES. FED. THEREZINHA CAZERTAAPELANTE: MARISA GUALBERTO DE OLIVEIRAAdvogado do(a) APELANTE: ESTEVAN TOSO FERRAZ - SP230862-NAPELADO: INSTITUTO NACIONAL DO SEGURO SOCIAL - INSSOUTROS PARTICIPANTES:     APELAÇÃO CÍVEL (198) Nº 5153429-18.2021.4.03.9999RELATOR: Gab. 27 - DES. FED. THEREZINHA CAZERTAAPELANTE: MARISA GUALBERTO DE OLIVEIRAAdvogado do(a) APELANTE: ESTEVAN TOSO FERRAZ - SP230862-NAPELADO: INSTITUTO NACIONAL DO SEGURO SOCIAL - INSS OUTROS PARTICIPANTES:  \\xadR E L A T Ó R I O  Trata-se de demanda objetivando a concessão do benefício de pensão por morte decompanheiro, falecido em 25/10/2011, previsto no art. 74 da Lei n.º 8.213/91.O juízo a quo julgou improcedente o pedido formulado.A parte autora apela, pleiteando a reforma da sentença, sustentando,em síntese, o cumprimento dos requisitos legais necessários à concessãopretendida.Sem contrarrazões, subiram os autos.É o relatório.  THEREZINHA CAZERTADesembargadora Federal Relatora    APELAÇÃO CÍVEL (198) Nº 5153429-18.2021.4.03.9999RELATOR: Gab. 27 - DES. FED. THEREZINHA CAZERTAAPELANTE: MARISA GUALBERTO DE OLIVEIRAAdvogado do(a) APELANTE: ESTEVAN TOSO FERRAZ - SP230862-NAPELADO: INSTITUTO NACIONAL DO SEGURO SOCIAL - INSS OUTROS PARTICIPANTES:  \\xadV O T O  Tempestivo o recurso e presentes os demais requisitos de admissibilidade,passa-se ao exame da insurgência propriamente dita, considerando-se a matériaobjeto de devolução. PENSÃO POR MORTE O benefício de pensão por morte encontra-se disciplinado pelos arts. 74a 79 da Lei n.º 8.213/91, cujo texto original foi objeto de alterações,vigorando atualmente a redação dada pela Lei n.º 13.846, de 18/6/2019.Aplicável, quanto à concessão desse benefício, a lei vigente à época do óbitodo segurado, consoante o teor do verbete n.º 340, da Súmula da Jurisprudênciado Superior Tribunal de Justiça.Para se obter a implementação da aludida pensão, é necessário o preenchimentode dois requisitos: o falecido deve deter a qualidade de segurado e éimprescindível subsistir relação de dependência econômica entre ele e osrequerentes do benefício.Dispensa-se a demonstração do período de carência, nos termos do art. 26,inciso I, da Lei n.° 8.213/91, conquanto sua duração possa variar conforme aquantidade de contribuições recolhidas pelo instituidor, consoante o dispostono art. 77 do mesmo diploma legal.Com relação à dependência econômica, o art. 16 da Lei n.º 8.213/91 estabeleceo rol dos beneficiários, dividindo-os em três classes e indicando tanto ashipóteses em que a dependência econômica é presumida quanto aquelas em queela deverá ser comprovada.Cumpre observar, ainda, que é vedada a concessão da pensão aos dependentes dosegurado que perder essa qualidade, nos termos do art. 15 da Lei de Benefícios,salvo se antes preenchidos os requisitos para a obtenção da aposentadoria,conforme previsto no art. 102, §§ 1.º e 2.º. DO CASO DOS AUTOS Para demonstrar suas alegações, a parte autora juntou documentos, entre osquais se destacam:- certidão de óbito do sr. Roberto Cesar Fernandes, falecido em 25/10/2011,consignando sua residência com endereço à Rua Antônio Valente da Costa, n.º1, Jardim Alvorada, em Monte Alto - SP, com 44 anos e divorciado, e tendocomo declarante a sra. Rosimere Maria Fernandes da Costa, consignando queera divorciado da autora;- escritura de declaração de dependência econômica, em nome do falecido,declarando que a autora é sua dependente econômica e que é seu desejo quesuas dependentes sejam suas beneficiárias de quaisquer convênios médicos etítulos de quaisquer clubes para os quais ele contribua ou venha contribuir,datado de 23/10/2008;- contas de luz e água, em nome do falecido, sendo a mais antiga referenteao mês de agosto/2011, com endereço à rua Orico Campos Negreiros Junior,n.º 160, Jardim Bela Vista, Monte Alto - SP;- certidão de casamento celebrado entre a autora e o falecido, em 16/5/2009,com averbação de sentença transitada em julgado, datado de 6/7/2011,decretando o divórcio do casal;- cópia de petição de ação de divórcio, consignando o endereço da autora àrua Orico Campos Negreiros Junior, n.º 160, Jardim Bela Vista, Monte Alto -SP, e do falecido à rua Suíça, n.º 41, Monte Alto - SP, datado de 7/6/2011;- aviso de recebimento consignando o endereço da autora à rua Orico CamposNegreiros Junior, n.º 160, Monte Alto - SP;- comunicado de decisão administrativa indeferindo o pedido de pensão pormorte, apresentado pela autora em 17/7/2012, pelo motivo de falta da qualidadede dependente;Cabe ressaltar a existência de prova oral.Em depoimento pessoal, a autora informa que seu ex-cônjuge, após ser mandadoembora de seu emprego, se endividou e, após ser informado que se viesse afalecer as dívidas seriam suportadas pela autora, decidiram se divorciar,mas que permaneceram juntos de fato.A testemunha Rosimeire Aparecida Piquetti Pereira declara ter trabalhadopara a autora, sendo faxineira diarista. Declara que sempre viu a autora e ofalecido como marido e mulher, que o falecido era quem trabalhava e sustentavaa família. que a autora se comportou como viúva no velório. Declara quetrabalhou para a autora e o falecido nos anos de 2008 e 2009, e que estavatrabalhando para eles quando do evento do óbito; que moravam na residênciaa autora, o falecido e a filha da autora. Declara que jamais ouviu sobreseparação de fato ou divórcio do casal.A testemunha José Carlos Sonco declara ser amigo do falecido, que moravamapenas o falecido e a autora e que nunca soube sobre separação do casal eque sempre que visitava o casal convivia como marido e mulher.Neste caso, restou comprovado a qualidade de segurado do falecido, porquantomantinha vínculo empregatício por ocasião do óbito.Contudo, o conjunto probatório, testemunhal e documental, revela-se frágile inconsistente, insuficiente para comprovar a existência da união estávela justificar a concessão do benefício.A fragilidade está apontada na divergência de endereços à data do óbito (nacertidão de óbito se registra o endereço do falecido à Rua Antônio Valente daCosta, n.º 1, Jardim Alvorada, em Monte Alto - SP, mesmo endereço de seusgenitores, enquanto a autora alega residir à rua Orico Campos NegreirosJunior, n.º 160, Monte Alto - SP ).Ainda, na petição de ação de divórcio acostada, há nova divergência deendereços (endereço da autora à rua Orico Campos Negreiros Junior, n.º 160,Jardim Bela Vista, Monte Alto - SP, e do falecido à rua Suíça, n.º 41,Monte Alto - SP) (f. 40, Id. 186395176).E, a prova testemunhal também revela-se inconsistente, pois a testemunhaRosimeire aduziu que laborou na casa da autora e do falecido nos anos de2008 e 2009, para posteriormente responder, quando questionado pelo juízo,que permaneceu trabalhando para o casal até a data do falecimento, ocorridono ano de 2011, e que eles viviam com a filha da autora. Já a testemunhaJosé Carlos Sonco indicou que a autora e o falecido viviam sozinhos.Insuficiente a prova apresentada, não restando demonstrada a condiçãode companheira do de cujus, à data do óbito, forçoso o reconhecimento daimprocedência do pedido.De rigor, portanto, o indeferimento do benefício, porquanto não comprovadoo cumprimento dos requisitos para a sua concessão.Posto isso, nego provimento à apelação.É o voto.  THEREZINHA CAZERTADesembargadora Federal RelatoraE M E N T A PREVIDENCIÁRIO. PENSÃO POR MORTE. ART. 74 DA LEI N.º 8.213/91. NÃO COMPROVADAA CONVIVÊNCIA. IMPOSSIBILIDADE DE CONCESSÃO DO BENEFÍCIO.- A prova produzida, inconsistente, é insuficiente para ensejar a concessãodo benefício vindicado, eis que não demonstrada a convivência da autora como de cujus.- Reconhecimento da improcedência do pedido formulado.- Apelação da autora não provida.   ACÓRDÃOVistos        e relatados estes autos em que são partes as acima indicadas,a Oitava Turma, por unanimidade, decidiu negar provimento à apelação, nostermos do relatório e voto  que       ficam fazendo parte integrante dopresente julgado.'"
      ]
     },
     "execution_count": 17,
     "metadata": {},
     "output_type": "execute_result"
    }
   ],
   "source": [
    "df['text'][10]"
   ]
  },
  {
   "cell_type": "code",
   "execution_count": 19,
   "id": "8f6f694c",
   "metadata": {},
   "outputs": [],
   "source": [
    "import pandas as pd"
   ]
  },
  {
   "cell_type": "code",
   "execution_count": 20,
   "id": "e3846838",
   "metadata": {},
   "outputs": [],
   "source": [
    "jf_p3d_pp = pd.DataFrame()"
   ]
  },
  {
   "cell_type": "code",
   "execution_count": 21,
   "id": "233e2396",
   "metadata": {},
   "outputs": [],
   "source": [
    "jf_p3d_pp['text'] = df3['text']"
   ]
  },
  {
   "cell_type": "code",
   "execution_count": 22,
   "id": "e186c7c8",
   "metadata": {},
   "outputs": [
    {
     "data": {
      "text/html": [
       "<div>\n",
       "<style scoped>\n",
       "    .dataframe tbody tr th:only-of-type {\n",
       "        vertical-align: middle;\n",
       "    }\n",
       "\n",
       "    .dataframe tbody tr th {\n",
       "        vertical-align: top;\n",
       "    }\n",
       "\n",
       "    .dataframe thead th {\n",
       "        text-align: right;\n",
       "    }\n",
       "</style>\n",
       "<table border=\"1\" class=\"dataframe\">\n",
       "  <thead>\n",
       "    <tr style=\"text-align: right;\">\n",
       "      <th></th>\n",
       "      <th>text</th>\n",
       "    </tr>\n",
       "  </thead>\n",
       "  <tbody>\n",
       "    <tr>\n",
       "      <th>0</th>\n",
       "      <td>10ª Turma, Ementa: PODER JUDICIÁRIOTribunal Re...</td>\n",
       "    </tr>\n",
       "    <tr>\n",
       "      <th>1</th>\n",
       "      <td>10ª Turma, Ementa: PODER JUDICIÁRIOTribunal Re...</td>\n",
       "    </tr>\n",
       "    <tr>\n",
       "      <th>2</th>\n",
       "      <td>10ª Turma, Ementa: PODER JUDICIÁRIOTribunal Re...</td>\n",
       "    </tr>\n",
       "    <tr>\n",
       "      <th>3</th>\n",
       "      <td>10ª Turma, Ementa: PODER JUDICIÁRIOTribunal Re...</td>\n",
       "    </tr>\n",
       "    <tr>\n",
       "      <th>4</th>\n",
       "      <td>10ª Turma, Ementa: PODER JUDICIÁRIOTribunal Re...</td>\n",
       "    </tr>\n",
       "    <tr>\n",
       "      <th>...</th>\n",
       "      <td>...</td>\n",
       "    </tr>\n",
       "    <tr>\n",
       "      <th>49052</th>\n",
       "      <td>10ª Turma, Ementa: PODER JUDICIÁRIOTribunal Re...</td>\n",
       "    </tr>\n",
       "    <tr>\n",
       "      <th>49053</th>\n",
       "      <td>10ª Turma, Ementa: PODER JUDICIÁRIOTribunal Re...</td>\n",
       "    </tr>\n",
       "    <tr>\n",
       "      <th>49054</th>\n",
       "      <td>10ª Turma, Ementa: PODER JUDICIÁRIOTribunal Re...</td>\n",
       "    </tr>\n",
       "    <tr>\n",
       "      <th>49055</th>\n",
       "      <td>10ª Turma, Ementa: PODER JUDICIÁRIOTribunal Re...</td>\n",
       "    </tr>\n",
       "    <tr>\n",
       "      <th>49056</th>\n",
       "      <td>10ª Turma, Ementa: PODER JUDICIÁRIOTribunal Re...</td>\n",
       "    </tr>\n",
       "  </tbody>\n",
       "</table>\n",
       "<p>49057 rows × 1 columns</p>\n",
       "</div>"
      ],
      "text/plain": [
       "                                                    text\n",
       "0      10ª Turma, Ementa: PODER JUDICIÁRIOTribunal Re...\n",
       "1      10ª Turma, Ementa: PODER JUDICIÁRIOTribunal Re...\n",
       "2      10ª Turma, Ementa: PODER JUDICIÁRIOTribunal Re...\n",
       "3      10ª Turma, Ementa: PODER JUDICIÁRIOTribunal Re...\n",
       "4      10ª Turma, Ementa: PODER JUDICIÁRIOTribunal Re...\n",
       "...                                                  ...\n",
       "49052  10ª Turma, Ementa: PODER JUDICIÁRIOTribunal Re...\n",
       "49053  10ª Turma, Ementa: PODER JUDICIÁRIOTribunal Re...\n",
       "49054  10ª Turma, Ementa: PODER JUDICIÁRIOTribunal Re...\n",
       "49055  10ª Turma, Ementa: PODER JUDICIÁRIOTribunal Re...\n",
       "49056  10ª Turma, Ementa: PODER JUDICIÁRIOTribunal Re...\n",
       "\n",
       "[49057 rows x 1 columns]"
      ]
     },
     "execution_count": 22,
     "metadata": {},
     "output_type": "execute_result"
    }
   ],
   "source": [
    "jf_p3d_pp"
   ]
  },
  {
   "cell_type": "code",
   "execution_count": 24,
   "id": "645750e5",
   "metadata": {},
   "outputs": [
    {
     "data": {
      "text/plain": [
       "'10ª Turma, Ementa: PODER JUDICIÁRIOTribunal Regional Federal da 3ª Região10ª TurmaAPELAÇÃO / REMESSA NECESSÁRIA (1728) Nº 0003141-58.2015.4.03.6183RELATOR: Gab. 34 - DES. FED. BAPTISTA PEREIRAAPELANTE: ODETE KAUDER DE LIMA, INSTITUTO NACIONAL DO SEGURO SOCIAL - INSSAdvogado do(a) APELANTE: MARCUS ELY SOARES DOS REIS - SP304381-SAdvogado do(a) APELANTE: ANA JALIS CHANG - SP170032-AAPELADO: ODETE KAUDER DE LIMA, INSTITUTO NACIONAL DO SEGURO SOCIAL - INSSAdvogado do(a) APELADO: MARCUS ELY SOARES DOS REIS - SP304381-SAdvogado do(a) APELADO: ANA JALIS CHANG - SP170032-AOUTROS PARTICIPANTES: PODER JUDICIÁRIOTribunal Regional Federal da 3ª Região10ª Turma EMBARGOS DE DECLARAÇÃO EM APELAÇÃO / REMESSA NECESSÁRIA (1728)Nº 0003141-58.2015.4.03.6183RELATOR: Gab. 34 - DES. FED. BAPTISTA PEREIRAEMBARGANTE: INSTITUTO NACIONAL DO SEGURO SOCIAL - INSSAdvogado: ANA JALIS CHANG - SP170032-AEMBARGADO: ACÓRDÃOINTERESSADO: ODETE KAUDER DE LIMAAdvogado: MARCUS ELY SOARES DOS REIS - SP304381-S R E L A T Ó R I O Trata-se de processo devolvido pela e. Vice-Presidência desta Corte parajuízo de retratação, nos termos do Art. 1.040, II, do CPC, em razão doentendimento sufragado pela Corte Superior quanto ao Tema 1.005. Esta Décima Turma, por unanimidade, não conheceu da remessa oficial, deuparcial provimento à apelação do réu e negou provimento à apelação autora,conforme ementa que se segue: \"PREVIDENCIÁRIO. REVISÃO DE BENEFÍCIO PREVIDENCIÁRIO. EMENDAS CONSTITUCIONAIS20/1998 E 41/2003.1. É aplicável o disposto no § 4º, II, do Art. 496 do CPC, pois a sentençaestá fundada em acórdão proferido pelo Supremo Tribunal Federal em julgamentode recurso repetitivo. Assim, é inadmissível a remessa oficial.2. O ajuizamento de Ação Civil Pública pelo Ministério Público Federalacarreta a interrupção da prescrição, restando prescritas as diferençasanteriores a 05.05.2006 (STJ, REsp Nº 1.604.455/RN).3. Afastada a decadência, vez que o entendimento firmado peloe. STF no julgamento do RE 564354-9/SE é no sentido de que o tetodo salário-de-contribuição é elemento externo à estrutura jurídica dosbenefícios previdenciários, de modo que a adequação aos novos limites dasEC 20/1998 e EC 41 /2003 importa em alteração da renda mensal do benefício,e não modificação do ato de concessão.4. O e. Supremo Tribunal Federal firmou entendimento no sentido de que aaplicação do novo valor teto com base nas emendas constitucionais 20/1998e 41/2003 aos benefícios já concedidos não viola o ato jurídico perfeito,desde que o salário de benefício ou a renda mensal inicial tenha sido limitadoao teto (STF, RE 564354, Relatora: Ministra Carmem Lúcia, Tribunal Pleno,julgado em 08/09/2010, DJe 14-02-2011).5. A correção monetária, que incide sobre as prestações em atraso desde asrespectivas competências, e os juros de mora devem ser aplicados de acordo como Manual de Orientação de Procedimentos para os Cálculos na Justiça Federale, no que couber, observando-se o decidido pelo e. Supremo Tribunal Federal,quando do julgamento da questão de ordem nas ADIs 4357 e 4425.6. Os juros de mora incidirão até a data da expedição do precatório/RPV,conforme entendimento consolidado na c. 3ª Seção desta Corte (AL em EI nº0001940-31.2002.4.03.610). A partir de então deve ser observada a SúmulaVinculante nº 17.7. Os honorários advocatícios devem observar as disposições contidas noinciso II, do § 4º, do Art. 85, do CPC, e a Súmula 111, do e. STJ.8. Remessa oficial não conhecida, apelação do réu provida em parte e apelaçãoda autora desprovida.\" O INSS opôs embargos de declaração, os quais restaram rejeitados, conformea seguinte ementa: \"DIREITO PREVIDENCIÁRIO E PROCESSUAL CIVIL. EMBARGOS DE DECLARAÇÃO. ART. 1.022DO CPC. CARÁTER INFRINGENTE. PREQUESTIONAMENTO. EMBARGOS REJEITADOS.1- Diante das regras insertas no ordenamento processual civil vigente,não se mostra possível a reanálise do julgado.2- Os argumentos deduzidos pelo embargante não são capazes de infirmar aconclusão adotada.3- Denota-se que o recurso tem nítido caráter infringente, ou seja, pretendeo recorrente que esta Turma reveja a decisão proferida, para que outra atendaà interpretação trazida em seu bojo, não havendo, propriamente, falha a sersanada.4- Os embargos de declaração não são hábeis ao reexame da causa, devendoo recorrente valer-se das vias próprias para a impugnação pretendida,entendimento, aliás, já sufragado pelas Cortes Pátrias.5- O conceito de obscuridade, para fins de oposição de embargos de declaração,não coincide com o distanciamento do julgado do ponto de vista do embarganteacerca dos dispositivos legais que reputa violados. Julgado obscuro, areclamar reparos, é julgado incompreensível, seja pela utilização de termosherméticos ou ambíguos, o que não é o caso dos autos.6- Quanto à pretensão de prequestionamento do tema, intenciona o embargante,por meio deste recurso, rediscutir a lide, o que não tem o condão de tornarcabíveis os embargos de declaração, eis que inexiste fundamento que justifiquesua oposição, porquanto não configurados os requisitos do Art. 1.022 doCPC. Precedentes do STJ, desta Turma e da Terceira Seção desta Corte.7- Embargos rejeitados.\" O INSS interpôs recursos especial e extraordinário (ID 112429056 e 112429057). Regularmente intimada, a parte embargada manifestou-se quanto aos embargosdo réu. É o relatório. PODER JUDICIÁRIOTribunal Regional Federal da 3ª Região10ª Turma EMBARGOS DE DECLARAÇÃO EM APELAÇÃO / REMESSA NECESSÁRIA (1728)Nº 0003141-58.2015.4.03.6183RELATOR: Gab. 34 - DES. FED. BAPTISTA PEREIRAEMBARGANTE: INSTITUTO NACIONAL DO SEGURO SOCIAL - INSSAdvogado: ANA JALIS CHANG - SP170032-AEMBARGADO: ACÓRDÃOINTERESSADO: ODETE KAUDER DE LIMAAdvogado: MARCUS ELY SOARES DOS REIS - SP304381-S V O T O A Primeira Seção do C. STJ, em sessão realizada na data de 23/06/2021,apreciou os REsp\\'s 1.761.874/SC, 1.766.553/SC e 1.751.667/RS, afetados aoTema Repetitivo nº 1.005, fixando a tese nos seguintes termos: \"Na ação de conhecimento individual, proposta com o objetivo de adequara renda mensal do benefício previdenciário aos tetos fixados pelas EmendasConstitucionais 20/98 e 41/2003 e cujo pedido coincide com aquele anteriormenteformulado em ação civil pública, a interrupção da prescrição quinquenal,para recebimento das parcelas vencidas, ocorre na data de ajuizamento dalide individual, salvo se requerida a sua suspensão, na forma do art. 104da Lei 8.078/90.\" Assim, evidencia-se a necessidade de adequação do julgado ao entendimentofirmado pela Corte Superior, sendo de rigor a retratação, conforme julgadosdesta Corte: \"PREVIDENCIÁRIO. JUÍZO DE RETRATAÇÃO POSITIVO. TEMA 1005 DO STJ. PRESCRIÇÃOQUINQUENAL.- O C. Superior Tribunal de Justiça, por ocasião do julgamento do REsp1.761.874/SC, também alçado como representativo de controvérsia (Tema 1005)e decidido sob a sistemática de recurso repetitivo (artigo 1.036 do CPC),fixou a seguinte tese: \"Na ação de conhecimento individual, proposta como objetivo de adequar a renda mensal do benefício previdenciário aos tetosfixados pelas Emendas Constitucionais 20/98 e 41/2003 e cujo pedido coincidecom aquele anteriormente formulado em ação civil pública, a interrupção daprescrição quinquenal, para recebimento das parcelas vencidas, ocorre nadata de ajuizamento da lide individual, salvo se requerida a sua suspensão,na forma do art. 104 da Lei 8.078/90.\"- O v. acórdão encontra-se em desconformidade com o entendimento paradigmático(TEMA 1005/STJ), razão pela qual necessário ajustamento a fim de que incidamnos termos do julgado em sede de recurso repetitivo.- Juízo de retratação positivo.\"(ApelRemNec 0008341-46.2015.4.03.6183, Rel. Desembargador Federal LEILAPAIVA MORRISON, 10ª Turma, j. 13/07/2022, DJEN 18/07/2022) \"PROCESSO CIVIL E PREVIDENCIÁRIO. JUÍZO DE RETRATAÇÃO. REVISÃO DE BENEFÍCIOPREVIDENCIÁRIO. ALTERAÇÃO DO TETO PELAS EC Nº 20/98 e 41/03. IMPOSSIBILIDADEDE SE ESTABELECER O MARCO INICIAL DA PRESCRIÇÃO NO AJUIZAMENTO DA ACP Nº0004911-28.2011.4.03.6183. MANUTENÇÃO DO ACÓRDÃO.- Juízo de retratação, nos termos do art. 1.040, do CPC/15.- Acórdão proferido não diverge do entendimento dos Tribunais Superiores.- Manutenção do acórdão recorrido.\"(ApelRemNec 0004797-84.2014.4.03.6183, Rel. Desembargador Federal GILBERTORODRIGUES JORDAN, 9ª Turma, j. 17/03/2022, DJEN 23/03/2022) Destarte, deve ser modificada essa parte do julgado, a fim de se reconhecer aincidência da prescrição quinquenal, nos termos do Art. 103, Parágrafo único,da Lei 8.213/91, restando prescritas as diferenças vencidas antes dos cincoanos precedentes ao ajuizamento da ação. Diante do exposto, em Juízo de retratação, impõe-se a reforma do julgado(ID 112429056 - fls. 172/180), para acolher parcialmente os embargos dedeclaração opostos pelo réu, nos termos do Art. 932, V, \"b\", do CPC, emconsonância com o entendimento firmado pela Corte Superior. Dê-se ciência e, após, retornem os autos à E. Vice-Presidência, conformedeterminado na decisão (ID 256896212).E M E N T A DIREITO PREVIDENCIÁRIO E PROCESSUAL CIVIL. INCIDENTE DE JUÍZO DERETRATAÇÃO. ART. 1.040, II, DO CPC. REVISÃO DE BENEFÍCIO. EMENDASCONSTITUCIONAIS 20/98 E 41/03. TEMA 1.005 STJ. PRESCRIÇÃOQUINQUENAL. ADEQUAÇÃO. REMESSA DOS AUTOS À VICE-PRESIDÊNCIA.1- Incidente de juízo de retratação, nos termos do Art. 1.040, II, do CPC.2- Adequação do julgado ao entendimento firmado pelo C. STJ, no Tema Repetitivonº 1.005.3- Remessa dos autos à Vice-Presidência. ACÓRDÃOVistos e relatados estes autos em que são partes as acima indicadas,a Décima Turma, por unanimidade, decidiu, em Juízo de retratação, acolherparcialmente os embargos de declaração opostos pelo réu, nos termos dorelatório e voto que ficam fazendo parte integrante do presente julgado., E M E N T A DIREITO PREVIDENCIÁRIO E PROCESSUAL CIVIL. INCIDENTE DE JUÍZO DERETRATAÇÃO. ART. 1.040, II, DO CPC. REVISÃO DE BENEFÍCIO. EMENDASCONSTITUCIONAIS 20/98 E 41/03. TEMA 1.005 STJ. PRESCRIÇÃOQUINQUENAL. ADEQUAÇÃO. REMESSA DOS AUTOS À VICE-PRESIDÊNCIA.1- Incidente de juízo de retratação, nos termos do Art. 1.040, II, do CPC.2- Adequação do julgado ao entendimento firmado pelo C. STJ, no Tema Repetitivonº 1.005.3- Remessa dos autos à Vice-Presidência.'"
      ]
     },
     "execution_count": 24,
     "metadata": {},
     "output_type": "execute_result"
    }
   ],
   "source": [
    "jf_p3d_pp.text[49056]"
   ]
  },
  {
   "cell_type": "code",
   "execution_count": 25,
   "id": "3c6ac976",
   "metadata": {},
   "outputs": [],
   "source": [
    "save_to = \"D:\\\\dados-juridicos\\\\pp\\\\\""
   ]
  },
  {
   "cell_type": "code",
   "execution_count": 26,
   "id": "af165bd7",
   "metadata": {},
   "outputs": [],
   "source": [
    "# Salve o dataframe atualizado em um novo arquivo\n",
    "jf_p3d_pp.to_csv(f'{save_to}jf_p3d_pp.csv', index=False)  # Substitua pelo nome desejado para o novo arquivo"
   ]
  },
  {
   "cell_type": "code",
   "execution_count": 27,
   "id": "9756884f",
   "metadata": {},
   "outputs": [],
   "source": [
    "jf_p3d_pp = pd.read_csv(f'{save_to}jf_p3d_pp.csv', nrows=30)"
   ]
  },
  {
   "cell_type": "code",
   "execution_count": 28,
   "id": "b0319126",
   "metadata": {},
   "outputs": [
    {
     "data": {
      "text/plain": [
       "'10ª Turma, Ementa: PODER JUDICIÁRIOTribunal Regional Federal da 3ª Região10ª TurmaAPELAÇÃO CÍVEL (198) Nº 5000351-59.2020.4.03.6112RELATOR: Gab. 34 - DES. FED. BAPTISTA PEREIRAAPELANTE: INSTITUTO NACIONAL DO SEGURO SOCIAL - INSSAPELADO: SONIA MARIA FERREIRA PARRONAdvogado do(a) APELADO: RODRIGO DE MORAIS SOARES - SP310319-AOUTROS PARTICIPANTES: PODER JUDICIÁRIOTribunal Regional Federal da 3ª Região10ª Turma APELAÇÃO CÍVEL (198) Nº 5000351-59.2020.4.03.6112RELATOR: Gab. 34 - DES. FED. BAPTISTA PEREIRAAPELANTE: INSTITUTO NACIONAL DO SEGURO SOCIAL - INSS APELADO: SONIA MARIA FERREIRA PARRONAdvogado do(a) APELADO: RODRIGO DE MORAIS SOARES - SP310319-AOUTROS PARTICIPANTES: R E L A T Ó R I O Trata-se de remessa oficial, havida como submetida, e deapelação interposta nos autos de ação de conhecimento em que se objetiva arevisão de benefício de aposentadoria por idade, mediante a soma de todasas contribuições previdenciárias vertidas durante o exercício de atividadesconcomitantes, sem a aplicação do critério da proporcionalidade previstonos incisos II e III, do Art. 32 da Lei de 8.213/91.O MM. Juízo a quo julgou parcialmente procedente o pedido, condenando oréu a revisar o benefício da parte autora e pagar as diferenças havidas,acrescidas de juros e correção monetária. Os honorários advocatícios foramfixados em 10% das prestações vencidas até a sentença, nos termos da Súmula111/STJ. Tutela antecipada deferida.Os embargos de declaração supervenientes foram rejeitados.Apela o réu, em busca da reforma da r. sentença, sob a alegação da regularidadedos critérios de cálculo adotados no ato de concessão do benefício. Com contrarrazões, subiram os autos.É o relatório. PODER JUDICIÁRIOTribunal Regional Federal da 3ª Região10ª Turma APELAÇÃO CÍVEL (198) Nº 5000351-59.2020.4.03.6112RELATOR: Gab. 34 - DES. FED. BAPTISTA PEREIRAAPELANTE: INSTITUTO NACIONAL DO SEGURO SOCIAL - INSS APELADO: SONIA MARIA FERREIRA PARRONAdvogado do(a) APELADO: RODRIGO DE MORAIS SOARES - SP310319-AOUTROS PARTICIPANTES: V O T O A autora pretende a revisão da renda mensal de seu benefício previdenciáriode aposentadoria por idade mediante a soma de todas as contribuições vertidasdurante o exercício de atividades concomitantes, afastando-se o dispostonos incisos II e III do Art. 32, da Lei 8.213/91. No julgamento do REsp 1870793/RS, do REsp 1870815/PR e do REsp 1870891/PR,afetados ao regime dos recursos repetitivos (Tema nº 1.070/STJ), o c. SuperiorTribunal de Justiça fixou a tese jurídica nos seguintes termos:\"Após o advento da Lei nº 9.876/99, e para fins de cálculo do benefíciode aposentadoria, no caso do exercício de atividades concomitantes pelosegurado, o salário-de-contribuição deverá ser composto da soma de todas ascontribuições previdenciárias por ele vertidas ao sistema, respeitado o tetoprevidenciário\".Entendeu a Corte Superior que a regra prevista nos incisos I, II e III,do Art. 32, da Lei 8.213/91, em sua redação original, tinha por escopoevitar que o segurado passasse a exercer atividades concomitantes duranteos últimos períodos contributivos com o fim único de obter um benefício comrenda mensal mais vantajosa.Considerado que o benefício era calculado com base, no máximo, em 36salários de contribuição, apurados em intervalo não superior a quarentae oito meses, o expediente de aumentar os recolhimentos contributivos nosperíodos imediatamente anteriores à aposentadoria representava substancialincremento na base de cálculo do benefício, o que justificava a vedaçãolegal com o fito de obstar esse artifício.Por esse motivo, a soma das contribuições das atividades exercidassimultaneamente exercidas era permitida somente quando o segurado satisfizesse,em relação a cada uma delas, todas as condições do benefício requerido.Não obstante, com o advento da Lei 9.876/99, a metodologia de cálculo dosbenefícios previdenciários sofreu significativas alterações, uma das quaisconcernente à ampliação do período básico de cálculo, que passou a abrangertodo o período contributivo do segurado. A partir de então, a renda mensalinicial veio a refletir de forma mais fidedigna a contrapartida financeirapor ele suportada ao longo de sua vida produtiva, além de melhor atender aocaráter retributivo do Regime Geral da Previdência Social, por levar em contaos recolhimentos efetuados ao longo de muitos anos, e não apenas aquelesregistrados nos últimos meses situados ao final do seu tempo de trabalho.O novo panorama legislativo, portanto, dá lugar à compreensão no sentido deque, respeitado o teto previdenciário, é admissível a soma das contribuiçõesvertidas no exercício de atividades concomitantes. O julgado repetitivo proferido pelo e. STJ foi assim ementado:\"PREVIDENCIÁRIO. RECURSO ESPECIAL REPRESENTATIVO DA CONTROVÉRSIA. TEMA1.070. APOSENTADORIA NO RGPS. EXERCÍCIO DE ATIVIDADES CONCOMITANTES. CÁLCULODO SALÁRIO-DE-BENEFÍCIO. SOMA DE TODOS OS SALÁRIOS-DE-CONTRIBUIÇÃO VERTIDOSPELO SEGURADO EM SUAS SIMULTÂNEAS ATIVIDADES. POSSIBILIDADE. EXEGESE DA LEIN. 9.876/99. INAPLICABILIDADE DOS INCISOS DO ART. 32 DA LEI 8.213/91 EM SUAREDAÇÃO ORIGINAL.1. Segundo a redação original dos incisos I, II e III do art. 32 da Lei8.213/91, que tratavam do cálculo dos benefícios previdenciários devidos nocaso de atividades concomitantes, a soma integral dos salários-de-contribuição,para fins de apuração do salário-de-benefício, somente seria possível nashipóteses em que o segurado reunisse todas as condições para a individualconcessão do benefício em cada uma das atividades por ele exercida.2. O espírito do referido art. 32 da Lei 8.213/91, mormente no que tocavaao disposto em seus incisos II e III, era o de impedir que, às vésperasde implementar os requisitos necessários à obtenção do benefício, viesse osegurado a exercer uma segunda e simultânea atividade laborativa para finsde obter uma renda mensal inicial mais vantajosa, já que seriam consideradosos últimos salários-de-contribuição no cômputo de seu salário-de-benefício.3. No entanto, a subsequente Lei 9.876/99 alterou a metodologia do cálculo dosbenefícios e passou a considerar todo o histórico contributivo do segurado,com a ampliação do período básico de cálculo; a renda mensal inicial, comisso, veio a refletir, de forma mais fiel, a contrapartida financeira porele suportada ao longo de sua vida produtiva, além de melhor atender aocaráter retributivo do Regime Geral da Previdência Social.4. A substancial ampliação do período básico de cálculo - PBC, comopromovida pela Lei 9.876/99, possibilitou a compreensão de que, respeitadoo teto previdenciário, as contribuições vertidas no exercício de atividadesconcomitantes podem, sim, ser somadas para se estabelecer o efetivo e corretosalário-de-benefício, não mais existindo espaço para aplicação dos incisosdo art. 32 da Lei 8.213/91, garantindo-se, com isso, o pagamento de benefícioque melhor retrate o histórico contributivo do segurado.5. Acórdão submetido ao regime dos arts. 1.036 e seguintes do CPC/2015 eart. 256-I do RISTJ, com a fixação da seguinte TESE:\"Após o advento da Lei 9.876/99, e para fins de cálculo do benefíciode aposentadoria, no caso do exercício de atividades concomitantes pelosegurado, o salário-de-contribuição deverá ser composto da soma de todas ascontribuições previdenciárias por ele vertidas ao sistema, respeitado o tetoprevidenciário\".6. SOLUÇÃO DO CASO CONCRETO: hipótese em que a pretensão do INSS vai nacontramão do enunciado acima, por isso que seu recurso especial resultadesprovido.(REsp n. 1.870.793/RS, relator Ministro Sérgio Kukina, Primeira Seção,julgado em 11/5/2022, DJe de 24/5/2022.)\".Por fim, vale anotar que a Lei 13.846/19 eliminou qualquer discussão sobreo tema, ao revogar os incisos do Art. 32, da Lei 8.213/91, que restringiama utilização dos recolhimentos contributivos das atividades exercidas deforma concomitante no cálculo do salário de benefício.Destarte, é de se manter a r. sentença quanto à matéria de fundo, devendo oréu proceder a revisão do benefício da autora, mediante a soma de todasas contribuições vertidas durante o exercício de atividades concomitantes,respeitado o teto previdenciário, e pagar as diferenças havidas, observadaa prescrição quinquenal, corrigidas monetariamente e acrescidas de juros demora.Aplica-se o disposto no Manual de Orientação de Procedimentos para os Cálculosna Justiça Federal no que tange aos índices de correção monetária e taxa dejuros de mora.Convém alertar que das prestações vencidas devem ser descontadas aquelas pagasadministrativamente ou por força de liminar, e insuscetíveis de cumulaçãocom o benefício concedido, na forma do Art. 124, da Lei nº 8.213/91.Os honorários advocatícios devem observar as disposições contidas no incisoII, do § 4º, do Art. 85, do CPC.A autarquia previdenciária está isenta das custas e emolumentos, nos termosdo Art. 4º, I, da Lei 9.289/96, do Art. 24-A da Lei 9.028/95, com a redaçãodada pelo Art. 3º da MP 2.180-35/01, e do Art. 8º, § 1º, da Lei 8.620/93.Ante o exposto, dou parcial provimento à remessa oficial, havida comosubmetida, e à apelação para adequar os consectários legais e os honoráriosadvocatícios. É o voto. E M E N T APREVIDENCIÁRIO. REVISÃO. APOSENTADORIA. EXERCÍCIO DE ATIVIDADESCONCOMITANTES. SOMA DE TODAS AS CONTRIBUIÇÕES VERTIDAS NOPERÍODO. CABIMENTO. APLICAÇÃO DE TESE FIRMADA EM RECURSO REPETITIVO. 1. Consoante entendimento firmado no julgamento do Tema Repetitivo nº1.070/STJ, \"Após o advento da Lei nº 9.876/99, e para fins de cálculo dobenefício de aposentadoria, no caso do exercício de atividades concomitantespelo segurado, o salário-de-contribuição deverá ser composto da soma de todasas contribuições previdenciárias por ele vertidas ao sistema, respeitado oteto previdenciário\".2. Aplica-se o disposto no Manual de Orientação de Procedimentos para osCálculos na Justiça Federal no que tange aos índices de correção monetáriae taxa de juros de mora.3. Os honorários advocatícios devem observar as disposições contidas noinciso II, do § 4º, do Art. 85, do CPC.4. A autarquia previdenciária está isenta das custas e emolumentos, nos termosdo Art. 4º, I, da Lei 9.289/96, do Art. 24-A da Lei 9.028/95, com a redaçãodada pelo Art. 3º da MP 2.180-35/01, e do Art. 8º, § 1º, da Lei 8.620/93.5. Remessa oficial e apelação providas em parte. ACÓRDÃOVistos e relatados estes autos em que são partes as acima indicadas,a Décima Turma, por unanimidade, decidiu dar parcial provimento à remessaoficial, havida como submetida, e à apelação, sendo que o Des. Fed. NelsonPorfírio e a Des. Fed. Leila Paiva ressalvaram seus entendimentos, nostermos do relatório e voto que ficam fazendo parte integrante dopresente julgado., E M E N T APREVIDENCIÁRIO. REVISÃO. APOSENTADORIA. EXERCÍCIO DE ATIVIDADESCONCOMITANTES. SOMA DE TODAS AS CONTRIBUIÇÕES VERTIDAS NOPERÍODO. CABIMENTO. APLICAÇÃO DE TESE FIRMADA EM RECURSO REPETITIVO. 1. Consoante entendimento firmado no julgamento do Tema Repetitivo nº1.070/STJ, \"Após o advento da Lei nº 9.876/99, e para fins de cálculo dobenefício de aposentadoria, no caso do exercício de atividades concomitantespelo segurado, o salário-de-contribuição deverá ser composto da soma de todasas contribuições previdenciárias por ele vertidas ao sistema, respeitado oteto previdenciário\".2. Aplica-se o disposto no Manual de Orientação de Procedimentos para osCálculos na Justiça Federal no que tange aos índices de correção monetáriae taxa de juros de mora.3. Os honorários advocatícios devem observar as disposições contidas noinciso II, do § 4º, do Art. 85, do CPC.4. A autarquia previdenciária está isenta das custas e emolumentos, nos termosdo Art. 4º, I, da Lei 9.289/96, do Art. 24-A da Lei 9.028/95, com a redaçãodada pelo Art. 3º da MP 2.180-35/01, e do Art. 8º, § 1º, da Lei 8.620/93.5. Remessa oficial e apelação providas em parte.'"
      ]
     },
     "execution_count": 28,
     "metadata": {},
     "output_type": "execute_result"
    }
   ],
   "source": [
    "jf_p3d_pp.text[28]"
   ]
  },
  {
   "cell_type": "code",
   "execution_count": null,
   "id": "f89da220",
   "metadata": {},
   "outputs": [],
   "source": []
  },
  {
   "cell_type": "code",
   "execution_count": null,
   "id": "14165c75",
   "metadata": {},
   "outputs": [],
   "source": []
  }
 ],
 "metadata": {
  "kernelspec": {
   "display_name": "Python 3 (ipykernel)",
   "language": "python",
   "name": "python3"
  },
  "language_info": {
   "codemirror_mode": {
    "name": "ipython",
    "version": 3
   },
   "file_extension": ".py",
   "mimetype": "text/x-python",
   "name": "python",
   "nbconvert_exporter": "python",
   "pygments_lexer": "ipython3",
   "version": "3.11.5"
  }
 },
 "nbformat": 4,
 "nbformat_minor": 5
}
