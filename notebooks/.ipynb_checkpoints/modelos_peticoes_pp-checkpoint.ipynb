{
 "cells": [
  {
   "cell_type": "code",
   "execution_count": 1,
   "id": "5c5d93de",
   "metadata": {},
   "outputs": [],
   "source": [
    "path = \"D:\\\\dados-juridicos\\\\brutos\\\\menores\\\\\""
   ]
  },
  {
   "cell_type": "code",
   "execution_count": 2,
   "id": "0384af48",
   "metadata": {},
   "outputs": [
    {
     "name": "stderr",
     "output_type": "stream",
     "text": [
      "C:\\Users\\fabry\\AppData\\Roaming\\Python\\Python311\\site-packages\\pandas\\core\\arrays\\masked.py:60: UserWarning: Pandas requires version '1.3.6' or newer of 'bottleneck' (version '1.3.5' currently installed).\n",
      "  from pandas.core import (\n"
     ]
    }
   ],
   "source": [
    "import pandas as pd"
   ]
  },
  {
   "cell_type": "code",
   "execution_count": 3,
   "id": "ce960849",
   "metadata": {},
   "outputs": [
    {
     "data": {
      "text/html": [
       "<div>\n",
       "<style scoped>\n",
       "    .dataframe tbody tr th:only-of-type {\n",
       "        vertical-align: middle;\n",
       "    }\n",
       "\n",
       "    .dataframe tbody tr th {\n",
       "        vertical-align: top;\n",
       "    }\n",
       "\n",
       "    .dataframe thead th {\n",
       "        text-align: right;\n",
       "    }\n",
       "</style>\n",
       "<table border=\"1\" class=\"dataframe\">\n",
       "  <thead>\n",
       "    <tr style=\"text-align: right;\">\n",
       "      <th></th>\n",
       "      <th>peticao</th>\n",
       "      <th>tipo</th>\n",
       "    </tr>\n",
       "  </thead>\n",
       "  <tbody>\n",
       "    <tr>\n",
       "      <th>0</th>\n",
       "      <td>EXMO. SR. DR. JUIZ DE DIREITO DA .... ª VARA C...</td>\n",
       "      <td>Execução</td>\n",
       "    </tr>\n",
       "    <tr>\n",
       "      <th>1</th>\n",
       "      <td>EXMO. SR. DR. JUIZ DE DIREITO DA .... ª VARA C...</td>\n",
       "      <td>Execução</td>\n",
       "    </tr>\n",
       "    <tr>\n",
       "      <th>2</th>\n",
       "      <td>EXMO. SR. DR. JUIZ DE DIREITO DA .... ª VARA C...</td>\n",
       "      <td>Execução</td>\n",
       "    </tr>\n",
       "    <tr>\n",
       "      <th>3</th>\n",
       "      <td>EXMO. SR. DR. JUIZ DE DIREITO DA .... ª VARA C...</td>\n",
       "      <td>Execução</td>\n",
       "    </tr>\n",
       "    <tr>\n",
       "      <th>4</th>\n",
       "      <td>EXMO. SR. DR. JUIZ DE DIREITO DA .... ª VARA C...</td>\n",
       "      <td>Execução</td>\n",
       "    </tr>\n",
       "    <tr>\n",
       "      <th>...</th>\n",
       "      <td>...</td>\n",
       "      <td>...</td>\n",
       "    </tr>\n",
       "    <tr>\n",
       "      <th>1809</th>\n",
       "      <td>EXMO. SR. DR. JUIZ DE DIREITO DA ....ª VARA CÍ...</td>\n",
       "      <td>Revisional</td>\n",
       "    </tr>\n",
       "    <tr>\n",
       "      <th>1810</th>\n",
       "      <td>NaN</td>\n",
       "      <td>Revisional</td>\n",
       "    </tr>\n",
       "    <tr>\n",
       "      <th>1811</th>\n",
       "      <td>NaN</td>\n",
       "      <td>Revisional</td>\n",
       "    </tr>\n",
       "    <tr>\n",
       "      <th>1812</th>\n",
       "      <td>EXMO.SR.DR.JUIZ DE DIREITO DA VARA CRIMINAL DE...</td>\n",
       "      <td>Revisional</td>\n",
       "    </tr>\n",
       "    <tr>\n",
       "      <th>1813</th>\n",
       "      <td>NaN</td>\n",
       "      <td>Revisional</td>\n",
       "    </tr>\n",
       "  </tbody>\n",
       "</table>\n",
       "<p>1814 rows × 2 columns</p>\n",
       "</div>"
      ],
      "text/plain": [
       "                                                peticao         tipo\n",
       "0     EXMO. SR. DR. JUIZ DE DIREITO DA .... ª VARA C...    Execução \n",
       "1     EXMO. SR. DR. JUIZ DE DIREITO DA .... ª VARA C...    Execução \n",
       "2     EXMO. SR. DR. JUIZ DE DIREITO DA .... ª VARA C...    Execução \n",
       "3     EXMO. SR. DR. JUIZ DE DIREITO DA .... ª VARA C...    Execução \n",
       "4     EXMO. SR. DR. JUIZ DE DIREITO DA .... ª VARA C...    Execução \n",
       "...                                                 ...          ...\n",
       "1809  EXMO. SR. DR. JUIZ DE DIREITO DA ....ª VARA CÍ...  Revisional \n",
       "1810                                                NaN  Revisional \n",
       "1811                                                NaN  Revisional \n",
       "1812  EXMO.SR.DR.JUIZ DE DIREITO DA VARA CRIMINAL DE...  Revisional \n",
       "1813                                                NaN  Revisional \n",
       "\n",
       "[1814 rows x 2 columns]"
      ]
     },
     "execution_count": 3,
     "metadata": {},
     "output_type": "execute_result"
    }
   ],
   "source": [
    "df = pd.read_csv(f'{path}Modelo de Petiçao.csv.aspx')\n",
    "df"
   ]
  },
  {
   "cell_type": "code",
   "execution_count": 4,
   "id": "481749cf",
   "metadata": {},
   "outputs": [
    {
     "data": {
      "text/plain": [
       "'EXMO. SR. DR. JUIZ DE DIREITO DA .... ª VARA CÍVEL DA COMARCA DE ....\\n\\n\\n\\n\\n\\n\\n\\n\\n\\n..............................................., pessoa jurídica de direito privado, com sede na Rua .... nº...., CGC/MF nº ...., por seu advogado infra-assinado, qualificado pela procuração em anexo, vem mui respeitosamente à presença de V. Exa. para propor a presente \\n\\n\\nAÇÃO DE EXECUÇÃO DE TÍTULO EXTRAJUDICIAL\\n\\ncontra ........................................, pessoa jurídica de direito privado, com sede na Rua .... nº ...., na Comarca de ...., CGC/MF nº ....; e contra ...., ..............................(qualificação), residente e domiciliado na Rua .... nº ...., na Comarca de ...., CGC/MF de número desconhecido, pelos motivos de fato e de direito a seguir aduzidos:\\n\\nA primeira executada é emitente de duplicatas sacadas contra várias empresas com quem manteve negócios.\\n\\nOs títulos de crédito emitidos pela primeira executada foram transferidos à exequente, via endosso, sendo que o segundo executado passou a figurar como avalista dos títulos.\\n\\nOs sacados, apesar de devidamente protestados, não pagaram os valores devidos.\\n\\nDesta forma, e de conformidade com os documentos em anexo, a exequente é credora dos executados dos seguintes valores:\\n\\n\\nDPL Nº\\tVALOR\\t    VENC\\t          VALOR/PROTESTO              DATA\\n....\\tR$ ....\\t     ....                    R$ ....\\t\\t       ....\\n....\\tR$ ....\\t     ....\\t           R$ ....\\t                         ....\\n....\\tR$ ....\\t     ....\\t           R$ ....\\t\\t       ....\\n\\nPERFAZENDO UM TOTAL DE R$ ....\\n\\nA exequente esgotou todos os meios suasórios para reaver os valores acima sem, portanto, lograr êxito, vendo-se, pois, compelida à propositura da presente.\\n\\nIsto posto, e com fundamento nos artigos 581 e 585 do CPC, é a presente para requerer:\\n\\nDigne-se V. Exa. determinar a citação dos executados, nos endereços fornecidos no preâmbulo, ou onde forem encontrados, para que paguem, em 24 horas, o valor do principal, devidamente acrescido das custas de protesto, juros de mora, correção monetária, custas judiciais e honorários advocatícios na base usual de 20% sobre o valor do débito, ou ofereçam bens à penhora, sob pena da mesma recair em tantos quantos bastem para a garantia do juízo, fazendo-os cientes de que poderão embargar a execução no prazo legal.\\n\\nNo caso de penhora de bem imóvel requer a intimação da esposa do segundo executado.\\n\\nEmbargada a execução, requer a sua total improcedência, condenando-se o embargante às penas sucumbenciais, determinando-se a continuação da execução, em seus termos.\\n\\nRequer, ainda, os favores do  art. 172/CPC,  § 2º.\\n\\nProtesta provar o alegado através de via depoimento pessoal dos executados sob pena de confesso, testemunhais, periciais, e outras documentais.\\n\\nDá-se à presente o valor de R$ .... para fins de alçada.\\n\\nNestes '"
      ]
     },
     "execution_count": 4,
     "metadata": {},
     "output_type": "execute_result"
    }
   ],
   "source": [
    "df.peticao[0]"
   ]
  },
  {
   "cell_type": "code",
   "execution_count": 5,
   "id": "e2f3a4b6",
   "metadata": {},
   "outputs": [
    {
     "data": {
      "text/plain": [
       "'Execução '"
      ]
     },
     "execution_count": 5,
     "metadata": {},
     "output_type": "execute_result"
    }
   ],
   "source": [
    "df.tipo[0]"
   ]
  },
  {
   "cell_type": "code",
   "execution_count": 6,
   "id": "86cba150",
   "metadata": {},
   "outputs": [],
   "source": [
    "df['text'] = df['peticao'] + '. Classe: '+ df['tipo']# ', Classe: '+df['Classe']+ ', Certidão Julgamento: ' + df['CertidaoJulgamento']+ ', Informação Complementar: ' + df['InfoComplementar']"
   ]
  },
  {
   "cell_type": "code",
   "execution_count": 7,
   "id": "3d88eaa5",
   "metadata": {},
   "outputs": [
    {
     "data": {
      "text/plain": [
       "0       EXMO. SR. DR. JUIZ DE DIREITO DA .... ª VARA C...\n",
       "1       EXMO. SR. DR. JUIZ DE DIREITO DA .... ª VARA C...\n",
       "2       EXMO. SR. DR. JUIZ DE DIREITO DA .... ª VARA C...\n",
       "3       EXMO. SR. DR. JUIZ DE DIREITO DA .... ª VARA C...\n",
       "4       EXMO. SR. DR. JUIZ DE DIREITO DA .... ª VARA C...\n",
       "                              ...                        \n",
       "1809    EXMO. SR. DR. JUIZ DE DIREITO DA ....ª VARA CÍ...\n",
       "1810                                                  NaN\n",
       "1811                                                  NaN\n",
       "1812    EXMO.SR.DR.JUIZ DE DIREITO DA VARA CRIMINAL DE...\n",
       "1813                                                  NaN\n",
       "Name: text, Length: 1814, dtype: object"
      ]
     },
     "execution_count": 7,
     "metadata": {},
     "output_type": "execute_result"
    }
   ],
   "source": [
    "df['text']"
   ]
  },
  {
   "cell_type": "code",
   "execution_count": 9,
   "id": "82e03721",
   "metadata": {},
   "outputs": [
    {
     "data": {
      "text/plain": [
       "'EXMO. SR. DR. JUIZ DE DIREITO DA ....ª VARA CÍVEL DA COMARCA ....\\n\\n\\n\\n\\n\\n\\n\\n\\n\\n..................................................., (qualificação), Cédula de Identidade/RG nº ............. e CPF nº ...., residente e domiciliada na Rua .... nº ...........,), por seu procurador judicial ...., adiante assinado, com escritório profissional na Rua .................... nº ...., onde recebe intimações, vem requerer a V. Exa. a seguinte\\n\\n\\nADJUDICAÇÃO COMPULSÓRIA\\n\\nde terreno de loteamento, contra ............................., (qualificação), CPF nº ...., Cédula de Identidade/ RG nº .................., e sua esposa ............., (qualificação), ambos no endereço na Rua .... nº ...., Bairro ...., CEP ...., (cidade/estado), com fundamento nos Artigos 16 e 22 do Decreto-Lei nº 58, com as alterações da Lei 6.014 de 27/12/73, pelos seguintes fatos e razões de direito que passa a expor:\\n\\n\\nDOS FATOS\\n\\nI). A Requerente adquiriu ...., conforme contrato particular de Cessão de Direitos de Compromisso de Compra e Venda, (documento anexo nº ....), o terreno identificado como Lote nº ...., Quadra ...., da planta ...., no Município de ...., (estado).\\n\\nll). A Cessão de Direitos de Compromisso de Compra e Venda é referente ao Contrato de Compra nº .... (doc. anexo nº ....) para venda de um lote em prestações, lote este acima especificado, cujo loteamento foi registrado sob nº .... do livro ...., no Cartório de Registro de Imóveis da Comarca de .... e firmado pela imobiliária ...., que intermediou a venda e representou o requerido, e que recebeu as prestações e ao final emitiu a CARTA DE QUITAÇÃO do contrato (doc. anexo nº ....).\\n\\nIII). Apesar de quitado o referido contrato, a Requerente não consegue obter a escritura definitiva do imóvel, por razões alheias a sua vontade, obrigando-se, portanto, a propor a presente ação de Adjudicação Compulsória.\\n\\nTendo o Requerente  pago integralmente o imóvel em nome da primeira Requerida, dando baixa na Hipoteca junto ao agente financeiro e ao registro de imóveis, conforme os documentos em anexo, exaustivamente, tem procurado as Requeridas para o fim específico de compeli-las a outorgarem e regularizar a transferência do domínio através da competente escritura definitiva do imóvel, porém, sem sucesso.\\nDO DIREITO\\n\\nA presente ação tem como base legal o Artigo 16 do Decreto-Lei nº 58, de 10 de dezembro de 1937, com a nova redação dada pela Lei nº 6.014 de 27 de dezembro de 1973, que prevê para o caso concreto a adoção do rito sumário, conforme Art. 275 e seguintes do CPC.\\n\\nEsta autuação, tendo como  suporte-fático, como descrevem os autuantes, \"desvio\" de cafés, na verdade, foram decorrentes de furto, conforme evidencia a denúncia ofertada pelo Promotor Publico à .... Vara criminal de .... (documentos de fls. .... Do procedimento administrativo fiscal, em cópias reprográficas), onde um dos principais responsáveis, era fiel depositário, nos termos da lei que rege a atividade de armazéns gerais. \\n\\n\"EX POSITIS\"\\n\\nTendo em vista o acima exposto, pede-se em corolário:\\n\\nl)- A citação dos requeridos, por carta registrada, através dos Correios, conforme art. 222 e 223 do CPC, para a audiência de instrução e julgamento, no termos do Art. 278 do CPC sob pena de revelia.\\n\\nII)- Julgada procedente a ação, seja adjudicado à Requerente, o imóvel constante do Compromisso de Compra e Venda, objeto dessa ação, para o posterior e devido REGISTRO IMOBILIÁRIO. \\n\\nIII)- Seja deferida a produção de todos os meios de provas admitidos em direito, principalmente a testemunhal, para o que se indica o seguinte rol de testemunhas: \\n\\n....................., (qualificações); ...., (qualificações), que comparecerão a audiência independente de intimação.\\n\\nDá-se à causa  o valor  R$ .... (....).\\n\\n                                                      Nestes . Classe: Alimentos '"
      ]
     },
     "execution_count": 9,
     "metadata": {},
     "output_type": "execute_result"
    }
   ],
   "source": [
    "df.text[45]"
   ]
  },
  {
   "cell_type": "code",
   "execution_count": 10,
   "id": "b049f3f2",
   "metadata": {},
   "outputs": [],
   "source": [
    "# Ajuste os caracteres \"\\n\" para justificar\n",
    "df['text'] = df['text'].str.replace('\\n', ' ')\n",
    "df['text'] = df['text'].str.replace('\\\\n', ' ')"
   ]
  },
  {
   "cell_type": "code",
   "execution_count": 11,
   "id": "6db3b79c",
   "metadata": {},
   "outputs": [
    {
     "data": {
      "text/plain": [
       "'EXMO. SR. DR. JUIZ DE DIREITO DA ....ª VARA CÍVEL DA COMARCA ....          ..................................................., (qualificação), Cédula de Identidade/RG nº ............. e CPF nº ...., residente e domiciliada na Rua .... nº ...........,), por seu procurador judicial ...., adiante assinado, com escritório profissional na Rua .................... nº ...., onde recebe intimações, vem requerer a V. Exa. a seguinte   ADJUDICAÇÃO COMPULSÓRIA  de terreno de loteamento, contra ............................., (qualificação), CPF nº ...., Cédula de Identidade/ RG nº .................., e sua esposa ............., (qualificação), ambos no endereço na Rua .... nº ...., Bairro ...., CEP ...., (cidade/estado), com fundamento nos Artigos 16 e 22 do Decreto-Lei nº 58, com as alterações da Lei 6.014 de 27/12/73, pelos seguintes fatos e razões de direito que passa a expor:   DOS FATOS  I). A Requerente adquiriu ...., conforme contrato particular de Cessão de Direitos de Compromisso de Compra e Venda, (documento anexo nº ....), o terreno identificado como Lote nº ...., Quadra ...., da planta ...., no Município de ...., (estado).  ll). A Cessão de Direitos de Compromisso de Compra e Venda é referente ao Contrato de Compra nº .... (doc. anexo nº ....) para venda de um lote em prestações, lote este acima especificado, cujo loteamento foi registrado sob nº .... do livro ...., no Cartório de Registro de Imóveis da Comarca de .... e firmado pela imobiliária ...., que intermediou a venda e representou o requerido, e que recebeu as prestações e ao final emitiu a CARTA DE QUITAÇÃO do contrato (doc. anexo nº ....).  III). Apesar de quitado o referido contrato, a Requerente não consegue obter a escritura definitiva do imóvel, por razões alheias a sua vontade, obrigando-se, portanto, a propor a presente ação de Adjudicação Compulsória.  Tendo o Requerente  pago integralmente o imóvel em nome da primeira Requerida, dando baixa na Hipoteca junto ao agente financeiro e ao registro de imóveis, conforme os documentos em anexo, exaustivamente, tem procurado as Requeridas para o fim específico de compeli-las a outorgarem e regularizar a transferência do domínio através da competente escritura definitiva do imóvel, porém, sem sucesso. DO DIREITO  A presente ação tem como base legal o Artigo 16 do Decreto-Lei nº 58, de 10 de dezembro de 1937, com a nova redação dada pela Lei nº 6.014 de 27 de dezembro de 1973, que prevê para o caso concreto a adoção do rito sumário, conforme Art. 275 e seguintes do CPC.  Esta autuação, tendo como  suporte-fático, como descrevem os autuantes, \"desvio\" de cafés, na verdade, foram decorrentes de furto, conforme evidencia a denúncia ofertada pelo Promotor Publico à .... Vara criminal de .... (documentos de fls. .... Do procedimento administrativo fiscal, em cópias reprográficas), onde um dos principais responsáveis, era fiel depositário, nos termos da lei que rege a atividade de armazéns gerais.   \"EX POSITIS\"  Tendo em vista o acima exposto, pede-se em corolário:  l)- A citação dos requeridos, por carta registrada, através dos Correios, conforme art. 222 e 223 do CPC, para a audiência de instrução e julgamento, no termos do Art. 278 do CPC sob pena de revelia.  II)- Julgada procedente a ação, seja adjudicado à Requerente, o imóvel constante do Compromisso de Compra e Venda, objeto dessa ação, para o posterior e devido REGISTRO IMOBILIÁRIO.   III)- Seja deferida a produção de todos os meios de provas admitidos em direito, principalmente a testemunhal, para o que se indica o seguinte rol de testemunhas:   ....................., (qualificações); ...., (qualificações), que comparecerão a audiência independente de intimação.  Dá-se à causa  o valor  R$ .... (....).                                                        Nestes . Classe: Alimentos '"
      ]
     },
     "execution_count": 11,
     "metadata": {},
     "output_type": "execute_result"
    }
   ],
   "source": [
    "df.text[45]"
   ]
  },
  {
   "cell_type": "code",
   "execution_count": 12,
   "id": "ffda0990",
   "metadata": {},
   "outputs": [],
   "source": [
    "import re"
   ]
  },
  {
   "cell_type": "code",
   "execution_count": 13,
   "id": "d11bb570",
   "metadata": {},
   "outputs": [],
   "source": [
    "def remove_non_breaking_spaces(text):\n",
    "    return text.replace(\"\\xa0\", \" \").strip()"
   ]
  },
  {
   "cell_type": "code",
   "execution_count": 14,
   "id": "3ec562d2",
   "metadata": {},
   "outputs": [],
   "source": [
    "def remove_metadata(text):\n",
    "    text = re.sub(r', Length: \\d+, dtype: object', '', text)\n",
    "    text = str(text).replace(\"nan\", \"\")\n",
    "    return text.strip()"
   ]
  },
  {
   "cell_type": "code",
   "execution_count": 15,
   "id": "b805fbd7",
   "metadata": {},
   "outputs": [],
   "source": [
    "def remove_html_tags(text):\n",
    "    text = str(text)\n",
    "    clean = re.compile('<.*?>')\n",
    "    return re.sub(clean, '', text)"
   ]
  },
  {
   "cell_type": "code",
   "execution_count": 16,
   "id": "2e763d59",
   "metadata": {},
   "outputs": [],
   "source": [
    "def remove_excess_spaces(text):\n",
    "    text = str(text)\n",
    "    return re.sub(r'\\s+', ' ', text).strip()"
   ]
  },
  {
   "cell_type": "code",
   "execution_count": 17,
   "id": "744d664c",
   "metadata": {},
   "outputs": [],
   "source": [
    "def remove_reticencias_nan(text):\n",
    "    text = re.sub(r'\\.\\.\\.', '', text)\n",
    "    text = str(text).replace(\"nan\", \"\")\n",
    "    text = str(text).replace(\"NaN\", \"\")\n",
    "    return text.strip()  # Remove espaços em branco extras\n"
   ]
  },
  {
   "cell_type": "code",
   "execution_count": 19,
   "id": "3e41c3c9",
   "metadata": {},
   "outputs": [],
   "source": [
    "#df['text'] = df['text'].apply(remove_non_breaking_spaces)\n",
    "df['text'] = df['text'].apply(remove_html_tags)\n",
    "df['text'] = df['text'].apply(remove_excess_spaces)\n",
    "df['text'] = df['text'].apply(remove_reticencias_nan)\n",
    "df['text'] = df['text'].apply(remove_metadata)"
   ]
  },
  {
   "cell_type": "code",
   "execution_count": 20,
   "id": "b8465f68",
   "metadata": {},
   "outputs": [
    {
     "data": {
      "text/plain": [
       "'EXMO. SR. DR. JUIZ DE DIREITO DA .ª VARA CÍVEL DA COMARCA . , (qualificação), Cédula de Identidade/RG nº . e CPF nº ., residente e domiciliada na Rua . nº ..,), por seu procurador judicial ., adiante assinado, com escritório profissional na Rua .. nº ., onde recebe intimações, vem requerer a V. Exa. a seguinte ADJUDICAÇÃO COMPULSÓRIA de terreno de loteamento, contra .., (qualificação), CPF nº ., Cédula de Identidade/ RG nº , e sua esposa ., (qualificação), ambos no endereço na Rua . nº ., Bairro ., CEP ., (cidade/estado), com fundamento nos Artigos 16 e 22 do Decreto-Lei nº 58, com as alterações da Lei 6.014 de 27/12/73, pelos seguintes fatos e razões de direito que passa a expor: DOS FATOS I). A Requerente adquiriu ., conforme contrato particular de Cessão de Direitos de Compromisso de Compra e Venda, (documento anexo nº .), o terreno identificado como Lote nº ., Quadra ., da planta ., no Município de ., (estado). ll). A Cessão de Direitos de Compromisso de Compra e Venda é referente ao Contrato de Compra nº . (doc. anexo nº .) para venda de um lote em prestações, lote este acima especificado, cujo loteamento foi registrado sob nº . do livro ., no Cartório de Registro de Imóveis da Comarca de . e firmado pela imobiliária ., que intermediou a venda e representou o requerido, e que recebeu as prestações e ao final emitiu a CARTA DE QUITAÇÃO do contrato (doc. anexo nº .). III). Apesar de quitado o referido contrato, a Requerente não consegue obter a escritura definitiva do imóvel, por razões alheias a sua vontade, obrigando-se, portanto, a propor a presente ação de Adjudicação Compulsória. Tendo o Requerente pago integralmente o imóvel em nome da primeira Requerida, dando baixa na Hipoteca junto ao agente ficeiro e ao registro de imóveis, conforme os documentos em anexo, exaustivamente, tem procurado as Requeridas para o fim específico de compeli-las a outorgarem e regularizar a transferência do domínio através da competente escritura definitiva do imóvel, porém, sem sucesso. DO DIREITO A presente ação tem como base legal o Artigo 16 do Decreto-Lei nº 58, de 10 de dezembro de 1937, com a nova redação dada pela Lei nº 6.014 de 27 de dezembro de 1973, que prevê para o caso concreto a adoção do rito sumário, conforme Art. 275 e seguintes do CPC. Esta autuação, tendo como suporte-fático, como descrevem os autuantes, \"desvio\" de cafés, na verdade, foram decorrentes de furto, conforme evidencia a denúncia ofertada pelo Promotor Publico à . Vara criminal de . (documentos de fls. . Do procedimento administrativo fiscal, em cópias reprográficas), onde um dos principais responsáveis, era fiel depositário, nos termos da lei que rege a atividade de armazéns gerais. \"EX POSITIS\" Tendo em vista o acima exposto, pede-se em corolário: l)- A citação dos requeridos, por carta registrada, através dos Correios, conforme art. 222 e 223 do CPC, para a audiência de instrução e julgamento, no termos do Art. 278 do CPC sob pena de revelia. II)- Julgada procedente a ação, seja adjudicado à Requerente, o imóvel constante do Compromisso de Compra e Venda, objeto dessa ação, para o posterior e devido REGISTRO IMOBILIÁRIO. III)- Seja deferida a produção de todos os meios de provas admitidos em direito, principalmente a testemunhal, para o que se indica o seguinte rol de testemunhas: , (qualificações); ., (qualificações), que comparecerão a audiência independente de intimação. Dá-se à causa o valor R$ . (.). Nestes . Classe: Alimentos'"
      ]
     },
     "execution_count": 20,
     "metadata": {},
     "output_type": "execute_result"
    }
   ],
   "source": [
    "df.text[45]"
   ]
  },
  {
   "cell_type": "code",
   "execution_count": 21,
   "id": "8f6f694c",
   "metadata": {},
   "outputs": [],
   "source": [
    "import pandas as pd"
   ]
  },
  {
   "cell_type": "code",
   "execution_count": 22,
   "id": "e3846838",
   "metadata": {},
   "outputs": [],
   "source": [
    "modelos_peticoes_pp = pd.DataFrame()"
   ]
  },
  {
   "cell_type": "code",
   "execution_count": 23,
   "id": "233e2396",
   "metadata": {},
   "outputs": [],
   "source": [
    "modelos_peticoes_pp['text'] = df['text']"
   ]
  },
  {
   "cell_type": "code",
   "execution_count": 24,
   "id": "e186c7c8",
   "metadata": {},
   "outputs": [
    {
     "data": {
      "text/html": [
       "<div>\n",
       "<style scoped>\n",
       "    .dataframe tbody tr th:only-of-type {\n",
       "        vertical-align: middle;\n",
       "    }\n",
       "\n",
       "    .dataframe tbody tr th {\n",
       "        vertical-align: top;\n",
       "    }\n",
       "\n",
       "    .dataframe thead th {\n",
       "        text-align: right;\n",
       "    }\n",
       "</style>\n",
       "<table border=\"1\" class=\"dataframe\">\n",
       "  <thead>\n",
       "    <tr style=\"text-align: right;\">\n",
       "      <th></th>\n",
       "      <th>text</th>\n",
       "    </tr>\n",
       "  </thead>\n",
       "  <tbody>\n",
       "    <tr>\n",
       "      <th>0</th>\n",
       "      <td>EXMO. SR. DR. JUIZ DE DIREITO DA . ª VARA CÍVE...</td>\n",
       "    </tr>\n",
       "    <tr>\n",
       "      <th>1</th>\n",
       "      <td>EXMO. SR. DR. JUIZ DE DIREITO DA . ª VARA CÍVE...</td>\n",
       "    </tr>\n",
       "    <tr>\n",
       "      <th>2</th>\n",
       "      <td>EXMO. SR. DR. JUIZ DE DIREITO DA . ª VARA CÍVE...</td>\n",
       "    </tr>\n",
       "    <tr>\n",
       "      <th>3</th>\n",
       "      <td>EXMO. SR. DR. JUIZ DE DIREITO DA . ª VARA CÍVE...</td>\n",
       "    </tr>\n",
       "    <tr>\n",
       "      <th>4</th>\n",
       "      <td>EXMO. SR. DR. JUIZ DE DIREITO DA . ª VARA CÍVE...</td>\n",
       "    </tr>\n",
       "    <tr>\n",
       "      <th>...</th>\n",
       "      <td>...</td>\n",
       "    </tr>\n",
       "    <tr>\n",
       "      <th>1809</th>\n",
       "      <td>EXMO. SR. DR. JUIZ DE DIREITO DA .ª VARA CÍVEL...</td>\n",
       "    </tr>\n",
       "    <tr>\n",
       "      <th>1810</th>\n",
       "      <td></td>\n",
       "    </tr>\n",
       "    <tr>\n",
       "      <th>1811</th>\n",
       "      <td></td>\n",
       "    </tr>\n",
       "    <tr>\n",
       "      <th>1812</th>\n",
       "      <td>EXMO.SR.DR.JUIZ DE DIREITO DA VARA CRIMINAL DE...</td>\n",
       "    </tr>\n",
       "    <tr>\n",
       "      <th>1813</th>\n",
       "      <td></td>\n",
       "    </tr>\n",
       "  </tbody>\n",
       "</table>\n",
       "<p>1814 rows × 1 columns</p>\n",
       "</div>"
      ],
      "text/plain": [
       "                                                   text\n",
       "0     EXMO. SR. DR. JUIZ DE DIREITO DA . ª VARA CÍVE...\n",
       "1     EXMO. SR. DR. JUIZ DE DIREITO DA . ª VARA CÍVE...\n",
       "2     EXMO. SR. DR. JUIZ DE DIREITO DA . ª VARA CÍVE...\n",
       "3     EXMO. SR. DR. JUIZ DE DIREITO DA . ª VARA CÍVE...\n",
       "4     EXMO. SR. DR. JUIZ DE DIREITO DA . ª VARA CÍVE...\n",
       "...                                                 ...\n",
       "1809  EXMO. SR. DR. JUIZ DE DIREITO DA .ª VARA CÍVEL...\n",
       "1810                                                   \n",
       "1811                                                   \n",
       "1812  EXMO.SR.DR.JUIZ DE DIREITO DA VARA CRIMINAL DE...\n",
       "1813                                                   \n",
       "\n",
       "[1814 rows x 1 columns]"
      ]
     },
     "execution_count": 24,
     "metadata": {},
     "output_type": "execute_result"
    }
   ],
   "source": [
    "modelos_peticoes_pp"
   ]
  },
  {
   "cell_type": "code",
   "execution_count": 25,
   "id": "824f02c6",
   "metadata": {},
   "outputs": [
    {
     "data": {
      "text/plain": [
       "'EXMO. SR. DR. JUIZ DE DIREITO DA . ª VARA CÍVEL DA COMARCA DE . .., já qualificada nos Autos da EXECUÇÃO FORÇADA POR CRÉDITO EXECUTIVO DE ALUGUERES E ENCARGOS sob o nº ., promovida contra ., vem mui respeitosamente a presença de Vossa Excelência, expor sua impugnação, para final requerer: I - Preliminarmente, condenável a atitude do procurador e advogado da Executada, que procurou o subscritor da presente, solicitando que os autos baixassem ao contador pois, sua cliente pretendia liquidar com o débito. Atendida a solicitação, o subscritor da presente requereu e providenciou a feitura dos cálculos - fls. . - . Concluída a conta, o subscritor da presente efetuou diversas ligações interurbanas para a Cidade de ., deixando recados ao patrono da Executada, que sequer respondeu aos mesmos. Tordo-se infrutíferas as tentativas de contato com o mesmo, solicitou-se ao cartório que publicasse a conta, para que o patrono da Executada tomasse conhecimento dos cálculos - fls. . - , todavia, nenhuma atitude foi tomada pelo advogado ex-adversus. Assim, vislumbra-se cristalinamente que a única intenção da Executada é procrastinar o feito, e até de má fé, como se verificará mais adiante. II - Quanto a argüição de nulidade a citação A Executada argüi a nulidade da citação, alegando para tanto que o Sr. Oficial de Justiça foi relapso no cumprimento do mandado e que houve manobra judicial. A devedora está totalmente equivocada. Em verdade, após comparecer no endereço inserido na inicial, e constatar que a Executada não mais residia naquele local, o Sr. Oficial certificou o fato. Intimada para manifestar-se sobre a certidão, a Exequente insistiu para que o Meirinho voltasse ao local. Definitivamente, o mesmo, constatou que a devedora não residia no endereço declinado na vestibular. Nesta oportunidade, a Exequente informou o novo endereço da Executada ao Sr. Oficial, que compareceu por diversas vezes na Rua . nº., não a encontrando. Neste local, o Sr. Oficial, manteve contatos com o Sr. ., conforme se verifica às fls. . AD ARGUMENTANDUN TANTUM, o Sr. . possui uma empresa local e por ocasião da contratação da locação do imóvel objeto da presente, o Sr. . e seu irmão ., eram os proprietários da firma locatária - . No dia ., o Sr. . e seu irmão ., compareceram nos escritórios da administradora - compelidos dos trâmites diante da ação de despejo por falta de pagamento que tramitou perante o Juízo da . ª Vara Cível - Autos nº . - , e efetuaram a entrega das chaves. Como se vê, o proprietário da ex-locatária . - Sr. . - que possui outras . firmas instaladas no prédio objeto da penhora - . -, desde o ajuizamento da presente acompanhou os trâmites da execução, inclusive porque, sendo sócio do Sr. ., prestou fiança ao mesmo quando da locação do imóvel situado na Rua . nº., que também é administrado pela ., empresa que administrou o imóvel locado à ., cujo contrato foi afiançado pela Executada - docs. em anexo. Para corroborar com as assertivar retro, verifica-se que o imóvel objeto da penhora era de propriedade do Sr. . e, foi ele, através procuração, quem outorgou a escritura de compra e venda em favor da Executada - doc. de fls . - carreado aos autos pela própria devedora. Assim, Data Máxima Venia, improcede a argüição de nulidade de citação, isto porque, efetivamente a Executada estava se escondendo do meirinho. É de se estranhar também, que a Executada compareça nos autos para argüir a nulidade da citação, dias antes da data do leilão. III - Quanto a liquidez do título embasador da execução Preliminarmente, deve ser observado que a matéria abordada pela Executada, só poderá ser argüida em embargos à execução, na conformidade com as disposições inseridas no artigo 741 e inciso II do Código de Processo Civil. O título embasador da execução é o contrato de locação. Os recibos de fls., servem apenas para discriminar cada um dos valores devidos. A prova do pagamento dos locatícios deve ser apresentada pela Executada, pois, se algum pagamento houve, a Exequente, através da administradora, forneceu recibo à ex-locatária. Da mesma forma, deve a ex-inquilina provar que pagou as taxas de luz, água e os impostos. Se o fez, obviamente os comprovantes estão sob sua guarda. Como se vê, improcede a argüição de falta de liquidez do título embasador da execução. IV - Impenhorabilidade do bem Pretende a Executada lançar mão das disposições inseridas na malsinada lei nº 8.009/90, que prevê a impenhorabilidade do bem de família. DATA VENIA, improcede o pleito diante das disposições inseridas na atual lei do inquilinato - lei nº 8.245/91 - artigo 82. V - Quanto o valor de avaliação Equivoca-se a Executada ao se insurgir contra o laudo de avaliação de fls. . Não compete ao avaliador e muito menos ao oficial de justiça comparecer ao local do imóvel e, como se fossem engenheiros, medir o lote e a área construída. O arresto e posteriormente a penhora, foram lavrados com base na matrícula do imóvel. Assim, se existe sobre o imóvel construção clandestina, a responsabilidade sobre a mesma é exclusiva da sua proprietária, no caso, da Executada. Por outro lado, o laudo de avaliação de fls. ., não se presta para o fim de desconstituir o de fls. ., primeiro porque, um foi elaborado no dia .. e o outro em ., segundo porque, quem assinou o documento de fls., não se identificou, para que no futuro, pudesse, se fosse o caso, ser indagado sobre os métodos e bases para a elaboração do referido laudo. É público e notório que os avaliadores judiciais estão em constante contato com os preços de mercado dos imóveis, assim, torna-se quase impossível que eles cometam equívocos. VI - Litigância de má-fé Por todo o exposto, e o mais que certamente será suprido por Vossa Excelência, vislumbra-se cristalinamente que é a Executada quem litiga de má-fé, devendo sofrer as conseqüências inseridas nos artigos 17 a 18 do Código de Processo Civil. DIANTE DO EXPOSTO, é a presente para requerer a Vossa Excelência, digne-se: a) - julgar improcedente o pedido de nulidade da citação argüida pela devedora, eis que, a citação fora feita nos precisos termos da lei; b) - julgar improcedente o pedido de extinção da execução, sob o fundamento de que lhe falta liquidez e certeza, primeiro porque, a matéria deve ser tratada em embargos à execução, segundo porque, é a Executada quem deve provar que os locatícios e os encargos foram pagos; c) - julgar improcedente o pedido cancelamento da penhora, fundado na Lei 8.009/90, eis que, a penhora do bem está lastrada na atual lei do inquilinato - lei nº 8.245/91; d) - determinar a recondução do feito aos seus trâmites normais, determido a elaboração da conta geral e a nova avaliação do bem, diante do lapso de tempo ocorrido entre a de fls. . e a presente data, para o fim de ser designada nova data para a realização do leilão. . Classe: Execução'"
      ]
     },
     "execution_count": 25,
     "metadata": {},
     "output_type": "execute_result"
    }
   ],
   "source": [
    "modelos_peticoes_pp.text[4]"
   ]
  },
  {
   "cell_type": "code",
   "execution_count": 26,
   "id": "49011a84",
   "metadata": {},
   "outputs": [
    {
     "data": {
      "text/plain": [
       "'EXMO. SR. DR. JUIZ DE DIREITO DA . ª VARA CÍVEL DA COMARCA DE . .., (qualificação), inscrita no CPF/MF nº ., com endereço na Rua . nº . na Comarca de ., por seu procurador e advogado no final assinado, qualificado através das inclusas cópias autenticadas dos instrumentos particulares de mandato e alteração do contrato social - docs. nº . -, vem mui respeitosamente a presença de Vossa Excelência, propor como de fato e de direito propõe a presente EXECUÇÃO FORÇADA POR CRÉDITO EXECUTIVO DE ALUGUERES E ENCARGOS contra .., (qualificação), inscrita no CPF/MF nº ., residente e domiciliada na Rua . nº ., na Comarca de ., com fundamentos nos artigos 566 e inciso I, 580 e parágrafo único, 585 e inciso II e IV, 586, 614 e inciso I, 652 e seguintes do Código de Processo Civil, pelos motivos que passa a expor: 1º - A Exequente locou o barracão situado na Rua . nº .. à firma ., através contrato de locação escrito - doc. nº . anexo -, sendo que, a Executada, obrigou-se na condição de principal pagadora e igualmente responsável por todas as cláusulas contratuais, através carta de fiança - doc. nº . anexo. 2º - A Locatária deixou de pagar os alugueres e encargos do período de . a ., no montante de R$ . (.) - inclusos no doc. nº . 3º - Exauriu a Exequente todos os meios suasórios para a cobrança da dívida por via amigável, sem que, a devedora tivesse satisfeito espontaneamente a obrigação, sendo pois, compelida a propor a presente execução forçada por crédito executivo de alugueres e encargos. EX POSITIS: Com fundamento nos artigos 566 e inciso I, 580 e parágrafo único, 585 e incisos II e IV, 586, 598, 614 e inciso I, 652 e seguintes do Código de Processo Civil, requer a V. Exa., a citação da Executada no endereço indicado, ou onde for encontrada, para que pague dentro de 24 horas, o principal - item 2º retro -, custas processuais, juros de mora de 1% ao mês, correção monetária, multa contratual de 10% conforme a cláusula décima do contrato de locação - doc. nº . anexo -, e honorários advocatícios de 20% sobre o valor do débito total, devidamente atualizado - cláusula décima do contrato de locação -, ou que, no mesmo prazo nomeie bens à penhora, sob pena de não o fazendo, serem-lhe penhorados pelo mesmo mandado, tantos bens quantos bastem para assegurar a execução (principal e acessórios), com a observância da gradação do artigo 655 do Código de Processo Civil, ficando desde logo intimada para embargar a execução querendo, dentro do prazo de 10 dias, contados da data de intimação da penhora, fazendo-a ciente que, presumir-se-ão aceitos como verdadeiros os fatos articulados pela Autora (artigos 285, 319, 330 e inciso II do Código de Processo Civil), se não forem embargados. Requer que, se não for encontrada, sejam arrestados, ainda pelo mesmo mandado, tantos bens quantos bastem para garantir a execução (Código de Processo Civil, artigo 653), observadas as disposições do parágrafo único do citado artigo 653. Requer também, os favores do parágrafo 2º, do artigo 172, da Lei Adjetiva. Requer ainda, o prosseguimento ininterrupto da Execução, pelo principal, custas processuais, juros de mora, correção monetária, multa contratual e honorários advocatícios na base de 20% cláusula décima do contrato de locação - sobre o valor do débito total devidamente atualizado, a fim de que, procedente a execução, sejam avaliados os bens constritados, seguindo-se nos ulteriores termos, até final alienação judicial antecipada, arrematada, pagamento, adjudicação, usufruto ou remissão. Requer finalmente, seja deferido se necessário, a apresentação oportuna de provas orais, periciais e outras documentais. Dá-se a presente execução o valor de R$ . (.), correspondente ao principal e para os fins e efeitos fiscais. . Classe: Execução'"
      ]
     },
     "execution_count": 26,
     "metadata": {},
     "output_type": "execute_result"
    }
   ],
   "source": [
    "modelos_peticoes_pp.text[5]"
   ]
  },
  {
   "cell_type": "code",
   "execution_count": 27,
   "id": "3c6ac976",
   "metadata": {},
   "outputs": [],
   "source": [
    "save_to = \"D:\\\\dados-juridicos\\\\pp\\\\\""
   ]
  },
  {
   "cell_type": "code",
   "execution_count": 28,
   "id": "af165bd7",
   "metadata": {},
   "outputs": [],
   "source": [
    "# Salve o dataframe atualizado em um novo arquivo\n",
    "modelos_peticoes_pp.to_csv(f'{save_to}modelos_peticoes_pp.csv', index=False)  # Substitua pelo nome desejado para o novo arquivo"
   ]
  },
  {
   "cell_type": "code",
   "execution_count": 29,
   "id": "d5306b3b",
   "metadata": {},
   "outputs": [],
   "source": [
    "df_modelos_peticoes_pp = pd.read_csv(f'{save_to}modelos_peticoes_pp.csv')"
   ]
  },
  {
   "cell_type": "code",
   "execution_count": 30,
   "id": "5b8f54f6",
   "metadata": {},
   "outputs": [
    {
     "data": {
      "text/plain": [
       "'EXMO. SR. DR. JUIZ DE DIREITO DA . ª VARA CÍVEL . Autos nº .  e sua mulher ., já qualificados por seu advogado adiante assinado, perante Vossa Excelência, nos autos da ação de anulação de escritura pública de venda e compra cumulada com reintegração de posse, indenização por perdas e danos, e aquisição da propriedade imóvel por acessão de construção, de rito comum ordinário, que movem contra . e ., em atenção ao despacho de fls. ., vêm, no prazo assinado, oferecer sua IMPUGNAÇÃO ÀS CONTESTAÇÕES o que fazem da maneira seguinte: I. As contestações oferecidas pelos réus são injurídicas e desprovidas de suportes fáticos e jurídicos que possam ilidir a absoluta procedência da presente ação. II. Impugnação à contestação de . Em preliminar a ré . sustenta que é parte ilegítima para ser demandada diante do fato de que não se insurgiria contra o reconhecimento de anuentes pelo Tabelião que lavrou a escritura acoimada de falsa na inicial. Ora, não assiste razão à ré, pois ela fez através de prepostos que mantinha em ., vários contatos com o primeiro autor, o que já é suficiente para que esse fosse conhecido seu. Ademais, a carta de fls. . não deixa qualquer dúvida quanto a isto. Se ela passou a escritura em favor de um terceiro, que não o primeiro autor, e não soube que não se tratava da pessoa dele anuente acoimado de falsário, deve por óbvio, responder pelo dano solidariamente ao primeiro réu. Ninguém, Excelência, mormente uma empresa que é uma sociedade anônima, vai passando uma escritura a alguém sem qualquer documento aquisitivo, e ainda, na existência de um contrato averbado no Registro Imobiliário. Ademais disso, como se trata de falsidade de escritura pública de venda e compra, da qual participou como subscritora, não resta outra alternativa senão integrar o polo passivo da causa, mesmo que a responsabilidade pelo dano decorrente da falsidade possa vir a ser atribuída a terceiros no decorrer da instrução. Assim, não prospera a preliminar, pelo que deve ser rejeitada ab initio. III. A ré . denuncia à lide a Tabeliã do .º Cartório de Notas de ., sito na Rua . nº ., com o que os autores concordam. IV. Quanto ao mérito, a ré . se limita a invocar sua não responsabilidade ante a responsabilidade total do Tabelião, e ante o documento de fls. .., que fala em outorga da escritura ao primeiro autor, asseverando que ele não veio para recebê-lo. Ora, Excelência, isto não é argumento para justificar a escritura passada em favor de um terceiro estranho, e com a anuência de pessoas que ela ré supunha serem os autores por considerar desnecessária a exibição de certidão de casamento (a qual por óbvio provaria a fraude - comentário nosso), e por considerar a Sra. Tabeliã investida de todos os poderes de reconhecimento. IV. Impugnação à contestação de . A incompetência levantada para declinar o foro para a Comarca de ., aliás feita de modo errôneo porque não em exceção própria em petição fundamentada, e em autos apartados, segundo os arts. 1112 e 307 do CPC, não procede, primeiro porque a escritura falsa de venda e compra de fls. . foi lavrada em ., o segundo réu . reside em ., fatos esses que definem a competência do foro de . para a causa. Ocorre portanto a hipótese do parágrafo 4º do art. 94 do CPC Ademais disso, Vossa Excelência concedeu através o despacho de fls. ., a oportunidade ao réu de excepcionar na forma legal em 15 dias, cujo prazo transcorre in albis, como se vê da certidão de fls. . verso. Ora, tendo transcorrido o prazo in albis ocorreu a preclusão circunstância que por si só derruba a exceção levantada, e a respectiva oportunidade processual, restando definitivo o foro da causa como sendo o de . No item \"b)\" de sua defesa, às fls. ., o réu . denuncia a lide a ., que teria sido o corretor a agenciar a venda do imóvel a si, . o procurador da primeira ré que afirmou a escritura em nome dela, ao TABELIONATO ., que lavrou a escritura e deu fé aos documentos apresentados, e ao ESTADO DO . em função da responsabilidade pela serventia retro, e por ter recebido tributos na transação. Os autores concordam com a denunciação requerida. Quanto ao mérito o réu . afirma que foi procurado em . de . (já por si se vê que ele não tem . anos de ocupação do imóvel, mas apenas menos de .), por ., o qual lhe propôs a venda de um imóvel no Balneário ., lote nº ., Quadra nº ., pelo preço total de R$ . (.) à época, pelo que, confessando-se interessado, fez conferir a propriedade no Cartório de Imóveis de ., onde apareceu a matrícula que dava conta de que a propriedade era da ., com averbação de contrato em favor do primeiro autor. Questionado o Sr. ., teria afirmado esse que estava autorizado a vender pelo procurador da ., e que haveria anuência dos compromissários, que desistiriam do seus direitos. Teriam marcado data, e comparecido ao Tabelionato ., munido o procurador da . de um instrumento de mandato, acompanhado de um casal que teria se identificado como sendo os compromissários. Elaborada a escritura, o réu afirma que entregou ao primeiro litisdenunciado . um veículo . de sua propriedade como parte de pagamento, no valor de R$ ., complementando o pagamento em espécie de R$ . ao procurador da segunda ré, consumando-se a transação. Afirma ainda que ato contínuo tomou posse do imóvel e passou a realizar nele benfeitorias, resultando a construção de casa em alvenaria, noticiada como existente na exordial. Por aí se vê que o réu confessa que fez a casa depois de assinar a escritura, ou seja, posteriormente a . de . de , o que implica também, em tempo de ocupação inferior a . anos, e muito inferior a 20 anos, o que desmantela a exceção de usucapião. Afirma ainda que quando da \"compra do imóvel\", constatou no terreno a existência de uma pequena casa, antiga, com aproximadamente 70 m² em péssimo estado de conservação, a qual teria \"derribado\" e reformado a construção, às suas expensas, deixando o terreno edificado até o estado em que hoje se encontra. Afirma isso, Excelência, mas não prova. Os autores negam a existência da tal casa antiga de 70 m² em péssimo estado de conservação. Entendem os autores que tal afirmativa tem causa no pedido de usucapião. Entretanto, sem prova, o argumento nada vale, e o usucapião não ocorre. Não havia casa nenhuma lá, antes da que está hoje, construída pelo réu. É tudo balela. Não é, tampouco indenizável como pretende o réu, eis que a letra da lei é clara. Quer anda o réu afirmar que os autores nada concedem em termos da documentação acostada à inicial. Data Vênia não é assim. Os autores juntam a escritura falsa e afirmam, provando, que não a assinaram, e que existem flagrantes grosserias de falsificações de nomes e documentos, afora as assinaturas. Data Vênia, nada mais é necessário. O que o réu pretende, é furtar-se à responsabilidade, pois não é crível que alguém entregue um veículo a um corretor de imóveis por conta de uma compra, sem mencionar a compra em algum documento. V. Cabe esclarecer por fim, que ambos os réus limitam-se a afirmar que nada tiveram com a fraude, remetendo a responsabilidade ao Tabelionato. Entretanto, não negaram que as assinaturas dos \"anuentes\" que \"seriam\" os autores, são falsas. Assim, o cerne da questão está confessado, ex-vi do art. 302 do CPC, isto é, de que houve falsificação das assinaturas dos autores na escritura também objeto da lide. JUSTIÇA! . Classe: Alimentos'"
      ]
     },
     "execution_count": 30,
     "metadata": {},
     "output_type": "execute_result"
    }
   ],
   "source": [
    "df_modelos_peticoes_pp.text[100]"
   ]
  },
  {
   "cell_type": "code",
   "execution_count": 31,
   "id": "b0319126",
   "metadata": {},
   "outputs": [
    {
     "data": {
      "text/plain": [
       "'EXMO. SR. DR. JUIZ DE DIREITO DA . VARA DE FAMÍLIA DA COMARCA DE . . (qualificação), menor impúbere, nascida aos . de . de ., neste ato representada por sua mãe . (qualificação), portadora da Carteira de Identidade/RG nº ., residente e domiciliada na Rua . nº ., por intermédio de sua procuradora, com instrumento de mandato em anexo (doc. .), Advogado da defensoria Pública do ., lotada na Rua . nº ., onde recebe intimações e notificações, vem mui respeitosamente à presença de Vossa Excelência, com suporte na Lei nº 5478/68 e demais dispositivos legais aplicáveis, interpor o presente pedido de ALIMENTOS contra .. (qualificação), residente e domiciliado na Rua . nº ., e, com endereço comercial na Rua . nº ..,., (empresa .), pelas razões de fato e direito, que a seguir passará a expor, para ao final, requerer: 1. A mãe da autora viveu maritalmente com o Réu pelo período aproximado de . (.) anos, resultando desta união, o nascimento da filha ., aos . de . de ., ora autora, conforme docs. /, em anexo. 2. O dever de sustento está perfeitamente caracterizado, pois o Réu é pai da autora (doc. .). 3. O réu rompeu a convivência com a mãe da Autora antes mesmo do nascimento da filha. Porém o Réu, embora tenha registrado a filha, contribuiu até então com apenas R$ . (.) para o sustento da mesma, recusando-se termitemente a colaborar espontaneamente quando procurado pela genitora da menor. 4. Desnecessário dizer que, ante a diferença e o descaso do Réu quanto à sorte da própria filha, vem a Autora, passando por inúmeras privações, pois os rendimentos de sua mãe não são suficientes para atender a todos os reclamos oriundos da sua manutenção e sustento, necessitando da colaboração paterna. Assim, somente a fixação judicial dos alimentos, com desconto em folha de pagamento do Réu, poderá atender ao menos as necessidades elementares da autora, porquanto, cabe também ao Pai, ora Réu, esta obrigação que decorre da Lei e da moral. 5. O Réu exerce a profissão de supervisor de produção, junto à Empresa ., sito na Rua . nº ., Bairro ., nesta Capital, percebendo aproximadamente os vencimentos de R$ . (.) mensais, estando, portanto, dentro de sua possibilidade ficeira colaborar no sustento da filha, ora autora. 6. Diante de todo exposto, requer a Vossa Excelência: a) Sejam fixados LIMINARMENTE os alimentos provisórios; b) Seja o Réu citado nos endereços antes indicados, para que, querendo, conteste o presente pedido, no prazo legal, sob pena de revelia; c) Seja intimado o digno representante do Ministério Público; d) Seja deferido à Autora os benefícios da JUSTIÇA GRATUITA, nos termos da Lei 1.060/50 e de conformidade com a anexa declaração de pobreza (doc. .); e) Seja finalmente julgado procedente o presente pedido, para condenar o Réu ao pagamento de pensão alimentícia mensal destinada à filha menor, no equivalente a 1/3 (um terço) calculado sobre os seus vencimentos líquidos (bruto menos os descontos obrigatórios), extensivo ao décimo terceiro salário, férias, verbas de rescisão de contrato de trabalho, quando houver, gratificações e adicionais que obtiver, a ser descontado em folha de pagamento, mediante a expedição de ofício à empresa ., sito na Rua . nº ., Bairro ., nesta Capital, a ser remetido à conta corrente nº ., Agência ., junto ao Banco ., nesta Capital, em nome da mãe da Autora, condedo-se o Réu ao pagamento das custas processuais e honorários advocatícios; f) Protesta pela produção de todas as provas em direito admitidas: documental, testemunhal, cujo rol, desde já oferece e que comparecerão independentemente de intimação, e, depoimento pessoal do Réu sob pena de confesso. Dá-se à causa o valor de R$ . (.) apenas para efeitos de alçada. Pede Deferimento ., . de . de .  Defensora Pública Rol de testemunhas que comparecerão independentemente de intimação: 1) . (qualificação), portadora da Carteira de Identidade/RG nº ., residente e domiciliada na Rua . nº ., 2) . (qualificação), portadora da Carteira de Identidade/RG nº ., residente e domiciliada na Rua . nº ., 3) . (qualificação), portadora da Carteira de Identidade/RG nº ., residente e domiciliada na Rua . nº .,. Classe: Alimentos'"
      ]
     },
     "execution_count": 31,
     "metadata": {},
     "output_type": "execute_result"
    }
   ],
   "source": [
    "modelos_peticoes_pp.text[1000]"
   ]
  }
 ],
 "metadata": {
  "kernelspec": {
   "display_name": "Python 3 (ipykernel)",
   "language": "python",
   "name": "python3"
  },
  "language_info": {
   "codemirror_mode": {
    "name": "ipython",
    "version": 3
   },
   "file_extension": ".py",
   "mimetype": "text/x-python",
   "name": "python",
   "nbconvert_exporter": "python",
   "pygments_lexer": "ipython3",
   "version": "3.11.5"
  }
 },
 "nbformat": 4,
 "nbformat_minor": 5
}
