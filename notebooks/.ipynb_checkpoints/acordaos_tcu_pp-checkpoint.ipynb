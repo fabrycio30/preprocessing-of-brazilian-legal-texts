{
 "cells": [
  {
   "cell_type": "code",
   "execution_count": 1,
   "id": "5c5d93de",
   "metadata": {},
   "outputs": [],
   "source": [
    "path = \"D:\\\\dados-juridicos\\\\brutos\\\\menores\\\\\""
   ]
  },
  {
   "cell_type": "code",
   "execution_count": 2,
   "id": "0384af48",
   "metadata": {},
   "outputs": [
    {
     "name": "stderr",
     "output_type": "stream",
     "text": [
      "C:\\Users\\fabry\\AppData\\Roaming\\Python\\Python311\\site-packages\\pandas\\core\\arrays\\masked.py:60: UserWarning: Pandas requires version '1.3.6' or newer of 'bottleneck' (version '1.3.5' currently installed).\n",
      "  from pandas.core import (\n"
     ]
    }
   ],
   "source": [
    "import pandas as pd"
   ]
  },
  {
   "cell_type": "code",
   "execution_count": 3,
   "id": "7d4546bc",
   "metadata": {},
   "outputs": [],
   "source": [
    "#colunas = ['Tema','Situação do Tema','Ramo do direito','Assuntos', 'Questão submetida a julgamento', 'Tese Firmada', 'Anotações NUGEPNAC']"
   ]
  },
  {
   "cell_type": "code",
   "execution_count": 3,
   "id": "ce960849",
   "metadata": {
    "scrolled": true
   },
   "outputs": [
    {
     "data": {
      "text/html": [
       "<div>\n",
       "<style scoped>\n",
       "    .dataframe tbody tr th:only-of-type {\n",
       "        vertical-align: middle;\n",
       "    }\n",
       "\n",
       "    .dataframe tbody tr th {\n",
       "        vertical-align: top;\n",
       "    }\n",
       "\n",
       "    .dataframe thead th {\n",
       "        text-align: right;\n",
       "    }\n",
       "</style>\n",
       "<table border=\"1\" class=\"dataframe\">\n",
       "  <thead>\n",
       "    <tr style=\"text-align: right;\">\n",
       "      <th></th>\n",
       "      <th>Unnamed: 0</th>\n",
       "      <th>processo</th>\n",
       "      <th>partes</th>\n",
       "      <th>ementa</th>\n",
       "      <th>acordao</th>\n",
       "      <th>relatorio</th>\n",
       "      <th>voto</th>\n",
       "      <th>assunto</th>\n",
       "    </tr>\n",
       "  </thead>\n",
       "  <tbody>\n",
       "    <tr>\n",
       "      <th>0</th>\n",
       "      <td>0</td>\n",
       "      <td>Documento25.txt</td>\n",
       "      <td>RELATOR   : MINISTRO ANTONIO CARLOS FERREIRA\\n...</td>\n",
       "      <td>EMENTA\\n\\n       PROCESSUAL CIVIL. AGRAVO INTE...</td>\n",
       "      <td>ACÓRDÃO\\n\\n       Vistos e relatados estes aut...</td>\n",
       "      <td>RELATÓRIO\\n\\n\\n               O EXMO. SR. MINI...</td>\n",
       "      <td>VOTO\\n\\n\\n\\n              O   EXMO. SR. MINIST...</td>\n",
       "      <td>ASSUNTO\\nAlimentos\\n</td>\n",
       "    </tr>\n",
       "    <tr>\n",
       "      <th>1</th>\n",
       "      <td>1</td>\n",
       "      <td>Documento26.txt</td>\n",
       "      <td>RELATOR    : MINISTRO MOURA RIBEIRO\\nRECORRENT...</td>\n",
       "      <td>EMENTA\\n         RECURSO ORDINÁRIO EM HABEAS C...</td>\n",
       "      <td>ACÓRDÃO\\n\\n     Vistos e relatados estes autos...</td>\n",
       "      <td>RELATÓRIO\\n\\n     Cuida-se de recurso ordinári...</td>\n",
       "      <td>VOTO\\n\\n     Para melhor compreensão da contro...</td>\n",
       "      <td>ASSUNTO\\nAlimentos\\n</td>\n",
       "    </tr>\n",
       "    <tr>\n",
       "      <th>2</th>\n",
       "      <td>2</td>\n",
       "      <td>Documento27.txt</td>\n",
       "      <td>RELATOR   : MINISTRO RAUL ARAÚJO\\nAGRAVANTE : ...</td>\n",
       "      <td>EMENTA\\n\\nDIREITO CIVIL E FAMÍLIA. AGRAVO INTE...</td>\n",
       "      <td>ACÓRDÃO\\n\\n     Vistos e relatados estes autos...</td>\n",
       "      <td>RELATÓRIO\\n\\n\\n             O EXMO. SR. MINIST...</td>\n",
       "      <td>VOTO\\n\\n                    O EXMO. SR. MINIST...</td>\n",
       "      <td>ASSUNTO\\nAlimentos\\n</td>\n",
       "    </tr>\n",
       "    <tr>\n",
       "      <th>3</th>\n",
       "      <td>3</td>\n",
       "      <td>Documento28.txt</td>\n",
       "      <td>RELATOR       : MINISTRO MARCO AURÉLIO BELLIZZ...</td>\n",
       "      <td>EMENTA\\n\\nAGRAVO INTERNO NO HABEAS CORPUS. AÇÃ...</td>\n",
       "      <td>ACÓRDÃO\\n\\n       Vistos e relatados estes aut...</td>\n",
       "      <td>RELATÓRIO\\n\\n        Cuida-se de agravo intern...</td>\n",
       "      <td>VOTO\\n\\n     Os argumentos trazidos pelo insur...</td>\n",
       "      <td>ASSUNTO\\nAlimentos\\n</td>\n",
       "    </tr>\n",
       "    <tr>\n",
       "      <th>4</th>\n",
       "      <td>4</td>\n",
       "      <td>Documento29.txt</td>\n",
       "      <td>RELATOR    MINISTRO PAULO DE TARSO SANSEVERINO...</td>\n",
       "      <td>EMENTA\\n     RECURSO ESPECIAL. CIVIL. AÇÃO REV...</td>\n",
       "      <td>ACÓRDÃO\\n\\n     Vistos e relatados estes autos...</td>\n",
       "      <td>RELATÓRIO\\n\\n  Trata-se de recurso especial in...</td>\n",
       "      <td>VOTO\\n\\n  Eminentes Colegas, trouxe a este col...</td>\n",
       "      <td>ASSUNTO\\nAlimentos\\n</td>\n",
       "    </tr>\n",
       "    <tr>\n",
       "      <th>...</th>\n",
       "      <td>...</td>\n",
       "      <td>...</td>\n",
       "      <td>...</td>\n",
       "      <td>...</td>\n",
       "      <td>...</td>\n",
       "      <td>...</td>\n",
       "      <td>...</td>\n",
       "      <td>...</td>\n",
       "    </tr>\n",
       "    <tr>\n",
       "      <th>267</th>\n",
       "      <td>267</td>\n",
       "      <td>Documento311.txt</td>\n",
       "      <td>RELATOR               : MINISTRO BENEDITO GONÇ...</td>\n",
       "      <td>EMENTA\\n\\n            CIVIL E ADMINISTRATIVO. ...</td>\n",
       "      <td>ACÓRDÃO\\n                \\n         Vistos, re...</td>\n",
       "      <td>RELATÓRIO\\n\\n\\n         O EXMO. SR. MINISTRO B...</td>\n",
       "      <td>VOTO\\n            \\n         O EXMO. SR. MINIS...</td>\n",
       "      <td>ASSUNTO\\nResponsabilidadeCivil\\n</td>\n",
       "    </tr>\n",
       "    <tr>\n",
       "      <th>268</th>\n",
       "      <td>268</td>\n",
       "      <td>Documento312.txt</td>\n",
       "      <td>RELATOR                  : MINISTRO SÉRGIO KUK...</td>\n",
       "      <td>EMENTA\\n\\n\\n                            AGRAVO...</td>\n",
       "      <td>ACÓRDÃO\\n\\n                  Vistos, relatados...</td>\n",
       "      <td>RELATÓRIO\\n\\n                                 ...</td>\n",
       "      <td>VOTO\\n\\n               O EXMO. SR. MINISTRO SÉ...</td>\n",
       "      <td>ASSUNTO\\nResponsabilidadeCivil\\n</td>\n",
       "    </tr>\n",
       "    <tr>\n",
       "      <th>269</th>\n",
       "      <td>269</td>\n",
       "      <td>Documento313.txt</td>\n",
       "      <td>RELATOR                MINISTRO RAUL ARAÚJO\\nA...</td>\n",
       "      <td>EMENTA\\n\\n                       AGRAVO INTERN...</td>\n",
       "      <td>ACÓRDÃO\\n\\n                                   ...</td>\n",
       "      <td>RELATÓRIO\\n\\n               O EXMO. SR. MINIST...</td>\n",
       "      <td>VOTO\\n\\n              O EXMO. SR. MINISTRO RAU...</td>\n",
       "      <td>ASSUNTO\\nResponsabilidadeCivil\\n</td>\n",
       "    </tr>\n",
       "    <tr>\n",
       "      <th>270</th>\n",
       "      <td>270</td>\n",
       "      <td>Documento315.txt</td>\n",
       "      <td>RELATOR               : MINISTRO RICARDO VILLA...</td>\n",
       "      <td>EMENTA\\n               AGRAVO REGIMENTAL NO AG...</td>\n",
       "      <td>ACÓRDÃO\\n                                \\n   ...</td>\n",
       "      <td>RELATÓRIO\\n\\n               O EXMO. SR. MINIST...</td>\n",
       "      <td>VOTO\\n\\n               O EXMO. SR. MINISTRO RI...</td>\n",
       "      <td>ASSUNTO\\nResponsabilidadeCivil\\n</td>\n",
       "    </tr>\n",
       "    <tr>\n",
       "      <th>271</th>\n",
       "      <td>271</td>\n",
       "      <td>Documento252.txt</td>\n",
       "      <td>RELATOR   : MINISTRO MARCO AURÉLIO BELLIZZE\\nE...</td>\n",
       "      <td>EMENTA\\n\\nEMBARGOS DE DECLARAÇÃO NO AGRAVO INT...</td>\n",
       "      <td>ACÓRDÃO\\n\\n     Vistos e relatados estes autos...</td>\n",
       "      <td>RELATÓRIO\\n\\n     Trata-se de embargos de decl...</td>\n",
       "      <td>VOTO\\n\\n     Os embargos de declaração constit...</td>\n",
       "      <td>ASSUNTO\\nResponsabilidadeCivil\\n</td>\n",
       "    </tr>\n",
       "  </tbody>\n",
       "</table>\n",
       "<p>272 rows × 8 columns</p>\n",
       "</div>"
      ],
      "text/plain": [
       "     Unnamed: 0          processo  \\\n",
       "0             0   Documento25.txt   \n",
       "1             1   Documento26.txt   \n",
       "2             2   Documento27.txt   \n",
       "3             3   Documento28.txt   \n",
       "4             4   Documento29.txt   \n",
       "..          ...               ...   \n",
       "267         267  Documento311.txt   \n",
       "268         268  Documento312.txt   \n",
       "269         269  Documento313.txt   \n",
       "270         270  Documento315.txt   \n",
       "271         271  Documento252.txt   \n",
       "\n",
       "                                                partes  \\\n",
       "0    RELATOR   : MINISTRO ANTONIO CARLOS FERREIRA\\n...   \n",
       "1    RELATOR    : MINISTRO MOURA RIBEIRO\\nRECORRENT...   \n",
       "2    RELATOR   : MINISTRO RAUL ARAÚJO\\nAGRAVANTE : ...   \n",
       "3    RELATOR       : MINISTRO MARCO AURÉLIO BELLIZZ...   \n",
       "4    RELATOR    MINISTRO PAULO DE TARSO SANSEVERINO...   \n",
       "..                                                 ...   \n",
       "267  RELATOR               : MINISTRO BENEDITO GONÇ...   \n",
       "268  RELATOR                  : MINISTRO SÉRGIO KUK...   \n",
       "269  RELATOR                MINISTRO RAUL ARAÚJO\\nA...   \n",
       "270  RELATOR               : MINISTRO RICARDO VILLA...   \n",
       "271  RELATOR   : MINISTRO MARCO AURÉLIO BELLIZZE\\nE...   \n",
       "\n",
       "                                                ementa  \\\n",
       "0    EMENTA\\n\\n       PROCESSUAL CIVIL. AGRAVO INTE...   \n",
       "1    EMENTA\\n         RECURSO ORDINÁRIO EM HABEAS C...   \n",
       "2    EMENTA\\n\\nDIREITO CIVIL E FAMÍLIA. AGRAVO INTE...   \n",
       "3    EMENTA\\n\\nAGRAVO INTERNO NO HABEAS CORPUS. AÇÃ...   \n",
       "4    EMENTA\\n     RECURSO ESPECIAL. CIVIL. AÇÃO REV...   \n",
       "..                                                 ...   \n",
       "267  EMENTA\\n\\n            CIVIL E ADMINISTRATIVO. ...   \n",
       "268  EMENTA\\n\\n\\n                            AGRAVO...   \n",
       "269  EMENTA\\n\\n                       AGRAVO INTERN...   \n",
       "270  EMENTA\\n               AGRAVO REGIMENTAL NO AG...   \n",
       "271  EMENTA\\n\\nEMBARGOS DE DECLARAÇÃO NO AGRAVO INT...   \n",
       "\n",
       "                                               acordao  \\\n",
       "0    ACÓRDÃO\\n\\n       Vistos e relatados estes aut...   \n",
       "1    ACÓRDÃO\\n\\n     Vistos e relatados estes autos...   \n",
       "2    ACÓRDÃO\\n\\n     Vistos e relatados estes autos...   \n",
       "3    ACÓRDÃO\\n\\n       Vistos e relatados estes aut...   \n",
       "4    ACÓRDÃO\\n\\n     Vistos e relatados estes autos...   \n",
       "..                                                 ...   \n",
       "267  ACÓRDÃO\\n                \\n         Vistos, re...   \n",
       "268  ACÓRDÃO\\n\\n                  Vistos, relatados...   \n",
       "269  ACÓRDÃO\\n\\n                                   ...   \n",
       "270  ACÓRDÃO\\n                                \\n   ...   \n",
       "271  ACÓRDÃO\\n\\n     Vistos e relatados estes autos...   \n",
       "\n",
       "                                             relatorio  \\\n",
       "0    RELATÓRIO\\n\\n\\n               O EXMO. SR. MINI...   \n",
       "1    RELATÓRIO\\n\\n     Cuida-se de recurso ordinári...   \n",
       "2    RELATÓRIO\\n\\n\\n             O EXMO. SR. MINIST...   \n",
       "3    RELATÓRIO\\n\\n        Cuida-se de agravo intern...   \n",
       "4    RELATÓRIO\\n\\n  Trata-se de recurso especial in...   \n",
       "..                                                 ...   \n",
       "267  RELATÓRIO\\n\\n\\n         O EXMO. SR. MINISTRO B...   \n",
       "268  RELATÓRIO\\n\\n                                 ...   \n",
       "269  RELATÓRIO\\n\\n               O EXMO. SR. MINIST...   \n",
       "270  RELATÓRIO\\n\\n               O EXMO. SR. MINIST...   \n",
       "271  RELATÓRIO\\n\\n     Trata-se de embargos de decl...   \n",
       "\n",
       "                                                  voto  \\\n",
       "0    VOTO\\n\\n\\n\\n              O   EXMO. SR. MINIST...   \n",
       "1    VOTO\\n\\n     Para melhor compreensão da contro...   \n",
       "2    VOTO\\n\\n                    O EXMO. SR. MINIST...   \n",
       "3    VOTO\\n\\n     Os argumentos trazidos pelo insur...   \n",
       "4    VOTO\\n\\n  Eminentes Colegas, trouxe a este col...   \n",
       "..                                                 ...   \n",
       "267  VOTO\\n            \\n         O EXMO. SR. MINIS...   \n",
       "268  VOTO\\n\\n               O EXMO. SR. MINISTRO SÉ...   \n",
       "269  VOTO\\n\\n              O EXMO. SR. MINISTRO RAU...   \n",
       "270  VOTO\\n\\n               O EXMO. SR. MINISTRO RI...   \n",
       "271  VOTO\\n\\n     Os embargos de declaração constit...   \n",
       "\n",
       "                              assunto  \n",
       "0                ASSUNTO\\nAlimentos\\n  \n",
       "1                ASSUNTO\\nAlimentos\\n  \n",
       "2                ASSUNTO\\nAlimentos\\n  \n",
       "3                ASSUNTO\\nAlimentos\\n  \n",
       "4                ASSUNTO\\nAlimentos\\n  \n",
       "..                                ...  \n",
       "267  ASSUNTO\\nResponsabilidadeCivil\\n  \n",
       "268  ASSUNTO\\nResponsabilidadeCivil\\n  \n",
       "269  ASSUNTO\\nResponsabilidadeCivil\\n  \n",
       "270  ASSUNTO\\nResponsabilidadeCivil\\n  \n",
       "271  ASSUNTO\\nResponsabilidadeCivil\\n  \n",
       "\n",
       "[272 rows x 8 columns]"
      ]
     },
     "execution_count": 3,
     "metadata": {},
     "output_type": "execute_result"
    }
   ],
   "source": [
    "df = pd.read_csv(f'{path}Acórdãos_do_STJ.csv.aspx')\n",
    "df"
   ]
  },
  {
   "cell_type": "code",
   "execution_count": 4,
   "id": "fc013306",
   "metadata": {},
   "outputs": [
    {
     "data": {
      "text/plain": [
       "'RELATOR   : MINISTRO ANTONIO CARLOS FERREIRA\\nAGRAVANTE : L V 5 R (MENOR)\\nREPR. POR : G DA S\\nADVOGADO  : DEFENSORIA PÚBLICA DO ESTADO DE SÃO PAULO\\nAGRAVADO  :MTRS\\nADVOGADO  : GEISA COSTA DA SILVA - SP404084\\n\\n\\n                 '"
      ]
     },
     "execution_count": 4,
     "metadata": {},
     "output_type": "execute_result"
    }
   ],
   "source": [
    "df['partes'][0]"
   ]
  },
  {
   "cell_type": "code",
   "execution_count": 5,
   "id": "34cfae66",
   "metadata": {},
   "outputs": [
    {
     "data": {
      "text/plain": [
       "'EMENTA\\n\\n       PROCESSUAL CIVIL. AGRAVO INTERNO NO AGRAVO EM \\n       RECURSO ESPECIAL. AÇÃO DE ALIMENTOS. PARTICIPAÇÃO \\n       NOS LUCROS E RESULTADOS (PLR). VERBAS DE NATUREZA \\n       EVENTUAL. EXCLUSÃO. DECISÃO DA PRESIDÊNCIA DO STJ. \\n       SÚMULA N. 182 DO STJ. RECONSIDERAÇÃO. \\n       RECORRIDO EM CONSONÂNCIA COM JURISPRUDÊNCIA DESTA \\n       CORTE. SÚMULA N. 83 DO STJ. REEXAME DE PROVAS. \\n       IMPOSSIBILIDADE. SÚMULA N. 7/STJ. AGRAVO INTERNO \\n       PROVIDO. AGRAVO EM RECURSO ESPECIAL DESPROVIDO.\\n       1. Inadmissível o recurso especial quando o entendimento adotado pelo \\n       Tribunal de origem coincide com a jurisprudência do STJ (Súmula n. \\n       83/STJ).\\n       2. Conforme entendimento desta Corte, \"diante da inexistência de \\n       circunstâncias específicas ou excepcionais que justifiquem a efetiva \\n       necessidade de incorporação da participação nos lucros e resultados aos \\n       alimentos prestados à ex-cônjuge, é de se concluir que a verba \\n       denominada PLR deve ser excluída da base de cálculo dos alimentos\" \\n       (REsp 1.872.706/DF, Rel. Ministra NANCY ANDRIGHI, SEGUNDA \\n       SEÇÃO, julgado em 09/12/2020, DJe 02/03/2021).\\n       3. O recurso especial não comporta exame de questões que impliquem \\n       revolvimento do contexto fático-probatório dos autos (Súmula n. 7/STJ).\\n       4. No caso concreto, a análise das razões apresentadas pela recorrente, \\n       quanto à extensão da base de cálculo do encargo alimentar fixado, a fim \\n       de serem consideradas as verbas do recorrido decorrentes de \\n       participação nos lucros e resultados (PLR), demandaria o revolvimento \\n       do conjunto fático-probatório, o que é vedado em sede de recurso \\n       especial.\\n       5. Agravo interno a que se dá provimento para reconsiderar a decisão da \\n       Presidência desta Corte e negar provimento ao agravo nos próprios \\n       autos.\\n\\n                 '"
      ]
     },
     "execution_count": 5,
     "metadata": {},
     "output_type": "execute_result"
    }
   ],
   "source": [
    "df['ementa'][0]"
   ]
  },
  {
   "cell_type": "code",
   "execution_count": 6,
   "id": "992723d4",
   "metadata": {
    "scrolled": true
   },
   "outputs": [
    {
     "data": {
      "text/plain": [
       "'ACÓRDÃO\\n\\n       Vistos e relatados estes autos em que são partes as acima indicadas, \\nacordam os Ministros da Quarta Turma do Superior Tribunal de Justiça, por \\nunanimidade, dar provimento ao recurso, nos termos do voto do Sr. Ministro Relator.\\n      Os Srs. Ministros Luis Felipe Salomão, Raul Araújo e Maria Isabel \\nGallotti votaram com o Sr. Ministro Relator. Licenciado o Sr. Ministro Marco Buzzi \\n(Presidente). Presidiu o julgamento o Sr. Ministro Luis Felipe Salomão.\\n\\n      '"
      ]
     },
     "execution_count": 6,
     "metadata": {},
     "output_type": "execute_result"
    }
   ],
   "source": [
    "df['acordao'][0]"
   ]
  },
  {
   "cell_type": "code",
   "execution_count": 7,
   "id": "10cb7abd",
   "metadata": {},
   "outputs": [
    {
     "data": {
      "text/plain": [
       "'RELATÓRIO\\n\\n\\n               O EXMO. SR. MINISTRO ANTONIO CARLOS FERREIRA (Relator): \\n\\nTrata-se de agravo interno (e-STJ fls. 206/209) interposto contra decisão da Presidência \\ndesta Corte que não conheceu do agravo em recurso especial, por ausência de impugnação \\n\\ndos fundamentos da decisão agravada (e-STJ fls. 201/202).\\n               Em suas razões, a agravante sustenta que \"foi clara e direta a impugnação \\nquanto a incidência da Súmula 7/STJ, uma vez que para o conhecimento e provimento do \\nrecurso especial não era necessária uma nova análise fático-probatória vedada em sede \\nespecial\" (e-STJ fl. 208).\\n               Ao final, pede o provimento do agravo.\\n               Foi certificado, à fl. 216 (e-STJ), o decurso de prazo para impugnação. \\n\\n               Parecer do Ministério Público Federal às fls. 225/227 (e-STJ).\\n               É o '"
      ]
     },
     "execution_count": 7,
     "metadata": {},
     "output_type": "execute_result"
    }
   ],
   "source": [
    "df['relatorio'][0]"
   ]
  },
  {
   "cell_type": "code",
   "execution_count": 15,
   "id": "481749cf",
   "metadata": {},
   "outputs": [
    {
     "data": {
      "text/plain": [
       "'VOTO\\n\\n               O EXMO. SR. MINISTRO RICARDO VILLAS BCIAS CUEVA (Relator): Não \\nmerece prosperar a irresignação.\\n               Cuidou-se de recurso especial interposto por ST. PAUL PLAZA HOTÉIS E \\nTURISMO LTDA., fundamentado no art. 105, inciso III, alíneas \"a\" e \"c\", da Constituição Federal, \\nimpugnando acórdão do Tribunal de Justiça do Distrito Federal e Territórios assim ementado:\\n\\n               \"CIVIL E PROCESSUAL CIVIL. AÇÃO DE OBRIGAÇÃO DE NÃO FAZER C1C \\n               PERDAS E DANOS. ECAD. PREJUDICIAL DE PRESCRIÇÃO REJEITADA. \\n               QUARTO DE HOTEL. PAGAMENTO DE DIREITOS AUTORAIS DEVIDOS. \\n               LIQUIDAÇÃO POR ARBITRAMENTO. DESNECESSIDADE.\\n               1. Tendo em vista o caráter pessoal dos direitos autorais decorrentes da \\n               execução de obras musicais, a pretensão de cobrança de valores a este título \\n               encontra-se submetida ao prazo prescricional decenal previsto no artigo 205 do \\n               Código Civil.\\n               2. Conquanto o artigo 23 da Lei n. 11.771108 defina os quartos de hotel como \\n               unidade de frequência individual, aplica-se ás hipóteses de cobrança de direitos \\n               autorais pela execução de obras artísticas em hotel, a regra inserta no artigo 68, \\n               §§ 2° e 3°, da Lei n. 9.610/98, que considera as referidas unidades de \\n               hospedagem como sendo de frequência coletiva e proíbe a execução de obras \\n               artísticas em tais locais, sem o devido recolhimento do montante relativo aos \\n               direitos autorais.\\n               3. Tendo sido apresentada planilha baseada em pesquisa para se aferir a taxa de \\n               ocupação dos hotéis na região em que se encontra o estabelecimento hoteleiro \\n               réu e efetuados os cálculos com base em tal percentual de ocupação, mostra-se \\n               desnecessária a instauração de liquidação de sentença por arbitramento, para \\n               apuração do montante devido a título de direitos autorais decorrentes da \\n               veiculação de obras musicais.\\n               4. Recurso conhecido e não provido\" (e-STJ fls. 333/334).\\n\\n               Nas razões de seu apelo nobre, o hotel, então recorrente e ora agravado, \\napontou, além da dissídio jurisprudencial, violação dos arts. 206, § 3°, V e VI, do Código Civil e \\n23 da Lei n° 11.771/2008. Aduziu, em síntese, que o prazo prescricional aplicável ao caso seria \\ntrienal e que a cobrança de direitos autorais seria descabida, porquanto exigível somente \\nquando havida a execução de obras artísticas nas áreas comuns do hotel, e não no interior dos \\nquartos.\\n               Nesse cenário, a pretensão recursal se revelou mesmo merecedora \\napenas de parcial provimento, e tal conclusão, a despeito do esforço argumentativo \\nexpendido pelo ora agravante, deve ser mantida íntegra.\\n               Quanto ao cabimento da cobrança, não há nenhuma discussão. A decisão ora\\n\\nagravada reconheceu o acerto da Corte local quanto ao tema, amparando-se na própria \\njurisprudência da Segunda Seção deste Tribunal Superior, que consolidou o entendimento de \\nque \"a disponibilidade de rádios e televisão em quartos de hotel é fato gerador de arrecadação \\nde direitos autorais\" (EREsp n° 1.025.554/ES, Relatora a Ministra Maria Isabel Gallotti, DJe de \\n22/10/2014).\\n               O inconformismo do ora agravante (ECAD) é com o fato de a decisão agravada \\nter acolhido a pretensão recursal da parte demandada para reconhecer a prescrição dos \\nvalores por ela devidos há mais de 3 (três) anos do ajuizamento da ação.\\n               A irresignação, como dito, não merece prosperar.\\n               Isso porque, tal e qual restou indicado nas razões de decidir expostas na decisão \\nmonocrática ora agravada, a jurisprudência de ambas as Turmas julgadoras integrantes da \\nSegunda Seção é firme no sentido de que, em se tratando de pretensão de cobrança relativa a \\nilícito extracontratual, o prazo prescricional incidente no caso de violação de direitos do autor \\né de 3 (três) anos, a teor do que disposto pelo art. 206, §30, do Código Civil.\\n               A propósito:\\n\\n               \"CIVIL E PROCESSUAL CIVIL. AGRAVO REGIMENTAL EM RECURSO \\n               ESPECIAL. INDENIZAÇÃO POR DANOS MORAIS E PATRIMONIAIS. VIOLAÇÃO \\n               DE DIREITOS AUTORAIS. PRESCRIÇÃO. PRAZO TRIENAL. OCORRÊNCIA \\n               ENTENDIMENTO EM CONSONÂNCIA COM A JURISPRUDÊNCIA DO STJ. \\n               APLICAÇÃO DA SÚMULA N° 83 DO STJ. CONTRAFAÇÃO. NÃO \\n               CONFIGURAÇÃO. REEXAME DE PROVA. IMPOSSIBILIDADE. INCIDÊNCIA DA \\n               SÚMULA N° 7 DO STJ. DECISÃO MANTIDA. AGRAVO NÃO PROVIDO.\\n               1. Nas demandas indenizatórias por ofensa a direito autoral, os prazos \\n               prescricionais são regulados pelo art. 206, § 3°, V, do Código Civil e \\n               prescrevem em 3 anos. Aplicação da Súmula n° 83 do STJ.\\n               2. As instâncias ordinárias, titulares absolutas da análise de prova, reconheceram \\n               que não houve contrafação e, consequentemente, configuração do direito à \\n               indenização por dano moral. Incidência da Súmula n° 7 do STJ.\\n               3. O presente agravo não se revela apto a alterar o conteúdo do julgado \\n               impugnado, que decidiu em consonância com a jurisprudência desta Corte de \\n               Justiça, devendo ele ser integralmente mantido pelos seus próprios fundamentos.\\n               4. Agravo regimental não provido.\"\\n               (AgRg no REsp n° 1.412.700/SP, Rel. Ministro MOURA RIBEIRO, TERCEIRA \\n               TURMA, julgado em 13/10/2015, DJe 6/11/2015 - grifou-se) .\\n\\n               \"PROCESSUAL CIVIL. AGRAVO REGIMENTAL NO AGRAVO EM RECURSO \\n               ESPECIAL. AUSÊNCIA DE VIOLAÇÃO DO ART. 535 DO CPC. CONSONÂNCIA \\n               COM O ENTENDIMENTO DESTA CORTE. SÚMULA 83/ STJ. REEXAME DE\\n               MATÉRIA PROBATÓRIA. SÚMULA 71 STJ. AGRAVO NÃO PROVIDO.\\n               1. Não há falar em violação do art. 535 do Código de Processo Civil pois o \\n               Tribunal de origem dirimiu as questões pertinentes ao litígio, afigurando-se \\n               dispensável que venha examinar uma a uma as alegações e fundamentos \\n               expendidos pelas partes.\\n               2. De acordo com a jurisprudência desta Corte, incide a prescrição trienal \\n               aos casos de indenização por violação extracontratual de direito autoral. \\n               Precedentes.\\n               3. O Tribunal de origem consigna a inexistência de prescrição, tendo em vista que \\n               o autor das músicas negociadas pela recorrente, teve ciência de dita negociação \\n               no ano de 2008, ao passo que a ação de rescisão contratual cumulada com \\n               pedido indenizatório foi ajuizada em 1510912010, quando ainda não havia se \\n               esvaído o prazo prescricional de três anos. Portanto, a reforma do cresto, neste \\n               aspecto, demanda inegável necessidade de reexame do acervo fático-probatório \\n               soberanamente delineado perante as instâncias ordinárias, providência inviável \\n               de ser adotada em sede de recurso especial, ante o óbice da Súmula 71 STJ.\\n               4. Agravo regimental não provido.\"\\n               (AgRg no AREsp n° 696.121/RJ, Rel. Ministro LUIS FELIPE SALOMÃO, QUARTA \\n               TURMA, julgado em 18/8/2015, DJe de 27/8/2015 - grifou-se).\\n\\n               \"AGRAVO REGIMENTAL NO RECURSO ESPECIAL. DIREITO AUTORAL. \\n               VIOLAÇÃO AO ART. 535 DO CPC. INEXISTENTE. LEI DE INTRODUÇÃO AO \\n               CÓDIGO CIVIL. IMPOSSIBILIDADE DE APRECIAÇÃO DO APELO \\n               EXCEPCIONAL. NATUREZA CONSTITUCIONAL. ANÁLISE VEDADA EM SEDE \\n               DE RECURSO ESPECIAL. ILÍCITO EXTRA CONTRATUAL. PRAZO \\n               PRESCRICIONAL TRIENAL.\\n               1. Inexistência de maltrato ao art. 535 do CPC quando o acórdão recorrido, ainda \\n               que de forma sucinta, aprecia com clareza as questões essenciais ao julgamento \\n               da lide.\\n               2. Os princípios contidos na Lei de Introdução ao Código Civil, por terem \\n               assumido contornos nitidamente constitucionais, não podem ser objeto de recurso \\n               especial, sob pena de, se analisados nessa via, ferir-se a esfera de distribuição \\n               de competência jurisdicional estabelecida pela Constituição Federal.\\n               3. Havendo ilícito extracontratual, o prazo prescricional incidente em caso de \\n               violação de direitos do autor é de três anos (art. 206, § 3°, V, CC). \\n               Precedente.\\n               4. Não apresentação pela parte agravante de argumentos novos capazes de \\n               infirmar os fundamentos que alicerçaram a decisão agravada.\\n               5. AGRAVO REGIMENTAL DESPROVIDO.\"\\n               (AgRg no REsp n° 1.403.152/MG, Rel. Ministro PAULO DE TARSO \\n               SANSEVERINO, TERCEIRA TURMA, julgado em 4/8/2015, DJe de 12/8/2015 - \\n               grifou-se).\\n\\n               Cumpre observar que o precedente citado pelo ora agravante nas razões de seu \\nagravo regimental é claro ao dispor que o prazo prescricional decenal, de que trata o art. 205 \\ndo Código Civil, teria aplicação se a hipótese em apreço versasse sobre a cobrança de valores \\noriundos de descumprimento contratual, o que não ocorre.\\n               De fato, a pretensão do ECAD consiste em impor ao hotel ora agravado o õnus \\nde repará-lo civilmente pela violação extracontratual de direitos autorais, resultante do fato de \\ndispor a seus hóspedes, em suas acomodações internas (quartos do hotel), aparelhos de rádio \\ne televisão sem o prévio recolhimento da devida contraprestação. Daí porque é inarredável a \\naplicação do prazo prescricional trienal de que trata o art. 206, §3°, inciso V, do Código Civil.\\n               Não trouxe a agravante, portanto, nenhum argumento capaz de infirmar as \\nconclusões da decisão singular ora hostilizada.\\n               Ante o exposto, nego provimento ao agravo regimental.\\n               É o '"
      ]
     },
     "execution_count": 15,
     "metadata": {},
     "output_type": "execute_result"
    }
   ],
   "source": [
    "df.voto[178]"
   ]
  },
  {
   "cell_type": "code",
   "execution_count": 16,
   "id": "e80507f8",
   "metadata": {},
   "outputs": [
    {
     "data": {
      "text/plain": [
       "'ASSUNTO\\nDireitosAutorais\\n'"
      ]
     },
     "execution_count": 16,
     "metadata": {},
     "output_type": "execute_result"
    }
   ],
   "source": [
    "df.assunto[178]"
   ]
  },
  {
   "cell_type": "code",
   "execution_count": 17,
   "id": "8d4179f5",
   "metadata": {},
   "outputs": [],
   "source": [
    "df['text'] = df['partes'] + '. '+ df['ementa']+'. ' + df['acordao'] +'. '+ df['relatorio'] +'. ' + df['voto']+ '. '+ df['assunto']"
   ]
  },
  {
   "cell_type": "code",
   "execution_count": 6,
   "id": "86cba150",
   "metadata": {},
   "outputs": [],
   "source": [
    "#df['text'] = df['peticao'] + '. Classe: '+ df['tipo']# ', Classe: '+df['Classe']+ ', Certidão Julgamento: ' + df['CertidaoJulgamento']+ ', Informação Complementar: ' + df['InfoComplementar']"
   ]
  },
  {
   "cell_type": "code",
   "execution_count": 18,
   "id": "3d88eaa5",
   "metadata": {},
   "outputs": [
    {
     "data": {
      "text/plain": [
       "0      RELATOR   : MINISTRO ANTONIO CARLOS FERREIRA\\n...\n",
       "1      RELATOR    : MINISTRO MOURA RIBEIRO\\nRECORRENT...\n",
       "2      RELATOR   : MINISTRO RAUL ARAÚJO\\nAGRAVANTE : ...\n",
       "3      RELATOR       : MINISTRO MARCO AURÉLIO BELLIZZ...\n",
       "4      RELATOR    MINISTRO PAULO DE TARSO SANSEVERINO...\n",
       "                             ...                        \n",
       "267    RELATOR               : MINISTRO BENEDITO GONÇ...\n",
       "268    RELATOR                  : MINISTRO SÉRGIO KUK...\n",
       "269    RELATOR                MINISTRO RAUL ARAÚJO\\nA...\n",
       "270    RELATOR               : MINISTRO RICARDO VILLA...\n",
       "271    RELATOR   : MINISTRO MARCO AURÉLIO BELLIZZE\\nE...\n",
       "Name: text, Length: 272, dtype: object"
      ]
     },
     "execution_count": 18,
     "metadata": {},
     "output_type": "execute_result"
    }
   ],
   "source": [
    "df['text']"
   ]
  },
  {
   "cell_type": "code",
   "execution_count": 20,
   "id": "82e03721",
   "metadata": {},
   "outputs": [
    {
     "data": {
      "text/plain": [
       "'RELATOR               : MINISTRO BENEDITO GONÇALVES\\nAGRAVANTE             : MUNICIPIO DE RIO DO OESTE\\nADVOGADO              : EDSON LUIS ZANIS E OUTRO(S) - SC005429\\nAGRAVADO              : SILVIO GIACOMOZZI\\nADVOGADO              : MÁRCIO PESSATTI - SC013529\\n                                           . EMENTA\\n\\n            CIVIL E ADMINISTRATIVO. AGRAVO INTERNO NO RECURSO \\n            ESPECIAL. ACIDENTE DE TRABALHO. PERCEPÇÃO SIMULTÂNEA DE \\n            BENEFÍCIO PREVIDENCIÁRIO COM PENSÃO MENSAL. ART. 950 DO \\n            CC. NATUREZAS DISTINTAS. POSSIBILIDADE. JURISPRUDÊNCIA DO \\n            STJ.\\n            1. A jurisprudência desta Corte é pacífica no sentido de que \"o beneficio previdenciário \\n            é diverso e independente da indenização por danos materiais ou morais, porquanto têm \\n            origens distintas. O primeiro é assegurado pela Previdência; e a segunda, pelo direito \\n            comum. A indenização por ato ilícito é autônoma em relação a qualquer beneficio \\n            previdenciário que a vítima receba. Precedentes.\" (AgRg no REsp 1.388.266/SC, \\n            Segunda Turma, Rel. Ministro Humberto Martins, DJe 16/5/2016) — (AgInt no REsp \\n            1.214.848/RS, Primeira Turma, Rel. Ministro Sérgio Kukina, DJe 23/2/2017)\\n            2. Agravo interno não rovi o.\\n                                         . ACÓRDÃO\\n                \\n         Vistos, relatados e discutidos os autos em que são partes as acima indicadas, acordam os \\nMinistros da Primeira Turma do Superior Tribunal de Justiça, por unanimidade, negar provimento ao \\nagravo interno, nos termos do voto do Sr. Ministro Relator. Os Srs. Ministros Sérgio Kukina, Regina \\nHelena Costa (Presidente), Gurgel de Faria e Napoleão Nunes Maia Filho votaram com o Sr. \\nMinistro Relator.\\n         . RELATÓRIO\\n\\n\\n         O EXMO. SR. MINISTRO BENEDITO GONÇALVES (Relator): Trata-se de \\n\\nagravo interno interposto contra decisão assim ementada (fl. 387):\\n\\n\\n                  DIREITO CIVIL. RECURSO ESPECIAL. = ACIDENTE DE TRABALHO. \\n                  PERCEPÇÃO SIMULTÂNEA DE BENEFÍCIO PREVIDENCIÁRIO COM PENSÃO \\n                  MENSAL. ART. 950 DO CC. NATUREZAS DISTINTAS. POSSIBILIDADE. \\n                  JURISPRUDÊNCIA DO STJ. RECURSO ESPECIAL PROVIDO.\\n\\n         O agravante alega que a jurisprudência do STJ \"[...] diz respeito apenas àquelas situações \\n\\nem que a vítima não possui relação de emprego (celetista ou estatutária) com o agente que cometeu \\n\\no ato ilícito e é efetivamente o responsável civil pela indenização correspondente.\" (fl. 394).\\n\\n\\n\\n         Sem impugnação.\\n         \\n         É o . VOTO\\n            \\n         O EXMO. SR. MINISTRO BENEDITO GONÇALVES (Relator): Compulsando-se \\nos autos, observa-se que o presente recurso não merece prosperar, tendo em vista que dos \\nargumentos apresentados no agravo interno não se vislumbram razões para reformar a decisão \\nagravada.                             Á L f\\n\\n         Isso porque a jurisprudência pacificada nesta Corte Superior de Justiça não excepciona a \\npossibilidade de cumulação do benefício previdenciário com verbas de natureza indenizatória em \\nfunção da condição de servidor ou não do lesado, inexistindo qualquer ilação lógico-jurídica que \\nembasasse tal alegação.\\n\\n         Com fito de melhor esclarecer a questão, destaque-se o seguinte trecho da decisão \\nagravada (fl. 388):\\n\\n                  De fato, consoante a jurisprudência consolidada nesta Corte Superior de Justiça, é \\n                  possível a cumulação do benefício previdenciário percebido pela Autarquia Federal \\n                  com a compensação a título de lucros cessantes, na hipótese prevista no artigo 950 \\n                  do Código Civil, haja vista se tratarem de institutos de natureza jurídica distinta, \\n                  sendo certo que o primeiro é um seguro social em decorrência do vínculo pelas \\n                  Contribuições vertidas pelo seguro, o qual se compatibiliza com o princípio da \\n                  reparação integral de ato ilícito sofrido pela vítima. [...]\\n         Nesse sentido, confiram-se:\\n\\nADMINISTRATIVO. PROCESSUAL CIVIL. RESPONSABILIDADE CIVIL DO  \\nESTADO. MORTE DE POLICIAL CIVIL. AÇÃO INDENIZATÓRIA. PENSÃO  \\nMENSAL ÀS FILHAS. DANOS MATERIAIS. POSSIBILIDADE DE CUMULAÇÃO  \\nCOM PENSÃO PREVIDENCIÁRIA. VALOR DE 2/3 DOS RENDIMENTOS DA  \\nVÍTIMA ATÉ FILHAS COMPLETAREM 25 ANOS DE IDADE. PARA A VIÚVA  \\nATÉ A IDADE PROVÁVEL DO DE CUJUS. PRECEDENTES. DIREITO DE A  \\nMÃE/VIÚVA ACRESCER O VALOR RECEBIDO PELAS FILHAS.\\n1. A jurisprudência desta Corte é disposta no sentido de que o benefício  \\nprevidenciário é diverso e independente da indenização por danos materiais ou  \\nmorais, porquanto têm origens distintas. O primeiro assegurado pela  \\nPrevidência; e a segunda, pelo direito comum. A indenização por ato ilícito é  \\nautônoma em relação a qualquer benefício previdenciário que a vítima receba.  \\nPrecedentes. A\\n[...I Agravo regimental improvido.\" (AgRg no REsp 1.388.266/SC, Segunda Turma,  \\nRel. Ministro Humberto Martins, DJe 16/5/2016, g.n.).\\n. RECURSO ESPECIAL. PROCESSUAL CIVIL E CIVIL. AÇÃO CIVIL EX  \\n\\nDELICTO. INDENIZAÇÃO. PENSÃO MENSAL À VIÚVA (CC, ART. 1.537, II).  \\nPRÉVIO P D\\n..] VIO RECEBIMENTO DE PENSÃO ESPECIAL PREVENCIÁRIA.  \\nEXCLUSÃO DE OFÍCIO DA PENSÃO CIVIL. IMPOSSIBILIDADE. VIOLAÇÃO  \\nDOS ARTS. 128, 460, 512 E 515 DO CPC. CUMULAÇÃO DAS PENSÕES.  \\nPOSSIBILID E. DANOS MORAIS. RAZOABILIDADE. RECURSO ESPECIAL\\nOVIDO.\\n3 - A jurisprudência desta Corte é pacífica no sentido de que \\'o benefício  \\nprevidenciário é diverso e independente da indenização por danos materiais ou\\nik morais, porquanto, ambos têm origens distintas. Este, pelo direito comum;   \\naquele, assegurado pela Previdência. A indenização por ato ilícito é autônoma  \\nem relação a qualquer benefício previdenciário que a vítima receba\\' (AgRg no  \\nAgRg no Resp 1.292.983/AL, Rel. Min. HUMBERTO MARTINS, DJe de 7.3.2012).  \\n[• ]\\n5 - Recurso especial provido.\" (REsp 776.338/SC, Quarta Turma, Rel. Ministro Raul  \\nAraújo, DJe 6/6/2014, g.n.)\\nAGRAVO INTERNO EM RECURSO ESPECIAL. ACIDENTE EM SERVIÇO.  \\nMILITAR. RESPONSABILIDADE CIVIL DO ESTADO. CUMULAÇÃO DE  \\nBENEFÍCIO PREVIDENCIÁRIO COM INDENIZAÇÃO POR DANOS  \\nMORAIS. POSSIBILIDADE.\\n1. O Superior Tribunal de Justiça possui o entendimento de que a existência de lei  \\nespecífica que rege a atividade militar (Lei 6.880/80) não isenta a responsabilidade do  \\nEstado, prevista no art. 37, § 6°, da Constituição Federal, por danos morais causados  \\na servidor militar em decorrência de acidente sofrido durante atividade no Exército  \\n(EDcl no AgRg no REsp 1220629/RS, Rel. Ministro HERMAN BENJAMIN,  \\nSEGUNDA TURMA, julgado em 17/05/2011, Dje 20/05/2011). Precedentes.\\n2. Ainda na linha de nossa jurisprudência, é possível a cumulação de indenização por  \\ndano moral com os proventos da reforma de servidor militar. Precedentes.\\n3. Agravo interno a que se nega provimento. (AgInt no REsp 1214848/RS, Primeira  \\nTurma, Rel. Ministro SÉRGIO KUKINA, DJe 23/02/2017, g.n.)\\nAnte o exposto, nego provimento ao agravo interno.\\n\\n         É como . ASSUNTO\\nResponsabilidadeCivil\\n'"
      ]
     },
     "execution_count": 20,
     "metadata": {},
     "output_type": "execute_result"
    }
   ],
   "source": [
    "df.text[267]"
   ]
  },
  {
   "cell_type": "code",
   "execution_count": 21,
   "id": "b049f3f2",
   "metadata": {},
   "outputs": [],
   "source": [
    "# Ajuste os caracteres \"\\n\" para justificar\n",
    "df['text'] = df['text'].str.replace('\\n', ' ')\n",
    "df['text'] = df['text'].str.replace('\\\\n', ' ')"
   ]
  },
  {
   "cell_type": "code",
   "execution_count": 22,
   "id": "6db3b79c",
   "metadata": {},
   "outputs": [
    {
     "data": {
      "text/plain": [
       "'RELATOR               : MINISTRO MOURA RIBEIRO IMPETRANTE            : SONILDA MARIA SANTOS PEREIRA ADVOGADO              : SONILDA MARIA SANTOS PEREIRA - SP279182 IMPETRADO             : TRIBUNAL DE JUSTIÇA DO ESTADO DE SÃO PAULO PACIENTE              : A T P                                            . EMENTA                       PROCESSUAL CIVIL. HABEAS CORPUS. EXECUÇÃO DE ALIMENTOS.                       PRISÃO CIVIL. WRIT UTILIZADO COMO SUCEDÂNEO DE RECURSO                       ORDINÁRIO. IMPOSSIBILIDADE. AFERIÇÃO DA POSSIBILIDADE DE                       CONCESSÃO DA ORDEM DE OFÍCIO. INADIMPLEMENTO DAS TRÊS                       PARCELAS ANTERIORES AO AJUIZAMENTO DA EXECUÇÃO E DAS                       QUE VENCERAM NO SEU CURSO. INCIDÊNCIA DA SÚMULA NP 309 DO                       STJ. RECOLHIMENTO DAS TRÊS PARCELAS ANTERIORES À                       CITAÇÃO. INSUFICIÊNCIA. PAGAMENTO PARCIAL DA PENSÃO NÃO                       AFASTA O DECRETO DE PRISÃO. PRECEDENTES. PARCELAMENTO                       DO DÉBITO. PRETENSÃO. TEMA NÃO DEBATIDO NA ORIGEM.                       IMPOSSIBILIDADE DE EXAME PELO STJ. SUPRESSÃO DE INSTÂNCIA.                      1. Não é admissível a utilização de habeas corpus como sucedâneo ou                       substitutivo de recurso ordinário cabível. Precedentes. Possibilidade                       excepcional entretanto, de se conceder a ordem de ofício.                      2. O decreto de prisão proveniente da execução de alimentos na qual se                       visa o recebimento integral de até três parcelas anteriores ao                       ajuizamento da ação e das que se vencerem no seu curso não é ilegal.                       Inteligência da Súmula n\\' 309 do STJ e precedentes.              lb      3. A ausência de debate pelo Tribunal de origem acerca da alegação da                      impetrante de que o parcelamento do débito alimentar deve ser deferido                       pois o paciente não tem como pagar o saldo remanescente, impede o                       exame da matéria pelo STJ, sob pena de indevida supressão de                       instância. Precedentes.                      3. O STJ já consolidou o entendimento de que o desemprego, a                       constituição de nova família e o nascimento de outros filhos não são                       suficientes para justificar o inadimplemento da obrigação alimentar,                       devendo tais circunstâncias ser examinadas em ação revisional ou                       exoneratória, justamente em razão da estreita via do habeas corpus.                      4. A inexistência de ilegalidade flagrante ou de coação no direito de                       locomoção do paciente impede a concessão da ordem de ofício.                      5. Habeas corpus denegado.                                            . ACÓRDÃO                      Vistos, relatados e discutidos os autos em que são partes as acima  indicadas, acordam os Senhores Ministros da Terceira Turma do Superior Tribunal de  Justiça, por unanimidade, em denegar o habeas corpus, nos termos do voto do Sr.  Ministro Relator.                   Os Srs. Ministros Nancy Andrighi, Paulo de Tarso Sanseverino, Ricardo  Villas Bôas Cueva e Marco Aurélio Bellizze votaram com o Sr. Ministro Relator.                   . RELATÓRIO                        O EXMO. SR. MINISTRO MOURA RIBEIRO (Relator):                      Cuida-se de habeas corpus substitutivo de recurso ordinário impetrado  em favor de A. T. P. (A), impugnando acórdão da 52. Câmara Cível do Tribunal de Justiça  de São Paulo que denegou a ordem lá impetrada por não verificar ilegalidade no decreto de  prisão civil do paciente em virtude de inadimplemento de obrigação alimentícia em relação  ao filho menor N. V. P. (N), proferido pelo Juízo da 5á Vara de Família e Sucessões do Foro  Regional de Santana - SP, em acórdão que recebeu a seguinte ementa:                                  HABEAS CORPUS Prisão civil. Execução de alimentos. Executado                                 que não nega a mora relacionada à obrigação alimentar. Discussão                                 sobre a possibilidade financeira do paciente ultrapassa o âmbito                                 restrito do \\'writ\" por ser meio inidôneo. Circunstância que legitima a                                 execução na forma do art. 528, §§32 e 72, do NCPC. Precedentes                 III*            do STJ e desta Corte - Denegada a ordem (e-STJ, fl. 16).                      Na impetração sustentou-se, em síntese, que o paciente está sofrendo  constrangimento ilegal porque (1) as três últimas parcelas anteriores a sua citação e as  que venceram no curso do processo já foram pagas; (2) deve ser deferido o parcelamento  do restante da dívida pois não tem condições de quitá-la integralmente, no entanto, o  exequente recusou o pleito; e (3) os alimentos devidos entre janeiro e novembro de 2018  não foram pagos porque estava desempregado, mas a partir de janeiro de 2019 a  obrigação está sendo cumprida regularmente.                      Indeferi a liminar (e-STJ, fls. 86/87).                       Recebi as informações (e-STJ, fls. 92/93).                      O Ministério Público Federal opinou pelo não conhecimento do writ (e-STJ, fls. 96/103).                      É o . VOTO                    O EXMO. SR. MINISTRO MOURA RIBEIRO (Relator):                   De início, cabe ressaltar que nos termos da jurisprudência desta eg. Corte  Superior, não se admite a impetração de habeas corpus como sucedâneo ou substitutivo  de recurso ordinário cabível, em especial no caso em que se impugnou acórdão que  denegou outro writ na origem, no qual seria cabível a interposição de recurso ordinário.                   Nesse sentido, confiram-se os seguintes precedentes:                             \"HABEAS CORPUS\". PRISÃO CIVIL. ALIMENTOS. WRIT                             SUBSTITUTIVO DE RECURSO ORDINÁRIO. NÃO CABIMENTO.                             PRECEDENTES DO STF E DO STJ. CONCESSÃO DE ORDEM DE                             OFÍCIO. INEXISTÊNCIA DOS REQUISITOS AUTORIZADORES.                            1. Não conhecimento do habeas corpus impetrado como                             substitutivo de recurso ordinário. Precedentes do STF e do STJ.                            2. Inocorrência de flagrante ilegalidade ou abuso de poder a                             justificar a concessão da ordem de ofício.                     •      3. Decreto prisional em razão do inadimplemento da pensão                            alimentícia firmada em acordo judicial em ação de execução de                             alimentos.                            4. Jurisprudência firme do Superior Tribunal de Justiça no sentido                             de que o descumprimento de acordo firmado entre alimentante e                             alimentado, nos autos de ação de execução de alimentos, pode                             ensejar o decreto de prisão, bem como que o pagamento parcial                             não produz o efeito de liberar o devedor do restante do débito ou,                             tampouco, afastar o decreto prisional.                            5. Precedentes específicos desta Corte.                            6. \"HABEAS CORPUS\" DENEGADO.                            (HC n\\' 350.101/MS, Rel. Ministro PAULO DE TARSO                             SANSEVERINO, Terceira Turma, julgado aos 14/6/2016, DJe de                             17/6/2016, sem destaque no original).                             PROCESSUAL CIVIL. AGRAVO REGIMENTAL NO \"HABEAS                             CORPUS\". EXECUÇÃO DE ALIMENTOS. ART. 733 DO CPC.                             PRESTAÇÕES VENCIDAS NO CURSO DA EXECUÇÃO.                             IMPETRAÇÃO DE \"WRIT\" NO SUPERIOR TRIBUNAL DE JUSTIÇA                             EM SUBSTITUIÇÃO AO RECURSO ORDINÁRIO.                             INADMISSIBILIDADE. ALEGAÇÃO DE CONSTRANGIMENTO Documento: 1853576 - Inteiro Teor do Acórdão - Site certificado - DJe: 23/08/2019 Página 5 de 5 \\x0c                              ILEGAL. NECESSIDADE DE DILAÇÃO PROBATÓRIA.                               INADEQUAÇÃO DA VIA ELEITA.                              1. A ação constitucional será cabível \\'sempre que alguém sofrer ou                               se achar ameaçado de sofrer violência ou coação em sua liberdade                               de locomoção, por ilegalidade ou abuso de poder\\' (art. 52, LXVIII,                               da                              CF), circunstância não configurada nos autos.                              2. Não é admissível a utilização do \"habeas corpus\" originário                               no STJ como substitutivo do recurso ordinário, tampouco                               dilação probatória na via eleita.                              3. Agravo regimental desprovido.                              (AgRg no HC n\\' 298.667/RJ, Rel. Ministro ANTONIO CARLOS                               FERREIRA, Quarta Turma, julgado aos 23/10/2014, DJe de                               10/11/2014, sem destaque no original).                     Não obstante tal orientação jurisprudencial, existe, excepcionalmente, a  possibilidade de concessão da ordem de ofício, na hipótese em que se verificar que  alguém sofre ou está sofrendo constrangimento em sua liberdade de locomoção em razão  de decisão manifestamente ilegal ou teratológica, o que não é caso, como se verá a  seguir.                    De acordo com os documentos que instruem esta impetração, verifica-se  que N, menor de idade, assistido por sua genitora K. A. V., promoveu contra A., seu genitor  aos 21/3/2018, o cumprimento de sentença (Proc. nQ 1008000-42.2018.8.26.0001) de  obrigação alimentar acordada em ação de divórcio, pelo rito do art. 528 do NCPC, visando  o recebimento das parcelas não pagas no período de dezembro de 2017 a março de 2018  (e-STJ, fls. 68/71). n.                    O Magistrado de primeiro grau mandou citar A, na forma do art. 528 do  NCPC, para pagar o débito, provar que o fez ou justificar a impossibilidade de fazê-lo, no  prazo de 3 (três) dias, sob pena de prisão civil.                    Citado (não há comprovação da data nos autos), A apresentou justificativa  aos 20/12/2018, tendo afirmado que (1) não tem condições financeiras de pagar a  totalidade do valor cobrado pois estava desempregado e se relocou no mercado de  trabalho recentemente, formou nova família e tem dois filhos pequenos; (2) ajuizou ação  revisional visando reduzir o valor dos alimentos; e (3) a sua postura não é voluntária e  inescusável (e-STJ, fls. 65/67).                    O Juízo da 52 Vara da Família e Sucessões do Foro Regional I de Santana  - SP, rejeitou as justificativas apresentadas por A e decretou sua prisão civil aos 25/3/2019 pelo prazo de 30 (trinta) dias, tendo o mandado de prisão sido expedido aos 10/4/2019  (e-STJ, fls. 60 e 33).                    Diante disso, A impetrou habeas corpus no Tribunal de Justiça de São Documento: 1853576 - Inteiro Teor do Acórdão - Site certificado - DJe: 23/08/2019        Página 6 de 5 \\x0c Paulo que foi denegado porque (1) o executado não pagou as três parcelas anteriores ao  ajuizamento da execução e a totalidade das que venceram no seu curso; (2) o habeas  corpus não é sucedâneo de ação revisional e não serve para análise de questões fáticas  que exigem maior dilação probatória, como a capacidade financeira das partes; e (3) o  pagamento parcial da débito alimentar não torna ilegal o decreto prisional.                   Daí a impetração do presente writ, substitutivo de recurso ordinário  cabível, visando afastar o decreto de prisão civil, mantido pela autoridade coatora, pelas  razões declinadas no relatório.                   (1) Da alegação de pagamento das três parcelas anteriores a citação e  das que venceram depois.                    A impetrante alegou que a prisão civil do paciente é ilegal porque as três  parcelas anteriores a sua citação foram pagas, bem como as que venceram após.             (  fr O argumento não merece prosperar.                   Com efeito, o NCPC no § 5\\' do seu art. 528, avaliza e reafirma o  entendimento jurisprudencial desta eg. Corte Superior cristalizado na Súmula n\\' 309, de  que para elidir o decreto prisional o alimentante deve pagar as três parcelas anteriores  ao ajuizamento da execução e das que se vencerem no curso do processo, não  bastando o adimplemento das três últimas prestações que antecederam a ordem de  prisão ou a cita\"3 11 1 _                   A propósito, confiram-se os seguintes precedentes:                             PROCESSUAL CIVIL. \"HABEAS CORPUS\". EXECUÇÃO DE                             ALIMENTOS. PRISÃO CIVIL. \"WR1T\" UTILIZADO COMO                             SUCEDÂNEO DE RECURSO CABÍVEL. IMPOSSIBILIDADE.                             AFERIÇÃO DA POSSIBILIDADE DE CONCESSÃO DA ORDEM DE                             OFÍCIO. ALEGADO EXCESSO NA EXECUÇÃO. AUSÊNCIA DE                             COMPROVAÇÃO. DEMORA NO JULGAMENTO DA APELAÇÃO                             NA ORIGEM. MATÉRIA NÃO EXAMINADA PELO ACÓRDÃO                             IMPUGNADO. IMPOSSIBILIDADE DE EXAME PELO STJ.                             SUPRESSÃO DE INSTÂNCIA. CONSTATAÇÃO DA CAPACIDADE                             FINANCEIRA DO ALIMENTANTE. IMPOSSIBILIDADE NA VIA                             ESTREITA DO WR1T. PRECEDENTES. LEGALIDADE DO                             DECRETO DE PRISÃO. INADIMPLEMENTO DAS TRÊS                             PARCELAS ANTERIORES AO AJUIZAMENTO DA EXECUÇÃO E                             DAS QUE VENCERAM NO CURSO DA AÇÃO. INCIDÊNCIA DA                             SÚMULA N° 309 DO STJ. CUMPRIMENTO PARCIAL DA                             OBRIGAÇÃO AUTORIZA A PRISÃO CIVIL. PRETENSÃO DE                             CUMPRIMENTO DA PRISÃO CIVIL EM REGIME DOMICILIAR.                             SUPRESSÃO DE INSTÂNCIA. CONSTRANGIMENTO ILEGAL NÃO                             DEMONSTRADO. HABEAS CORPUS NÃO CONHECIDO.                             4. Há jurisprudência dominante do STJ segue no sentido de que o                             não pagamento integral das parcelas alimentares devidas autoriza                             a prisão civil do devedor de alimentos. Precedentes.                            5. O decreto de prisão proveniente da execução de alimentos                             na qual se visa o recebimento integral de até as três parcelas                             anteriores ao ajuizamento da ação e das que vencerem no seu                             curso não é ilegal. Inteligência da Súmula n° 309 do STJ e                             precedentes.                            6. A pretensão de cumprimento da prisão civil em regime domiciliar,                             em regra, não encontra abrigo na jurisprudência desta egrégia                             Corte Superior, pois desvirtua a finalidade de compelir o devedor a                             adimplir com a obrigação alimentar e viola direito fundamental que                             tem o alimentado a uma sobrevivência digna. Precedentes.                            7. A inexistência de ilegalidade flagrante ou de coação no direito de                             locomoção do paciente não enseja a concessão da ordem de                           18. 18. \"Habeas corpus\" não conhecido.                            (HC n\\' 403.272/RO, da minha relatoria, Terceira Turma, julgado                             aos 21/9/2017, DJe de 4/10/2017, sem destaques no original).                             DIREITO CIVIL E PROCESSUAL CIVIL. AGRAVO REGIMENTAL                             EM \"HABEAS CORPUS\". PRISÃO CIVIL. INADIMPLÊNCIA DO                             DÉBITO ALIMENTAR. OBSERVÂNCIA DA SÚMULA N. 309/STJ.                             REGULARIDADE DA ORDEM DE PRISÃO. IMPOSSIBILIDADE DE                             CUMPRIMENTO DA OBRIGAÇÃO. NECESSIDADE DE DILAÇÃO              ‘4,            PROBATÓRIA. INVIABILIDADE NO WRIT.                     •      I. O débito recente, para fins de aplicação do art. 733 do CPC,                            compreende as prestações vencidas nos três meses anteriores                             à propositura da execução, incluídas as que se vencerem no                             decorrer do referido processo, conforme dispõe a Súmula n.                             309/STJ.                            2. No caso em exame, o decreto de prisão não se refere a parcelas                             pretéritas, mas as que se venceram no curso do processo.                            3. As questões relativas à eventual dificuldade enfrentada pelo                             devedor de alimentos para o adimplemento da obrigação e à                             ausência de necessidade premente por parte da credora dos                             alimentos devem ser discutidas nos autos da ação revisional de                             alimentos, tendo em vista a impossibilidade de dilação probatória no                             âmbito do \"habeas corpus\".                            4. Agravo regimental a que se nega provimento.                            (AgRg no HC n\\' 302.217/SE, Rel. Ministro ANTONIO CARLOS                             FERREIRA, Quarta Turma, julgado em 2/10/2014, DJe de                             10/10/2014, sem destaque no original).                    Nessa toada, como a autoridade coatora consignou que A não comprovou  efetivamente o pagamento da totalidade da dívida ou a impossibilidade de efetuá-lo, e assinalou que isso era imprescindível, não há constrangimento ilegal sofrido pelo paciente.                  Cabe ressaltar, e, diferentemente do que alegou a impetração, não é o  pagamento das três parcelas anteriores a citação, mas o implemento delas e das que se  vencerem no curso da execução que elidem o decreto prisional por inadimplemento de  obrigação alimentar.                  A propósito, há também entendimento dominante nesta eg. Corte Superior  de que o pagamento parcial da obrigação alimentar não obsta a prisão civil do devedor de  alimentos.                  Sobre o tema, confiram-se os seguintes precedentes desta Corte:                             \\'HABEAS CORPUS\" SUBSTITUTIVO DE RECURSO ORDINÁRIO.                            PRISÃO CIVIL. ALIMENTOS PRESTADOS DE FORMA PARCIAL.                            ORDEM DENEGADA.                          il. O pagamento parcial do débito não afasta a regularidade da                            prisão civil.                           2. O \"habeas corpus\" possui cognição sumária, não comporta                            dilação probatória, tampouco admite aprofundada análise de fatos                            e provas controvertidos.                           3. Não demonstrada em que consiste a pretensa ilegalidade da                            prisão decretada pelo inadimplemento de verba de natureza                            alimentar, deve a ordem de \"habeas corpus\" ser negada.                           4. \"HABEAS CORPUS\" DENEGADO                           (HC n\\' 304.072/SP, Rel. Ministro PAULO DE TARSO                      • SANSEVERINO, Terceira Turma, julgado aos 16/4/2015, DJe de                            23/4/2015, sem destaque no original).                            AGRAVO REGIMENTAL. \"HABEAS CORPUS\" SUBSTITUTIVO DE                            RECURSO ORDINÁRIO. EXECUÇÃO DE ALIMENTOS. AUSÊNCIA                            DE PAGAMENTO INTEGRAL. ARTS. 732 E 733 DO CPC.                            CONVOLAÇÃO DE RITO.                           1. Houve substancial mudança de entendimento do Excelso Pretório                            no tocante ao cabimento do \"habeas corpus\" substitutivo de                            recurso ordinário, passando-se a inadmiti-lo, ressalvados os casos                            de \"habeas corpus\" já formalizado sob a óptica da substituição do                            recurso constitucional, para o qual não ocorrerá prejuízo para o                            paciente, ante a possibilidade de vir-se a conceder, se for o caso, a                            ordem de ofício. Precedentes.                           2. O pagamento parcial do débito não afasta a possibilidade de                            prisão civil do alimentante executado. Precedentes.                           3. No que concerne à convolação de rito, o caso ora em análise                            diverge do precedente HC 188.630/RS, da relatoria da Ministra                            Nancy Andrighi, porquanto naquele o que se defende é que tendo                            sido ajuizada a execução com fundamento no art. 732 do CPC e,                            em nenhum momento sendo requerida a prisão civil do executado,                            não seria possível concluir que a exequente teria interesse em                             adotar o rito mais gravoso. No caso concreto, a execução foi                             proposta observando o rito do art. 733 do CPC, tendo sido                             requerido o adimplemento do débito, sob pena de ser decretada                             prisão civil do alimentante.                            4. Agravo regimental não provido                            (AgRg no HC n\\' 295.091 /SP, Rel. Ministro LUIS FELIPE SALOMÃO,                             Quarta Turma, julgado aos 4/9/2014, DJe de 11/9/2014, sem                             destaque no original).                    (2) Do parcelamento da dívida.                   A impetração alegou que deve ser deferido o parcelamento da dívida  alimentar porque não é possível pagar o saldo remanescente à vista.                   O tema não foi enfrentado pela autoridade apontada como coatora  conforme se verifica às e-STJ, fls. 15/21. Diante disso, na linha da nossa jurisprudência, o  STJ não pode examiná-lo, sob pena de indevida supressão de instância.                   Nessa ordem de decidir, veja-se o seguinte precedente:                             AGRAVO INTERNO NOS EMBARGOS DE DECLARAÇÃO NO                             \"HABEAS CORPUS\". 1. AFERIÇÃO DO BINÔMIO                             NECESSIDADE/POSSIBILIDADE. REEXAME DE PROVA. 2.                             ANÁLISE DE QUESTÕES NÃO EXAMINADAS PELO TRIBUNAL DE                             ORIGEM. INVIABILIDADE. SUPRESSÃO DE INSTÂNCIA. 3.                     • AGRAVO INTERNO IMPROVIDO.                            1. É cediço neste Tribunal Superior que o \"mandamus\" não                             constitui a via adequada para a discussão acerca da capacidade ou                             não de o alimentante arcar com a quantia executada, pois a                             aferição da existência ou não, no caso concreto, do binômio                             necessidade/possibilidade depende do exame de fatos e provas, o                             que é vedado a esta Corte.                            2. Não compete a esta Casa a análise de questões não                             debatidas pelo Tribunal de origem, sob pena de indevida                             supressão de instância.                            3. Agravo interno a que se nega provimento.                            (AgInt nos EDc1 no HC n\\' 332.452/TO, Rel. Ministro MARCO                             AURÉLIO BELLIZZE, Terceira Turma, julgado aos 14/6/2016, DJe                             de 22/6/2016, sem destaque no original).                    No mesmo sentido: AgRg no HC ng 291.875/RJ, Rel. Ministro SIDNEI  BENETI, Terceira Turma, julgado aos 22/4/2014, DJe de 14/5/2014; RHC n\\' 33.835/SP,  Rel. Ministro MARCO BUZZI, Quarta Turma, julgado aos 25/6/2013, DJe de 6/8/2013, e  RHC n9 79.070/DF, da minha relatoria, Terceira Turma, julgado aos 21/2/2017, DJe de  9/3/2017.  É o . ASSUNTO Alimentos '"
      ]
     },
     "execution_count": 22,
     "metadata": {},
     "output_type": "execute_result"
    }
   ],
   "source": [
    "df.text[7]"
   ]
  },
  {
   "cell_type": "code",
   "execution_count": 23,
   "id": "ffda0990",
   "metadata": {},
   "outputs": [],
   "source": [
    "import re"
   ]
  },
  {
   "cell_type": "code",
   "execution_count": 24,
   "id": "d11bb570",
   "metadata": {},
   "outputs": [],
   "source": [
    "def remove_non_breaking_spaces(text):\n",
    "    return text.replace(\"\\xa0\", \" \").strip()"
   ]
  },
  {
   "cell_type": "code",
   "execution_count": 25,
   "id": "3ec562d2",
   "metadata": {},
   "outputs": [],
   "source": [
    "def remove_metadata(text):\n",
    "    text = re.sub(r', Length: \\d+, dtype: object', '', text)\n",
    "    text = str(text).replace(\"nan\", \"\")\n",
    "    return text.strip()"
   ]
  },
  {
   "cell_type": "code",
   "execution_count": 26,
   "id": "b805fbd7",
   "metadata": {},
   "outputs": [],
   "source": [
    "def remove_html_tags(text):\n",
    "    text = str(text)\n",
    "    clean = re.compile('<.*?>')\n",
    "    return re.sub(clean, '', text)"
   ]
  },
  {
   "cell_type": "code",
   "execution_count": 27,
   "id": "2e763d59",
   "metadata": {},
   "outputs": [],
   "source": [
    "def remove_excess_spaces(text):\n",
    "    text = str(text)\n",
    "    return re.sub(r'\\s+', ' ', text).strip()"
   ]
  },
  {
   "cell_type": "code",
   "execution_count": 28,
   "id": "744d664c",
   "metadata": {},
   "outputs": [],
   "source": [
    "def remove_reticencias_nan(text):\n",
    "    text = re.sub(r'\\.\\.\\.', '', text)\n",
    "    text = str(text).replace(\"nan\", \"\")\n",
    "    text = str(text).replace(\"NaN\", \"\")\n",
    "    return text.strip()  # Remove espaços em branco extras\n"
   ]
  },
  {
   "cell_type": "code",
   "execution_count": 29,
   "id": "3e41c3c9",
   "metadata": {},
   "outputs": [],
   "source": [
    "#df['text'] = df['text'].apply(remove_non_breaking_spaces)\n",
    "df['text'] = df['text'].apply(remove_html_tags)\n",
    "df['text'] = df['text'].apply(remove_excess_spaces)\n",
    "df['text'] = df['text'].apply(remove_reticencias_nan)\n",
    "df['text'] = df['text'].apply(remove_metadata)"
   ]
  },
  {
   "cell_type": "code",
   "execution_count": 30,
   "id": "b8465f68",
   "metadata": {},
   "outputs": [
    {
     "data": {
      "text/plain": [
       "'RELATOR : MINISTRO MARCO AURÉLIO BELLIZZE AGRAVANTE : G F DE S ADVOGADO : RITA DE CÁSSIA ALMEIDA MONTEIRO DE BARROS E OUTRO(S) - RJ057459 AGRAVADO : P F DE S (MENOR) REPR. POR :VFBDES ADVOGADO : ÁLVARO RIBEIRO XAVIER - RJ095533 . EMENTA AGRAVO INTERNO NO AGRAVO EM RECURSO ESPECIAL. AÇÃO DE ALIMENTOS. EXECUÇÃO DE ALIMENTOS. PENHORA DO FUNDO DE GARANTIA POR TEMPO DE SERVIÇO — FGTS. GARANTIA DA EXECUÇÃO DA PRESTAÇÃO ALIMENTÍCIA. VIABILIDADE. INCIDÊNCIA DE VERBA REFERENTE À PARTICIPAÇÃO DOS LUCROS E RESULTADOS NO CÁLCULO DOS ALIMENTOS. POSSIBILIDADE. EM HARMONIA COM A JURISPRUDÊNCIA DESTA CORTE. INCIDÊNCIA DA SÚMULA 83/STJ. DISSÍDIO PREJUDICADO. AGRAVO INTERNO DESPROVIDO. 1. Tendo o acórdão recorrido decidido em consonância com a jurisprudência desta Casa, incide, na hipótese, a Súmula 83 do Superior Tribunal de Justiça, que abrange os recursos especiais interpostos com amparo nas alíneas a e/ou c do permissivo constitucional. Precedentes. 2. Razões recursais insuficientes para a revisão do julgado. 3. Agravo interno desprovido. . ACÓRDÃO Vistos e relatados estes autos em que são partes as acima indicadas, acordam os Ministros da Terceira Turma do Superior Tribunal de Justiça, por uimidade, negar provimento ao recurso, nos termos do voto do Sr. Ministro Relator. Os Srs. Ministros Nancy Andrighi, Paulo de Tarso Sanseverino, Ricardo Villas Bôas Cueva e Moura Ribeiro votaram com o Sr. Ministro Relator. Presidiu o julgamento o Sr. Ministro Moura Ribeiro. . RELATÓRIO O SENHOR MINISTRO MARCO AURÉLIO BELLIZZE: Cuida-se de agravo interno interposto por G. F. de S. contra a decisão de fls. 571-576 (e-STJ), da lavra deste signatário, que conheceu do agravo para negar provimento ao recurso especial do ora agravante. O apelo extremo foi deduzido com base no art. 105, inciso III, alíneas a e c, da Constituição Federal, em desafio a acórdão prolatado pelo Tribunal de Justiça do Estado do Rio de Janeiro assim ementado: AGRAVO INTERNO EM APELAÇÃO CÍVEL - AÇÃO DE ALIMENTOS AJUIZADA POR FILHO MENOR - NECESSIDADE PRESUMIDA - REVELIA DO RÉU - SENTENÇA QUE FIXOU A PENSÃO EM 30% DOS GANHOS LÍQUIDOS DOS RÉU, DEDUZIDOS APENAS OS DESCONTOS FISCAIS E PREVIDENCIÁRIOS OBRIGATÓRIOS, E, EM UM SALÁRIO MÍNIMO NACIONAL - INCIDÊNCIA SOBRE AS VERBAS DE NATUREZA REMUNERATÓRIA RECEBIDAS A TÍTULO DE PARTICIPAÇÃO NOS LUCROS E RESULTADOS (PLR), HORAS EXTRAS, ADICIONAL DE FÉRIAS E 132 SALÁRIO - CABIMENTO - SÚMULA 188 DO TJ/RJ - RETENÇÃO DE PARCELA DO FGTS NO PERCENTUAL CORRESPONDENTE AO PENSIONAMENTO PARA GARANTIA DA EXECUÇÃO DA PRESTAÇÃO ALIMENTÍCIA - POSSIBILIDADE - SÚMULA 187 DESTA CORTE - REITERAÇÃO DOS MESMOS ARGUMENTOS EM SEDE DE AGRAVO INTERNO - DESPROVIMENTO DO RECURSO. Nas razões do recurso especial (fls. 248-271, e-STJ), além de dissídio jurisprudencial, o recorrente alegou que o acórdão impugnado incorreu em violação dos arts. 3\\' da Lei n. 10.101 /2000; e 7\\', XI, da Constituição Federal. Sustentou, em suma, ser inadmissível a incidência do desconto da pensão alimentícia sobre a Participação nos Lucros e Resultados, por ser verba de caráter indenizatório. Insurgiu-se contra a retenção de verba do FGTS para garantia de eventual inadimplemento da pensão alimentícia. Em razão do juízo prévio negativo de admissibilidade, o recorrente interpôs agravo (art. 1.042 do CPC/2015), do qual se conheceu para negar provimento ao recurso especial, ante a incidência da Súmula 83/STJ, em razão de o acórdão hostilizado encontrar-se em harmonia com a jurisprudência desta Corte, óbice que veda a análise do reclamo por ambas as alíneas do permissivo constitucional. No presente agravo interno (fls. 429-436, e-STJ), o agravante pugna pela inaplicabilidade do óbice apontado para o desprovimento do reclamo, ao tempo que repisa os termos já expendidos no recurso especial. Ao final, pleiteia a reconsideração da decisão agravada ou a apreciação do agravo interno pelo Colegiado. Sem impugnação, conforme certificado à fl. 597 (e-STJ). Em Parecer de fls. 601-604 (e-STJ), o Ministério Público Federal manifestou-se pelo desprovimento do reclamo. É o . VOTO O SENHOR MINISTRO MARCO AURÉLIO BELLIZZE (RELATOR): O recurso não comporta provimento, porquanto as razões expendidas são insuficientes para a reconsideração da decisão. Com efeito, conforme asseverado na decisão agravada, o Superior Tribunal de Justiça firmou o entendimento de que a verba denominada Participação nos Lucros e Resultados — PLR configura acréscimo patrimonial passível de integrar a base de cálculo dos alimentos. A propósito, confiram-se os seguintes Ardentes: AGRAVO INTERNO NO AGRAVO (ART 1.042 DO CPC/15) - INCIDÊNCIA DE VERBA REFERENTE À PARTICIPAÇÃO DOS LUCROS E RESULTADOS NO CÁLCULO DOS ALIMENTOS - DECISÃO MONOCRÁTICA QUE NEGOU PROVIMENTO AO RECLAMO - INSURGÊNCIA DO RÉU. 1. As parcelas percebidas a título de \"participação nos lucros\" configuram rendimento para fins de apuração do quantum devido em obrigação alimentícia, especialmente na hipótese de os alimentos serem definidos em percentual da renda do aiimentante, devendo, portanto, integrar a base de cálculo da pensão alimentícia. Precedentes desta Quarta Turma. 2. Agravo interno desprovido (Aglnt no AREsp 934.343/RS, Rel. Ministro MARCO BUZZI, QUARTA TURMA, julgado em 20/03/2018, DJe 26/03/2018) AGRAVO INTERNO NO AGRAVO EM RECURSO ESPECIAL. PENSÃO ALIMENTÍCIA. BASE DE CÁLCULO. PARTICIPAÇÃO NOS LUCROS. 1. Nas razões do agravo interno em apreço, a parte ora agravante não refutou especificamente os fundamentos, no tocante ao tema da preclusão, uma vez que nada argumentou no sentido de afastar a aplicação da Súmula 284/STF. 2. De acordo com precedentes, as parcelas percebidas a título de \"participação nos lucros\" configuram rendimento, devendo integrar a base de cálculo da pensão fixada em percentual, uma vez que o conceito de rendimentos é amplo, mormente para fins de cálculo de alimentos. 3. Agravo interno não provido (Aglnt no AREsp 1070.204/SE, Rel. Ministro LUIS FELIPE SALOMÃO, QUARTA TURMA, julgado em 19/09/2017, DJe 25/09/2017) No que se refere à penhora de conta vinculada do FGTS, em se tratando de ação de execução de alimentos, esta Corte também preconiza sua possibilidade, por envolver a própria subsistência do alimentado e a dignidade da pessoa humana. Nesse sentido, vejam-se os seguintes julgados: PROCESSUAL CIVIL. AGRAVO REGIMENTAL. VIOLAÇÃO AO ART. 535 DO CPC. NÃO OCORRÊNCIA. EXECUÇÃO DE ALIMENTOS. PENHORA DO FUNDO DE GARANTIA POR TEMPO DE SERVIÇO - FGTS. POSSIBILIDADE. 1. Não há que se falar em violação ao art. 535, II do CPC quando a matéria impugnada em embargos de declaração foi devidamente analisada pelo Tribunal de origem, que emitiu pronunciamento de forma fundamentada, ainda que em sentido contrário à pretensão do recorrente. 2. Este Tribunal preconiza a possibilidade de penhora de conta vinculada do FGTS e PIS em se tratando de ação de execução de alimentos, por envolver a própria subsistência do alimentado e a dignidade da pessoa humana. 3. Agravo regimental não provido (AgRg no REsp 1427836/SP, Rel. Ministro LUIS FELIPE SALOMÃO, QUARTA TURMA, julgado em 24/04/2014, DJe 29/04/2014). DIREITO CIVIL E PROCESSUAL CIVIL. FAMÍLIA. ALIMENTOS. RECURSO ORDINÁRIO EM MANDADO DE SEGURANÇA. EXECUÇÃO DE ALIMENTOS. DETERMINAÇÃO JUDICIAL DE LEVANTAMENTO DE VALORES MANTIDOS EM CONTA VINCULADA DO FGTS. CAIXA ECONÔMICA FEDERAL. TERCEIRO PREJUDICADO. INTERESSE. OFENSA A DIREITO LÍQUIDO E CERTO NÃO CONFIGURADA. - Na qualidade de agente operador do FGTS, conforme estabelecido no art. 7\\', inc. 1, da Lei 8.036/90, a CEF reveste-se de legitimidade, como terceiro prejudicado, para impetrar mandado de segurança contra ato de iz de Direito que determina o levantamento de valores existentes em conta vinculada do Fundo, para saldar dívida de alimentos. Nos termos da Súmula 202/STJ, a impetração de segurança em face de ato judicial por terceiro, que não participa da lide, não se condiciona à interposição de recurso, a despeito do disposto pelo art. 5g, II, da Lei 12.016/2009 e Súmula 267/STF. - A determinação judicial de levantamento de valores mantidos em conta vinculada do FGTS para fins de pagamento de débito alimentar em execução de alimentos, não se configura como ato coator apto a ferir direito líquido e certo da CEF, isso porque, embora legítima como terceira interessada para defender a manutenção e controle das contas vinculadas do FGTS, responsável pelo fiel cumprimento e observância dos critérios estabelecidos na Lei 8.036/90, não se verifica, de acordo com a interpretação conferida pela jurisprudência domite deste Tribunal, qualquer ilegalidade na decisão contra a qual se impetrou o mandado de segurança. - Recurso ordinário em mandado de segurança conhecido mas não provido. (RMS 35.826/SP, Rel. Ministra NANCY ANDRIGHI, TERCEIRA TURMA, julgado em 10/04/2012, DJe 23/04/2012) Dessa forma, encontrando-se a decisão hostilizada em consonância à jurisprudência deste Tribunal Superior, inarredável a aplicação da Súmula 83/STJ a obstar a análise do reclamo por ambas as alíneas do permissivo constitucional. Diante do exposto, nego provimento ao agravo interno. É como . ASSUNTO Alimentos'"
      ]
     },
     "execution_count": 30,
     "metadata": {},
     "output_type": "execute_result"
    }
   ],
   "source": [
    "df.text[45]"
   ]
  },
  {
   "cell_type": "code",
   "execution_count": 31,
   "id": "8f6f694c",
   "metadata": {},
   "outputs": [],
   "source": [
    "import pandas as pd"
   ]
  },
  {
   "cell_type": "code",
   "execution_count": 33,
   "id": "e3846838",
   "metadata": {},
   "outputs": [],
   "source": [
    "acordaos_stj_pp = pd.DataFrame()"
   ]
  },
  {
   "cell_type": "code",
   "execution_count": 34,
   "id": "233e2396",
   "metadata": {},
   "outputs": [],
   "source": [
    "acordaos_stj_pp['text'] = df['text']"
   ]
  },
  {
   "cell_type": "code",
   "execution_count": 35,
   "id": "e186c7c8",
   "metadata": {},
   "outputs": [
    {
     "data": {
      "text/html": [
       "<div>\n",
       "<style scoped>\n",
       "    .dataframe tbody tr th:only-of-type {\n",
       "        vertical-align: middle;\n",
       "    }\n",
       "\n",
       "    .dataframe tbody tr th {\n",
       "        vertical-align: top;\n",
       "    }\n",
       "\n",
       "    .dataframe thead th {\n",
       "        text-align: right;\n",
       "    }\n",
       "</style>\n",
       "<table border=\"1\" class=\"dataframe\">\n",
       "  <thead>\n",
       "    <tr style=\"text-align: right;\">\n",
       "      <th></th>\n",
       "      <th>text</th>\n",
       "    </tr>\n",
       "  </thead>\n",
       "  <tbody>\n",
       "    <tr>\n",
       "      <th>0</th>\n",
       "      <td>RELATOR : MINISTRO ANTONIO CARLOS FERREIRA AGR...</td>\n",
       "    </tr>\n",
       "    <tr>\n",
       "      <th>1</th>\n",
       "      <td>RELATOR : MINISTRO MOURA RIBEIRO RECORRENTE : ...</td>\n",
       "    </tr>\n",
       "    <tr>\n",
       "      <th>2</th>\n",
       "      <td>RELATOR : MINISTRO RAUL ARAÚJO AGRAVANTE : W C...</td>\n",
       "    </tr>\n",
       "    <tr>\n",
       "      <th>3</th>\n",
       "      <td>RELATOR : MINISTRO MARCO AURÉLIO BELLIZZE AGRA...</td>\n",
       "    </tr>\n",
       "    <tr>\n",
       "      <th>4</th>\n",
       "      <td>RELATOR MINISTRO PAULO DE TARSO SANSEVERINO RE...</td>\n",
       "    </tr>\n",
       "    <tr>\n",
       "      <th>...</th>\n",
       "      <td>...</td>\n",
       "    </tr>\n",
       "    <tr>\n",
       "      <th>267</th>\n",
       "      <td>RELATOR : MINISTRO BENEDITO GONÇALVES AGRAVANT...</td>\n",
       "    </tr>\n",
       "    <tr>\n",
       "      <th>268</th>\n",
       "      <td>RELATOR : MINISTRO SÉRGIO KUKINA AGRAVANTE UNI...</td>\n",
       "    </tr>\n",
       "    <tr>\n",
       "      <th>269</th>\n",
       "      <td>RELATOR MINISTRO RAUL ARAÚJO AGRAVANTE VIVO S/...</td>\n",
       "    </tr>\n",
       "    <tr>\n",
       "      <th>270</th>\n",
       "      <td>RELATOR : MINISTRO RICARDO VILLAS Be0AS CUEVA ...</td>\n",
       "    </tr>\n",
       "    <tr>\n",
       "      <th>271</th>\n",
       "      <td>RELATOR : MINISTRO MARCO AURÉLIO BELLIZZE EMBA...</td>\n",
       "    </tr>\n",
       "  </tbody>\n",
       "</table>\n",
       "<p>272 rows × 1 columns</p>\n",
       "</div>"
      ],
      "text/plain": [
       "                                                  text\n",
       "0    RELATOR : MINISTRO ANTONIO CARLOS FERREIRA AGR...\n",
       "1    RELATOR : MINISTRO MOURA RIBEIRO RECORRENTE : ...\n",
       "2    RELATOR : MINISTRO RAUL ARAÚJO AGRAVANTE : W C...\n",
       "3    RELATOR : MINISTRO MARCO AURÉLIO BELLIZZE AGRA...\n",
       "4    RELATOR MINISTRO PAULO DE TARSO SANSEVERINO RE...\n",
       "..                                                 ...\n",
       "267  RELATOR : MINISTRO BENEDITO GONÇALVES AGRAVANT...\n",
       "268  RELATOR : MINISTRO SÉRGIO KUKINA AGRAVANTE UNI...\n",
       "269  RELATOR MINISTRO RAUL ARAÚJO AGRAVANTE VIVO S/...\n",
       "270  RELATOR : MINISTRO RICARDO VILLAS Be0AS CUEVA ...\n",
       "271  RELATOR : MINISTRO MARCO AURÉLIO BELLIZZE EMBA...\n",
       "\n",
       "[272 rows x 1 columns]"
      ]
     },
     "execution_count": 35,
     "metadata": {},
     "output_type": "execute_result"
    }
   ],
   "source": [
    "acordaos_stj_pp"
   ]
  },
  {
   "cell_type": "code",
   "execution_count": 36,
   "id": "824f02c6",
   "metadata": {},
   "outputs": [
    {
     "data": {
      "text/plain": [
       "'RELATOR MINISTRO PAULO DE TARSO SANSEVERINO RECORRENTE ADEATN ADVOGADOS VICTOR BENEDITO OTAVIANO FERREIRA - G0027883 JULIO CESAR ESTANDISLAU MOREIRA - G0043375 RECORRIDO ADEATF ADVOGADOS JULIO CESAR ESTANDISLAU MOREIRA - G0043375 SUELENE CHEDIAK - G0049975 . EMENTA RECURSO ESPECIAL. CIVIL. AÇÃO REVISIONAL DE ALIMENTOS. INTERPRETAÇÃO DO ART. 13, §2°, DA LEI 5.478/68. RETROAÇÃO DA DECISÃO QUE REDUZ A PENSÃO ALIMENTÍCIA. FATO RELEVANTE (NASCIMENTO DE UM NOVO FILHO) A COMANDAR A TOTAL PROCEDÊNCIA DO PEDIDO DE REDUÇÃO DA PENSÃO OCORRIDO NO CURSO DA AÇÃO, ANOS APÓS A CITAÇÃO DO DEMANDADO (CREDOR DE ALIMENTOS). DISSÍDIO. AUSÊNCIA DE DEMONSTRAÇÃO. MERA TRANSCRIÇÃO DE EMENTAS. AUSÊNCIA DE COTEJO ANALÍTICO. 1. Controvérsia em torno da correta interpretação do artigo 13, §2°, da Lei 5.478/68 acerca da retroação dos efeitos da decisão que exonera, reduz ou majora os alimentos. 2. A citação é eleita pela Lei 5.478/68 como marco para a retroação dos efeitos da sentença/acórdão que reduz ou aumenta a pensão alimentícia ou, ainda, exonera o devedor de alimentos, porque se tem por constituído em mora o demandado acerca do direito alegado na petição inicial da ação quando da sua cientificação dos termos em que formulado o pedido. 3. Na hipótese de o fato considerado determite para a procedência do pedido - consubstanciado no fato do nascimento de uma nova filha do autor - não ter sido alegado na petição inicial, mas anos após a citação, não se poderá ter por implementada a mora do réu desde a sua citação. 4. Consubstancia verdadeira emenda da petição inicial a alegação, quatro anos após o ajuizamento da demanda, do relevante fato consubstanciado no nascimento de um novo filho, sobre o qual apoiada a decisão de procedência, revelando-se correta a retroação dos efeitos da redução da pensão a 30% do salário mínimo à data do nascimento desta nova filha. 5. Esta Corte Superior, no restrito âmbito do recurso especial, não pode revisar as provas dos autos para determinar se as condições económicas do devedor de alimentos, ou seja, as suas receitas e despesas ordinárias, independentemente do nascimento de sua filha, determinariam a redução do valor da pensão para o patamar pretendido na petição inicial e acolhido em segundo grau de jurisdição, pois evidente a atração do enunciado 7/STJ. 6. RECURSO ESPECIAL EM PARTE CONHECIDO E DESPROVIDO. . ACÓRDÃO Vistos e relatados estes autos em que são partes as acima indicadas, acordam os Ministros da TERCEIRA TURMA do Superior Tribunal de Justiça, por uimidade, negar provimento ao recurso especial, nos termos do voto do(a) Sr(a). Ministro(a) Relator(a). Os Srs. Ministros Ricardo Vilias Bôas Cueva, Moura Ribeiro e Nancy Andrighi votaram com o Sr. Ministro Relator. Ausente, justificadamente, o Sr. Ministro Marco Aurélio Bellizze. . RELATÓRIO Trata-se de recurso especial interposto por A de A T N, com fundamento nas alíneas \"a\" e \"c\" do permissivo constitucional, contra o acórdão do Egrégio Tribunal de Justiça do Estado de Goiás, prolatado no curso de ação revisional de alimentos ajuizada contra A de A T F, assim ementado: REVISIONAL DE ALIMENTOS. BINÔMIO NECESSIDADE/POSSIBILIDADE. PROVA DE MODIFICAÇÃO DASITUAÇÃO FINANCEIRA DO ALIMENTANTE. ÓNUS DO AUTOR. REDUÇÃO DOS ALIMENTOS. RETROAÇÃO. EXCEPCIONALIDADE. I — Na fixação dos alimentos cumpre avaliar a possibilidade do alimentante e a necessidade do alimentado, arbitrando a prestação alimentícia em valor proporcional, a teor do art. 1.694, § 1°, CC. 2 — Trazida prova da redução da capacidade econômico-ficeira do alimentante, merece redução a verba alimentar para adequá-la à realidade das partes. 3 — Em que pese os efeitos da sentença proferida em ação de revisão de alimentos - seja em caso de redução, majoração ou exoneração - retroagirem à data da citação, (Lei 5.478/68, art. 13, §2°), o fato que desencadeou alteração na situação ficeira do apelante foi o nascimento da segunda filha, data que deve ser considerada para a retroação. 4. Apelo parcialmente provido. Em suas razões recursais, disse ter logrado no acórdão recorrido a redução do valor a ser pago a título de pensão alimentícia para o seu filho de 50%, concedido na sentença, para 30% do salário mínimo, mas que os efeitos da decisão retroagiram somente até 06/02/2015 e não até a data da citação. Disse violado, assim, o §2° do caput do art. 13 da Lei n°. 5.478/68, questão em relação a qual asseverou presente, ainda, interpretação divergente. Asseverou que o nascimento da irmã do recorrido, que conta 3 anos de idade, não foi a causa elementar para a redução dos alimentos a serem pagos pelo recorrente, pois vivia em estado de penúria antes de sua filha nascer e ainda se encontra em derrocada ficeira. Pediu o provimento do recurso. Houve contrarrazões. O recurso não foi admitido na origem. Foi interposto agravo em recurso especial. O Ministério Público Federal pugnou pelo conhecimento do recurso especial. Dei provimento ao agravo, determido a sua conversão. É o . VOTO Eminentes Colegas, trouxe a este colegiado o presente recurso especial de modo a analisar se é possível reconhecer termo a quo dos efeitos da decisão que altera o valor de pensão alimentícia diverso daquele previsto no art. 13, §2°, da Le 5.478/680, qual seja, a data da citação. Inicialmente, deixo claro que não se conhece do recurso com fundamento na alínea \"c\" do permissivo constitucional, pois o recorrente se limitara a transcrever ementas, sem, todavia, evidenciar, mediante o competente cotejo analítico, as similitudes necessárias à sua demonstração. Não se perfizeram, assim, os requisitos dos arts. 1.029 do CPC e 255 do RISTJ. Remanesce, então e tão somente, a alegação de afronta ao art. 13, §2°, da Lei 5.478/68. Na espécie, o autor, em ação revisional de alimentos ajuizada em 2011, postulara a redução da pensão alimentícia do seu filho, fixada por acordo celebrado em 2002 em 65% do valor do salário mínimo, para o patamar de 30% do SM. Na petição inicial, traçou como causa de pedir a insuportabilidade do valor da pensão corno acordado, aduzindo, essencialmente, que \"os alimentos dantes fixados, desde a origem destoam do binômio necessidade do alimentando versus possibilidade do alimentante, principalmente porque [..] sempre laborou no meio rural em terras de outrem\", de modo que seus ganhos mensais jamais superaram 01 (um) salário mínimo.\" (fl. 1 e-STJ). Consoante se extrai da sentença, o autor informara, no curso da ação, o nascimento de uma nova filha. Diante deste fato, o Ministério Público, que havia pugnado pela improcedência dos pedidos, ofertou novo parecer, opido, então, pela procedência parcial do pedido revisional de alimentos. O juizo sentenciante ao analisar o binômio necessidade-possibilidade ponderou (fl. 177 e ss. e-STJ): Há que se observar, ainda, que o requerente convive com a Sra. 1--1 conforme declaração de fl. 77 e possui outra filha recém-nascida, L.1 (certidão de nascimento à fl. 102), sendo que figuram como suas dependentes. No entanto, para a revisão dos alimentos não é importante analisar somente a capacidade da parte alimentante, mas também as necessidades do alimentando e neste aspecto tenho que as mesmas são prementes, face a própria condição de menor em desenvolvimento do requerido, que atualmente conta com 16 (dezesseis) anos de idade (documento às fls. 56) Destarte, cumpre observar ainda que a redução dos alimentos para o patamar de 30% (trinta por cento) do salário mínimo pleiteada pelo requerente não coaduna com o binômio necessidade possibilidade (art. 1.694, §1°, do CC) que norteia a fixação dos alimentos, isso porque a parte alimentada é composta por um menor, cujas necessidades são prementes, e aparte alimentante trabalha como autônomo na retirada diária de leite nas dependências da chácara em que vive com sua família, embora a propriedade seja de sua genitora, segundo se afere da prova testemunhal. A par do parecer ministerial de fls. 109/111, tenho que a pensão alimentícia devida pelo requerente ao filho menor, ora requerido, deve ser estabelecido em 50% (cinquenta por cento) do salário mínimo, quantia esta que entendo atender ao binômio necessidade possibilidade insculpido no art. 1.694, §1° do CC. O Egrégio Tribunal de Justiça do Estado do Goiás deu parcial provimento ao apelo do autor e reduziu a pensão para os 30% pretendidos, mas reconhecera que o dies a quo da eficácia da decisão não poderia ser a data da citação, mas a data do nascimento da nova filha do autor, ou seja, 06/02/2015. Assim fundamentou o órgão julgador a sua decisão Considerando os argumentos e provas trazidos pelo recorrente, mostra-se conveniente reduzir os alimentos para 30% (trinta por cento) do salário mínimo mensal, observado o binômio necessidade/possibilidade trazido no art. 1.694, § 1°, CC. Sobre o pedido de retroação dos efeitos da decisão, o artigo 13, parágrafo 2°, da Lei 5.478/68 determina retroagir à data da citação provimento que majore, reduza ou exonere alimentos. Essa é a jurisprudência do Superior Tribunal de Justiça, ressalvada a irrepetibilidade dos valores já pagos e a impossibilidade de compensação do excesso pago com prestações que ainda irão vencer. Em que pese a previsão legal e jurisprudência da Corte Superior, no caso em exame existe uma excepcionalidade a justificar a retroação para momento posterior à citação. O evento que importou em redução da capacidade do alimentante de adimplir os alimentos antes acordados, foi o nascimento da segunda filha do apelante em 06.02.2015, durante o curso do pedido revisional, devendo esta data ser considerada para retroação dos efeitos da decisão. Ante o exposto, conheço do apelo e o provejo para reduzir os alimentos pagos ao apelado para 30% (trinta por cento) do salário mínimo, retroagindo os efeitos da decisão para 06.02.2015. O acórdão, como se vê, não violara o quanto disposto no artigo 13, §2°, da Lei 5.478, pois enfatizou que o fundamento determite para a redução do valor do pensionamento para 30% do salário mínimo teria sido o aumento das despesas decorrente do nascimento de uma nova filha. Este relevante fato sequer fora cogitado na inicial porque, na verdade, dera-se anos após o ajuizamento da ação revisional, que ocorrera em 2011. Já a citação, marco a partir do qual entende o recorrente deva retroagir os efeitos do acórdão, ocorrera em 2013, ou seja, antes ainda do nascimento da nova filha do autor, ocorrido em 2015. Nesta conjuntura, não se justifica a retroação dos efeitos da decisão que decota o valor da pensão a marco temporal anterior à data do fato que comandara a redução. É preciso deixar claro, ainda, que esta Corte Superior, no restrito âmbito do recurso especial, não pode revisar as provas dos autos para determinar se as condições econômicas do devedor de alimentos e, ainda, as suas despesas ordinárias, independentemente do nascimento de sua filha, por si, determinariam a redução do valor da pensão para o patamar pretendido na inicial e acolhido em segundo grau de jurisdição, pois evidente a atração do enunciado 7/STJ. É necessário destacar, ainda, que a citação é eleita pela processual e, também, pela Lei 5.478/68 como marco para a retroação dos efeitos da sentença/acórdão que reduz ou aumenta a pensão alimentícia ou, ainda, exonera o devedor de alimentos, porque se tem por constituído em mora o demandado acerca do direito alegado na inicial da ação - e acolhido na sentença/acórdão - quando da sua cientificação dos termos em que formulado o pedido. Quando os fatos tidos como determites pelo julgador para a procedência são contemporâneos ao ajuizamento, ou seja, compõem a causa de pedir, próxima e remota, formulada pelo autor, dá-se ciência ao réu dos seus termos para que então conduza a sua defesa, mas, especial e eventualmente, reconheça a procedência do pedido. Na espécie, o fato do nascimento da filha do autor - determite segundo o acórdão recorrido para a redução da pensão ao patamar pedido na inicial - não fora alegado na inicial! Não compusera a causa de pedir e, assim, não se implementara a mora com a citação do réu. Apenas quatro anos após o ajuizamento da demanda, o autor formulara alegação relevante a ponto de fazer com que o seu pedido de redução da pensão fosse atendido pelo Judiciário no percentual pretendido na inicial. Na verdade, procedeu-se a verdadeira emenda da inicial, pois o argumento consubstanciado no nascimento de um novo filho se mostra relevante para a determinação do equilíbrio entre necessidade e possibilidade, sustentando inclusive, de per si, a depender da situação, o pedido de redução do pensionamento, já que para o cuidado da subsistência de um filho não se pode fazer periclitar a subsistência de outro. Escorreita, assim, a interpretação dada pelo acórdão recorrido ao art. 13, §2°, da Lei 5.478/68, pois o fato relevante a suportar a procedência no espectro acolhido pelo acórdão (30% do salário mínimo) somente veio a ser alegado e dado a ciência do demandado anos após a sua citação. Ante o exposto, conheço em parte do recurso especial e lhe nego provimento. Não é possível a aplicação do §11 do art. 85 do CPC, pois não houve condenação a honorários sucumbenciais na origem. É o . ASSUNTO Alimentos'"
      ]
     },
     "execution_count": 36,
     "metadata": {},
     "output_type": "execute_result"
    }
   ],
   "source": [
    "acordaos_stj_pp.text[4]"
   ]
  },
  {
   "cell_type": "code",
   "execution_count": 37,
   "id": "49011a84",
   "metadata": {},
   "outputs": [
    {
     "data": {
      "text/plain": [
       "'RELATOR : MINISTRO RAUL ARAÚJO AGRAVANTE : M M S T ADVOGADOS : JULIANA REGINA CAPPELLI - SP272122 HELENE GUERSONI DE LIMA CAETANO - SP306806 AGRAVADO : Y Y T REPR. POR :SEY ADVOGADO : HUDHSON ADALBERTO DE ANDRADE - SP211925 . EMENTA AGRAVO INTERNO NO AGRAVO EM RECURSO ESPECIAL. AÇÃO REVISIONAL DE ALIMENTOS. PROCESSO INCLUÍDO EM PAUTA. JULGAMENTO SUSPENSO. CONTINUAÇÃO EM SESSÃO SUBSEQUENTE. DESNECESSIDADE DE NOVA INTIMAÇÃO. INEXISTÊNCIA DE NULIDADE. OBRIGAÇÃO ALIMENTAR. CONSTITUIÇÃO DE NOVA FAMÍLIA. SUPERVENIÊNCIA DE OUTRO FILHO. INSUFICIÊNCIA PARA JUSTIFICAR A DIMINUIÇÃO DA PRESTAÇÃO. REDUÇÃO DA CAPACIDADE FINANCEIRA NÃO RECONHECIDA PELAS INSTÂNCIAS ORDINÁRIAS. REEXAME DE PROVA. SÚMULA 7/STJ. AGRAVO NÃO PROVIDO. 1. \"A jurisprudência desta Corte consolidou-se no sentido de que não se faz necessária nova publicação nos casos de adiamento de processo de pauta, desde que o novo julgamento ocorra em tempo razoável\" (EDc1 no AgRg no AgRg nos EREsp 884.083/PR, Rel. Ministra ELIANA CALMON, CORTE ESPECIAL, julgado em 09/06/2011, DJe de 1°/08/2011). 2. Nos termos da orientação jurisprudencial desta Corte Superior, \"a circunstância de o alimentante constituir nova família, com nascimento de filhos, por si só, não importa na redução da pensão alimentícia paga a filha havida de união anterior, sobretudo se não resta verificada a mudança para pior na situação econômica daquele\" (REsp 703.318/PR, Rel. Ministro JORGE SCARTEZZINI, QUARTA TURMA, julgado em 21/6/2005, DJ de 1°/8/2005, p. 470). 3. No caso, as instâncias ordinárias, examido as circunstâncias da causa, concluíram que não ficou demonstrada a redução da capacidade econômica do alimentante, consigdo que, ao contrário, teria alterado para melhor, já que, quando fixados os alimentos, o autor era estudante universitário, sendo, agora, médico formado. Infirmar as conclusões do julgado, nesse ponto, demandaria o revolvimento do suporte fático-probatório dos autos, o que encontra óbice na Súmula 7 desta Corte Superior. 4. Agravo interno a que se nega provimento. . ACÓRDÃO Vistos e relatados estes autos em que são partes as acima indicadas, acordam os Ministros da Quarta Turma do Superior Tribunal de Justiça, por uimidade, negar provimento ao recurso, nos termos do voto do Sr. Ministro Relator. Os Srs. Ministros Luis Felipe Salomão, Maria Isabel Gallotti, Antonio . Os Srs. Ministros Luis Felipe Salomão, Maria Isabel Gallotti, Antonio Carlos Ferreira e Marco Buzzi votaram com o Sr. Ministro Relator. Presidiu o julgamento o Sr. Ministro Marco Buzzi. . RELATÓRIO O EXMO. SR. MINISTRO RAUL ARAÚJO (Relator): Cuida-se de agravo interno, interposto por M M S T, contra decisão de fls. 469/471, que conheceu do agravo para negar provimento ao recurso especial sob os fundamentos de incidência da Súmula 83/STJ na questão relativa à ausência de nulidade em razão do adiamento do julgamento do processo sem que houvesse nova intimação. Nas razões do agravo interno, a agravante sustenta a inaplicabilidade da Súmula 83/STJ porque não há no bojo da r. decisão nenhuma análise quanto à possibilidade de redução da pensão alimentícia quando o alimentante tem outros filhos e constitui nova família. Ao final, requer a reconsideração da decisão agravada ou, se mantida, seja o presente feito levado a julgamento perante a eg. Quarta Turma. Apresentada impugnação do agravo interno às fls. 547/577. É o . VOTO O EXMO. SR. MINISTRO RAUL ARAÚJO (Relator): No que tange à alegada nulidade em razão de ausência de intimação para a nova sessão de julgamento, o Tribunal Estadual consignou que constou da intimação para a sessão em que iniciada o julgamento que os adiamentos seriam incluídos na pauta da sessão subsequente. É o que se extrai do seguinte trecho do v. acórdão que julgou os embargos de declaração: \"Conforme publicação extraída do Diário da Justiça Eletrônico - Caderno Judicial - 22 Instância - São Paulo, Ano XII- Edição 2703, Subseção VII - Próximos Julgamentos, de 23 de novembro de 2018, fls. 1.780 e 1.781, as partes foram intimadas da sessão designada para o dia 04 de dezembro de 2018, constando expressamente da referida publicação que \"NOTA: OS ADIADOS E SOBRAS DESTA SESSÃO SERÃO INCLUÍDOS NA PAUTA DA SESSÃO SUBSEQUENTE\\' Processamento 1° Grupo - 2a Câmara Direito Privado - Pateo do Colégio -sala 504-PRÓXIMOS JULGAMENTOS - Seção de processamento do(a) 2° Câmara de Direito Privado - Palácio da Justiça - 5° andar - sala 511 - ORDEM DO DIA PARA OS JULGAMENTOS EM SESSÃO ORDINÁRIA DA 2° CÂMARA DE DIREITO PRIVADO A REALIZAR-SE EM 4 DE DEZEMBRO DE 2018 (TERÇA-FEIRA), NA PALÁCIO DA JUSTIÇA - 5° ANDAR - SALA 511, COM INICIO ÀS 13:30 HORAS NOTA: OS ADIADOS E SOBRAS DESTA SESSÃO SERÃO INCLUÍDOS NA PAUTA DA SESSÃO SUBSEQUENTE. 63 - 1000686-15.2015.8.26.0045 - Processo Digital. Petições para juntada devem ser apresentadas exclusivamente por meio eletrônico, nos termos do artigo 7° da Res. 551/2011 - Apelação - Arujá - Relator HERTHA HELENA DE OLIVEIRA - Apelante: M. M. S. T. - Apelado: Y. Y. T. ( G. (Menor(es) representado(s)) - Advogada: Juliana Regina Cappelli Rodrigues (OAB: 272122/SP) (Rs: 18) - Advogado: Hudhson Adalberto de Andrade (OAB: 211925/SP)(Fls: 274) Portanto, adiado o julgamento do recurso de apelação na sessão de 04 de dezembro de 2018, a pedido do Desembargador, após os Votos da Relatora e do 2° Desembargador que negavam provimento, assim como da sustentação oral da Dra. Juliana Rodrigues, advogada do embargante (fls. 382/383), não há que se falar em nova intimação para a sessão realizada em 11 de dezembro de 2018 (fls. 385/386 e 387/392).\" (fls. 409/410, g.n.) A orientação está em consonância com a jurisprudência do STJ sobre a questão, que entende que não é necessária nova publicação nos casos de adiamento de processo de pauta, desde que o novo julgamento ocorra em tempo razoável. Nesse sentido: \"AGRAVO INTERNO NO AGRAVO EM RECURSO ESPECIAL - AÇÃO DE INTERDITO PROIBITÓRIO - DECISÃO MONOCRÁTICA QUE NEGOU PROVIMENTO AO RECLAMO. INSURGÊNCIA DOS RÉUS. 1. O Enunciado Administrativo n. 2 do STJ determina que, na hipótese de recursos interpostos contra decisões publicadas na vigência do CPC/73, devem ser exigidos os requisitos de admissibilidade na forma nele prevista, com as interpretações dadas, até então, pela jurisprudência desta Corte. 2. O Tribunal local dirimiu a matéria submetida à sua apreciação, manifestando- se expressamente acerca dos temas necessários à integral solução da lide. Não havendo qualquer omissão, contradição ou obscuridade no aresto recorrido, inocorrente a ofensa ao artigo 535 do CPC/73. 3. A ausência de impugnação a fundamento do acórdão recorrido atrai o óbice da Súmula 283/STF, aplicável por analogia. 3.1. Encontrando-se o aresto de origem em sintonia com a jurisprudência consolidada nesta Corte, a Súmula 83 do STJ serve de óbice ao processamento do recurso especial especial, tanto pela alínea \"a\" como pela alínea \"c\", a qual viabilizaria o reclamo pelo dissídio jurisprudencial. 4. O STJ tem entendimento no sentido de que não se faz necessária nova publicação nos casos de adiamento de processo de pauta, desde que o novo julgamento ocorra em tempo razoável, tal como ocorreu na espécie. Precedentes. 4.1. Esta Corte Superior tem iterativamente assentado que a decretação de nulidade de atos processuais depende de efetiva demonstração de prejuízo da parte interessada, por prevalência do princípio da instrumentalidade das formas (pas de nullité sans grief), o que não foi demonstrado no caso. 5. Agravo interno desprovido.\" (AgInt no AREsp 891.141/MS, Rel. Ministro MARCO BUZZI, QUARTA TURMA, julgado em 04/11/2019, DJe 11/11/2019, g.n.) \"AGRAVO REGIMENTAL. RECURSO ESPECIAL. PROCESSUAL CIVIL. APELAÇÃO. JULGAMENTO ADIADO. PROCESSO INCLUÍDO EM PAUTA NA TERCEIRA SESSÃO SUBSEQUENTE. AUSÊNCIA DE INTIMAÇÃO DA PARTE. NULIDADE NÃO CONFIGURADA NO CASO EM EXAME. 1. Pacificou-se o entendimento na Corte Especial do Superior Tribunal de Justiça no sentido de que não é necessária nova publicação dos processos adiados na pauta, desde que o julgamento ocorra em tempo razoável. (EDc1 no AgRg no AgRg nos EREsp 884083 / PR, de relatoria da Ministra Eliana Calmon, DJe 1/8/2011). No caso em análise, transcorreu-se menos de um mês entre a data original do julgamento (ocasião em que o processo foi adiado por indicação do relator) e a data do efetivo julgamento em sessão. 2. A via especial não é a sede própria para a discussão de matéria de índole constitucional, sob pena de usurpação da competência exclusiva do STF. 3. Agravo regimental a que se nega provimento.\" (AgRg no REsp 1501197/PE, Rel. Ministra MARIA ISABEL GALLOTTI, QUARTA TURMA, julgado em 18/08/2015, DJe 28/08/2015, g.n.) \"PROCESSUAL CIVIL - EMBARGOS DE DECLARAÇÃO - VIOLAÇÃO DO ART. 535 DO CPC NÃO CARACTERIZADA - INCLUSÃO DO FEITO EM PAUTA - ADIAMENTO - JULGAMENTO REALIZADO EM TEMPO RAZOÁVEL - OMISSÃO - EFEITOS INFRINGENTES. I. A jurisprudência desta Corte consolidou-se no sentido de que não se faz necessária nova publicação nos casos de adiamento de processo de pauta, desde que o novo julgamento ocorra em tempo razoável. 2. Restando nítido o propósito infringente do recurso de embargos de declaração, não há como ele ser acolhido. 3. Embargos de declaração rejeitados.\" (EDc1 no AgRg no AgRg nos EREsp 884.083/PR, Rel. Ministra EMANA CALMON, CORTE ESPECIAL, julgado em 09/06/2011, DJe 01/08/2011, g.n.) Nesse contexto, tendo transcorrido apenas uma semana entre a data original e o julgamento efetivo, de fato não há que se falar em nulidade, incidindo, no ponto, o óbice da Súmula 83/S TJ. No que tange ao cabimento da revisão dos alimentos, o Tribunal a quo concluiu pela ausência de alteração do binômio necessidade/possibilidade, consigdo que o fato de o agravante ter constituído nova família não implica a revisão da pensão estabelecida em favor do filho advindo de relacionamento anterior, uma vez que a responsabilidade paternal independe da existência de outros filhos. É o que se extrai do seguinte trecho do acórdão recorrido: \"Todo pedido revisional pressupõe alteração do binômio necessidade/possibilidade, figurando com o ponto medular do procedimento, a alteração da condição ficeira do alimentante, ou o mesmo fato em relação à necessidade do alimentando, viabilizando, assim, a majoração ou a redução do encargo, nos term os do quanto previsto pelo art. 1.699, do CC. Neste sentido, tem-se que a sentença proferida não merece reforma, visto que o alimentante não se desincumbiu de encargo que lhe era próprio, já que caberia demonstrar o enfraquecimento de sua capacidade ficeira. Com efeito, quanto da fixação dos alimentos, segundo bem apontou a sentença apelada, o apelante era estudante de medicina. Hoje, médico formado, por certo conta com condição ficeira mais favorável que outrora. Aliás, também não lhe favorece a alegação de aumento da prole, já que a paternidade é sempre um escolha, cabendo a quem decide aumentar a família, a avaliação quanto à possibilidade de manteros filhos de forma digna e responsável. Ressalte-se, neste ponto, a responsabilidade paternal independente da existência de outros filhos, conforme o entendimento deste E. Tribunal: AÇÃO REVISIONAL DE ALIMENTOS - Necessidade de comprovação efetiva da alteração nas condições ficeiras do alimentante Nascimento de m ais uma filha que não é bastante para justificar a redução dos alimentos, observadas as regras da paternidade responsável Ônus da prova do alimentante - Subsistência da obrigação. Sentença m antida. Recurso desprovido. (Apelação 1001646-74.2016.8.26.0452; Rel. Des. MARCUS VINICIUS RIOS GONÇALVES; julgada em 08/05/2018); E \"FAMÍLIA - ALIMENTOS - REVISÃO - cerceamento de defesa - inocorrência - autor que ingressou com ação revisional 4 meses após o transito em julgado de outra revisional - ALTERAÇÃO DO BINÔMIO NECESSIDADE-POSSIBILIDADE - NÃO OBSERVADA - condição ficeira do requerente que se encontra no mesmo cenário da ação anterior - ausência de fato novo - DEVER DE SUSTENTAR OUTRA FAMÍ LI A QUE NÃO TEM O CONDÃO DE INFLUENCIAR A POSSIBILIDADE FINANCEIRA DO AUTOR - PREVALÊNCIA DOS INTERESSES Do requerido que é portador de necessidades especiais - SENTENÇA MANTIDA. RECURSO IMPROVIDO.\" ( Apelação 0003920-90.201.8.26.0572; Rel. Des. NEVES AMORIM; julgada em 25/10/2016). Com relação à constituição de nova família, aplica-se igualmente a regra da paternidade responsável, conforme o entendimento do Superior Tribunal de Justiça e desta câmara: A constituição de nova família pelo devedor de alimentos não acarreta, por si só, revisão da quantia estabelecida a título de alimentos em favor dos filhos advindos de anterior unidade familiar formada pelo alimentante, sobretudo se não houver prova da diminuição da capacidade ficeira do devedor em decorrência da formação do novo núcleo familiar. (STJ. 3 a Turm a. REsp 1.496.948-SP, Rel. Ministro Moura Ribeiro, julgado em 3/3/2015) ALI MENTOS Ação revisional promovida por genitor em relação a filho menor - Pensão em vigor à base de 30% dos rendimentos líquidos do autor, fixada exclusivamente em favor de seu filho menor, vez que à época do acordo sua primogênita já havia alcançado a maioridade Constituição de nova família que não caracteriza, como relação de causa e efeito, circunstância excepcional, por se tratar de ato humano volitivo e que deve ser consumado considerando as responsabilidades já existentes. No caso, quando da constituição do título judicial, o alimentante já tinh a pleno conhecimento da concepção de sua nova filha, na iminência de nascer. I nexistência de prova quanto à efetiva modificação da situação ficeira \\'das partes Aplicação da regra de juízo preconizada pelo art. 333 do CPC. ( TJSP - Apelação n° 0000711-26.2012.8.26.0441 - Relator Desembargador. AIRTON PINHEIRO DE CASTRO); Assim, sem qualquer prova da modificação da situação ficeira do genitor, e da necessidade cada dia mais premente do infante, que se encontra em idade escolar (certidão de nascimento a fls. 21, 06.08.2008), não se afigura equânime e justo, que o valor seja reduzido ao patamar de R$ 800,00 (oitocentos reais), cabendo lembrar, inclusive, que a genitora já contribui para o sustento do filho, buscando uma criação digna e com o mínimo de conforto.\" (fls. 389/392, g.n.) A orientação está em consonância com a jurisprudência do STJ, que se firmou no sentido de que a constituição de nova família ou o nascimento de novos filhos não enseja, por si só, a revisão dos alimentos devidos aos filhos de relacionamentos anterior. Nesse sentido: \"PROCESSUAL CIVIL. AGRAVO INTERNO NO AGRAVO EM RECURSO ESPECIAL. RECURSO MANEJADO SOB A ÉGIDE DO NCPC. AÇÃO REVISIONAL DE ALIMENTOS. REVISÃO DO BINÔMIO NECESSIDADE- P O SSIB ILIDAD E. IMPOSSIBILIDADE. NÃO COMPROVAÇÃO DA ALTERAÇÃO DA CAPACIDADE FINANCEIRA. APLICAÇÃO DA SÚMULA N° 7 DO STJ. INCIDÊNCIA DA MULTA DO ART. 1.021, § 4°, DO NCPC. AGRAVO NÃO PROVIDO. 1. Aplica-se o NCPC a este julgamento ante os termos do Enunciado Administrativo n° 3, aprovado pelo Plenário do STJ na sessão de 9/3/2016: Aos recursos interpostos com fundamento no CPC/2015 (relativos a decisões publicadas a partir de 18 de março de 2016) serão exigidos os requisitos de admissibilidade recursal na forma do novo CPC. 2. Concluindo a instância ordinária, a partir do exame do acervo probatório, que não houve mudança na situação ficeira do alimentante, não pode esta egrégia Corte Superior rever tal conclusão, em razão do óbice contido na Súmula n° 7 do STJ. 3. Nos termos da jurisprudência do STJ, o fato de o devedor dos alimentos ter constituído nova família, por si, não implica revisão dos alimentos prestados aos filhos da união anterior, sobretudo se não ficar comprovada a mudança negativa na sua capacidade ficeira.Precedentes. 4. Em virtude do não provimento do presente recurso, e da anterior advertência em relação a aplicabilidade do NCPC, incide ao caso a multa prevista no art. 1.021, § 4°, do NCPC, no percentual de 3% sobre o valor atualizado da causa, ficando a interposição de qualquer outro recurso condicionada ao depósito da respectiva quantia, nos termos do § 5° daquele artigo de lei, observado o teor do art. 98, do mesmo diploma legal. 5. Agravo interno não provido, com imposição de multa. (AgInt no AREsp 1230230/SP, Rel. Ministro MOURA RIBEIRO, TERCEIRA TURMA, julgado em 17/04/2018, DJe 27/04/2018, g.n.) \"AGRAVO REGIMENTAL NO AGRAVO EM RECURSO ESPECIAL. AÇÃO REVISIONAL DE ALIMENTOS. VIOLAÇÃO AO ART. 535 DO CPC. INEXISTÊNCIA. NASCIMENTO DE NOVO FILHO. MOTIVO QUE NÃO AUTORIZA, POR SI SÓ, A REDUÇÃO DA OBRIGAÇÃO ALIMENTAR. ALTERAÇÃO DO BINÔMIO NECESSIDADE/POSSIBILIDADE CONFIGURADA. REVISÃO. SÚMULA 7/STJ. AGRAVO NÃO PROVIDO. 1. Não se constata violação ao art. 535 do CPC quando a col. Corte de origem dirime, fundamentadamente, todas as questões que lhe foram submetidas. Havendo manifestação expressa acerca dos temas necessários à integral solução da lide, ainda que em sentido contrário à pretensão da parte, fica afastada qualquer omissão, contradição ou obscuridade. 2. Nos termos da orientação jurisprudencial desta Corte Superior, \"a circunstância de o alimentante constituir nova família, com nascimento de filhos, por si só, não importa na redução da pensão alimentícia paga a filha havida de união anterior, sobretudo se não resta verificada a mudança para pior na situação econômica daquele\" (REsp 703.318/PR, Rel. Ministro JORGE SCARTEZZINI, QUARTA TURMA, julgado em 21/6/2005, DJ de 178/2005, p. 470) 3. Na hipótese dos autos, no entanto, as instâncias ordinárias expressamente consignaram que houve a alteração da capacidade ficeira do agravado, de modo a comprometer o equilíbrio do binômio necessidade/possibilidade, razão pela qual foi reduzido o encargo alimentar para um (1) salário mínimo. Infirmar as conclusões do julgado, nesse ponto, demandaria o revolvimento do suporte fático-probatório dos autos, o que encontra óbice no enunciado da Súmula 7 desta Corte Superior. 4. Agravo regimental a que se nega provimento.\" (AgRg no AREsp 452.248/SP, de minha relatoria, QUARTA TURMA, julgado em 16/06/2015, DJe 03/08/2015, g.n.) \"PROCESSO CIVIL E CIVIL - ALIMENTOS - BINÔMIO NECESSIDADE - POSSIBILIDADE - REVISÃO - NECESSIDADE DE REEXAME DO CONJUNTO FÁTICO-PROBATÓRIO - IMPOSSIBILIDADE - SÚMULA 07 - CONSTITUIÇÃO DE NOVA FAMÍLIA PELO ALIMENTANTE COM NASCIMENTO DE FILHOS - CIRCUNSTÂNCIA QUE, POR SI SÓ, NÃO POSSIBILITA A ALTERAÇÃO - AUSÊNCIA DE MODIFICAÇÃO NA SITUAÇÃO ECONÔMICA DO ALIMENTANTE - VIOLAÇÃO AO ARTIGO 131 DO CPC - FALTA DE PREQUESTIONAMENTO - RECURSO NÃO CONHECIDO. 1 - A revisão do julgado que conclui pela inviabilidade de reduzir-se o valor pago à título de pensão alimentícia, tendo em vista as circunstâncias do caso, em especial aquelas relativas ao binômio necessidade da alimentada e possibilidade do alimentante, exige, necessariamente, o reexame de todo o conjunto fático-probatório acostado aos autos, o que é inviável em sede de recurso especial, ante o óbice da Súmula 07 desta Corte. 2 - Por outro lado, a circunstância de o alimentante constituir nova família, com nascimento de filhos, por si só, não importa na redução da pensão alimentícia paga a filha havida de união anterior, sobretudo se não É o . ASSUNTO Alimentos'"
      ]
     },
     "execution_count": 37,
     "metadata": {},
     "output_type": "execute_result"
    }
   ],
   "source": [
    "acordaos_stj_pp.text[5]"
   ]
  },
  {
   "cell_type": "code",
   "execution_count": 38,
   "id": "3c6ac976",
   "metadata": {},
   "outputs": [],
   "source": [
    "save_to = \"D:\\\\dados-juridicos\\\\pp\\\\\""
   ]
  },
  {
   "cell_type": "code",
   "execution_count": 39,
   "id": "af165bd7",
   "metadata": {},
   "outputs": [],
   "source": [
    "# Salve o dataframe atualizado em um novo arquivo\n",
    "acordaos_stj_pp.to_csv(f'{save_to}acordaos_stj_pp.csv', index=False)  # Substitua pelo nome desejado para o novo arquivo"
   ]
  },
  {
   "cell_type": "code",
   "execution_count": 40,
   "id": "d5306b3b",
   "metadata": {},
   "outputs": [],
   "source": [
    "df_acordaos_stj_pp = pd.read_csv(f'{save_to}acordaos_stj_pp.csv')"
   ]
  },
  {
   "cell_type": "code",
   "execution_count": 42,
   "id": "5b8f54f6",
   "metadata": {},
   "outputs": [
    {
     "data": {
      "text/plain": [
       "'RELATOR : MINISTRO MARCO BUZZI AGRAVANTE : CONDOMÍNIO VIVENDAS DO OUTEIRO ADVOGADO : AGAMENON SOUZA DE MESQUITA AGRAVADO : CARLOS ALBERTO CORRÊA DA COSTA ADVOGADOS : BRUNO DO AMARAL GAMA IRENE DE OLIVEIRA COIMBRA . EMENTA AGRAVO REGIMENTAL NO AGRAVO (ART. 544 DO CPC) - AÇÃO DE COBRANÇA - ASSOCIAÇÃO DE MORADORES - DECISÃO MONOCRÁTICA DANDO PROVIMENTO AO RECLAMO. IRRESIGNAÇÃO DA ASSOCIAÇÃO AUTORA. 1. \"As taxas de manutenção criadas por associações de moradores não obrigam os não associados ou que a elas não anuíram\". (REsp 1280871/SP, Rel. p/ acórdão MINISTRO MARCO BUZZI, DJe 22/05/2015) 2. O artigo 544, § 4\\', inciso II, alínea \"c\", do CPC autoriza o relator a conhecer do agravo para, de pronto, dar provimento ao recurso especial, se o acórdão recorrido estiver em confronto com súmula ou jurisprudência domite no tribunal. Na hipótese ora em foco, consoante destacado na decisão agravada, o provimento do apelo extremo fundou-se em orientação jurisprudencial firmada na Segunda Seção desta Corte, consolidada pelo julgamento de recurso repetitivo. Ademais, a • interposição de agravo regimental para o colegiado permite a apreciação de todas as questões suscitadas no reclamo, suprindo eventual violação da referida norma processual. 2. Agravo regimental desprovido. . ACÓRDÃO Vistos, relatados e discutidos os autos em que são partes as acima indicadas, acordam os Ministros da QUARTA TURMA do Superior Tribunal de Justiça, por uimidade, negar provimento ao agravo regimental, nos termos do voto do Sr. Ministro Relator. Os Srs. Ministros Luis Felipe Salomão, Raul Araújo, Maria Isabel Gallotti (Presidente) e Antonio Carlos Ferreira votaram com o Sr. Ministro Relator. . RELATÓRIO O EXMO. SR. MINISTRO MARCO BUZZI (Relator): Cuida-se de agravo regimental, interposto por CONDOMÍNIO VIVENDAS DO OUTEIRO, em face de decisão monocrática da lavra deste signatário, que deu provimento ao recurso especial do ora agravado, a fim de julgar improcedente a ação de cobrança. O aludido apelo extremo, fundado nas alíneas \"a\" e \"c\" do permissivo constitucional, desafia acórdão proferido, em autos de ação de cobrança, pelo Tribunal de Justiça do Estado do Rio de Janeiro, assim ementado (fl. 156, e-STJ): Agravo interno contra decisão que deu provimento ao apelo do agravado. Recurso decidido monocraticamente em razão de sua manifesta procedência. Incidência do artigo 557, § 1P-A do CPC. Manutenção da decisão monocrática agravada. Nas razões do especial (fls. 162/176, e-STJ), o réu/ora agravado alegou ser indevida a cobrança das despesas com manutenção da infraestrutura do loteamento, enquanto não associados. Sobreveio, então, decisão monocrática deste signatário (fls. 331/333, e-STJ) dando provimento ao reclamo, diante do fundamento de que o acórdão recorrido destoa da jurisprudência consolidada desta Corte Superior. Irresignada (fls. 336/339, e-STJ), a ora insurgente interpõe tempestivo agravo regimental. Sustenta, em síntese, a impossibilidade de se proferir julgamento monocrático, insurgindo-se contra o provimento do recurso especial. Impugnação às fls. 344/348, e-STJ. É o . VOTO O EXMO. SR. MINISTRO MARCO BUZZI (Relator): O agravo regimental não merece acolhida, porquanto os argumentos tecidos pela agravante são incapazes de infirmar a decisão objurgada, motivo pelo qual merece ser mantida na íntegra por seus próprios fundamentos. 1. Preliminarmente, importante assinalar que o artigo 544, § 4\\', inciso II, alínea \"c\", do CPC autoriza o relator a conhecer do agravo para, de pronto, dar provimento ao recurso especial, se o acórdão recorrido estiver em confronto com súmula ou jurisprudência domite no tribunal. Na hipótese ora em foco, consoante destacado na decisão agravada, o provimento do apelo extremo fundou-se em orientação jurisprudencial da Segunda Seção desta Corte, firmada por recurso representativo da controvérsia. Ademais, a interposição de agravo regimental para o colegiado permite a apreciação de todas as questões suscitadas no reclamo, suprindo eventual violação da referida norma processual. 2. Conforme asseverado no decisum recorrido, a jurisprudência desta Corte Superior entende que a existência de associação congregando moradores com o objetivo de defesa e preservação de interesses comuns em área habitacional não possui o caráter de condomínio, pelo que, não é possível exigir de quem não seja associado, nem aderiu ao ato que instituiu o encargo, o pagamento de taxas de manutenção ou melhoria. Neste sentido: AGRAVO REGIMENTAL. EMBARGOS DE DIVERGÊNCIA. AGRAVO DE INSTRUMENTO. ASSOCIAÇÃO. COBRANÇA DE TAXA DE SERVIÇOS. NÃO-ASSOCIADO. IMPOSSIBILIDADE. SÚMULA 168/STJ. AGRAVO NÃO PROVIDO. 1. Descabida a cobrança, por parte da associação, de taxa de serviços de proprietário de imóvel que não faz parte do seu quadro de sócios. 2. \"Não cabem embargos de divergência, quando a jurisprudência do Tribunal se firmou no mesmo sentido do acórdão embargado\" (Súmula 168/STJ). 3. Agravo regimental não provido. (AgRg nos EAg 1053878/SP, Rel. Ministra MARIA ISABEL GALLOTTI, SEGUNDA SEÇÃO, julgado em 14/03/2011, DJe 17/03/2011) AGRAVO REGIMENTAL. EMBARGOS DE DIVERGÊNCIA EM RECURSO ESPECIAL. ASSOCIAÇÃO DE MORADORES. CONDOMÍNIO ATÍPICO. COBRANÇA DE NÃO-ASSOCIADO. IMPOSSIBILIDADE. APLICAÇÃO DO ENUNCIADO SUMULAR N. 168/STJ. 1. Consoante entendimento sedimentado no âmbito da Eg. Segunda Seção desta Corte Superior, as taxas de manutenção instituídas por associação de moradores não podem ser impostas a proprietário de imóvel que não é associado, nem aderiu ao ato que fixou o encargo (Precedentes: AgRg no Ag 1179073/RJ, Rel. Min. Nancy Andrighi, Terceira Turma, DJe de 02/02/2010; AgRg no Ag 953621/RJ, Rel. Min. João Otávio de Noronha, Quarta Turma, DJe de 14/12/2009; AgRg no REsp 1061702/SP, Rel. Min. Aldir Passarinho, Quarta Turma, DJe de 05/10/2009; AgRg no REsp 1034349/SP, Rel. Min. Massami Uyeda, Terceira Turma, DJe 16/12/2008) 2. À luz da inteligência do verbete sumular n.\\' 168/STJ, \"não cabem embargos de divergência, quando a jurisprudência do Tribunal se firmou no mesmo sentido do acórdão embargado\". 3. Agravo regimental a que se nega provimento. (AgRg nos EREsp 961927/RJ, Rel. Ministro VASCO DELLA GIUSTINA (DESEMBARGADOR CONVOCADO DO TJ/RS), SEGUNDA SEÇÃO, julgado em 08/09/2010, DJe 15/09/2010) PROCESSUAL CIVIL. AGRAVO REGIMENTAL. EMBARGOS DE DIVERGÊNCIA EM AGRAVO DE INSTRUMENTO. INDEFERIMENTO. ASSOCIAÇÃO DE MORADORES. COBRANÇA DE TAXA DE SERVIÇOS. NÃO ASSOCIADO. IMPOSSIBILIDADE. SÚMULA 168/STJ. AGRAVO REGIMENTAL DESPROVIDO. - \"Não cabem Embargos de Divergência quando a jurisprudência do Tribunal se firmou no mesmo sentido do acórdão embargado\" - Súmula 168/STJ. II - A eg. Segunda Seção desta Corte pacificou o entendimento de que as taxas de manutenção criadas por associação de moradores não podem ser impostas a proprietário de imóvel que não é associado nem aderiu ao ato que instituiu o encargo. III - Agravo regimental desprovido. (AgRg nos EAg 1330968/RJ, Rel. Ministro RAUL ARAÚJO, SEGUNDA SEÇÃO, julgado em 26/10/2011, DJe 07/12/2011) Tal entendimento foi confirmado pela Segunda Seção, no julgamento do REsp n. 1.280.871/SP, submetido ao rito do art. 543-C, julgado como recurso representativo de controvérsia, nos termos da seguinte ementa: \\\\RECURSO ESPECIAL REPRESENTATIVO DA CONTROVÉRSIA - ART. 543-C DO CPC - ASSOCIAÇÃO DE MORADORES - CONDOMÍNIO DE FATO - COBRANÇA DE TAXA DE MANUTENÇÃO DE NÃO ASSOCIADO OU QUE A ELA NÃO ANUIU - IMPOSSIBILIDADE. 1. Para efeitos do art. 543-C do CPC, firma-se a seguinte tese: \"As taxas de manutenção criadas por associações de moradores não obrigam os não associados ou que a elas não anuíram\". 2. No caso concreto, recurso especial provido para julgar improcedente a ação de cobrança. (REsp 1280871/SP, Rel. para acórdão Ministro MARCO BUZZI, SEGUNDA SEÇÃO, julgado em 11/03/2015, DJe 22/05/2015) 3. Ante o exposto, nego provimento ao agravo regimental. 11 É como . ASSUNTO Condominio'"
      ]
     },
     "execution_count": 42,
     "metadata": {},
     "output_type": "execute_result"
    }
   ],
   "source": [
    "df_acordaos_stj_pp.text[100]"
   ]
  },
  {
   "cell_type": "code",
   "execution_count": 43,
   "id": "b0319126",
   "metadata": {},
   "outputs": [
    {
     "data": {
      "text/plain": [
       "'RELATOR : MINISTRO RAUL ARAÚJO AGRAVANTE : W C A N ADVOGADO : MARCELO HENRIQUE GONÇALVES RIVERA MOREIRA SANTOS - DF030338 AGRAVADO : W C A REPR. POR : ALBPVC ADVOGADOS : EDUARDO CAVALCANTE GAUCHE - DF018739 LARYSSA DE ANDRADE E MORAIS - DF031376 ARTHUR MELO DE FREITAS - DF057682 VICTOR HUGO CABALLERO BRUGGER FREITAS - DF059497 . EMENTA DIREITO CIVIL E FAMÍLIA. AGRAVO INTERNO NO AGRAVO EM RECURSO ESPECIAL. DECISÃO DA PRESIDÊNCIA. RECONSIDERAÇÃO. PENSÃO ALIMENTÍCIA. CONSTITUIÇÃO DE NOVO NÚCLEO FAMILIAR, INCLUSIVE COM O NASCIMENTO DE NOVO FILHO. REDUÇÃO AUTOMÁTICA DO VALOR DOS ALIMENTOS DA PROLE DO RELACIONAMENTO ANTERIOR. IMPOSSIBILIDADE. SÚMULA 83/STJ. POSSIBILIDADE DO ALIMENTANTE. PRETENSÃO DE REVISÃO. SÚMULA 7/STJ. AGRAVO CONHECIDO PARA NÃO SE CONHECER DO RECURSO ESPECIAL. 1. A constituição de nova família ou o nascimento de novos filhos não afasta a necessidade de demonstração da alteração do binômio necessidade do alimentando em face da possibilidade do alimentante para revisão do valor dos alimentos fixado para a prole de relacionamentos anteriores. Precedentes. 2. No caso, o TJDFT concluiu que a condição econômico-ficeira do genitor é suficiente para manutenção da pensão alimentícia de seu primeiro filho nos moldes fixados e o custeio das despesas de seu novo filho e núcleo familiar, ambos em padrão similar, de modo que improcedente o pedido de redução do valor dos alimentos. A revisão dessa conclusão implicaria o reexame do conjunto fático-probatório dos autos, o que é defeso na via eleita, ante o enunciado da Súmula 7 do STJ. 3. Agravo interno provido para reconsiderar a decisão agravada e, em novo exame, conhecer do agravo para não conhecer do recurso especial. . ACÓRDÃO Vistos e relatados estes autos em que são partes as acima indicadas, acordam os Ministros da QUARTA TURMA do Superior Tribunal de Justiça, por uimidade, não conhecer do recurso, nos termos do voto do Sr. Ministro Relator. Os Srs. Ministros Luis Felipe Salomão, Maria Isabel Gallotti, Antonio Carlos Ferreira e Marco Buzzi votaram com o Sr. Ministro Relator. Presidiu o julgamento o Sr. Ministro Luis Felipe Salomão. . RELATÓRIO O EXMO. SR. MINISTRO RAUL ARAÚJO (Relator): Cuida-se de agravo interno interposto por W. C. A. N. contra decisão da Presidência do STJ (fls. 1.794-1.797), que não conheceu do recurso especial, sob o fundamento da impossibilidade de reexame de provas na instância especial. A parte agravante defende ser fato incontroverso, reconhecido pela Corte de origem, que, após o estabelecimento da pensão alimentícia de seu primeiro filho, engajou-se em novo relacionamento conjugal, do qual inclusive resultou mais um filho, sem que houvesse nenhum incremento em sua renda. Entende que esse fato, por si só, constitui fundamento suficiente para redução do valor da pensão alimentícia devida à prole do relacionamento anterior. Conclui, pois, que a pretensão veiculada no recurso especial restringe-se à solução jurídica aplicável ao caso, sendo desnecessário o reexame das provas juntadas aos autos. Impugnação apresentada às fls. 1.810-1.816, em que se pede a aplicação de multa ao agravante. É o . VOTO O EXMO. SR. MINISTRO RAUL ARAÚJO (Relator): Inicialmente, destaca-se ter razão o agravante ao afirmar que o julgamento do recurso especial não demanda o reexame de provas, sendo inadequada a incidência da Súmula 7/STJ, razão pela qual se reconsidera a decisão da Presidência desta Corte Superior (fls. 1.794-1.797), e passa-se a novo julgamento do agravo em recurso especial. Nesse sentido, verifica-se que a Primeira Turma Cível do TJDFT entendeu que o \"simples fato de [o agravante] ter constituído outra família e o nascimento de outro filho [] não são situações que, por si só, permitem a modificação da pensão alimentícia\" (fl. 1.676). Com base nessa premissa jurídica, a Corte de origem concluiu que a condição econômico-ficeira do genitor é suficiente para manutenção da pensão alimentícia de seu primeiro filho nos moldes fixados e o custeio das despesas de seu novo filho e núcleo familiar, ambos em padrão similar, de modo que não procede o pedido de redução do valor dos alimentos. Leia-se o seguinte trecho do acórdão recorrido: \"Por outro lado, quanto à possibilidade do genitor/apelante em prestar os alimentos, nota-se que, tal como alega em suas razões, não houve alteração em seus ganhos mensais. Alega o autor/apelante, contudo, que a formação de uma nova família e o nascimento de outro filho, o que ocasionou um incremento em suas contas ordinárias, são motivos suficientes para alterar a obrigação alimentar anteriormente arbitrada. Fato é que somente tais argumentos não são suficientes para alterar significativamente os alimentos devidos a seu filho , principalmente porque não ficou demonstrado, de forma inequívoca, que a considerável W.C.A. condição ficeira do alimentante, evidenciada quando da celebração do acordo (final de 2017), tenha se modificado bruscamente, em tão pouco tempo, a ponto de refletir na subsistência do menor. O simples fato de ter constituído outra família e o nascimento de outro filho, neste caso, não são situações que, por si só, permitem a modificação da pensão alimentícia. Forçoso salientar, ainda, que a diferença de idade entre os filhos do alimentante permite justificar a distinção dos gastos com eles, tal como indicada no petitório de ID 13928323, sendo crível que o ora alimentado, atualmente com oito anos, possua ainda gastos com educação, material escolar, uniformes, além de despesas superiores com alimentação, vestuário e lazer. Consigna-se, por oportuno, que mesmo que não exista nos autos qualquer sinal de riqueza posterior a 2018, a revisão dos alimentos depende de comprovada alteração fática que afete o equilíbrio do binômio necessidade/possibilidade. E, em detida análise do conjunto probatório, ainda que tenha havido fatos externos novos, não há nos autos qualquer prova de que a situação ficeira do alimentante se modificou, de modo que a presunção é de que mantém a possibilidade econômico ficeira em arcar com o encargo nos mesmos moldes. O apelante argumenta, ainda, que seus rendimentos não se alteraram, além de não morar mais em \"bairro nobre e de alto padrão\", sendo a casa residida, inclusive, emprestada por seu avô. Nesta senda, pelo que fora por ele mesmo informado, não há como se afirmar que houve aumento em suas despesas neste tocante, o que, aliado a outros elementos probatórios, poderia ensejar a revisão da prestação alimentícia. De mais a mais, não se mostra razoável o apelante se valer de argumentos como altas despesas com a nova família, para, assim, se esquivar da sua obrigação decorrente do poder familiar em prestar os devidos alimentos a seu filho menor, por ele mesmo aceita. Aliás, como bem pontuado pelo nobre ID 13132505) Parquet ( : Revela-se, inclusive, incoerente que o apelante afirme suportar as despesas do apelado no valor de R$ 7.500,00 recebendo tão somente uma remuneração de R$ 12.000,00, cuja origem é sequer esclarecida. Evidentemente, os ganhos do apelante são maiores do que os alegados e os elementos coligidos são reveladores de uma elevada capacidade ficeira, assim como já se havia deduzido na demanda anterior. Logo, não provada a alteração fática imprescindível para a revisão dos alimentos, revela-se escorreita a r. sentença que julgou improcedente o pleito inicial, devendo a obrigação alimentar permanecer fixada nos mesmos parâmetros já delineados, os quais se encontram em sintonia com os princípios da proporcionalidade e da razoabilidade.\" (fls. 1676/1677) Veja-se que o entendimento do Tribunal distrital, no sentido de que a constituição de nova família ou o nascimento de novos filhos não afasta a necessidade de demonstração da alteração do binômio necessidade do alimentando em face da possibilidade do alimentante para revisão dos alimentos devidos aos filhos de relacionamentos anteriores, encontra-se em harmonia com a jurisprudência do STJ. A propósito, confiram-se: \"PROCESSUAL CIVIL. AGRAVO INTERNO NO AGRAVO EM RECURSO ESPECIAL. RECURSO MANEJADO SOB A ÉGIDE DO NCPC. AÇÃO REVISIONAL DE ALIMENTOS. REVISÃO DO BINÔMIO NECESSIDADE-POSSIBILIDADE. IMPOSSIBILIDADE. NÃO COMPROVAÇÃO DA ALTERAÇÃO DA CAPACIDADE FINANCEIRA. APLICAÇÃO DA SÚMULA N° 7 DO STJ. INCIDÊNCIA DA MULTA DO ART. 1.021, § 4°, DO NCPC. AGRAVO NÃO PROVIDO. [1 2. Concluindo a instância ordinária, a partir do exame do acervo probatório, que não houve mudança na situação ficeira do alimentante, não pode esta egrégia Corte Superior rever tal conclusão, em razão do óbice contido na Súmula n° 7 do STJ. 3. Nos termos da jurisprudência do STJ, o fato de o devedor dos alimentos ter constituído nova família, por si, não implica revisão dos alimentos prestados aos filhos da união anterior, sobretudo se não ficar comprovada a mudança negativa na sua capacidade ficeira.Precedentes. [I 5. Agravo interno não provido, com imposição de multa. (AgInt no AREsp 1230230/SP, Rel. Ministro MOURA RIBEIRO, TERCEIRA TURMA, julgado em 17/04/2018, DJe 27/04/2018, g.) \"AGRAVO REGIMENTAL NO AGRAVO EM RECURSO ESPECIAL. AÇÃO REVISIONAL DE ALIMENTOS. VIOLAÇÃO AO ART. 535 DO CPC. INEXISTÊNCIA. NASCIMENTO DE NOVO FILHO. MOTIVO QUE NÃO AUTORIZA, POR SI SÓ, A REDUÇÃO DA OBRIGAÇÃO ALIMENTAR. ALTERAÇÃO DO BINÔMIO NECESSIDADE/POSSIBILIDADE CONFIGURADA. REVISÃO. SÚMULA 7/STJ. AGRAVO NÃO PROVIDO. [1 2. Nos termos da orientação jurisprudencial desta Corte Superior, \"a circunstância de o alimentante constituir nova família, com nascimento de filhos, por si só, não importa na redução da pensão alimentícia paga a filha havida de união anterior, sobretudo se não resta verificada a mudança para pior na situação econômica daquele\" (REsp 703.318/PR, Rel. Ministro JORGE SCARTEZZINI, QUARTA TURMA, julgado em 21/6/2005, DJ de 178/2005, p. 470) 3. Na hipótese dos autos, no entanto, as instâncias ordinárias expressamente consignaram que houve a alteração da capacidade ficeira do agravado, de modo a comprometer o equilíbrio do binômio necessidade/possibilidade, razão pela qual foi reduzido o encargo alimentar para um (1) salário mínimo. Infirmar as conclusões do julgado, nesse ponto, demandaria o revolvimento do suporte fático-probatório dos autos, o que encontra óbice no enunciado da Súmula 7 desta Corte Superior. 4. Agravo regimental a que se nega provimento.\" (AgRg no AREsp 452.248/SP, desta relatoria, QUARTA TURMA, julgado em 16/06/2015, DJe 03/08/2015, g.) \"PROCESSO CIVIL E CIVIL - ALIMENTOS - BINÔMIO NECESSIDADE - POSSIBILIDADE - REVISÃO - NECESSIDADE DE REEXAME DO CONJUNTO FÁTICO-PROBATÓRIO - IMPOSSIBILIDADE - SÚMULA 07 - CONSTITUIÇÃO DE NOVA FAMÍLIA PELO ALIMENTANTE COM NASCIMENTO DE FILHOS - CIRCUNSTÂNCIA QUE, POR SI SÓ, NÃO POSSIBILITA A ALTERAÇÃO - AUSÊNCIA DE MODIFICAÇÃO NA SITUAÇÃO ECONÔMICA DO ALIMENTANTE - VIOLAÇÃO AO ARTIGO 131 DO CPC - FALTA DE PREQUESTIONAMENTO - RECURSO NÃO CONHECIDO. 1 A revisão do julgado que conclui pela inviabilidade de reduzir-se o valor pago à título de pensão alimentícia, tendo em vista as circunstâncias do caso, em especial aquelas relativas ao binômio necessidade da alimentada e possibilidade do alimentante, exige, necessariamente, o reexame de todo o conjunto fático-probatório acostado aos autos, o que é inviável em sede de recurso especial, ante o óbice da Súmula 07 desta Corte. 2 - Por outro lado, a circunstância de o alimentante constituir nova família, com nascimento de filhos, por si só, não importa na redução da pensão alimentícia paga a filha havida de união anterior, sobretudo se não resta verificada a mudança para pior na situação econômica daquele. [I 4 - Recurso não conhecido.\" (REsp 703.318/PR, Rel. Ministro JORGE SCARTEZZINI, QUARTA TURMA, julgado em 21/06/2005, DJ 1°108/2005, p. 470, g.) Dessa forma, estando o entendimento do TJDFT em harmonia com o desta Corte Superior, incide no caso o óbice da Súmula 83/STJ. Ademais, a modificação do entendimento lançado no v. acórdão recorrido acerca da possibilidade do alimentante em prestar os alimentos, nos termos em que pleiteado pela parte recorrente, demandaria o revolvimento de suporte fático-probatório dos autos, o que é inviável em sede de recurso especial, a teor do que dispõe a Súmula 7 deste Pretório. Ante o exposto, dou provimento ao agravo interno para reconsiderar a decisão agravada e, em novo exame, conheço do agravo para não conhecer do recurso especial. É como . ASSUNTO Alimentos'"
      ]
     },
     "execution_count": 43,
     "metadata": {},
     "output_type": "execute_result"
    }
   ],
   "source": [
    "acordaos_stj_pp.text[2]"
   ]
  }
 ],
 "metadata": {
  "kernelspec": {
   "display_name": "Python 3 (ipykernel)",
   "language": "python",
   "name": "python3"
  },
  "language_info": {
   "codemirror_mode": {
    "name": "ipython",
    "version": 3
   },
   "file_extension": ".py",
   "mimetype": "text/x-python",
   "name": "python",
   "nbconvert_exporter": "python",
   "pygments_lexer": "ipython3",
   "version": "3.11.5"
  }
 },
 "nbformat": 4,
 "nbformat_minor": 5
}
