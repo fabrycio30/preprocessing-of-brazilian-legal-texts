{
 "cells": [
  {
   "cell_type": "code",
   "execution_count": 1,
   "id": "5c5d93de",
   "metadata": {},
   "outputs": [],
   "source": [
    "path = \"D:\\\\dados-juridicos\\\\brutos\\\\menores\\\\\""
   ]
  },
  {
   "cell_type": "code",
   "execution_count": 2,
   "id": "0384af48",
   "metadata": {},
   "outputs": [
    {
     "name": "stderr",
     "output_type": "stream",
     "text": [
      "C:\\Users\\fabry\\AppData\\Roaming\\Python\\Python311\\site-packages\\pandas\\core\\arrays\\masked.py:60: UserWarning: Pandas requires version '1.3.6' or newer of 'bottleneck' (version '1.3.5' currently installed).\n",
      "  from pandas.core import (\n"
     ]
    }
   ],
   "source": [
    "import pandas as pd"
   ]
  },
  {
   "cell_type": "code",
   "execution_count": 6,
   "id": "ce960849",
   "metadata": {},
   "outputs": [
    {
     "data": {
      "text/html": [
       "<div>\n",
       "<style scoped>\n",
       "    .dataframe tbody tr th:only-of-type {\n",
       "        vertical-align: middle;\n",
       "    }\n",
       "\n",
       "    .dataframe tbody tr th {\n",
       "        vertical-align: top;\n",
       "    }\n",
       "\n",
       "    .dataframe thead th {\n",
       "        text-align: right;\n",
       "    }\n",
       "</style>\n",
       "<table border=\"1\" class=\"dataframe\">\n",
       "  <thead>\n",
       "    <tr style=\"text-align: right;\">\n",
       "      <th></th>\n",
       "      <th>Unnamed: 0</th>\n",
       "      <th>Numero</th>\n",
       "      <th>Classe</th>\n",
       "      <th>SubClasse</th>\n",
       "      <th>Relator(a)</th>\n",
       "      <th>RelatorPacordao</th>\n",
       "      <th>DataJulgamento</th>\n",
       "      <th>Sessao</th>\n",
       "      <th>Ementa</th>\n",
       "      <th>CertidaoJulgamento</th>\n",
       "      <th>InfoComplementar</th>\n",
       "      <th>RefLegislativa</th>\n",
       "      <th>Precedentes</th>\n",
       "    </tr>\n",
       "  </thead>\n",
       "  <tbody>\n",
       "    <tr>\n",
       "      <th>0</th>\n",
       "      <td>0</td>\n",
       "      <td>0008358-46.2021.2.00.0000</td>\n",
       "      <td>PCA - Procedimento de Controle Administrativo</td>\n",
       "      <td>RA – Recurso Administrativo</td>\n",
       "      <td>MÁRIO GOULART MAIA</td>\n",
       "      <td>NaN</td>\n",
       "      <td>06.12.2022</td>\n",
       "      <td>361ª Sessão Ordinária</td>\n",
       "      <td>RECURSO EM PROCEDIMENTO DE CONTROLE ADMINISTRA...</td>\n",
       "      <td>O Conselho, por unanimidade, negou provimento ...</td>\n",
       "      <td>Classe VotoEmentaConselheiroVoto Convergente[....</td>\n",
       "      <td>ANO:1988 CF ART:22 INC:ILEI-11.798 ANO:2008REG...</td>\n",
       "      <td>NaN</td>\n",
       "    </tr>\n",
       "    <tr>\n",
       "      <th>1</th>\n",
       "      <td>1</td>\n",
       "      <td>0008938-76.2021.2.00.0000</td>\n",
       "      <td>PCA - Procedimento de Controle Administrativo</td>\n",
       "      <td>NaN</td>\n",
       "      <td>SIDNEY MADRUGA</td>\n",
       "      <td>NaN</td>\n",
       "      <td>06.12.2022</td>\n",
       "      <td>361ª Sessão Ordinária</td>\n",
       "      <td>PROCEDIMENTO DE CONTROLE ADMINISTRATIVO. HORÁR...</td>\n",
       "      <td>O Conselho, por unanimidade, determinou o arqu...</td>\n",
       "      <td>Classe VotoEmentaConselheiro</td>\n",
       "      <td>REGI ART:25 INC:X ORGAO:'CONSELHO NACIONAL DE ...</td>\n",
       "      <td>NaN</td>\n",
       "    </tr>\n",
       "    <tr>\n",
       "      <th>2</th>\n",
       "      <td>2</td>\n",
       "      <td>0002589-57.2021.2.00.0000</td>\n",
       "      <td>REVDIS - Processo de Revisão Disciplinar - Con...</td>\n",
       "      <td>NaN</td>\n",
       "      <td>VIEIRA DE MELLO FILHO</td>\n",
       "      <td>NaN</td>\n",
       "      <td>06.12.2022</td>\n",
       "      <td>361ª Sessão Ordinária</td>\n",
       "      <td>REVISÃO DISCIPLINAR. TRIBUNAL DE JUSTIÇA DO ES...</td>\n",
       "      <td>O Conselho, por unanimidade, julgou improceden...</td>\n",
       "      <td>Classe VotoEmentaConselheiro</td>\n",
       "      <td>ANO:1988 CF ART:103 LET:B PAR:4º INC:VLCP-35 A...</td>\n",
       "      <td>NaN</td>\n",
       "    </tr>\n",
       "    <tr>\n",
       "      <th>3</th>\n",
       "      <td>3</td>\n",
       "      <td>0007034-84.2022.2.00.0000</td>\n",
       "      <td>ATO - Ato Normativo</td>\n",
       "      <td>NaN</td>\n",
       "      <td>MARCIO LUIZ FREITAS</td>\n",
       "      <td>NaN</td>\n",
       "      <td>06.12.2022</td>\n",
       "      <td>361ª Sessão Ordinária</td>\n",
       "      <td>ATO NORMATIVO. ALTERAÇÃO DA RESOLUÇÃO CNJ Nº 3...</td>\n",
       "      <td>O Conselho, por unanimidade, aprovou a Resoluç...</td>\n",
       "      <td>Classe VotoEmentaConselheiro</td>\n",
       "      <td>ANO:1988 CF ART:100 PAR:11º ART:103 LET:B PAR:...</td>\n",
       "      <td>NaN</td>\n",
       "    </tr>\n",
       "    <tr>\n",
       "      <th>4</th>\n",
       "      <td>4</td>\n",
       "      <td>0007616-84.2022.2.00.0000</td>\n",
       "      <td>ATO - Ato Normativo</td>\n",
       "      <td>NaN</td>\n",
       "      <td>RICHARD PAE KIM</td>\n",
       "      <td>NaN</td>\n",
       "      <td>06.12.2022</td>\n",
       "      <td>361ª Sessão Ordinária</td>\n",
       "      <td>ATO NORMATIVO. RECOMENDAÇÃO. PROCEDIMENTO PERT...</td>\n",
       "      <td>O Conselho decidiu, por unanimidade: I - inclu...</td>\n",
       "      <td>Classe VotoEmentaConselheiro</td>\n",
       "      <td>ANO:1988 CF ART:7º INC:XXXIIILCP-75 ANO:1993 A...</td>\n",
       "      <td>NaN</td>\n",
       "    </tr>\n",
       "    <tr>\n",
       "      <th>...</th>\n",
       "      <td>...</td>\n",
       "      <td>...</td>\n",
       "      <td>...</td>\n",
       "      <td>...</td>\n",
       "      <td>...</td>\n",
       "      <td>...</td>\n",
       "      <td>...</td>\n",
       "      <td>...</td>\n",
       "      <td>...</td>\n",
       "      <td>...</td>\n",
       "      <td>...</td>\n",
       "      <td>...</td>\n",
       "      <td>...</td>\n",
       "    </tr>\n",
       "    <tr>\n",
       "      <th>12009</th>\n",
       "      <td>12009</td>\n",
       "      <td>34</td>\n",
       "      <td>PAV - Petição Avulsa</td>\n",
       "      <td>NaN</td>\n",
       "      <td>Antônio de Pádua Ribeiro</td>\n",
       "      <td>NaN</td>\n",
       "      <td>16.08.2005</td>\n",
       "      <td>3</td>\n",
       "      <td>I – O inciso XII, do artigo 93 da Constituição...</td>\n",
       "      <td>“O Conselho, por maioria, decidiu pelo arquiva...</td>\n",
       "      <td>Classe VotoEmentaConselheiroVoto Divergente\"Di...</td>\n",
       "      <td>NaN</td>\n",
       "      <td>Anterior - Próximo</td>\n",
       "    </tr>\n",
       "    <tr>\n",
       "      <th>12010</th>\n",
       "      <td>12010</td>\n",
       "      <td>43</td>\n",
       "      <td>PAV - Petição Avulsa</td>\n",
       "      <td>NaN</td>\n",
       "      <td>Antônio de Pádua Ribeiro</td>\n",
       "      <td>NaN</td>\n",
       "      <td>16.08.2005</td>\n",
       "      <td>3</td>\n",
       "      <td>I – O inciso XII, do artigo 93 da Constituição...</td>\n",
       "      <td>“O Conselho, por maioria, decidiu pelo arquiva...</td>\n",
       "      <td>Classe VotoEmentaConselheiroVoto Divergente\"Di...</td>\n",
       "      <td>NaN</td>\n",
       "      <td>Anterior - Próximo</td>\n",
       "    </tr>\n",
       "    <tr>\n",
       "      <th>12011</th>\n",
       "      <td>12011</td>\n",
       "      <td>18</td>\n",
       "      <td>PP - Pedido de Providências - Conselheiro</td>\n",
       "      <td>NaN</td>\n",
       "      <td>Cláudio Godoy</td>\n",
       "      <td>NaN</td>\n",
       "      <td>16.08.2005</td>\n",
       "      <td>3</td>\n",
       "      <td>“Por outro lado, ainda em estudos o futuro e c...</td>\n",
       "      <td>“O Conselho, por unanimidade, não conheceu do ...</td>\n",
       "      <td>Classe VotoEmentaConselheiro</td>\n",
       "      <td>ANO:1988 CF ART:95 LCP-35 ANO:1979 ART:26 ART:36</td>\n",
       "      <td>NaN</td>\n",
       "    </tr>\n",
       "    <tr>\n",
       "      <th>12012</th>\n",
       "      <td>12012</td>\n",
       "      <td>22</td>\n",
       "      <td>PP - Pedido de Providências - Conselheiro</td>\n",
       "      <td>NaN</td>\n",
       "      <td>EDUARDO KURTZ LORENZONI</td>\n",
       "      <td>NaN</td>\n",
       "      <td>16.08.2005</td>\n",
       "      <td>3</td>\n",
       "      <td>“Diante disto, bem como das outras justificati...</td>\n",
       "      <td>“O Conselho, por maioria, decidiu pelo arquiva...</td>\n",
       "      <td>Classe VotoEmentaConselheiroVoto Divergente\"Di...</td>\n",
       "      <td>ANO:1988 CF ART:93 INC:XII</td>\n",
       "      <td>NaN</td>\n",
       "    </tr>\n",
       "    <tr>\n",
       "      <th>12013</th>\n",
       "      <td>12013</td>\n",
       "      <td>25</td>\n",
       "      <td>PP - Pedido de Providências - Conselheiro</td>\n",
       "      <td>NaN</td>\n",
       "      <td>EDUARDO KURTZ LORENZONI</td>\n",
       "      <td>NaN</td>\n",
       "      <td>16.08.2005</td>\n",
       "      <td>3</td>\n",
       "      <td>“Sendo assim, ainda que louvando a iniciativa ...</td>\n",
       "      <td>“O Conselho, por maioria, decidiu pelo arquiva...</td>\n",
       "      <td>Classe VotoEmentaConselheiroVoto Divergente\"Di...</td>\n",
       "      <td>NaN</td>\n",
       "      <td>Anterior - Próximo</td>\n",
       "    </tr>\n",
       "  </tbody>\n",
       "</table>\n",
       "<p>12014 rows × 13 columns</p>\n",
       "</div>"
      ],
      "text/plain": [
       "       Unnamed: 0                     Numero  \\\n",
       "0               0  0008358-46.2021.2.00.0000   \n",
       "1               1  0008938-76.2021.2.00.0000   \n",
       "2               2  0002589-57.2021.2.00.0000   \n",
       "3               3  0007034-84.2022.2.00.0000   \n",
       "4               4  0007616-84.2022.2.00.0000   \n",
       "...           ...                        ...   \n",
       "12009       12009                         34   \n",
       "12010       12010                         43   \n",
       "12011       12011                         18   \n",
       "12012       12012                         22   \n",
       "12013       12013                         25   \n",
       "\n",
       "                                                  Classe  \\\n",
       "0          PCA - Procedimento de Controle Administrativo   \n",
       "1          PCA - Procedimento de Controle Administrativo   \n",
       "2      REVDIS - Processo de Revisão Disciplinar - Con...   \n",
       "3                                    ATO - Ato Normativo   \n",
       "4                                    ATO - Ato Normativo   \n",
       "...                                                  ...   \n",
       "12009                               PAV - Petição Avulsa   \n",
       "12010                               PAV - Petição Avulsa   \n",
       "12011          PP - Pedido de Providências - Conselheiro   \n",
       "12012          PP - Pedido de Providências - Conselheiro   \n",
       "12013          PP - Pedido de Providências - Conselheiro   \n",
       "\n",
       "                         SubClasse                Relator(a) RelatorPacordao  \\\n",
       "0      RA – Recurso Administrativo        MÁRIO GOULART MAIA             NaN   \n",
       "1                              NaN            SIDNEY MADRUGA             NaN   \n",
       "2                              NaN     VIEIRA DE MELLO FILHO             NaN   \n",
       "3                              NaN       MARCIO LUIZ FREITAS             NaN   \n",
       "4                              NaN           RICHARD PAE KIM             NaN   \n",
       "...                            ...                       ...             ...   \n",
       "12009                          NaN  Antônio de Pádua Ribeiro             NaN   \n",
       "12010                          NaN  Antônio de Pádua Ribeiro             NaN   \n",
       "12011                          NaN             Cláudio Godoy             NaN   \n",
       "12012                          NaN   EDUARDO KURTZ LORENZONI             NaN   \n",
       "12013                          NaN   EDUARDO KURTZ LORENZONI             NaN   \n",
       "\n",
       "      DataJulgamento                 Sessao  \\\n",
       "0         06.12.2022  361ª Sessão Ordinária   \n",
       "1         06.12.2022  361ª Sessão Ordinária   \n",
       "2         06.12.2022  361ª Sessão Ordinária   \n",
       "3         06.12.2022  361ª Sessão Ordinária   \n",
       "4         06.12.2022  361ª Sessão Ordinária   \n",
       "...              ...                    ...   \n",
       "12009     16.08.2005                      3   \n",
       "12010     16.08.2005                      3   \n",
       "12011     16.08.2005                      3   \n",
       "12012     16.08.2005                      3   \n",
       "12013     16.08.2005                      3   \n",
       "\n",
       "                                                  Ementa  \\\n",
       "0      RECURSO EM PROCEDIMENTO DE CONTROLE ADMINISTRA...   \n",
       "1      PROCEDIMENTO DE CONTROLE ADMINISTRATIVO. HORÁR...   \n",
       "2      REVISÃO DISCIPLINAR. TRIBUNAL DE JUSTIÇA DO ES...   \n",
       "3      ATO NORMATIVO. ALTERAÇÃO DA RESOLUÇÃO CNJ Nº 3...   \n",
       "4      ATO NORMATIVO. RECOMENDAÇÃO. PROCEDIMENTO PERT...   \n",
       "...                                                  ...   \n",
       "12009  I – O inciso XII, do artigo 93 da Constituição...   \n",
       "12010  I – O inciso XII, do artigo 93 da Constituição...   \n",
       "12011  “Por outro lado, ainda em estudos o futuro e c...   \n",
       "12012  “Diante disto, bem como das outras justificati...   \n",
       "12013  “Sendo assim, ainda que louvando a iniciativa ...   \n",
       "\n",
       "                                      CertidaoJulgamento  \\\n",
       "0      O Conselho, por unanimidade, negou provimento ...   \n",
       "1      O Conselho, por unanimidade, determinou o arqu...   \n",
       "2      O Conselho, por unanimidade, julgou improceden...   \n",
       "3      O Conselho, por unanimidade, aprovou a Resoluç...   \n",
       "4      O Conselho decidiu, por unanimidade: I - inclu...   \n",
       "...                                                  ...   \n",
       "12009  “O Conselho, por maioria, decidiu pelo arquiva...   \n",
       "12010  “O Conselho, por maioria, decidiu pelo arquiva...   \n",
       "12011  “O Conselho, por unanimidade, não conheceu do ...   \n",
       "12012  “O Conselho, por maioria, decidiu pelo arquiva...   \n",
       "12013  “O Conselho, por maioria, decidiu pelo arquiva...   \n",
       "\n",
       "                                        InfoComplementar  \\\n",
       "0      Classe VotoEmentaConselheiroVoto Convergente[....   \n",
       "1                           Classe VotoEmentaConselheiro   \n",
       "2                           Classe VotoEmentaConselheiro   \n",
       "3                           Classe VotoEmentaConselheiro   \n",
       "4                           Classe VotoEmentaConselheiro   \n",
       "...                                                  ...   \n",
       "12009  Classe VotoEmentaConselheiroVoto Divergente\"Di...   \n",
       "12010  Classe VotoEmentaConselheiroVoto Divergente\"Di...   \n",
       "12011                       Classe VotoEmentaConselheiro   \n",
       "12012  Classe VotoEmentaConselheiroVoto Divergente\"Di...   \n",
       "12013  Classe VotoEmentaConselheiroVoto Divergente\"Di...   \n",
       "\n",
       "                                          RefLegislativa         Precedentes  \n",
       "0      ANO:1988 CF ART:22 INC:ILEI-11.798 ANO:2008REG...                 NaN  \n",
       "1      REGI ART:25 INC:X ORGAO:'CONSELHO NACIONAL DE ...                 NaN  \n",
       "2      ANO:1988 CF ART:103 LET:B PAR:4º INC:VLCP-35 A...                 NaN  \n",
       "3      ANO:1988 CF ART:100 PAR:11º ART:103 LET:B PAR:...                 NaN  \n",
       "4      ANO:1988 CF ART:7º INC:XXXIIILCP-75 ANO:1993 A...                 NaN  \n",
       "...                                                  ...                 ...  \n",
       "12009                                                NaN  Anterior - Próximo  \n",
       "12010                                                NaN  Anterior - Próximo  \n",
       "12011   ANO:1988 CF ART:95 LCP-35 ANO:1979 ART:26 ART:36                 NaN  \n",
       "12012                         ANO:1988 CF ART:93 INC:XII                 NaN  \n",
       "12013                                                NaN  Anterior - Próximo  \n",
       "\n",
       "[12014 rows x 13 columns]"
      ]
     },
     "execution_count": 6,
     "metadata": {},
     "output_type": "execute_result"
    }
   ],
   "source": [
    "df = pd.read_csv(f'{path}jurisprudencia_cnj.csv.aspx')\n",
    "df"
   ]
  },
  {
   "cell_type": "code",
   "execution_count": 11,
   "id": "481749cf",
   "metadata": {},
   "outputs": [
    {
     "data": {
      "text/plain": [
       "'PCA - Procedimento de Controle Administrativo'"
      ]
     },
     "execution_count": 11,
     "metadata": {},
     "output_type": "execute_result"
    }
   ],
   "source": [
    "df.Classe[0]"
   ]
  },
  {
   "cell_type": "code",
   "execution_count": 12,
   "id": "e2f3a4b6",
   "metadata": {},
   "outputs": [
    {
     "data": {
      "text/plain": [
       "'361ª Sessão Ordinária'"
      ]
     },
     "execution_count": 12,
     "metadata": {},
     "output_type": "execute_result"
    }
   ],
   "source": [
    "df.Sessao[0]"
   ]
  },
  {
   "cell_type": "code",
   "execution_count": 10,
   "id": "252b53fb",
   "metadata": {},
   "outputs": [
    {
     "data": {
      "text/plain": [
       "'0008358-46.2021.2.00.0000'"
      ]
     },
     "execution_count": 10,
     "metadata": {},
     "output_type": "execute_result"
    }
   ],
   "source": [
    "df.Numero[0]"
   ]
  },
  {
   "cell_type": "code",
   "execution_count": 8,
   "id": "dd4355bc",
   "metadata": {},
   "outputs": [
    {
     "data": {
      "text/plain": [
       "'O Conselho, por unanimidade, negou provimento ao recurso, nos termos do voto do Relator. Presidiu o julgamento a Ministra Rosa Weber. Plenário, 6 de dezembro de 2022.'"
      ]
     },
     "execution_count": 8,
     "metadata": {},
     "output_type": "execute_result"
    }
   ],
   "source": [
    "df.CertidaoJulgamento[0]"
   ]
  },
  {
   "cell_type": "code",
   "execution_count": 9,
   "id": "9e776872",
   "metadata": {},
   "outputs": [
    {
     "data": {
      "text/plain": [
       "'Classe VotoEmentaConselheiroVoto Convergente[...]é imprescindível que à Lei nº 13.879/2019 seja conferida interpretação teleológica à luz do direito fundamental do acesso à justiça previsto no inciso XXXV do Artigo 5º da Constituição Federal de 1988, promovendo a possibilidade de que a população tenha pleno acesso ao Poder Judiciário, apesar dos inúmeros obstáculos já existentes os quais se apresentam de forma ainda mais acentuada quando se trata das classes menos favorecidas.Registro, ainda, que as normas constitucionais e infraconstitucionais sempre devem ser interpretadas de forma a favorecer o acesso das referidas classes e não o contrário. Pela interpretação do TJSP, tornar-se-ia mais dificultoso o percurso até o Poder Judiciário.Portanto, não merece prosperar o pleito do Estadual paulista, devendo ser mantida a decisão de improcedência do presente Procedimento, por ter o CJF atuado dentro dos limites de sua competência e decidido acertadamente, uniformizando, na Justiça Federal, o critério de medição da distância estabelecida na Lei 13.876/19, para o exercício da competência delegada.MARCOS VINÍCIUS JARDIM RODRIGUES'"
      ]
     },
     "execution_count": 9,
     "metadata": {},
     "output_type": "execute_result"
    }
   ],
   "source": [
    "df.InfoComplementar[0]"
   ]
  },
  {
   "cell_type": "code",
   "execution_count": 7,
   "id": "6cc7b9f1",
   "metadata": {},
   "outputs": [
    {
     "data": {
      "text/plain": [
       "'RECURSO EM PROCEDIMENTO DE CONTROLE ADMINISTRATIVO. TRIBUNAL DE JUSTIÇA DO ESTADO DE SÃO PAULO. CONSELHO DA JUSTIÇA FEDERAL. ALTERAÇÃO DA RESOLUÇÃO CJF 603/2021 PELA RESOLUÇÃO CJF 705/2021. LEI 13.876/2019. MODIFICAÇÃO DOS CRITÉRIOS RELACIONADOS À DISTÂNCIA PARA FIXAÇÃO DA COMPETÊNCIA DELEGADA. DESLOCAMENTO REAL EM DETRIMENTO DA MEDIÇÃO RETILÍNEA. ILEGALIDADE. INOCORRÊNCIA. RECURSO IMPROVIDO.1. Procedimento de Controle Administrativo em que se requer a anulação de Resolução editada por Conselho, que modificou a forma de cálculo da distância entre a sede da Comarca Estadual e a Vara Federal, para fins da fixação da competência delegada. 2. O controle de ato do Conselho da Justiça Federal pelo Conselho Nacional de Justiça somente encontra amparo em situações excepcionais, ante a competência atribuída ao CJF pela Lei 11.798, de 29.10.2008, e a missão a ele cominada pela CF/1988, de supervisionar administrativa e orçamentariamente a Justiça Federal de primeiro e segundo graus, como órgão central do sistema.3. A questão controvertida neste feito está jungida aos termos do artigo 15, III, da Lei 5.010/1966, alterado pela novel Lei 13.876/2019, cuja vigência teve início a partir do dia 1º de janeiro de 2020.4. As causas de natureza previdenciária e aquelas que se referirem a benefícios de natureza pecuniária (Benefício de Prestação Continuada - BPC / Lei Orgânica da Assistência Social - LOAS) são de competência da Justiça Federal. Quando a Comarca de domicílio do segurado estiver localizada a mais de 70 km de Município sede de Vara Federal, contudo, poderão ser processadas e julgadas na Justiça Estadual. Inteligência da novel legislação, com a ressalva de que a delimitação da distância não se fazia presente na redação originária da Lei 5.010/1966.5. In casu, por força da necessidade de estabelecimento de critérios uniformes no tratamento da matéria entre os Tribunais Regionais Federais, o CJF entendeu que a distância deveria ser apurada a partir do deslocamento real, e não em linha reta, conforme tabelas disponíveis em ferramentas de órgãos oficiais, Google Maps ou similares.6. A competência delegada é exceção à regra, não sendo desarrazoado, ineficiente ou ilegal a utilização da distância real de deslocamento em detrimento da distância em linha reta para aferição de distância definida em Lei.7. Trata-se de critério erigido por órgão competente para melhor definir as atividades da administração judiciária, racionalizar as demandas, padronizar a atuação dos Tribunais Federais e garantir o amplo acesso ao jurisdicionado, nos termos da Lei 11.798/2008.8. Recurso a que se nega provimento. OcultarRECURSO EM PROCEDIMENTO DE CONTROLE ADMINISTRATIVO. TRIBUNAL DE JUSTIÇA DO ESTADO DE SÃO PAULO. CONSELHO DA JUSTIÇA FEDERAL. ALTERAÇÃO DA RESOLUÇÃO CJF 603/2021 PELA RESOLUÇÃO CJF 705/2021. LEI 13.876/2019. MODIFICAÇÃO DOS CRITÉRIOS RELACIONADOS À DISTÂNCIA PARA FIXAÇÃO DA COMPETÊNCIA DELEGADA. DESLOCAMENTO REAL EM DETRIMENTO DA MEDIÇÃO RETILÍNEA. ILEGALIDADE. INOCORRÊNCIA. RECURSO IMPROVIDO.1. Procedimento de Controle Administrativo em que se requer a anulação de Resolução editada por Conselho, que modificou a forma de cálculo da distância entre a sede da Comarca Estadual e a Vara Federal, para fins da fixação da competência delegada. 2. O controle de ato do Conselho da Justiça Federal pelo Conselho Nacional de Justiça somente encontra amparo em situações excepcionais, ante a competência atribuída ao CJF pela Lei 11.798, de 29.10.2008, e a missão a ele cominada pela CF/1988, de supervisionar administrativa e orçamentariamente a Justiça Federal de primeiro e segundo graus, como órgão central do sistema.3. A questão controvertida neste feito está jungida aos termos do artigo 15, III, da Lei 5.010/1966, alterado pela novel Lei 13.876/2019, cuja vigência teve início a partir do dia 1º de janeiro de 2020.4. As causas de natureza previdenciária e aquelas que se referirem a benefícios de natureza pecuniária (Benefício de Prestação Continuada - BPC / Lei Orgânica da Assistência Social - LOAS) são de competência da Justiça Federal. Quando a Comarca de domicílio do segurado estiver localizada a mais de 70 km de Município sede de Vara Federal, contudo, poderão ser processadas e julgadas na Justiça Estadual. Inteligência da novel legislação, com a ressalva de que a delimitação da distância não se fazia presente na redação originária da Lei 5.010/1966.5. In casu, por força da necessidade de estabelecimento de critérios uniformes no tratamento da matéria entre os Tribunais Regionais Federais, o CJF entendeu que a distância deveria ser apurada a partir do deslocamento real, e não em linha reta, conforme tabelas disponíveis em ferramentas de órgãos oficiais, Google Maps ou similares.6. A competência delegada é exceção à regra, não sendo desarrazoado, ineficiente ou ilegal a utilização da distância real de deslocamento em detrimento da distância em linha reta para aferição de distância definida em Lei.7. Trata-se de critério erigido por órgão competente para melhor definir as atividades da administração judiciária, racionalizar as demandas, padronizar a atuação dos Tribunais Federais e garantir o amplo acesso ao jurisdicionado, nos termos da Lei 11.798/2008.8. Recurso a que se nega provimento. (CNJ - RA – Recurso Administrativo em PCA - Procedimento de Controle Administrativo - 0008358-46.2021.2.00.0000 - Rel. MÁRIO GOULART MAIA - 361ª Sessão Ordinária - julgado em 06/12/2022 ).'"
      ]
     },
     "execution_count": 7,
     "metadata": {},
     "output_type": "execute_result"
    }
   ],
   "source": [
    "df.Ementa[0]"
   ]
  },
  {
   "cell_type": "code",
   "execution_count": 15,
   "id": "86cba150",
   "metadata": {},
   "outputs": [],
   "source": [
    "df['text'] = df['Sessao'] + ', Classe: '+df['Classe']+ ', Certidão Julgamento: ' + df['CertidaoJulgamento']+ ', Informação Complementar: ' + df['InfoComplementar']"
   ]
  },
  {
   "cell_type": "code",
   "execution_count": 16,
   "id": "3d88eaa5",
   "metadata": {},
   "outputs": [
    {
     "data": {
      "text/plain": [
       "0        361ª Sessão Ordinária, Classe: PCA - Procedime...\n",
       "1        361ª Sessão Ordinária, Classe: PCA - Procedime...\n",
       "2        361ª Sessão Ordinária, Classe: REVDIS - Proces...\n",
       "3        361ª Sessão Ordinária, Classe: ATO - Ato Norma...\n",
       "4        361ª Sessão Ordinária, Classe: ATO - Ato Norma...\n",
       "                               ...                        \n",
       "12009    3, Classe: PAV - Petição Avulsa, Certidão Julg...\n",
       "12010    3, Classe: PAV - Petição Avulsa, Certidão Julg...\n",
       "12011    3, Classe: PP - Pedido de Providências - Conse...\n",
       "12012    3, Classe: PP - Pedido de Providências - Conse...\n",
       "12013    3, Classe: PP - Pedido de Providências - Conse...\n",
       "Name: text, Length: 12014, dtype: object"
      ]
     },
     "execution_count": 16,
     "metadata": {},
     "output_type": "execute_result"
    }
   ],
   "source": [
    "df['text']"
   ]
  },
  {
   "cell_type": "code",
   "execution_count": 24,
   "id": "82e03721",
   "metadata": {},
   "outputs": [
    {
     "data": {
      "text/plain": [
       "'171ª Sessão Ordinária, Classe: PP - Pedido de Providências - Conselheiro, Certidão Julgamento: “O Conselho decidiu, por unanimidade:  I - incluir em pauta o presente procedimento, nos termos do § 1º do artigo 120 do Regimento Interno;  II – não ratificar a liminar, nos termos propostos pelo Relator designado Conselheiro Francisco Falcão. Vencidos os Conselheiros Joaquim Barbosa, Wellington Saraiva, Gilberto Martins, Jefferson Kravchychyn e Jorge Hélio. Ausente, justificadamente, o Conselheiro Bruno Dantas. Declarou impedimento o Conselheiro Sílvio Rocha. Presidiu o julgamento o Conselheiro Joaquim Barbosa. Plenário, 11 de junho de 2013.”, Informação Complementar: Classe VotoEmentaConselheiroVoto Relator(...) Conforme destacado no Relatório, cuida-se de medida cautelar em Pedido de Providências formulado pela Federação Nacional dos Servidores do Judiciário nos Estados – FENAJUD, com pedido liminar, visando a obstar os pagamentos referentes a passivos de valores alegadamente devidos em razão de auxilio alimentação aos magistrados dos Tribunais de Justiça dos Estados. Neste momento processual de cognição sumária, vislumbro a presença dos requisitos autorizadores da concessão de provimento cautelar em alguns procedimentos. O ponto central dos Pedidos de Providência supramencionados diz respeito à possibilidade ou não de pagamento retroativo do benefício indenizatório do auxílio-alimentação. Frise-se o adjetivo “indenizatório”. A esse respeito, especificamente, apesar de tal temática ainda não ter sido enfrentada definitivamente pelo STF, existem inúmeros precedentes no sentido de que verbas que ostentam natureza alimentar não podem ser pagas retroativamente. Isso porque a necessidade fisiológica que fundamenta o direito à percepção de verba de caráter alimentar não se protrai no tempo, de modo que seu pagamento extemporâneo esvazia por completo a utilidade e a legitimidade da medida. Por outro lado, o direito dos juízes à percepção do auxílio alimentação foi pacificado por esta Casa apenas com a publicação da Resolução nº 133/2011. Até então, a possibilidade de acumulação de verbas e vantagens remuneratórias com subsídios de magistrados ainda era extremamente discutida e nebulosa, não obstante alguns Estados, de fato, já ostentarem lei formal a esse respeito, cuja possível incompatibilidade com a LOMAN é tarefa institucional do STF, em controle abstrato de constitucionalidade. Neste ponto, segundo entendo, apresenta-se uma encruzilhada: i) ou a verba teria natureza remuneratória e permitiria o pagamento de passivos não quitados conforme pretendem alguns tribunais, o que, todavia, parece encontrar óbice no regime de pagamento por subsídios, consagrado no § 4º do art. 39 da Constituição (“O membro de Poder, o detentor de mandato eletivo, os Ministros de Estado e os Secretários Estaduais e Municipais serão remunerados exclusivamente por subsídio fixado em parcela única, vedado o acréscimo de qualquer gratificação, adicional, abono, prêmio, verba de representação ou outra espécie remuneratória, obedecido, em qualquer caso, o disposto no art. 37, X e XI”); ou ii) a verba tem natureza indenizatória, prestando-se ao ressarcimento mensal dos magistrados com sua alimentação e de sua família, porém o pagamento só poderia ser prospectivo, jamais retroativo. Embora o tema esteja em aberto no STF, que ainda não julgou o mérito da Ação Direta de Inconstitucionalidade proposta pelo Conselho Federal da Ordem dos Advogados do Brasil contra a Resolução 133/CNJ, a dicção emanada pelo Plenário do CNJ segue a trilha do segundo posicionamento, segundo o qual a verba tem natureza indenizatória. O auxílio-alimentação é verba que possui caráter eminentemente indenizatório, destinada a custear despesas alusivas à alimentação do magistrado que esteja em atividade, daí porque o benefício não poder ser estendido ou incorporado pelos membros na inatividade. Mutatis mutandis é o mesmo que se verifica na hipótese de inadimplemento de alimentos, na qual o rito especial com pedido de prisão só incide sobre as parcelas devidas nos últimos três meses, posto que as prestações vencidas e não pagas durante um período prolongado, quando reclamadas depois, já não mais exercem função alimentar. Na hipótese dos autos eletrônicos, eventuais verbas pagas retroativamente, por não possuírem mais a natureza alimentícia, seriam utilizadas para outras finalidades, desvirtuando a natureza jurídica do auxílio-alimentação, e transfigurando-se em verba claramente remuneratória. Essa só constatação já seria suficiente para caracterizar o fumus boni iuris exigido pela lei processual para a concessão da cautela. Não obstante, nos casos sob análise, chama a atenção o valor global do passivo calculado pelos Tribunais de Justiça brasileiros a título de auxílio-alimentação retroativo a magistrados, que alcança a elevada cifra de R$ 350.456.453,98, dos quais R$ 249.339.998,84 já foram quitados. O risco de lesão irreparável ou de difícil reparação, por outro lado, reside na iminência de pagamentos controvertidos por diversos tribunais brasileiros, com o risco de lesão aos cofres públicos na ordem de R$ 101.045.296,95, que se encontram em processo de quitação. As informações prestadas pelos Tribunais de Justiça podem ser visualizadas na tabela abaixo: (...) Assim, entendo que em alguns dos procedimentos em análise afiguram-se presentes os requisitos cautelares, quais sejam o fumus boni iuris e o periculum in mora, consubstanciados na espécie, respectivamente, pela natureza jurídico-indenizatória do auxílio-alimentação, e pelo risco concreto de quitação do passivo, antes da decisão do Plenário deste Conselho. Em razão do exposto, considerando as condições impostas pela lei processual civil e pelo Regimento Interno do CNJ para a concessão do pleito liminar formulado: a) DEFIRO A MEDIDA DE URGÊNCIA para determinar a suspensão de todos e quaisquer pagamentos referentes a passivos de valores alegadamente devidos em razão de auxilio-alimentação aos magistrados dos Estados da Bahia (PP 2432-65), Pernambuco (PP 2436-05), Roraima (PP 2437-87), Sergipe (PP 2438-72), Espírito Santo (PP 2442-12), Maranhão (PP 2443-94), São Paulo (PP 2645- 71) e Pará (PP 2649-11) até a decisão de mérito dos respectivos procedimentos; b) INDEFIRO A MEDIDA DE URGÊNCIA para os processos que têm como requeridos os Tribunais de Justiça dos Estados do Amapá (PP 2439-57), Mato Grosso do Sul (PP 2444-79), Rio de Janeiro (PP 2447-34), Rondônia (PP 2642- 19), Distrito Federal (PP 2644-86) e Paraná (PP 2650-93), que informaram já terem efetuado todos os pagamentos, ressaltando-se que, na hipótese de sobrevirem valores eventualmente desconhecidos e não pagos, este relator deverá ser comunicado imediatamente; e c) INDEFIRO A MEDIDA DE URGÊNCIA para os processos que têm como requeridos os Tribunais de Justiça dos Estados de Minas Gerais (PPs 2142-50 e 2435-20), Alagoas (PP 2434-35), Amazonas (PP 2440-42), Ceará (2441-27), Piauí (PP 2445-64), Rio Grande do Norte (PP 2448-19), Rio Grande do Sul (PP 2449-04), Goiás (PP 2643-04), Tocantins (PP 2646-56), Acre (PP 2647-41) e Mato Grosso (PP 2648- 26), que informaram que não possuem previsão legal ou processo em andamento visando ao pagamento de auxílio-alimentação retroativo a magistrados, ressaltando-se que, na hipótese de mudança dessa situação, este relator deverá ser comunicado imediatamente. (...)BRUNO DANTAS'"
      ]
     },
     "execution_count": 24,
     "metadata": {},
     "output_type": "execute_result"
    }
   ],
   "source": [
    "df.text[6800]"
   ]
  },
  {
   "cell_type": "code",
   "execution_count": 13,
   "id": "b049f3f2",
   "metadata": {},
   "outputs": [],
   "source": [
    "# Ajuste os caracteres \"\\n\" para justificar\n",
    "#df['text'] = df['text'].str.replace('\\n', ' ')\n",
    "#df['text'] = df['text'].str.replace('\\\\n', ' ')"
   ]
  },
  {
   "cell_type": "code",
   "execution_count": 18,
   "id": "ffda0990",
   "metadata": {},
   "outputs": [],
   "source": [
    "import re"
   ]
  },
  {
   "cell_type": "code",
   "execution_count": 15,
   "id": "d11bb570",
   "metadata": {},
   "outputs": [],
   "source": [
    "def remove_non_breaking_spaces(text):\n",
    "    return text.replace(\"\\xa0\", \" \").strip()"
   ]
  },
  {
   "cell_type": "code",
   "execution_count": 16,
   "id": "3ec562d2",
   "metadata": {},
   "outputs": [],
   "source": [
    "def remove_metadata(text):\n",
    "    text = re.sub(r', Length: \\d+, dtype: object', '', text)\n",
    "    text = str(text).replace(\"nan\", \"\")\n",
    "    return text.strip()"
   ]
  },
  {
   "cell_type": "code",
   "execution_count": 17,
   "id": "b805fbd7",
   "metadata": {},
   "outputs": [],
   "source": [
    "def remove_html_tags(text):\n",
    "    text = str(text)\n",
    "    clean = re.compile('<.*?>')\n",
    "    return re.sub(clean, '', text)"
   ]
  },
  {
   "cell_type": "code",
   "execution_count": 19,
   "id": "2e763d59",
   "metadata": {},
   "outputs": [],
   "source": [
    "def remove_excess_spaces(text):\n",
    "    text = str(text)\n",
    "    return re.sub(r'\\s+', ' ', text).strip()"
   ]
  },
  {
   "cell_type": "code",
   "execution_count": 19,
   "id": "744d664c",
   "metadata": {},
   "outputs": [],
   "source": [
    "def remove_reticencias_nan(text):\n",
    "    text = re.sub(r'\\.\\.\\.', '', text)\n",
    "    text = str(text).replace(\"nan\", \"\")\n",
    "    text = str(text).replace(\"NaN\", \"\")\n",
    "    return text.strip()  # Remove espaços em branco extras\n"
   ]
  },
  {
   "cell_type": "code",
   "execution_count": 20,
   "id": "3e41c3c9",
   "metadata": {},
   "outputs": [],
   "source": [
    "df['text'] = df['text'].apply(remove_non_breaking_spaces)\n",
    "df['text'] = df['text'].apply(remove_html_tags)\n",
    "df['text'] = df['text'].apply(remove_excess_spaces)\n",
    "df['text'] = df['text'].apply(remove_reticencias_nan)\n",
    "df['text'] = df['text'].apply(remove_metadata)"
   ]
  },
  {
   "cell_type": "code",
   "execution_count": 25,
   "id": "b8465f68",
   "metadata": {},
   "outputs": [
    {
     "data": {
      "text/plain": [
       "'361ª Sessão Ordinária, Classe: PCA - Procedimento de Controle Administrativo, Certidão Julgamento: O Conselho, por unanimidade, negou provimento ao recurso, nos termos do voto do Relator. Presidiu o julgamento a Ministra Rosa Weber. Plenário, 6 de dezembro de 2022., Informação Complementar: Classe VotoEmentaConselheiroVoto Convergente[...]é imprescindível que à Lei nº 13.879/2019 seja conferida interpretação teleológica à luz do direito fundamental do acesso à justiça previsto no inciso XXXV do Artigo 5º da Constituição Federal de 1988, promovendo a possibilidade de que a população tenha pleno acesso ao Poder Judiciário, apesar dos inúmeros obstáculos já existentes os quais se apresentam de forma ainda mais acentuada quando se trata das classes menos favorecidas.Registro, ainda, que as normas constitucionais e infraconstitucionais sempre devem ser interpretadas de forma a favorecer o acesso das referidas classes e não o contrário. Pela interpretação do TJSP, tornar-se-ia mais dificultoso o percurso até o Poder Judiciário.Portanto, não merece prosperar o pleito do Estadual paulista, devendo ser mantida a decisão de improcedência do presente Procedimento, por ter o CJF atuado dentro dos limites de sua competência e decidido acertadamente, uniformizando, na Justiça Federal, o critério de medição da distância estabelecida na Lei 13.876/19, para o exercício da competência delegada.MARCOS VINÍCIUS JARDIM RODRIGUES'"
      ]
     },
     "execution_count": 25,
     "metadata": {},
     "output_type": "execute_result"
    }
   ],
   "source": [
    "df.text[0]"
   ]
  },
  {
   "cell_type": "code",
   "execution_count": 26,
   "id": "8f6f694c",
   "metadata": {},
   "outputs": [],
   "source": [
    "import pandas as pd"
   ]
  },
  {
   "cell_type": "code",
   "execution_count": 27,
   "id": "e3846838",
   "metadata": {},
   "outputs": [],
   "source": [
    "jus_cnj_pp = pd.DataFrame()"
   ]
  },
  {
   "cell_type": "code",
   "execution_count": 28,
   "id": "233e2396",
   "metadata": {},
   "outputs": [],
   "source": [
    "jus_cnj_pp['text'] = df['text']"
   ]
  },
  {
   "cell_type": "code",
   "execution_count": 29,
   "id": "e186c7c8",
   "metadata": {},
   "outputs": [
    {
     "data": {
      "text/html": [
       "<div>\n",
       "<style scoped>\n",
       "    .dataframe tbody tr th:only-of-type {\n",
       "        vertical-align: middle;\n",
       "    }\n",
       "\n",
       "    .dataframe tbody tr th {\n",
       "        vertical-align: top;\n",
       "    }\n",
       "\n",
       "    .dataframe thead th {\n",
       "        text-align: right;\n",
       "    }\n",
       "</style>\n",
       "<table border=\"1\" class=\"dataframe\">\n",
       "  <thead>\n",
       "    <tr style=\"text-align: right;\">\n",
       "      <th></th>\n",
       "      <th>text</th>\n",
       "    </tr>\n",
       "  </thead>\n",
       "  <tbody>\n",
       "    <tr>\n",
       "      <th>0</th>\n",
       "      <td>361ª Sessão Ordinária, Classe: PCA - Procedime...</td>\n",
       "    </tr>\n",
       "    <tr>\n",
       "      <th>1</th>\n",
       "      <td>361ª Sessão Ordinária, Classe: PCA - Procedime...</td>\n",
       "    </tr>\n",
       "    <tr>\n",
       "      <th>2</th>\n",
       "      <td>361ª Sessão Ordinária, Classe: REVDIS - Proces...</td>\n",
       "    </tr>\n",
       "    <tr>\n",
       "      <th>3</th>\n",
       "      <td>361ª Sessão Ordinária, Classe: ATO - Ato Norma...</td>\n",
       "    </tr>\n",
       "    <tr>\n",
       "      <th>4</th>\n",
       "      <td>361ª Sessão Ordinária, Classe: ATO - Ato Norma...</td>\n",
       "    </tr>\n",
       "    <tr>\n",
       "      <th>...</th>\n",
       "      <td>...</td>\n",
       "    </tr>\n",
       "    <tr>\n",
       "      <th>12009</th>\n",
       "      <td>3, Classe: PAV - Petição Avulsa, Certidão Julg...</td>\n",
       "    </tr>\n",
       "    <tr>\n",
       "      <th>12010</th>\n",
       "      <td>3, Classe: PAV - Petição Avulsa, Certidão Julg...</td>\n",
       "    </tr>\n",
       "    <tr>\n",
       "      <th>12011</th>\n",
       "      <td>3, Classe: PP - Pedido de Providências - Conse...</td>\n",
       "    </tr>\n",
       "    <tr>\n",
       "      <th>12012</th>\n",
       "      <td>3, Classe: PP - Pedido de Providências - Conse...</td>\n",
       "    </tr>\n",
       "    <tr>\n",
       "      <th>12013</th>\n",
       "      <td>3, Classe: PP - Pedido de Providências - Conse...</td>\n",
       "    </tr>\n",
       "  </tbody>\n",
       "</table>\n",
       "<p>12014 rows × 1 columns</p>\n",
       "</div>"
      ],
      "text/plain": [
       "                                                    text\n",
       "0      361ª Sessão Ordinária, Classe: PCA - Procedime...\n",
       "1      361ª Sessão Ordinária, Classe: PCA - Procedime...\n",
       "2      361ª Sessão Ordinária, Classe: REVDIS - Proces...\n",
       "3      361ª Sessão Ordinária, Classe: ATO - Ato Norma...\n",
       "4      361ª Sessão Ordinária, Classe: ATO - Ato Norma...\n",
       "...                                                  ...\n",
       "12009  3, Classe: PAV - Petição Avulsa, Certidão Julg...\n",
       "12010  3, Classe: PAV - Petição Avulsa, Certidão Julg...\n",
       "12011  3, Classe: PP - Pedido de Providências - Conse...\n",
       "12012  3, Classe: PP - Pedido de Providências - Conse...\n",
       "12013  3, Classe: PP - Pedido de Providências - Conse...\n",
       "\n",
       "[12014 rows x 1 columns]"
      ]
     },
     "execution_count": 29,
     "metadata": {},
     "output_type": "execute_result"
    }
   ],
   "source": [
    "jus_cnj_pp"
   ]
  },
  {
   "cell_type": "code",
   "execution_count": 30,
   "id": "824f02c6",
   "metadata": {},
   "outputs": [
    {
     "data": {
      "text/plain": [
       "'361ª Sessão Ordinária, Classe: ATO - Ato Normativo, Certidão Julgamento: O Conselho decidiu, por unanimidade: I - incluir em pauta o presente procedimento, nos termos do § 1º do artigo 120 do Regimento Interno; II - aprovar a Recomendação, nos termos do voto do Relator. Ausente, circunstancialmente, o Conselheiro Luiz Fernando Bandeira de Mello. Presidiu o julgamento a Ministra Rosa Weber. Plenário, 6 de dezembro de 2022., Informação Complementar: Classe VotoEmentaConselheiro'"
      ]
     },
     "execution_count": 30,
     "metadata": {},
     "output_type": "execute_result"
    }
   ],
   "source": [
    "jus_cnj_pp.text[4]"
   ]
  },
  {
   "cell_type": "code",
   "execution_count": 31,
   "id": "49011a84",
   "metadata": {},
   "outputs": [
    {
     "data": {
      "text/plain": [
       "'361ª Sessão Ordinária, Classe: ATO - Ato Normativo, Certidão Julgamento: O Conselho decidiu, por unanimidade: I - incluir em pauta o presente procedimento, nos termos do § 1º do artigo 120 do Regimento Interno; II - aprovar a Recomendação, nos termos do voto do Relator. Ausente, circunstancialmente, o Conselheiro Luiz Fernando Bandeira de Mello. Presidiu o julgamento a Ministra Rosa Weber. Plenário, 6 de dezembro de 2022., Informação Complementar: Classe VotoEmentaConselheiro'"
      ]
     },
     "execution_count": 31,
     "metadata": {},
     "output_type": "execute_result"
    }
   ],
   "source": [
    "jus_cnj_pp.text[4]"
   ]
  },
  {
   "cell_type": "code",
   "execution_count": 32,
   "id": "3c6ac976",
   "metadata": {},
   "outputs": [],
   "source": [
    "save_to = \"D:\\\\dados-juridicos\\\\pp\\\\\""
   ]
  },
  {
   "cell_type": "code",
   "execution_count": 33,
   "id": "af165bd7",
   "metadata": {},
   "outputs": [],
   "source": [
    "# Salve o dataframe atualizado em um novo arquivo\n",
    "jus_cnj_pp.to_csv(f'{save_to}jus_cnj_pp.csv', index=False)  # Substitua pelo nome desejado para o novo arquivo"
   ]
  },
  {
   "cell_type": "code",
   "execution_count": 34,
   "id": "d5306b3b",
   "metadata": {},
   "outputs": [],
   "source": [
    "df_jus_cnj_pp = pd.read_csv(f'{save_to}jus_cnj_pp.csv')"
   ]
  },
  {
   "cell_type": "code",
   "execution_count": 36,
   "id": "5b8f54f6",
   "metadata": {},
   "outputs": [
    {
     "data": {
      "text/plain": [
       "'358ª Sessão Ordinária, Classe: REVDIS - Processo de Revisão Disciplinar - Conselheiro, Certidão Julgamento: O Conselho, por unanimidade, julgou improcedente a revisão disciplinar, nos termos do voto do Relator. Votou a Presidente. Presidiu o julgamento a Ministra Rosa Weber. Plenário, 18 de outubro de 2022., Informação Complementar: Classe VotoEmentaConselheiro'"
      ]
     },
     "execution_count": 36,
     "metadata": {},
     "output_type": "execute_result"
    }
   ],
   "source": [
    "df_jus_cnj_pp.text[100]"
   ]
  },
  {
   "cell_type": "code",
   "execution_count": 37,
   "id": "b0319126",
   "metadata": {},
   "outputs": [
    {
     "data": {
      "text/plain": [
       "'339ª Sessão Ordinária, Classe: ATO - Ato Normativo, Certidão Julgamento: O Conselho, por unanimidade, aprovou a Resolução, nos termos do voto do Relator. Ausente, circunstancialmente, o Conselheiro Marcos Vinícius Jardim Rodrigues. Ausentes, em razão das vacâncias dos cargos, os representantes do Tribunal Superior do Trabalho, do Tribunal Regional Federal e da Justiça Federal. Presidiu o julgamento o Ministro Luiz Fux. Plenário, 5 de outubro de 2021., Informação Complementar: Classe VotoEmentaConselheiro'"
      ]
     },
     "execution_count": 37,
     "metadata": {},
     "output_type": "execute_result"
    }
   ],
   "source": [
    "df_jus_cnj_pp.text[1000]"
   ]
  }
 ],
 "metadata": {
  "kernelspec": {
   "display_name": "Python 3 (ipykernel)",
   "language": "python",
   "name": "python3"
  },
  "language_info": {
   "codemirror_mode": {
    "name": "ipython",
    "version": 3
   },
   "file_extension": ".py",
   "mimetype": "text/x-python",
   "name": "python",
   "nbconvert_exporter": "python",
   "pygments_lexer": "ipython3",
   "version": "3.11.5"
  }
 },
 "nbformat": 4,
 "nbformat_minor": 5
}
