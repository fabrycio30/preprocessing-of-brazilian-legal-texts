{
 "cells": [
  {
   "cell_type": "code",
   "execution_count": 1,
   "id": "5c5d93de",
   "metadata": {},
   "outputs": [],
   "source": [
    "path = \"D:\\\\dados-juridicos\\\\brutos\\\\menores\\\\\""
   ]
  },
  {
   "cell_type": "code",
   "execution_count": 2,
   "id": "0384af48",
   "metadata": {},
   "outputs": [
    {
     "name": "stderr",
     "output_type": "stream",
     "text": [
      "C:\\Users\\fabry\\AppData\\Roaming\\Python\\Python311\\site-packages\\pandas\\core\\arrays\\masked.py:60: UserWarning: Pandas requires version '1.3.6' or newer of 'bottleneck' (version '1.3.5' currently installed).\n",
      "  from pandas.core import (\n"
     ]
    }
   ],
   "source": [
    "import pandas as pd"
   ]
  },
  {
   "cell_type": "code",
   "execution_count": 3,
   "id": "7d4546bc",
   "metadata": {},
   "outputs": [],
   "source": [
    "colunas = ['Tema','Situação do Tema','Ramo do direito','Assuntos', 'Questão submetida a julgamento', 'Tese Firmada', 'Anotações NUGEPNAC']"
   ]
  },
  {
   "cell_type": "code",
   "execution_count": 5,
   "id": "ce960849",
   "metadata": {},
   "outputs": [
    {
     "data": {
      "text/html": [
       "<div>\n",
       "<style scoped>\n",
       "    .dataframe tbody tr th:only-of-type {\n",
       "        vertical-align: middle;\n",
       "    }\n",
       "\n",
       "    .dataframe tbody tr th {\n",
       "        vertical-align: top;\n",
       "    }\n",
       "\n",
       "    .dataframe thead th {\n",
       "        text-align: right;\n",
       "    }\n",
       "</style>\n",
       "<table border=\"1\" class=\"dataframe\">\n",
       "  <thead>\n",
       "    <tr style=\"text-align: right;\">\n",
       "      <th></th>\n",
       "      <th>Tema</th>\n",
       "      <th>Situação do Tema</th>\n",
       "      <th>Ramo do direito</th>\n",
       "      <th>Assuntos</th>\n",
       "      <th>Questão submetida a julgamento</th>\n",
       "      <th>Tese Firmada</th>\n",
       "      <th>Anotações NUGEPNAC</th>\n",
       "    </tr>\n",
       "  </thead>\n",
       "  <tbody>\n",
       "    <tr>\n",
       "      <th>0</th>\n",
       "      <td>1</td>\n",
       "      <td>Trânsito em Julgado</td>\n",
       "      <td>DIREITO PROCESSUAL CIVIL E DO TRABALHO</td>\n",
       "      <td>(9494) Substituição da Parte, (4718) Cessão de...</td>\n",
       "      <td>Questão referente à necessidade de anuência do...</td>\n",
       "      <td>A substituição processual, no polo ativo da ex...</td>\n",
       "      <td>É possível a sucessão processual do credor (ce...</td>\n",
       "    </tr>\n",
       "    <tr>\n",
       "      <th>1</th>\n",
       "      <td>1</td>\n",
       "      <td>Trânsito em Julgado</td>\n",
       "      <td>DIREITO PROCESSUAL CIVIL E DO TRABALHO</td>\n",
       "      <td>(9494) Substituição da Parte, (4718) Cessão de...</td>\n",
       "      <td>Questão referente à necessidade de anuência do...</td>\n",
       "      <td>A substituição processual, no polo ativo da ex...</td>\n",
       "      <td>É possível a sucessão processual do credor (ce...</td>\n",
       "    </tr>\n",
       "    <tr>\n",
       "      <th>2</th>\n",
       "      <td>2</td>\n",
       "      <td>Trânsito em Julgado</td>\n",
       "      <td>DIREITO PROCESSUAL CIVIL E DO TRABALHO</td>\n",
       "      <td>(4718) Cessão de Crédito, (10672) Precatório, ...</td>\n",
       "      <td>Questão referente à possibilidade de habilitaç...</td>\n",
       "      <td>Comprovada a validade do ato de cessão dos hon...</td>\n",
       "      <td>O cessionário tem legitimidade para se habilit...</td>\n",
       "    </tr>\n",
       "    <tr>\n",
       "      <th>3</th>\n",
       "      <td>3</td>\n",
       "      <td>Trânsito em Julgado</td>\n",
       "      <td>DIREITO ADMINISTRATIVO</td>\n",
       "      <td>(10318) Índice da URV Lei 8.880/1994, (10313) ...</td>\n",
       "      <td>Questão referente à conversão dos vencimentos ...</td>\n",
       "      <td>A imposição ao Estado do Rio Grande do Sul da ...</td>\n",
       "      <td>O Estado somente poderia ser compelido à aplic...</td>\n",
       "    </tr>\n",
       "    <tr>\n",
       "      <th>4</th>\n",
       "      <td>3</td>\n",
       "      <td>Trânsito em Julgado</td>\n",
       "      <td>DIREITO ADMINISTRATIVO</td>\n",
       "      <td>(10318) Índice da URV Lei 8.880/1994, (10313) ...</td>\n",
       "      <td>Questão referente à conversão dos vencimentos ...</td>\n",
       "      <td>A imposição ao Estado do Rio Grande do Sul da ...</td>\n",
       "      <td>O Estado somente poderia ser compelido à aplic...</td>\n",
       "    </tr>\n",
       "    <tr>\n",
       "      <th>...</th>\n",
       "      <td>...</td>\n",
       "      <td>...</td>\n",
       "      <td>...</td>\n",
       "      <td>...</td>\n",
       "      <td>...</td>\n",
       "      <td>...</td>\n",
       "      <td>...</td>\n",
       "    </tr>\n",
       "    <tr>\n",
       "      <th>1768</th>\n",
       "      <td>1154</td>\n",
       "      <td>Afetado</td>\n",
       "      <td>DIREITO PENAL</td>\n",
       "      <td>(287) DIREITO PENAL, (3603) Crimes Previstos n...</td>\n",
       "      <td>Isoladamente consideradas, a natureza e a quan...</td>\n",
       "      <td>-</td>\n",
       "      <td>Dados parcialmente recuperados via sistema Ath...</td>\n",
       "    </tr>\n",
       "    <tr>\n",
       "      <th>1769</th>\n",
       "      <td>1154</td>\n",
       "      <td>Afetado</td>\n",
       "      <td>DIREITO PENAL</td>\n",
       "      <td>(287) DIREITO PENAL, (3603) Crimes Previstos n...</td>\n",
       "      <td>Isoladamente consideradas, a natureza e a quan...</td>\n",
       "      <td>-</td>\n",
       "      <td>Dados parcialmente recuperados via sistema Ath...</td>\n",
       "    </tr>\n",
       "    <tr>\n",
       "      <th>1770</th>\n",
       "      <td>1154</td>\n",
       "      <td>Afetado</td>\n",
       "      <td>DIREITO PENAL</td>\n",
       "      <td>(287) DIREITO PENAL, (3603) Crimes Previstos n...</td>\n",
       "      <td>Isoladamente consideradas, a natureza e a quan...</td>\n",
       "      <td>-</td>\n",
       "      <td>Dados parcialmente recuperados via sistema Ath...</td>\n",
       "    </tr>\n",
       "    <tr>\n",
       "      <th>1771</th>\n",
       "      <td>1155</td>\n",
       "      <td>Afetado</td>\n",
       "      <td>DIREITO PENAL</td>\n",
       "      <td>(287) DIREITO PENAL, (1209) DIREITO PROCESSUAL...</td>\n",
       "      <td>a) Definir se o período em que o apenado cumpr...</td>\n",
       "      <td>-</td>\n",
       "      <td>Dados parcialmente recuperados via sistema Ath...</td>\n",
       "    </tr>\n",
       "    <tr>\n",
       "      <th>1772</th>\n",
       "      <td>1156</td>\n",
       "      <td>Afetado</td>\n",
       "      <td>DIREITO DO CONSUMIDOR</td>\n",
       "      <td>(1156) DIREITO DO CONSUMIDOR, (11864) Irregula...</td>\n",
       "      <td>Definir se a demora na prestação de serviços b...</td>\n",
       "      <td>-</td>\n",
       "      <td>Resp em IRDR n. 5273333.26.2019.8.09.0000/GO (...</td>\n",
       "    </tr>\n",
       "  </tbody>\n",
       "</table>\n",
       "<p>1773 rows × 7 columns</p>\n",
       "</div>"
      ],
      "text/plain": [
       "      Tema     Situação do Tema                         Ramo do direito  \\\n",
       "0        1  Trânsito em Julgado  DIREITO PROCESSUAL CIVIL E DO TRABALHO   \n",
       "1        1  Trânsito em Julgado  DIREITO PROCESSUAL CIVIL E DO TRABALHO   \n",
       "2        2  Trânsito em Julgado  DIREITO PROCESSUAL CIVIL E DO TRABALHO   \n",
       "3        3  Trânsito em Julgado                  DIREITO ADMINISTRATIVO   \n",
       "4        3  Trânsito em Julgado                  DIREITO ADMINISTRATIVO   \n",
       "...    ...                  ...                                     ...   \n",
       "1768  1154              Afetado                           DIREITO PENAL   \n",
       "1769  1154              Afetado                           DIREITO PENAL   \n",
       "1770  1154              Afetado                           DIREITO PENAL   \n",
       "1771  1155              Afetado                           DIREITO PENAL   \n",
       "1772  1156              Afetado                   DIREITO DO CONSUMIDOR   \n",
       "\n",
       "                                               Assuntos  \\\n",
       "0     (9494) Substituição da Parte, (4718) Cessão de...   \n",
       "1     (9494) Substituição da Parte, (4718) Cessão de...   \n",
       "2     (4718) Cessão de Crédito, (10672) Precatório, ...   \n",
       "3     (10318) Índice da URV Lei 8.880/1994, (10313) ...   \n",
       "4     (10318) Índice da URV Lei 8.880/1994, (10313) ...   \n",
       "...                                                 ...   \n",
       "1768  (287) DIREITO PENAL, (3603) Crimes Previstos n...   \n",
       "1769  (287) DIREITO PENAL, (3603) Crimes Previstos n...   \n",
       "1770  (287) DIREITO PENAL, (3603) Crimes Previstos n...   \n",
       "1771  (287) DIREITO PENAL, (1209) DIREITO PROCESSUAL...   \n",
       "1772  (1156) DIREITO DO CONSUMIDOR, (11864) Irregula...   \n",
       "\n",
       "                         Questão submetida a julgamento  \\\n",
       "0     Questão referente à necessidade de anuência do...   \n",
       "1     Questão referente à necessidade de anuência do...   \n",
       "2     Questão referente à possibilidade de habilitaç...   \n",
       "3     Questão referente à conversão dos vencimentos ...   \n",
       "4     Questão referente à conversão dos vencimentos ...   \n",
       "...                                                 ...   \n",
       "1768  Isoladamente consideradas, a natureza e a quan...   \n",
       "1769  Isoladamente consideradas, a natureza e a quan...   \n",
       "1770  Isoladamente consideradas, a natureza e a quan...   \n",
       "1771  a) Definir se o período em que o apenado cumpr...   \n",
       "1772  Definir se a demora na prestação de serviços b...   \n",
       "\n",
       "                                           Tese Firmada  \\\n",
       "0     A substituição processual, no polo ativo da ex...   \n",
       "1     A substituição processual, no polo ativo da ex...   \n",
       "2     Comprovada a validade do ato de cessão dos hon...   \n",
       "3     A imposição ao Estado do Rio Grande do Sul da ...   \n",
       "4     A imposição ao Estado do Rio Grande do Sul da ...   \n",
       "...                                                 ...   \n",
       "1768                                                  -   \n",
       "1769                                                  -   \n",
       "1770                                                  -   \n",
       "1771                                                  -   \n",
       "1772                                                  -   \n",
       "\n",
       "                                     Anotações NUGEPNAC  \n",
       "0     É possível a sucessão processual do credor (ce...  \n",
       "1     É possível a sucessão processual do credor (ce...  \n",
       "2     O cessionário tem legitimidade para se habilit...  \n",
       "3     O Estado somente poderia ser compelido à aplic...  \n",
       "4     O Estado somente poderia ser compelido à aplic...  \n",
       "...                                                 ...  \n",
       "1768  Dados parcialmente recuperados via sistema Ath...  \n",
       "1769  Dados parcialmente recuperados via sistema Ath...  \n",
       "1770  Dados parcialmente recuperados via sistema Ath...  \n",
       "1771  Dados parcialmente recuperados via sistema Ath...  \n",
       "1772  Resp em IRDR n. 5273333.26.2019.8.09.0000/GO (...  \n",
       "\n",
       "[1773 rows x 7 columns]"
      ]
     },
     "execution_count": 5,
     "metadata": {},
     "output_type": "execute_result"
    }
   ],
   "source": [
    "df = pd.read_csv(f'{path}Temas_repetitivos_do_STJ.csv.aspx',delimiter=';', usecols= colunas)\n",
    "df"
   ]
  },
  {
   "cell_type": "code",
   "execution_count": 15,
   "id": "fc013306",
   "metadata": {},
   "outputs": [
    {
     "data": {
      "text/plain": [
       "'1'"
      ]
     },
     "execution_count": 15,
     "metadata": {},
     "output_type": "execute_result"
    }
   ],
   "source": [
    "df['Tema'][0]"
   ]
  },
  {
   "cell_type": "code",
   "execution_count": 14,
   "id": "34cfae66",
   "metadata": {},
   "outputs": [
    {
     "data": {
      "text/plain": [
       "'É possível a sucessão processual do credor (cedente) pelo cessionário, independentemente da anuência do devedor, na hipótese de cessão de crédito oriundo de precatório.'"
      ]
     },
     "execution_count": 14,
     "metadata": {},
     "output_type": "execute_result"
    }
   ],
   "source": [
    "df['Anotações NUGEPNAC'][0]"
   ]
  },
  {
   "cell_type": "code",
   "execution_count": 13,
   "id": "992723d4",
   "metadata": {},
   "outputs": [
    {
     "data": {
      "text/plain": [
       "'A substituição processual, no polo ativo da execução, do exequente originário pelo cessionário dispensa a autorização ou o consentimento do devedor.'"
      ]
     },
     "execution_count": 13,
     "metadata": {},
     "output_type": "execute_result"
    }
   ],
   "source": [
    "df['Tese Firmada'][0]"
   ]
  },
  {
   "cell_type": "code",
   "execution_count": 11,
   "id": "10cb7abd",
   "metadata": {},
   "outputs": [
    {
     "data": {
      "text/plain": [
       "'Questão referente à necessidade de anuência do devedor para substituição processual do polo ativo, decorrente de cessão de crédito, nos autos de ação de execução.'"
      ]
     },
     "execution_count": 11,
     "metadata": {},
     "output_type": "execute_result"
    }
   ],
   "source": [
    "df['Questão submetida a julgamento'][0]"
   ]
  },
  {
   "cell_type": "code",
   "execution_count": 6,
   "id": "481749cf",
   "metadata": {},
   "outputs": [
    {
     "data": {
      "text/plain": [
       "'(9494) Substituição da Parte, (4718) Cessão de Crédito, (10672) Precatório, (8867) Substituição Processual, (8826) DIREITO PROCESSUAL CIVIL E DO TRABALHO'"
      ]
     },
     "execution_count": 6,
     "metadata": {},
     "output_type": "execute_result"
    }
   ],
   "source": [
    "df.Assuntos[0]"
   ]
  },
  {
   "cell_type": "code",
   "execution_count": 16,
   "id": "8d4179f5",
   "metadata": {},
   "outputs": [],
   "source": [
    "df['text'] = 'Tema: '+df['Tema'] + ', Situação do tema: '+ df['Situação do Tema']+', Ramo do direito: ' + df['Ramo do direito'] +', Assuntos: '+ df['Assuntos'] +', Questão submetida a julgamento: ' + df['Questão submetida a julgamento']+ ', Tese firmada: '+ df['Tese Firmada']+', Anotações NUGEPNAC: '+ df['Anotações NUGEPNAC']"
   ]
  },
  {
   "cell_type": "code",
   "execution_count": 6,
   "id": "86cba150",
   "metadata": {},
   "outputs": [],
   "source": [
    "#df['text'] = df['peticao'] + '. Classe: '+ df['tipo']# ', Classe: '+df['Classe']+ ', Certidão Julgamento: ' + df['CertidaoJulgamento']+ ', Informação Complementar: ' + df['InfoComplementar']"
   ]
  },
  {
   "cell_type": "code",
   "execution_count": 17,
   "id": "3d88eaa5",
   "metadata": {},
   "outputs": [
    {
     "data": {
      "text/plain": [
       "0       Tema: 1, Situação do tema: Trânsito em Julgado...\n",
       "1       Tema: 1, Situação do tema: Trânsito em Julgado...\n",
       "2       Tema: 2, Situação do tema: Trânsito em Julgado...\n",
       "3       Tema: 3, Situação do tema: Trânsito em Julgado...\n",
       "4       Tema: 3, Situação do tema: Trânsito em Julgado...\n",
       "                              ...                        \n",
       "1768    Tema: 1154, Situação do tema: Afetado, Ramo do...\n",
       "1769    Tema: 1154, Situação do tema: Afetado, Ramo do...\n",
       "1770    Tema: 1154, Situação do tema: Afetado, Ramo do...\n",
       "1771    Tema: 1155, Situação do tema: Afetado, Ramo do...\n",
       "1772    Tema: 1156, Situação do tema: Afetado, Ramo do...\n",
       "Name: text, Length: 1773, dtype: object"
      ]
     },
     "execution_count": 17,
     "metadata": {},
     "output_type": "execute_result"
    }
   ],
   "source": [
    "df['text']"
   ]
  },
  {
   "cell_type": "code",
   "execution_count": 20,
   "id": "82e03721",
   "metadata": {},
   "outputs": [
    {
     "data": {
      "text/plain": [
       "'Tema: 3, Situação do tema: Trânsito em Julgado, Ramo do direito: DIREITO ADMINISTRATIVO, Assuntos: (10318) Índice da URV Lei 8.880/1994, (10313) Reajustes de Remuneração, Proventos ou Pensão, (10342) Reajuste de Remuneração, Soldo, Proventos ou Pensão, (9985) DIREITO ADMINISTRATIVO E OUTRAS MATÉRIAS DE DIREITO PÚBLICO, Questão submetida a julgamento: Questão referente à conversão dos vencimentos em URV de servidores do Poder Executivo gaúcho, conforme a Lei 8.880/94, deixando-se de considerar os reajustes/antecipações que foram objeto de várias leis estaduaus do Rio Grande do Sul., Tese firmada: A imposição ao Estado do Rio Grande do Sul da conversão das retribuições aos servidores pela URV (Lei 8.880/94), apesar dos reajustes voluntários já concedidos à categoria pelo Governo Gaúcho a pretexto dessa mesma conversão, somente seria cabível se evidenciado algum prejuízo vencimental decorrente daquela antecipação voluntária., Anotações NUGEPNAC: O Estado somente poderia ser compelido à aplicação da URV na conversão da remuneração dos servidores públicos estaduais de Cruzeiro Real para Real se evidenciado prejuízo decorrente dos reajustes aplicados antecipadamente por disposição de lei estadual.'"
      ]
     },
     "execution_count": 20,
     "metadata": {},
     "output_type": "execute_result"
    }
   ],
   "source": [
    "df.text[3]"
   ]
  },
  {
   "cell_type": "code",
   "execution_count": 21,
   "id": "b049f3f2",
   "metadata": {},
   "outputs": [],
   "source": [
    "# Ajuste os caracteres \"\\n\" para justificar\n",
    "df['text'] = df['text'].str.replace('\\n', ' ')\n",
    "df['text'] = df['text'].str.replace('\\\\n', ' ')"
   ]
  },
  {
   "cell_type": "code",
   "execution_count": 23,
   "id": "6db3b79c",
   "metadata": {},
   "outputs": [
    {
     "data": {
      "text/plain": [
       "'Tema: 6, Situação do tema: Trânsito em Julgado, Ramo do direito: DIREITO ADMINISTRATIVO, Assuntos: (10324) Militar, (10342) Reajuste de Remuneração, Soldo, Proventos ou Pensão, (10343) Índice de 28,86% LL 8.622/1993 e 8.627/1993, (9985) DIREITO ADMINISTRATIVO E OUTRAS MATÉRIAS DE DIREITO PÚBLICO, Questão submetida a julgamento: Questão relativa ao reajuste de 28,86%, decorrente das Leis nºs 8.622/93 e 8.627/93, no que pertine à concessão do referido índice aos militares federais., Tese firmada: Os servidores públicos militares, que foram contemplados com reajustes inferiores (concedidos pelas Leis 8.622/1993 e 8.627/1993), têm direito às diferenças entre estes e o índice de 28,86%., Anotações NUGEPNAC: -'"
      ]
     },
     "execution_count": 23,
     "metadata": {},
     "output_type": "execute_result"
    }
   ],
   "source": [
    "df.text[7]"
   ]
  },
  {
   "cell_type": "code",
   "execution_count": 12,
   "id": "ffda0990",
   "metadata": {},
   "outputs": [],
   "source": [
    "import re"
   ]
  },
  {
   "cell_type": "code",
   "execution_count": 13,
   "id": "d11bb570",
   "metadata": {},
   "outputs": [],
   "source": [
    "def remove_non_breaking_spaces(text):\n",
    "    return text.replace(\"\\xa0\", \" \").strip()"
   ]
  },
  {
   "cell_type": "code",
   "execution_count": 14,
   "id": "3ec562d2",
   "metadata": {},
   "outputs": [],
   "source": [
    "def remove_metadata(text):\n",
    "    text = re.sub(r', Length: \\d+, dtype: object', '', text)\n",
    "    text = str(text).replace(\"nan\", \"\")\n",
    "    return text.strip()"
   ]
  },
  {
   "cell_type": "code",
   "execution_count": 15,
   "id": "b805fbd7",
   "metadata": {},
   "outputs": [],
   "source": [
    "def remove_html_tags(text):\n",
    "    text = str(text)\n",
    "    clean = re.compile('<.*?>')\n",
    "    return re.sub(clean, '', text)"
   ]
  },
  {
   "cell_type": "code",
   "execution_count": 16,
   "id": "2e763d59",
   "metadata": {},
   "outputs": [],
   "source": [
    "def remove_excess_spaces(text):\n",
    "    text = str(text)\n",
    "    return re.sub(r'\\s+', ' ', text).strip()"
   ]
  },
  {
   "cell_type": "code",
   "execution_count": 17,
   "id": "744d664c",
   "metadata": {},
   "outputs": [],
   "source": [
    "def remove_reticencias_nan(text):\n",
    "    text = re.sub(r'\\.\\.\\.', '', text)\n",
    "    text = str(text).replace(\"nan\", \"\")\n",
    "    text = str(text).replace(\"NaN\", \"\")\n",
    "    return text.strip()  # Remove espaços em branco extras\n"
   ]
  },
  {
   "cell_type": "code",
   "execution_count": 19,
   "id": "3e41c3c9",
   "metadata": {},
   "outputs": [],
   "source": [
    "#df['text'] = df['text'].apply(remove_non_breaking_spaces)\n",
    "df['text'] = df['text'].apply(remove_html_tags)\n",
    "df['text'] = df['text'].apply(remove_excess_spaces)\n",
    "df['text'] = df['text'].apply(remove_reticencias_nan)\n",
    "df['text'] = df['text'].apply(remove_metadata)"
   ]
  },
  {
   "cell_type": "code",
   "execution_count": 24,
   "id": "b8465f68",
   "metadata": {},
   "outputs": [
    {
     "data": {
      "text/plain": [
       "'Tema: 41, Situação do tema: Trânsito em Julgado, Ramo do direito: DIREITO DO CONSUMIDOR, Assuntos: (6226) Inclusão Indevida em Cadastro de Inadimplentes, (7779) Indenização por Dano Moral, (1156) DIREITO DO CONSUMIDOR, Questão submetida a julgamento: Discute-se sobre indenização por danos morais decorrente de inscrição do nome do devedor nos cadastros de restrição ao crédito com ausência de comunicação prévia, em especial nos casos onde o devedor já possua outras inscrições nos cadastros de devedores., Tese firmada: Da anotação irregular em cadastro de proteção ao crédito, não cabe indenização por dano moral, quando preexistente legítima inscrição, ressalvado o direito ao cancelamento., Anotações NUGEPNAC: A ausência de prévia comunicação ao consumidor da inscrição do seu nome em cadastros de proteção ao crédito, prevista no art. 43, § 2º, do CDC, enseja o direito à compensação por danos morais, <b>salvo quando preexista inscrição desabonadora regularmente realizada.'"
      ]
     },
     "execution_count": 24,
     "metadata": {},
     "output_type": "execute_result"
    }
   ],
   "source": [
    "df.text[45]"
   ]
  },
  {
   "cell_type": "code",
   "execution_count": 25,
   "id": "8f6f694c",
   "metadata": {},
   "outputs": [],
   "source": [
    "import pandas as pd"
   ]
  },
  {
   "cell_type": "code",
   "execution_count": 26,
   "id": "e3846838",
   "metadata": {},
   "outputs": [],
   "source": [
    "temas_repetitivos_stj_pp = pd.DataFrame()"
   ]
  },
  {
   "cell_type": "code",
   "execution_count": 27,
   "id": "233e2396",
   "metadata": {},
   "outputs": [],
   "source": [
    "temas_repetitivos_stj_pp['text'] = df['text']"
   ]
  },
  {
   "cell_type": "code",
   "execution_count": 28,
   "id": "e186c7c8",
   "metadata": {},
   "outputs": [
    {
     "data": {
      "text/html": [
       "<div>\n",
       "<style scoped>\n",
       "    .dataframe tbody tr th:only-of-type {\n",
       "        vertical-align: middle;\n",
       "    }\n",
       "\n",
       "    .dataframe tbody tr th {\n",
       "        vertical-align: top;\n",
       "    }\n",
       "\n",
       "    .dataframe thead th {\n",
       "        text-align: right;\n",
       "    }\n",
       "</style>\n",
       "<table border=\"1\" class=\"dataframe\">\n",
       "  <thead>\n",
       "    <tr style=\"text-align: right;\">\n",
       "      <th></th>\n",
       "      <th>text</th>\n",
       "    </tr>\n",
       "  </thead>\n",
       "  <tbody>\n",
       "    <tr>\n",
       "      <th>0</th>\n",
       "      <td>Tema: 1, Situação do tema: Trânsito em Julgado...</td>\n",
       "    </tr>\n",
       "    <tr>\n",
       "      <th>1</th>\n",
       "      <td>Tema: 1, Situação do tema: Trânsito em Julgado...</td>\n",
       "    </tr>\n",
       "    <tr>\n",
       "      <th>2</th>\n",
       "      <td>Tema: 2, Situação do tema: Trânsito em Julgado...</td>\n",
       "    </tr>\n",
       "    <tr>\n",
       "      <th>3</th>\n",
       "      <td>Tema: 3, Situação do tema: Trânsito em Julgado...</td>\n",
       "    </tr>\n",
       "    <tr>\n",
       "      <th>4</th>\n",
       "      <td>Tema: 3, Situação do tema: Trânsito em Julgado...</td>\n",
       "    </tr>\n",
       "    <tr>\n",
       "      <th>...</th>\n",
       "      <td>...</td>\n",
       "    </tr>\n",
       "    <tr>\n",
       "      <th>1768</th>\n",
       "      <td>Tema: 1154, Situação do tema: Afetado, Ramo do...</td>\n",
       "    </tr>\n",
       "    <tr>\n",
       "      <th>1769</th>\n",
       "      <td>Tema: 1154, Situação do tema: Afetado, Ramo do...</td>\n",
       "    </tr>\n",
       "    <tr>\n",
       "      <th>1770</th>\n",
       "      <td>Tema: 1154, Situação do tema: Afetado, Ramo do...</td>\n",
       "    </tr>\n",
       "    <tr>\n",
       "      <th>1771</th>\n",
       "      <td>Tema: 1155, Situação do tema: Afetado, Ramo do...</td>\n",
       "    </tr>\n",
       "    <tr>\n",
       "      <th>1772</th>\n",
       "      <td>Tema: 1156, Situação do tema: Afetado, Ramo do...</td>\n",
       "    </tr>\n",
       "  </tbody>\n",
       "</table>\n",
       "<p>1773 rows × 1 columns</p>\n",
       "</div>"
      ],
      "text/plain": [
       "                                                   text\n",
       "0     Tema: 1, Situação do tema: Trânsito em Julgado...\n",
       "1     Tema: 1, Situação do tema: Trânsito em Julgado...\n",
       "2     Tema: 2, Situação do tema: Trânsito em Julgado...\n",
       "3     Tema: 3, Situação do tema: Trânsito em Julgado...\n",
       "4     Tema: 3, Situação do tema: Trânsito em Julgado...\n",
       "...                                                 ...\n",
       "1768  Tema: 1154, Situação do tema: Afetado, Ramo do...\n",
       "1769  Tema: 1154, Situação do tema: Afetado, Ramo do...\n",
       "1770  Tema: 1154, Situação do tema: Afetado, Ramo do...\n",
       "1771  Tema: 1155, Situação do tema: Afetado, Ramo do...\n",
       "1772  Tema: 1156, Situação do tema: Afetado, Ramo do...\n",
       "\n",
       "[1773 rows x 1 columns]"
      ]
     },
     "execution_count": 28,
     "metadata": {},
     "output_type": "execute_result"
    }
   ],
   "source": [
    "temas_repetitivos_stj_pp"
   ]
  },
  {
   "cell_type": "code",
   "execution_count": 29,
   "id": "824f02c6",
   "metadata": {},
   "outputs": [
    {
     "data": {
      "text/plain": [
       "'Tema: 3, Situação do tema: Trânsito em Julgado, Ramo do direito: DIREITO ADMINISTRATIVO, Assuntos: (10318) Índice da URV Lei 8.880/1994, (10313) Reajustes de Remuneração, Proventos ou Pensão, (10342) Reajuste de Remuneração, Soldo, Proventos ou Pensão, (9985) DIREITO ADMINISTRATIVO E OUTRAS MATÉRIAS DE DIREITO PÚBLICO, Questão submetida a julgamento: Questão referente à conversão dos vencimentos em URV de servidores do Poder Executivo gaúcho, conforme a Lei 8.880/94, deixando-se de considerar os reajustes/antecipações que foram objeto de várias leis estaduaus do Rio Grande do Sul., Tese firmada: A imposição ao Estado do Rio Grande do Sul da conversão das retribuições aos servidores pela URV (Lei 8.880/94), apesar dos reajustes voluntários já concedidos à categoria pelo Governo Gaúcho a pretexto dessa mesma conversão, somente seria cabível se evidenciado algum prejuízo vencimental decorrente daquela antecipação voluntária., Anotações NUGEPNAC: O Estado somente poderia ser compelido à aplicação da URV na conversão da remuneração dos servidores públicos estaduais de Cruzeiro Real para Real se evidenciado prejuízo decorrente dos reajustes aplicados antecipadamente por disposição de lei estadual.'"
      ]
     },
     "execution_count": 29,
     "metadata": {},
     "output_type": "execute_result"
    }
   ],
   "source": [
    "temas_repetitivos_stj_pp.text[4]"
   ]
  },
  {
   "cell_type": "code",
   "execution_count": 31,
   "id": "49011a84",
   "metadata": {},
   "outputs": [
    {
     "data": {
      "text/plain": [
       "'Tema: 4, Situação do tema: Trânsito em Julgado, Ramo do direito: DIREITO ADMINISTRATIVO, Assuntos: (7699) Juros de Mora - Legais / Contratuais, (7703) Pagamento, (10288) Sistema Remuneratório e Benefícios, (10219) Servidor Público Civil, (9985) DIREITO ADMINISTRATIVO E OUTRAS MATÉRIAS DE DIREITO PÚBLICO, Questão submetida a julgamento: Questão referente ao percentual de juros moratórios devido nas condenações impostas à Fazenda Pública para pagamento de verbas remuneratórias a servidores públicos, nos termos do artigo 1º-F da Lei nº 9.494/97, acrescentado pela Medida Provisória nº 2.180/2001., Tese firmada: O art. 1º-F, da Lei 9.494/97, que fixa os juros moratórios nas ações ajuizadas contra a Fazenda Pública no patamar de 6%, é de ser aplicado tão somente às demandas ajuizadas após a sua entrada em vigor., Anotações NUGEPNAC: São devidos juros moratórios de 6% ao ano em condenação imposta à Fazenda Pública, cuja ação foi ajuizada após a entrada em vigor do art. 1º-F da Lei 9.494/1997.'"
      ]
     },
     "execution_count": 31,
     "metadata": {},
     "output_type": "execute_result"
    }
   ],
   "source": [
    "temas_repetitivos_stj_pp.text[5]"
   ]
  },
  {
   "cell_type": "code",
   "execution_count": 32,
   "id": "3c6ac976",
   "metadata": {},
   "outputs": [],
   "source": [
    "save_to = \"D:\\\\dados-juridicos\\\\pp\\\\\""
   ]
  },
  {
   "cell_type": "code",
   "execution_count": 33,
   "id": "af165bd7",
   "metadata": {},
   "outputs": [],
   "source": [
    "# Salve o dataframe atualizado em um novo arquivo\n",
    "temas_repetitivos_stj_pp.to_csv(f'{save_to}temas_repetitivos_stj_pp.csv', index=False)  # Substitua pelo nome desejado para o novo arquivo"
   ]
  },
  {
   "cell_type": "code",
   "execution_count": 34,
   "id": "d5306b3b",
   "metadata": {},
   "outputs": [],
   "source": [
    "df_temas_repetitivos_stj_pp = pd.read_csv(f'{save_to}temas_repetitivos_stj_pp.csv')"
   ]
  },
  {
   "cell_type": "code",
   "execution_count": 36,
   "id": "5b8f54f6",
   "metadata": {},
   "outputs": [
    {
     "data": {
      "text/plain": [
       "'Tema: 745, Situação do tema: Cancelado, Ramo do direito: DIREITO PROCESSUAL CIVIL E DO TRABALHO, Assuntos: (8826) DIREITO PROCESSUAL CIVIL E DO TRABALHO, (10655) Honorários Advocatícios, Questão submetida a julgamento: Discussão: possibilidade de cumulação dos honorários fixados em embargos do devedor com os arbitrados em sede de execução., Tese firmada: -, Anotações NUGEPNAC: Em cumprimento ao decidido pela Comissão Gestora de Precedentes, designada pelo art. 40, V, do RISTJ, na reunião do dia 4/4/2017, foi alterada a situação do tema para CANCELADO, sem prejuízo de envio pelos tribunais de origem de recursos representativos da controvérsia, a fim de possibilitar uma nova afetação ao rito dos recursos repetitivos.'"
      ]
     },
     "execution_count": 36,
     "metadata": {},
     "output_type": "execute_result"
    }
   ],
   "source": [
    "df_temas_repetitivos_stj_pp.text[1000]"
   ]
  },
  {
   "cell_type": "code",
   "execution_count": 38,
   "id": "b0319126",
   "metadata": {},
   "outputs": [
    {
     "data": {
      "text/plain": [
       "'Tema: 753, Situação do tema: Cancelado, Ramo do direito: DIREITO ADMINISTRATIVO, Assuntos: (9985) DIREITO ADMINISTRATIVO E OUTRAS MATÉRIAS DE DIREITO PÚBLICO, Questão submetida a julgamento: Discussão: <b>natureza jurídica da remuneração dos serviços de</b> água e <b>esgoto</b>, prestados por concessionária de serviço público, se tarifa ou preço público, a influir diretamente no prazo prescricional para a cobrança do crédito., Tese firmada: -, Anotações NUGEPNAC: Questão referente à prescrição da tarifa de esgoto foi apreciada no TEMA 155/STJ.'"
      ]
     },
     "execution_count": 38,
     "metadata": {},
     "output_type": "execute_result"
    }
   ],
   "source": [
    "temas_repetitivos_stj_pp.text[1008]"
   ]
  }
 ],
 "metadata": {
  "kernelspec": {
   "display_name": "Python 3 (ipykernel)",
   "language": "python",
   "name": "python3"
  },
  "language_info": {
   "codemirror_mode": {
    "name": "ipython",
    "version": 3
   },
   "file_extension": ".py",
   "mimetype": "text/x-python",
   "name": "python",
   "nbconvert_exporter": "python",
   "pygments_lexer": "ipython3",
   "version": "3.11.5"
  }
 },
 "nbformat": 4,
 "nbformat_minor": 5
}
