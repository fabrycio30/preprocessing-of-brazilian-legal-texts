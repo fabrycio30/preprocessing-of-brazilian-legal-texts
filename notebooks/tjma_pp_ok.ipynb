{
 "cells": [
  {
   "cell_type": "code",
   "execution_count": 1,
   "id": "5c5d93de",
   "metadata": {},
   "outputs": [],
   "source": [
    "path = \"D:\\\\dados-juridicos\\\\brutos\\\\\""
   ]
  },
  {
   "cell_type": "code",
   "execution_count": 2,
   "id": "0384af48",
   "metadata": {},
   "outputs": [
    {
     "name": "stderr",
     "output_type": "stream",
     "text": [
      "C:\\Users\\fabry\\AppData\\Roaming\\Python\\Python311\\site-packages\\pandas\\core\\arrays\\masked.py:60: UserWarning: Pandas requires version '1.3.6' or newer of 'bottleneck' (version '1.3.5' currently installed).\n",
      "  from pandas.core import (\n"
     ]
    }
   ],
   "source": [
    "import pandas as pd"
   ]
  },
  {
   "cell_type": "code",
   "execution_count": 3,
   "id": "ce960849",
   "metadata": {},
   "outputs": [
    {
     "data": {
      "text/html": [
       "<div>\n",
       "<style scoped>\n",
       "    .dataframe tbody tr th:only-of-type {\n",
       "        vertical-align: middle;\n",
       "    }\n",
       "\n",
       "    .dataframe tbody tr th {\n",
       "        vertical-align: top;\n",
       "    }\n",
       "\n",
       "    .dataframe thead th {\n",
       "        text-align: right;\n",
       "    }\n",
       "</style>\n",
       "<table border=\"1\" class=\"dataframe\">\n",
       "  <thead>\n",
       "    <tr style=\"text-align: right;\">\n",
       "      <th></th>\n",
       "      <th>NUMCOL</th>\n",
       "      <th>strSistema</th>\n",
       "      <th>pkProtocolo</th>\n",
       "      <th>txNumeroAcordao</th>\n",
       "      <th>txAcaoOriginaria</th>\n",
       "      <th>str_especie_ou_classe</th>\n",
       "      <th>txComarca</th>\n",
       "      <th>txEmenta</th>\n",
       "      <th>dtAbertura</th>\n",
       "      <th>fkCamara</th>\n",
       "      <th>dtEmentario</th>\n",
       "      <th>txCamara</th>\n",
       "      <th>fkRelator</th>\n",
       "      <th>txRelator</th>\n",
       "      <th>dtRegistroAcordao</th>\n",
       "      <th>dataAbertura</th>\n",
       "      <th>hash_documento_pje</th>\n",
       "      <th>nome_documento_pje</th>\n",
       "      <th>arquivosAcordao</th>\n",
       "    </tr>\n",
       "  </thead>\n",
       "  <tbody>\n",
       "    <tr>\n",
       "      <th>0</th>\n",
       "      <td>1</td>\n",
       "      <td>Pje2G</td>\n",
       "      <td>0800856-50.2015.8.10.0001</td>\n",
       "      <td>NaN</td>\n",
       "      <td>Não Informado</td>\n",
       "      <td>APELAÇÃO CÍVEL</td>\n",
       "      <td>SãO LUíS</td>\n",
       "      <td>PODER JUDICIÁRIO\\n\\nTRIBUNAL DE JUSTIÇA DO EST...</td>\n",
       "      <td>12/05/2022</td>\n",
       "      <td>18</td>\n",
       "      <td>13/08/2019</td>\n",
       "      <td>4ª Câmara Cível</td>\n",
       "      <td>26906.0</td>\n",
       "      <td>MARIA FRANCISCA GUALBERTO DE GALIZA</td>\n",
       "      <td>13/08/2019</td>\n",
       "      <td>2022-05-12 11:49:16.395</td>\n",
       "      <td>f5607f5e8e410552087caab362940d4577ba1e11</td>\n",
       "      <td>NaN</td>\n",
       "      <td>NaN</td>\n",
       "    </tr>\n",
       "    <tr>\n",
       "      <th>1</th>\n",
       "      <td>2</td>\n",
       "      <td>Pje2G</td>\n",
       "      <td>0802348-75.2018.8.10.0000</td>\n",
       "      <td>NaN</td>\n",
       "      <td>Não Informado</td>\n",
       "      <td>MANDADO DE SEGURANÇA CÍVEL</td>\n",
       "      <td>SãO LUíS</td>\n",
       "      <td>PODER JUDICIÁRIO\\n\\nTRIBUNAL DE JUSTIÇA DO EST...</td>\n",
       "      <td>12/05/2022</td>\n",
       "      <td>14</td>\n",
       "      <td>13/06/2019</td>\n",
       "      <td>Segundas Câmaras Cíveis Reunidas</td>\n",
       "      <td>3954.0</td>\n",
       "      <td>LOURIVAL DE JESUS SEREJO SOUSA</td>\n",
       "      <td>13/06/2019</td>\n",
       "      <td>2022-05-12 11:17:34.68</td>\n",
       "      <td>f568f2173944a677bbdf69890319b18c07635342</td>\n",
       "      <td>NaN</td>\n",
       "      <td>NaN</td>\n",
       "    </tr>\n",
       "    <tr>\n",
       "      <th>2</th>\n",
       "      <td>3</td>\n",
       "      <td>Pje2G</td>\n",
       "      <td>0808207-38.2019.8.10.0000</td>\n",
       "      <td>NaN</td>\n",
       "      <td>Não Informado</td>\n",
       "      <td>MANDADO DE SEGURANÇA CÍVEL</td>\n",
       "      <td>SãO LUíS</td>\n",
       "      <td>PODER JUDICIÁRIO\\n\\nTRIBUNAL DE JUSTIÇA DO EST...</td>\n",
       "      <td>12/05/2022</td>\n",
       "      <td>14</td>\n",
       "      <td>29/05/2020</td>\n",
       "      <td>Segundas Câmaras Cíveis Reunidas</td>\n",
       "      <td>3954.0</td>\n",
       "      <td>LOURIVAL DE JESUS SEREJO SOUSA</td>\n",
       "      <td>29/05/2020</td>\n",
       "      <td>2022-05-12 11:12:40.99</td>\n",
       "      <td>e74839b49216e947326ed627dcab4104f1d24a76</td>\n",
       "      <td>NaN</td>\n",
       "      <td>NaN</td>\n",
       "    </tr>\n",
       "    <tr>\n",
       "      <th>3</th>\n",
       "      <td>4</td>\n",
       "      <td>Pje2G</td>\n",
       "      <td>0806165-84.2017.8.10.0000</td>\n",
       "      <td>NaN</td>\n",
       "      <td>Não Informado</td>\n",
       "      <td>AÇÃO RESCISÓRIA</td>\n",
       "      <td>SãO LUíS</td>\n",
       "      <td>PODER JUDICIÁRIO\\n\\nTRIBUNAL DE JUSTIÇA DO EST...</td>\n",
       "      <td>10/05/2022</td>\n",
       "      <td>14</td>\n",
       "      <td>17/12/2019</td>\n",
       "      <td>Segundas Câmaras Cíveis Reunidas</td>\n",
       "      <td>3954.0</td>\n",
       "      <td>LOURIVAL DE JESUS SEREJO SOUSA</td>\n",
       "      <td>17/12/2019</td>\n",
       "      <td>2022-05-10 11:58:57.009</td>\n",
       "      <td>5f84a93329450ccb3a666cf243482905e6510d7d</td>\n",
       "      <td>NaN</td>\n",
       "      <td>NaN</td>\n",
       "    </tr>\n",
       "    <tr>\n",
       "      <th>4</th>\n",
       "      <td>5</td>\n",
       "      <td>Pje2G</td>\n",
       "      <td>0801359-69.2018.8.10.0000</td>\n",
       "      <td>NaN</td>\n",
       "      <td>Não Informado</td>\n",
       "      <td>AGRAVO DE INSTRUMENTO</td>\n",
       "      <td>SãO LUíS</td>\n",
       "      <td>PODER JUDICIÁRIO\\n\\nTRIBUNAL DE JUSTIÇA DO EST...</td>\n",
       "      <td>10/05/2022</td>\n",
       "      <td>17</td>\n",
       "      <td>02/08/2019</td>\n",
       "      <td>3ª Câmara Cível</td>\n",
       "      <td>3954.0</td>\n",
       "      <td>LOURIVAL DE JESUS SEREJO SOUSA</td>\n",
       "      <td>02/08/2019</td>\n",
       "      <td>2022-05-10 11:16:18.474</td>\n",
       "      <td>f91ec6a0cbd1e0380b7104b665a5fa9cbd1d4e9f</td>\n",
       "      <td>NaN</td>\n",
       "      <td>NaN</td>\n",
       "    </tr>\n",
       "    <tr>\n",
       "      <th>...</th>\n",
       "      <td>...</td>\n",
       "      <td>...</td>\n",
       "      <td>...</td>\n",
       "      <td>...</td>\n",
       "      <td>...</td>\n",
       "      <td>...</td>\n",
       "      <td>...</td>\n",
       "      <td>...</td>\n",
       "      <td>...</td>\n",
       "      <td>...</td>\n",
       "      <td>...</td>\n",
       "      <td>...</td>\n",
       "      <td>...</td>\n",
       "      <td>...</td>\n",
       "      <td>...</td>\n",
       "      <td>...</td>\n",
       "      <td>...</td>\n",
       "      <td>...</td>\n",
       "      <td>...</td>\n",
       "    </tr>\n",
       "    <tr>\n",
       "      <th>4015</th>\n",
       "      <td>1896</td>\n",
       "      <td>Pje2G</td>\n",
       "      <td>0814224-33.2020.8.10.0040</td>\n",
       "      <td>NaN</td>\n",
       "      <td>Não Informado</td>\n",
       "      <td>APELAÇÃO CÍVEL</td>\n",
       "      <td>SãO LUíS</td>\n",
       "      <td>SESSÃO VIRTUAL - De  27/01/2022 a  03/02/2022\\...</td>\n",
       "      <td>10/11/2021</td>\n",
       "      <td>17</td>\n",
       "      <td>14/02/2022</td>\n",
       "      <td>3ª Câmara Cível</td>\n",
       "      <td>11932.0</td>\n",
       "      <td>MARCELINO CHAVES EVERTON</td>\n",
       "      <td>14/02/2022</td>\n",
       "      <td>2021-11-10 10:49:28.113</td>\n",
       "      <td>NaN</td>\n",
       "      <td>NaN</td>\n",
       "      <td>NaN</td>\n",
       "    </tr>\n",
       "    <tr>\n",
       "      <th>4016</th>\n",
       "      <td>1897</td>\n",
       "      <td>Pje2G</td>\n",
       "      <td>0803079-95.2020.8.10.0034</td>\n",
       "      <td>NaN</td>\n",
       "      <td>Não Informado</td>\n",
       "      <td>APELAÇÃO CÍVEL</td>\n",
       "      <td>SãO LUíS</td>\n",
       "      <td>SESSÃO VIRTUAL PERÍODO: 04/04/2022 A 11/04/202...</td>\n",
       "      <td>10/11/2021</td>\n",
       "      <td>26</td>\n",
       "      <td>18/04/2022</td>\n",
       "      <td>Presidência</td>\n",
       "      <td>NaN</td>\n",
       "      <td>NaN</td>\n",
       "      <td>18/04/2022</td>\n",
       "      <td>2021-11-10 10:39:35.229</td>\n",
       "      <td>NaN</td>\n",
       "      <td>NaN</td>\n",
       "      <td>NaN</td>\n",
       "    </tr>\n",
       "    <tr>\n",
       "      <th>4017</th>\n",
       "      <td>1898</td>\n",
       "      <td>Pje2G</td>\n",
       "      <td>0818937-37.2021.8.10.0001</td>\n",
       "      <td>NaN</td>\n",
       "      <td>Não Informado</td>\n",
       "      <td>APELAÇÃO CÍVEL</td>\n",
       "      <td>SãO LUíS</td>\n",
       "      <td>AUTOS:     APELAÇÃO CÍVEL   - 0818937-37.2021....</td>\n",
       "      <td>10/11/2021</td>\n",
       "      <td>17</td>\n",
       "      <td>12/04/2022</td>\n",
       "      <td>3ª Câmara Cível</td>\n",
       "      <td>11932.0</td>\n",
       "      <td>MARCELINO CHAVES EVERTON</td>\n",
       "      <td>12/04/2022</td>\n",
       "      <td>2021-11-10 10:35:47.263</td>\n",
       "      <td>NaN</td>\n",
       "      <td>NaN</td>\n",
       "      <td>NaN</td>\n",
       "    </tr>\n",
       "    <tr>\n",
       "      <th>4018</th>\n",
       "      <td>1899</td>\n",
       "      <td>Pje2G</td>\n",
       "      <td>0808568-98.2021.8.10.0060</td>\n",
       "      <td>NaN</td>\n",
       "      <td>Não Informado</td>\n",
       "      <td>APELAÇÃO CRIMINAL</td>\n",
       "      <td>SãO LUíS</td>\n",
       "      <td>\\n\\n \\n\\n \\n\\nPRIMEIRA CÂMARA CRIMINAL\\n\\nSes...</td>\n",
       "      <td>10/11/2021</td>\n",
       "      <td>20</td>\n",
       "      <td>06/05/2022</td>\n",
       "      <td>1ª Câmara Criminal</td>\n",
       "      <td>16519.0</td>\n",
       "      <td>JOSE JOAQUIM FIGUEIREDO DOS ANJOS</td>\n",
       "      <td>06/05/2022</td>\n",
       "      <td>2021-11-10 10:26:27.928</td>\n",
       "      <td>NaN</td>\n",
       "      <td>NaN</td>\n",
       "      <td>NaN</td>\n",
       "    </tr>\n",
       "    <tr>\n",
       "      <th>4019</th>\n",
       "      <td>1900</td>\n",
       "      <td>Pje2G</td>\n",
       "      <td>0801255-20.2019.8.10.0040</td>\n",
       "      <td>NaN</td>\n",
       "      <td>Não Informado</td>\n",
       "      <td>APELAÇÃO CÍVEL</td>\n",
       "      <td>SãO LUíS</td>\n",
       "      <td>SESSÃO VIRTUAL NO PERÍODO DE 28/03/2022 A 04/0...</td>\n",
       "      <td>10/11/2021</td>\n",
       "      <td>19</td>\n",
       "      <td>11/04/2022</td>\n",
       "      <td>5ª Câmara Cível</td>\n",
       "      <td>16063.0</td>\n",
       "      <td>RAIMUNDO JOSE BARROS DE SOUSA</td>\n",
       "      <td>11/04/2022</td>\n",
       "      <td>2021-11-10 10:14:58.352</td>\n",
       "      <td>NaN</td>\n",
       "      <td>NaN</td>\n",
       "      <td>NaN</td>\n",
       "    </tr>\n",
       "  </tbody>\n",
       "</table>\n",
       "<p>4020 rows × 19 columns</p>\n",
       "</div>"
      ],
      "text/plain": [
       "      NUMCOL strSistema                pkProtocolo  txNumeroAcordao  \\\n",
       "0          1      Pje2G  0800856-50.2015.8.10.0001              NaN   \n",
       "1          2      Pje2G  0802348-75.2018.8.10.0000              NaN   \n",
       "2          3      Pje2G  0808207-38.2019.8.10.0000              NaN   \n",
       "3          4      Pje2G  0806165-84.2017.8.10.0000              NaN   \n",
       "4          5      Pje2G  0801359-69.2018.8.10.0000              NaN   \n",
       "...      ...        ...                        ...              ...   \n",
       "4015    1896      Pje2G  0814224-33.2020.8.10.0040              NaN   \n",
       "4016    1897      Pje2G  0803079-95.2020.8.10.0034              NaN   \n",
       "4017    1898      Pje2G  0818937-37.2021.8.10.0001              NaN   \n",
       "4018    1899      Pje2G  0808568-98.2021.8.10.0060              NaN   \n",
       "4019    1900      Pje2G  0801255-20.2019.8.10.0040              NaN   \n",
       "\n",
       "     txAcaoOriginaria       str_especie_ou_classe txComarca  \\\n",
       "0       Não Informado              APELAÇÃO CÍVEL  SãO LUíS   \n",
       "1       Não Informado  MANDADO DE SEGURANÇA CÍVEL  SãO LUíS   \n",
       "2       Não Informado  MANDADO DE SEGURANÇA CÍVEL  SãO LUíS   \n",
       "3       Não Informado             AÇÃO RESCISÓRIA  SãO LUíS   \n",
       "4       Não Informado       AGRAVO DE INSTRUMENTO  SãO LUíS   \n",
       "...               ...                         ...       ...   \n",
       "4015    Não Informado              APELAÇÃO CÍVEL  SãO LUíS   \n",
       "4016    Não Informado              APELAÇÃO CÍVEL  SãO LUíS   \n",
       "4017    Não Informado              APELAÇÃO CÍVEL  SãO LUíS   \n",
       "4018    Não Informado           APELAÇÃO CRIMINAL  SãO LUíS   \n",
       "4019    Não Informado              APELAÇÃO CÍVEL  SãO LUíS   \n",
       "\n",
       "                                               txEmenta  dtAbertura  fkCamara  \\\n",
       "0     PODER JUDICIÁRIO\\n\\nTRIBUNAL DE JUSTIÇA DO EST...  12/05/2022        18   \n",
       "1     PODER JUDICIÁRIO\\n\\nTRIBUNAL DE JUSTIÇA DO EST...  12/05/2022        14   \n",
       "2     PODER JUDICIÁRIO\\n\\nTRIBUNAL DE JUSTIÇA DO EST...  12/05/2022        14   \n",
       "3     PODER JUDICIÁRIO\\n\\nTRIBUNAL DE JUSTIÇA DO EST...  10/05/2022        14   \n",
       "4     PODER JUDICIÁRIO\\n\\nTRIBUNAL DE JUSTIÇA DO EST...  10/05/2022        17   \n",
       "...                                                 ...         ...       ...   \n",
       "4015  SESSÃO VIRTUAL - De  27/01/2022 a  03/02/2022\\...  10/11/2021        17   \n",
       "4016  SESSÃO VIRTUAL PERÍODO: 04/04/2022 A 11/04/202...  10/11/2021        26   \n",
       "4017  AUTOS:     APELAÇÃO CÍVEL   - 0818937-37.2021....  10/11/2021        17   \n",
       "4018   \\n\\n \\n\\n \\n\\nPRIMEIRA CÂMARA CRIMINAL\\n\\nSes...  10/11/2021        20   \n",
       "4019  SESSÃO VIRTUAL NO PERÍODO DE 28/03/2022 A 04/0...  10/11/2021        19   \n",
       "\n",
       "     dtEmentario                          txCamara  fkRelator  \\\n",
       "0     13/08/2019                   4ª Câmara Cível    26906.0   \n",
       "1     13/06/2019  Segundas Câmaras Cíveis Reunidas     3954.0   \n",
       "2     29/05/2020  Segundas Câmaras Cíveis Reunidas     3954.0   \n",
       "3     17/12/2019  Segundas Câmaras Cíveis Reunidas     3954.0   \n",
       "4     02/08/2019                   3ª Câmara Cível     3954.0   \n",
       "...          ...                               ...        ...   \n",
       "4015  14/02/2022                   3ª Câmara Cível    11932.0   \n",
       "4016  18/04/2022                       Presidência        NaN   \n",
       "4017  12/04/2022                   3ª Câmara Cível    11932.0   \n",
       "4018  06/05/2022                1ª Câmara Criminal    16519.0   \n",
       "4019  11/04/2022                   5ª Câmara Cível    16063.0   \n",
       "\n",
       "                                txRelator dtRegistroAcordao  \\\n",
       "0     MARIA FRANCISCA GUALBERTO DE GALIZA        13/08/2019   \n",
       "1          LOURIVAL DE JESUS SEREJO SOUSA        13/06/2019   \n",
       "2          LOURIVAL DE JESUS SEREJO SOUSA        29/05/2020   \n",
       "3          LOURIVAL DE JESUS SEREJO SOUSA        17/12/2019   \n",
       "4          LOURIVAL DE JESUS SEREJO SOUSA        02/08/2019   \n",
       "...                                   ...               ...   \n",
       "4015             MARCELINO CHAVES EVERTON        14/02/2022   \n",
       "4016                                  NaN        18/04/2022   \n",
       "4017             MARCELINO CHAVES EVERTON        12/04/2022   \n",
       "4018    JOSE JOAQUIM FIGUEIREDO DOS ANJOS        06/05/2022   \n",
       "4019        RAIMUNDO JOSE BARROS DE SOUSA        11/04/2022   \n",
       "\n",
       "                 dataAbertura                        hash_documento_pje  \\\n",
       "0     2022-05-12 11:49:16.395  f5607f5e8e410552087caab362940d4577ba1e11   \n",
       "1      2022-05-12 11:17:34.68  f568f2173944a677bbdf69890319b18c07635342   \n",
       "2      2022-05-12 11:12:40.99  e74839b49216e947326ed627dcab4104f1d24a76   \n",
       "3     2022-05-10 11:58:57.009  5f84a93329450ccb3a666cf243482905e6510d7d   \n",
       "4     2022-05-10 11:16:18.474  f91ec6a0cbd1e0380b7104b665a5fa9cbd1d4e9f   \n",
       "...                       ...                                       ...   \n",
       "4015  2021-11-10 10:49:28.113                                       NaN   \n",
       "4016  2021-11-10 10:39:35.229                                       NaN   \n",
       "4017  2021-11-10 10:35:47.263                                       NaN   \n",
       "4018  2021-11-10 10:26:27.928                                       NaN   \n",
       "4019  2021-11-10 10:14:58.352                                       NaN   \n",
       "\n",
       "      nome_documento_pje arquivosAcordao  \n",
       "0                    NaN             NaN  \n",
       "1                    NaN             NaN  \n",
       "2                    NaN             NaN  \n",
       "3                    NaN             NaN  \n",
       "4                    NaN             NaN  \n",
       "...                  ...             ...  \n",
       "4015                 NaN             NaN  \n",
       "4016                 NaN             NaN  \n",
       "4017                 NaN             NaN  \n",
       "4018                 NaN             NaN  \n",
       "4019                 NaN             NaN  \n",
       "\n",
       "[4020 rows x 19 columns]"
      ]
     },
     "execution_count": 3,
     "metadata": {},
     "output_type": "execute_result"
    }
   ],
   "source": [
    "df = pd.read_csv(f'{path}Jurisprudências do TJMA.csv.aspx')\n",
    "df"
   ]
  },
  {
   "cell_type": "code",
   "execution_count": 4,
   "id": "6cc7b9f1",
   "metadata": {},
   "outputs": [
    {
     "data": {
      "text/plain": [
       "'APELAÇÃO CÍVEL'"
      ]
     },
     "execution_count": 4,
     "metadata": {},
     "output_type": "execute_result"
    }
   ],
   "source": [
    "df.str_especie_ou_classe[0]"
   ]
  },
  {
   "cell_type": "code",
   "execution_count": 5,
   "id": "85945add",
   "metadata": {},
   "outputs": [
    {
     "data": {
      "text/plain": [
       "'PODER JUDICIÁRIO\\n\\nTRIBUNAL DE JUSTIÇA DO ESTADO DO MARANHÃO\\n\\n\\xa0\\n\\nAUTOS: APELAÇÃO CÍVEL - 0800856-50.2015.8.10.0001\\n\\nAPELANTE: ARIANE DE ANDRADE SILVA, DARLEY RODRIGUES DA SILVA, JOANDERSON COSTA DOS SANTOS, RAYMISON BRUNO CAIRES DE LIMA\\n \\nAdvogado do(a) APELANTE: VAGMA SERRA BIRINO - MA6628-A\\nAPELADO: ESTADO DO MARANHAO, FUNDACAO SOUSANDRADE DE APOIO AO DESENVOL DA UFMA\\n\\n REPRESENTANTE: PROCURADORIA GERAL DO ESTADO DO MARANHÃO\\n \\n\\nAdvogados do(a) APELADO: ELZIANE SILVA DE ARAUJO - MA7043-A, LAIS TEREZA ATTA ALMEIDA - MA11636-A, FERNANDA DE CARVALHO BITTENCOURT - MA8020-A\\n\\n\\nRELATOR: JAIME FERREIRA DE ARAUJO\\n\\nÓRGÃO JULGADOR COLEGIADO: 4ª CÂMARA CÍVEL\\n\\n \\n\\n\\n\\n\\n \\n\\nEMENTA\\n\\n \\n\\n\\n\\n\\n \\n\\n\\xa0\\n\\n\\xa0\\n\\nAPELAÇÃO CÍVEL. CONCURSO PARA O CARGO DE SOLDADO COMBATENTE DA POLÍCIA MILITAR. EDITAL 3/2012 – SEGEP. LIMITE DO NÚMERO DE CANDIDATOS PARA A FASE DO TESTE DE APTIDÃO FÍSICA. NOTA DE CORTE. POSSIBILIDADE. NOVAS CONVOCAÇÕES. REDUÇÃO DA NOTA DE CORTE. AUSÊNCIA DE DIREITO. APELANTE NÃO ATINGIU A PONTUAÇÃO. TEORIA DO FATO CONSUMADO. NÃO APLICAÇÃO. RECURSO DESPROVIDO EM DESACORDO COM O PARECER MINISTERIAL. SENTENÇA MANTIDA. \\n\\nI. A cláusula de barreira é uma medida restritiva do edital de concurso público que, fundada em critérios objetivos para aferir o desempenho meritório do candidato, encontra amparo constitucional. Precedente do STF.\\n\\nII. O candidato que não atinge pontuação igual ou superior à nota de corte, não se classifica para a próxima etapa do concurso público.\\n\\nIII. Conquanto tenham ocorrido novas convocações no concurso objeto da lide, os Apelantes não alcançaram a nova nota de corte para prosseguir no certame.\\n\\nIV. - Não é possível a aplicação da teoria do fato consumado, nos casos de acesso aos cargos públicos, conforme entendimento firmado pelo Supremo Tribunal Federal no julgamento, sob o rito da Repercussão Geral, do RE 608482/RN, tema 476; \\n\\nV. Apelo conhecido e desprovido.\\n\\n\\xa0\\n\\nACÓRDÃO\\n\\nVistos, relatados e discutidos estes autos do APELAÇÃO CÍVEL N.º 0800856-50.2015.8.10.0001, em que figuram como Apelantes e Apelados os antes enunciados, \"A QUARTA CÂMARA CÍVEL, POR VOTAÇÃO UNÂNIME E DE ACORDO COM O PARECER DO MINISTÉRIO PÚBLICO MODIFICADO EM BANCA, CONHECEU E NEGOU PROVIMENTO AO RECURSO, NOS TERMOS DO VOTO DO DESEMBARGADOR RELATOR\". \\n\\nParticiparam do julgamento os senhores desembargadores Jaime Ferreira de Araujo, Jamil de Miranda Gedeon Neto e Marcelino Chaves Everton. \\n\\nFuncionou pela Procuradoria Geral de Justiça o Dr. Francisco das Chagas Barros de Sousa\\n\\nSão Luís/MA, 06 de agosto de 2019.\\n\\n \\n\\n\\xa0\\n\\nDesembargador JAIME FERREIRA DE ARAUJO\\n\\n Relator\\n\\n\\xa0\\n'"
      ]
     },
     "execution_count": 5,
     "metadata": {},
     "output_type": "execute_result"
    }
   ],
   "source": [
    "df.txEmenta[0]"
   ]
  },
  {
   "cell_type": "code",
   "execution_count": 6,
   "id": "86cba150",
   "metadata": {},
   "outputs": [],
   "source": [
    "df['text'] = df['str_especie_ou_classe'] + ', Ementa: ' + df['txEmenta']"
   ]
  },
  {
   "cell_type": "code",
   "execution_count": 10,
   "id": "b049f3f2",
   "metadata": {},
   "outputs": [],
   "source": [
    "# Ajuste os caracteres \"\\n\" para justificar\n",
    "df['text'] = df['text'].str.replace('\\n', ' ')\n",
    "df['text'] = df['text'].str.replace('\\\\n', ' ')\n",
    "df['text'] = df['text'].str.replace('\\xa0', ' ')"
   ]
  },
  {
   "cell_type": "code",
   "execution_count": 11,
   "id": "db9b9998",
   "metadata": {},
   "outputs": [
    {
     "data": {
      "text/plain": [
       "'APELAÇÃO CÍVEL, Ementa:                  EMBARGOS DE DECLARAÇÃO NA APELAÇÃO CÍVEL (198) N.°  0850395-14.2017.8.10.0001     EMBARGANTE: MARIA DAS NEVES GOMES CARVALHO       Advogados:  CARLOS THADEU DINIZ OLIVEIRA - MA11507-A, KALLY EDUARDO CORREIA LIMA  NUNES - MA9821-A, THIAGO HENRIQUE DE SOUSA TEIXEIRA - MA10012-A, LUANNA  GEORGIA NASCIMENTO AZEVEDO - MA10560-A, FERNANDA MEDEIROS PESTANA -  MA10551-A    EMBARGADO: ESTADO DO MARANHAO    REPRESENTANTE: PROCURADORIA GERAL DO ESTADO DO MARANHÃO          RELATORA: DESA. MARIA FRANCISCA GUALBERTO DE GALIZA                       EMENTA     PROCESSUAL   CIVIL. EMBARGOS DE DECLARAÇÃO. PROFESSOR. PISO NACIONAL. VINCULAÇÃO DE   REAJUSTE ESTADUAL. ART. 32 DA LEI Nº 9.860/2013.  INCONSTITUCIONALIDADE.  PRECEDENTE DO PLENÁRIO DO TJMA. VÍCIOS PREVISTOS  NO ART. 1.022 DO CPC.  OMISSÃO, CONTRADIÇÃO E ERRO MATERIAL. AUSÊNCIA.  REDISCUSSÃO.  IMPOSSIBILIDADE. REJEIÇÃO.     I.   Não prospera a tese no sentido de que os professores, que já recebem   valor superior ao piso nacional, têm direito, com base no art. 32 da Lei   Estadual nº 9.860/2013, a um reajuste no mesmo percentual em que   reajustado o piso salarial nacional com fundamento na referida lei   federal, tendo em vista que a norma contraria não só o art. 18 da CF,   mas também o art. 61, §1º, II, “a”, da Carta Magna, violando a um   só tempo a iniciativa privativa do Chefe do Poder Executivo de  aumentar  a remuneração dos servidores e a autonomia com que se dotou o  ente  estadual no pacto federativo. Precedente do Plenário do TJMA.     II.   Ausentes os vícios apontados, ante a higidez e a clareza do julgado, e   evidenciado o propósito de rediscutir matérias apreciadas pelo  relator,  os embargos de declaração não merecem ser acolhidos. O mero   inconformismo do embargante em relação ao acórdão embargado, que   contraria seus interesses, não autoriza o manejo dos embargos de   declaração, que exigem a presença de um dos vícios previstos no art.   1.022 do CPC.     III. Embargos de declaração rejeitados.                 ACÓRDÃO     Vistos,  relatados e discutidos os presentes autos, acordam os integrantes da  Quarta Câmara Cível do Tribunal de Justiça do Estado do Maranhão, por  votação unânime em 12 a 19 de abril de 2022 provimento ao Recurso, nos termos do voto da Desembargadora Relatora.     Participaram  do julgamento, além da Relatora, o Senhores Desembargadores José  Gonçalo de Sousa Filho e Marcelo Carvalho Silva (presidente).     Funcionou pela Procuradoria Geral de Justiça o Dr. Francisco das Chagas Barros de Sousa   Sala Virtual das Sessões da Quarta Câmara Cível do Tribunal de Justiça do Estado do Maranhão, em São Luís, nos dias 12 a 19 de abril de 2022.   São Luís, data do sistema.                 Desembargadora MARIA FRANCISCA GUALBERTO DE GALIZA           Relatora                          RELATÓRIO        Trata-se de Embargos de Declaração opostos por MARIA DAS NEVES GOMES CARVALHO,  com pedido de efeitos infringentes, em face do Acórdão proferido por  esta Colenda Quarta Câmara Cível, que por unanimidade, negou provimento  ao Agravo Interno em epígrafe, restando assim ementado, in verbis:  AGRAVO  INTERNO EM APELAÇÃO CÍVEL. PROFESSOR ESTADUAL. PISO NACIONAL. DIREITO  AO PERCENTUAL DE REAJUSTE INEXISTENTE. AGRAVO DESPROVIDO.  I.  O art. 32 da Lei Estadual 9.860/2013, que assegura aos professores  estaduais o reajuste de vencimentos no mesmo percentual do piso  nacional, foi declarado inconstitucional pelo Pleno deste Tribunal, não  havendo falar em direito dos professores ao percentual de reajuste do  piso.  II.  Se o pleito deduzido no recurso não trouxe nenhum argumento ou prova  novos aptos a reformar a decisão monocrática do Relator do recurso,  razão não existe para sua modificação.  III. Agravo Interno conhecido e desprovido.     Na  ocasião, restou mantida a sentença de improcedência proferida pelo  Juízo da 6ª Vara da Fazenda Pública da Comarca de São Luís nos autos da  ação movida em desfavor do Estado do Maranhão.  Nestes  aclaratórios, o(a) embargante aponta a existência de vícios previstos  no art. 1.022 do CPC (omissão, contradição e erro material) no acórdão  embargado, para, na essência, obter a rediscussão e o prequestionamento  das matérias ventiladas em seu agravo interno, notadamente quanto à  aplicação da tese fixada no REsp 1426210/RS em sede de recurso  repetitivo, bem como do art. 32 da Lei Estadual nº 9.860/2013.  É o relatório.       VOTO        Presente  os requisitos de admissibilidade, conheço dos Embargos de Declaração e  passo a apreciar suas razões, admitindo-os, desde já, para efeitos de  prequestionamento, a teor do artigo 1.025 do CPC e das Súmulas nos 98 do STJ e 356 do STF.  Os  Embargos de Declaração só podem ser manejados quando houver, na  decisão, obscuridade, contradição, omissão ou erro material, com o único  objetivo de obter o esclarecimento ou a integração da decisão judicial  impugnada, conforme disposto no art. 1.022 do Novo Código de Processo  Civil. É espécie recursal com o desiderato precípuo e limitado  legalmente à correção de vícios intrínsecos ao decisum recorrido.  No  acórdão embargado, constam, de forma fundamentada, as razões para tal  decisão, não ocorrendo os vícios dignos de correção pela via dos  declaratórios. Assim, observa-se que a ora Embargante objetiva apenas o  reexame da causa com a atribuição de efeitos infringentes ao recurso, o  que é inviável em Embargos de Declaração, vez que os aclaratórios não se  prestam a reapreciar a causa, tampouco a reformar o entendimento  proferido pelo órgão julgador, em razão dos rígidos contornos  processuais desta espécie recursal. Nesse sentido:     EMBARGOS  DE DECLARAÇÃO NO AGRAVO REGIMENTAL NO RECURSO EM MANDADO DE SEGURANÇA.  LAVAGEM DE CAPITAIS. IMPETRAÇÃO CONTRA DECISÃO JUDICIAL. DESTITUIÇÃO DE  ADVOGADA CONSTITUÍDA. ATUAÇÃO TUMULTUÁRIA. OMISSÕES. OBSCURIDADES.  MATÉRIAS NÃO EXAMINADAS NA ORIGEM. SUPRESSÃO DE INSTÂNCIA. NÃO  CABIMENTO. INEXISTÊNCIA DE VÍCIOS NO JULGADO. ACLARATÓRIOS REJEITADOS.  1. A ausência, no acórdão, de quaisquer dos vícios elencados no art. 619  do Código de Processo Penal, torna inviável o acolhimento dos embargos  declaratórios opostos. 2. Não merecem conhecimento as matérias não  apreciadas na origem e sob as quais a parte, embora tenha oposto  embargos declaratórios, não se insurgiu contra a omissão pleiteando a  determinação de integração do recurso naquela instância. Tal intervenção  nesta Corte Superior configuraria indevida prestação jurisdicional em  supressão de instância. 3. Na espécie, inexistem as omissões e  obscuridades apontadas pela defesa, tendo o acórdão embargado apreciado a  insurgência de forma clara e fundamentada, não sendo possível, em  embargos de declaração, rediscutir o entendimento adotado, sequer para  fins de prequestionamento. 4. Não se prestam os embargos de  declaração para discutir matéria nova, que não foi apresentada pela  parte no apelo nobre interposto ou no consequente agravo. 5. Embargos  de declaração rejeitados.(EDcl no RMS 52.007/PR, Rel. Ministro JORGE  MUSSI, QUINTA TURMA, julgado em 19/02/2019, DJe 07/03/2019).     Recordo que “o simples descontentamento com o decisum,  a despeito de legítimo, não tem o condão de tornar cabíveis os embargos  de declaração, que servem ao aprimoramento da decisão, mas não à sua  modificação, que só muito excepcionalmente é admitida” (EDcl no  AgInt no AREsp 1242547/RN, Rel. Ministro LÁZARO GUIMARÃES (desembargador  convocado do TRF 5ª REGIÃO), QUARTA TURMA, julgado em 25/09/2018, DJe  28/09/2018), de modo que, “sem a demonstração das hipóteses de  cabimento, a rejeição dos embargos de declaração é medida que se impõe,  notadamente quando o embargante pretende a rediscussão da questão  controvertida para modificar o provimento anterior” (EDcl no AgRg  nos EDcl no AREsp 1253070/RS, Rel. Ministro JOEL ILAN PACIORNIK, QUINTA  TURMA, julgado em 09/04/2019, DJe 22/04/2019).  Quanto  à alegação de erro material, esta também não merece prosperar. O  referido vício apontado consistiria na interpretação diversa de julgado  do Superior Tribunal de Justiça (RESP 1426210/RS), com o fito de  reconhecer o direito da parte embargante aos reajustes anuais  estabelecidos pela Lei do Piso Nacional do Magistério. Ocorre que a  interpretação de maneira diversa daquela pretendida não caracteriza erro  material.  Reitero,  a partir de precedentes vinculantes exarados pelas Cortes Superiores  (ADI 4167, Rel. Min. JOAQUIM BARBOSA, Tribunal Pleno, julgado em  27/04/2011, DJe 24-08-2011; REsp 1426210/RS, Rel. Ministro GURGEL DE  FARIA, PRIMEIRA SEÇÃO, julgado em 23/11/2016, DJe 09/12/2016), ser  inquestionável a obrigatoriedade de observância, por todos os entes  federativos, do piso nacional fixado para os docentes integrantes da  rede básica de ensino, que, no entanto, refere-se ao cumprimento da  jornada laboral de 40 (quarenta) horas semanais, conforme expressas  disposições da Lei nº 11.738/2008, especificamente em seu art. 2º, caput e §§ 1º e 3º.  Conforme  verificado da análise dos autos, contudo, destaco, novamente, que a  embargante não se desincumbiu do ônus de provar ter ocorrido violação ao  seu direito de receber o vencimento correspondente ao piso nacional do  magistério (art. 373, I, CPC), de modo que não há nos autos prova de que  o Estado do Maranhão vem deixando de cumprir a regra do art. 2º da Lei  Federal 11.738/2008, havendo, inclusive, renúncia das partes à dilação  probatória.  Ademais,  reafirmo que, do cotejo entre a narrativa da petição inicial e as  fichas financeiras juntadas aos autos, vejo que o vencimento  (salário-base) da recorrente não é inferior ao piso nacional  estabelecido pela Lei nº 11.738/2008. Segue julgados do Tribunal de  Justiça do MA sobre o tema:     DIREITO  CONSTITUCIONAL E ADMINISTRATIVO. APELAÇÃO. AÇÃO DE OBRIGAÇÃO DE FAZER  CUMULADA COM COBRANÇA. PISO NACIONAL DE PROFESSORES. LEI FEDERAL Nº  11.738/2008. LEI ESTADUAL Nº 9.860/2013. INCONSTITUCIONALIDADE FORMAL.  VÍCIO DE INICIATIVA. VIOLAÇÃO DO PACTO FEDERATIVO. PRECEDENTE DO  TRIBUNAL DE JUSTIÇA DO MARANHÃO. OBSERVÂNCIA OBRIGATÓRIA. ART. 927, V,  DO CPC. SENTENÇA DE IMPROCEDÊNCIA MANTIDA. APELO CONHECIDO E DESPROVIDO.  UNANIMIDADE. I. Pretensão de condenação do Estado do Maranhão a  proceder aos reajustes de vencimentos em percentuais apurados ao longo  dos anos, com fulcro no disposto no art. 32 da Lei nº 9.860/2013. II. A  questão perpassa pela análise do alcance de aplicabilidade do Piso  Nacional a todos os professores de educação básica regulamentado pela  Lei nº. 11.738/2008 e validade da Lei nº 9.860/2013 (Estatuto e o Plano  de Carreiras, Cargos e Remuneração do Subgrupo Magistério da Educação  Básica do Estado do Maranhão) III. O Tribunal de Justiça do Maranhão na sua composição plena ao apreciar o Mandado de Segurança nº 0800330-81.2018.8.10.0000, de relatoria do Des. Kleber Costa Carvalho, já  se manifestou no sentido de reconhecer a inconstitucionalidade formal  do art. 32 da Lei nº 9.860/2013, por vício de iniciativa, haja vista que  somente o Poder Executivo Estadual tem competência privativa para  criação de lei que importe em aumento de remuneração de servidores, não  sendo possível a iniciativa da Assembleia Legislativa Estadual. IV.  Sentença de improcedência mantida. V. Apelo conhecido e desprovido.  Unanimidade. (APELAÇÃO CÍVEL Nº. 0816817-26.2018.8.10.0001, Rel. Des.  RAIMUNDO JOSÉ BARROS DE SOUSA, Quinta Câmara Cível, julgado em  16/04/2019)     APELAÇÃO  CÍVEL. MAGISTÉRIO. PISO NACIONAL. VALOR MÍNIMO QUE NÃO É ÍNDICE DE  REAJUSTE. I - Não prospera a tese no sentido de que os professores, que  já recebem valor superior ao piso nacional, têm direito, com base no  art. 32 da Lei Estadual nº 9.860/2013, a um reajuste no mesmo percentual  em que reajustado o piso salarial nacional com base na referida lei  federal, tendo em vista que a norma contraria não só o art. 18 da CF,  mas também o art. 61, §1º, II, “a”, da Carta Magna, violando a um só  tempo a iniciativa privativa do chefe do executivo de aumentar a  remuneração dos servidores e a autonomia com que se dotou o ente  estadual no pacto federativo.   (APELAÇÃO CÍVEL Nº  0816961-97.2018.8.10.0001, Rel. Des. JORGE RACHID MUBÁRACK MALUF,  Primeira Câmara Cível, julgado em 28/02/2019)     Assim,  analisando as alegações da Embargante não vislumbro nenhuma omissão,  contradição ou erro material no julgado objeto dos aclaratórios. A  decisão ora atacada restou suficientemente clara ao expor as razões de  seu convencimento.  Cabe  ainda destacar que a produção de decisões divergente da interpretação  uniformizada e normativa egressas do Supremo Tribunal Federal, enquanto  Tribunal de Superposição, revela-se afrontosa à força normativa da  Constituição Federal e ao princípio da máxima efetividade de sua norma,  porque ela conferiu a esse Tribunal Superior o dever de guardar e  uniformizar a jurisdição constitucional, previsto no artigo 102 da CF.  Assim, a postura dos Tribunais Inferiores tem que ser a de valorizar  cada vez mais decisões hierarquicamente superiores, sobretudo as  normativas, com vistas a criar um ambiente de maior segurança jurídica.  Consoante orientação firmada pela 2ª Seção do STJ, “(…) não é cabível a majoração dos honorários recursais no julgamento de Agravo Interno ou de Embargos de Declaração (...)” (Edcl  no AgInt no AREsp 1.667.575/PR, Rel. Ministro Moura Ribeiro, 3ª Turma,  julgado em 1/3/2021), pelo que deixo de aplicá-los.  Com base em todo o exposto, REJEITO os presentes embargos de declaração ,  no sentido de manter inalterados os termos do acórdão ora embargado,  advertindo que caso seja interposto novo recurso com o mesmo fim, será  considerando protelatório e via de consequência aplicado multa de 1% (um  por cento) sobre o valor da causa, nos exatos termos do que dispõe o  art. 1.026,§ 2º do Código de Processo Civil.   É como voto.     Sala Virtual das Sessões da Quarta Câmara Cível do Tribunal de Justiça do Estado do Maranhão, em São Luís, nos dias 12 a 19 de abril de 2022.      São Luís, data do sistema.         Desembargadora MARIA FRANCISCA GUALBERTO DE GALIZA   Relatora     A-6-11 '"
      ]
     },
     "execution_count": 11,
     "metadata": {},
     "output_type": "execute_result"
    }
   ],
   "source": [
    "df['text'][23]"
   ]
  },
  {
   "cell_type": "code",
   "execution_count": 82,
   "id": "900aca8a",
   "metadata": {},
   "outputs": [
    {
     "data": {
      "text/plain": [
       "'0                   APELAÇÃO CÍVEL 1       MANDADO DE SEGURANÇA CÍVEL 2       MANDADO DE SEGURANÇA CÍVEL 3                  AÇÃO RESCISÓRIA 4            AGRAVO DE INSTRUMENTO                    ...             4015                APELAÇÃO CÍVEL 4016                APELAÇÃO CÍVEL 4017                APELAÇÃO CÍVEL 4018             APELAÇÃO CRIMINAL 4019                APELAÇÃO CÍVEL Name: str_especie_ou_classe, Length: 4020, dtype: object, Ementa: 0       PODER JUDICIÁRIO  TRIBUNAL DE JUSTIÇA DO EST... 1       PODER JUDICIÁRIO  TRIBUNAL DE JUSTIÇA DO EST... 2       PODER JUDICIÁRIO  TRIBUNAL DE JUSTIÇA DO EST... 3       PODER JUDICIÁRIO  TRIBUNAL DE JUSTIÇA DO EST... 4       PODER JUDICIÁRIO  TRIBUNAL DE JUSTIÇA DO EST...                               ...                         4015    SESSÃO VIRTUAL - De  27/01/2022 a  03/02/2022\\\\... 4016    SESSÃO VIRTUAL PERÍODO: 04/04/2022 A 11/04/202... 4017    AUTOS:     APELAÇÃO CÍVEL   - 0818937-37.2021.... 4018    \\xa0     \\xa0  PRIMEIRA CÂMARA CRIMINAL  Ses... 4019    SESSÃO VIRTUAL NO PERÍODO DE 28/03/2022 A 04/0... Name: txEmenta, Length: 4020, dtype: object'"
      ]
     },
     "execution_count": 82,
     "metadata": {},
     "output_type": "execute_result"
    }
   ],
   "source": [
    "df['text'][23]"
   ]
  },
  {
   "cell_type": "code",
   "execution_count": 12,
   "id": "ffda0990",
   "metadata": {},
   "outputs": [],
   "source": [
    "import re"
   ]
  },
  {
   "cell_type": "code",
   "execution_count": 13,
   "id": "d11bb570",
   "metadata": {},
   "outputs": [],
   "source": [
    "def remove_non_breaking_spaces(text):\n",
    "    return text.replace(\"\\xa0\", \" \").strip()"
   ]
  },
  {
   "cell_type": "code",
   "execution_count": 14,
   "id": "3ec562d2",
   "metadata": {},
   "outputs": [],
   "source": [
    "def remove_metadata(text):\n",
    "    text = re.sub(r', Length: \\d+, dtype: object', '', text)\n",
    "    text = str(text).replace(\"nan\", \"\")\n",
    "    return text.strip()"
   ]
  },
  {
   "cell_type": "code",
   "execution_count": 15,
   "id": "b805fbd7",
   "metadata": {},
   "outputs": [],
   "source": [
    "def remove_html_tags(text):\n",
    "    text = str(text)\n",
    "    clean = re.compile('<.*?>')\n",
    "    return re.sub(clean, '', text)"
   ]
  },
  {
   "cell_type": "code",
   "execution_count": 16,
   "id": "2e763d59",
   "metadata": {},
   "outputs": [],
   "source": [
    "def remove_excess_spaces(text):\n",
    "    text = str(text)\n",
    "    return re.sub(r'\\s+', ' ', text).strip()"
   ]
  },
  {
   "cell_type": "code",
   "execution_count": 17,
   "id": "744d664c",
   "metadata": {},
   "outputs": [],
   "source": [
    "def remove_reticencias_nan(text):\n",
    "    text = re.sub(r'\\.\\.\\.', '', text)\n",
    "    text = str(text).replace(\"nan\", \"\")\n",
    "    text = str(text).replace(\"NaN\", \"\")\n",
    "    return text.strip()  # Remove espaços em branco extras\n"
   ]
  },
  {
   "cell_type": "code",
   "execution_count": 18,
   "id": "3e41c3c9",
   "metadata": {},
   "outputs": [],
   "source": [
    "df['text'] = df['text'].apply(remove_non_breaking_spaces)\n",
    "df['text'] = df['text'].apply(remove_html_tags)\n",
    "df['text'] = df['text'].apply(remove_excess_spaces)\n",
    "df['text'] = df['text'].apply(remove_reticencias_nan)\n",
    "df['text'] = df['text'].apply(remove_metadata)"
   ]
  },
  {
   "cell_type": "code",
   "execution_count": 19,
   "id": "16d6fa45",
   "metadata": {},
   "outputs": [
    {
     "data": {
      "text/plain": [
       "'AGRAVO DE INSTRUMENTO, Ementa: PODER JUDICIÁRIO TRIBUNAL DE JUSTIÇA DO ESTADO DO MARANHÃO AUTOS: AGRAVO DE INSTRUMENTO - 0803764-44.2019.8.10.0000 AGRAVANTE: PROMOTORIA DE JUSTIÇA DE BOM JARDIM AGRAVADO: FRANCISCO ALVES DE ARAUJO, R L DE FARIAS - ME, ROBERTO LIMA DE FARIAS, NEUDIVAN DE JESUS, AYRTON ALVES DE ARAUJO, ROSSINI DAVEMPORT TAVARES JUNIOR, JOAO BATISTA MELLO FILHO RELATOR SUBSTITUTO: RAIMUNDO JOSÉ BARROS DE SOUSA ÓRGÃO JULGADOR COLEGIADO: 3ª CÂMARA CÍVEL EMENTA AGRAVO DE INSTRUMENTO. AÇÃO CIVIL PÚBLICA POR ATO DE IMPROBIDADE ADMINISTRATIVA. AFASTAMENTO DO PREFEITO. REITERAÇÃO DA CONDUTA ÍMPROBA E INFLUÊNCIA NA INSTRUÇÃO PROCESSUAL. RAZOABILIDADE E TEMPORARIEDADE DA MEDIDA. RECURSO PROVIDO. UNANIMIDADE. I – O art. 20, parágrafo único, da Lei n° 8.429/92, permite seja afastado o agente público para assegurar o bom andamento da instrução processual, situação que resta caracterizada nos autos. II - O Agravado não apresentou documentos e informações requeridas pelo Ministério Público a respeito dos processos licitatórios da Municipalidade, vez que, como provado nos autos, das 18 (dezoito) requisições expedidas, o Recorrido respondeu 15 (quinze) intempestivamente ou com dados insuficientes, bem como não prestou qualquer resposta a 03 (três) expedientes (Identificadores nº. 3489440 e 3488837). III - Após o ajuizamento da demanda, restou instaurado novo procedimento visando investigar a continuidade da locação indiscriminada e ilegal de veículos, cujo pagamento supostamente estaria sendo efetivado pelo próprio Gestor Municipal, ora agravado, conforme Notícia do Fato nº. 131-009/2019. IV - Resta claro nos autos que o Agravado, além de comumente está respondendo por suspeita de improbidade, busca atrasar a atividade probatória do Ministério Público e prejudicar futura instrução processual, vez que, conforme denotam os fatos relatados, sua conduta acaba por impedir acesso a elementos de provas ou mesmo influencia eventuais testemunhas, situação que se enquadra na moldura do art. 20, parágrafo único, da Lei de improbidade e, por consequência, enseja o deferimento da medida de afastamento. V - Agravo de instrumento provido à uimidade. ACÓRDÃO Vistos, relatados e discutidos estes autos, acordam os Excelentíssimos Senhores Desembargadores da Terceira Câmara Cível do Tribunal de Justiça do Estado do Maranhão, à uimidade, em dar provimento ao presente recurso, nos termos do voto do Desembargador Relator Substituto. Participaram do julgamento os Senhores Desembargadores Raimundo José Barros de Sousa, Cleones Carvalho Cunha (Presidente) e Jamil de Miranda Gedeon Neto. Funcionou pela Procuradoria Geral de Justiça a Drª Marilea Campos dos Santos Costa. São Luís, data do sistema. Desembargador Raimundo José Barros de Sousa Relator Substituto RELATÓRIO Trata-se de Agravo de Instrumento, com pedido de efeito suspensivo, interposto pelo Ministério Público Estadual, contra decisão interlocutória prolatada pelo Juízo de Direito da Comarca de Bom Jardim, nos autos da Ação Civil Pública Nª 0800421-46.2018.8.10.0074 proposta em desfavor de Francisco Alves de Araújo e outros, ora agravados. Colhe-se dos autos, que o Ministério Público Estadual propôs Ação Civil Pública por ato de Improbidade Administrativa contra os Agravados, em razão de supostas ilegalidades referentes ao Pregão Presencial nº. 020/2017, no valor de R$ 1.026.618,32 (um milhão e vinte e seis mil e seiscentos e dezoito reais e trinta e dois centavos), realizado pelo Município de Bom Jardim para contratação de aluguel de veículos, que supostamente ocasionou prejuízo ao erário. O Juízo de origem indeferiu a medida de afastamento do agravado Francisco Alves de Araújo do cargo de Prefeito Municipal. Irresignado, o Agravante interpõe o recurso de agravo, pleiteando reforma da decisão combatida, alegando, em síntese, que restaram demonstrados os requisitos legais para a concessão da medida liminar, pois o Gestor Municipal já responde a diversas demandas por improbidade, entretanto, continua praticando atos ímprobos em sua gestão, de forma que sua permanência no cargo prejudicará a instrução processual. Aduz o Recorrente que o acervo documental que instrui a demanda na origem é composto de provas robustas evidenciando as ilegalidades do processo licitatório, bem como descreve o modus operandi do Agravado para realização das fraudes apontadas, o que, no seu entender, é suficiente para decretação da medida de afastamento, nos termos da norma do art. 20 da Lei de Improbidade Administrativa. Sob tais considerações, requer a concessão do efeito suspensivo e, no mérito, o provimento do agravo de instrumento, com a consequente reforma da decisão impugnada. Juntou documentos consoante Identificador nº. 3489440/3487937. A Desembargadora Cleonice Silva Freire indeferiu a suspensividade. Os agravados, apesar de intimados, não ofertaram contrarrazões. O Ministério Público Estadual interpôs agravo interno, que foi julgado improvido pela Colenda Terceira Câmara Cível. A Procuradoria Geral de Justiça, apresentou parecer de Identificador nº. 5341492. É o relatório. VOTO Presentes os pressupostos intrínsecos e extrínsecos de admissibilidade, conheço do Recurso. Conforme relatado, o caso dos autos cinge-se à possibilidade de afastamento do atual Prefeito Municipal de Bom Jardim, em razão de atos reiterados de improbidade administrativa. Assiste razão ao Agravante. Ressalto que a medida de afastamento do agente público de suas funções é prevista expressamente pelo art. 20, parágrafo único, da Lei n° 8.429/92, in verbis: Art. 20. (). Parágrafo único. A autoridade judicial ou administrativa competente poderá determinar o afastamento do agente público do exercício do cargo, emprego ou função, sem prejuízo da remuneração, quando a medida se fizer necessária à instrução processual. Por sua vez, a doutrina estabelece que a medida de afastamento liminar do gestor público “reveste-se de excepcionalidade e só é lícita a sua concessão quando existam, nos autos, provas incontroversas de que sua permanência (no cargo, emprego ou função pública) poderá causar (ou está causando) dano efetivo à instrução processual (apuração do ato de improbidade administrativa que lhe foi imputado)”. No presente caso, com a devida vênia ao entendimento esposado quando do indeferimento da suspensividade, bem como no Acórdão que desproveu o Agravo Interno, entendo que o Ministério Público demonstrou inequivocamente que o Prefeito Municipal de Bom Jardim, ora agravado, está sendo acusado de reiteradamente praticar ato ímprobos, tanto que responde a 05 (cinco) demandas de improbidade administrativa, e tenta obstruir a atividade probatória do Recorrente. Com efeito, o Parquet acostou ao processo fortes indícios de prejuízo ao erário público através da conduta praticada pelo Agravado e os demais requeridos na denominada \"farra de aluguéis de veículos\", porquanto o Pregão nº 020/2017, no expressivo valor de R$ 1.026.618,32 (um milhão e vinte e seis mil e seiscentos e dezoito reais e trinta e dois centavos), visava tão somente regularizar os contratos de aluguéis de veículos já existentes, antes do processo licitatório através do qual se contratou a empresa vencedora. Nesse contexto, observo que o Agravado não apresentou documentos e informações requeridas pelo Ministério Público a respeito dos processos licitatórios da Municipalidade, vez que, como provado nos autos, das 18 (dezoito) requisições expedidas, o Recorrido respondeu 15 (quinze) intempestivamente ou com dados insuficientes, bem como não prestou qualquer resposta a 03 (três) expedientes (Identificadores nº. 3489440 e 3488837). Nesse passo, verifico que o Recorrido suprimiu informações ao Ministério Público, apesar de diversas reiterações, referentes à “lista completa dos veículos locados para a Prefeitura (contendo placa, marca, ano, modelo, condutor, destinação, local onde fica estacionado após o uso); valor do contrato para cada veículo; cópia do contrato; extrato de pagamentos efetuados pelos serviços; nota fiscal dos aluguéis; endereço e telefone dos proprietários dos veículos”. Ademais, mesmo após o ajuizamento da demanda, restou instaurado novo procedimento visando investigar a continuidade da locação indiscriminada e ilegal de veículos, cujo pagamento supostamente estaria sendo efetivado pelo próprio Gestor Municipal, ora agravado, conforme Notícia do Fato nº. 131-009/2019. Assim, resta claro nos autos que o Agravado, além de comumente está respondendo por suspeita de improbidade, busca atrasar a atividade probatória do Ministério Público e prejudicar futura instrução processual, vez que conforme denotam fatos relatados, sua conduta acaba por impedir acesso a elementos de provas ou mesmo influencia eventuais testemunhas, situação que se enquadra na moldura do art. 20, parágrafo único, da Lei de improbidade e, por consequência, enseja o deferimento da medida de afastamento. Nesse sentido: AGRAVO REGIMENTAL. SUSPENSÃO DE LIMINAR. PREFEITO. AÇÃO CAUTELAR. FRAUDE EM LICITAÇÕES. RISCO AO ERÁRIO. AFASTAMENTO DO CARGO. DECISÃO FUNDAMENTADA. QUESTÃO MERITÓRIA. INDEFERIMENTO DO PEDIDO SUSPENSIVO. AGRAVO QUE NÃO INFIRMA A FUNDAMENTAÇÃO DA DECISÃO ATACADA. NEGADO PROVIMENTO. I - A decisão atacada no pedido suspensivo, ao determinar o afastamento cautelar do cargo de prefeito, foi bem fundamentada, explicitando sua necessidade em razão dos fortes indícios de fraude em licitações e consequente desvio de verba pública, situação que poderia agravar-se caso não concedida a medida. II - Não há demonstração de grave lesão a quaisquer dos bens tutelados pela legislação de regência a fundar o pedido suspensivo, encontrando-se as alegações do agravante intrinsecamente ligadas ao próprio mérito da ação originária. III - O agravante não consegue infirmar os fundamentos da decisão agravada. Agravo regimental desprovido. (AgRg na SLS 1.990/CE, Rel. Ministro FRANCISCO FALCÃO, CORTE ESPECIAL, julgado em 06/05/2015, DJe 25/05/2015) AGRAVO REGIMENTAL NA SUSPENSÃO DE LIMINAR E DE SENTENÇA. GRAVE LESÃO À ORDEM PÚBLICA. INEXISTÊNCIA. INDEVIDA UTILIZAÇÃO COMO SUCEDÂNEO RECURSAL. PRAZO DE AFASTAMENTO DE PREFEITO SUPERIOR A 180. PECULIARIDADES CONCRETAS. PEDIDO DE SUSPENSÃO INDEFERIDO. AGRAVO REGIMENTAL DESPROVIDO. I - Na linha da jurisprudência desta Corte, não se admite a utilização do pedido de suspensão exclusivamente no intuito de reformar a decisão atacada, olvidando-se de demonstrar concretamente o grave dano que ela poderia causar à saúde, segurança, economia e ordem públicas. II - Consoante a legislação de regência (v.g. Lei n. 8.437/1992 e n. 12.016/2009) e a jurisprudência deste Superior Tribunal e do c. Pretório Excelso, somente é cabível o pedido de suspensão quando a decisão proferida contra o Poder Público puder provocar grave lesão à ordem, à saúde, à segurança e à economia públicas. III - In casu, o agravante não demonstrou, de modo preciso e cabal, a grave lesão à ordem e à economia pública, sendo insuficiente a mera alegação de que o afastamento cautelar do cargo de prefeito teria o condão de provocar prejuízos ao Poder Público. Precedente do STJ. IV - Não se desconhece o parâmetro temporal de 180 (cento e oitenta) dias concebido como razoável por este eg. Superior Tribunal de Justiça para se manter o afastamento cautelar de prefeito com supedâneo na Lei de Improbidade Administrativa. Todavia, excepcionalmente, as peculiaridades fáticas, como a existência de inúmeras ações por ato de improbidade e fortes indícios de utilização da máquina administrativa para intimidar servidores e prejudicar o andamento das investigações, podem sinalizar a necessidade de alongar o período de afastamento, sendo certo que o juízo natural da causa é, em regra, o mais competente para tanto. V - A suspensão das ações na origem não esvaziam, por si só, a alegação de prejuízo à instrução processual, porquanto, ainda que a marcha procedimental esteja paralisada, mantêm-se intactos o poder requisitório do Ministério Público, que poderá juntar novas informações e documentos a serem posteriormente submetidos ao contraditório, bem assim a possibilidade da prática de atos urgentes pelo Juízo, a fim de evitar dano irreparável, nos termos do art. 266 do CPC. Agravo regimental desprovido. (AgRg na SLS 1.854/ES, Rel. Ministro FELIX FISCHER, CORTE ESPECIAL, julgado em 13/03/2014, DJe 21/03/2014) AGRAVO DE INSTRUMENTO. PROCESSUAL CIVIL. AÇÃO DE IMPROBIDADE ADMINISTRATIVA. DESVIO DE VERBA PÚBLICA. ALICIAMENTO DE TESTEMUNHAS E PRODUÇÃO FRAUDULENTA DE DOCUMENTOS. RISCO PARA INSTRUÇÃO PROCESSUAL. AFASTAMENTO DO CARGO PÚBLICO. DECISÃO RECORRIDA MANTIDA. I - No caso em tela, tem-se que o afastamento cautelar do recorrente do cargo de vereador do município de Bom Jardim/MA, dera-se justamente em prol da instrução processual, que se encontra em pleno desenvolvimento diante dos fatos atribuídos a uma espécie de “associação criminosa”, que visava produzir documentos falsos, com o objetivo de camuflar dados relacionados ao suposto pagamento de servidores públicos, forjando provas (recibos, contra-cheques) em prejuízo da verdade e instrução processual. II – Destarte, o exercício do cargo de vereador pelo recorrente ainda pode, mesmo que indiretamente, prejudicar a instrução processual, sobretudo, diante do relato de testemunhas (servidores) que foram procuradas pelo recorrido com o intuito de falsificar recibos, ou seja, agindo dolosamente para deturpar os fatos, dificultando a produção dos elementos necessários à formação do convencimento judicial. III - Por sua vez, o fato de o agravante exercer um mandato eletivo, com prazo certo de duração, não pode ensejar um adiantamento ou abreviação do trâmite processual, que se encontra em regular curso, afigurando-se pertinente a manutenção da medida constante do parágrafo único do art. 20 da Lei 8.429/92, ante ao sério risco de prejuízo à instrução processual, não havendo que se cogitar de ausência de fundamentação da decisão de 1º Grau, especialmente, diante da ausência de fatos novos que possam modificar o entendimento judicial outrora manifestado. IV - Agravo conhecido e desprovido. (TJMA - Agravo de Instrumento n.º 0808559-93.2019.8.10.0000, Sexta Câmara Cível, relatora Des.ª ANILDES de Jesus Bernardes Chaves CRUZ, ementário em 31/07/2020) AGRAVO DE INSTRUMENTO. PROCESSO CIVIL. AÇÃO CIVIL PÚBLICA EM DEFESA DO PATRIMÔNIO PÚBLICO E POR ATO DE IMPROBIDADE ADMINISTRATIVA COM MEDIDA CAUTELAR DE AFASTAMENTO DO CARGO. DECISÃO DE AFASTAMENTO CAUTELAR DO PREFEITO DEVIDAMENTE FUNDAMENTADA. MANDATO EXPIRADO. PERDA SUPERVENIENTE DO OBJETO. DECISÃO MANTIDA. AGRAVO DE INSTRUMENTO IMPROVIDO. UNANIMIDADE. I. Em reapreciação do pedido de tutela provisória deferido no Plantão Judicial entendi que seria hipótese de indeferimento do efeito suspensivo, eis que os indícios trazidos no procedimento instaurado pelo Ministério Público Estadual demonstraram, ainda em juízo de cognição sumária, pela necessidade de afastamento cautelar do agravante do cargo de Prefeito em razão da contumácia no atraso dos vencimentos dos servidores, muito embora tenha recebido regularmente o repasse dos recursos. II. De outra banda, cumpre asseverar que a decisão de afastamento do prefeito se estendeu até o final do mandato do agravante, ou seja, 31/12/2016, o que já efetivamente ocorreu, de modo que houve a perda superveniente do objeto do presente agravo de instrumento. III. Decisão mantida. IV. Agravo de instrumento conhecido e improvido. Uimidade. (AI 0583822016, Rel. Desembargador(a) RAIMUNDO JOSÉ BARROS DE SOUSA, QUINTA CÂMARA CÍVEL, julgado em 12/06/2017, DJe 19/06/2017) Desta forma, o afastamento do Agravante representa medida de garantia ao resultado útil do processo, em razão do acesso que o cargo ocupado permite ao objeto dos atos de improbidade, de modo a ser reformada, neste ponto, a decisão agravada proferida pelo magistrado de 1º grau. Pelo exposto, arrimado em precedentes, dou provimento ao presente Agravo de Instrumento, para, reformando a decisão de primeiro grau, determinar, pelo prazo de 180 dias, o afastamento imediato do agravado Francisco Alves de Araújo do cargo de Prefeito do Município de Bom Jardim, devendo a Câmara Municipal providenciar, em 48 (quarenta e oito) horas, a posse do Vice-Prefeito, bem como ser oficiado as Instituições Ficeiras a mudança de titularidade do Chefe do Poder Executivo Municipal. É como voto. Tribunal de Justiça do Estado do Maranhão, em São Luís, sessão virtual da Terceira Câmara Cível, realizada no período de 29 de outubro a 05 de novembro de 2020. Desembargador Raimundo José Barros de Sousa Relator Substituto'"
      ]
     },
     "execution_count": 19,
     "metadata": {},
     "output_type": "execute_result"
    }
   ],
   "source": [
    "df['text'][10]"
   ]
  },
  {
   "cell_type": "code",
   "execution_count": 100,
   "id": "ec029781",
   "metadata": {},
   "outputs": [
    {
     "data": {
      "text/plain": [
       "'0 APELAÇÃO CÍVEL 1 MANDADO DE SEGURANÇA CÍVEL 2 MANDADO DE SEGURANÇA CÍVEL 3 AÇÃO RESCISÓRIA 4 AGRAVO DE INSTRUMENTO  4015 APELAÇÃO CÍVEL 4016 APELAÇÃO CÍVEL 4017 APELAÇÃO CÍVEL 4018 APELAÇÃO CRIMINAL 4019 APELAÇÃO CÍVEL Name: str_especie_ou_classe, Ementa: 0 PODER JUDICIÁRIO TRIBUNAL DE JUSTIÇA DO EST 1 PODER JUDICIÁRIO TRIBUNAL DE JUSTIÇA DO EST 2 PODER JUDICIÁRIO TRIBUNAL DE JUSTIÇA DO EST 3 PODER JUDICIÁRIO TRIBUNAL DE JUSTIÇA DO EST 4 PODER JUDICIÁRIO TRIBUNAL DE JUSTIÇA DO EST  4015 SESSÃO VIRTUAL - De 27/01/2022 a 03/02/2022\\\\ 4016 SESSÃO VIRTUAL PERÍODO: 04/04/2022 A 11/04/202 4017 AUTOS: APELAÇÃO CÍVEL - 0818937-37.2021. 4018 PRIMEIRA CÂMARA CRIMINAL Ses 4019 SESSÃO VIRTUAL NO PERÍODO DE 28/03/2022 A 04/0 Name: txEmenta'"
      ]
     },
     "execution_count": 100,
     "metadata": {},
     "output_type": "execute_result"
    }
   ],
   "source": [
    "df['text'][10]"
   ]
  },
  {
   "cell_type": "code",
   "execution_count": 20,
   "id": "8f6f694c",
   "metadata": {},
   "outputs": [],
   "source": [
    "import pandas as pd"
   ]
  },
  {
   "cell_type": "code",
   "execution_count": 21,
   "id": "e3846838",
   "metadata": {},
   "outputs": [],
   "source": [
    "tjma_pp = pd.DataFrame()"
   ]
  },
  {
   "cell_type": "code",
   "execution_count": 22,
   "id": "233e2396",
   "metadata": {},
   "outputs": [],
   "source": [
    "tjma_pp['text'] = df['text']"
   ]
  },
  {
   "cell_type": "code",
   "execution_count": 23,
   "id": "e186c7c8",
   "metadata": {},
   "outputs": [
    {
     "data": {
      "text/html": [
       "<div>\n",
       "<style scoped>\n",
       "    .dataframe tbody tr th:only-of-type {\n",
       "        vertical-align: middle;\n",
       "    }\n",
       "\n",
       "    .dataframe tbody tr th {\n",
       "        vertical-align: top;\n",
       "    }\n",
       "\n",
       "    .dataframe thead th {\n",
       "        text-align: right;\n",
       "    }\n",
       "</style>\n",
       "<table border=\"1\" class=\"dataframe\">\n",
       "  <thead>\n",
       "    <tr style=\"text-align: right;\">\n",
       "      <th></th>\n",
       "      <th>text</th>\n",
       "    </tr>\n",
       "  </thead>\n",
       "  <tbody>\n",
       "    <tr>\n",
       "      <th>0</th>\n",
       "      <td>APELAÇÃO CÍVEL, Ementa: PODER JUDICIÁRIO TRIBU...</td>\n",
       "    </tr>\n",
       "    <tr>\n",
       "      <th>1</th>\n",
       "      <td>MANDADO DE SEGURANÇA CÍVEL, Ementa: PODER JUDI...</td>\n",
       "    </tr>\n",
       "    <tr>\n",
       "      <th>2</th>\n",
       "      <td>MANDADO DE SEGURANÇA CÍVEL, Ementa: PODER JUDI...</td>\n",
       "    </tr>\n",
       "    <tr>\n",
       "      <th>3</th>\n",
       "      <td>AÇÃO RESCISÓRIA, Ementa: PODER JUDICIÁRIO TRIB...</td>\n",
       "    </tr>\n",
       "    <tr>\n",
       "      <th>4</th>\n",
       "      <td>AGRAVO DE INSTRUMENTO, Ementa: PODER JUDICIÁRI...</td>\n",
       "    </tr>\n",
       "    <tr>\n",
       "      <th>...</th>\n",
       "      <td>...</td>\n",
       "    </tr>\n",
       "    <tr>\n",
       "      <th>4015</th>\n",
       "      <td>APELAÇÃO CÍVEL, Ementa: SESSÃO VIRTUAL - De 27...</td>\n",
       "    </tr>\n",
       "    <tr>\n",
       "      <th>4016</th>\n",
       "      <td>APELAÇÃO CÍVEL, Ementa: SESSÃO VIRTUAL PERÍODO...</td>\n",
       "    </tr>\n",
       "    <tr>\n",
       "      <th>4017</th>\n",
       "      <td>APELAÇÃO CÍVEL, Ementa: AUTOS: APELAÇÃO CÍVEL ...</td>\n",
       "    </tr>\n",
       "    <tr>\n",
       "      <th>4018</th>\n",
       "      <td>APELAÇÃO CRIMINAL, Ementa: PRIMEIRA CÂMARA CRI...</td>\n",
       "    </tr>\n",
       "    <tr>\n",
       "      <th>4019</th>\n",
       "      <td>APELAÇÃO CÍVEL, Ementa: SESSÃO VIRTUAL NO PERÍ...</td>\n",
       "    </tr>\n",
       "  </tbody>\n",
       "</table>\n",
       "<p>4020 rows × 1 columns</p>\n",
       "</div>"
      ],
      "text/plain": [
       "                                                   text\n",
       "0     APELAÇÃO CÍVEL, Ementa: PODER JUDICIÁRIO TRIBU...\n",
       "1     MANDADO DE SEGURANÇA CÍVEL, Ementa: PODER JUDI...\n",
       "2     MANDADO DE SEGURANÇA CÍVEL, Ementa: PODER JUDI...\n",
       "3     AÇÃO RESCISÓRIA, Ementa: PODER JUDICIÁRIO TRIB...\n",
       "4     AGRAVO DE INSTRUMENTO, Ementa: PODER JUDICIÁRI...\n",
       "...                                                 ...\n",
       "4015  APELAÇÃO CÍVEL, Ementa: SESSÃO VIRTUAL - De 27...\n",
       "4016  APELAÇÃO CÍVEL, Ementa: SESSÃO VIRTUAL PERÍODO...\n",
       "4017  APELAÇÃO CÍVEL, Ementa: AUTOS: APELAÇÃO CÍVEL ...\n",
       "4018  APELAÇÃO CRIMINAL, Ementa: PRIMEIRA CÂMARA CRI...\n",
       "4019  APELAÇÃO CÍVEL, Ementa: SESSÃO VIRTUAL NO PERÍ...\n",
       "\n",
       "[4020 rows x 1 columns]"
      ]
     },
     "execution_count": 23,
     "metadata": {},
     "output_type": "execute_result"
    }
   ],
   "source": [
    "tjma_pp"
   ]
  },
  {
   "cell_type": "code",
   "execution_count": 24,
   "id": "645750e5",
   "metadata": {},
   "outputs": [
    {
     "data": {
      "text/plain": [
       "'AGRAVO DE INSTRUMENTO, Ementa: PODER JUDICIÁRIO TRIBUNAL DE JUSTIÇA DO ESTADO DO MARANHÃO AUTOS: AGRAVO DE INSTRUMENTO - 0801359-69.2018.8.10.0000 AGRAVANTE: ASSOCIACAO BRASILEIRA DE PROVEDORES DE INTERNET E TELECOMUNICACOES Advogados do(a) AGRAVANTE: GUSTAVO DE MELO FRANCO TORRES E GONCALVES - MG128526, PAULO HENRIQUE DA SILVA VITOR - MG106662 AGRAVADO: ESTADO DO MARANHAO RELATOR: CLEONICE SILVA FREIRE ÓRGÃO JULGADOR COLEGIADO: 3ª CÂMARA CÍVEL EMENTA AGRAVO INTERNO EM AGRAVO DE INSTRUMENTO. SUSPENSIVIDADE INDEFERIDA. COBRANÇA DE ICMS. PROVEDORES DE INTERNET. MEDIDA SATISFATIVA CONTRA FAZENDA PÚBLICA. VEDAÇÃO LEGAL. RECURSO IMPROVIDO. UNANIMIDADE. I – Quando do indeferimento da suspensividade, ainda em análise perfunctória, restou consignado inexistir a fumaça do bom direito no presente caso, porquanto a documentação apresentada não evidencia cabalmente o direito vindicado pela Agravante, vez que pode vir a ser refutada na instrução probatória, que certamente ocorrerá durante o processamento da demanda, em razão da complexidade da matéria, a qual exige conhecimentos extrajurídicos, afetos a prestação dos serviços de telecomunicações e provimento de internet. II – Ademais, o caso dos autos se enquadra nas hipóteses de vedação de antecipação de tutela contra a Fazenda Pública, consignadas, dentre outros dispositivos, no art. 1º, §§ 3º, da Lei nº. 8.437/92, de forma que o magistrado a quo não poderia, em sede de tutela provisória, suspender a cobrança do ICMS pois a medida, inegavelmente, esgota o objeto da demanda. III - De acordo com os precedentes da Câmara, deve ser mantida a decisão recorrida quando o Agravo Interno não traz em suas razões qualquer argumento capaz de modificar o entendimento já firmado anteriormente, mas, tão somente, repete o que foi suscitado anteriormente. IV – Agravo Interno improvido à uimidade. ACÓRDÃO Vistos, relatados e discutidos estes autos, acordam os Excelentíssimos Senhores Desembargadores da Terceira Câmara Cível do Tribunal de Justiça do Estado do Maranhão, à uimidade e de acordo com o parecer do Ministério Público, em negar provimento ao recurso, nos termos do voto da Desembargadora Relatora. Votaram os Senhores Desembargadores Cleonice Silva Freire, Jamil de Miranda Gedeon Neto (Presidente) e Cleones Carvalho Cunha. Funcionou pela Procuradoria-Geral de Justiça a Dra. Themis Maria Pacheco de Carvalho. São Luís, 25 de julho de 2019. Des.ª Cleonice Silva Freire Relatora RELATÓRIO Trata-se de Agravo Interno, interposto por Associação Brasileira de Provedores de Internet e Telecomunicações, contra decisão unipessoal desta Relatoria, que indeferiu a suspensividade vindicada no Agravo de Instrumento interposto contra decisão do Juízo de Direito da 5ª Vara da Fazenda Pública do Termo de São Luís da Comarca da Ilha, nos autos da Ação Declaratória proposta contra Estado do Maranhão, ora agravado Colhe-se dos autos, que a Agravante propôs a demanda na origem alegando que o Estado do Maranhão, para “contornar”a incidência da Súmula 334 do STJ, tem tratado os “serviços de internet” ou “serviços de internet banda larga” como se fossem exclusivamente constituídos de serviços de telecomunicações, desprezando-se a necessária parcela dos serviços de provimento de acesso à internet (serviços de valor adicionado) dela integrante e, por conseguinte, cobra o ICMS referente a atividade de seus associados. Assim, pleiteou a concessão de tutela provisória de urgência, objetivando a suspensão de toda e qualquer exigência de ICMS em desfavor de suas associadas, que incidam sobre os “serviços de provimento de conexão” (serviço de valor adicionado – SVA), parcela que compõe o chamado “serviço de internet. O Juízo de origem indeferiu a tutela de urgência, sob entendimento de não restarem satisfeitos os requisitos exigidos no art. 300 do CPC. Inconformado, a Agravante, em síntese, suscita que seu direito é manifesto, porquanto acostou ao processo, na origem, farta documentação relativa a atos da ANATEL, que comprovam que os serviços de internet são compostos de duas espécies de serviço: o serviço de comunicação propriamente dito (SCM) e (ii) o serviço de conexão à internet (SCI). Aduz que o artigo 97-A, §1º, do RICMS do Estado do Maranhão expressamente comprova a indevida exigência do ICMS sobre os serviços de internet por considerá-los como modalidade de serviço de telecomunicação, de forma que atividade tributária do Agravado viola o enunciado da Súmula 334 do STJ. Suscita que o perigo da demora também é evidente, pois seus associados estarão sujeitos a execução fiscal e as deletérias consequências que decorrem deste tipo de demanda. Afirma, por fim, não haver risco de irreversibilidade da medida. Sob esses argumentos, pleiteia o efeito suspensivo, e no mérito, requer o provimento do agravo com todas as suas consequências. Juntou documentos de Identificador nº. 1629688/1629696. Indeferida a liminar, a Agravante interpõe o presente recurso, repisando os argumentos ventilados na inicial, em especial quanto a presença do fumus boni iuris do direito alegado, em face da Súmula 334 do STJ. Sob tais consideração requer o provimento do agravo interno. O Estado do Maranhão, em suas contrarrazões, pugna pelo improvimento do recurso. É o relatório. VOTO Satisfeitos os requisitos de admissibilidade, conheço do recurso. Segundo dispõe o art. 539 do Regimento Interno desta Corte, o relator do Agravo Interno poderá reconsiderar a decisão agravada ou submeter o recurso a julgamento do órgão julgador, in verbis: Art. 539. O agravo interno, cabível nas hipóteses do art. 1.021 do Código de 130 Processo Civil, será processado nos próprios autos e dirigido ao prolator da decisão agravada que, após assegurar o contraditório, poderá retratar-se ou levar o recurso a julgamento pelo órgão colegiado. No presente caso, todavia, após reanálise do decisum recorrido, verifico não ter razões para reconsiderar a decisão agravada, razão pela qual submeto o presente recurso à apreciação deste Órgão Colegiado. Pois bem. Inicialmente, convém frisar que o vertente Agravo não trouxe nenhuma razão apta a ensejar a reforma da decisão agravada, razão porque repiso os argumentos nela exarados. Quando do indeferimento da liminar, assentei, ainda em análise perfunctória, inexistir a fumaça do bom direito no presente caso, porquanto a documentação apresentada não evidencia cabalmente o direito vindicado pela Agravante, vez que pode vir a ser refutada na instrução probatória, que certamente ocorrerá durante o processamento da demanda, devido à complexidade da matéria, a qual exige conhecimentos extrajurídicos, afetos a prestação dos serviços de telecomunicações e provedores de internet. Ademais, o caso dos autos se enquadra nas hipóteses de vedação de antecipação de tutela contra a Fazenda Pública, consignadas, dentre outros dispositivos, no art. 1º, §§ 3º, da Lei nº. 8.437/92, in verbis: §3° Não será cabível medida liminar que esgote, no todo ou em qualquer parte, o objeto da ação. Assim, o magistrado a quo não poderia, em sede de tutela provisória, suspender a cobrança do ICMS pois a medida, inegavelmente, esgota o objeto da demanda. Nesse sentido: AGRAVO DE INSTRUMENTO. MANDADO DE SEGURANÇA. CONCESSÃO DE LIMINAR SATISFATIVA IMPOSSIBILIDADE FAZENDA PÚBLICA. EMPRESA INABILITADA EM PROCESSO LICITATÓRIO PREGÃO. AUSÊNCIA DE APRESENTAÇÃO DE CERTIDÃO EXIGIDA NO EDITAL. DECISÃO REFORMADA. LIMINAR REVOGADA. (…). IV - Por outro lado, conforme destacado na decisão que deferiu o efeito suspensivo, a liminar questionada, nos termos deferido, esgota o objeto da ação mandamental, possuindo portanto natureza satisfativa, contrariando, assim a legislação que veda a concessão de liminares de cunho satisfativa contra a Fazenda Pública. V – Agravo conhecido e provido. (TJMA – AI 0800014-05.2017.8.10.0000, relator Des. Raimundo José Barros de Sousa, DJe 11/05/2017). Desse modo, em olhar inicial, não visualizo elementos para suspensão da decisão do Juízo a quo, o que enseja o indeferimento da liminar pleiteada. Registro, ademais, ser despicienda a análise do periculum in mora, pois a presença de ambos os requisitos cumulados, é indispensável para concessão da medida, o que não se observa no caso dos autos. Finalmente, de acordo com os precedentes da Câmara, deve ser mantida a decisão recorrida quando o Agravo Interno não traz em suas razões qualquer argumento capaz de modificar o entendimento já firmado anteriormente, mas, tão somente, repete o que foi suscitado na peça inicial. Ante o exposto, nego provimento ao presente Agravo Interno, submetendo a apreciação da decisão recorrida ao Colegiado da Terceira Câmara Cível. É como voto. Sala das Sessões da Terceira Câmara Cível do Tribunal de Justiça do Estado do Maranhão, em São Luís, 25 de julho de 2019. Desª. Cleonice Silva Freire Relatora'"
      ]
     },
     "execution_count": 24,
     "metadata": {},
     "output_type": "execute_result"
    }
   ],
   "source": [
    "tjma_pp.text[4]"
   ]
  },
  {
   "cell_type": "code",
   "execution_count": 105,
   "id": "3891974a",
   "metadata": {},
   "outputs": [
    {
     "data": {
      "text/plain": [
       "'0 APELAÇÃO CÍVEL 1 MANDADO DE SEGURANÇA CÍVEL 2 MANDADO DE SEGURANÇA CÍVEL 3 AÇÃO RESCISÓRIA 4 AGRAVO DE INSTRUMENTO  4015 APELAÇÃO CÍVEL 4016 APELAÇÃO CÍVEL 4017 APELAÇÃO CÍVEL 4018 APELAÇÃO CRIMINAL 4019 APELAÇÃO CÍVEL Name: str_especie_ou_classe, Ementa: 0 PODER JUDICIÁRIO TRIBUNAL DE JUSTIÇA DO EST 1 PODER JUDICIÁRIO TRIBUNAL DE JUSTIÇA DO EST 2 PODER JUDICIÁRIO TRIBUNAL DE JUSTIÇA DO EST 3 PODER JUDICIÁRIO TRIBUNAL DE JUSTIÇA DO EST 4 PODER JUDICIÁRIO TRIBUNAL DE JUSTIÇA DO EST  4015 SESSÃO VIRTUAL - De 27/01/2022 a 03/02/2022\\\\ 4016 SESSÃO VIRTUAL PERÍODO: 04/04/2022 A 11/04/202 4017 AUTOS: APELAÇÃO CÍVEL - 0818937-37.2021. 4018 PRIMEIRA CÂMARA CRIMINAL Ses 4019 SESSÃO VIRTUAL NO PERÍODO DE 28/03/2022 A 04/0 Name: txEmenta'"
      ]
     },
     "execution_count": 105,
     "metadata": {},
     "output_type": "execute_result"
    }
   ],
   "source": [
    "tjma_pp.text[4]"
   ]
  },
  {
   "cell_type": "code",
   "execution_count": 25,
   "id": "3c6ac976",
   "metadata": {},
   "outputs": [],
   "source": [
    "save_to = \"D:\\\\dados-juridicos\\\\pp\\\\\""
   ]
  },
  {
   "cell_type": "code",
   "execution_count": 26,
   "id": "af165bd7",
   "metadata": {},
   "outputs": [],
   "source": [
    "# Salve o dataframe atualizado em um novo arquivo\n",
    "tjma_pp.to_csv(f'{save_to}tjma_pp.csv', index=False)  # Substitua pelo nome desejado para o novo arquivo"
   ]
  },
  {
   "cell_type": "code",
   "execution_count": 27,
   "id": "9756884f",
   "metadata": {},
   "outputs": [],
   "source": [
    "df_tjma_pp = pd.read_csv(f'{save_to}tjma_pp.csv')"
   ]
  },
  {
   "cell_type": "code",
   "execution_count": 29,
   "id": "b0319126",
   "metadata": {},
   "outputs": [
    {
     "data": {
      "text/plain": [
       "'APELAÇÃO CÍVEL, Ementa: EMBARGOS DE DECLARAÇÃO NA APELAÇÃO CÍVEL (198) N.° 0850395-14.2017.8.10.0001 EMBARGANTE: MARIA DAS NEVES GOMES CARVALHO Advogados: CARLOS THADEU DINIZ OLIVEIRA - MA11507-A, KALLY EDUARDO CORREIA LIMA NUNES - MA9821-A, THIAGO HENRIQUE DE SOUSA TEIXEIRA - MA10012-A, LUANNA GEORGIA NASCIMENTO AZEVEDO - MA10560-A, FERNANDA MEDEIROS PESTANA - MA10551-A EMBARGADO: ESTADO DO MARANHAO REPRESENTANTE: PROCURADORIA GERAL DO ESTADO DO MARANHÃO RELATORA: DESA. MARIA FRANCISCA GUALBERTO DE GALIZA EMENTA PROCESSUAL CIVIL. EMBARGOS DE DECLARAÇÃO. PROFESSOR. PISO NACIONAL. VINCULAÇÃO DE REAJUSTE ESTADUAL. ART. 32 DA LEI Nº 9.860/2013. INCONSTITUCIONALIDADE. PRECEDENTE DO PLENÁRIO DO TJMA. VÍCIOS PREVISTOS NO ART. 1.022 DO CPC. OMISSÃO, CONTRADIÇÃO E ERRO MATERIAL. AUSÊNCIA. REDISCUSSÃO. IMPOSSIBILIDADE. REJEIÇÃO. I. Não prospera a tese no sentido de que os professores, que já recebem valor superior ao piso nacional, têm direito, com base no art. 32 da Lei Estadual nº 9.860/2013, a um reajuste no mesmo percentual em que reajustado o piso salarial nacional com fundamento na referida lei federal, tendo em vista que a norma contraria não só o art. 18 da CF, mas também o art. 61, §1º, II, “a”, da Carta Magna, violando a um só tempo a iniciativa privativa do Chefe do Poder Executivo de aumentar a remuneração dos servidores e a autonomia com que se dotou o ente estadual no pacto federativo. Precedente do Plenário do TJMA. II. Ausentes os vícios apontados, ante a higidez e a clareza do julgado, e evidenciado o propósito de rediscutir matérias apreciadas pelo relator, os embargos de declaração não merecem ser acolhidos. O mero inconformismo do embargante em relação ao acórdão embargado, que contraria seus interesses, não autoriza o manejo dos embargos de declaração, que exigem a presença de um dos vícios previstos no art. 1.022 do CPC. III. Embargos de declaração rejeitados. ACÓRDÃO Vistos, relatados e discutidos os presentes autos, acordam os integrantes da Quarta Câmara Cível do Tribunal de Justiça do Estado do Maranhão, por votação unânime em 12 a 19 de abril de 2022 provimento ao Recurso, nos termos do voto da Desembargadora Relatora. Participaram do julgamento, além da Relatora, o Senhores Desembargadores José Gonçalo de Sousa Filho e Marcelo Carvalho Silva (presidente). Funcionou pela Procuradoria Geral de Justiça o Dr. Francisco das Chagas Barros de Sousa Sala Virtual das Sessões da Quarta Câmara Cível do Tribunal de Justiça do Estado do Maranhão, em São Luís, nos dias 12 a 19 de abril de 2022. São Luís, data do sistema. Desembargadora MARIA FRANCISCA GUALBERTO DE GALIZA Relatora RELATÓRIO Trata-se de Embargos de Declaração opostos por MARIA DAS NEVES GOMES CARVALHO, com pedido de efeitos infringentes, em face do Acórdão proferido por esta Colenda Quarta Câmara Cível, que por uimidade, negou provimento ao Agravo Interno em epígrafe, restando assim ementado, in verbis: AGRAVO INTERNO EM APELAÇÃO CÍVEL. PROFESSOR ESTADUAL. PISO NACIONAL. DIREITO AO PERCENTUAL DE REAJUSTE INEXISTENTE. AGRAVO DESPROVIDO. I. O art. 32 da Lei Estadual 9.860/2013, que assegura aos professores estaduais o reajuste de vencimentos no mesmo percentual do piso nacional, foi declarado inconstitucional pelo Pleno deste Tribunal, não havendo falar em direito dos professores ao percentual de reajuste do piso. II. Se o pleito deduzido no recurso não trouxe nenhum argumento ou prova novos aptos a reformar a decisão monocrática do Relator do recurso, razão não existe para sua modificação. III. Agravo Interno conhecido e desprovido. Na ocasião, restou mantida a sentença de improcedência proferida pelo Juízo da 6ª Vara da Fazenda Pública da Comarca de São Luís nos autos da ação movida em desfavor do Estado do Maranhão. Nestes aclaratórios, o(a) embargante aponta a existência de vícios previstos no art. 1.022 do CPC (omissão, contradição e erro material) no acórdão embargado, para, na essência, obter a rediscussão e o prequestionamento das matérias ventiladas em seu agravo interno, notadamente quanto à aplicação da tese fixada no REsp 1426210/RS em sede de recurso repetitivo, bem como do art. 32 da Lei Estadual nº 9.860/2013. É o relatório. VOTO Presente os requisitos de admissibilidade, conheço dos Embargos de Declaração e passo a apreciar suas razões, admitindo-os, desde já, para efeitos de prequestionamento, a teor do artigo 1.025 do CPC e das Súmulas nos 98 do STJ e 356 do STF. Os Embargos de Declaração só podem ser manejados quando houver, na decisão, obscuridade, contradição, omissão ou erro material, com o único objetivo de obter o esclarecimento ou a integração da decisão judicial impugnada, conforme disposto no art. 1.022 do Novo Código de Processo Civil. É espécie recursal com o desiderato precípuo e limitado legalmente à correção de vícios intrínsecos ao decisum recorrido. No acórdão embargado, constam, de forma fundamentada, as razões para tal decisão, não ocorrendo os vícios dignos de correção pela via dos declaratórios. Assim, observa-se que a ora Embargante objetiva apenas o reexame da causa com a atribuição de efeitos infringentes ao recurso, o que é inviável em Embargos de Declaração, vez que os aclaratórios não se prestam a reapreciar a causa, tampouco a reformar o entendimento proferido pelo órgão julgador, em razão dos rígidos contornos processuais desta espécie recursal. Nesse sentido: EMBARGOS DE DECLARAÇÃO NO AGRAVO REGIMENTAL NO RECURSO EM MANDADO DE SEGURANÇA. LAVAGEM DE CAPITAIS. IMPETRAÇÃO CONTRA DECISÃO JUDICIAL. DESTITUIÇÃO DE ADVOGADA CONSTITUÍDA. ATUAÇÃO TUMULTUÁRIA. OMISSÕES. OBSCURIDADES. MATÉRIAS NÃO EXAMINADAS NA ORIGEM. SUPRESSÃO DE INSTÂNCIA. NÃO CABIMENTO. INEXISTÊNCIA DE VÍCIOS NO JULGADO. ACLARATÓRIOS REJEITADOS. 1. A ausência, no acórdão, de quaisquer dos vícios elencados no art. 619 do Código de Processo Penal, torna inviável o acolhimento dos embargos declaratórios opostos. 2. Não merecem conhecimento as matérias não apreciadas na origem e sob as quais a parte, embora tenha oposto embargos declaratórios, não se insurgiu contra a omissão pleiteando a determinação de integração do recurso naquela instância. Tal intervenção nesta Corte Superior configuraria indevida prestação jurisdicional em supressão de instância. 3. Na espécie, inexistem as omissões e obscuridades apontadas pela defesa, tendo o acórdão embargado apreciado a insurgência de forma clara e fundamentada, não sendo possível, em embargos de declaração, rediscutir o entendimento adotado, sequer para fins de prequestionamento. 4. Não se prestam os embargos de declaração para discutir matéria nova, que não foi apresentada pela parte no apelo nobre interposto ou no consequente agravo. 5. Embargos de declaração rejeitados.(EDcl no RMS 52.007/PR, Rel. Ministro JORGE MUSSI, QUINTA TURMA, julgado em 19/02/2019, DJe 07/03/2019). Recordo que “o simples descontentamento com o decisum, a despeito de legítimo, não tem o condão de tornar cabíveis os embargos de declaração, que servem ao aprimoramento da decisão, mas não à sua modificação, que só muito excepcionalmente é admitida” (EDcl no AgInt no AREsp 1242547/RN, Rel. Ministro LÁZARO GUIMARÃES (desembargador convocado do TRF 5ª REGIÃO), QUARTA TURMA, julgado em 25/09/2018, DJe 28/09/2018), de modo que, “sem a demonstração das hipóteses de cabimento, a rejeição dos embargos de declaração é medida que se impõe, notadamente quando o embargante pretende a rediscussão da questão controvertida para modificar o provimento anterior” (EDcl no AgRg nos EDcl no AREsp 1253070/RS, Rel. Ministro JOEL ILAN PACIORNIK, QUINTA TURMA, julgado em 09/04/2019, DJe 22/04/2019). Quanto à alegação de erro material, esta também não merece prosperar. O referido vício apontado consistiria na interpretação diversa de julgado do Superior Tribunal de Justiça (RESP 1426210/RS), com o fito de reconhecer o direito da parte embargante aos reajustes anuais estabelecidos pela Lei do Piso Nacional do Magistério. Ocorre que a interpretação de maneira diversa daquela pretendida não caracteriza erro material. Reitero, a partir de precedentes vinculantes exarados pelas Cortes Superiores (ADI 4167, Rel. Min. JOAQUIM BARBOSA, Tribunal Pleno, julgado em 27/04/2011, DJe 24-08-2011; REsp 1426210/RS, Rel. Ministro GURGEL DE FARIA, PRIMEIRA SEÇÃO, julgado em 23/11/2016, DJe 09/12/2016), ser inquestionável a obrigatoriedade de observância, por todos os entes federativos, do piso nacional fixado para os docentes integrantes da rede básica de ensino, que, no entanto, refere-se ao cumprimento da jornada laboral de 40 (quarenta) horas semanais, conforme expressas disposições da Lei nº 11.738/2008, especificamente em seu art. 2º, caput e §§ 1º e 3º. Conforme verificado da análise dos autos, contudo, destaco, novamente, que a embargante não se desincumbiu do ônus de provar ter ocorrido violação ao seu direito de receber o vencimento correspondente ao piso nacional do magistério (art. 373, I, CPC), de modo que não há nos autos prova de que o Estado do Maranhão vem deixando de cumprir a regra do art. 2º da Lei Federal 11.738/2008, havendo, inclusive, renúncia das partes à dilação probatória. Ademais, reafirmo que, do cotejo entre a narrativa da petição inicial e as fichas ficeiras juntadas aos autos, vejo que o vencimento (salário-base) da recorrente não é inferior ao piso nacional estabelecido pela Lei nº 11.738/2008. Segue julgados do Tribunal de Justiça do MA sobre o tema: DIREITO CONSTITUCIONAL E ADMINISTRATIVO. APELAÇÃO. AÇÃO DE OBRIGAÇÃO DE FAZER CUMULADA COM COBRANÇA. PISO NACIONAL DE PROFESSORES. LEI FEDERAL Nº 11.738/2008. LEI ESTADUAL Nº 9.860/2013. INCONSTITUCIONALIDADE FORMAL. VÍCIO DE INICIATIVA. VIOLAÇÃO DO PACTO FEDERATIVO. PRECEDENTE DO TRIBUNAL DE JUSTIÇA DO MARANHÃO. OBSERVÂNCIA OBRIGATÓRIA. ART. 927, V, DO CPC. SENTENÇA DE IMPROCEDÊNCIA MANTIDA. APELO CONHECIDO E DESPROVIDO. UNANIMIDADE. I. Pretensão de condenação do Estado do Maranhão a proceder aos reajustes de vencimentos em percentuais apurados ao longo dos anos, com fulcro no disposto no art. 32 da Lei nº 9.860/2013. II. A questão perpassa pela análise do alcance de aplicabilidade do Piso Nacional a todos os professores de educação básica regulamentado pela Lei nº. 11.738/2008 e validade da Lei nº 9.860/2013 (Estatuto e o Plano de Carreiras, Cargos e Remuneração do Subgrupo Magistério da Educação Básica do Estado do Maranhão) III. O Tribunal de Justiça do Maranhão na sua composição plena ao apreciar o Mandado de Segurança nº 0800330-81.2018.8.10.0000, de relatoria do Des. Kleber Costa Carvalho, já se manifestou no sentido de reconhecer a inconstitucionalidade formal do art. 32 da Lei nº 9.860/2013, por vício de iniciativa, haja vista que somente o Poder Executivo Estadual tem competência privativa para criação de lei que importe em aumento de remuneração de servidores, não sendo possível a iniciativa da Assembleia Legislativa Estadual. IV. Sentença de improcedência mantida. V. Apelo conhecido e desprovido. Uimidade. (APELAÇÃO CÍVEL Nº. 0816817-26.2018.8.10.0001, Rel. Des. RAIMUNDO JOSÉ BARROS DE SOUSA, Quinta Câmara Cível, julgado em 16/04/2019) APELAÇÃO CÍVEL. MAGISTÉRIO. PISO NACIONAL. VALOR MÍNIMO QUE NÃO É ÍNDICE DE REAJUSTE. I - Não prospera a tese no sentido de que os professores, que já recebem valor superior ao piso nacional, têm direito, com base no art. 32 da Lei Estadual nº 9.860/2013, a um reajuste no mesmo percentual em que reajustado o piso salarial nacional com base na referida lei federal, tendo em vista que a norma contraria não só o art. 18 da CF, mas também o art. 61, §1º, II, “a”, da Carta Magna, violando a um só tempo a iniciativa privativa do chefe do executivo de aumentar a remuneração dos servidores e a autonomia com que se dotou o ente estadual no pacto federativo. (APELAÇÃO CÍVEL Nº 0816961-97.2018.8.10.0001, Rel. Des. JORGE RACHID MUBÁRACK MALUF, Primeira Câmara Cível, julgado em 28/02/2019) Assim, analisando as alegações da Embargante não vislumbro nenhuma omissão, contradição ou erro material no julgado objeto dos aclaratórios. A decisão ora atacada restou suficientemente clara ao expor as razões de seu convencimento. Cabe ainda destacar que a produção de decisões divergente da interpretação uniformizada e normativa egressas do Supremo Tribunal Federal, enquanto Tribunal de Superposição, revela-se afrontosa à força normativa da Constituição Federal e ao princípio da máxima efetividade de sua norma, porque ela conferiu a esse Tribunal Superior o dever de guardar e uniformizar a jurisdição constitucional, previsto no artigo 102 da CF. Assim, a postura dos Tribunais Inferiores tem que ser a de valorizar cada vez mais decisões hierarquicamente superiores, sobretudo as normativas, com vistas a criar um ambiente de maior segurança jurídica. Consoante orientação firmada pela 2ª Seção do STJ, “(…) não é cabível a majoração dos honorários recursais no julgamento de Agravo Interno ou de Embargos de Declaração ()” (Edcl no AgInt no AREsp 1.667.575/PR, Rel. Ministro Moura Ribeiro, 3ª Turma, julgado em 1/3/2021), pelo que deixo de aplicá-los. Com base em todo o exposto, REJEITO os presentes embargos de declaração , no sentido de manter inalterados os termos do acórdão ora embargado, advertindo que caso seja interposto novo recurso com o mesmo fim, será considerando protelatório e via de consequência aplicado multa de 1% (um por cento) sobre o valor da causa, nos exatos termos do que dispõe o art. 1.026,§ 2º do Código de Processo Civil. É como voto. Sala Virtual das Sessões da Quarta Câmara Cível do Tribunal de Justiça do Estado do Maranhão, em São Luís, nos dias 12 a 19 de abril de 2022. São Luís, data do sistema. Desembargadora MARIA FRANCISCA GUALBERTO DE GALIZA Relatora A-6-11'"
      ]
     },
     "execution_count": 29,
     "metadata": {},
     "output_type": "execute_result"
    }
   ],
   "source": [
    "df_tjma_pp.text[23]"
   ]
  }
 ],
 "metadata": {
  "kernelspec": {
   "display_name": "Python 3 (ipykernel)",
   "language": "python",
   "name": "python3"
  },
  "language_info": {
   "codemirror_mode": {
    "name": "ipython",
    "version": 3
   },
   "file_extension": ".py",
   "mimetype": "text/x-python",
   "name": "python",
   "nbconvert_exporter": "python",
   "pygments_lexer": "ipython3",
   "version": "3.11.5"
  }
 },
 "nbformat": 4,
 "nbformat_minor": 5
}
