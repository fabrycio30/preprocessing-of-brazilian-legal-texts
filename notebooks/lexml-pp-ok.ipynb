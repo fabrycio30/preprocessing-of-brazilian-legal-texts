{
 "cells": [
  {
   "cell_type": "code",
   "execution_count": 2,
   "id": "6e6073b4",
   "metadata": {},
   "outputs": [
    {
     "name": "stderr",
     "output_type": "stream",
     "text": [
      "C:\\Users\\fabry\\AppData\\Roaming\\Python\\Python311\\site-packages\\pandas\\core\\arrays\\masked.py:60: UserWarning: Pandas requires version '1.3.6' or newer of 'bottleneck' (version '1.3.5' currently installed).\n",
      "  from pandas.core import (\n"
     ]
    }
   ],
   "source": [
    "import pandas as pd"
   ]
  },
  {
   "cell_type": "code",
   "execution_count": 7,
   "id": "de37ed4b",
   "metadata": {},
   "outputs": [
    {
     "data": {
      "text/html": [
       "<div>\n",
       "<style scoped>\n",
       "    .dataframe tbody tr th:only-of-type {\n",
       "        vertical-align: middle;\n",
       "    }\n",
       "\n",
       "    .dataframe tbody tr th {\n",
       "        vertical-align: top;\n",
       "    }\n",
       "\n",
       "    .dataframe thead th {\n",
       "        text-align: right;\n",
       "    }\n",
       "</style>\n",
       "<table border=\"1\" class=\"dataframe\">\n",
       "  <thead>\n",
       "    <tr style=\"text-align: right;\">\n",
       "      <th></th>\n",
       "      <th>Localidade</th>\n",
       "      <th>Autoridade</th>\n",
       "      <th>Título</th>\n",
       "      <th>Data</th>\n",
       "      <th>Ementa</th>\n",
       "      <th>URN</th>\n",
       "    </tr>\n",
       "  </thead>\n",
       "  <tbody>\n",
       "    <tr>\n",
       "      <th>0</th>\n",
       "      <td>Brasil</td>\n",
       "      <td>Supremo Tribunal Federal. 2ª Turma</td>\n",
       "      <td>RE 589568 AgR / SP - SÃO PAULO</td>\n",
       "      <td>02/06/2009</td>\n",
       "      <td>E M E N T A: RECURSO EXTRAORDINÁRIO - TETO REM...</td>\n",
       "      <td>urn:lex:br:supremo.tribunal.federal;turma.2:ac...</td>\n",
       "    </tr>\n",
       "    <tr>\n",
       "      <th>1</th>\n",
       "      <td>Brasil</td>\n",
       "      <td>Supremo Tribunal Federal. 2ª Turma</td>\n",
       "      <td>RE 555592 AgR / MG - MINAS GERAIS</td>\n",
       "      <td>09/06/2009</td>\n",
       "      <td>DIREITO CONSTITUCIONAL  E ADMINISTRATIVO. AGRA...</td>\n",
       "      <td>urn:lex:br:supremo.tribunal.federal;turma.2:ac...</td>\n",
       "    </tr>\n",
       "    <tr>\n",
       "      <th>2</th>\n",
       "      <td>Brasil</td>\n",
       "      <td>Supremo Tribunal Federal. 1ª Turma</td>\n",
       "      <td>HC 96369 / SP - SÃO PAULO</td>\n",
       "      <td>09/06/2009</td>\n",
       "      <td>EMENTA: PENAL. PROCESSUAL PENAL. HABEAS CORPUS...</td>\n",
       "      <td>urn:lex:br:supremo.tribunal.federal;turma.1:ac...</td>\n",
       "    </tr>\n",
       "    <tr>\n",
       "      <th>3</th>\n",
       "      <td>Brasil</td>\n",
       "      <td>Supremo Tribunal Federal. 2ª Turma</td>\n",
       "      <td>RE 560541 AgR / SP - SÃO PAULO</td>\n",
       "      <td>16/12/2008</td>\n",
       "      <td>EMENTA: AGRAVO REGIMENTAL NO RECURSO EXTRAORDI...</td>\n",
       "      <td>urn:lex:br:supremo.tribunal.federal;turma.2:ac...</td>\n",
       "    </tr>\n",
       "    <tr>\n",
       "      <th>4</th>\n",
       "      <td>Brasil</td>\n",
       "      <td>Supremo Tribunal Federal. 2ª Turma</td>\n",
       "      <td>AI 394262 AgR-ED-AgR / RJ - RIO DE JANEIRO</td>\n",
       "      <td>29/11/2005</td>\n",
       "      <td>EMENTA: AGRAVO REGIMENTAL.\\nOs embargos de dec...</td>\n",
       "      <td>urn:lex:br:supremo.tribunal.federal;turma.2:ac...</td>\n",
       "    </tr>\n",
       "    <tr>\n",
       "      <th>...</th>\n",
       "      <td>...</td>\n",
       "      <td>...</td>\n",
       "      <td>...</td>\n",
       "      <td>...</td>\n",
       "      <td>...</td>\n",
       "      <td>...</td>\n",
       "    </tr>\n",
       "    <tr>\n",
       "      <th>72275</th>\n",
       "      <td>Brasil</td>\n",
       "      <td>Supremo Tribunal Federal. 2ª Turma</td>\n",
       "      <td>RE 598678 AgR / MG - MINAS GERAIS</td>\n",
       "      <td>01/12/2009</td>\n",
       "      <td>EMENTA: AGRAVO REGIMENTAL NO RECURSO EXTRAORDI...</td>\n",
       "      <td>urn:lex:br:supremo.tribunal.federal;turma.2:ac...</td>\n",
       "    </tr>\n",
       "    <tr>\n",
       "      <th>72276</th>\n",
       "      <td>Brasil</td>\n",
       "      <td>Supremo Tribunal Federal. Plenário</td>\n",
       "      <td>SEC 7146 / EU - ESTADOS UNIDOS DA AMERICA</td>\n",
       "      <td>12/06/2002</td>\n",
       "      <td>EMENTA: HOMOLOGAÇÃO DE SENTENÇA ESTRANGEIRA. P...</td>\n",
       "      <td>urn:lex:br:supremo.tribunal.federal;plenario:a...</td>\n",
       "    </tr>\n",
       "    <tr>\n",
       "      <th>72277</th>\n",
       "      <td>Brasil</td>\n",
       "      <td>Supremo Tribunal Federal. 2ª Turma</td>\n",
       "      <td>RE 601115 AgR / RS - RIO GRANDE DO SUL</td>\n",
       "      <td>24/11/2009</td>\n",
       "      <td>EMENTA: AGRAVO REGIMENTAL NO RECURSO EXTRAORDI...</td>\n",
       "      <td>urn:lex:br:supremo.tribunal.federal;turma.2:ac...</td>\n",
       "    </tr>\n",
       "    <tr>\n",
       "      <th>72278</th>\n",
       "      <td>Brasil</td>\n",
       "      <td>Supremo Tribunal Federal. 2ª Turma</td>\n",
       "      <td>RE 601236 AgR / RS - RIO GRANDE DO SUL</td>\n",
       "      <td>24/11/2009</td>\n",
       "      <td>1. \\tEsta Corte firmou entendimento de que a f...</td>\n",
       "      <td>urn:lex:br:supremo.tribunal.federal;turma.2:ac...</td>\n",
       "    </tr>\n",
       "    <tr>\n",
       "      <th>72279</th>\n",
       "      <td>Brasil</td>\n",
       "      <td>Supremo Tribunal Federal. 2ª Turma</td>\n",
       "      <td>RE 602740 AgR / DF - DISTRITO FEDERAL</td>\n",
       "      <td>01/12/2009</td>\n",
       "      <td>EMENTA: AGRAVO REGIMENTAL NO RECURSO EXTRAORDI...</td>\n",
       "      <td>urn:lex:br:supremo.tribunal.federal;turma.2:ac...</td>\n",
       "    </tr>\n",
       "  </tbody>\n",
       "</table>\n",
       "<p>72280 rows × 6 columns</p>\n",
       "</div>"
      ],
      "text/plain": [
       "      Localidade                          Autoridade  \\\n",
       "0         Brasil  Supremo Tribunal Federal. 2ª Turma   \n",
       "1         Brasil  Supremo Tribunal Federal. 2ª Turma   \n",
       "2         Brasil  Supremo Tribunal Federal. 1ª Turma   \n",
       "3         Brasil  Supremo Tribunal Federal. 2ª Turma   \n",
       "4         Brasil  Supremo Tribunal Federal. 2ª Turma   \n",
       "...          ...                                 ...   \n",
       "72275     Brasil  Supremo Tribunal Federal. 2ª Turma   \n",
       "72276     Brasil  Supremo Tribunal Federal. Plenário   \n",
       "72277     Brasil  Supremo Tribunal Federal. 2ª Turma   \n",
       "72278     Brasil  Supremo Tribunal Federal. 2ª Turma   \n",
       "72279     Brasil  Supremo Tribunal Federal. 2ª Turma   \n",
       "\n",
       "                                           Título        Data  \\\n",
       "0                  RE 589568 AgR / SP - SÃO PAULO  02/06/2009   \n",
       "1               RE 555592 AgR / MG - MINAS GERAIS  09/06/2009   \n",
       "2                       HC 96369 / SP - SÃO PAULO  09/06/2009   \n",
       "3                  RE 560541 AgR / SP - SÃO PAULO  16/12/2008   \n",
       "4      AI 394262 AgR-ED-AgR / RJ - RIO DE JANEIRO  29/11/2005   \n",
       "...                                           ...         ...   \n",
       "72275           RE 598678 AgR / MG - MINAS GERAIS  01/12/2009   \n",
       "72276   SEC 7146 / EU - ESTADOS UNIDOS DA AMERICA  12/06/2002   \n",
       "72277      RE 601115 AgR / RS - RIO GRANDE DO SUL  24/11/2009   \n",
       "72278      RE 601236 AgR / RS - RIO GRANDE DO SUL  24/11/2009   \n",
       "72279       RE 602740 AgR / DF - DISTRITO FEDERAL  01/12/2009   \n",
       "\n",
       "                                                  Ementa  \\\n",
       "0      E M E N T A: RECURSO EXTRAORDINÁRIO - TETO REM...   \n",
       "1      DIREITO CONSTITUCIONAL  E ADMINISTRATIVO. AGRA...   \n",
       "2      EMENTA: PENAL. PROCESSUAL PENAL. HABEAS CORPUS...   \n",
       "3      EMENTA: AGRAVO REGIMENTAL NO RECURSO EXTRAORDI...   \n",
       "4      EMENTA: AGRAVO REGIMENTAL.\\nOs embargos de dec...   \n",
       "...                                                  ...   \n",
       "72275  EMENTA: AGRAVO REGIMENTAL NO RECURSO EXTRAORDI...   \n",
       "72276  EMENTA: HOMOLOGAÇÃO DE SENTENÇA ESTRANGEIRA. P...   \n",
       "72277  EMENTA: AGRAVO REGIMENTAL NO RECURSO EXTRAORDI...   \n",
       "72278  1. \\tEsta Corte firmou entendimento de que a f...   \n",
       "72279  EMENTA: AGRAVO REGIMENTAL NO RECURSO EXTRAORDI...   \n",
       "\n",
       "                                                     URN  \n",
       "0      urn:lex:br:supremo.tribunal.federal;turma.2:ac...  \n",
       "1      urn:lex:br:supremo.tribunal.federal;turma.2:ac...  \n",
       "2      urn:lex:br:supremo.tribunal.federal;turma.1:ac...  \n",
       "3      urn:lex:br:supremo.tribunal.federal;turma.2:ac...  \n",
       "4      urn:lex:br:supremo.tribunal.federal;turma.2:ac...  \n",
       "...                                                  ...  \n",
       "72275  urn:lex:br:supremo.tribunal.federal;turma.2:ac...  \n",
       "72276  urn:lex:br:supremo.tribunal.federal;plenario:a...  \n",
       "72277  urn:lex:br:supremo.tribunal.federal;turma.2:ac...  \n",
       "72278  urn:lex:br:supremo.tribunal.federal;turma.2:ac...  \n",
       "72279  urn:lex:br:supremo.tribunal.federal;turma.2:ac...  \n",
       "\n",
       "[72280 rows x 6 columns]"
      ]
     },
     "execution_count": 7,
     "metadata": {},
     "output_type": "execute_result"
    }
   ],
   "source": [
    "df = pd.read_csv(r'D:\\dados-juridicos\\brutos\\base_dados_lexml.csv.aspx')\n",
    "df"
   ]
  },
  {
   "cell_type": "code",
   "execution_count": 8,
   "id": "80cfd009",
   "metadata": {},
   "outputs": [
    {
     "data": {
      "text/plain": [
       "'Supremo Tribunal Federal. 2ª Turma'"
      ]
     },
     "execution_count": 8,
     "metadata": {},
     "output_type": "execute_result"
    }
   ],
   "source": [
    "df['Autoridade'][0]"
   ]
  },
  {
   "cell_type": "code",
   "execution_count": 9,
   "id": "5331fd8a",
   "metadata": {},
   "outputs": [
    {
     "data": {
      "text/plain": [
       "'RE 589568 AgR / SP - SÃO PAULO'"
      ]
     },
     "execution_count": 9,
     "metadata": {},
     "output_type": "execute_result"
    }
   ],
   "source": [
    "df['Título'][0]"
   ]
  },
  {
   "cell_type": "code",
   "execution_count": 10,
   "id": "abbe9206",
   "metadata": {},
   "outputs": [],
   "source": [
    "df['text'] = df['Autoridade'] + ', ' + df['Título'] + ' em ' + df['Data'] + ', ' + df['Ementa']"
   ]
  },
  {
   "cell_type": "code",
   "execution_count": 11,
   "id": "440a6518",
   "metadata": {},
   "outputs": [
    {
     "data": {
      "text/plain": [
       "'Supremo Tribunal Federal. 2ª Turma, RE 589568 AgR / SP - SÃO PAULO em 02/06/2009, E M E N T A: RECURSO EXTRAORDINÁRIO - TETO REMUNERATÓRIO -\\n   EQUIPARAÇÃO ENTRE PROCURADORES AUTÁRQUICOS E PROCURADORES DE\\n   ESTADO-   -MEMBRO - MATÉRIA A CUJO RESPEITO NÃO SE RECONHECEU A\\n   EXISTÊNCIA DE REPERCUSSÃO GERAL - RECURSO DE AGRAVO IMPROVIDO.'"
      ]
     },
     "execution_count": 11,
     "metadata": {},
     "output_type": "execute_result"
    }
   ],
   "source": [
    "df['text'][0]"
   ]
  },
  {
   "cell_type": "code",
   "execution_count": 42,
   "id": "c96649bf",
   "metadata": {},
   "outputs": [
    {
     "data": {
      "text/plain": [
       "'Supremo Tribunal Federal. 2ª Turma, HC 80104 / RJ - RIO DE JANEIRO em 13/06/2000, EMENTA: HABEAS-CORPUS. HOMICÍDO. INTIMAÇÃO PESSOAL DE\\nDEFENSOR PÚBLICO DO ESTADO EM QUALQUER PROCESSO E GRAU DE\\nJURISDIÇÃO: PAUTA E ACÓRDÃO DO SUPERIOR TRIBUNAL DE JUSTIÇA.\\n        1. Ao defensor público do Estado foi concedida a prerrogativa\\nde ser intimado pessoalmente em qualquer processo e grau de jurisdição\\n(artigo 128, I, da Lei Orgânica da Defensoria Pública - Lei\\nComplementar nº 80, de 12.01.94).\\n        Este direito, contudo, não cria obrigação ao Poder Judiciário\\nde proceder à intimação que a lei não prevê deva ser feita.\\n        Assim, inexistindo previsão legal para intimação ou publicação\\nde pauta para o julgamento de \"habeas-corpus\" (artigos 202 do RI-STF,\\n192\\ndo RI-STF, 664 do Código de Processo Penal e Súmula 431) não há\\nnulidade a ser declarada quando o defensor público não é intimado\\npessoalmente.\\n        2. É nula a intimação de acórdão a defensor público de Estado\\npelo Diário Oficial, sem observância da norma que determina sua\\nintimação pessoal.\\n        3. Habeas-corpus conhecido e deferido, em parte, para declarar\\nnula a certidão de trânsito em julgado do acórdão do Superior Tribunal\\nde Justiça que julgou o writ, determinando-se que outra seja feita nos\\ntermos da Lei.'"
      ]
     },
     "execution_count": 42,
     "metadata": {},
     "output_type": "execute_result"
    }
   ],
   "source": [
    "df['text'][12]"
   ]
  },
  {
   "cell_type": "code",
   "execution_count": 43,
   "id": "b049f3f2",
   "metadata": {},
   "outputs": [],
   "source": [
    "# Ajuste os caracteres \"\\n\" para justificar\n",
    "df['text'] = df['text'].str.replace('\\n', ' ')"
   ]
  },
  {
   "cell_type": "code",
   "execution_count": 48,
   "id": "2e763d59",
   "metadata": {},
   "outputs": [],
   "source": [
    "import re\n",
    "def remove_excess_spaces(text):\n",
    "    return re.sub(r'\\s+', ' ', text).strip()"
   ]
  },
  {
   "cell_type": "code",
   "execution_count": 49,
   "id": "351aa8b5",
   "metadata": {},
   "outputs": [
    {
     "name": "stdout",
     "output_type": "stream",
     "text": [
      "PÚBLICO DO ESTADO EM QUALQUER PROCESSO E GRAU DE JURISDIÇÃO: PAUTA E ACÓRDÃO DO SUPERIOR TRIBUNAL DE JUSTIÇA. 1. Ao defensor\n"
     ]
    }
   ],
   "source": [
    "a = remove_excess_spaces('PÚBLICO DO ESTADO EM QUALQUER PROCESSO E GRAU DE JURISDIÇÃO: PAUTA E ACÓRDÃO DO SUPERIOR TRIBUNAL DE JUSTIÇA.         1. Ao defensor')\n",
    "print(a)"
   ]
  },
  {
   "cell_type": "code",
   "execution_count": 50,
   "id": "40d89a17",
   "metadata": {},
   "outputs": [],
   "source": [
    "df['text'] = df['text'].apply(remove_excess_spaces)"
   ]
  },
  {
   "cell_type": "code",
   "execution_count": 51,
   "id": "ec029781",
   "metadata": {},
   "outputs": [
    {
     "data": {
      "text/plain": [
       "'Supremo Tribunal Federal. 2ª Turma, HC 80104 / RJ - RIO DE JANEIRO em 13/06/2000, EMENTA: HABEAS-CORPUS. HOMICÍDO. INTIMAÇÃO PESSOAL DE DEFENSOR PÚBLICO DO ESTADO EM QUALQUER PROCESSO E GRAU DE JURISDIÇÃO: PAUTA E ACÓRDÃO DO SUPERIOR TRIBUNAL DE JUSTIÇA. 1. Ao defensor público do Estado foi concedida a prerrogativa de ser intimado pessoalmente em qualquer processo e grau de jurisdição (artigo 128, I, da Lei Orgânica da Defensoria Pública - Lei Complementar nº 80, de 12.01.94). Este direito, contudo, não cria obrigação ao Poder Judiciário de proceder à intimação que a lei não prevê deva ser feita. Assim, inexistindo previsão legal para intimação ou publicação de pauta para o julgamento de \"habeas-corpus\" (artigos 202 do RI-STF, 192 do RI-STF, 664 do Código de Processo Penal e Súmula 431) não há nulidade a ser declarada quando o defensor público não é intimado pessoalmente. 2. É nula a intimação de acórdão a defensor público de Estado pelo Diário Oficial, sem observância da norma que determina sua intimação pessoal. 3. Habeas-corpus conhecido e deferido, em parte, para declarar nula a certidão de trânsito em julgado do acórdão do Superior Tribunal de Justiça que julgou o writ, determinando-se que outra seja feita nos termos da Lei.'"
      ]
     },
     "execution_count": 51,
     "metadata": {},
     "output_type": "execute_result"
    }
   ],
   "source": [
    "df['text'][12]"
   ]
  },
  {
   "cell_type": "code",
   "execution_count": 56,
   "id": "e3846838",
   "metadata": {},
   "outputs": [],
   "source": [
    "df_lexml = pd.DataFrame()"
   ]
  },
  {
   "cell_type": "code",
   "execution_count": 57,
   "id": "233e2396",
   "metadata": {},
   "outputs": [],
   "source": [
    "df_lexml['text'] = df['text']"
   ]
  },
  {
   "cell_type": "code",
   "execution_count": 58,
   "id": "e186c7c8",
   "metadata": {},
   "outputs": [
    {
     "data": {
      "text/html": [
       "<div>\n",
       "<style scoped>\n",
       "    .dataframe tbody tr th:only-of-type {\n",
       "        vertical-align: middle;\n",
       "    }\n",
       "\n",
       "    .dataframe tbody tr th {\n",
       "        vertical-align: top;\n",
       "    }\n",
       "\n",
       "    .dataframe thead th {\n",
       "        text-align: right;\n",
       "    }\n",
       "</style>\n",
       "<table border=\"1\" class=\"dataframe\">\n",
       "  <thead>\n",
       "    <tr style=\"text-align: right;\">\n",
       "      <th></th>\n",
       "      <th>text</th>\n",
       "    </tr>\n",
       "  </thead>\n",
       "  <tbody>\n",
       "    <tr>\n",
       "      <th>49813</th>\n",
       "      <td>Supremo Tribunal Federal. 1ª Turma, RE 110918 ...</td>\n",
       "    </tr>\n",
       "  </tbody>\n",
       "</table>\n",
       "</div>"
      ],
      "text/plain": [
       "                                                    text\n",
       "49813  Supremo Tribunal Federal. 1ª Turma, RE 110918 ..."
      ]
     },
     "execution_count": 58,
     "metadata": {},
     "output_type": "execute_result"
    }
   ],
   "source": [
    "df_lexml.sample()"
   ]
  },
  {
   "cell_type": "code",
   "execution_count": 62,
   "id": "3c6ac976",
   "metadata": {},
   "outputs": [],
   "source": [
    "save_to = \"D:\\\\dados-juridicos\\\\\""
   ]
  },
  {
   "cell_type": "code",
   "execution_count": 63,
   "id": "af165bd7",
   "metadata": {},
   "outputs": [],
   "source": [
    "# Salve o dataframe atualizado em um novo arquivo\n",
    "df_lexml.to_csv(f'{save_to}lexml_pp.csv', index=False)  # Substitua pelo nome desejado para o novo arquivo"
   ]
  }
 ],
 "metadata": {
  "kernelspec": {
   "display_name": "Python 3 (ipykernel)",
   "language": "python",
   "name": "python3"
  },
  "language_info": {
   "codemirror_mode": {
    "name": "ipython",
    "version": 3
   },
   "file_extension": ".py",
   "mimetype": "text/x-python",
   "name": "python",
   "nbconvert_exporter": "python",
   "pygments_lexer": "ipython3",
   "version": "3.11.5"
  }
 },
 "nbformat": 4,
 "nbformat_minor": 5
}
