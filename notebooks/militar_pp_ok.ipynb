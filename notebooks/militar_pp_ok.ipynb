{
 "cells": [
  {
   "cell_type": "code",
   "execution_count": 1,
   "id": "5c5d93de",
   "metadata": {},
   "outputs": [],
   "source": [
    "path = \"D:\\\\dados-juridicos\\\\brutos\\\\\""
   ]
  },
  {
   "cell_type": "code",
   "execution_count": 2,
   "id": "0384af48",
   "metadata": {},
   "outputs": [
    {
     "name": "stderr",
     "output_type": "stream",
     "text": [
      "C:\\Users\\fabry\\AppData\\Roaming\\Python\\Python311\\site-packages\\pandas\\core\\arrays\\masked.py:60: UserWarning: Pandas requires version '1.3.6' or newer of 'bottleneck' (version '1.3.5' currently installed).\n",
      "  from pandas.core import (\n"
     ]
    }
   ],
   "source": [
    "import pandas as pd"
   ]
  },
  {
   "cell_type": "code",
   "execution_count": 3,
   "id": "ce960849",
   "metadata": {},
   "outputs": [
    {
     "data": {
      "text/html": [
       "<div>\n",
       "<style scoped>\n",
       "    .dataframe tbody tr th:only-of-type {\n",
       "        vertical-align: middle;\n",
       "    }\n",
       "\n",
       "    .dataframe tbody tr th {\n",
       "        vertical-align: top;\n",
       "    }\n",
       "\n",
       "    .dataframe thead th {\n",
       "        text-align: right;\n",
       "    }\n",
       "</style>\n",
       "<table border=\"1\" class=\"dataframe\">\n",
       "  <thead>\n",
       "    <tr style=\"text-align: right;\">\n",
       "      <th></th>\n",
       "      <th>id</th>\n",
       "      <th>numero_processo</th>\n",
       "      <th>classe</th>\n",
       "      <th>Relator(a):</th>\n",
       "      <th>Assuntos:</th>\n",
       "      <th>Data de Autuação:</th>\n",
       "      <th>Data de Julgamento:</th>\n",
       "      <th>Data de Publicação:</th>\n",
       "      <th>Ementa</th>\n",
       "      <th>Revisor(a):</th>\n",
       "      <th>Relator(a) do Acórdão:</th>\n",
       "    </tr>\n",
       "  </thead>\n",
       "  <tbody>\n",
       "    <tr>\n",
       "      <th>0</th>\n",
       "      <td>196d76fbaa8d33cb5009a4d2ea9a4646</td>\n",
       "      <td>7000063-44.2022.7.00.0000</td>\n",
       "      <td>EMBARGOS DE DECLARAÇÃO</td>\n",
       "      <td>CELSO LUIZ NAZARETH</td>\n",
       "      <td>1) DIREITO PENAL MILITAR,CRIMES CONTRA A ADMIN...</td>\n",
       "      <td>08/02/2022</td>\n",
       "      <td>15/06/2022</td>\n",
       "      <td>29/06/2022</td>\n",
       "      <td>EMENTA: EMBARGOS DE DECLARAÇÃO. DEFESA CONSTIT...</td>\n",
       "      <td>NaN</td>\n",
       "      <td>NaN</td>\n",
       "    </tr>\n",
       "    <tr>\n",
       "      <th>1</th>\n",
       "      <td>21faeb33aa468134a5682f611032d5c7</td>\n",
       "      <td>7000119-77.2022.7.00.0000</td>\n",
       "      <td>RECURSO EM SENTIDO ESTRITO</td>\n",
       "      <td>CARLOS VUYK DE AQUINO</td>\n",
       "      <td>1) DIREITO PENAL MILITAR,CRIMES CONTRA A ADMIN...</td>\n",
       "      <td>24/02/2022</td>\n",
       "      <td>15/06/2022</td>\n",
       "      <td>28/06/2022</td>\n",
       "      <td>EMENTA: RECURSO EM SENTIDO ESTRITO. MINISTÉRIO...</td>\n",
       "      <td>NaN</td>\n",
       "      <td>NaN</td>\n",
       "    </tr>\n",
       "    <tr>\n",
       "      <th>2</th>\n",
       "      <td>f70155e802725005fcf73f88a014a973</td>\n",
       "      <td>7000282-57.2022.7.00.0000</td>\n",
       "      <td>EMBARGOS DE DECLARAÇÃO</td>\n",
       "      <td>FRANCISCO JOSELI PARENTE CAMELO</td>\n",
       "      <td>1) DIREITO PENAL MILITAR,CRIMES CONTRA A ADMIN...</td>\n",
       "      <td>26/04/2022</td>\n",
       "      <td>15/06/2022</td>\n",
       "      <td>28/06/2022</td>\n",
       "      <td>EMENTA: EMBARGOS DE DECLARAÇÃO IN HABEAS CORPU...</td>\n",
       "      <td>NaN</td>\n",
       "      <td>NaN</td>\n",
       "    </tr>\n",
       "    <tr>\n",
       "      <th>3</th>\n",
       "      <td>957e9c91b185d6edc7cc7c96a60972fa</td>\n",
       "      <td>7000233-16.2022.7.00.0000</td>\n",
       "      <td>HABEAS CORPUS</td>\n",
       "      <td>CELSO LUIZ NAZARETH</td>\n",
       "      <td>1) DIREITO PROCESSUAL PENAL,INVESTIGAÇÃO PENAL...</td>\n",
       "      <td>05/04/2022</td>\n",
       "      <td>15/06/2022</td>\n",
       "      <td>29/06/2022</td>\n",
       "      <td>EMENTA: HABEAS CORPUS. TRANCAMENTO DE IPM. LIM...</td>\n",
       "      <td>NaN</td>\n",
       "      <td>NaN</td>\n",
       "    </tr>\n",
       "    <tr>\n",
       "      <th>4</th>\n",
       "      <td>34f47109475d3d6fe98ee9f4ce2705ff</td>\n",
       "      <td>7000333-05.2021.7.00.0000</td>\n",
       "      <td>APELAÇÃO</td>\n",
       "      <td>LEONARDO PUNTEL</td>\n",
       "      <td>1) DIREITO PENAL MILITAR,CRIMES CONTRA A ADMIN...</td>\n",
       "      <td>18/05/2021</td>\n",
       "      <td>15/06/2022</td>\n",
       "      <td>24/06/2022</td>\n",
       "      <td>EMENTA: APELAÇÃO. DPU. USO DE DOCUMENTO FALSO....</td>\n",
       "      <td>JOSÉ COÊLHO FERREIRA</td>\n",
       "      <td>NaN</td>\n",
       "    </tr>\n",
       "    <tr>\n",
       "      <th>...</th>\n",
       "      <td>...</td>\n",
       "      <td>...</td>\n",
       "      <td>...</td>\n",
       "      <td>...</td>\n",
       "      <td>...</td>\n",
       "      <td>...</td>\n",
       "      <td>...</td>\n",
       "      <td>...</td>\n",
       "      <td>...</td>\n",
       "      <td>...</td>\n",
       "      <td>...</td>\n",
       "    </tr>\n",
       "    <tr>\n",
       "      <th>23517</th>\n",
       "      <td>94720e5f6c4b5532e000c54cef0b7582</td>\n",
       "      <td>0000053-94.2015.7.12.0012</td>\n",
       "      <td>RECURSO EXTRAORDINÁRIO</td>\n",
       "      <td>WILLIAM DE OLIVEIRA BARROS</td>\n",
       "      <td>1) DIREITO PENAL MILITAR,CRIMES CONTRA O SERVI...</td>\n",
       "      <td>01/02/2017</td>\n",
       "      <td>NaN</td>\n",
       "      <td>NaN</td>\n",
       "      <td>Sem Ementa</td>\n",
       "      <td>NaN</td>\n",
       "      <td>NaN</td>\n",
       "    </tr>\n",
       "    <tr>\n",
       "      <th>23518</th>\n",
       "      <td>228148a6a97087639b925f09ba960497</td>\n",
       "      <td>0000190-97.2015.7.11.0111</td>\n",
       "      <td>RECURSO EXTRAORDINÁRIO</td>\n",
       "      <td>WILLIAM DE OLIVEIRA BARROS</td>\n",
       "      <td>1) DIREITO PENAL MILITAR,CRIMES CONTRA O SERVI...</td>\n",
       "      <td>01/02/2017</td>\n",
       "      <td>NaN</td>\n",
       "      <td>NaN</td>\n",
       "      <td>Sem Ementa</td>\n",
       "      <td>NaN</td>\n",
       "      <td>NaN</td>\n",
       "    </tr>\n",
       "    <tr>\n",
       "      <th>23519</th>\n",
       "      <td>e87b843f2ba57c456e8bdc25fbba9d22</td>\n",
       "      <td>0000087-65.2016.7.01.0101</td>\n",
       "      <td>RECURSO EXTRAORDINÁRIO</td>\n",
       "      <td>JOSÉ COÊLHO FERREIRA</td>\n",
       "      <td>1) DIREITO PENAL MILITAR,CRIMES CONTRA A PESSO...</td>\n",
       "      <td>29/03/2017</td>\n",
       "      <td>NaN</td>\n",
       "      <td>NaN</td>\n",
       "      <td>Sem Ementa</td>\n",
       "      <td>NaN</td>\n",
       "      <td>NaN</td>\n",
       "    </tr>\n",
       "    <tr>\n",
       "      <th>23520</th>\n",
       "      <td>bcad154b5114008a74284269973b7719</td>\n",
       "      <td>0000196-84.2017.7.00.0000</td>\n",
       "      <td>HABEAS CORPUS</td>\n",
       "      <td>FRANCISCO JOSELI PARENTE CAMELO</td>\n",
       "      <td>1) DIREITO PROCESSUAL PENAL MILITAR,JURISDIÇÃO...</td>\n",
       "      <td>13/09/2017</td>\n",
       "      <td>NaN</td>\n",
       "      <td>NaN</td>\n",
       "      <td>HABEAS CORPUS. FALSIDADE IDEOLÓGICA. TRANCAMEN...</td>\n",
       "      <td>NaN</td>\n",
       "      <td>NaN</td>\n",
       "    </tr>\n",
       "    <tr>\n",
       "      <th>23521</th>\n",
       "      <td>ae7692dc8dd10addd5b1581f83a72b06</td>\n",
       "      <td>0000037-98.2014.7.01.0201</td>\n",
       "      <td>RECURSO EXTRAORDINÁRIO</td>\n",
       "      <td>WILLIAM DE OLIVEIRA BARROS</td>\n",
       "      <td>NaN</td>\n",
       "      <td>30/11/2015</td>\n",
       "      <td>NaN</td>\n",
       "      <td>NaN</td>\n",
       "      <td>Sem Ementa</td>\n",
       "      <td>NaN</td>\n",
       "      <td>NaN</td>\n",
       "    </tr>\n",
       "  </tbody>\n",
       "</table>\n",
       "<p>23522 rows × 11 columns</p>\n",
       "</div>"
      ],
      "text/plain": [
       "                                     id            numero_processo  \\\n",
       "0      196d76fbaa8d33cb5009a4d2ea9a4646  7000063-44.2022.7.00.0000   \n",
       "1      21faeb33aa468134a5682f611032d5c7  7000119-77.2022.7.00.0000   \n",
       "2      f70155e802725005fcf73f88a014a973  7000282-57.2022.7.00.0000   \n",
       "3      957e9c91b185d6edc7cc7c96a60972fa  7000233-16.2022.7.00.0000   \n",
       "4      34f47109475d3d6fe98ee9f4ce2705ff  7000333-05.2021.7.00.0000   \n",
       "...                                 ...                        ...   \n",
       "23517  94720e5f6c4b5532e000c54cef0b7582  0000053-94.2015.7.12.0012   \n",
       "23518  228148a6a97087639b925f09ba960497  0000190-97.2015.7.11.0111   \n",
       "23519  e87b843f2ba57c456e8bdc25fbba9d22  0000087-65.2016.7.01.0101   \n",
       "23520  bcad154b5114008a74284269973b7719  0000196-84.2017.7.00.0000   \n",
       "23521  ae7692dc8dd10addd5b1581f83a72b06  0000037-98.2014.7.01.0201   \n",
       "\n",
       "                           classe                      Relator(a):  \\\n",
       "0          EMBARGOS DE DECLARAÇÃO              CELSO LUIZ NAZARETH   \n",
       "1      RECURSO EM SENTIDO ESTRITO            CARLOS VUYK DE AQUINO   \n",
       "2          EMBARGOS DE DECLARAÇÃO  FRANCISCO JOSELI PARENTE CAMELO   \n",
       "3                   HABEAS CORPUS              CELSO LUIZ NAZARETH   \n",
       "4                        APELAÇÃO                  LEONARDO PUNTEL   \n",
       "...                           ...                              ...   \n",
       "23517      RECURSO EXTRAORDINÁRIO       WILLIAM DE OLIVEIRA BARROS   \n",
       "23518      RECURSO EXTRAORDINÁRIO       WILLIAM DE OLIVEIRA BARROS   \n",
       "23519      RECURSO EXTRAORDINÁRIO             JOSÉ COÊLHO FERREIRA   \n",
       "23520               HABEAS CORPUS  FRANCISCO JOSELI PARENTE CAMELO   \n",
       "23521      RECURSO EXTRAORDINÁRIO       WILLIAM DE OLIVEIRA BARROS   \n",
       "\n",
       "                                               Assuntos: Data de Autuação:  \\\n",
       "0      1) DIREITO PENAL MILITAR,CRIMES CONTRA A ADMIN...        08/02/2022   \n",
       "1      1) DIREITO PENAL MILITAR,CRIMES CONTRA A ADMIN...        24/02/2022   \n",
       "2      1) DIREITO PENAL MILITAR,CRIMES CONTRA A ADMIN...        26/04/2022   \n",
       "3      1) DIREITO PROCESSUAL PENAL,INVESTIGAÇÃO PENAL...        05/04/2022   \n",
       "4      1) DIREITO PENAL MILITAR,CRIMES CONTRA A ADMIN...        18/05/2021   \n",
       "...                                                  ...               ...   \n",
       "23517  1) DIREITO PENAL MILITAR,CRIMES CONTRA O SERVI...        01/02/2017   \n",
       "23518  1) DIREITO PENAL MILITAR,CRIMES CONTRA O SERVI...        01/02/2017   \n",
       "23519  1) DIREITO PENAL MILITAR,CRIMES CONTRA A PESSO...        29/03/2017   \n",
       "23520  1) DIREITO PROCESSUAL PENAL MILITAR,JURISDIÇÃO...        13/09/2017   \n",
       "23521                                                NaN        30/11/2015   \n",
       "\n",
       "      Data de Julgamento: Data de Publicação:  \\\n",
       "0              15/06/2022          29/06/2022   \n",
       "1              15/06/2022          28/06/2022   \n",
       "2              15/06/2022          28/06/2022   \n",
       "3              15/06/2022          29/06/2022   \n",
       "4              15/06/2022          24/06/2022   \n",
       "...                   ...                 ...   \n",
       "23517                 NaN                 NaN   \n",
       "23518                 NaN                 NaN   \n",
       "23519                 NaN                 NaN   \n",
       "23520                 NaN                 NaN   \n",
       "23521                 NaN                 NaN   \n",
       "\n",
       "                                                  Ementa  \\\n",
       "0      EMENTA: EMBARGOS DE DECLARAÇÃO. DEFESA CONSTIT...   \n",
       "1      EMENTA: RECURSO EM SENTIDO ESTRITO. MINISTÉRIO...   \n",
       "2      EMENTA: EMBARGOS DE DECLARAÇÃO IN HABEAS CORPU...   \n",
       "3      EMENTA: HABEAS CORPUS. TRANCAMENTO DE IPM. LIM...   \n",
       "4      EMENTA: APELAÇÃO. DPU. USO DE DOCUMENTO FALSO....   \n",
       "...                                                  ...   \n",
       "23517                                         Sem Ementa   \n",
       "23518                                         Sem Ementa   \n",
       "23519                                         Sem Ementa   \n",
       "23520  HABEAS CORPUS. FALSIDADE IDEOLÓGICA. TRANCAMEN...   \n",
       "23521                                         Sem Ementa   \n",
       "\n",
       "                Revisor(a): Relator(a) do Acórdão:  \n",
       "0                       NaN                    NaN  \n",
       "1                       NaN                    NaN  \n",
       "2                       NaN                    NaN  \n",
       "3                       NaN                    NaN  \n",
       "4      JOSÉ COÊLHO FERREIRA                    NaN  \n",
       "...                     ...                    ...  \n",
       "23517                   NaN                    NaN  \n",
       "23518                   NaN                    NaN  \n",
       "23519                   NaN                    NaN  \n",
       "23520                   NaN                    NaN  \n",
       "23521                   NaN                    NaN  \n",
       "\n",
       "[23522 rows x 11 columns]"
      ]
     },
     "execution_count": 3,
     "metadata": {},
     "output_type": "execute_result"
    }
   ],
   "source": [
    "df = pd.read_csv(f'{path}Jurisprudências do Superior Tribunal Militar.csv.aspx')\n",
    "df"
   ]
  },
  {
   "cell_type": "code",
   "execution_count": 14,
   "id": "85945add",
   "metadata": {},
   "outputs": [],
   "source": [
    "df['classe'] = df['classe'].fillna(\" \")\n",
    "df['Assuntos:'] = df['Assuntos:'].fillna(\" \")\n",
    "df['Ementa'] = df['Ementa'].fillna(\" \")"
   ]
  },
  {
   "cell_type": "code",
   "execution_count": 15,
   "id": "6cc7b9f1",
   "metadata": {},
   "outputs": [
    {
     "data": {
      "text/plain": [
       "'EMBARGOS DE DECLARAÇÃO'"
      ]
     },
     "execution_count": 15,
     "metadata": {},
     "output_type": "execute_result"
    }
   ],
   "source": [
    "df.classe[0]"
   ]
  },
  {
   "cell_type": "code",
   "execution_count": 16,
   "id": "6b8ac381",
   "metadata": {},
   "outputs": [
    {
     "data": {
      "text/plain": [
       "' '"
      ]
     },
     "execution_count": 16,
     "metadata": {},
     "output_type": "execute_result"
    }
   ],
   "source": [
    "df['Assuntos:'][23521]"
   ]
  },
  {
   "cell_type": "code",
   "execution_count": 17,
   "id": "6ca636d1",
   "metadata": {},
   "outputs": [
    {
     "data": {
      "text/plain": [
       "'EMENTA: EMBARGOS DE DECLARAÇÃO. DEFESA CONSTITUÍDA. ALEGADA OMISSÃO NO \\n\\nACORDÃO. INCOMPETÊNCIA DA JUSTIÇA MILITAR PARA A EXECUÇÃO DA PENA. REMESSA DOS \\n\\nAUTOS À VARA DE EXECUÇÕES PENAIS COMUM. DISPOSITIVOS CONSTITUCIONAIS. ESTATUTO \\n\\nDOS MILITARES. LEI DE EXECUÇÕES PENAIS. FINALIDADE DE PREQUESTIONAMENTO. \\n\\nINTERPOSIÇÃO DE RECURSO PERANTE A EXCELSA CORTE. INEXISTÊNCIA DE AMBIGUIDADE, \\n\\nOMISSÃO, OBSCURIDADE OU CONTRADIÇÃO. EMBARGOS REJEITADOS. MANUTENÇÃO DO \\n\\nACÓRDÃO EMBARGADO. DECISÃO UNÂNIME.  \\n\\n1. Ao compulsar o petitório inicial, verifica-se que a defesa pretende rediscutir matéria \\n\\nexaustivamente enfrentada pelo juízo de piso e pelo Plenário deste Tribunal, prequestionando \\n\\nteses que julga serem de ordem constitucional com a finalidade de interpor Recurso perante o \\n\\nSupremo Tribunal Federal.  \\n\\n2. A matéria foi analisada e julgada no âmbito desta Corte Castrense que, de forma unânime, \\n\\ndecidiu que, em não havendo estabelecimento militar próprio para o cumprimento da pena, no \\n\\nregime semiaberto, faz-se necessária a remessa do feito ao Juízo de Execução Penal do local da \\n\\nresidência do sentenciado, para dar prosseguimento à execução da pena, conforme prevê o \\n\\nparágrafo único do art. 2º da LEP, c/c o Enunciado da Súmula nº 192 do STJ.  \\n\\n3. Não há afronta aos dispositivos previstos no artigo 142, § 3º, inciso VI, VII, da Constituição da \\n\\nRepública Federativa do Brasil, artigo 73, caput, § único, alínea \"c\", do Estatuto dos Militares, \\n\\nartigo 65 da Lei de Execução Penal e no Enunciado da Súmula nº 192 do STJ.  \\n\\n4. Em que pese os argumentos defensivos, no caso concreto, não há qualquer obscuridade, \\n\\ncontradição ou omissão no Acórdão, unânime, prolatado por este Tribunal que justifique o \\n\\nmanejo do referido Recurso que não se destina \"a reforma do acórdão ou a nulidade do processo, \\n\\nmas tão somente aclarar pontos considerados obscuros ou conflitantes do acórdão\". ] \\n\\n5. Embargos conhecidos e rejeitados. Decisão por unanimidade'"
      ]
     },
     "execution_count": 17,
     "metadata": {},
     "output_type": "execute_result"
    }
   ],
   "source": [
    "df.Ementa[0]"
   ]
  },
  {
   "cell_type": "code",
   "execution_count": 18,
   "id": "86cba150",
   "metadata": {},
   "outputs": [],
   "source": [
    "df['text'] = df['classe'] + ', Assuntos: ' + df['Assuntos:']+', Ementa: '+ df['Ementa']"
   ]
  },
  {
   "cell_type": "code",
   "execution_count": 20,
   "id": "b049f3f2",
   "metadata": {},
   "outputs": [],
   "source": [
    "# Ajuste os caracteres \"\\n\" para justificar\n",
    "df['text'] = df['text'].str.replace('\\n', ' ')"
   ]
  },
  {
   "cell_type": "code",
   "execution_count": 21,
   "id": "0d13ab26",
   "metadata": {},
   "outputs": [
    {
     "data": {
      "text/plain": [
       "'RECURSO EXTRAORDINÁRIO, Assuntos:  , Ementa: Sem Ementa'"
      ]
     },
     "execution_count": 21,
     "metadata": {},
     "output_type": "execute_result"
    }
   ],
   "source": [
    "df['text'][23521]"
   ]
  },
  {
   "cell_type": "code",
   "execution_count": 22,
   "id": "900aca8a",
   "metadata": {},
   "outputs": [
    {
     "data": {
      "text/plain": [
       "'RECURSO EXTRAORDINÁRIO, Assuntos:  , Ementa: Sem Ementa'"
      ]
     },
     "execution_count": 22,
     "metadata": {},
     "output_type": "execute_result"
    }
   ],
   "source": [
    "df['text'][23521]"
   ]
  },
  {
   "cell_type": "code",
   "execution_count": 23,
   "id": "ffda0990",
   "metadata": {},
   "outputs": [],
   "source": [
    "import re"
   ]
  },
  {
   "cell_type": "code",
   "execution_count": 24,
   "id": "b805fbd7",
   "metadata": {},
   "outputs": [],
   "source": [
    "def remove_html_tags(text):\n",
    "    text = str(text)\n",
    "    clean = re.compile('<.*?>')\n",
    "    return re.sub(clean, '', text)"
   ]
  },
  {
   "cell_type": "code",
   "execution_count": 25,
   "id": "c4c44d05",
   "metadata": {},
   "outputs": [],
   "source": [
    "\n",
    "# Exemplo de uso:\n",
    "html_text = \"\"\"EMENTA:          <!--         p.DefaultaParagraphaFont {           italic:;           bold:normal;           underline:;         }         p.CitaaaoaChar {           italic:italic;           bold:normal;           underline:;           size:3;         }         p.Quote {           LeftIndent:0.0;           RightIndent:0.0;           FirstLineIndent:127.6;           Alignment:justify;         }         p.CorpoaChara {           italic:;           bold:normal;           underline:;           size:3;         }         p.EmentaaChara {           italic:;           bold:normal;           underline:;           size:3;         }         p.ListaParagraph {           LeftIndent:35.4;           RightIndent:0.0;           FirstLineIndent:127.6;           Alignment:justify;         }         p.Corpo {           LeftIndent:0.0;           RightIndent:0.0;           FirstLineIndent:127.55;           Alignment:justify;         }         p.Tema {           LeftIndent:0.0;           RightIndent:0.0;           FirstLineIndent:127.55;           Alignment:justify;         }         p.IstoaPosto {           LeftIndent:0.0;           RightIndent:0.0;           FirstLineIndent:127.55;           Alignment:justify;         }         p.Voto {           LeftIndent:0.0;           RightIndent:0.0;           FirstLineIndent:127.55;           Alignment:justify;         }         p.Relatario {           LeftIndent:0.0;           RightIndent:0.0;           FirstLineIndent:127.55;           Alignment:justify;         }         p.NumaProcesso {           LeftIndent:0.0;           RightIndent:0.0;           FirstLineIndent:127.55;           Alignment:right;           SpaceBelow:8.5;         }         p.CorreaJunto {           LeftIndent:0.0;           RightIndent:0.0;           FirstLineIndent:127.55;           Alignment:right;           SpaceBelow:8.5;         }         p.pageanumber {           italic:;           bold:normal;           underline:;         }         p.Transcriaaoaa {           LeftIndent:184.3;           RightIndent:0.0;           FirstLineIndent:28.35;           Alignment:justify;         }         p.Transcriaao {           LeftIndent:127.55;           RightIndent:0.0;           FirstLineIndent:28.35;           Alignment:justify;         }         p.DataaChar {           italic:;           bold:normal;           underline:;           size:3;         }         p.Date {           LeftIndent:0.0;           RightIndent:0.0;           FirstLineIndent:127.6;           Alignment:justify;         }         p.MapaadoaDocumentoaChar {           italic:;           bold:normal;           underline:;           size:1;         }         p.DocumentaMap {           LeftIndent:0.0;           RightIndent:0.0;           FirstLineIndent:127.6;           Alignment:justify;         }         p.RodapaaChar {           italic:;           bold:normal;           underline:;           size:3;         }         p.footer {           LeftIndent:0.0;           RightIndent:0.0;           FirstLineIndent:127.6;           Alignment:justify;         }         p.CabeaalhoaChar {           italic:;           bold:normal;           underline:;           size:3;         }         p.header {           LeftIndent:0.0;           RightIndent:0.0;           FirstLineIndent:127.6;           Alignment:right;         }         p.footnoteareference {           italic:;           bold:normal;           underline:;         }         p.TextoadeanotaadearodapaaChar {           italic:;           bold:normal;           underline:;           size:2;         }         p.footnoteatext {           LeftIndent:0.0;           RightIndent:0.0;           FirstLineIndent:127.6;           Alignment:justify;         }         p.Funaao {           LeftIndent:93.55;           RightIndent:93.55;           FirstLineIndent:0.0;           Alignment:center;         }         p.Autoridade {           LeftIndent:93.55;           RightIndent:93.55;           FirstLineIndent:0.0;           Alignment:center;         }         p.Ementa {           LeftIndent:226.8;           RightIndent:0.0;           FirstLineIndent:0.0;           Alignment:justify;         }         p.Identificaaao {           LeftIndent:0.0;           RightIndent:0.0;           FirstLineIndent:0.0;           Alignment:justify;         }         p.TatuloaaaChar {           italic:;           bold:bold;           underline:;           size:4;         }         p.TatuloaaaChar {           italic:italic;           bold:bold;           underline:;           size:4;         }         p.TatuloaaaChar {           italic:;           bold:bold;           underline:;           size:5;         }         p.headingaa {           LeftIndent:0.0;           RightIndent:0.0;           FirstLineIndent:127.6;           Alignment:justify;         }         p.headingaa {           LeftIndent:0.0;           RightIndent:0.0;           FirstLineIndent:127.6;           Alignment:justify;         }         p.headingaa {           LeftIndent:0.0;           RightIndent:0.0;           FirstLineIndent:127.6;           Alignment:justify;         }       -->          EMBARGOS DE DECLARAÇÃO.        Embargos de declaração   providos   para prestar esclarecimentos, sem, contudo, conferir efeito modificativo ao julgado   .        , INTEIRO TEOR:          <!--       -->          A C Ó R D Ã O     2ª Turma     GMJRP/rl/vm/ac         EMBARGOS DE DECLARAÇÃO.        Embargos de declaração   providos   para prestar esclarecimentos, sem, contudo, conferir efeito modificativo ao julgado   .         Vistos, relatados e discutidos estes autos de   Embargos de Declaração em Agravo em Agravo de Instrumento em Recurso de Revista n°     TST-ED-Ag-AIRR-10360-25.2018.5.03.0108   , em que é   Embargante     UPSIDE DISTRIBUIÇÃO DE ALIMENTOS LTDA.   e   Embargada     LILIAN CRISTINA DE BARROS   .         Por meio de decisão monocrática, com fundamento no artigo 255, inciso III, alínea \"a\", do Regimento Interno do Tribunal Superior do Trabalho, negou-se provimento ao agravo de instrumento da reclamada para manter a decisão regional em que se reconheceu o liame empregatício entre as partes, bem como se condenou a empregadora ao pagamento de indenização pelo uso de veículos.     A reclamada interpôs agravo, ao qual foi negado provimento, em virtude de a parte não ter desconstituído os fundamentos da decisão monocrática.     Inconformada, a demandada interpõe embargos de declaração, alegando, em síntese, que o acordão proferido por esta Segunda Turma merece reforma, visto que \"   um REPRESENTANTE COMERCIAL AUTÔNOMO empregado por força de seu conteúdo, NÃO TEM O CONDÃO AUTOMÁTICO de tornar uma premissa da relação comercial diretamente em indenização, como o caso do uso do veículo   \"(pág. 743).     Aduz que o valor arbitrado a titulo de indenização pelo uso de veículo é desarrazoado, sendo incontroversa a inobservância aos princípios do contraditório e da ampla defesa.     É o relatório.         V O T O         Sem razão.     Decisão omissa   ,   que pode ser alterada por meio de embargos de declaração   ,   refere-se àquela em que se deixou de decidir algum ponto do litígio, no todo ou em parte, consubstanciando-se esse vício quando o julgador deixa de decidir sobre alguma questão, suscitada pelas partes, relevante ou fundamental ao deslinde da controvérsia.     Na hipótese dos autos, não obstante proferida em sentido contrário aos interesses da ora embargante, não se divisa a configuração do vício mencionado, mas o evidente inconformismo da reclamada com a solução dada ao litígio, haja vista que   ,   no acórdão ora embargado   ,   consignaram-se os fundamentos fáticos e jurídicos a pautar o desprovimento do agravo de instrumento.     Com efeito, constou   ,   expressamente, da decisão embargada, que   as provas dos autos, valoradas pelo Tribunal de origem, foram contundentes em evidenciar a relação empregatícia firmada entre as partes, nos exatos termos insculpidos no artigo 3º da CLT.     Dessa forma, a Corte de origem rechaçou veementemente a tese da defesa, no sentido de que a autora desempenhava serviço autônomo, como representante comercial, nos moldes da Lei nº 4.886/65.     Assim, ultrapassada a questão fática quanto ao liame empregatício estabelecido entre os litigantes, passou-se à análise do direito da autora à indenização pelo uso de veículo.     Salientou-se que esta Corte Superior firmou o entendimento de ser devida a indenização pela depreciação decorrente do uso de veículo próprio, visto que compete ao empregador a assunção dos riscos provenientes da atividade econômica, nos termos do artigo 2º da CLT.     Esclareceu-se que, do quadro fático delineado pela Corte de origem, reputa-se indene de dúvidas que a obreira utilizava veículo próprio na prestação de serviços em prol da demandada, no entanto, não percebia nenhum valor referente a tal utilização.     Dessa forma, manteve-se a decisão regional, em que se condenou a reclamada ao pagamento da mencionada indenização com fulcro no artigo 2º da CLT.     Quanto ao valor arbitrado à indenização por uso de veículo, mister se faz salientar que, n   os termos do art. 1º, § 1º, da Instrução Normativa nº 40/2016, vigente a partir de 15/4/2016, se houver omissão no Juízo de admissibilidade do recurso de revista quanto a um ou mais temas, cumpre à parte interpor embargos de declaração para o órgão prolator da decisão embargada supri-la, sob pena de preclusão. Assim, não tendo sido tal preceito observado pela então agravante, inviável o exame do apelo no que diz respeito ao tema, pois fulminada pela preclusão.       Diante das razões expostas,   dou provimento   aos embargos de declaração para prestar esclarecimentos, sem, contudo, imprimir efeito modificativo ao julgado.           ISTO       POSTO         ACORDAM   os Ministros da Segunda Turma do Tribunal Superior do Trabalho, por unanimidade, dar provimento   ao embargo de declaração para prestar esclarecimentos, sem, contudo, imprimir efeito modificativo ao julgado   .     Brasília, 16 de dezembro de 2020.                   Firmado por assinatura digital (MP 2.200-2/2001)       JOSÉ ROBERTO FREIRE PIMENTA        Ministro Relator\"\"\"\n",
    "texto_sem_tags = remove_html_tags(html_text)\n",
    "#print(texto_sem_tags)"
   ]
  },
  {
   "cell_type": "code",
   "execution_count": 26,
   "id": "2e763d59",
   "metadata": {},
   "outputs": [],
   "source": [
    "def remove_excess_spaces(text):\n",
    "    text = str(text)\n",
    "\n",
    "    return re.sub(r'\\s+', ' ', text).strip()"
   ]
  },
  {
   "cell_type": "code",
   "execution_count": 29,
   "id": "351aa8b5",
   "metadata": {},
   "outputs": [],
   "source": [
    "#usado para debug\n",
    "for index, value in enumerate(df['text']):\n",
    "    try:\n",
    "        df.at[index, 'text'] = remove_excess_spaces(value)\n",
    "    except TypeError as e:\n",
    "        print(f\"Erro na linha {index}: {value}\")\n",
    "        print(str(e))\n"
   ]
  },
  {
   "cell_type": "code",
   "execution_count": 30,
   "id": "1975edf2",
   "metadata": {
    "collapsed": true
   },
   "outputs": [
    {
     "data": {
      "text/plain": [
       "'EMENTA: I - AGRAVO DE INSTRUMENTO. RECURSO DE REVISTA. RETORNO DOS AUTOS. NEGATIVA DE PRESTAÇÃO JURISDICIONAL. O Tribunal de origem examinou e fundamentou toda a matéria que lhe foi devolvida, não havendo que se falar em negativa da prestação jurisdicional. Verifica-se que a Corte Regional, muito embora tenha decidido de forma contrária à pretensão do agravante, apresentou solução judicial para o conflito, caracterizando efetiva prestação jurisdicional. Incólumes os arts. 93, IX, da CF, 832 da CLT e 489 do CPC. Agravo de instrumento a que se nega provimento. HORAS EXTRAS. Na hipótese, a Corte de origem manteve o indeferimento das horas extras postuladas pelo reclamante. Aduziu a Corte de origem que , conforme se verifica da inicial, a causa de pedir das horas extras é a alegada existência de 30 minutos residuais, antes e depois da jornada, os quais não teriam sido pagos. Ressaltou, assim, que a demanda posta na inicial não questiona a validade da quitação dos valores registrados nos recibos , mas sim a ausência de pagamento dos supostos 30 minutos diários que teriam sido registrados nos controles de ponto e não computados nas fichas de pagamento. Nesse sentido, o Tribunal de origem asseverou que a ausência de assinatura nas fichas financeiras e recibos (que apresentam as informações bancárias do empregado) não altera a conclusão adotada quanto ao indeferimento de horas extras, tendo em vista os limites do pedido e causa de pedir das horas extras. Pelo exposto, verifica-se que o entendimento adotado pelo Tribunal Regional não viola a literalidade do art. 464 da CLT. Os arestos trazidos a cotejo são inespecíficos, à luz da Súmula 296 do TST. Agravo de instrumento a que se nega provimento. II - RECURSO DE REVISTA. RETORNO DOS AUTOS. ANÁLISE DOS TEMAS SOBRESTADOS. DOENÇA OCUPACIONAL. NÃO CONFIGURAÇÃO. AUSÊNCIA DE NEXO DE CAUSALIDADE. Hipótese em que o Tribunal de origem concluiu pela ausência de nexo causal entre a doença e o trabalho, conforme constatado pela perícia, ressaltando não ter sido demonstrada a submissão do reclamante a condições de risco ergonômico que propiciassem a enfermidade. Aduziu, ainda, a Corte regional que não há nos autos prova de incapacitação ou minoração profissional, tampouco indícios de prejuízo estético ou psicológico causados pela reclamada. Para se concluir de forma distinta, seria imprescindível a reapreciação da prova coligida nos autos, procedimento vedado em sede de recurso de revista, nos termos da Súmula nº 126 do TST. Incólume, portanto, o art. 118 da Lei nº 8.213/91. Recurso de revista de que não se conhece. INDENIZAÇÃO POR DANOS MORAIS E MATERIAIS. Conforme já examinado nos autos, foi afastado nexo de causalidade entre a doença do reclamante e suas atividades laborais. Consta, ainda, do acórdão não haver prova nos autos de incapacitação ou minoração profissional, tampouco indícios de prejuízo estético ou psicológico causados pela reclamada. Tais premissas fáticas revelam-se insuscetíveis de reexame nesta instância extraordinária, nos termos da Súmula nº 126 do TST. Nesse contexto, indevidas as postuladas indenizações por danos morais ou materiais, estando incólumes os artigos indicados. O aresto colacionado não atende o art. 896, \"a\", da CLT. Recurso de revista de que não se conhece. INDENIZAÇÃO POR DANOS ESTÉTICOS. RESSARCIMENTO DE DESPESAS. RECURSO DESFUNDAMENTADO. A indicação violação de cláusula normativa ou de divergência com aresto oriundo do STJ não impulsiona o conhecimento do recurso de revista, nos termos do artigo 896 da CLT. Conclui-se, portanto, que o recurso de revista, nos temas em epígrafe, não está adequadamente fundamentado, nos termos do art. 896 da CLT, pois não é indicada ofensa a dispositivo de lei e/ou da Constituição Federal, contrariedade a súmula desta Corte ou a súmula vinculante do STF, tampouco divergência jurisprudencial válida. Recurso de revista de que não se conhece. ADICIONAL DE INSALUBRIDADE. INOBSERVÂNCIA DO ART. 896, § 1º-A, I, DA CLT. O reclamante transcreveu integralmente o tópico do acórdão referente ao objeto de seu recurso , sem a indicação expressa, destacada, da tese prequestionada, o que não atende ao disposto no artigo 896, § 1º-A, I, da CLT. Conforme entende esta Corte Superior, tal indicação constitui encargo da recorrente, exigência formal intransponível ao conhecimento do recurso de revista . Ademais, segundo entendimento da SBDI-1 desta Corte, a transcrição do inteiro teor do acórdão no tópico impugnado só é válida quando a fundamentação se dá de forma sucinta, o que não ocorre na hipótese. Recurso de revista de que não se conhece. HORAS EXTRAS. Na hipótese, a Corte de origem manteve o indeferimento das horas extras postuladas pelo reclamante. Asseverou que a demanda posta na inicial não questiona a validade da quitação dos valores registrados nos recibos , mas sim a ausência de pagamento de supostos 30 minutos diários que teriam sido registrados nos controles de ponto e não computados nas fichas de pagamento. Nesse sentido, o Tribunal de origem asseverou que a ausência de assinatura nas fichas financeiras e recibos (que apresentam as informações bancárias do empregado) não altera a conclusão adotada quanto ao indeferimento de horas extras, tendo em vista os limites do pedido e causa de pedir das horas extras. Acrescentou , por outro lado, que a s demais provas produzidas nos autos não ilidem as informações presentes nas fichas financeiras e recibos apresentados pela reclamada ; além de que a prova oral produzida nada menciona acerca da validade dos registros de pagamento ou de horas extras . Por fim , consta do acórdão regional que o demonstrativo de diferenças de horas extras apresentado pelo autor mostra-se imprestável, já que não foram deduzidas as horas extras incontroversamente pagas nos contracheques . Pelo exposto, não se verifica no entendimento adotado pela Corte a quo violação direta e literal dos arts. 7º, XIII e XIV, da CF e 58 e 464, parágrafo único, da CLT; tampouco contrariedade à Súmula nº 366 do TST. Os arestos trazidos a cotejo são inespecíficos, à luz da Súmula 296 do TST . Recurso de revista de que não se conhece. DESCANSOS SEMANAIS REMUNERADOS. Conforme se extrai do acórdão recorrido, os cartões de ponto atestam a concessão da folga semanal. Analisando tais documentos por amostragem, a Corte de origem verificou que o reclamante gozou todos os descansos hebdomadários. Diante do contexto fático-probatório delineado, insuscetível de reexame nesta instância extraordinária, nos termos da Súmula nº 126/TST, não se verifica violação direta e literal dos arts. 7º, caput e XV, da CF e 67 da CLT. Recurso de revista de que não se conhece. INTERVALO INTRAJORNADA. Relativamente ao intervalo intrajornada, o Tribunal Regional consignou que, no período entre 10/9/2012 e 10/9/2014, a redução do intervalo de 60 para 40 minutos foi expressamente autorizada por ato do Ministério do Trabalho, na exata dicção do § 3º do art . 71 da CLT . Ressaltou, ainda, a Corte de origem que o reclamante não se sujeitou a regime de prorrogação de jornada . Nessa senda, a decisão regional coaduna-se com o entendimento prevalecente nesta Corte, no sentido de ser válida a redução do intervalo intrajornada quando há autorização específica do Ministério do Trabalho e inexiste a sobrejornada habitual, na forma do art . 71, § 3º , da CLT. Recurso de revista de que não se conhece. PRESCRIÇÃO DO FGTS . Verifica-se que o Tribunal Regional não se manifestou expressamente quanto à prescrição do FGTS, tampouco foi instado a fazê-lo mediante os embargos declaratórios opostos. Incide, portanto, o óbice da Súmula nº 297 desta Corte, ante a ausência de prequestionamento. Recurso de revista de que não se conhece. DIFERENÇAS DE FGTS. Na hipótese, consignou a Corte regional que, embora as fichas financeiras e os recibos acostados não contenham a assinatura do reclamante, a lei atribui força de recibo ao comprovante de depósito em conta bancária, aberta para esse fim em nome de cada empregado. Insta ressaltar que , após o retorno dos autos ao Tribunal regional determinado por esta Turma, embora a Corte de origem tenha registrado a ausência de \"comprovantes de depósito em conta bancária referentes às horas extras prestadas\", não se manifestou expressamente quanto aos comprovantes de depósito em conta vinculada ao FGTS. Assim, diante do contexto fático-probatório delineado, o acolhimento da pretensão recursal importaria na reapreciação da prova coligida nos autos, procedimento vedado em sede de recurso de revista, nos termos da Súmula nº 126 do TST. Não se verifica violação literal do art. 464, parágrafo único, da CLT. Recurso de revista de que não se conhece., INTEIRO TEOR: A C Ó R D Ã O (2ª Turma) GMMHM/tcb/nt I – AGRAVO DE INSTRUMENTO. RECURSO DE REVISTA. RETORNO DOS AUTOS. NEGATIVA DE PRESTAÇÃO JURISDICIONAL. O Tribunal de origem examinou e fundamentou toda a matéria que lhe foi devolvida, não havendo que se falar em negativa da prestação jurisdicional. Verifica-se que a Corte Regional, muito embora tenha decidido de forma contrária à pretensão do agravante, apresentou solução judicial para o conflito, caracterizando efetiva prestação jurisdicional. Incólumes os arts. 93, IX, da CF, 832 da CLT e 489 do CPC. Agravo de instrumento a que se nega provimento. HORAS EXTRAS. Na hipótese, a Corte de origem manteve o indeferimento das horas extras postuladas pelo reclamante. Aduziu a Corte de origem que , conforme se verifica da inicial, a causa de pedir das horas extras é a alegada existência de 30 minutos residuais, antes e depois da jornada, os quais não teriam sido pagos. Ressaltou, assim, que a demanda posta na inicial não questiona a validade da quitação dos valores registrados nos recibos , mas sim a ausência de pagamento dos supostos 30 minutos diários que teriam sido registrados nos controles de ponto e não computados nas fichas de pagamento. Nesse sentido, o Tribunal de origem asseverou que a ausência de assinatura nas fichas financeiras e recibos (que apresentam as informações bancárias do empregado) não altera a conclusão adotada quanto ao indeferimento de horas extras, tendo em vista os limites do pedido e causa de pedir das horas extras. Pelo exposto, verifica-se que o entendimento adotado pelo Tribunal Regional não viola a literalidade do art. 464 da CLT. Os arestos trazidos a cotejo são inespecíficos, à luz da Súmula 296 do TST. Agravo de instrumento a que se nega provimento. II – RECURSO DE REVISTA. RETORNO DOS AUTOS. ANÁLISE DOS TEMAS SOBRESTADOS. DOENÇA OCUPACIONAL. NÃO CONFIGURAÇÃO. AUSÊNCIA DE NEXO DE CAUSALIDADE. Hipótese em que o Tribunal de origem concluiu pela ausência de nexo causal entre a doença e o trabalho, conforme constatado pela perícia, ressaltando não ter sido demonstrada a submissão do reclamante a condições de risco ergonômico que propiciassem a enfermidade. Aduziu, ainda, a Corte regional que não há nos autos prova de incapacitação ou minoração profissional, tampouco indícios de prejuízo estético ou psicológico causados pela reclamada. Para se concluir de forma distinta, seria imprescindível a reapreciação da prova coligida nos autos, procedimento vedado em sede de recurso de revista, nos termos da Súmula nº 126 do TST. Incólume, portanto, o art. 118 da Lei nº 8.213/91. Recurso de revista de que não se conhece. INDENIZAÇÃO POR DANOS MORAIS E MATERIAIS. Conforme já examinado nos autos, foi afastado nexo de causalidade entre a doença do reclamante e suas atividades laborais. Consta, ainda, do acórdão não haver prova nos autos de incapacitação ou minoração profissional, tampouco indícios de prejuízo estético ou psicológico causados pela reclamada. Tais premissas fáticas revelam-se insuscetíveis de reexame nesta instância extraordinária, nos termos da Súmula nº 126 do TST. Nesse contexto, indevidas as postuladas indenizações por danos morais ou materiais, estando incólumes os artigos indicados. O aresto colacionado não atende o art. 896, \"a\", da CLT. Recurso de revista de que não se conhece. INDENIZAÇÃO POR DANOS ESTÉTICOS. RESSARCIMENTO DE DESPESAS. RECURSO DESFUNDAMENTADO. A indicação violação de cláusula normativa ou de divergência com aresto oriundo do STJ não impulsiona o conhecimento do recurso de revista, nos termos do artigo 896 da CLT. Conclui-se, portanto, que o recurso de revista, nos temas em epígrafe, não está adequadamente fundamentado, nos termos do art. 896 da CLT, pois não é indicada ofensa a dispositivo de lei e/ou da Constituição Federal, contrariedade a súmula desta Corte ou a súmula vinculante do STF, tampouco divergência jurisprudencial válida. Recurso de revista de que não se conhece. ADICIONAL DE INSALUBRIDADE. INOBSERVÂNCIA DO ART. 896, § 1º-A, I, DA CLT. O reclamante transcreveu integralmente o tópico do acórdão referente ao objeto de seu recurso , sem a indicação expressa, destacada, da tese prequestionada, o que não atende ao disposto no artigo 896, § 1º-A, I, da CLT. Conforme entende esta Corte Superior, tal indicação constitui encargo da recorrente, exigência formal intransponível ao conhecimento do recurso de revista . Ademais, segundo entendimento da SBDI-1 desta Corte, a transcrição do inteiro teor do acórdão no tópico impugnado só é válida quando a fundamentação se dá de forma sucinta, o que não ocorre na hipótese. Recurso de revista de que não se conhece. HORAS EXTRAS. Na hipótese, a Corte de origem manteve o indeferimento das horas extras postuladas pelo reclamante. Asseverou que a demanda posta na inicial não questiona a validade da quitação dos valores registrados nos recibos , mas sim a ausência de pagamento de supostos 30 minutos diários que teriam sido registrados nos controles de ponto e não computados nas fichas de pagamento. Nesse sentido, o Tribunal de origem asseverou que a ausência de assinatura nas fichas financeiras e recibos (que apresentam as informações bancárias do empregado) não altera a conclusão adotada quanto ao indeferimento de horas extras, tendo em vista os limites do pedido e causa de pedir das horas extras. Acrescentou , por outro lado, que as demais provas produzidas nos autos não ilidem as informações presentes nas fichas financeiras e recibos apresentados pela reclamada; além de que a prova oral produzida nada menciona acerca da validade dos registros de pagamento ou de horas extras . Por fim , consta do acórdão regional que o demonstrativo de diferenças de horas extras apresentado pelo autor mostra-se imprestável, já que não foram deduzidas as horas extras incontroversamente pagas nos contracheques . Pelo exposto, não se verifica no entendimento adotado pela Corte a quo violação direta e literal dos arts. 7º, XIII e XIV, da CF e 58 e 464, parágrafo único, da CLT; tampouco contrariedade à Súmula nº 366 do TST. Os arestos trazidos a cotejo são inespecíficos, à luz da Súmula 296 do TST . Recurso de revista de que não se conhece. DESCANSOS SEMANAIS REMUNERADOS. Conforme se extrai do acórdão recorrido, os cartões de ponto atestam a concessão da folga semanal. Analisando tais documentos por amostragem, a Corte de origem verificou que o reclamante gozou todos os descansos hebdomadários. Diante do contexto fático-probatório delineado, insuscetível de reexame nesta instância extraordinária, nos termos da Súmula nº 126/TST, não se verifica violação direta e literal dos arts. 7º, caput e XV, da CF e 67 da CLT. Recurso de revista de que não se conhece. INTERVALO INTRAJORNADA. Relativamente ao intervalo intrajornada, o Tribunal Regional consignou que, no período entre 10/9/2012 e 10/9/2014, a redução do intervalo de 60 para 40 minutos foi expressamente autorizada por ato do Ministério do Trabalho, na exata dicção do § 3º do art . 71 da CLT . Ressaltou, ainda, a Corte de origem que o reclamante não se sujeitou a regime de prorrogação de jornada . Nessa senda, a decisão regional coaduna-se com o entendimento prevalecente nesta Corte, no sentido de ser válida a redução do intervalo intrajornada quando há autorização específica do Ministério do Trabalho e inexiste a sobrejornada habitual, na forma do art . 71, § 3º , da CLT. Recurso de revista de que não se conhece. PRESCRIÇÃO DO FGTS . Verifica-se que o Tribunal Regional não se manifestou expressamente quanto à prescrição do FGTS, tampouco foi instado a fazê-lo mediante os embargos declaratórios opostos. Incide, portanto, o óbice da Súmula nº 297 desta Corte, ante a ausência de prequestionamento. Recurso de revista de que não se conhece. DIFERENÇAS DE FGTS. Na hipótese, consignou a Corte regional que, embora as fichas financeiras e os recibos acostados não contenham a assinatura do reclamante, a lei atribui força de recibo ao comprovante de depósito em conta bancária, aberta para esse fim em nome de cada empregado. Insta ressaltar que , após o retorno dos autos ao Tribunal regional determinado por esta Turma, embora a Corte de origem tenha registrado a ausência de \"comprovantes de depósito em conta bancária referentes às horas extras prestadas\", não se manifestou expressamente quanto aos comprovantes de depósito em conta vinculada ao FGTS. Assim, diante do contexto fático-probatório delineado, o acolhimento da pretensão recursal importaria na reapreciação da prova coligida nos autos, procedimento vedado em sede de recurso de revista, nos termos da Súmula nº 126 do TST. Não se verifica violação literal do art. 464, parágrafo único, da CLT. Recurso de revista de que não se conhece. Vistos, relatados e discutidos estes autos de Recurso de Revista com Agravo n° TST-RRAg-812-46.2014.5.17.0004 , em que é Agravante e Recorrente NILTON DA SILVA DAMASCENO e Agravada e Recorrida CHOCOLATES GAROTO S.A. O Tribunal Regional do Trabalho da 17ª Região, mediante o acórdão de fls. 1.807/1.819, negou provimento ao recurso ordinário interposto pela reclamada e deu parcial provimento ao recurso ordinário interposto pelo reclamante. Inconformado, o reclamante interpôs recurso de revista às fls. 1.871/1.939, postulando a revisão do julgado. Por meio da decisão de fls. 1.947/1.948, o Presidente do Tribunal Regional admitiu o recurso de revista por divergência jurisprudencial. Esta Turma, mediante o acórdão de fls. 2.049/2.062, deu provimento ao recurso de revista interposto pelo reclamante quanto à preliminar de nulidade do acórdão regional por negativa de prestação jurisdicional \"para determinar o retorno dos autos ao Tribunal Regional de origem a fim de que esclareça a questão relativa à validade dos recibos de pagamentos de horas extras e se constam dos autos comprovantes de depósito em conta bancária\". Determinou-se, ainda, o sobrestamento da análise dos temas remanescentes no recurso de revista do reclamante , bem como o retorno dos autos a esta Turma, com ou sem a interposição de novos recursos pelas partes, para apreciação dos temas sobrestados . Em resposta à mencionada determinação, o TRT da 17ª Região, acolheu os embargos de declaração opostos anteriormente para prestar esclarecimentos, sem efeito modificativo ao julgado (fls. 2.070/2.072). O reclamante interpôs novos embargos de declaração e o TRT de origem proferiu novo acórdão às fls. 2.083/2.086, negando-lhes provimento. Contra o acórdão regional , o reclamante interpôs novo recurso de revista às fls. 2.090/2.198 . O juízo regional de admissibilidade denegou seguimento ao segundo recurso de revista interposto pelo reclamante (fls . 2.217/2.220), o que ensejou a interposição de agravo de instrumento (fls. 2.228/2.326). A reclamada apresentou contraminuta ao agravo de instrumento e contrarrazões ao recurso de revista. Desnecessária a remessa dos autos ao Ministério Público do Trabalho. É o relatório. V O T O I – AGRAVO DE INSTRUMENTO Conheço do agravo de instrumento, uma vez que atendidos os pressupostos de admissibilidade. 1 – NEGATIVA DE PRESTAÇÃO JURISDICIONAL O reclamante argui preliminar de nulidade por negativa de prestação jurisdicional. Alega que o Tribunal de origem, mesmo instado por embargos de declaração, adotou tese inovatória no sentido de que não existe pedido de pagamento de horas extras. Aduz que o acordão regional não esclareceu a contradição havida , pois adota entendimento de que o Reclamante impugnou a ausência de assinatura nas fichas financeiras e recibos, e, em seguida, adota tese de que o autor não questionou os valores registrados. Alega que a tese autoral é no sentido de que as horas extras anotadas nos cartões de ponto não foram pagas, tendo sido impugnadas as fichas financeiras e recibos de pagamento, visto que não possuem a assinatura do autor. Aponta violação dos arts. 93, IX, da Constituição Federal; 489 do CPC; e 832 da CLT. Examino. O Tribunal Regional, no que concerne ao tema em em destaque, consignou: \" DIFERENÇAS DE HORAS EXTRAS - JORNADA SUPLEMENTAR REGISTRADA NOS ESPELHOS DE PONTO E DITA PAGA A MENOR Indeferida a cobrança de diferenças de horas extras ditas registradas nos controles de frequência e pagas a menor, o Reclamante, inconformado, reitera a pretensão perante esta instância revisora. Segundo o arrazoado, a falta de assinatura do empregado nos recibos de pagamento não prova a quitação regular da jornada suplementar. Socorre-se no parágrafo único do artigo 464 da CLT. A sentença não merece censura. Conquanto a ficha financeira e os recibos acostados ao IDf282e83 e ID5295bd0 não contenham a assinatura do Reclamante - e de fato, não contêm -, não se pode perder de vista que a lei atribui força de recibo ao comprovante de depósito em conta bancária, aberta para esse fim em nome de cada empregado. A norma inserta no parágrafo único artigo 464 da CLT é suficientemente clara a respeito. Nego provimento.\" Opostos embargos de declaração pelo reclamante, asseverou a Corte a quo: \" EMBARGOS DE DECLARAÇÃO DO RECLAMANTE CONTRADIÇÃO x INCONFORMISMO Para o Reclamante, o acórdão seria contraditório por que em descompasso com acervo probatório acostado aos autos. Segundo o Autor, recibos de pagamento assinados - mas não acompanhados dos respectivos comprovantes de depósito - não se prestam a provar a percepção da rubrica, quando questionada sua credibilidade a tempo e modo. Alega, ainda, omissão no exame das temáticas (I) nexo técnico epidemiológico entre doença ocupacional e atividade laborativa; (II) ressarcimento de todas as despesas referentes a assistência médica.; (III) intervalo intrajornada; e (IV) FGTS sobre o terço de férias. Aponta, ainda, violação a dispositivo de lei quanto à controvérsia adicional de insalubridade. Não lhe assiste razão. A omissão que empolga a oposição dos Embargos de Declaração é a ausência de adoção de tese explicita a respeito de temática levantada em sede recursal, não a pretensa falta de exame de provas ou o error in judicando, circunstâncias dissociadas em absoluto da realidade vivenciada nesta ação. A contradição que desafia a oposição dos aclaratórios, por fim, não é o alegado descompasso entre decisões ou o pretenso equívoco na análise da prova, mas sim a desarmonia intra-decisão, isto é, aquela que deriva de proposições inconciliáveis no corpo do próprio julgado. Se o embargante voltar a ler a decisão colegiada, verá que as temática a cujo respeito se pretende reexame de prova foram suficiente examinadas conforme 61d8f6e, páginas 1 a13, pelo que, ante o veto inserto no artigo 836 da CLT, não serão reapreciadas. Se mesmo assim entende o embargante que a Casa, em deliberação, não se baseou nas diretrizes que lhe julga aplicáveis, ou que há elementos nos autos que induzem à reforma de sua decisão, o remédio é o recurso à instância superior, não o ora apresentado. Nego provimento .\" (fls. 1.849) Inconformado, o reclamante opôs novos embargos declaratórios, tendo o Tribunal Regional se manifestado nos seguintes termos: \" EMBARGOS DE DECLARAÇÃO DO RECLAMANTE OMISSÃO JUDICANTE x JULGAMENTO DIVORCIADO DO INTERESSE DEFENDIDO EM JUÍZO Para o Reclamante, as omissões apontadas nos Embargos de Declaração opostos no ID2764ba6 e já julgados pela Corte no IDd83e05e remanescem presentes. Sob sua ótica, a temática (I) horas extras teria sido decidida em contraste ao acervo probatório, uma vez que a Reclamada não teria juntado aos autos comprovantes de depósito bancário que atestem a quitação da jornada suplementar e a Corte, sob seu prisma, não teria atentado para este pormenor. [...] Não lhe assiste razão. A temática (I) horas extras foi examinada suficientemente no ID61d8f6e - Pág. 9. Se o Reclamante crê ter havido error in judicando no que toca à existência ou não de comprovantes de depósito bancário, o caminho é o recurso à próxima instância, não se prestando os aclaratórios a tal desiderato. Não fosse apenas isto, alerto que o cotejo entre a inicial e o arrazoado atesta ostensivos indícios de litigância de má-fé, pois a peça de ingresso faz menção à ausência de pagamento, ao passo que, em recurso, o Autor questiona a credibilidade da prova de pagamento , não sendo redundante pontuar ser do Autor o ônus de impugnação à prova documental trazida aos autos pela contraparte, na exata dicção do artigo 372 do CPC. Confira-se. Petição Inicial: mesmo ocorrendo dita prorrogação durante todos os dias de trabalho, a Reclamante nunca recebeu qualquer remuneração adicional, muito menos os reflexos devidos. (ID7d33269). A ré não comprovou que os valores apontados nos respectivos recibos foram realmente depositados na conta do autor . Ora Exa., a ré juntou apenas recibos apógrafos [sic] e informou que tais valores foram depositados na conta bancária do autor, contudo, não juntou o comprovante dos referidos depósitos. Portanto, inexiste prova que os valores constantes nos contra-cheques foram realmente pagos ao autor. (ID42d0fa6). [...] Por derradeiro, em que pese a Consolidação das Leis do Trabalho e o Código de Processo Civil vedarem peremptoriamente o reexame meritório pela via aclaratória, o Embargante, lamentavelmente, parece fazer ouvidos moucos à prescrição, seja porque o Autor embarga pela segunda vez consecutiva de uma mesma decisão que lhe reputa desfavorável - expediente censurável sob a ótica da duração razoável do processo - seja porque o conteúdo dos aclaratórios revela - pela segunda vez -, nada além do inconformismo ostensivo com um julgamento pretensamente divorciado da prova coligida aos autos, circunstância que caracteriza inegável demonstração do contempt of court, entendido como tal a demonstração de indiferença à manifestação do órgão judicante, razão pela qual eventual recalcitrância atrairá punição capitulada no inciso VII do artigo 17 e §1º do artigo 538 do CPC. Nego provimento .\" (fls. 1.863/1.866) Determinado o retorno dos autos ao TRT de origem, em razão do acolhimento da preliminar de nulidade por negativa de prestação jurisdicional, foram prestados os seguintes esclarecimentos: \" OMISSÃO X ESCLARECIMENTOS PRESTADOS ANTE O V. ACÓRDÃO DO TST O Reclamante alega haver omissão no julgado acerca da tese sobre a existência ou não de comprovantes dos valores contidos nos contracheques. Reitera que a Reclamada não juntou comprovantes de depósito em conta bancária. Vejamos. Os embargos de declaração têm como objetivo primordial sanar eventuais omissões, contradições, obscuridades, erros materiais no julgado, ou, ainda, manifesto equívoco no exame dos pressupostos extrínsecos do recurso, conforme dispõe o art. 897-A da CLT c/c o art. 1.022 do CPC/2015. Neste passo, embora não se constate nos autos a presença de comprovantes de depósito em conta bancária referentes às horas extras prestadas, é certo que a causa de pedir exposta na petição inicial não traz qualquer questionamento sobre a validade dos valores já recebidos pelo Reclamante - apresentados em fichas financeiras ou recebidos de pagamento -, relacionadas ao suposto labor extraordinário. Com efeito, a questão posta na petição inicial diz respeito a horas extras registradas no cartão de ponto (em média, 30 minutos diários) e não pagas, concernente ao suposto ingresso antecipado e saída tardia do estabelecimento empresarial onde a prestação serviços era realizada. Deste modo, a impugnação do Reclamante quanto à ausência de assinatura nas fichas financeiras e recibos (que apresentam as informações bancárias do empregado, como Banco e conta corrente) não altera a conclusão adotada por esta 3ª Turma, soberana na análise de fatos e provas, no sentido de que as fichas financeiras apresentadas são válidas para os fins aos quais se destinam , ou seja, comprovam os valores ali registrados e que não são objeto de questionamento nesta demanda, a qual encontra limites no pedido e na causa de pedir expostos na exordial. Afinal, a demanda posta na inicial não questiona a ausência de quitação dos valores registrados, mas sim a ausência de pagamento dos supostos 30 minutos diários que teriam sido registrados nos controles de ponto e não computados nas fichas de pagamento . Se isso não bastasse, as demais provas produzidas nos autos não ilidem as informações presentes nas fichas financeiras e recibos apresentados pela Reclamada . Nessa linha, inclusive, a prova oral produzida, consubstanciada na oitiva de testemunhas, nada menciona acerca da validade dos registros de pagamento ou de horas extras (id. 2435aed). Ante o exposto, dou provimento para, sanando a alegada omissão, prestar esclarecimentos, conforme determinado no v. acórdão do eg. TST, sem efeito modificativo ao julgado. \" (grifos no original) Contra essa decisão foram opostos novos embargos de declaração pelo reclamante, tendo o Tribunal a quo se manifestado nos seguintes termos: \" OMISSÃO E CONTRADIÇÃO O Reclamante novamente apresenta embargos de declaração, sustentando a existência de omissão e contradição no julgado. Afirma que não houve manifestação de pontos cruciais para o deslinde da demanda. Argumenta que a tese exposta em seu recurso é de horas extras registradas e que foi apresentado demonstrativo de diferenças de horas extras. Sem qualquer razão. As alegações do Reclamante beiram à má-fé e se traduzem em mero inconformismo e inovação com a posição adotada por esta 3ª Turma, em total desarmonia com o comando previsto no art. 6º do CPC/2015. Com efeito, conforme se constata da determinação proferida pela 2ª Turma do TST, a baixa dos autos destinou-se apenas ao esclarecimento da \" questão relativa à validade dos recibos de pagamentos de horas extras e se constam dos autos comprovantes de depósito em conta bancária\". E, a decisão ora embargada de id. 7d0b81c, prestou, de forma clara e inequívoca, os esclarecimentos devidos, de acordo com a interpretação dada aos fatos e provas produzidos nos autos. Logo, não há qualquer omissão ou contradição no julgado. Veja-se que a própria causa de pedir transcrita pelo Reclamante em seus novos embargos noticia que \"O obreiro laborava, habitualmente, em extra jornada. Isto ocorria porque tinham que ingressar mais cedo e sair mais tarde, conforme constam em controles de ponto. Em média, o obreiro laborava diariamente 00:30 (trinta) minutos extraordinários\". Não por outra razão, a decisão ora embargada de id. 7d0b81c foi expressa em registrar que \"a impugnação do Reclamante quanto à ausência de assinatura nas fichas financeiras e recibos (que apresentam as informações bancárias do empregado, como Banco e conta corrente) não altera a conclusão adotada por esta 3ª Turma, soberana na análise de fatos e provas, no sentido de que as fichas financeiras apresentadas são válidas para os fins aos quais se destinam, ou seja, comprovam os valores ali registrados e que não são objeto de questionamento nesta demanda, a qual encontra limites no pedido e na causa de pedir expostos na exordial. Afinal, a demanda posta na inicial não questiona a ausência de quitação dos valores registrados, mas sim a ausência de pagamento dos supostos 30 minutos diários que teriam sido registrados nos controles de ponto e não computados nas fichas de pagamento\". Ademais, conquanto o Reclamante argumente em seus novos embargos de declaração que apresentou demonstrativo de diferenças de horas extras, é certo que, ao se analisar esta prova, chega-se que a conclusão de sua imprestabilidade, já que não foram deduzidas as horas extras incontroversamente pagas nos contracheques, entendimento, inclusive, já adotado pelo juízo de 1º grau. Deste modo, uma vez já prestados os esclarecimentos determinados pelo eg. TST, não há falar em omissão ou contradição do julgado, devendo os autos serem devolvidos imediatamente à Instância Superior. Nego provimento. \" (grifos no original) A preliminar não prospera. O Tribunal Regional afirmou ter prestado, de forma clara e inequívoca, os esclarecimentos devidos, de acordo com a interpretação dada aos fatos e provas produzidos nos autos. Asseverou a Corte de origem que , conforme se verifica da inicial, a causa de pedir das horas extras é a alegada existência de 30 minutos residuais, antes e depois da jornada, os quais não teriam sido pagos. Ressaltou, assim, que a demanda posta na inicial não questiona a validade da quitação dos valores registrados, mas sim a ausência de pagamento dos supostos 30 minutos diários que teriam sido registrados nos controles de ponto e não computados nas fichas de pagamento. Nesse aspecto, asseverou o Tribunal Regional que a impugnação do reclamante quanto à ausência de assinatura nas fichas financeiras e recibos não altera a conclusão adotada por aquela Corte, no sentido de que as fichas financeiras apresentadas são válidas para os fins aos quais se destinam, ou seja, comprovam os valores ali registrados, ressaltando que tais valores não são objeto de questionamento nesta demanda, tendo em vista os limites do pedido e da causa de pedir. Não se divisa nulidade do acórdão da Turma por negativa de prestação jurisdicional quando o julgador se manifesta, com fundamentos jurídicos pertinentes, a respeito de questão invocada pela parte. A mera objeção aos interesses da parte não dá azo à arguição de nulidade do julgado. Incólumes, pois, os arts. 93, IX, da CF, 832 da CLT e 489 do CPC. Nego provimento. 2 – HORAS EXTRAS De início, registre-se que os trechos pertinentes dos acórdãos regionais quanto ao tema ora em exame foram transcritos no tópico anterior. O reclamante pugna pelo deferimento de horas extras . Aduz que a Corte de origem admitiu fichas financeiras e recibos produzidos unilateralmente pela reclamada e, portanto, inválidos. Alega que as fichas financeiras e recibos juntados não comprovam o efetivo pagamento dos valores ali apontados, pois a ré não anexou o comprovante de depósito na conta bancária do autor. Segundo alega, considerando a inexistência de documentos que comprovam a quitação das horas extras prestadas, conforme asseverado pelo Acórdão Regional, correto foi o demonstrativo de horas extras que não deduziu as horas extras pagas, pois a tese inicial do autor é de que as horas extras realizadas não foram pagas. Aduz que era da reclamada o ônus de comprovar o pagamento das horas extras registradas nos cartões de ponto, do qual não se desincumbiu. Aponta violação do art. 464 da CLT; e divergência jurisprudencial. Examino. Na hipótese, a Corte de origem manteve o indeferimento das horas extras postuladas pelo reclamante. Asseverou que o cotejo entre a inicial e as razões recursais atesta ostensivos indícios de litigância de má-fé, pois a peça de ingresso faz menção à \"ausência de pagamento\", ao passo que, em recurso, o autor questiona a \"credibilidade da prova de pagamento\". Nesse aspecto, aduziu a Corte de origem que , conforme se verifica da inicial, a causa de pedir das horas extras é a alegada existência de 30 minutos residuais, antes e depois da jornada, os quais não teriam sido pagos. Ressaltou, assim, que a demanda posta na inicial não questiona a validade da quitação dos valores registrados nos recibos , mas sim a ausência de pagamento dos supostos 30 minutos diários que teriam sido registrados nos controles de ponto e não computados nas fichas de pagamento. Nesse sentido, o Tribunal de origem asseverou que a ausência de assinatura nas fichas financeiras e recibos (que apresentam as informações bancárias do empregado) não altera a conclusão adotada quanto ao indeferimento de horas extras, tendo em vista os limites do pedido e causa de pedir das horas extras. Acrescentou que, ainda que assim não fosse, as demais provas produzidas nos autos não ilidem as informações presentes nas fichas financeiras e recibos apresentados pela Reclamada; além de que a prova oral produzida, consubstanciada na oitiva de testemunhas, nada menciona acerca da validade dos registros de pagamento ou de horas extras . Por fim , consta do acórdão regional que o demonstrativo de diferenças de horas extras apresentado pelo autor mostra-se imprestável , já que não foram deduzidas as horas extras incontroversamente pagas nos contracheques, entendimento já adotado pelo juízo de 1º grau. Pelo exposto, verifica-se que o entendimento adotado pelo Regional não viola a literalidade do art. 464 da CLT. Os arestos trazidos a cotejo são inespecíficos, à luz da Súmula 296 do TST, já que tratam apenas da validade dos recibos de pagamento dos salários e não abordam as mesmas premissas constantes da decisão recorrida, especialmente acerca da limitação pelo pedido e causa de pedir das horas extras. Nego provimento. Os demais temas abordados no agravo de instrumento são cópia dos temas constantes do primeiro recurso de revista interposto pelo reclamante, cuja análise foi sobrestada quando do acolhimento da preliminar de nulidade por negativa de prestação jurisdicional. Nesse aspecto, tais matérias serão analisadas em sede de recurso de revista. II – RECURSO DE REVISTA Satisfeitos os pressupostos comuns de admissibilidade, examino os específicos do recurso de revista. 1 – DOENÇA OCUPACIONAL. NÃO CONFIGURAÇÃO. AUSÊNCIA DE NEXO DE CAUSALIDADE. 1.1 - Conhecimento O Tribunal Regional, no que concerne ao tema em destaque, consignou: \" DOENÇA DO TRABALHO x MOLÉSTIA DE NATUREZA DEGENERATIVA - REINTEGRAÇÃO NO EMPREGO - INDENIZAÇÃO POR DANO MORAL Nilton da Silva Damasceno acionou Chocolates Garoto S/A, pretendendo (I) ser reintegrado no emprego; (II) ser indenizado por dano moral, material e estético resultante de acidente do trabalho; e (III) o restabelecimento de plano de saúde dito suprimido por ocasião da resilição contratual. Descreveu como causa de pedir a minoração ocupacional e o abalo psíquico resultante de doença dita adquirida no trabalho. Creditou a deflagração da moléstia a condições anti-ergonômicas presentes no dia a dia de serviço, fruto da omissão patronal no dever de fiscalização da segurança laboral, circunstâncias suficientes, a seu juízo, a chancelar as pretensões movidas em face da Ré. Para a Reclamada, a pretensão estaria fadada ao insucesso, quer porque a doença teria natureza degenerativa, quer porque se cercou de toda a cautela possível a evitar infortúnios no ambiente de trabalho, seja por meio da adoção de medidas de ordem geral, seja através da doação de equipamentos de proteção individual. Por fim, levantou suspeitas sobre a credibilidade das alegações pautadas na minoração profissional e no dano moral, circunstâncias que, somadas à ausência de afastamento à conta da Previdência Social e de emissão de Comunicação de Acidente de Trabalho, seriam capazes de lhe colocar a salvo de condenação. Socorreu-se na diretriz inserta no item II da Súmula n.º 378 do TST. Acolhida a tese defensiva com base em perícia médica, o Reclamante, inconformado, pede nova análise do acervo probatório. A sentença, contudo, não merece reforma. Se é certo afirmar que o juiz não está engessado às conclusões do perito - artigo 436 do CPC -, também é certo dizer que só deverá delas dissentir se dos elementos dos autos ou das regras de experiência comum subministradas pela observação do que ordinariamente acontece, tiver meios de convicção suficientes para tal. Na falta deles, o parecer do vistor é prestigiado. Afinal, se a lei comete a elaboração de perícia ao profissional habilitado, a outra conclusão não se chega senão a de que prova técnica se rebate com prova técnica . Caso contrário, não seria necessária a nomeação de expertise . No caso em exame, conquanto o Reclamante credite o surgimento da artrose nos joelhos a condições anti-ergonômicas presentes no ambiente de trabalho, o laudo pericial rebateu com êxito tal alegação. Segundo a prova técnica, a atividade do Reclamante exigia movimentos com os membros superiores e as dores que o Reclamante diz sentir são na área dos joelhos . Fica excluída, portanto, a alegação de ausência de ergonomia no dia a dia de serviço. O excesso de peso denunciado na peça de ingresso foi, igualmente, refutado pelo testemunho de Jailson Pereira Gomes. Confira-se. Informe o Perito se as atividades desenvolvidas pelo autor demandam esforço físico e vicio de postura. Resposta: As atividades do autor, como disposto no LEMP, exigiam movimentos com os membros superiores. Os demais segmentos eram pouco exigidos. (ID 37d8672, pág. 2). Depoimento de Jailson Pereira Gomes. que trabalhou na Ré de 1995 a 2004; que trabalhou com o Reclamante de 1997 a 2001; que trabalhou com o Reclamante na atividade de carregamento de palletes; que a atividade de carregamento era fixa, mas, posteriormente, passou a haver rodízio; que o carregamento de palletesera feito manualmente; que cada caçamba pesava, inicialmente, 20kg; que, após, passou a ser de 15kg; que a mudança ocorreu entre 1998 e 1999. Outro fato digno de relevo é que o Reclamante ainda diz sentir a mesma dor, mesmo após quase dois anos da data da dispensa. É dizer, tivesse o trabalho sido de fato o protagonista - ou coadjuvante - do quadro álgico, as dores certamente desapareceriam - ou ao menos diminuiriam - com o afastamento do serviço, circunstância que frustra, por via reflexa, a tese pautada em concausalidade. Não fosse suficiente, não há nos autos prova de incapacitação ou minoração profissional, nem tampouco indícios de prejuízo estético ou psicológico causados pela Reclamada - laudo pericial IDb8a3cf0, pág. 9 -, circunstâncias que, somadas à inexistência de reconhecimento de doença ocupacional pela previdência oficial - a Reclamante recebeu auxílio doença comum, conforme documento ID91fd9f2, páginas de 01 a 05 - inviabilizam a pretensão indenizatória e reintegrativa formulada em face da Ré. Inteligência do item II da Súmula n.º 378 do TST e artigo 118 da lei n.º 8.213/1991. Frente a tais considerações, lamenta-se a moléstia de que se diz acometida o Autor, mas os fatos, da forma como veiculados na lide, não podem gerar ao Réu a obrigação de indenizá-la quer patrimonial quer moral ou esteticamente, seja porque não demonstrada sua submissão a condições de risco ergonômico que propiciassem a infausta enfermidade, seja em razão da ausência de nexo causal entre a doença e o trabalho. Acolho o laudo pericial em sua integralidade. Nego provimento.\" O reclamante alega que é portador de doença degenerativa que foi agravada no desempenho de suas atividades laborais. Aduz que na oportunidade da dispensa estava doente e em tratamento médico, de forma que faz jus à estabilidade provisória. Sustenta ter juntado laudos e exames os quais reconhecem a doença ocupacional e a incapacidade laborativa. Acrescenta que a prova oral confirma suas alegações, inclusive quanto a acidente de trabalho agravador de sua doença. Assevera que o laudo pericial é totalmente contraditório com as demais provas constantes dos autos. Alega, ainda, que deve ser reconhecida a responsabilidade objetiva da reclamada, fundada na teoria do risco. Acrescenta, por outro lado, que é visível a culpa da reclamada em face da negligência com as condições do trabalho do autor. Aduz que o nexo técnico epidemiológico pode ser presumido em razão da correlação entre a doença osteomuscular que acomete o reclamante e a atividade preponderante da reclamada. Pugna, ainda, pela sua reintegração na reclamada. Aponta violação dos arts . 20, 21-A e 118 da Lei nº 8.213/91; 927, parágrafo único, do CC; e 6º, VIII, e 14, § 3º, do CDC, além de divergência jurisprudencial . Examino. Hipótese em que o Tribunal de origem concluiu pela ausência de nexo causal entre a doença e o trabalho, conforme constatado pela perícia, ressaltando não ter sido demonstrada a submissão do reclamante a condições de risco ergonômico que propiciassem a enfermidade. Aduziu, ainda, a Corte regional que não há nos autos prova de incapacitação ou minoração profissional, tampouco indícios de prejuízo estético ou psicológico causados pela reclamada. Segundo delineado no acórdão recorrido, conquanto o reclamante credite o surgimento da artrose nos joelhos a condições antiergonômicas presentes no ambiente de trabalho, o laudo pericial rebateu com êxito tal alegação ao afirmar que a atividade do reclamante exigia movimentos com os membros superiores . Nesse aspecto, foi afastada a alegação de ausência de ergonomia no dia a dia de serviço; além de que o excesso de peso denunciado na peça de ingresso foi, igualmente, refutado . Para se concluir de forma distinta, seria imprescindível a reapreciação da prova coligida nos autos, procedimento vedado em sede de recurso de revista, nos termos da Súmula nº 126 do TST. Incólumes , portanto, os arts . 20, 21-A e 118 da Lei nº 8.213/91; 927, parágrafo único, do CC, e 6º, VIII, e 14, § 3º, do CDC. Os arestos colacionados revelam-se inespecíficos, à luz da Sumula nº 296 do TST, uma vez que partem da premissa de que foi constatado nexo de causalidade entre as doenças e as atividades laborais, hipótese diversa dos presentes autos. Não conheço. 2 – INDENIZAÇÃO POR DANOS MORAIS E MATERIAIS. 2.1 - Conhecimento O reclamante pugna pelo deferimento de indenização por danos morais e matérias decorrentes da doença ocupacional adquirida e do acidente de trabalho sofridos, ambos decorrentes de suas atividades laborais. Aduz que permaneceu impossibilitado não só de exercer a própria profissão, em razão da falta de proteção laborativa, como também de exercer até mesmo os atos mais elementares de sua vida , sem deixar de sentir dores. Alega que os documentados juntados comprovam a incapacidade para o trabalho de forma definitiva. Aponta violação dos arts. 1º , III, 5º, V e X, e 7º, XXVIII, da CF; 186, 402 e 950, caput , do CC; 12 da Lei nº 8.213/91 e divergência jurisprudencial . Examino. Conforme já examinado nos autos, foi afastado nexo de causalidade entre a doença do reclamante e suas atividades laborais. Consta, ainda, do acórdão não haver prova nos autos de incapacitação ou minoração profissional, tampouco indícios de prejuízo estético ou psicológico causados pela reclamada. Tais premissas fáticas revelam-se insuscetíveis de reexame nesta instância extraordinária, nos termos da Súmula nº 126 do TST. Nesse contexto, indevidas as postuladas indenizações por danos morais ou materiais, estando incólumes os arts. 1º, III, 5º, V e X, e 7º, XXVIII, da CF, 186, 402 e 950, caput , do CC e 12 da Lei nº 8.213/91. O aresto colacionado é oriundo de Turma desta Corte, órgão judicante não elencado no art. 896, \"a\", da CLT. Não conheço. 3 – INDENIZAÇÃO POR DANOS ESTÉTICOS. RESSARCIMENTO DE DESPESAS. RECURSO DESFUNDAMENTADO. 3.1 - Conhecimento O reclamante pugna pelo deferimento de indenização por danos estéticos, ao argumento de que foi confirmada pela perícia a existência de cicatrizes no seu membro inferior. Indica divergência jurisprudencial. Requer, ainda, a condenação da reclamada ao ressarcimento de despesas com a doença ocupacional adquirida , nos termos do estipulado em norma coletiva. Invoca a cláusula 25ª da CCT. Examino. A indicação violação de cláusula normativa ou de divergência com aresto oriundo do STJ não impulsiona o conhecimento do recurso de revista, nos termos do artigo 896 da CLT. Conclui-se, portanto, que o recurso de revista, nos temas em epígrafe, não está adequadamente fundamentado, nos termos do art. 896 da CLT, pois não é indicada ofensa a dispositivo de lei e/ou da Constituição Federal, contrariedade a súmula desta Corte ou a súmula vinculante do STF, tampouco divergência jurisprudencial válida. Não conheço. 4 – ADICIONAL DE INSALUBRIDADE. INOBSERVÂNCIA DO ART. 896, § 1º-A, I, DA CLT. 4.1 - Conhecimento Na hipótese, verifica-se que o reclamante não indicou o trecho da decisão regional que consubstancia o prequestionamento da controvérsia objeto do apelo, nos termos do art. 896, § 1º-A, I, da CLT (incluído pela Lei nº 13.015/14). Saliento, desde já, que a transcrição do inteiro teor da decisão recorrida no tópico impugnado (fls. 1.910/1.911), sem a indicação expressa/destacada da tese prequestionada, não atende ao disposto no art. 896, § 1º-A, I, da CLT . Acrescento que, conforme o entendimento da SBDI-1, a transcrição do inteiro teor do acórdão no tópico impugnado só é válida quando a fundamentação se dá de forma sucinta, o que não ocorre na hipótese. Conforme entende esta Corte Superior, a indicação do trecho da decisão regional que consubstancia o prequestionamento da controvérsia constitui encargo da parte recorrente, exigência formal intransponível ao conhecimento do recurso de revista. Nesse sentido, cito os seguintes precedentes da SDI-1 do TST: \"AGRAVO INTERPOSTO CONTRA DECISÃO MONOCRÁTICA DE PRESIDENTE DE TURMA QUE NEGA SEGUIMENTO A RECURSO DE EMBARGOS. NÃO CONHECIMENTO DO RECURSO DE REVISTA. INOBSERVÂNCIA AO REQUISITO PREVISTO NO ARTIGO 896, § 1º-A, I, DA CLT. A transcrição na íntegra do capítulo do acórdão do Tribunal Regional objeto da controvérsia, sem a indicação do trecho que contém a tese jurídica que consubstancia o prequestionamento, não satisfaz o requisito previsto artigo 896, § 1º-A, I, da CLT, uma vez que não permite o confronto analítico entre a tese central assentada pelo TRT e a fundamentação jurídica apresentada no recurso de revista. Precedentes. O acórdão turmário proferido nesse mesmo sentido revela consonância com a atual e iterativa jurisprudência, razão pela qual inviável o conhecimento dos embargos, nos termos da regra prevista no artigo 894, § 2º, da CLT. Desse modo, deve ser mantida a decisão agravada que negou seguimento ao recurso de embargos. Agravo não provido.\" (AgR-E-ED-RR - 83500-79.2007.5.04.0131, Relator Ministro: Augusto César Leite de Carvalho, Data de Julgamento: 07/12/2017, Subseção I Especializada em Dissídios Individuais, Data de Publicação: DEJT 15/12/2017) \"AGRAVO REGIMENTAL EM EMBARGOS REGIDOS PELA LEI Nº 13.015/2014. RECURSO DE REVISTA NÃO CONHECIDO. REQUISITO DISPOSTO NO ARTIGO 896, § 1º-A, INCISO I, DA CLT. INDICAÇÃO DO TRECHO DA DECISÃO REGIONAL QUE CONSUBSTANCIA O PREQUESTIONAMENTO DA CONTROVÉRSIA. DIVERGÊNCIA JURISPRUDENCIAL NÃO DEMONSTRADA. Nos termos da jurisprudência firmada nesta Subseção, acerca dos pressupostos intrínsecos do recurso de revista, insertos no artigo 896, § 1º-A, da CLT, é indispensável a transcrição do trecho exato da decisão recorrida que consubstancie o prequestionamento da matéria trazida ao debate, cabendo à parte a demonstração, clara e objetiva, dos fundamentos de fato e de direito constantes da decisão regional no tema debatido, não se admitindo, para tanto, a mera indicação das páginas correspondentes, paráfrase, sinopse, transcrição integral do acórdão recorrido, do relatório, da ementa ou apenas da parte dispositiva, pois, para fins de cumprimento da exigência legal, é imprescindível a transcrição textual do trecho da decisão recorrida. Portanto, a discussão sobre o cumprimento dos pressupostos intrínsecos do artigo 896, § 1º-A, da CLT está superada pela jurisprudência desta Subseção, o que impõe a incidência do artigo 894, § 2º, da CLT. Precedentes. Agravo regimental desprovido.\" (AgR-E-ED-RR - 492-52.2014.5.21.0014 , Relator Ministro: José Roberto Freire Pimenta, Data de Julgamento: 17/05/2018, Subseção I Especializada em Dissídios Individuais, Data de Publicação: DEJT 25/05/2018) Pelo exposto, não conheço. 5 – HORAS EXTRAS. 5.1 - Conhecimento O Tribunal Regional, no que concerne ao tema em destaque, consignou: \" DIFERENÇAS DE HORAS EXTRAS - JORNADA SUPLEMENTAR REGISTRADA NOS ESPELHOS DE PONTO E DITA PAGA A MENOR Indeferida a cobrança de diferenças de horas extras ditas registradas nos controles de freqüência e pagas a menor, o Reclamante, inconformado, reitera a pretensão perante esta instância revisora. Segundo o arrazoado, a falta de assinatura do empregado nos recibos de pagamento não prova a quitação regular da jornada suplementar. Socorre-se no parágrafo único do artigo 464 da CLT. A sentença não merece censura. Conquanto a ficha financeira e os recibos acostados ao IDf282e83 e ID5295bd0 não contenham a assinatura do Reclamante - e de fato, não contêm -, n’ão se pode perder de vista que a lei atribui força de recibo ao comprovante de depósito em conta bancária, aberta para esse fim em nome de cada empregado. A norma inserta no parágrafo único artigo 464 da CLT é suficientemente clara a respeito. Nego provimento.\" Opostos os segundos embargos de declaração pelo reclamante, asseverou a Corte a quo: \" EMBARGOS DE DECLARAÇÃO DO RECLAMANTE OMISSÃO JUDICANTE x JULGAMENTO DIVORCIADO DO INTERESSE DEFENDIDO EM JUÍZO Para o Reclamante, as omissões apontadas nos Embargos de Declaração opostos no ID2764ba6 e já julgados pella Corte no IDd83e05e remanescem presentes. Sob sua ótica, a temática (I) horas extras teria sido decidida em contraste ao acervo probatório, uma vez que a Reclamada não teria juntado aos autos comprovantes de depósito bancário que atestem a quitação da jornada suplementar e a Corte, sob seu prisma, não teria atentado para este pormenor. [...] Não lhe assiste razão. A temática (I) horas extras foi examinada suficientemente no ID61d8f6e - Pág. 9. Se o Reclamante crê ter havido error in judicando no que toca à existência ou não de comprovantes de depósito bancário, o caminho é o recurso à próxima instância, não se prestando os aclaratórios a tal desiderato. Não fosse apenas isto, alerto que o cotejo entre a inicial e o arrazoado atesta ostensivos indícios de litigância de má-fé, pois a peça de ingresso faz menção à ausência de pagamento, ao passo que, em recurso, o Autor questiona a credibilidade da prova de pagamento , não sendo redundante pontuar ser do Autor o ônus de impugnação à prova documental trazida aos autos pela contraparte, na exata dicção do artigo 372 do CPC. Confira-se. Petição Inicial: mesmo ocorrendo dita prorrogação durante todos os dias de trabalho, a Reclamante nunca recebeu qualquer remuneração adicional, muito menos os reflexos devidos. (ID7d33269). A ré não comprovou que os valores apontados nos respectivos recibos foram realmente depositados na conta do autor . Ora Exa., a ré juntou apenas recibos apógrafos [sic] e informou que tais valores foram depositados na conta bancária do autor, contudo, não juntou o comprovante dos referidos depósitos. Portanto, inexiste prova que os valores constantes nos contra-cheques foram realmente pagos ao autor. (ID42d0fa6). [...] Por derradeiro, em que pese a Consolidação das Leis do Trabalho e o Código de Processo Civil vedarem peremptoriamente o reexame meritório pela via aclaratória, o Embargante, lamentavelmente, parece fazer ouvidos moucos à prescrição, seja porque o Autor embarga pela segunda vez consecutiva de uma mesma decisão que lhe reputa desfavorável - expediente censurável sob a ótica da duração razoável do processo - seja porque o conteúdo dos aclaratórios revela - pela segunda vez -, nada além do inconformismo ostensivo com um julgamento pretensamente divorciado da prova coligida aos autos, circunstância que caracteriza inegável demonstração do contempt of court, entendido como tal a demonstração de indiferença à manifestação do órgão judicante, razão pela qual eventual recalcitrância atrairá punição capitulada no inciso VII do artigo 17 e §1º do artigo 538 do CPC. Nego provimento .\" (fls. 1.863/1.866) Determinado o retorno dos autos ao TRT de origem, em razão do acolhimento da preliminar de nulidade por negativa de prestação jurisdicional, foram prestados os seguintes esclarecimentos: \" OMISSÃO X ESCLARECIMENTOS PRESTADOS ANTE O V. ACÓRDÃO DO TST O Reclamante alega haver omissão no julgado acerca da tese sobre a existência ou não de comprovantes dos valores contidos nos contracheques. Reitera que a Reclamada não juntou comprovantes de depósito em conta bancária. Vejamos. Os embargos de declaração têm como objetivo primordial sanar eventuais omissões, contradições, obscuridades, erros materiais no julgado, ou, ainda, manifesto equívoco no exame dos pressupostos extrínsecos do recurso, conforme dispõe o art. 897-A da CLT c/c o art. 1.022 do CPC/2015. Neste passo, embora não se constate nos autos a presença de comprovantes de depósito em conta bancária referentes às horas extras prestadas, é certo que a causa de pedir exposta na petição inicial não traz qualquer questionamento sobre a validade dos valores já recebidos pelo Reclamante - apresentados em fichas financeiras ou recebidos de pagamento -, relacionadas ao suposto labor extraordinário. Com efeito, a questão posta na petição inicial diz respeito a horas extras registradas no cartão de ponto (em média, 30 minutos diários) e não pagas, concernente ao suposto ingresso antecipado e saída tardia do estabelecimento empresarial onde a prestação serviços era realizada. Deste modo, a impugnação do Reclamante quanto à ausência de assinatura nas fichas financeiras e recibos (que apresentam as informações bancárias do empregado, como Banco e conta corrente) não altera a conclusão adotada por esta 3ª Turma, soberana na análise de fatos e provas, no sentido de que as fichas financeiras apresentadas são válidas para os fins aos quais se destinam , ou seja, comprovam os valores ali registrados e que não são objeto de questionamento nesta demanda, a qual encontra limites no pedido e na causa de pedir expostos na exordial. Afinal, a demanda posta na inicial não questiona a ausência de quitação dos valores registrados, mas sim a ausência de pagamento dos supostos 30 minutos diários que teriam sido registrados nos controles de ponto e não computados nas fichas de pagamento . Se isso não bastasse, as demais provas produzidas nos autos não ilidem as informações presentes nas fichas financeiras e recibos apresentados pela Reclamada . Nessa linha, inclusive, a prova oral produzida, consubstanciada na oitiva de testemunhas, nada menciona acerca da validade dos registros de pagamento ou de horas extras (id. 2435aed). Ante o exposto, dou provimento para, sanando a alegada omissão, prestar esclarecimentos, conforme determinado no v. acórdão do eg. TST, sem efeito modificativo ao julgado. \" (grifos no original) Contra essa decisão foram opostos novos embargos de declaração pelo reclamante, tendo o Tribunal a quo se manifestado nos seguintes termos: \" OMISSÃO E CONTRADIÇÃO O Reclamante novamente apresenta embargos de declaração, sustentando a existência de omissão e contradição no julgado. Afirma que não houve manifestação de pontos cruciais para o deslinde da demanda. Argumenta que a tese exposta em seu recurso é de horas extras registradas e que foi apresentado demonstrativo de diferenças de horas extras. Sem qualquer razão. As alegações do Reclamante beiram à má-fé e se traduzem em mero inconformismo e inovação com a posição adotada por esta 3ª Turma, em total desarmonia com o comando previsto no art. 6º do CPC/2015. Com efeito, conforme se constata da determinação proferida pela 2ª Turma do TST, a baixa dos autos destinou-se apenas ao esclarecimento da \" questão relativa à validade dos recibos de pagamentos de horas extras e se constam dos autos comprovantes de depósito em conta bancária\". E, a decisão ora embargada de id. 7d0b81c, prestou, de forma clara e inequívoca, os esclarecimentos devidos, de acordo com a interpretação dada aos fatos e provas produzidos nos autos. Logo, não há qualquer omissão ou contradição no julgado. Veja-se que a própria causa de pedir transcrita pelo Reclamante em seus novos embargos noticia que \"O obreiro laborava, habitualmente, em extra jornada. Isto ocorria porque tinham que ingressar mais cedo e sair mais tarde, conforme constam em controles de ponto. Em média, o obreiro laborava diariamente 00:30 (trinta) minutos extraordinários\". Não por outra razão, a decisão ora embargada de id. 7d0b81c foi expressa em registrar que \"a impugnação do Reclamante quanto à ausência de assinatura nas fichas financeiras e recibos (que apresentam as informações bancárias do empregado, como Banco e conta corrente) não altera a conclusão adotada por esta 3ª Turma, soberana na análise de fatos e provas, no sentido de que as fichas financeiras apresentadas são válidas para os fins aos quais se destinam, ou seja, comprovam os valores ali registrados e que não são objeto de questionamento nesta demanda, a qual encontra limites no pedido e na causa de pedir expostos na exordial. Afinal, a demanda posta na inicial não questiona a ausência de quitação dos valores registrados, mas sim a ausência de pagamento dos supostos 30 minutos diários que teriam sido registrados nos controles de ponto e não computados nas fichas de pagamento\". Ademais, conquanto o Reclamante argumente em seus novos embargos de declaração que apresentou demonstrativo de diferenças de horas extras, é certo que, ao se analisar esta prova, chega-se que a conclusão de sua imprestabilidade, já que não foram deduzidas as horas extras incontroversamente pagas nos contracheques, entendimento, inclusive, já adotado pelo juízo de 1º grau. Deste modo, uma vez já prestados os esclarecimentos determinados pelo eg. TST, não há falar em omissão ou contradição do julgado, devendo os autos serem devolvidos imediatamente à Instância Superior. Nego provimento. \" (grifos no original) O reclamante pugna pela condenação da reclamada ao pagamento das horas extras anotadas nos cartões de ponto . Aduz que os recibos apresentados pela reclamada são imprestáveis, em razão da ausência de assinatura do reclamante, e não foram juntados os comprovantes de depósito em conta do autor. Defende a invalide da norma coletiva que suprime os minutos residuais antes do início e após o final da jornada. Aponta violação dos arts. 7º, XIII e XIV, da CF e 58 e 464 , parágrafo único, da CLT; bem como contrariedade à Súmula nº 366 do TST e à OJ nº 372 da SDI-1 do TST, e divergência jurisprudencial. Examino. De plano, registre-se que a OJ nº 372 da SDI-1 do TST foi cancelada em decorrência de sua conversão na Súmula nº 449. No mais, verifica-se que o Tribunal de origem não se manifestou à luz da norma coletiva invocada pelo reclamante, tampouco foi instado a fazê-lo mediante os embargos de declaração opostos. Assim, a indicada contrariedade à Súmula nº 449 do TST esbarra no óbice da Súmula nº 297 do TST, ante a ausência do necessário prequestionamento. Na hipótese, a Corte de origem manteve o indeferimento das horas extras postuladas pelo reclamante. Asseverou que o cotejo entre a inicial e as razões recursais atesta ostensivos indícios de litigância de má-fé, pois a peça de ingresso faz menção à \"ausência de pagamento\", ao passo que, em recurso, o autor questiona a \"credibilidade da prova de pagamento\". Nesse aspecto, aduziu a Corte de origem que , conforme se verifica da inicial, a causa de pedir das horas extras é a alegada existência de 30 minutos residuais, antes e depois da jornada, os quais não teriam sido pagos. Ressaltou, assim, que a demanda posta na inicial não questiona a validade da quitação dos valores registrados nos recibos , mas sim a ausência de pagamento dos supostos 30 minutos diários que teriam sido registrados nos controles de ponto e não computados nas fichas de pagamento. Nesse sentido, o Tribunal de origem asseverou que a ausência de assinatura nas fichas financeiras e recibos (que apresentam as informações bancárias do empregado) não altera a conclusão adotada quanto ao indeferimento de horas extras, tendo em vista os limites do pedido e causa de pedir das horas extras. Acrescentou que, ainda que assim não fosse, as demais provas produzidas nos autos não ilidem as informações presentes nas fichas financeiras e recibos apresentados pela Reclamada; além de que a prova oral produzida, consubstanciada na oitiva de testemunhas, nada menciona acerca da validade dos registros de pagamento ou de horas extras . Por fim , consta do acórdão regional que o demonstrativo de diferenças de horas extras apresentado pelo autor mostra-se imprestável, já que não foram deduzidas as horas extras incontroversamente pagas nos contracheques, entendimento já adotado pelo juízo de 1º grau. Pelo exposto, não se verifica no entendimento adotado pela Corte a quo violação direta e literal dos arts. 7º, XIII e XIV, da CF e 58 e 464, parágrafo único, da CLT; tampouco contrariedade à Súmula nº 366 do TST. Os arestos trazidos a cotejo são inespecíficos, à luz da Súmula 296 do TST, já que tratam apenas da validade dos recibos de pagamento dos salários e não abordam as mesmas premissas constantes da decisão recorrida, especialmente acerca da limitação pelo pedido e causa de pedir das horas extras. Não conheço. 6 – DESCANSOS SEMANAIS REMUNERADOS. 6.1 - Conhecimento O Tribunal Regional, no que concerne ao tema em destaque, consignou: \" FOLGA SEMANAL - SUPRESSÃO x FRUIÇÃO Indeferida a cobrança da folga semanal dita suprimida na vigência da relação de emprego, o Reclamante, inconformado, defende que os espelhos de ponto provam o sacrifício do descanso hebdomadário. Não lhe assiste razão. Ao revés do que denuncia a peça de ingresso, os cartões de ponto atestam a concessão da folga semanal. Cito como exemplo aqueles acostados ao ID93461af. Entre 08 de junho de 2009 e 10 de julho de 2009, por exemplo, o Reclamante gozou todos os descansos hebdomadários, a saber: 14, 21 e 28 de junho e 05 de julho. Prova-o o espelho de ponto juntado ao ID93461af - Pág. 21. No período mediado entre 11 de junho de 2011 e 10 de julho de 2011, a estória se repete: todos os 03 domingos (dias 19, 26 e 03) foram fruídos pelo Autor. Prova-o o documento carreado ao ID93461af - Pág. 74. Nego provimento.\" O reclamante alega que laborava por mais de seis dias consecutivos e eram concedidas, em média, apenas 3 folgas por mês . Pugna pelo pagamento em dobro dos DSRs concedidos irregularmente. Aponta violação dos arts. 7º, caput e XV, da CF e 67 da CLT e da Lei nº 605/49 . Examino. Salienta-se, de plano, que a alegação de ofensa à Lei nº 605/49 desserve ao conhecimento da revista, por se tratar de indicação genérica, nos moldes da Súmula nº 221 do TST. Conforme se extrai do acórdão recorrido, os cartões de ponto atestam a concessão da folga semanal. Analisando tais documentos por amostragem, a Corte de origem verificou que o reclamante gozou todos os descansos hebdomadários . Diante do contexto fático-probatório delineado, insuscetível de reexame nesta instância extraordinária, nos termos da Súmula nº 126/TST, não se verifica violação direta e literal dos arts . 7º, caput e XV, da CF e 67 da CLT. Não conheço. 7 – INTERVALO INTRAJORNADA. 7.1 - Conhecimento O Tribunal Regional, no que concerne ao tema em destaque, consignou: \" INTERVALO INTRAJORNADA - DURAÇÃO DA PAUSA REDUZIDA POR ATO DO MINISTRO DO TRABALHO - §3º DO ARTIGO 71 DA CLT - PERÍODO IMPRESCRITO NÃO ABRANGIDO EM SUA INTEGRALIDADE Indeferida a percepção, como extra, do intervalo intrajornada reduzido na vigência da relação de emprego, o Reclamante, inconformado, reitera a pretensão perante esta instância revisora. Para o Autor, a redução da pausa de 60 para 40 minutos via norma coletiva atenta não apenas contra a norma de ordem pública inserta no artigo 71 da CLT, mas também contra diretrizes assecuratórias de higiene e segurança no trabalho. Socorre-se na Orientação Jurisprudencial n.º 342 da SDI-1 do TST. Com parcial razão. No que toca à redução da duração do intervalo, muito embora a pausa para alimentação seja, de fato, direito infenso à negociação coletiva - porque afeto à saúde do empregado, a teor da Súmula n.º 437 do TST -, não se pode perder de vista que a Reclamada tem autorização expressa do Ministro do Trabalho para reduzir o intervalo de 60 para 40 minutos - vide ID84b4311, pág. 1 -, na exata dicção do §3º do artigo 71 da CLT, sendo de especial relevância ressaltar que a Reclamante não se sujeitou a regime de prorrogação de jornada, conforme atestam os espelhos de ponto acostados ao ID93461af, páginas 01 a 125. PORTARIA 73 DE 10 DE SETEMBRO DE 2012 O Superintendente Regional do Trabalho e Emprego no Estado do Espírito Santo, no uso das atribuições que lhe foram delegadas pela Portaria nº. 153 de 12 de fevereiro de 2009, publicada no D.O.U. de 13 de fevereiro de 2009, tendo em vista o que consta no art. 3° da Portaria Ministerial n° 1.095, de 19 de maio de 2010 e, considerando o teor dos autos do processo n° 47650.001443/2012-79, resolve: Art. 1º Autorizar por 02 (dois) anos, a empresa CHOCOLATES GAROTO S/A, estabelecida à Praça Meyerfreund, 01, Glória, Vila Velha/ES, CNPJ n° 28.053.619/0001-83, a reduzir para 40 (quarenta) minutos o intervalo intrajornada, destinado a repouso e alimentação, em atendimento ao requerido pela da empresa e em conformidade com o previsto no acordo coletivo de trabalho. Art. 2º Esta autorização abrange todos os setores da empresa, localizados no endereço supramencionado, bem como, no Parque Fabril localizado na Av. Ministro Salgado Filho, 40, Soteco, na mesma cidade, e estará sujeita a cancelamento, em caso de descumprimento constatado pela Auditoria Fiscal do Trabalho, das exigências constantes da Portaria Ministerial citada. Art. 3º Esta Portaria entra em vigor na data de sua publicação. (ID 84b4311, Pág. 1). Entretanto, a Reclamada não acostou aos autos todas as portarias correspondentes ao período imprescrito do contrato individual de trabalho da Autora, mas apenas a Portaria n.º 73, que autoriza a redução intervalar no período entre 10 de setembro de 2012 e 10 de setembro de 2014. Logo, durante o período descoberto - leia-se, de 09 de junho de 2009 a 09 de setembro de 2012, o Reclamante faz jus à percepção de uma hora extra por dia trabalhado, na exata dicção do item I da Súmula n.º 437 do TST. Dou provimento parcial para, reformando a decisão de primeira instância, condenar a Reclamada a pagar uma hora por dia trabalhado no período em que não houve autorização do Ministério do Trabalho para reduzir a duração do intervalo, qual seja, entre 09 de junho de 2009 e 09 de setembro de 2012. Utilize-se o adicional de 50% e divisor 220. Observe-se a evolução salarial do Autor constante nos holerites acostados ao IDf282e83, pág. 1 a 45, em observância à Súmula n.º 264 do TST. Repercutam-se as horas intervalares nos 13º salários, nas férias com terço, nos repousos semanais remunerados, nos depósitos vertidos ao Fundo de Garantia do Tempo de Serviço e na respectiva indenização de 40%.\" (fls. 1.814/1.817) . O reclamante alega que é inválida cláusula de acordo ou convenção coletiva de trabalho contemplando a supressão ou redução do intervalo intrajornada , porque este constitui medida de higiene, saúde e segurança do trabalho, garantido por norma de ordem pública . Sustenta que estava submetido a turnos ininterruptos de revezamento e cumpria horas extras. Aduz que inexiste nos autos portaria válida do MT a autorizar a redução do intervalo intrajornada , além de que a reclamada não comprovou ter cumprido todas as exigências previstas na NR 24, no tocante à organização dos refeitórios . Aponta violação dos arts. 1º e 7º, XXII, da CF , 71 , § 3º, e 818 da CLT e 333, II, do CPC/73; contrariedade às OJs nºs 307 e 342 da SDI-1 do TST; e divergência jurisprudencial . Examino. De plano, insta consignar que a OJ nº 342 da SDI-1 do TST foi cancelada , e seu item I convertido no item II da Súmula nº 437 . A OJ nº 307 da SDI-1, por sua vez, foi cancelada em decorrência de sua aglutinação ao item I da Súmula nº 437. Relativamente ao intervalo intrajornada, o Tribunal Regional consignou que, no período entre 10/9/2012 e 10/9/2014, a redução do intervalo de 60 para 40 minutos foi expressamente autorizada por ato do Ministro do Trabalho, na exata dicção do § 3º do art . 71 da CLT . Ressaltou, ainda, a Corte de origem que o reclamante não se sujeitou a regime de prorrogação de jornada, conforme atestam os espelhos de ponto. Quanto ao restante do período imprescrito (de 9/6/2009 a 9/9/2012), não foram juntadas as portarias correspondentes, razão pela qual foi deferido o pagamento de uma hora extra por dia trabalhado, na exata dicção do item I da Súmula n.º 437 do TST. Nessa senda, a decisão regional coaduna-se com o entendimento prevalecente nesta Corte, no sentido de ser válida a redução do intervalo intrajornada quando há autorização específica do Ministério do Trabalho e inexiste a sobrejornada habitual, na forma do art . 71, § 3º , da CLT. A corroborar, cito precedente desta Corte: \"RECURSO DE REVISTA INTERPOSTO SOB A ÉGIDE DA LEI 13.015/2014 . [...] . INTERVALO INTRAJORNADA. REDUÇÃO. AUTORIZAÇÃO DO MINISTÉRIO DO TRABALHO. Com efeito, o artigo 71, § 3º, da CLT, ao prever a possibilidade de redução do intervalo intrajornada, exige uma verificação específica do Poder Executivo, a fim de demonstrar que a empresa possui refeitório que atenda às exigências de organização e que os empregados não estejam submetidos a regime de trabalho prorrogado. No caso, o Tribunal Regional registrou que a autora não estava submetida a regime de trabalho prorrogado. Assim, é válida a redução intervalar, nos períodos em que há autorização do Ministério do Trabalho e Emprego. Recurso de revista não conhecido. [...]\" (RR-895-25.2015.5.17.0005, 2ª Turma, Relatora Ministra Maria Helena Mallmann, DEJT 12/03/2021). \"RECURSO DE REVISTA. INTERVALO INTRAJORNADA. AUTORIZAÇÃO ESPECÍFICA DO MTE, NOS TERMOS DO ART. 71, § 3°, DA CLT. REDUÇÃO. VALIDADE. A redução do intervalo intrajornada é legalmente permitida mediante expressa e específica autorização do Ministério do Trabalho e Emprego, após vistoriar as instalações e sistema de trabalho da empresa, nos termos do art. 71, § 3º, da CLT. No caso concreto, o Tribunal Regional consignou que a concessão de intervalo intrajornada, em período inferior a uma hora, ocorreu com base em autorização específica do Ministério do Trabalho e em norma coletiva (Portaria n.° 57/2004 da Delegacia Regional do Trabalho no RN). Assim, a prestação de horas extras em torno de dois domingos por mês, no período de maio/2011 a dezembro/2012, não configura trabalho extraordinário habitual a ponto de invalidar a autorização concedida pelo Ministério do Trabalho. Recurso de revista não conhecido\" (RR-156600-60.2013.5.17.0013, 3ª Turma, Relator Ministro Mauricio Godinho Delgado, DEJT 27/02/2015). \"AGRAVO DE INSTRUMENTO. RECURSO DE REVISTA INTERPOSTO SOB A ÉGIDE DAS LEIS Nos 13.015/2014, 13.105/2015 E 13.467/2017. INTERVALO INTRAJORNADA. REDUÇÃO POR NORMA COLETIVA E AUTORIZAÇÃO DO MINISTÉRIO DO TRABALHO E EMPREGO. O art. 71, § 3º, da CLT, ao admitir a possibilidade de redução do intervalo mínimo de uma hora para repouso ou refeição, exige que a flexibilização seja feita por meio de autorização de órgão do Ministério do Trabalho e Emprego e desde que o empregado não esteja submetido a regime de trabalho prorrogado a horas suplementares. A regra encerra norma de conteúdo imperativo mínimo, amparada pelo princípio protetor, peculiar ao Direito do Trabalho. Nesses termos, constatada, na hipótese vertente, a existência de permissão específica do órgão ministerial competente, durante parte do contrato de trabalho, válida a redução do intervalo em tal período. Agravo de instrumento conhecido e desprovido \" (AIRR-358-77.2016.5.17.0010, 3ª Turma, Relator Ministro Alberto Luiz Bresciani de Fontan Pereira, DEJT 20/09/2019). \"(...) INTERVALO INTRAJORNADA - REDUÇÃO - AUTORIZAÇÃO MINISTERIAL A ausência de prestação habitual de horas extras e a autorização do Ministério do Trabalho registradas pelo Eg. TRT demonstram a licitude da redução do intervalo intrajornada. Julgados . PARTICIPAÇÃO NOS LUCROS E RESULTADOS A matéria reveste-se de cunho fático-probatório, de reexame vedado, nos termos da Súmula no 126 do TST. (...) \" (RR-421-51.2015.5.17.0006, 8ª Turma, Relatora Ministra Maria Cristina Irigoyen Peduzzi, DEJT 25/05/2018). Nesse sentido, não se perfaz a alegada violação dos arts. 1º e 7º, XXII, da CF e 71, § 3º, da CLT, tampouco contrariedade à Súmula nº 437 do TST, sendo ainda inviável o dissenso pretoriano, ante o óbice do art. 896, § 7º, da CLT e da Súmula nº 333 do TST . Por fim, verifica-se que o Regional não se manifestou à luz das regras pertinentes à distribuição do ônus da prova. Incide, portanto, o óbice da Súmula nº 297 do TST no tocante à apontada violação dos arts. 818 da CLT e 333 do CPC/73 . Não conheço. 8 – PRESCRIÇÃO DO FGTS. 8.1 - Conhecimento O reclamante requer seja aplicada a prescrição trintenária do FGTS, alegando ser inaplicável ao caso o entendimento firmado no STF. Aponta divergência jurisprudencial. Examino. Verifica-se que o Regional não se manifestou expressamente quanto à prescrição do FGTS, tampouco foi instado a fazê-lo mediante os embargos declaratórios opostos . Incide, portanto, o óbice da Súmula nº 297 desta Corte, ante a ausência de prequestionamento. Não conheço. 9 – DIFERENÇAS DE FGTS. 9.1 - Conhecimento O Tribunal Regional, no que concerne ao tema em destaque, consignou: \" FUNDO DE GARANTIA DO TEMPO DE SERVIÇO - NÃO INCIDÊNCIA SOBRE O TERÇO DE FÉRIAS Indeferida a pretensão de incidência do terço de férias sobre os depósitos vertidos ao Fundo de Garantia do Tempo de Serviço, o Reclamante, inconformado, reitera o pedido perante esta instância revisora. Segundo o arrazoado, a falta de assinatura do empregado nos recibos de pagamento não prova a quitação regular da jornada suplementar. Socorre-se no parágrafo único do artigo 464 da CLT. Não lhe assiste razão. Conquanto a ficha financeira e os recibos acostados ao IDf282e83 e ID5295bd0 não contenham a assinatura do Reclamante - e de fato, não contêm -, não se pode perder de vista que a lei atribui força de recibo ao comprovante de depósito em conta bancária, aberta para esse fim em nome de cada empregado. A norma inserta no parágrafo único artigo 464 da CLT é suficientemente clara a respeito. Nego provimento.\" Determinado o retorno dos autos ao TRT de origem, em razão do acolhimento da preliminar de nulidade por negativa de prestação jurisdicional, foram prestados os seguintes esclarecimentos: \"Neste passo, embora não se constate nos autos a presença de comprovantes de depósito em conta bancária referentes às horas extras prestadas , é certo que a causa de pedir exposta na petição inicial não traz qualquer questionamento sobre a validade dos valores já recebidos pelo Reclamante - apresentados em fichas financeiras ou recebidos de pagamento -, relacionadas ao suposto labor extraordinário.\" (grifos apostos) O reclamante alega não ter havido recolhimento do FGTS sobre o adicional de férias , verba que tem natureza salarial . Aduz que a ficha financeira e os recibos juntados não comprovam o efetivo pagamento dos valores ali apontados, pois não estão assinados pelo empregado e a ré não anexou o comprovante de depósito em conta bancária. Deferido o pedido, requer o recálculo da multa de 40% do FGTS. Aponta violação dos arts. 7º, XVII, da CF e 464, parágrafo único, da CLT e 12, IX, do Decreto nº 8.036/1991; além de divergência jurisprudencial. Examino. A indicação de ofensa a dispositivo de decreto não enseja a admissibilidade do recurso de revista, nos termos do art. 896 da CLT. O art. 7º, XVII, da CF não trata do recolhimento do FGTS, sendo inviável divisar sua violação direta e literal, nos termos do art. 896, \"c\", da CLT. Na hipótese, consignou a Corte regional que, embora as fichas financeiras e os recibos acostados não contenham a assinatura do reclamante, a lei atribui força de recibo ao comprovante de depósito em conta bancária, aberta para esse fim em nome de cada empregado. Insta ressaltar que , após o retorno dos autos ao Tribunal regional determinado por esta Turma, embora a Corte de origem tenha registrado a ausência de \"comprovantes de depósito em conta bancária referentes às horas extras prestadas\", não se manifestou expressamente quanto aos comprovantes de depósito em conta vinculada ao FGTS . Assim, diante do contexto fático-probatório delineado, o acolhimento da pretensão recursal importaria na reapreciação da prova coligida nos autos, procedimento vedado em sede de recurso de revista, nos termos da Súmula nº 126 do TST. Não se verifica violação literal do art. 464, parágrafo único, da CLT . Os arestos colacionados são inespecíficos , à luz da Súmula nº 296 do TST, tendo em vista que não tratam do recolhimento do FGTS. Não conheço. ISTO POSTO ACORDAM os Ministros da Segunda Turma do Tribunal Superior do Trabalho, por unanimidade: I – negar provimento ao agravo de instrumento; e II – não conhecer do recurso de revista. Brasília, 27 de outubro de 2021. Firmado por assinatura digital (MP 2.200-2/2001) MARIA HELENA MALLMANN Ministra Relatora'"
      ]
     },
     "execution_count": 30,
     "metadata": {},
     "output_type": "execute_result"
    }
   ],
   "source": [
    "df['text'][18770]"
   ]
  },
  {
   "cell_type": "code",
   "execution_count": 27,
   "id": "744d664c",
   "metadata": {},
   "outputs": [],
   "source": [
    "def remove_reticencias_nan(text):\n",
    "    # Remove reticências (\"três pontinhos\")\n",
    "    text = re.sub(r'\\.\\.\\.', '', text)\n",
    "    # Substitui valores NaN por uma string vazia\n",
    "    text = str(text).replace(\"nan\", \"\")\n",
    "    text = str(text).replace(\"NaN\", \"\")\n",
    "    return text.strip()  # Remove espaços em branco extras\n"
   ]
  },
  {
   "cell_type": "code",
   "execution_count": 28,
   "id": "3e41c3c9",
   "metadata": {},
   "outputs": [],
   "source": [
    "df['text'] = df['text'].apply(remove_html_tags)"
   ]
  },
  {
   "cell_type": "code",
   "execution_count": 29,
   "id": "40d89a17",
   "metadata": {},
   "outputs": [],
   "source": [
    "df['text'] = df['text'].apply(remove_excess_spaces)\n"
   ]
  },
  {
   "cell_type": "code",
   "execution_count": 30,
   "id": "c73d4183",
   "metadata": {},
   "outputs": [],
   "source": [
    "df['text'] = df['text'].apply(remove_reticencias_nan)"
   ]
  },
  {
   "cell_type": "code",
   "execution_count": 31,
   "id": "81389059",
   "metadata": {},
   "outputs": [
    {
     "data": {
      "text/plain": [
       "'CORREIÇÃO PARCIAL, Assuntos: 1) DIREITO PENAL MILITAR,CRIMES CONTRA A PESSOA,HOMICÍDIO,HOMICIDIO QUALIFICADO. 2) DIREITO PENAL,PERICLITAÇÃO DA VIDA E DA SAÚDE E RIXA,OMISSÃO DE SOCORRO. 3) DIREITO PROCESSUAL CIVIL E DO TRABALHO,ATOS PROCESSUAIS,NULIDADE. 4) DIREITO PROCESSUAL PENAL,INVESTIGAÇÃO PENAL,CERCEAMENTO DE DEFESA. 5) DIREITO PROCESSUAL CIVIL E DO TRABALHO,FORMAÇÃO, SUSPENSÃO E EXTINÇÃO DO PROCESSO, SUSPENSÃO DO PROCESSO., Ementa: EMENTA: CORREIÇÃO PARCIAL. PRELIMINAR SUSCITADA PELO MPM. NÃO CONHECIMENTO. NÃO CABIMENTO. EXAURIMENTO DA INSTÂNCIA A QUO. PREVISÃO DE RECURSO PRÓPRIO PARA O CASO. PREJUDICIALIDADE DA ANÁLISE DO MÉRITO. ACOLHIMENTO. UNANIMIDADE. Com o julgamento e a prolação da Sentença, houve o exaurimento da jurisdição da 1ª Instância, sendo cabível na espécie contra a Sentença condenatória o recurso de Apelação, quando se devolve a Instância ad quem toda a matéria questionada. Pela dicção do art. 498, \"a\", do CPPM, o Superior Tribunal Militar pode proceder à correição parcial requerida pelas partes, para os fins que especifica, desde que para tratar de fatos para os quais não haja recurso previsto na legislação processual castrense. Incabível, portanto, no caso em tela, a correição parcial requerida. Ainda, o art. 161 do RISTM não possibilita que a correição parcial requerida indevidamente seja recebida como outro recurso. Preliminar de não conhecimento que se acolhe, ficando prejudicada a análise do mérito. Decisão Unânime.'"
      ]
     },
     "execution_count": 31,
     "metadata": {},
     "output_type": "execute_result"
    }
   ],
   "source": [
    "df['text'][34]"
   ]
  },
  {
   "cell_type": "code",
   "execution_count": 35,
   "id": "ec029781",
   "metadata": {},
   "outputs": [
    {
     "data": {
      "text/plain": [
       "'0 EMBARGOS DE DECLARAÇÃO 1 RECURSO EM SENTIDO ESTRITO 2 EMBARGOS DE DECLARAÇÃO 3 HABEAS CORPUS 4 APELAÇÃO  23517 RECURSO EXTRAORDINÁRIO 23518 RECURSO EXTRAORDINÁRIO 23519 RECURSO EXTRAORDINÁRIO 23520 HABEAS CORPUS 23521 RECURSO EXTRAORDINÁRIO Name: classe, Length: 23522, dtype: object, Assuntos: 0 1) DIREITO PENAL MILITAR,CRIMES CONTRA A ADMIN 1 1) DIREITO PENAL MILITAR,CRIMES CONTRA A ADMIN 2 1) DIREITO PENAL MILITAR,CRIMES CONTRA A ADMIN 3 1) DIREITO PROCESSUAL PENAL,INVESTIGAÇÃO PENAL 4 1) DIREITO PENAL MILITAR,CRIMES CONTRA A ADMIN  23517 1) DIREITO PENAL MILITAR,CRIMES CONTRA O SERVI 23518 1) DIREITO PENAL MILITAR,CRIMES CONTRA O SERVI 23519 1) DIREITO PENAL MILITAR,CRIMES CONTRA A PESSO 23520 1) DIREITO PROCESSUAL PENAL MILITAR,JURISDIÇÃO 23521  Name: Assuntos:, Length: 23522, dtype: object, Ementa: 0 EMENTA: EMBARGOS DE DECLARAÇÃO. DEFESA CONSTIT 1 EMENTA: RECURSO EM SENTIDO ESTRITO. MINISTÉRIO 2 EMENTA: EMBARGOS DE DECLARAÇÃO IN HABEAS CORPU 3 EMENTA: HABEAS CORPUS. TRANCAMENTO DE IPM. LIM 4 EMENTA: APELAÇÃO. DPU. USO DE DOCUMENTO FALSO.  23517 Sem Ementa 23518 Sem Ementa 23519 Sem Ementa 23520 HABEAS CORPUS. FALSIDADE IDEOLÓGICA. TRANCAMEN 23521 Sem Ementa Name: Ementa, Length: 23522, dtype: object'"
      ]
     },
     "execution_count": 35,
     "metadata": {},
     "output_type": "execute_result"
    }
   ],
   "source": [
    "df['text'][34]"
   ]
  },
  {
   "cell_type": "code",
   "execution_count": 32,
   "id": "8f6f694c",
   "metadata": {},
   "outputs": [],
   "source": [
    "import pandas as pd"
   ]
  },
  {
   "cell_type": "code",
   "execution_count": 33,
   "id": "e3846838",
   "metadata": {},
   "outputs": [],
   "source": [
    "militar_pp = pd.DataFrame()"
   ]
  },
  {
   "cell_type": "code",
   "execution_count": 34,
   "id": "233e2396",
   "metadata": {},
   "outputs": [],
   "source": [
    "militar_pp['text'] = df['text']"
   ]
  },
  {
   "cell_type": "code",
   "execution_count": 35,
   "id": "e186c7c8",
   "metadata": {},
   "outputs": [
    {
     "data": {
      "text/html": [
       "<div>\n",
       "<style scoped>\n",
       "    .dataframe tbody tr th:only-of-type {\n",
       "        vertical-align: middle;\n",
       "    }\n",
       "\n",
       "    .dataframe tbody tr th {\n",
       "        vertical-align: top;\n",
       "    }\n",
       "\n",
       "    .dataframe thead th {\n",
       "        text-align: right;\n",
       "    }\n",
       "</style>\n",
       "<table border=\"1\" class=\"dataframe\">\n",
       "  <thead>\n",
       "    <tr style=\"text-align: right;\">\n",
       "      <th></th>\n",
       "      <th>text</th>\n",
       "    </tr>\n",
       "  </thead>\n",
       "  <tbody>\n",
       "    <tr>\n",
       "      <th>0</th>\n",
       "      <td>EMBARGOS DE DECLARAÇÃO, Assuntos: 1) DIREITO P...</td>\n",
       "    </tr>\n",
       "    <tr>\n",
       "      <th>1</th>\n",
       "      <td>RECURSO EM SENTIDO ESTRITO, Assuntos: 1) DIREI...</td>\n",
       "    </tr>\n",
       "    <tr>\n",
       "      <th>2</th>\n",
       "      <td>EMBARGOS DE DECLARAÇÃO, Assuntos: 1) DIREITO P...</td>\n",
       "    </tr>\n",
       "    <tr>\n",
       "      <th>3</th>\n",
       "      <td>HABEAS CORPUS, Assuntos: 1) DIREITO PROCESSUAL...</td>\n",
       "    </tr>\n",
       "    <tr>\n",
       "      <th>4</th>\n",
       "      <td>APELAÇÃO, Assuntos: 1) DIREITO PENAL MILITAR,C...</td>\n",
       "    </tr>\n",
       "    <tr>\n",
       "      <th>...</th>\n",
       "      <td>...</td>\n",
       "    </tr>\n",
       "    <tr>\n",
       "      <th>23517</th>\n",
       "      <td>RECURSO EXTRAORDINÁRIO, Assuntos: 1) DIREITO P...</td>\n",
       "    </tr>\n",
       "    <tr>\n",
       "      <th>23518</th>\n",
       "      <td>RECURSO EXTRAORDINÁRIO, Assuntos: 1) DIREITO P...</td>\n",
       "    </tr>\n",
       "    <tr>\n",
       "      <th>23519</th>\n",
       "      <td>RECURSO EXTRAORDINÁRIO, Assuntos: 1) DIREITO P...</td>\n",
       "    </tr>\n",
       "    <tr>\n",
       "      <th>23520</th>\n",
       "      <td>HABEAS CORPUS, Assuntos: 1) DIREITO PROCESSUAL...</td>\n",
       "    </tr>\n",
       "    <tr>\n",
       "      <th>23521</th>\n",
       "      <td>RECURSO EXTRAORDINÁRIO, Assuntos: , Ementa: Se...</td>\n",
       "    </tr>\n",
       "  </tbody>\n",
       "</table>\n",
       "<p>23522 rows × 1 columns</p>\n",
       "</div>"
      ],
      "text/plain": [
       "                                                    text\n",
       "0      EMBARGOS DE DECLARAÇÃO, Assuntos: 1) DIREITO P...\n",
       "1      RECURSO EM SENTIDO ESTRITO, Assuntos: 1) DIREI...\n",
       "2      EMBARGOS DE DECLARAÇÃO, Assuntos: 1) DIREITO P...\n",
       "3      HABEAS CORPUS, Assuntos: 1) DIREITO PROCESSUAL...\n",
       "4      APELAÇÃO, Assuntos: 1) DIREITO PENAL MILITAR,C...\n",
       "...                                                  ...\n",
       "23517  RECURSO EXTRAORDINÁRIO, Assuntos: 1) DIREITO P...\n",
       "23518  RECURSO EXTRAORDINÁRIO, Assuntos: 1) DIREITO P...\n",
       "23519  RECURSO EXTRAORDINÁRIO, Assuntos: 1) DIREITO P...\n",
       "23520  HABEAS CORPUS, Assuntos: 1) DIREITO PROCESSUAL...\n",
       "23521  RECURSO EXTRAORDINÁRIO, Assuntos: , Ementa: Se...\n",
       "\n",
       "[23522 rows x 1 columns]"
      ]
     },
     "execution_count": 35,
     "metadata": {},
     "output_type": "execute_result"
    }
   ],
   "source": [
    "militar_pp"
   ]
  },
  {
   "cell_type": "code",
   "execution_count": 36,
   "id": "b954512d",
   "metadata": {},
   "outputs": [
    {
     "data": {
      "text/plain": [
       "'APELAÇÃO, Assuntos: 1) DIREITO PENAL MILITAR,CRIMES CONTRA A ADMINISTRAÇÃO MILITAR,FALSIDADE,USO DE DOCUMENTO FALSO. 2) DIREITO PENAL MILITAR,CRIMES CONTRA A ADMINISTRAÇÃO MILITAR,FALSIDADE,FALSIFICAÇÃO DE DOCUMENTO. 3) DIREITO PENAL MILITAR,PARTE GERAL ,EXCLUDENTES,ESTADO DE NECESSIDADE., Ementa: EMENTA: APELAÇÃO. DPU. USO DE DOCUMENTO FALSO. ALEGAÇÃO. ESTADO DE NECESSIDADE. EXCLUDENTE DE ILICITUDE. EXCLUDENTE DE CULPABILIDADE. ÔNUS DA PROVA. DOCUMENTOS. APTIDÃO PARA O LUDÍBRIO. APELO DESPROVIDO. UNANIMIDADE. Foge ao senso comum, mesmo para uma pessoa pouco letrada, que a única forma de manutenir a subsistência da sua família seja praticando crime. É absolutamente exigível conduta diversa, sobretudo por parte de militar, que, tendo outros meios disponíveis de sobrepujar a crise ficeira que lhe acomete, prefere a prática criminosa. O estado de necessidade justificante requer, para a sua configuração, uma situação de perigo certo e atual; que este perigo não seja provocado pelo agente; a inevitabilidade do perigo; a proteção a direito próprio ou de terceiro; o perecimento do bem de menor valor para salvar o de maior valor; e a inexistência do dever legal de o agente enfrentar o perigo. Em linhas gerais, para que o estado de necessidade exculpante se configure, faz-se necessária a inexigibilidade de conduta diversa por parte do agente delitivo, além de o sacrifício de direito alheio ser de valor superior ao do bem protegido. A alegação do estado de necessidade requer prova do alegado. O ônus da prova de fato extintivo ou modificativo do jus puniendi decorrente do alegado estado de necessidade, justificante ou exculpante, incumbe à defesa, nos termos do art. 296 do CPPM. Apelo desprovido. Decisão por uimidade.'"
      ]
     },
     "execution_count": 36,
     "metadata": {},
     "output_type": "execute_result"
    }
   ],
   "source": [
    "militar_pp.text[4]"
   ]
  },
  {
   "cell_type": "code",
   "execution_count": 37,
   "id": "3c6ac976",
   "metadata": {},
   "outputs": [],
   "source": [
    "save_to = \"D:\\\\dados-juridicos\\\\pp\\\\\""
   ]
  },
  {
   "cell_type": "code",
   "execution_count": 38,
   "id": "af165bd7",
   "metadata": {},
   "outputs": [],
   "source": [
    "# Salve o dataframe atualizado em um novo arquivo\n",
    "militar_pp.to_csv(f'{save_to}militar_pp.csv', index=False)  # Substitua pelo nome desejado para o novo arquivo"
   ]
  },
  {
   "cell_type": "code",
   "execution_count": 39,
   "id": "40151bab",
   "metadata": {},
   "outputs": [],
   "source": [
    "df_militar_pp = pd.read_csv(f'{save_to}militar_pp.csv')"
   ]
  },
  {
   "cell_type": "code",
   "execution_count": 40,
   "id": "6fd50aa1",
   "metadata": {},
   "outputs": [
    {
     "data": {
      "text/plain": [
       "'EMBARGOS DE DECLARAÇÃO, Assuntos: 1) DIREITO PENAL MILITAR,CRIMES CONTRA A ADMINISTRAÇÃO MILITAR,CORRUPÇÃO,CORRUPÇÃO PASSIVA. 2) DIREITO PENAL MILITAR,CRIMES CONTRA A ADMINISTRAÇÃO MILITAR,CORRUPÇÃO,CORRUPÇÃO ATIVA. 3) DIREITO PENAL MILITAR,CRIMES CONTRA A ADMINISTRAÇÃO MILITAR,FALSIDADE,FALSIDADE IDEOLÓGICA. 4) DIREITO PENAL MILITAR,CRIMES CONTRA A ADMINISTRAÇÃO MILITAR,CRIMES CONTRA O DEVER FUNCIONAL,EXERCÍCIO FUNCIONAL ILEGAL. 5) DIREITO PROCESSUAL CIVIL E DO TRABALHO,FORMAÇÃO, SUSPENSÃO E EXTINÇÃO DO PROCESSO, SUSPENSÃO DO PROCESSO., Ementa: EMENTA: EMBARGOS DE DECLARAÇÃO. DEFESA CONSTITUÍDA. ALEGADA OMISSÃO NO ACORDÃO. INCOMPETÊNCIA DA JUSTIÇA MILITAR PARA A EXECUÇÃO DA PENA. REMESSA DOS AUTOS À VARA DE EXECUÇÕES PENAIS COMUM. DISPOSITIVOS CONSTITUCIONAIS. ESTATUTO DOS MILITARES. LEI DE EXECUÇÕES PENAIS. FINALIDADE DE PREQUESTIONAMENTO. INTERPOSIÇÃO DE RECURSO PERANTE A EXCELSA CORTE. INEXISTÊNCIA DE AMBIGUIDADE, OMISSÃO, OBSCURIDADE OU CONTRADIÇÃO. EMBARGOS REJEITADOS. MANUTENÇÃO DO ACÓRDÃO EMBARGADO. DECISÃO UNÂNIME. 1. Ao compulsar o petitório inicial, verifica-se que a defesa pretende rediscutir matéria exaustivamente enfrentada pelo juízo de piso e pelo Plenário deste Tribunal, prequestiodo teses que julga serem de ordem constitucional com a finalidade de interpor Recurso perante o Supremo Tribunal Federal. 2. A matéria foi analisada e julgada no âmbito desta Corte Castrense que, de forma unânime, decidiu que, em não havendo estabelecimento militar próprio para o cumprimento da pena, no regime semiaberto, faz-se necessária a remessa do feito ao Juízo de Execução Penal do local da residência do sentenciado, para dar prosseguimento à execução da pena, conforme prevê o parágrafo único do art. 2º da LEP, c/c o Enunciado da Súmula nº 192 do STJ. 3. Não há afronta aos dispositivos previstos no artigo 142, § 3º, inciso VI, VII, da Constituição da República Federativa do Brasil, artigo 73, caput, § único, alínea \"c\", do Estatuto dos Militares, artigo 65 da Lei de Execução Penal e no Enunciado da Súmula nº 192 do STJ. 4. Em que pese os argumentos defensivos, no caso concreto, não há qualquer obscuridade, contradição ou omissão no Acórdão, unânime, prolatado por este Tribunal que justifique o manejo do referido Recurso que não se destina \"a reforma do acórdão ou a nulidade do processo, mas tão somente aclarar pontos considerados obscuros ou conflitantes do acórdão\". ] 5. Embargos conhecidos e rejeitados. Decisão por uimidade'"
      ]
     },
     "execution_count": 40,
     "metadata": {},
     "output_type": "execute_result"
    }
   ],
   "source": [
    "df_militar_pp.text[0]"
   ]
  },
  {
   "cell_type": "code",
   "execution_count": 45,
   "id": "b0319126",
   "metadata": {},
   "outputs": [
    {
     "data": {
      "text/plain": [
       "'0 EMBARGOS DE DECLARAÇÃO 1 RECURSO EM SENTIDO ESTRITO 2 EMBARGOS DE DECLARAÇÃO 3 HABEAS CORPUS 4 APELAÇÃO  23517 RECURSO EXTRAORDINÁRIO 23518 RECURSO EXTRAORDINÁRIO 23519 RECURSO EXTRAORDINÁRIO 23520 HABEAS CORPUS 23521 RECURSO EXTRAORDINÁRIO Name: classe, Length: 23522, dtype: object, Assuntos: 0 1) DIREITO PENAL MILITAR,CRIMES CONTRA A ADMIN 1 1) DIREITO PENAL MILITAR,CRIMES CONTRA A ADMIN 2 1) DIREITO PENAL MILITAR,CRIMES CONTRA A ADMIN 3 1) DIREITO PROCESSUAL PENAL,INVESTIGAÇÃO PENAL 4 1) DIREITO PENAL MILITAR,CRIMES CONTRA A ADMIN  23517 1) DIREITO PENAL MILITAR,CRIMES CONTRA O SERVI 23518 1) DIREITO PENAL MILITAR,CRIMES CONTRA O SERVI 23519 1) DIREITO PENAL MILITAR,CRIMES CONTRA A PESSO 23520 1) DIREITO PROCESSUAL PENAL MILITAR,JURISDIÇÃO 23521  Name: Assuntos:, Length: 23522, dtype: object, Ementa: 0 EMENTA: EMBARGOS DE DECLARAÇÃO. DEFESA CONSTIT 1 EMENTA: RECURSO EM SENTIDO ESTRITO. MINISTÉRIO 2 EMENTA: EMBARGOS DE DECLARAÇÃO IN HABEAS CORPU 3 EMENTA: HABEAS CORPUS. TRANCAMENTO DE IPM. LIM 4 EMENTA: APELAÇÃO. DPU. USO DE DOCUMENTO FALSO.  23517 Sem Ementa 23518 Sem Ementa 23519 Sem Ementa 23520 HABEAS CORPUS. FALSIDADE IDEOLÓGICA. TRANCAMEN 23521 Sem Ementa Name: Ementa, Length: 23522, dtype: object'"
      ]
     },
     "execution_count": 45,
     "metadata": {},
     "output_type": "execute_result"
    }
   ],
   "source": [
    "df_militar_pp.text[0]"
   ]
  }
 ],
 "metadata": {
  "kernelspec": {
   "display_name": "Python 3 (ipykernel)",
   "language": "python",
   "name": "python3"
  },
  "language_info": {
   "codemirror_mode": {
    "name": "ipython",
    "version": 3
   },
   "file_extension": ".py",
   "mimetype": "text/x-python",
   "name": "python",
   "nbconvert_exporter": "python",
   "pygments_lexer": "ipython3",
   "version": "3.11.5"
  }
 },
 "nbformat": 4,
 "nbformat_minor": 5
}
