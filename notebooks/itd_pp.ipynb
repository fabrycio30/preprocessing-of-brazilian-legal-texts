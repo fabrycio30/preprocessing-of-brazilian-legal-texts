{
 "cells": [
  {
   "cell_type": "code",
   "execution_count": 1,
   "id": "5c5d93de",
   "metadata": {},
   "outputs": [],
   "source": [
    "path = \"D:\\\\dados-juridicos\\\\brutos\\\\menores\\\\\""
   ]
  },
  {
   "cell_type": "code",
   "execution_count": 5,
   "id": "0384af48",
   "metadata": {},
   "outputs": [],
   "source": [
    "import pandas as pd"
   ]
  },
  {
   "cell_type": "code",
   "execution_count": 7,
   "id": "ce960849",
   "metadata": {},
   "outputs": [
    {
     "data": {
      "text/html": [
       "<div>\n",
       "<style scoped>\n",
       "    .dataframe tbody tr th:only-of-type {\n",
       "        vertical-align: middle;\n",
       "    }\n",
       "\n",
       "    .dataframe tbody tr th {\n",
       "        vertical-align: top;\n",
       "    }\n",
       "\n",
       "    .dataframe thead th {\n",
       "        text-align: right;\n",
       "    }\n",
       "</style>\n",
       "<table border=\"1\" class=\"dataframe\">\n",
       "  <thead>\n",
       "    <tr style=\"text-align: right;\">\n",
       "      <th></th>\n",
       "      <th>_id</th>\n",
       "      <th>relator</th>\n",
       "      <th>texto</th>\n",
       "    </tr>\n",
       "  </thead>\n",
       "  <tbody>\n",
       "    <tr>\n",
       "      <th>0</th>\n",
       "      <td>{'$oid': '5d0e657e4244ac55551b45e4'}</td>\n",
       "      <td>MIN_MARCO_AURÉLIO</td>\n",
       "      <td>O SENHOR MINISTRO MARCO AURÉLIO – Adoto, como ...</td>\n",
       "    </tr>\n",
       "    <tr>\n",
       "      <th>1</th>\n",
       "      <td>{'$oid': '5d0e657e4244ac55551b45e5'}</td>\n",
       "      <td>MIN_DIAS_TOFFOLI</td>\n",
       "      <td>O SENHOR MINISTRO DIAS TOFFOLI (RELATOR):  Rec...</td>\n",
       "    </tr>\n",
       "    <tr>\n",
       "      <th>2</th>\n",
       "      <td>{'$oid': '5d0e657e4244ac55551b45e6'}</td>\n",
       "      <td>MIN_CELSO_DE_MELLO</td>\n",
       "      <td>O SENHOR MINISTRO CELSO DE MELLO – (Relator): ...</td>\n",
       "    </tr>\n",
       "    <tr>\n",
       "      <th>3</th>\n",
       "      <td>{'$oid': '5d0e657e4244ac55551b45e7'}</td>\n",
       "      <td>MINISTRO_PRESIDENTE</td>\n",
       "      <td>O SENHOR MINISTRO DIAS TOFFOLI (PRESIDENTE): T...</td>\n",
       "    </tr>\n",
       "    <tr>\n",
       "      <th>4</th>\n",
       "      <td>{'$oid': '5d0e657e4244ac55551b45e8'}</td>\n",
       "      <td>MIN_CELSO_DE_MELLO</td>\n",
       "      <td>O SENHOR MINISTRO CELSO DE MELLO – (Relator): ...</td>\n",
       "    </tr>\n",
       "    <tr>\n",
       "      <th>...</th>\n",
       "      <td>...</td>\n",
       "      <td>...</td>\n",
       "      <td>...</td>\n",
       "    </tr>\n",
       "    <tr>\n",
       "      <th>41348</th>\n",
       "      <td>{'$oid': '5d0e659d4244ac55551be768'}</td>\n",
       "      <td>MIN_MARCO_AURÉLIO</td>\n",
       "      <td>O  SENHOR  MINISTRO  MARCO  AURÉLIO  –  Na  de...</td>\n",
       "    </tr>\n",
       "    <tr>\n",
       "      <th>41349</th>\n",
       "      <td>{'$oid': '5d0e659d4244ac55551be769'}</td>\n",
       "      <td></td>\n",
       "      <td>O SENHOR MINISTRO RICARDO LEWANDOWSKI (RELATOR...</td>\n",
       "    </tr>\n",
       "    <tr>\n",
       "      <th>41350</th>\n",
       "      <td>{'$oid': '5d0e659d4244ac55551be76a'}</td>\n",
       "      <td>MIN_RICARDO_LEWANDOWSKI</td>\n",
       "      <td>O  Senhor  Ministro  Ricardo  Lewandowski  (Re...</td>\n",
       "    </tr>\n",
       "    <tr>\n",
       "      <th>41351</th>\n",
       "      <td>{'$oid': '5d0e659d4244ac55551be76b'}</td>\n",
       "      <td>MIN_MARCO_AURÉLIO</td>\n",
       "      <td>O SENHOR MINISTRO MARCO AURÉLIO – Adoto, como ...</td>\n",
       "    </tr>\n",
       "    <tr>\n",
       "      <th>41352</th>\n",
       "      <td>{'$oid': '5d0e659d4244ac55551be76c'}</td>\n",
       "      <td>MIN_MARCO_AURÉLIO</td>\n",
       "      <td>O SENHOR MINISTRO MARCO AURÉLIO – O assessor D...</td>\n",
       "    </tr>\n",
       "  </tbody>\n",
       "</table>\n",
       "<p>41353 rows × 3 columns</p>\n",
       "</div>"
      ],
      "text/plain": [
       "                                        _id                  relator  \\\n",
       "0      {'$oid': '5d0e657e4244ac55551b45e4'}        MIN_MARCO_AURÉLIO   \n",
       "1      {'$oid': '5d0e657e4244ac55551b45e5'}         MIN_DIAS_TOFFOLI   \n",
       "2      {'$oid': '5d0e657e4244ac55551b45e6'}       MIN_CELSO_DE_MELLO   \n",
       "3      {'$oid': '5d0e657e4244ac55551b45e7'}      MINISTRO_PRESIDENTE   \n",
       "4      {'$oid': '5d0e657e4244ac55551b45e8'}       MIN_CELSO_DE_MELLO   \n",
       "...                                     ...                      ...   \n",
       "41348  {'$oid': '5d0e659d4244ac55551be768'}        MIN_MARCO_AURÉLIO   \n",
       "41349  {'$oid': '5d0e659d4244ac55551be769'}                            \n",
       "41350  {'$oid': '5d0e659d4244ac55551be76a'}  MIN_RICARDO_LEWANDOWSKI   \n",
       "41351  {'$oid': '5d0e659d4244ac55551be76b'}        MIN_MARCO_AURÉLIO   \n",
       "41352  {'$oid': '5d0e659d4244ac55551be76c'}        MIN_MARCO_AURÉLIO   \n",
       "\n",
       "                                                   texto  \n",
       "0      O SENHOR MINISTRO MARCO AURÉLIO – Adoto, como ...  \n",
       "1      O SENHOR MINISTRO DIAS TOFFOLI (RELATOR):  Rec...  \n",
       "2      O SENHOR MINISTRO CELSO DE MELLO – (Relator): ...  \n",
       "3      O SENHOR MINISTRO DIAS TOFFOLI (PRESIDENTE): T...  \n",
       "4      O SENHOR MINISTRO CELSO DE MELLO – (Relator): ...  \n",
       "...                                                  ...  \n",
       "41348  O  SENHOR  MINISTRO  MARCO  AURÉLIO  –  Na  de...  \n",
       "41349  O SENHOR MINISTRO RICARDO LEWANDOWSKI (RELATOR...  \n",
       "41350  O  Senhor  Ministro  Ricardo  Lewandowski  (Re...  \n",
       "41351  O SENHOR MINISTRO MARCO AURÉLIO – Adoto, como ...  \n",
       "41352  O SENHOR MINISTRO MARCO AURÉLIO – O assessor D...  \n",
       "\n",
       "[41353 rows x 3 columns]"
      ]
     },
     "execution_count": 7,
     "metadata": {},
     "output_type": "execute_result"
    }
   ],
   "source": [
    "df = pd.read_json(f'{path}acordaos_relatorios.json', lines=True)\n",
    "df"
   ]
  },
  {
   "cell_type": "code",
   "execution_count": 8,
   "id": "6cc7b9f1",
   "metadata": {},
   "outputs": [
    {
     "data": {
      "text/plain": [
       "'O SENHOR MINISTRO MARCO AURÉLIO – Adoto, como relatório,  as informações prestadas pela Assessoria:  Na  decisão  que  implicou  o  deferimento  da  liminar,  a  espécie ficou assim resumida:  PRISÃO  PREVENTIVA  –  FUNDAMENTOS –  INSUBSISTÊNCIA –  EXCESSO  DE  PRAZO  –  RELEVÂNCIA  DEMONSTRADA.  LIMINAR – EXTENSÃO A CORRÉUS.  1. A Assessoria prestou as seguintes informações:  Consta do processo que José Ribamar Mendes e  Valdeilson Pereira Costa foram presos em flagrante  delito no dia 30 de novembro de 2008 e o paciente,  em  virtude  de  decisão  determinando  a  custódia  preventiva,  em  12  de  dezembro  subsequente.  Aos  primeiros  foi  imputada  a  prática  dos  crimes  de  homicídio  duplamente  qualificado,  porte  ilegal  de  arma  de  fogo  de  uso  permitido  e  resistência,  tipificados nos artigos 121, § 2º, incisos I e IV, e 329  do Código Penal bem assim no artigo 14 da Lei nº     10.826/2003,  todos  em concurso  material  –  Código  Penal,  artigo  69.  Ao  paciente  –  Edivaldo  Alves  da  Silva – foi imputada a infração do disposto no artigo  121,  §  2º,  inciso  I,  do  Código  Penal  (homicídio  qualificado).  O  Juízo  Criminal  da  Comarca  de  Xambioá,  Estado  do  Tocantins,  proferiu  a  sentença  de  pronúncia.  A  defesa  interpôs  recurso  em  sentido  estrito, ao qual o Tribunal de Justiça deu provimento,  cassando o ato e determinando o retorno do processo  à primeira instância para novo exame.  Sobreveio a segunda sentença de pronúncia em  29 de outubro de 2009, permanecendo o paciente sob  custódia  porque  o  fato  se  revelara  de  grande  repercussão social, tanto que os corréus precisaram  ser transferidos da cadeia pública local para presídio  de maior segurança na cidade de Araguaína. Além  disso,  um deles  teria  empreendido  fuga  uma vez.  Desse  modo,  se  fossem  colocados  em  liberdade,  certamente  haveria  frustração  na  aplicação  da  lei  penal,  em  caso  de  condenação.  A  liberdade  dos  envolvidos  também  causaria  transtornos  à  ordem  pública,  principalmente pelas graves consequências  que  geraria  o  sentimento  generalizado  de  impunidade, e importaria em ameaça à integridade  física  das  testemunhas.  A prisão  processual  ficou  mantida  por  motivo  de  ordem  pública,  por  conveniência da instrução criminal e para assegurar  a aplicação da lei penal.  A defesa,  cientificada  da  decisão,  protocolou  novo recurso em sentido estrito. O Tribunal estadual  determinou ao Juízo Criminal que fosse intimado o  Ministério  Público  para  oferecimento  de     contrarrazões.  Atualmente,  o  recurso  aguarda,  no  Tribunal, a designação de data para apreciação.  Inconformada com a manutenção da  custódia  preventiva decorrente  da sentença  de pronúncia,  a  defesa impetrou habeas corpus no Tribunal de Justiça.  Pretendeu ver  assegurado ao paciente  o direito  de  permanecer  em  liberdade  até  o  julgamento  pelo  Tribunal do Júri. A ordem foi indeferida.  Na  impetração  formalizada  no  Superior  Tribunal de Justiça – de nº 167.987/TO –, a Ministra  Maria Thereza de Assis Moura, relatora, deixou de  acolher  o  pedido de concessão de  liminar  por  não  vislumbrar  manifesta  ilegalidade  no  acórdão  proferido pelo Tribunal de Justiça, mediante o qual  foi  mantida  a  prisão  preventiva,  conforme  consignou,  com  base  em  elementos  concretos.  Anotou  confundir-se  o  pleito  acautelador  com  o  mérito  do  processo,  cujo  julgamento  é  da  competência do colegiado.  Por meio deste  habeas,  os impetrantes buscam  infirmar essa decisão. Observam estar o paciente sob  custódia  preventiva  há  um  ano,  quatro  meses  e  dezesseis  dias,  encontrando-se pendente de exame,  no Tribunal estadual, o segundo recurso em sentido  estrito. Afirmam ser deficiente de fundamentação o  pronunciamento que implicou a prisão, mantida na  sentença de pronúncia, porque calcado em ilações e  na gravidade do delito imputado.  Pedem a concessão de liminar, determinando-se  a  expedição  de  alvará  de  soltura,  considerado  o  excesso de prazo de prisão sem formação da culpa.  Quanto  ao  mérito,  pleiteiam  o  deferimento  da     ordem,  assegurando-se  ao  paciente  o  direito  de  aguardar  em  liberdade  o  exame  do  Recurso  em  Sentido Estrito nº 2.457, em tramitação no Tribunal  de Justiça do Estado do Tocantins, e, caso confirmada  a sentença de pronúncia, o julgamento pelo Tribunal  do Júri.  Anoto que, na inicial, os impetrantes veiculam  duas  causas  de  pedir:  a  deficiência  de  fundamentação  da  decisão  mediante  a  qual  determinada a prisão preventiva, bem assim da parte  dispositiva da sentença de pronúncia que implicou a  manutenção,  e  o  excesso  de  prazo  de  prisão  sem  formação  da  culpa.  Os  pedidos  de  liminar  e  de  deferimento  da  ordem  estão  circunscritos  à  tese  relacionada à última causa de pedir.  O Tribunal  de  Justiça,  por  meio  do  Ofício  nº  885, de 1º de outubro de 2010, noticiou o julgamento,  na  sessão  de  17  de  junho  de  2010,  do  recurso  em  sentido estrito, oportunidade na qual lhe foi negado  provimento.  Por  meio  de  telegrama,  a  Sexta  Turma  do  Superior  Tribunal  de  Justiça  informa  ter  sido  indeferida  a  ordem  pleiteada  no  Habeas  Corpus nº  167.987/TO, distribuído à Ministra Maria Thereza de  Assis Moura. O Colegiado entendeu não ser ilegal a  preventiva, pois o ato fundou-se em dados concretos,  especialmente extraídos da conduta perpetrada pelo  acusado, demonstrando a necessidade da prisão para  garantia  da  ordem  pública,  conveniência  da  instrução criminal e aplicação da lei penal.  [...]    Brasília – residência –, 8 de março de 2011, às 12h35.  A Procuradoria Geral da República, no parecer, afirma que  o  ato  mediante  o  qual  foi  decretada  a  prisão  preventiva  do  paciente  encontra-se  devidamente  fundamentado.  Ressalta  estarem  presentes  os  requisitos  da  custódia  cautelar,  não  existindo ilegalidade a  reparar.  Quanto  ao  excesso  de  prazo,  aduz ter ficado superado, ante o fato de o Tribunal de Justiça  local  haver  julgado  o  recurso  em  sentido  estrito.  Citando  precedentes  jurisprudenciais,  opina  pelo  indeferimento  da  ordem.  Lancei visto no processo em 7 de maio de 2012, liberando-o para ser  julgado na Turma a partir de 15 seguinte, isso objetivando a ciência dos  impetrantes.  É o relatório. '"
      ]
     },
     "execution_count": 8,
     "metadata": {},
     "output_type": "execute_result"
    }
   ],
   "source": [
    "df.texto[0]"
   ]
  },
  {
   "cell_type": "code",
   "execution_count": 11,
   "id": "86cba150",
   "metadata": {},
   "outputs": [],
   "source": [
    "df['text'] = df['texto']# + ', Ementa: ' + df['Ementa:']+ ', Decisão: ' + df['Decisão:']+ ', Ementa: ' + df['Partes:']"
   ]
  },
  {
   "cell_type": "code",
   "execution_count": 13,
   "id": "b049f3f2",
   "metadata": {},
   "outputs": [],
   "source": [
    "# Ajuste os caracteres \"\\n\" para justificar\n",
    "#df['text'] = df['text'].str.replace('\\n', ' ')\n",
    "#df['text'] = df['text'].str.replace('\\\\n', ' ')"
   ]
  },
  {
   "cell_type": "code",
   "execution_count": 18,
   "id": "ffda0990",
   "metadata": {},
   "outputs": [],
   "source": [
    "import re"
   ]
  },
  {
   "cell_type": "code",
   "execution_count": 15,
   "id": "d11bb570",
   "metadata": {},
   "outputs": [],
   "source": [
    "def remove_non_breaking_spaces(text):\n",
    "    return text.replace(\"\\xa0\", \" \").strip()"
   ]
  },
  {
   "cell_type": "code",
   "execution_count": 16,
   "id": "3ec562d2",
   "metadata": {},
   "outputs": [],
   "source": [
    "def remove_metadata(text):\n",
    "    text = re.sub(r', Length: \\d+, dtype: object', '', text)\n",
    "    text = str(text).replace(\"nan\", \"\")\n",
    "    return text.strip()"
   ]
  },
  {
   "cell_type": "code",
   "execution_count": 17,
   "id": "b805fbd7",
   "metadata": {},
   "outputs": [],
   "source": [
    "def remove_html_tags(text):\n",
    "    text = str(text)\n",
    "    clean = re.compile('<.*?>')\n",
    "    return re.sub(clean, '', text)"
   ]
  },
  {
   "cell_type": "code",
   "execution_count": 19,
   "id": "2e763d59",
   "metadata": {},
   "outputs": [],
   "source": [
    "def remove_excess_spaces(text):\n",
    "    text = str(text)\n",
    "    return re.sub(r'\\s+', ' ', text).strip()"
   ]
  },
  {
   "cell_type": "code",
   "execution_count": 19,
   "id": "744d664c",
   "metadata": {},
   "outputs": [],
   "source": [
    "def remove_reticencias_nan(text):\n",
    "    text = re.sub(r'\\.\\.\\.', '', text)\n",
    "    text = str(text).replace(\"nan\", \"\")\n",
    "    text = str(text).replace(\"NaN\", \"\")\n",
    "    return text.strip()  # Remove espaços em branco extras\n"
   ]
  },
  {
   "cell_type": "code",
   "execution_count": 20,
   "id": "3e41c3c9",
   "metadata": {},
   "outputs": [],
   "source": [
    "df['text'] = df['text'].apply(remove_non_breaking_spaces)\n",
    "df['text'] = df['text'].apply(remove_html_tags)\n",
    "df['text'] = df['text'].apply(remove_excess_spaces)\n",
    "df['text'] = df['text'].apply(remove_reticencias_nan)\n",
    "df['text'] = df['text'].apply(remove_metadata)"
   ]
  },
  {
   "cell_type": "code",
   "execution_count": 21,
   "id": "fcbdc726",
   "metadata": {},
   "outputs": [],
   "source": [
    "df['text'] = df['texto'].apply(remove_excess_spaces)"
   ]
  },
  {
   "cell_type": "code",
   "execution_count": 23,
   "id": "5268703a",
   "metadata": {},
   "outputs": [
    {
     "data": {
      "text/plain": [
       "'O SENHOR MINISTRO MARCO AURÉLIO – Adoto, como relatório,  as informações prestadas pela Assessoria:  Na  decisão  que  implicou  o  deferimento  da  liminar,  a  espécie ficou assim resumida:  PRISÃO  PREVENTIVA  –  FUNDAMENTOS –  INSUBSISTÊNCIA –  EXCESSO  DE  PRAZO  –  RELEVÂNCIA  DEMONSTRADA.  LIMINAR – EXTENSÃO A CORRÉUS.  1. A Assessoria prestou as seguintes informações:  Consta do processo que José Ribamar Mendes e  Valdeilson Pereira Costa foram presos em flagrante  delito no dia 30 de novembro de 2008 e o paciente,  em  virtude  de  decisão  determinando  a  custódia  preventiva,  em  12  de  dezembro  subsequente.  Aos  primeiros  foi  imputada  a  prática  dos  crimes  de  homicídio  duplamente  qualificado,  porte  ilegal  de  arma  de  fogo  de  uso  permitido  e  resistência,  tipificados nos artigos 121, § 2º, incisos I e IV, e 329  do Código Penal bem assim no artigo 14 da Lei nº     10.826/2003,  todos  em concurso  material  –  Código  Penal,  artigo  69.  Ao  paciente  –  Edivaldo  Alves  da  Silva – foi imputada a infração do disposto no artigo  121,  §  2º,  inciso  I,  do  Código  Penal  (homicídio  qualificado).  O  Juízo  Criminal  da  Comarca  de  Xambioá,  Estado  do  Tocantins,  proferiu  a  sentença  de  pronúncia.  A  defesa  interpôs  recurso  em  sentido  estrito, ao qual o Tribunal de Justiça deu provimento,  cassando o ato e determinando o retorno do processo  à primeira instância para novo exame.  Sobreveio a segunda sentença de pronúncia em  29 de outubro de 2009, permanecendo o paciente sob  custódia  porque  o  fato  se  revelara  de  grande  repercussão social, tanto que os corréus precisaram  ser transferidos da cadeia pública local para presídio  de maior segurança na cidade de Araguaína. Além  disso,  um deles  teria  empreendido  fuga  uma vez.  Desse  modo,  se  fossem  colocados  em  liberdade,  certamente  haveria  frustração  na  aplicação  da  lei  penal,  em  caso  de  condenação.  A  liberdade  dos  envolvidos  também  causaria  transtornos  à  ordem  pública,  principalmente pelas graves consequências  que  geraria  o  sentimento  generalizado  de  impunidade, e importaria em ameaça à integridade  física  das  testemunhas.  A prisão  processual  ficou  mantida  por  motivo  de  ordem  pública,  por  conveniência da instrução criminal e para assegurar  a aplicação da lei penal.  A defesa,  cientificada  da  decisão,  protocolou  novo recurso em sentido estrito. O Tribunal estadual  determinou ao Juízo Criminal que fosse intimado o  Ministério  Público  para  oferecimento  de     contrarrazões.  Atualmente,  o  recurso  aguarda,  no  Tribunal, a designação de data para apreciação.  Inconformada com a manutenção da  custódia  preventiva decorrente  da sentença  de pronúncia,  a  defesa impetrou habeas corpus no Tribunal de Justiça.  Pretendeu ver  assegurado ao paciente  o direito  de  permanecer  em  liberdade  até  o  julgamento  pelo  Tribunal do Júri. A ordem foi indeferida.  Na  impetração  formalizada  no  Superior  Tribunal de Justiça – de nº 167.987/TO –, a Ministra  Maria Thereza de Assis Moura, relatora, deixou de  acolher  o  pedido de concessão de  liminar  por  não  vislumbrar  manifesta  ilegalidade  no  acórdão  proferido pelo Tribunal de Justiça, mediante o qual  foi  mantida  a  prisão  preventiva,  conforme  consignou,  com  base  em  elementos  concretos.  Anotou  confundir-se  o  pleito  acautelador  com  o  mérito  do  processo,  cujo  julgamento  é  da  competência do colegiado.  Por meio deste  habeas,  os impetrantes buscam  infirmar essa decisão. Observam estar o paciente sob  custódia  preventiva  há  um  ano,  quatro  meses  e  dezesseis  dias,  encontrando-se pendente de exame,  no Tribunal estadual, o segundo recurso em sentido  estrito. Afirmam ser deficiente de fundamentação o  pronunciamento que implicou a prisão, mantida na  sentença de pronúncia, porque calcado em ilações e  na gravidade do delito imputado.  Pedem a concessão de liminar, determinando-se  a  expedição  de  alvará  de  soltura,  considerado  o  excesso de prazo de prisão sem formação da culpa.  Quanto  ao  mérito,  pleiteiam  o  deferimento  da     ordem,  assegurando-se  ao  paciente  o  direito  de  aguardar  em  liberdade  o  exame  do  Recurso  em  Sentido Estrito nº 2.457, em tramitação no Tribunal  de Justiça do Estado do Tocantins, e, caso confirmada  a sentença de pronúncia, o julgamento pelo Tribunal  do Júri.  Anoto que, na inicial, os impetrantes veiculam  duas  causas  de  pedir:  a  deficiência  de  fundamentação  da  decisão  mediante  a  qual  determinada a prisão preventiva, bem assim da parte  dispositiva da sentença de pronúncia que implicou a  manutenção,  e  o  excesso  de  prazo  de  prisão  sem  formação  da  culpa.  Os  pedidos  de  liminar  e  de  deferimento  da  ordem  estão  circunscritos  à  tese  relacionada à última causa de pedir.  O Tribunal  de  Justiça,  por  meio  do  Ofício  nº  885, de 1º de outubro de 2010, noticiou o julgamento,  na  sessão  de  17  de  junho  de  2010,  do  recurso  em  sentido estrito, oportunidade na qual lhe foi negado  provimento.  Por  meio  de  telegrama,  a  Sexta  Turma  do  Superior  Tribunal  de  Justiça  informa  ter  sido  indeferida  a  ordem  pleiteada  no  Habeas  Corpus nº  167.987/TO, distribuído à Ministra Maria Thereza de  Assis Moura. O Colegiado entendeu não ser ilegal a  preventiva, pois o ato fundou-se em dados concretos,  especialmente extraídos da conduta perpetrada pelo  acusado, demonstrando a necessidade da prisão para  garantia  da  ordem  pública,  conveniência  da  instrução criminal e aplicação da lei penal.  [...]    Brasília – residência –, 8 de março de 2011, às 12h35.  A Procuradoria Geral da República, no parecer, afirma que  o  ato  mediante  o  qual  foi  decretada  a  prisão  preventiva  do  paciente  encontra-se  devidamente  fundamentado.  Ressalta  estarem  presentes  os  requisitos  da  custódia  cautelar,  não  existindo ilegalidade a  reparar.  Quanto  ao  excesso  de  prazo,  aduz ter ficado superado, ante o fato de o Tribunal de Justiça  local  haver  julgado  o  recurso  em  sentido  estrito.  Citando  precedentes  jurisprudenciais,  opina  pelo  indeferimento  da  ordem.  Lancei visto no processo em 7 de maio de 2012, liberando-o para ser  julgado na Turma a partir de 15 seguinte, isso objetivando a ciência dos  impetrantes.  É o relatório. '"
      ]
     },
     "execution_count": 23,
     "metadata": {},
     "output_type": "execute_result"
    }
   ],
   "source": [
    "df.texto[0]"
   ]
  },
  {
   "cell_type": "code",
   "execution_count": 22,
   "id": "b8465f68",
   "metadata": {},
   "outputs": [
    {
     "data": {
      "text/plain": [
       "'O SENHOR MINISTRO MARCO AURÉLIO – Adoto, como relatório, as informações prestadas pela Assessoria: Na decisão que implicou o deferimento da liminar, a espécie ficou assim resumida: PRISÃO PREVENTIVA – FUNDAMENTOS – INSUBSISTÊNCIA – EXCESSO DE PRAZO – RELEVÂNCIA DEMONSTRADA. LIMINAR – EXTENSÃO A CORRÉUS. 1. A Assessoria prestou as seguintes informações: Consta do processo que José Ribamar Mendes e Valdeilson Pereira Costa foram presos em flagrante delito no dia 30 de novembro de 2008 e o paciente, em virtude de decisão determinando a custódia preventiva, em 12 de dezembro subsequente. Aos primeiros foi imputada a prática dos crimes de homicídio duplamente qualificado, porte ilegal de arma de fogo de uso permitido e resistência, tipificados nos artigos 121, § 2º, incisos I e IV, e 329 do Código Penal bem assim no artigo 14 da Lei nº 10.826/2003, todos em concurso material – Código Penal, artigo 69. Ao paciente – Edivaldo Alves da Silva – foi imputada a infração do disposto no artigo 121, § 2º, inciso I, do Código Penal (homicídio qualificado). O Juízo Criminal da Comarca de Xambioá, Estado do Tocantins, proferiu a sentença de pronúncia. A defesa interpôs recurso em sentido estrito, ao qual o Tribunal de Justiça deu provimento, cassando o ato e determinando o retorno do processo à primeira instância para novo exame. Sobreveio a segunda sentença de pronúncia em 29 de outubro de 2009, permanecendo o paciente sob custódia porque o fato se revelara de grande repercussão social, tanto que os corréus precisaram ser transferidos da cadeia pública local para presídio de maior segurança na cidade de Araguaína. Além disso, um deles teria empreendido fuga uma vez. Desse modo, se fossem colocados em liberdade, certamente haveria frustração na aplicação da lei penal, em caso de condenação. A liberdade dos envolvidos também causaria transtornos à ordem pública, principalmente pelas graves consequências que geraria o sentimento generalizado de impunidade, e importaria em ameaça à integridade física das testemunhas. A prisão processual ficou mantida por motivo de ordem pública, por conveniência da instrução criminal e para assegurar a aplicação da lei penal. A defesa, cientificada da decisão, protocolou novo recurso em sentido estrito. O Tribunal estadual determinou ao Juízo Criminal que fosse intimado o Ministério Público para oferecimento de contrarrazões. Atualmente, o recurso aguarda, no Tribunal, a designação de data para apreciação. Inconformada com a manutenção da custódia preventiva decorrente da sentença de pronúncia, a defesa impetrou habeas corpus no Tribunal de Justiça. Pretendeu ver assegurado ao paciente o direito de permanecer em liberdade até o julgamento pelo Tribunal do Júri. A ordem foi indeferida. Na impetração formalizada no Superior Tribunal de Justiça – de nº 167.987/TO –, a Ministra Maria Thereza de Assis Moura, relatora, deixou de acolher o pedido de concessão de liminar por não vislumbrar manifesta ilegalidade no acórdão proferido pelo Tribunal de Justiça, mediante o qual foi mantida a prisão preventiva, conforme consignou, com base em elementos concretos. Anotou confundir-se o pleito acautelador com o mérito do processo, cujo julgamento é da competência do colegiado. Por meio deste habeas, os impetrantes buscam infirmar essa decisão. Observam estar o paciente sob custódia preventiva há um ano, quatro meses e dezesseis dias, encontrando-se pendente de exame, no Tribunal estadual, o segundo recurso em sentido estrito. Afirmam ser deficiente de fundamentação o pronunciamento que implicou a prisão, mantida na sentença de pronúncia, porque calcado em ilações e na gravidade do delito imputado. Pedem a concessão de liminar, determinando-se a expedição de alvará de soltura, considerado o excesso de prazo de prisão sem formação da culpa. Quanto ao mérito, pleiteiam o deferimento da ordem, assegurando-se ao paciente o direito de aguardar em liberdade o exame do Recurso em Sentido Estrito nº 2.457, em tramitação no Tribunal de Justiça do Estado do Tocantins, e, caso confirmada a sentença de pronúncia, o julgamento pelo Tribunal do Júri. Anoto que, na inicial, os impetrantes veiculam duas causas de pedir: a deficiência de fundamentação da decisão mediante a qual determinada a prisão preventiva, bem assim da parte dispositiva da sentença de pronúncia que implicou a manutenção, e o excesso de prazo de prisão sem formação da culpa. Os pedidos de liminar e de deferimento da ordem estão circunscritos à tese relacionada à última causa de pedir. O Tribunal de Justiça, por meio do Ofício nº 885, de 1º de outubro de 2010, noticiou o julgamento, na sessão de 17 de junho de 2010, do recurso em sentido estrito, oportunidade na qual lhe foi negado provimento. Por meio de telegrama, a Sexta Turma do Superior Tribunal de Justiça informa ter sido indeferida a ordem pleiteada no Habeas Corpus nº 167.987/TO, distribuído à Ministra Maria Thereza de Assis Moura. O Colegiado entendeu não ser ilegal a preventiva, pois o ato fundou-se em dados concretos, especialmente extraídos da conduta perpetrada pelo acusado, demonstrando a necessidade da prisão para garantia da ordem pública, conveniência da instrução criminal e aplicação da lei penal. [...] Brasília – residência –, 8 de março de 2011, às 12h35. A Procuradoria Geral da República, no parecer, afirma que o ato mediante o qual foi decretada a prisão preventiva do paciente encontra-se devidamente fundamentado. Ressalta estarem presentes os requisitos da custódia cautelar, não existindo ilegalidade a reparar. Quanto ao excesso de prazo, aduz ter ficado superado, ante o fato de o Tribunal de Justiça local haver julgado o recurso em sentido estrito. Citando precedentes jurisprudenciais, opina pelo indeferimento da ordem. Lancei visto no processo em 7 de maio de 2012, liberando-o para ser julgado na Turma a partir de 15 seguinte, isso objetivando a ciência dos impetrantes. É o relatório.'"
      ]
     },
     "execution_count": 22,
     "metadata": {},
     "output_type": "execute_result"
    }
   ],
   "source": [
    "df.text[0]"
   ]
  },
  {
   "cell_type": "code",
   "execution_count": 24,
   "id": "8f6f694c",
   "metadata": {},
   "outputs": [],
   "source": [
    "import pandas as pd"
   ]
  },
  {
   "cell_type": "code",
   "execution_count": 25,
   "id": "e3846838",
   "metadata": {},
   "outputs": [],
   "source": [
    "itd_pp = pd.DataFrame()"
   ]
  },
  {
   "cell_type": "code",
   "execution_count": 26,
   "id": "233e2396",
   "metadata": {},
   "outputs": [],
   "source": [
    "itd_pp['text'] = df['text']"
   ]
  },
  {
   "cell_type": "code",
   "execution_count": 27,
   "id": "e186c7c8",
   "metadata": {},
   "outputs": [
    {
     "data": {
      "text/html": [
       "<div>\n",
       "<style scoped>\n",
       "    .dataframe tbody tr th:only-of-type {\n",
       "        vertical-align: middle;\n",
       "    }\n",
       "\n",
       "    .dataframe tbody tr th {\n",
       "        vertical-align: top;\n",
       "    }\n",
       "\n",
       "    .dataframe thead th {\n",
       "        text-align: right;\n",
       "    }\n",
       "</style>\n",
       "<table border=\"1\" class=\"dataframe\">\n",
       "  <thead>\n",
       "    <tr style=\"text-align: right;\">\n",
       "      <th></th>\n",
       "      <th>text</th>\n",
       "    </tr>\n",
       "  </thead>\n",
       "  <tbody>\n",
       "    <tr>\n",
       "      <th>0</th>\n",
       "      <td>O SENHOR MINISTRO MARCO AURÉLIO – Adoto, como ...</td>\n",
       "    </tr>\n",
       "    <tr>\n",
       "      <th>1</th>\n",
       "      <td>O SENHOR MINISTRO DIAS TOFFOLI (RELATOR): Recu...</td>\n",
       "    </tr>\n",
       "    <tr>\n",
       "      <th>2</th>\n",
       "      <td>O SENHOR MINISTRO CELSO DE MELLO – (Relator): ...</td>\n",
       "    </tr>\n",
       "    <tr>\n",
       "      <th>3</th>\n",
       "      <td>O SENHOR MINISTRO DIAS TOFFOLI (PRESIDENTE): T...</td>\n",
       "    </tr>\n",
       "    <tr>\n",
       "      <th>4</th>\n",
       "      <td>O SENHOR MINISTRO CELSO DE MELLO – (Relator): ...</td>\n",
       "    </tr>\n",
       "    <tr>\n",
       "      <th>...</th>\n",
       "      <td>...</td>\n",
       "    </tr>\n",
       "    <tr>\n",
       "      <th>41348</th>\n",
       "      <td>O SENHOR MINISTRO MARCO AURÉLIO – Na decisão q...</td>\n",
       "    </tr>\n",
       "    <tr>\n",
       "      <th>41349</th>\n",
       "      <td>O SENHOR MINISTRO RICARDO LEWANDOWSKI (RELATOR...</td>\n",
       "    </tr>\n",
       "    <tr>\n",
       "      <th>41350</th>\n",
       "      <td>O Senhor Ministro Ricardo Lewandowski (Relator...</td>\n",
       "    </tr>\n",
       "    <tr>\n",
       "      <th>41351</th>\n",
       "      <td>O SENHOR MINISTRO MARCO AURÉLIO – Adoto, como ...</td>\n",
       "    </tr>\n",
       "    <tr>\n",
       "      <th>41352</th>\n",
       "      <td>O SENHOR MINISTRO MARCO AURÉLIO – O assessor D...</td>\n",
       "    </tr>\n",
       "  </tbody>\n",
       "</table>\n",
       "<p>41353 rows × 1 columns</p>\n",
       "</div>"
      ],
      "text/plain": [
       "                                                    text\n",
       "0      O SENHOR MINISTRO MARCO AURÉLIO – Adoto, como ...\n",
       "1      O SENHOR MINISTRO DIAS TOFFOLI (RELATOR): Recu...\n",
       "2      O SENHOR MINISTRO CELSO DE MELLO – (Relator): ...\n",
       "3      O SENHOR MINISTRO DIAS TOFFOLI (PRESIDENTE): T...\n",
       "4      O SENHOR MINISTRO CELSO DE MELLO – (Relator): ...\n",
       "...                                                  ...\n",
       "41348  O SENHOR MINISTRO MARCO AURÉLIO – Na decisão q...\n",
       "41349  O SENHOR MINISTRO RICARDO LEWANDOWSKI (RELATOR...\n",
       "41350  O Senhor Ministro Ricardo Lewandowski (Relator...\n",
       "41351  O SENHOR MINISTRO MARCO AURÉLIO – Adoto, como ...\n",
       "41352  O SENHOR MINISTRO MARCO AURÉLIO – O assessor D...\n",
       "\n",
       "[41353 rows x 1 columns]"
      ]
     },
     "execution_count": 27,
     "metadata": {},
     "output_type": "execute_result"
    }
   ],
   "source": [
    "itd_pp"
   ]
  },
  {
   "cell_type": "code",
   "execution_count": 28,
   "id": "824f02c6",
   "metadata": {},
   "outputs": [
    {
     "data": {
      "text/plain": [
       "'O SENHOR MINISTRO CELSO DE MELLO – (Relator): Trata-se de recurso de agravo, tempestivamente interposto, contra decisão que, por mim proferida, denegou o mandado de segurança impetrado pela parte ora recorrente contra deliberação que o Conselho Nacional de Justiça proferiu nos autos da Sindicância nº 0002699-76.2009.2.00.0000, Rel. Cons. GILSON DIPP, consubstanciada em acórdão assim ementado: “SINDICÂNCIA. REAPRECIAÇÃO DE FATOS ANTERIORMENTE JULGADOS. IMPOSSIBILIDADE. ARQUIVAMENTO. INDICATIVOS DE VIOLAÇÕES AOS DEVERES FUNCIONAIS. FATOS DIVERSOS. INSTAURAÇÃO DE PROCESSO ADMINISTRATIVO DISCIPLINAR. DECRETAÇÃO DE AFASTAMENTO PREVENTIVO. I – Os fatos descritos na Sindicância n. 0002699- -76.2009.2.00.0000 já foram objeto de apreciação e julgamento nos autos do Procedimento de Controle Administrativo n. 0000966- -75.2009.2.00.0000, quando se entendeu que se tratava de ato jurisdicional. Como a matéria já foi apreciada por este Conselho, e não existem novos elementos de prova, deve ser arquivada a presente Sindicância quanto a tais fatos. II – Os fatos trazidos a conhecimento deste Conselho somente poderão ser integralmente apreciados no processo administrativo a ser instaurado, sendo certo que o atual procedimento, por sua natureza de mero instrumento preparatório, limita-se à verificação da existência de indícios de irregularidades eventualmente praticadas. III – Compete a este Conselho instaurar o processo administrativo disciplinar exatamente para apurar os fatos, garantindo ao Sindicado a mais ampla defesa e contraditório. IV – O magistrado que age com desídia na fiscalização dos trabalhos da vara, bem como na condução dos feitos, descumpre os deveres dos arts. 35, incisos II e III, 41, 44 e 56 da LOMAN, acarretando descrédito ao Poder Judiciário entre a população. V – A independência judicial é uma garantia do cidadão para assegurar julgamentos livres de pressões, mas de acordo com a lei e o direito. A independência judicial não é, porém, incompatível com o controle disciplinar da magistratura. A imunidade garantida pelo art. 41 da LOMAN não é absoluta, sendo possível a responsabilização administrativo-disciplinar do magistrado quando, no exercício da atividade jurisdicional, viola o dever de imparcialidade (CPC, art. 135, I) e age, de forma reiterada, contrariando dispositivos legais expressos, em violação ao dever do art. 35, I, da LOMAN, e adotando, de forma reiterada e com dolo, revelado por um conjunto de indícios, procedimentos incorretos (LOMAN, art. 44), que acarretam prejuízos a uma das partes, em procedimento incompatível com a dignidade, a honra e o decoro de suas funções (LOMAN, art. 56, I) e proceder funcional incompatível com o bom desempenho das atividades do Poder Judiciário (LOMAN, art. 56, II). VI – Havendo indicativos de grave violação aos deveres funcionais praticados por Juiz de Direito, titular da 2ª Vara Cível da Comarca de Teresina/PI, com a adoção de postura incompatível com o exercício da magistratura, mostra-se necessária a instauração do processo administrativo disciplinar, a fim de que sejam esclarecidos os fatos e aplicada a penalidade eventualmente cabível. VII – Tratando-se de conduta, em tese, incompatível com o exercício da judicatura, impõe-se o afastamento preventivo do Sindicado (LOMAN, art. 27, § 3º, e RICNJ, art. 75, parágrafo único), em especial por se tratar de conduta reiterada, na qual o magistrado persistiu mesmo após a instauração da sindicância. VIII – O afastamento implica na suspensão, com exceção dos vencimentos, de todas as vantagens decorrentes da condição de magistrado, tais como uso de gabinete, de veículo oficial e manutenção ou designação de servidores em cargos de confiança ou funções comissionadas. IX – Os feitos atribuídos ao magistrado afastado deverão ser conduzidos por magistrado designado para substituição, na forma da regulamentação local, evitando-se prejuízo aos jurisdicionados.” (grifei) Busca-se, nesta sede mandamental, a restauração da situação jurídico-funcional do magistrado em questão, restabelecendo-se, desse modo, o “status quo ante”, com a concessão da segurança, “em razão da ilegalidade do ato fustigado, editado sem lastro na competência legal do Conselho Nacional de Justiça para instaurar originariamente processo administrativo disciplinar contra o impetrante e afastá-lo preventivamente” (grifei). O órgão apontado como coator prestou as informações que lhe foram requisitadas. Por entender presentes, cumulativamente, os requisitos concernentes à plausibilidade jurídica e ao “periculum in mora”, deferi o pedido de medida liminar formulado pelo impetrante, motivo pelo qual a União Federal interpôs o concernente recurso de agravo. O Ministério Público Federal, em pronunciamento da lavra do eminente Chefe da Instituição, ao opinar pela denegação do mandado de segurança, assim resumiu e apreciou a presente causa: “AGRAVO REGIMENTAL CONTRA MEDIDA LIMINAR DEFERIDA EM MANDADO DE SEGURANÇA IMPETRADO CONTRA ATO DO CONSELHO NACIONAL DE JUSTIÇA. Competência originária e concorrente do Conselho Nacional de Justiça para instaurar procedimento administrativo disciplinar contra magistrado. Tese da subsidiariedade afastada. Ação Direta de Inconstitucionalidade 4.638. O mandado de segurança não se revela meio juridicamente adequado à apreciação de matéria de fato especialmente controvertida e avaliação de elementos probatórios necessários à conclusão de que a conduta do impetrante limitou-se a atos meramente jurisdicionais. Indícios de prática de outras condutas infracionais que não têm relação com a possibilidade de o Conselho Nacional de Justiça imiscuir-se no mérito de decisões judiciais. Parecer pelo provimento do agravo regimental, para cassar a liminar deferida, e, no mérito, pela denegação da segurança. Trata-se de mandado de segurança, com pedido de liminar, impetrado por José Ramos Dias Filho, Juiz de Direito integrante do Tribunal de Justiça do Estado do Piauí, contra decisão do Conselho Nacional de Justiça que resultou na instauração do Processo Administrativo Disciplinar 0004750-23.2010.00.0000. Nos anos de 2008 e 2009, a Corregedoria Nacional de Justiça instaurou as Sindicâncias 0003088-95.2008.00.0000, 0002699- -76.2009.2.00.0000, 0002527-37.2009.2.00.0000, bem como a Reclamação Disciplinar 0006002-98.2009.00.0000, para apurar fatos atribuídos ao Juiz de Direito José Ramos Dias Filho, titular da 2ª Vara Cível de Teresina-PI, consubstanciados na atuação indevida em feitos nos quais teria agido com parcialidade, causando graves prejuízos a uma das partes; na paralisação indevida de um determinado processo; na distribuição de outro, com fins de favorecimento; e na promoção da execução da forma mais gravosa ao devedor, mediante bloqueio e transferência imediata de milhões de reais em dinheiro. Na 108ª Sessão Ordinária, realizada em 30 de junho de 2010, o Plenário do Conselho Nacional de Justiça, em julgamento conjunto, decidiu arquivar a Sindicância 0002699-76.2009.2.00.0000 e instaurar processo administrativo disciplinar contra o Juiz de Direito José Ramos Dias Filho, com seu afastamento cautelar, em face dos fatos descritos nas Sindicâncias 0003088-95.2008.00.0000, 0002527- -37.2009.2.00.0000 e na Reclamação Disciplinar 0006002- -98.2009.00.0000, conforme registra a ementa a seguir descrita: ‘SINDICÂNCIA. REAPRECIAÇÃO DE FATOS ANTERIORMENTE JULGADOS. IMPOSSIBILIDADE. ARQUIVAMENTO. INDICATIVOS DE VIOLAÇÕES AOS DEVERES FUNCIONAIS. FATOS DIVERSOS. INSTAURAÇÃO DE PROCESSO ADMINISTRATIVO DISCIPLINAR. DECRETAÇÃO DE AFASTAMENTO PREVENTIVO. I – Os fatos descritos na Sindicância n. 0002699- -76.2009.2.00.0000 já foram objeto de apreciação e julgamento nos autos do Procedimento de Controle Administrativo n. 0000966- -75.2009.2.00.0000, quando se entendeu que se tratava de ato jurisdicional. Como a matéria já foi apreciada por este Conselho, e não existem novos elementos de prova, deve ser arquivada a presente Sindicância quanto a tais fatos. II – Os fatos trazidos a conhecimento deste Conselho somente poderão ser integralmente apreciados no processo administrativo a ser instaurado, sendo certo que o atual procedimento, por sua natureza de mero instrumento preparatório, limita-se à verificação da existência de indícios de irregularidades eventualmente praticadas. III – Compete a este Conselho instaurar o processo administrativo disciplinar exatamente para apurar os fatos, garantindo ao Sindicado a mais ampla defesa e contraditório. IV – O magistrado que age com desídia na fiscalização dos trabalhos da vara, bem como na condução dos feitos, descumpre os deveres dos arts. 35, incisos II e III, 41, 44 e 56 da LOMAN, acarretando descrédito ao Poder Judiciário entre a população. V – A independência judicial é uma garantia do cidadão para assegurar julgamentos livres de pressões, mas de acordo com a lei e o direito. A independência judicial não é, porém, incompatível com o controle disciplinar da magistratura. A imunidade garantida pelo art. 41 da LOMAN não é absoluta, sendo possível a responsabilização administrativo-disciplinar do magistrado quando, no exercício da atividade jurisdicional, viola o dever de imparcialidade (CPC, art. 135, I) e age, de forma reiterada, contrariando dispositivos legais expressos, em violação ao dever do art. 35, I, da LOMAN, e adotando, de forma reiterada e com dolo, revelado por um conjunto de indícios, procedimentos incorretos (LOMAN, art. 44), que acarretam prejuízos a uma das partes, em procedimento incompatível com a dignidade, a honra e o decoro de suas funções (LOMAN, art. 56, I) e proceder funcional incompatível com o bom desempenho das atividades do Poder Judiciário (LOMAN, art. 56, II). VI – Havendo indicativos de grave violação aos deveres funcionais praticados por Juiz de Direito, titular da 2ª Vara Cível da Comarca de Teresina/PI, com a adoção de postura incompatível com o exercício da magistratura, mostra-se necessária a instauração do processo administrativo disciplinar, a fim de que sejam esclarecidos os fatos e aplicada a penalidade eventualmente cabível. VII – Tratando-se de conduta, em tese, incompatível com o exercício da judicatura, impõe-se o afastamento preventivo do Sindicado (LOMAN, art. 27, § 3º, e RICNJ, art. 75, parágrafo único), em especial por se tratar de conduta reiterada, na qual o magistrado persistiu mesmo após a instauração da sindicância. VIII – O afastamento implica na suspensão, com exceção dos vencimentos, de todas as vantagens decorrentes da condição de magistrado, tais como uso de gabinete, de veículo oficial e manutenção ou designação de servidores em cargos de confiança ou funções comissionadas. IX – Os feitos atribuídos ao magistrado afastado deverão ser conduzidos por magistrado designado para substituição, na forma da regulamentação local, evitando-se prejuízo aos jurisdicionados.’ Instaurou-se, assim, o Processo Administrativo Disciplinar 0004750-23.2010.00.0000. Daí o presente mandado de segurança, no qual o impetrante sustenta que o Conselho Nacional de Justiça não teria competência para, originariamente, instaurar o processo administrativo disciplinar, sendo certo que a sua decisão colide frontalmente com as do Supremo Tribunal Federal no sentido de que a competência do CNJ para a instauração de processo administrativo disciplinar contra magistrados é subsidiária, devendo-se, em um primeiro plano, oferecer aos tribunais aos quais os juízes e desembargadores pertençam a oportunidade para que apreciem as denúncias apresentadas contra a conduta dos julgadores, e possam assim aplicar as sanções que entenderem necessárias, o que não ocorreu no presente caso, já que o processo administrativo disciplinar foi instaurado sem qualquer apuração dos fatos pela Corte estadual. Requer, ao final, a concessão de medida liminar para suspender os efeitos da decisão proferida pelo Conselho Nacional de Justiça, que resultou na instauração do Processo Administrativo Disciplinar 0004750-23.2010.00.0000. Em seguida, pugna pela concessão da segurança definitiva, ‘em razão da ilegalidade do ato fustigado, editado sem lastro de competência legal do Conselho Nacional de Justiça para instaurar originariamente processo administrativo disciplinar’. Instado a se manifestar, o Conselho Nacional de Justiça prestou informações. Após, o pedido de liminar foi deferido, nos seguintes termos: …......…......................................................................................... Contra esta decisão, a União interpôs agravo regimental, no qual sustenta que a atuação deficitária da Corte estadual deu causa à atuação correicional do Conselho Nacional de Justiça. Além disso, ressalta a agravante que existem decisões do Supremo Tribunal Federal no sentido de que a atuação do Conselho Nacional de Justiça não é pautada pelo princípio da subsidiariedade. No tocante à consideração da natureza jurisdicional dos atos investigados, a agravante rememora que os atos que deram ensejo à atuação do CNJ dizem respeito à realização de procedimentos incorretos, passíveis de correição administrativa. Requer a agravante, por essas razões, a cassação da liminar concedida. Em seguida, vieram os autos à Procuradoria-Geral da República para parecer ‘sobre o recurso de agravo interposto na presente sede processual, bem assim quanto ao mérito da presente ação mandamental’. O agravo merece ser provido. Pelas mesmas razões, a segurança denegada, diante da ausência de ameaça ou violação a direito líquido e certo. A decisão concessiva da medida liminar, ora agravada, considerou a existência de dois motivos qualificadores da pretensão cautelar, a saber: ‘i. inobservância pelo Conselho Nacional de Justiça do postulado da subsidiariedade, com transgressão à autonomia do Tribunal de Justiça para o exercício da jurisdição censória de magistrado a ele vinculado e ii. incompetência absoluta do Conselho Nacional de Justiça para intervir em decisões emanadas de magistrado, impregnada de conteúdo jurisdicional.’ Em relação ao motivo (i), cumpre esclarecer que a alegada incompetência originária do Conselho Nacional de Justiça para instaurar processo administrativo disciplinar contra magistrado já foi tratada pelo Supremo Tribunal Federal na Ação Direta de Inconstitucionalidade 4638, ocasião em que se firmou entendimento no sentido da competência originária e concorrente daquele órgão censor para investigar magistrados, consoante previsto no art. 12 da Resolução 135, de 13 de julho de 2011. O dispositivo legal e a decisão da Corte Suprema vão ao encontro do texto constitucional que, em seu art. 103-B, § 4º, inciso III, estabelece a atribuição do Conselho Nacional de Justiça para ‘receber e conhecer das reclamações contra membros ou órgãos do Poder Judiciário (…), sem prejuízo da competência disciplinar e correicional dos tribunais (…)’. Logo, afastada a tese da competência subsidiária, tem-se que a legitimidade dos órgãos censores é concorrente, devendo ser rechaçada a atuação do Conselho Nacional de Justiça tão somente no caso de já se ter iniciado a apuração perante o Tribunal de Justiça, com vistas a evitar a duplicidade de procedimentos disciplinares. Dessa forma, justamente por inexistir notícia de qualquer apuração dos fatos pelo órgão censor local – como confirma a certidão expedida pelo Tribunal de Justiça do Estado do Piauí, juntada aos autos pelo impetrante – coube ao Conselho Nacional de Justiça o exercício integral da competência correicional no Processo Administrativo Disciplinar 0004750-23.2010.00.0000, não se vislumbrando usurpação da competência atribuída à Corte Estadual. Quanto ao motivo (ii), é forçoso registrar que não se desconhece que o mérito da atividade jurisdicional não se sujeita ao controle correcional. É sabido também que o magistrado exerce sua independência funcional diante da possibilidade de interpretar e aplicar as normas de acordo com a sua convicção. Contudo, o desvirtuamento da atividade judicante mediante a atuação parcial, por meio de decisões favoráveis a uma das partes, sob o argumento do livre convencimento e independência no exercício da atividade jurisdicional, configura ato ilegal violador da garantia de igualdade de tratamento entre as partes, prevista no inciso I do art. 125 do Código de Processo Civil e do dever imposto pelo inciso I do art. 35 da Lei Complementar 35/79, bem como configurador das infrações previstas nos incisos II e III do art. 56 do mesmo diploma legal. Ocorre que somente após a apuração efetiva dos fatos pelo órgão censor será possível verificar se se está diante de decisão que teria apenas a exclusiva via jurisdicional para ser revertida ou diante de uma decisão que tem a aparência de livre convencimento, porquanto estaria o juiz direcionando sua jurisdição ou distorcendo a função judicante, de modo a inviabilizar a garantia de paridade de armas aos litigantes do processo que preside, violando, assim, o princípio isonômico contido na Carta Constitucional, sem falar-se no art. 37 do mesmo texto, que exige do Estado-Juiz impessoalidade nas suas ações. De mais a mais, verifica-se que a decisão agravada considerou tratar-se de incompetência do Conselho Nacional de Justiça para intervir em decisões emanadas de magistrado, impregnada de conteúdo jurisdicional, tão somente pela extração de fragmentos da petição apresentada pela empresa Basf S/A, que motivou a abertura da Sindicância nº 0002527-37.2009.2.00.0000, na qual essa reclamante expôs os argumentos justificadores do pedido de apuração das supostas infrações disciplinares atribuídas ao ora impetrante: ‘(...) sem embargo do viés jurisdicional que os fatos narrados envolvem (a ensejar medidas adequadas já adotadas) e muito embora não seja possível nominar quem quer que seja, há indícios veementes de irregularidades no presente caso […].’ Com a devida vênia, o processo mandamental não se revela meio juridicamente adequado à apreciação de matéria de fato especialmente controvertida, muito menos constitui instrumento idôneo à avaliação de elementos probatórios necessários à conclusão de que a conduta do impetrante limitou-se à realização de atos meramente jurisdicionais. Na realidade, o mandado de segurança nem sequer foi instruído com documentos suficientes para comprovar a ocorrência de lesão ou ameaça de direito líquido e certo. Por oportuno, cabe o registro de que na ocasião da prolatação da decisão agravada, em 28 de abril de 2011, o Processo Administrativo Disciplinar 0004750-23.2010.00.0000 já se encontrava com a instrução encerrada desde 7 de fevereiro de 2011, tendo sido, inclusive, apresentadas as razões finais do Ministério Público Federal, nas quais se concluiu pela prática de outras condutas infracionais que não têm relação com a possibilidade de o Conselho Nacional de Justiça imiscuir-se no mérito de decisões judiciais. Confira-se, a esse respeito, a conclusão extraída da peça apresentada pela Procuradoria-Geral da República nos autos do Processo Administrativo Disciplinar 0004750-23.2010.00.0000: ‘As provas trazidas aos autos são firmes em demonstrar que o requerido (i) conduziu de forma negligente o processo nº 001970035277, dando causa ao excesso de prazo e acarretando sérios prejuízos à parte; (ii) convalidou a distribuição de feitos por dependência, sem qualquer fundamentação legal, configurando o direcionamento dos processos para o juízo de sua titularidade, em desobediência aos princípios do juiz natural e do devido processo legal.’ Como se observa, não restou caracterizado o direito líquido e certo em que o impetrante apoia sua pretensão, muito menos os motivos determinantes para a concessão da medida liminar. Por todas essas razões, manifesta-se o Procurador-Geral da República pelo provimento do agravo regimental da União, para cassar a liminar concedida, e, no mérito, pela denegação da segurança.” (grifei) Com fundamento nos poderes de que dispõe o Ministro Relator (RTJ 139/53 – RTJ 168/174-175), e tendo em consideração a jurisprudência firmada pelo Supremo Tribunal Federal sobre a matéria versada nesta causa, deneguei a segurança, julgando prejudicado o recurso de agravo interposto pela União Federal. Inconformada com esse ato decisório, a parte ora agravante interpõe o presente recurso, sustentando, em caráter preliminar, a consumação da prescrição da pretensão punitiva da Administração Pública e, quanto ao mérito, a perda do objeto da ação em relação às “Sindicâncias e PAD’s presididos pelos Ministros aposentados Gilson Dipp e Eliana Calmon”. Por não me convencer das razões expostas pela parte recorrente, submeto à apreciação desta colenda Segunda Turma o presente recurso de agravo. É o relatório.'"
      ]
     },
     "execution_count": 28,
     "metadata": {},
     "output_type": "execute_result"
    }
   ],
   "source": [
    "itd_pp.text[4]"
   ]
  },
  {
   "cell_type": "code",
   "execution_count": 13,
   "id": "49011a84",
   "metadata": {},
   "outputs": [
    {
     "data": {
      "text/plain": [
       "'O SENHOR MINISTRO CELSO DE MELLO – (Relator): Trata-se  de recurso de agravo,  tempestivamente interposto,  contra decisão  que,  por mim proferida, denegou o mandado de segurança impetrado pela parte  ora  recorrente contra  deliberação  que  o  Conselho  Nacional  de  Justiça  proferiu nos autos da Sindicância nº 0002699-76.2009.2.00.0000, Rel.  Cons.  GILSON DIPP, consubstanciada em acórdão assim ementado:  “SINDICÂNCIA. REAPRECIAÇÃO  DE  FATOS  ANTERIORMENTE  JULGADOS. IMPOSSIBILIDADE.  ARQUIVAMENTO. INDICATIVOS  DE  VIOLAÇÕES  AOS   DEVERES FUNCIONAIS. FATOS DIVERSOS. INSTAURAÇÃO  DE  PROCESSO  ADMINISTRATIVO  DISCIPLINAR.  DECRETAÇÃO DE AFASTAMENTO PREVENTIVO.  I  –  Os  fatos  descritos  na  Sindicância  n.  0002699-   -76.2009.2.00.0000 já foram objeto de apreciação e julgamento nos autos   do  Procedimento  de  Controle  Administrativo  n.  0000966-   -75.2009.2.00.0000,  quando  se  entendeu  que  se  tratava  de  ato   jurisdicional. Como a matéria já foi apreciada por este Conselho, e não   existem  novos  elementos  de  prova,  deve  ser  arquivada  a  presente   Sindicância quanto a tais fatos.  II  –  Os  fatos  trazidos  a  conhecimento  deste  Conselho   somente  poderão  ser  integralmente  apreciados  no  processo   administrativo a ser instaurado, sendo certo que o atual procedimento,   por  sua  natureza  de  mero  instrumento  preparatório,  limita-se  à      verificação da existência de indícios de irregularidades eventualmente   praticadas.  III  –  Compete  a  este  Conselho  instaurar  o  processo   administrativo  disciplinar  exatamente  para  apurar  os  fatos,   garantindo ao Sindicado a mais ampla defesa e contraditório.  IV – O magistrado que age com desídia na fiscalização   dos trabalhos da vara, bem como na condução dos feitos, descumpre   os  deveres  dos  arts.  35,  incisos  II  e  III,  41,  44 e  56 da LOMAN,   acarretando descrédito ao Poder Judiciário entre a população.  V – A independência judicial é uma garantia do cidadão   para assegurar  julgamentos  livres  de  pressões,  mas  de  acordo   com  a  lei  e  o  direito.  A  independência  judicial  não  é,  porém,   incompatível com o controle disciplinar da magistratura. A imunidade   garantida pelo art. 41 da LOMAN não é absoluta, sendo possível a   responsabilização  administrativo-disciplinar  do  magistrado  quando,   no exercício da atividade jurisdicional, viola o dever de imparcialidade   (CPC, art. 135, I) e age, de forma reiterada, contrariando dispositivos   legais expressos, em violação ao dever do art. 35, I,  da LOMAN, e   adotando, de forma reiterada e com dolo, revelado por um conjunto de   indícios, procedimentos incorretos (LOMAN, art. 44), que acarretam   prejuízos  a  uma  das  partes,  em  procedimento  incompatível  com a   dignidade, a honra e o decoro de suas funções (LOMAN, art. 56, I) e   proceder  funcional  incompatível  com  o  bom  desempenho  das   atividades do Poder Judiciário (LOMAN, art. 56, II).  VI – Havendo indicativos de grave violação aos deveres   funcionais praticados por Juiz de Direito, titular da 2ª Vara Cível   da Comarca de Teresina/PI, com a adoção de postura incompatível com   o  exercício  da  magistratura,  mostra-se  necessária  a  instauração  do   processo administrativo disciplinar, a fim de que sejam esclarecidos os   fatos e aplicada a penalidade eventualmente cabível.  VII – Tratando-se de conduta, em tese, incompatível com o  exercício da judicatura, impõe-se o afastamento preventivo do Sindicado   (LOMAN, art. 27, § 3º, e RICNJ, art. 75, parágrafo único), em especial   por  se  tratar  de  conduta  reiterada,  na  qual  o  magistrado  persistiu   mesmo após a instauração da sindicância.    VIII – O afastamento implica na suspensão, com exceção   dos  vencimentos,  de  todas  as  vantagens  decorrentes  da   condição  de  magistrado,  tais  como  uso  de  gabinete,  de  veículo   oficial  e  manutenção  ou  designação  de  servidores  em  cargos  de   confiança ou funções comissionadas.  IX – Os feitos atribuídos ao magistrado afastado deverão   ser conduzidos por magistrado designado para substituição, na   forma  da  regulamentação  local,  evitando-se  prejuízo  aos   jurisdicionados.” (grifei)  Busca-se,  nesta  sede  mandamental,  a restauração da  situação  jurídico-funcional  do magistrado em questão,  restabelecendo-se,  desse  modo, o “status quo ante”,  com a concessão da segurança, “em razão da  ilegalidade do  ato  fustigado,  editado sem  lastro  na  competência  legal  do   Conselho  Nacional  de  Justiça  para  instaurar  originariamente  processo   administrativo  disciplinar  contra  o  impetrante  e afastá-lo  preventivamente”  (grifei).  O órgão apontado  como  coator  prestou as  informações  que  lhe  foram requisitadas.  Por entender presentes, cumulativamente, os requisitos concernentes  à  plausibilidade jurídica  e ao  “periculum in  mora”,  deferi o  pedido de  medida liminar  formulado pelo impetrante,  motivo pelo qual a União  Federal interpôs o concernente recurso de agravo.  O  Ministério  Público  Federal,  em  pronunciamento da  lavra  do  eminente Chefe da Instituição,  ao opinar pela denegação do mandado de  segurança, assim resumiu e apreciou a presente causa:  “AGRAVO  REGIMENTAL  CONTRA   MEDIDA  LIMINAR  DEFERIDA  EM   MANDADO  DE  SEGURANÇA   IMPETRADO  CONTRA  ATO  DO  CONSELHO NACIONAL DE JUSTIÇA.    Competência  originária  e  concorrente  do   Conselho Nacional de Justiça para instaurar   procedimento administrativo disciplinar contra   magistrado.  Tese  da  subsidiariedade  afastada.   Ação Direta de Inconstitucionalidade 4.638. O  mandado  de  segurança não  se  revela   meio juridicamente adequado à apreciação   de matéria de fato especialmente controvertida   e avaliação de elementos probatórios necessários   à  conclusão  de  que  a  conduta  do  impetrante   limitou-se a atos meramente jurisdicionais. Indícios de prática de outras condutas  infracionais que  não  têm  relação  com  a   possibilidade de o Conselho Nacional de Justiça   imiscuir-se no mérito de decisões judiciais. Parecer  pelo  provimento  do  agravo   regimental,  para  cassar  a  liminar  deferida,  e,   no mérito, pela denegação da segurança.  Trata-se de mandado de segurança, com pedido de liminar,   impetrado por José Ramos Dias Filho, Juiz de Direito integrante do   Tribunal de Justiça do Estado do Piauí, contra decisão do Conselho   Nacional  de  Justiça  que  resultou  na  instauração  do  Processo   Administrativo Disciplinar 0004750-23.2010.00.0000.  Nos anos de 2008 e 2009, a Corregedoria Nacional de Justiça   instaurou  as  Sindicâncias  0003088-95.2008.00.0000,  0002699-   -76.2009.2.00.0000,  0002527-37.2009.2.00.0000,  bem  como  a   Reclamação Disciplinar 0006002-98.2009.00.0000, para apurar fatos   atribuídos ao Juiz de Direito José Ramos Dias Filho, titular da 2ª Vara   Cível de Teresina-PI, consubstanciados na atuação indevida em feitos   nos quais teria agido com parcialidade, causando graves prejuízos a   uma das partes; na paralisação indevida de um determinado processo;   na distribuição de outro, com fins de favorecimento; e na promoção da   execução  da  forma  mais  gravosa  ao  devedor,  mediante  bloqueio  e   transferência imediata de milhões de reais em dinheiro.    Na 108ª Sessão Ordinária, realizada em 30 de junho de 2010,   o Plenário do Conselho Nacional de Justiça, em julgamento conjunto,   decidiu  arquivar  a  Sindicância  0002699-76.2009.2.00.0000  e   instaurar processo administrativo disciplinar contra o Juiz de Direito   José  Ramos Dias  Filho,  com seu afastamento cautelar,  em face  dos   fatos descritos nas Sindicâncias 0003088-95.2008.00.0000, 0002527-   -37.2009.2.00.0000  e  na  Reclamação  Disciplinar  0006002-   -98.2009.00.0000, conforme registra a ementa a seguir descrita:  ‘SINDICÂNCIA. REAPRECIAÇÃO  DE  FATOS   ANTERIORMENTE  JULGADOS. IMPOSSIBILIDADE.  ARQUIVAMENTO. INDICATIVOS  DE  VIOLAÇÕES   AOS  DEVERES  FUNCIONAIS. FATOS  DIVERSOS.  INSTAURAÇÃO  DE  PROCESSO  ADMINISTRATIVO   DISCIPLINAR. DECRETAÇÃO  DE  AFASTAMENTO   PREVENTIVO.  I  –  Os  fatos  descritos  na  Sindicância  n.  0002699-   -76.2009.2.00.0000 já foram objeto de apreciação e julgamento nos   autos  do Procedimento de  Controle  Administrativo n.  0000966-   -75.2009.2.00.0000,  quando se  entendeu que se  tratava de  ato   jurisdicional. Como a matéria já foi apreciada por este Conselho,   e não existem novos elementos de prova, deve ser arquivada a   presente Sindicância quanto a tais fatos.  II  –  Os  fatos  trazidos  a  conhecimento  deste   Conselho somente  poderão  ser  integralmente  apreciados  no   processo administrativo a ser instaurado, sendo certo que o atual   procedimento,  por  sua  natureza  de  mero  instrumento   preparatório, limita-se à verificação da existência de indícios de   irregularidades eventualmente praticadas.  III  –  Compete  a este  Conselho instaurar  o processo   administrativo disciplinar exatamente para apurar os fatos,   garantindo ao Sindicado a mais ampla defesa e contraditório.  IV  –  O  magistrado que  age  com  desídia  na   fiscalização dos trabalhos da vara, bem como na condução      dos feitos, descumpre os deveres dos arts. 35, incisos II e III, 41,   44 e 56 da LOMAN, acarretando descrédito ao Poder Judiciário   entre a população.  V  –  A  independência  judicial é  uma  garantia  do   cidadão  para  assegurar  julgamentos  livres  de  pressões,   mas de acordo com a lei e o direito. A independência judicial não   é,  porém,  incompatível  com  o  controle  disciplinar  da   magistratura. A imunidade garantida pelo art. 41 da LOMAN   não  é  absoluta,  sendo  possível  a  responsabilização   administrativo-disciplinar do magistrado quando, no exercício   da atividade jurisdicional, viola o dever de imparcialidade (CPC,   art. 135, I) e age, de forma reiterada, contrariando dispositivos   legais expressos, em violação ao dever do art. 35, I, da LOMAN,   e  adotando,  de  forma  reiterada  e  com dolo,  revelado  por  um   conjunto  de  indícios,  procedimentos  incorretos  (LOMAN,   art.  44),  que  acarretam  prejuízos  a  uma  das  partes,  em   procedimento incompatível com a dignidade, a honra e o decoro   de  suas  funções  (LOMAN,  art.  56,  I)  e  proceder  funcional   incompatível  com o bom desempenho das atividades do Poder   Judiciário (LOMAN, art. 56, II).  VI  –  Havendo  indicativos de  grave  violação  aos   deveres funcionais praticados por Juiz de Direito, titular   da 2ª Vara Cível da Comarca de Teresina/PI, com a adoção de   postura  incompatível  com  o  exercício  da  magistratura,   mostra-se necessária a instauração do processo administrativo   disciplinar, a fim de que sejam esclarecidos os fatos e aplicada a   penalidade eventualmente cabível.  VII – Tratando-se de conduta, em tese, incompatível   com o exercício da judicatura, impõe-se o afastamento preventivo   do  Sindicado  (LOMAN,  art.  27,  §  3º,  e  RICNJ,  art.  75,   parágrafo  único), em especial por se tratar de conduta reiterada,   na  qual  o  magistrado  persistiu  mesmo após  a  instauração  da   sindicância.  VIII  –  O afastamento  implica  na  suspensão,  com  exceção  dos  vencimentos,  de  todas  as  vantagens   decorrentes da condição de magistrado,  tais  como uso de      gabinete,  de  veículo  oficial  e  manutenção  ou   designação  de  servidores  em  cargos  de  confiança  ou  funções   comissionadas.  IX –  Os feitos  atribuídos ao magistrado afastado   deverão  ser  conduzidos  por  magistrado designado para   substituição,  na  forma da  regulamentação  local,  evitando-se   prejuízo aos jurisdicionados.’  Instaurou-se,  assim,  o Processo  Administrativo   Disciplinar 0004750-23.2010.00.0000.  Daí o presente mandado de segurança, no qual o impetrante   sustenta que o Conselho Nacional de Justiça não teria competência   para, originariamente, instaurar o processo administrativo disciplinar,   sendo certo que a sua decisão colide frontalmente com as do Supremo   Tribunal Federal no sentido de que  a  competência  do  CNJ  para  a  instauração  de  processo   administrativo  disciplinar  contra  magistrados  é  subsidiária,   devendo-se,  em um primeiro plano,  oferecer  aos  tribunais aos   quais  os  juízes  e  desembargadores  pertençam a  oportunidade   para que apreciem as denúncias apresentadas contra a conduta   dos  julgadores,  e  possam  assim  aplicar  as  sanções  que   entenderem necessárias,  o  que  não  ocorreu  no  presente  caso,  já  que  o  processo   administrativo disciplinar foi instaurado sem qualquer apuração dos   fatos pela Corte estadual.  Requer,  ao  final,  a  concessão  de  medida  liminar  para   suspender  os  efeitos  da  decisão  proferida  pelo  Conselho   Nacional  de  Justiça,  que  resultou  na  instauração  do  Processo   Administrativo  Disciplinar  0004750-23.2010.00.0000.  Em seguida,   pugna pela concessão da segurança definitiva, ‘em razão da ilegalidade   do ato fustigado, editado sem lastro de competência legal do Conselho   Nacional  de  Justiça  para  instaurar  originariamente  processo   administrativo disciplinar’.    Instado  a  se  manifestar,  o  Conselho  Nacional  de  Justiça   prestou  informações.  Após,  o  pedido  de  liminar  foi  deferido,  nos   seguintes termos:  …......…......................................................................................... Contra esta decisão, a União interpôs agravo regimental, no    qual sustenta que a atuação deficitária da Corte estadual deu causa à   atuação correicional do Conselho Nacional de Justiça.  Além  disso,  ressalta  a  agravante  que  existem  decisões  do   Supremo Tribunal Federal no sentido de que a atuação do Conselho   Nacional de Justiça não é pautada pelo princípio da subsidiariedade.  No tocante à consideração da natureza jurisdicional dos   atos investigados,  a  agravante  rememora  que os  atos  que  deram   ensejo à atuação do CNJ dizem respeito à realização de procedimentos   incorretos, passíveis de correição administrativa.  Requer a agravante, por essas razões, a cassação da liminar   concedida.  Em  seguida,  vieram  os  autos  à  Procuradoria-Geral  da   República  para  parecer  ‘sobre  o  recurso  de  agravo  interposto  na   presente sede processual, bem assim quanto ao mérito da presente ação   mandamental’.  O  agravo  merece  ser  provido.  Pelas  mesmas  razões,  a   segurança  denegada,  diante  da  ausência  de  ameaça  ou  violação  a   direito líquido e certo.  A  decisão  concessiva  da  medida  liminar,  ora  agravada,   considerou a existência  de  dois  motivos  qualificadores  da pretensão   cautelar, a saber:  ‘i. inobservância  pelo  Conselho  Nacional  de  Justiça  do   postulado da subsidiariedade, com transgressão à autonomia do   Tribunal  de  Justiça para o  exercício  da jurisdição censória  de   magistrado a ele vinculado e  ii. incompetência  absoluta  do  Conselho  Nacional  de   Justiça  para  intervir  em  decisões  emanadas  de  magistrado,   impregnada de conteúdo jurisdicional.’    Em relação ao motivo (i),  cumpre esclarecer que a alegada   incompetência  originária  do  Conselho  Nacional  de  Justiça  para   instaurar processo administrativo disciplinar contra magistrado já foi   tratada  pelo  Supremo  Tribunal  Federal  na  Ação  Direta  de   Inconstitucionalidade 4638, ocasião em que se firmou entendimento   no  sentido  da  competência  originária  e  concorrente  daquele  órgão   censor para investigar magistrados, consoante previsto no art. 12 da   Resolução 135, de 13 de julho de 2011.  O dispositivo legal e a decisão da Corte Suprema vão ao   encontro do texto constitucional que,  em seu  art.  103-B,  §  4º,   inciso III, estabelece a atribuição do Conselho Nacional de Justiça para   ‘receber  e  conhecer  das  reclamações  contra  membros  ou  órgãos  do   Poder  Judiciário  (…),  sem  prejuízo  da  competência  disciplinar  e   correicional dos tribunais (…)’. Logo, afastada a tese da competência   subsidiária,  tem-se  que  a  legitimidade  dos  órgãos  censores  é   concorrente, devendo ser rechaçada a atuação do Conselho Nacional de   Justiça tão somente no caso de já se ter iniciado a apuração perante o   Tribunal  de  Justiça,  com  vistas  a  evitar  a  duplicidade  de   procedimentos disciplinares.  Dessa  forma,  justamente  por  inexistir  notícia  de  qualquer   apuração dos fatos pelo órgão censor local – como confirma a certidão   expedida  pelo  Tribunal  de  Justiça  do Estado  do  Piauí,  juntada  aos   autos  pelo  impetrante  –  coube  ao  Conselho  Nacional  de  Justiça  o   exercício  integral  da  competência  correicional  no  Processo   Administrativo  Disciplinar  0004750-23.2010.00.0000,  não  se   vislumbrando usurpação da competência atribuída à Corte Estadual.  Quanto  ao  motivo  (ii), é  forçoso  registrar  que  não  se   desconhece  que  o  mérito  da  atividade  jurisdicional  não  se   sujeita ao controle correcional. É sabido também que o magistrado   exerce  sua  independência  funcional  diante  da  possibilidade  de   interpretar  e  aplicar  as  normas  de  acordo  com  a  sua  convicção.   Contudo,  o desvirtuamento da atividade judicante mediante a  atuação parcial, por meio de decisões favoráveis a uma das partes,   sob  o  argumento do  livre  convencimento  e  independência  no   exercício da atividade jurisdicional, configura ato ilegal violador da   garantia  de  igualdade  de  tratamento  entre  as  partes,  prevista  no      inciso I do art. 125 do Código de Processo Civil e do dever imposto   pelo  inciso  I  do  art.  35  da  Lei  Complementar  35/79,  bem como  configurador das infrações previstas nos incisos II e III do art. 56   do mesmo diploma legal.  Ocorre que  somente  após  a  apuração  efetiva  dos  fatos   pelo órgão censor será possível verificar se se está diante de   decisão que teria apenas a exclusiva via jurisdicional para ser   revertida ou diante  de  uma decisão  que  tem a aparência  de   livre  convencimento,  porquanto  estaria  o  juiz  direcionando  sua   jurisdição ou distorcendo a função judicante, de modo a inviabilizar a   garantia de paridade de armas aos litigantes do processo que preside,   violando,  assim,  o  princípio  isonômico  contido  na  Carta   Constitucional, sem falar-se no art. 37 do mesmo texto, que exige do   Estado-Juiz impessoalidade nas suas ações.  De mais a mais, verifica-se que a decisão agravada considerou   tratar-se  de  incompetência  do  Conselho  Nacional  de  Justiça  para   intervir  em  decisões  emanadas  de  magistrado,  impregnada  de   conteúdo jurisdicional,  tão somente pela extração de fragmentos da   petição apresentada pela empresa Basf S/A, que motivou a abertura   da  Sindicância  nº  0002527-37.2009.2.00.0000,  na  qual  essa   reclamante  expôs  os  argumentos  justificadores  do  pedido  de   apuração  das  supostas  infrações  disciplinares  atribuídas  ao  ora   impetrante:  ‘(...)  sem  embargo  do  viés  jurisdicional  que  os  fatos   narrados envolvem (a ensejar medidas adequadas já adotadas) e   muito embora não seja possível nominar quem quer que seja, há   indícios veementes de irregularidades no presente caso […].’  Com a devida vênia, o processo mandamental não se revela   meio  juridicamente  adequado  à  apreciação  de  matéria  de  fato   especialmente  controvertida,  muito  menos  constitui  instrumento   idôneo à avaliação de elementos probatórios necessários à conclusão de   que  a  conduta  do  impetrante  limitou-se  à  realização  de  atos   meramente jurisdicionais.    Na  realidade,  o  mandado  de  segurança  nem  sequer  foi   instruído com documentos suficientes para comprovar a ocorrência de   lesão ou ameaça de direito líquido e certo.  Por oportuno, cabe o registro de que na ocasião da prolatação   da  decisão  agravada,  em  28  de  abril  de  2011,  o  Processo   Administrativo  Disciplinar  0004750-23.2010.00.0000  já  se   encontrava com a instrução encerrada desde 7 de fevereiro de 2011,   tendo  sido,  inclusive,  apresentadas  as  razões  finais  do  Ministério   Público  Federal,  nas quais se concluiu pela prática de outras  condutas infracionais que não têm relação com a possibilidade  de o Conselho Nacional de Justiça imiscuir-se no mérito de  decisões judiciais. Confira-se, a esse respeito, a conclusão extraída   da peça apresentada pela Procuradoria-Geral da República nos autos   do Processo Administrativo Disciplinar 0004750-23.2010.00.0000:  ‘As  provas  trazidas  aos  autos  são  firmes  em   demonstrar que o requerido (i) conduziu de forma negligente  o processo nº 001970035277, dando causa ao excesso de prazo e   acarretando  sérios  prejuízos  à  parte;  (ii)  convalidou  a   distribuição  de  feitos  por  dependência,  sem  qualquer   fundamentação  legal,  configurando  o  direcionamento  dos   processos  para  o  juízo  de  sua  titularidade,  em  desobediência aos princípios do juiz natural e do devido processo   legal.’  Como se observa, não restou caracterizado o direito líquido e   certo  em  que  o  impetrante  apoia  sua  pretensão,  muito  menos  os   motivos determinantes para a concessão da medida liminar.  Por todas essas razões, manifesta-se o Procurador-Geral da   República pelo provimento do agravo regimental da União, para   cassar  a  liminar  concedida,  e,  no  mérito,  pela  denegação da   segurança.” (grifei)  Com fundamento nos  poderes  de que dispõe o  Ministro  Relator  (RTJ 139/53  –  RTJ 168/174-175),  e tendo em consideração a  jurisprudência firmada pelo Supremo Tribunal Federal sobre a matéria     versada  nesta  causa,  deneguei a  segurança,  julgando  prejudicado o  recurso de agravo interposto pela União Federal.  Inconformada com esse ato decisório, a parte ora agravante interpõe  o presente recurso,  sustentando,  em caráter preliminar,  a consumação  da  prescrição da pretensão punitiva da Administração Pública  e,  quanto ao   mérito,  a  perda  do  objeto  da  ação  em  relação  às  “Sindicâncias  e   PAD’s presididos pelos Ministros aposentados Gilson Dipp e Eliana Calmon”.  Por não me convencer das  razões  expostas  pela parte  recorrente,  submeto à apreciação desta colenda Segunda Turma o presente recurso de  agravo.  É o relatório. '"
      ]
     },
     "execution_count": 13,
     "metadata": {},
     "output_type": "execute_result"
    }
   ],
   "source": [
    "itd_pp.text[4]"
   ]
  },
  {
   "cell_type": "code",
   "execution_count": 29,
   "id": "3c6ac976",
   "metadata": {},
   "outputs": [],
   "source": [
    "save_to = \"D:\\\\dados-juridicos\\\\pp\\\\\""
   ]
  },
  {
   "cell_type": "code",
   "execution_count": 30,
   "id": "af165bd7",
   "metadata": {},
   "outputs": [],
   "source": [
    "# Salve o dataframe atualizado em um novo arquivo\n",
    "itd_pp.to_csv(f'{save_to}itd_pp.csv', index=False)  # Substitua pelo nome desejado para o novo arquivo"
   ]
  },
  {
   "cell_type": "code",
   "execution_count": 31,
   "id": "d5306b3b",
   "metadata": {},
   "outputs": [],
   "source": [
    "df_itd_pp = pd.read_csv(f'{save_to}itd_pp.csv')"
   ]
  },
  {
   "cell_type": "code",
   "execution_count": 32,
   "id": "5b8f54f6",
   "metadata": {},
   "outputs": [
    {
     "data": {
      "text/plain": [
       "'A SENHORA MINISTRA CÁRMEN LÚCIA (Presidente): 1. Em 7.10.2013, o Presidente do Supremo Tribunal Federal negou seguimento ao recurso extraordinário com agravo interposto pela Bahia, por intempestividade do agravo (doc. 2). 2. Publicada essa decisão no DJe de 21.10.2013, Bahia interpõe, em 4.11.2013, tempestivamente, agravo regimental (doc. 4). 3. O Agravante alega ser legítima a intimação pessoal do Procurador do Estado. Requer a reforma da decisão agravada. É o relatório.'"
      ]
     },
     "execution_count": 32,
     "metadata": {},
     "output_type": "execute_result"
    }
   ],
   "source": [
    "df_itd_pp.text[100]"
   ]
  },
  {
   "cell_type": "code",
   "execution_count": 17,
   "id": "b0319126",
   "metadata": {},
   "outputs": [
    {
     "data": {
      "text/plain": [
       "'A SENHORA MINISTRA CÁRMEN LÚCIA (Presidente):  1. Em 7.10.2013, o Presidente do Supremo Tribunal Federal negou  seguimento ao recurso extraordinário com agravo interposto pela Bahia,  por intempestividade do agravo (doc. 2).  2. Publicada essa decisão no DJe de 21.10.2013, Bahia interpõe, em  4.11.2013, tempestivamente, agravo regimental (doc. 4).   3. O Agravante alega ser legítima a intimação pessoal do Procurador  do Estado.  Requer a reforma da decisão agravada.  É o relatório. '"
      ]
     },
     "execution_count": 17,
     "metadata": {},
     "output_type": "execute_result"
    }
   ],
   "source": [
    "df_itd_pp.text[100]"
   ]
  }
 ],
 "metadata": {
  "kernelspec": {
   "display_name": "Python 3 (ipykernel)",
   "language": "python",
   "name": "python3"
  },
  "language_info": {
   "codemirror_mode": {
    "name": "ipython",
    "version": 3
   },
   "file_extension": ".py",
   "mimetype": "text/x-python",
   "name": "python",
   "nbconvert_exporter": "python",
   "pygments_lexer": "ipython3",
   "version": "3.11.5"
  }
 },
 "nbformat": 4,
 "nbformat_minor": 5
}
