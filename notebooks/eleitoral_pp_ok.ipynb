{
 "cells": [
  {
   "cell_type": "code",
   "execution_count": 1,
   "id": "5c5d93de",
   "metadata": {},
   "outputs": [],
   "source": [
    "path = \"D:\\\\dados-juridicos\\\\brutos\\\\\""
   ]
  },
  {
   "cell_type": "code",
   "execution_count": 2,
   "id": "0384af48",
   "metadata": {},
   "outputs": [
    {
     "name": "stderr",
     "output_type": "stream",
     "text": [
      "C:\\Users\\fabry\\AppData\\Roaming\\Python\\Python311\\site-packages\\pandas\\core\\arrays\\masked.py:60: UserWarning: Pandas requires version '1.3.6' or newer of 'bottleneck' (version '1.3.5' currently installed).\n",
      "  from pandas.core import (\n"
     ]
    }
   ],
   "source": [
    "import pandas as pd"
   ]
  },
  {
   "cell_type": "code",
   "execution_count": 3,
   "id": "ce960849",
   "metadata": {},
   "outputs": [
    {
     "name": "stderr",
     "output_type": "stream",
     "text": [
      "C:\\Users\\fabry\\AppData\\Local\\Temp\\ipykernel_27972\\1347917189.py:1: DtypeWarning: Columns (9) have mixed types. Specify dtype option on import or set low_memory=False.\n",
      "  df = pd.read_csv(f'{path}Jurisprudências do Tribunal Superior Eleitoral.csv.aspx')\n"
     ]
    },
    {
     "data": {
      "text/html": [
       "<div>\n",
       "<style scoped>\n",
       "    .dataframe tbody tr th:only-of-type {\n",
       "        vertical-align: middle;\n",
       "    }\n",
       "\n",
       "    .dataframe tbody tr th {\n",
       "        vertical-align: top;\n",
       "    }\n",
       "\n",
       "    .dataframe thead th {\n",
       "        text-align: right;\n",
       "    }\n",
       "</style>\n",
       "<table border=\"1\" class=\"dataframe\">\n",
       "  <thead>\n",
       "    <tr style=\"text-align: right;\">\n",
       "      <th></th>\n",
       "      <th>link_ementa</th>\n",
       "      <th>info_gerais</th>\n",
       "      <th>Ementa:</th>\n",
       "      <th>Decisão:</th>\n",
       "      <th>Partes:</th>\n",
       "      <th>Observação:</th>\n",
       "      <th>Ver Também:</th>\n",
       "      <th>Indexação</th>\n",
       "      <th>Decisões no mesmo sentido:</th>\n",
       "      <th>Doutrina</th>\n",
       "    </tr>\n",
       "  </thead>\n",
       "  <tbody>\n",
       "    <tr>\n",
       "      <th>0</th>\n",
       "      <td>https://sjur-servicos.tse.jus.br/sjur-servicos...</td>\n",
       "      <td>0600420-20.2018.6.00.0000| PC - Embargos de De...</td>\n",
       "      <td>EMBARGOS DE DECLARAÇÃO. PRESTAÇÃO DE CONTAS. P...</td>\n",
       "      <td>O Tribunal, por unanimidade, acolheu parcialme...</td>\n",
       "      <td>PARTE: CIDADANIA (CIDADANIA) - NACIONALAdvogad...</td>\n",
       "      <td>NaN</td>\n",
       "      <td>NaN</td>\n",
       "      <td>NaN</td>\n",
       "      <td>NaN</td>\n",
       "      <td>NaN</td>\n",
       "    </tr>\n",
       "    <tr>\n",
       "      <th>1</th>\n",
       "      <td>https://sjur-servicos.tse.jus.br/sjur-servicos...</td>\n",
       "      <td>0600448-63.2020.6.05.0166| AREspE - Agravo Reg...</td>\n",
       "      <td>ELEIÇÕES 2020. AGRAVO REGIMENTAL. AGRAVO. RECU...</td>\n",
       "      <td>O Tribunal, por unanimidade, negou provimento ...</td>\n",
       "      <td>PARTE: A COLIGAÇÃO RUMO NOVO COM A FORÇA DO PO...</td>\n",
       "      <td>NaN</td>\n",
       "      <td>NaN</td>\n",
       "      <td>NaN</td>\n",
       "      <td>NaN</td>\n",
       "      <td>NaN</td>\n",
       "    </tr>\n",
       "    <tr>\n",
       "      <th>2</th>\n",
       "      <td>https://sjur-servicos.tse.jus.br/sjur-servicos...</td>\n",
       "      <td>0000452-62.2016.6.25.0028| REspEl - Agravo Reg...</td>\n",
       "      <td>AGRAVO INTERNO. RECURSOS ESPECIAIS. ELEIÇÕES 2...</td>\n",
       "      <td>NaN</td>\n",
       "      <td>NaN</td>\n",
       "      <td>NaN</td>\n",
       "      <td>NaN</td>\n",
       "      <td>NaN</td>\n",
       "      <td>NaN</td>\n",
       "      <td>NaN</td>\n",
       "    </tr>\n",
       "    <tr>\n",
       "      <th>3</th>\n",
       "      <td>https://sjur-servicos.tse.jus.br/sjur-servicos...</td>\n",
       "      <td>0600738-86.2020.6.14.0050| AREspE - Agravo Reg...</td>\n",
       "      <td>AGRAVO INTERNO. AGRAVO. RECURSO ESPECIAL ELEIT...</td>\n",
       "      <td>NaN</td>\n",
       "      <td>NaN</td>\n",
       "      <td>NaN</td>\n",
       "      <td>NaN</td>\n",
       "      <td>NaN</td>\n",
       "      <td>NaN</td>\n",
       "      <td>NaN</td>\n",
       "    </tr>\n",
       "    <tr>\n",
       "      <th>4</th>\n",
       "      <td>https://sjur-servicos.tse.jus.br/sjur-servicos...</td>\n",
       "      <td>0600208-57.2022.6.00.0000| TutAntAnt - Agravo ...</td>\n",
       "      <td>ELEIÇÕES 2020. AGRAVO REGIMENTAL. TUTELA CAUTE...</td>\n",
       "      <td>O Tribunal, por unanimidade, negou provimento ...</td>\n",
       "      <td>PARTE: ADEMIR DOMINGOS MIOTTOAdvogado(a): MATH...</td>\n",
       "      <td>NaN</td>\n",
       "      <td>NaN</td>\n",
       "      <td>NaN</td>\n",
       "      <td>NaN</td>\n",
       "      <td>NaN</td>\n",
       "    </tr>\n",
       "    <tr>\n",
       "      <th>...</th>\n",
       "      <td>...</td>\n",
       "      <td>...</td>\n",
       "      <td>...</td>\n",
       "      <td>...</td>\n",
       "      <td>...</td>\n",
       "      <td>...</td>\n",
       "      <td>...</td>\n",
       "      <td>...</td>\n",
       "      <td>...</td>\n",
       "      <td>...</td>\n",
       "    </tr>\n",
       "    <tr>\n",
       "      <th>84749</th>\n",
       "      <td>https://sjur-servicos.tse.jus.br/sjur-servicos...</td>\n",
       "      <td>0002952-17.1998.6.00.0000| MS nº 301 - SP| Acó...</td>\n",
       "      <td>NaN</td>\n",
       "      <td>Prejudicialidade\\nPerda\\nMotivo\\nInterposição</td>\n",
       "      <td>NaN</td>\n",
       "      <td>NaN</td>\n",
       "      <td>NaN</td>\n",
       "      <td>NaN</td>\n",
       "      <td>NaN</td>\n",
       "      <td>NaN</td>\n",
       "    </tr>\n",
       "    <tr>\n",
       "      <th>84750</th>\n",
       "      <td>https://sjur-servicos.tse.jus.br/sjur-servicos...</td>\n",
       "      <td>0000283-25.1997.6.00.0000| RESPE nº 561 - MG| ...</td>\n",
       "      <td>NaN</td>\n",
       "      <td>Diploma\\nExpedição\\nInelegibilidade\\nSuperveni...</td>\n",
       "      <td>NaN</td>\n",
       "      <td>NaN</td>\n",
       "      <td>NaN</td>\n",
       "      <td>NaN</td>\n",
       "      <td>NaN</td>\n",
       "      <td>NaN</td>\n",
       "    </tr>\n",
       "    <tr>\n",
       "      <th>84751</th>\n",
       "      <td>https://sjur-servicos.tse.jus.br/sjur-servicos...</td>\n",
       "      <td>RESPE nº 1873 - GO| Acórdão nº 934 de 30/10/05...</td>\n",
       "      <td>NaN</td>\n",
       "      <td>Eleição suplementar\\nVoto\\nContagem\\nRecurso\\n...</td>\n",
       "      <td>NaN</td>\n",
       "      <td>NaN</td>\n",
       "      <td>NaN</td>\n",
       "      <td>NaN</td>\n",
       "      <td>NaN</td>\n",
       "      <td>NaN</td>\n",
       "    </tr>\n",
       "    <tr>\n",
       "      <th>84752</th>\n",
       "      <td>https://sjur-servicos.tse.jus.br/sjur-servicos...</td>\n",
       "      <td>AR nº 901| Acórdão nº 5555 de 10/09/0457|</td>\n",
       "      <td>NaN</td>\n",
       "      <td>NaN</td>\n",
       "      <td>NaN</td>\n",
       "      <td>NaN</td>\n",
       "      <td>NaN</td>\n",
       "      <td>NaN</td>\n",
       "      <td>NaN</td>\n",
       "      <td>NaN</td>\n",
       "    </tr>\n",
       "    <tr>\n",
       "      <th>84753</th>\n",
       "      <td>https://sjur-servicos.tse.jus.br/sjur-servicos...</td>\n",
       "      <td>PA nº 0| Resolução nº 101 de 02/08/0453|</td>\n",
       "      <td>NaN</td>\n",
       "      <td>NaN</td>\n",
       "      <td>NaN</td>\n",
       "      <td>NaN</td>\n",
       "      <td>NaN</td>\n",
       "      <td>NaN</td>\n",
       "      <td>NaN</td>\n",
       "      <td>NaN</td>\n",
       "    </tr>\n",
       "  </tbody>\n",
       "</table>\n",
       "<p>84754 rows × 10 columns</p>\n",
       "</div>"
      ],
      "text/plain": [
       "                                             link_ementa  \\\n",
       "0      https://sjur-servicos.tse.jus.br/sjur-servicos...   \n",
       "1      https://sjur-servicos.tse.jus.br/sjur-servicos...   \n",
       "2      https://sjur-servicos.tse.jus.br/sjur-servicos...   \n",
       "3      https://sjur-servicos.tse.jus.br/sjur-servicos...   \n",
       "4      https://sjur-servicos.tse.jus.br/sjur-servicos...   \n",
       "...                                                  ...   \n",
       "84749  https://sjur-servicos.tse.jus.br/sjur-servicos...   \n",
       "84750  https://sjur-servicos.tse.jus.br/sjur-servicos...   \n",
       "84751  https://sjur-servicos.tse.jus.br/sjur-servicos...   \n",
       "84752  https://sjur-servicos.tse.jus.br/sjur-servicos...   \n",
       "84753  https://sjur-servicos.tse.jus.br/sjur-servicos...   \n",
       "\n",
       "                                             info_gerais  \\\n",
       "0      0600420-20.2018.6.00.0000| PC - Embargos de De...   \n",
       "1      0600448-63.2020.6.05.0166| AREspE - Agravo Reg...   \n",
       "2      0000452-62.2016.6.25.0028| REspEl - Agravo Reg...   \n",
       "3      0600738-86.2020.6.14.0050| AREspE - Agravo Reg...   \n",
       "4      0600208-57.2022.6.00.0000| TutAntAnt - Agravo ...   \n",
       "...                                                  ...   \n",
       "84749  0002952-17.1998.6.00.0000| MS nº 301 - SP| Acó...   \n",
       "84750  0000283-25.1997.6.00.0000| RESPE nº 561 - MG| ...   \n",
       "84751  RESPE nº 1873 - GO| Acórdão nº 934 de 30/10/05...   \n",
       "84752          AR nº 901| Acórdão nº 5555 de 10/09/0457|   \n",
       "84753           PA nº 0| Resolução nº 101 de 02/08/0453|   \n",
       "\n",
       "                                                 Ementa:  \\\n",
       "0      EMBARGOS DE DECLARAÇÃO. PRESTAÇÃO DE CONTAS. P...   \n",
       "1      ELEIÇÕES 2020. AGRAVO REGIMENTAL. AGRAVO. RECU...   \n",
       "2      AGRAVO INTERNO. RECURSOS ESPECIAIS. ELEIÇÕES 2...   \n",
       "3      AGRAVO INTERNO. AGRAVO. RECURSO ESPECIAL ELEIT...   \n",
       "4      ELEIÇÕES 2020. AGRAVO REGIMENTAL. TUTELA CAUTE...   \n",
       "...                                                  ...   \n",
       "84749                                                NaN   \n",
       "84750                                                NaN   \n",
       "84751                                                NaN   \n",
       "84752                                                NaN   \n",
       "84753                                                NaN   \n",
       "\n",
       "                                                Decisão:  \\\n",
       "0      O Tribunal, por unanimidade, acolheu parcialme...   \n",
       "1      O Tribunal, por unanimidade, negou provimento ...   \n",
       "2                                                    NaN   \n",
       "3                                                    NaN   \n",
       "4      O Tribunal, por unanimidade, negou provimento ...   \n",
       "...                                                  ...   \n",
       "84749      Prejudicialidade\\nPerda\\nMotivo\\nInterposição   \n",
       "84750  Diploma\\nExpedição\\nInelegibilidade\\nSuperveni...   \n",
       "84751  Eleição suplementar\\nVoto\\nContagem\\nRecurso\\n...   \n",
       "84752                                                NaN   \n",
       "84753                                                NaN   \n",
       "\n",
       "                                                 Partes: Observação:  \\\n",
       "0      PARTE: CIDADANIA (CIDADANIA) - NACIONALAdvogad...         NaN   \n",
       "1      PARTE: A COLIGAÇÃO RUMO NOVO COM A FORÇA DO PO...         NaN   \n",
       "2                                                    NaN         NaN   \n",
       "3                                                    NaN         NaN   \n",
       "4      PARTE: ADEMIR DOMINGOS MIOTTOAdvogado(a): MATH...         NaN   \n",
       "...                                                  ...         ...   \n",
       "84749                                                NaN         NaN   \n",
       "84750                                                NaN         NaN   \n",
       "84751                                                NaN         NaN   \n",
       "84752                                                NaN         NaN   \n",
       "84753                                                NaN         NaN   \n",
       "\n",
       "      Ver Também: Indexação Decisões no mesmo sentido: Doutrina  \n",
       "0             NaN       NaN                        NaN      NaN  \n",
       "1             NaN       NaN                        NaN      NaN  \n",
       "2             NaN       NaN                        NaN      NaN  \n",
       "3             NaN       NaN                        NaN      NaN  \n",
       "4             NaN       NaN                        NaN      NaN  \n",
       "...           ...       ...                        ...      ...  \n",
       "84749         NaN       NaN                        NaN      NaN  \n",
       "84750         NaN       NaN                        NaN      NaN  \n",
       "84751         NaN       NaN                        NaN      NaN  \n",
       "84752         NaN       NaN                        NaN      NaN  \n",
       "84753         NaN       NaN                        NaN      NaN  \n",
       "\n",
       "[84754 rows x 10 columns]"
      ]
     },
     "execution_count": 3,
     "metadata": {},
     "output_type": "execute_result"
    }
   ],
   "source": [
    "df = pd.read_csv(f'{path}Jurisprudências do Tribunal Superior Eleitoral.csv.aspx')\n",
    "df"
   ]
  },
  {
   "cell_type": "code",
   "execution_count": 6,
   "id": "80c6d5e6",
   "metadata": {},
   "outputs": [],
   "source": [
    "df['info_gerais'] = df['info_gerais'].fillna(\" \")\n",
    "df['Ementa:'] = df['Ementa:'].fillna(\" \")\n",
    "df['Decisão:'] = df['Decisão:'].fillna(\" \")\n",
    "df['Partes:'] = df['Partes:'].fillna(\" \")"
   ]
  },
  {
   "cell_type": "code",
   "execution_count": 7,
   "id": "6cc7b9f1",
   "metadata": {},
   "outputs": [
    {
     "data": {
      "text/plain": [
       "'0600420-20.2018.6.00.0000| PC - Embargos de Declaração em Prestação de Contas nº 060042020 - BRASÍLIA - DF| Acórdão de 23/06/2022| Relator(a) Min. Alexandre de Moraes| (5 fls.)|'"
      ]
     },
     "execution_count": 7,
     "metadata": {},
     "output_type": "execute_result"
    }
   ],
   "source": [
    "df.info_gerais[0]"
   ]
  },
  {
   "cell_type": "code",
   "execution_count": 8,
   "id": "85945add",
   "metadata": {},
   "outputs": [
    {
     "data": {
      "text/plain": [
       "'EMBARGOS DE DECLARAÇÃO. PRESTAÇÃO DE CONTAS. PARTIDO POPULAR SOCIALISTA (ATUAL CIDADANIA). EXERCÍCIO FINANCEIRO DE 2017. DESAPROVAÇÃO. INEXISTÊNCIA DE VÍCIOS DE FUNDAMENTAÇÃO NO ACÓRDÃO EMBARGADO. ACOLHIMENTO PARCIAL COM EFEITOS INFRINGENTES.1. Os embargos merecem acolhimento parcial, a fim de que seja autorizado o pagamento das falhas mediante desconto do Fundo Partidário, nos termos do AgR–PC 29288 Rel. Min. LUIS ROBERTO BARROSO, DJe de 6/4/2022.2. Ausentes omissão, contradição, obscuridade ou erro material no julgado, não há razão para quaisquer outros reparos.3. Embargos de declaração acolhidos, com efeitos infringentes, apenas para DETERMINAR o desconto de R$ 1.775.119,40 (um milhão, setecentos e setenta e cinco mil, cento e dezenove reais e quarenta centavos), mantida a multa de 4% sobre tal valor, sobre os recursos do Fundo Partidário, mantidas as demais cominações impostas.'"
      ]
     },
     "execution_count": 8,
     "metadata": {},
     "output_type": "execute_result"
    }
   ],
   "source": [
    "df['Ementa:'][0]"
   ]
  },
  {
   "cell_type": "code",
   "execution_count": 9,
   "id": "604ade15",
   "metadata": {},
   "outputs": [
    {
     "data": {
      "text/plain": [
       "'O Tribunal, por unanimidade, acolheu parcialmente os embargos de declaração, atribuindo–lhes efeitos infringentes, apenas para autorizar o pagamento da quantia de R$ 1.775.119,40 (um milhão, setecentos e setenta e cinco mil, cento e dezenove reais e quarenta centavos), devidamente atualizada, impondo–se ainda multa de 4% sobre tal valor, ambas a serem pagas mediante desconto nos futuros repasses do Fundo Partidário (art. 49, § 3º, da Res.–TSE nº 23.464/2015), divididas em 6 (seis) parcelas mensais e mantidas as demais cominações impostas, nos termos do voto do Relator.\\xa0Votaram com o Relator os Ministros: Ricardo Lewandowski, Mauro Campbell Marques, Benedito Gonçalves, Sérgio Banhos, Carlos Horbach e Edson Fachin (Presidente).\\xa0Composição: Ministros Edson Fachin (Presidente), Alexandre de Moraes, Ricardo Lewandowski, Mauro Campbell Marques, Benedito Gonçalves, Sérgio Banhos e Carlos Horbach.'"
      ]
     },
     "execution_count": 9,
     "metadata": {},
     "output_type": "execute_result"
    }
   ],
   "source": [
    "df['Decisão:'][0]"
   ]
  },
  {
   "cell_type": "code",
   "execution_count": 10,
   "id": "8810f14b",
   "metadata": {},
   "outputs": [
    {
     "data": {
      "text/plain": [
       "'PARTE: CIDADANIA (CIDADANIA) - NACIONALAdvogado(a): ANDRE PUPPIN MACEDOAdvogado(a): HELIO FREITAS DE CARVALHO DA SILVEIRAAdvogado(a): ISABELA DEALIS FERREIRAAdvogado(a): MARCELO SANTIAGO DE PADUA ANDRADEAdvogado(a): MICHEL BERTONI SOARES'"
      ]
     },
     "execution_count": 10,
     "metadata": {},
     "output_type": "execute_result"
    }
   ],
   "source": [
    "df['Partes:'][0]"
   ]
  },
  {
   "cell_type": "code",
   "execution_count": 11,
   "id": "86cba150",
   "metadata": {},
   "outputs": [],
   "source": [
    "df['text'] = df['info_gerais'] + ', Ementa: ' + df['Ementa:']+ ', Decisão: ' + df['Decisão:']+ ', Ementa: ' + df['Partes:']"
   ]
  },
  {
   "cell_type": "code",
   "execution_count": 13,
   "id": "b049f3f2",
   "metadata": {},
   "outputs": [],
   "source": [
    "# Ajuste os caracteres \"\\n\" para justificar\n",
    "df['text'] = df['text'].str.replace('\\n', ' ')\n",
    "df['text'] = df['text'].str.replace('\\\\n', ' ')"
   ]
  },
  {
   "cell_type": "code",
   "execution_count": 12,
   "id": "c4b46646",
   "metadata": {},
   "outputs": [
    {
     "data": {
      "text/plain": [
       "'0600347-08.2020.6.17.0064| AREspE - Agravo Regimental no Agravo em Recurso Especial Eleitoral nº 060034708 - ÁGUAS BELAS - PE| Acórdão de 17/06/2022| Relator(a) Min. Mauro Campbell Marques|, Ementa: ELEIÇÕES 2020. AGRAVO INTERNO EM AGRAVO EM RECURSO ESPECIAL. REPRESENTAÇÃO POR PROPAGANDA ELEITORAL IRREGULAR. DERRAMAMENTO DE SANTINHOS. PROCEDÊNCIA NA ORIGEM. PRETENSÃO DE ANÁLISE DAS CIRCUNSTÂNCIAS QUE ENVOLVERAM A CONDUTA, DE MODO A AFASTAR A CONCLUSÃO DA CORTE REGIONAL PELA EVIDÊNCIA DO CONHECIMENTO PRÉVIO DO CANDIDATO BENEFICIÁRIO. IMPOSSIBILIDADE. VERBETE SUMULAR Nº 24 DO TSE. NEGADO PROVIMENTO AO AGRAVO INTERNO.1. A Corte regional, após analisar o conteúdo fático–probatório dos autos, concluiu que ficou configurada a propaganda eleitoral irregular consubstanciada no derrame de santinhos no dia do pleito, bem como que está demonstrada a responsabilidade do candidato ora agravante.2. Para afastar as conclusões do TRE/PE, seria necessária nova incursão nas provas acostadas aos autos, providência inviável em âmbito especial, de acordo com o Enunciado Sumular nº 24 do TSE. Precedentes.3. Alicerçada a decisão combatida em fundamentos idôneos, não merece ser provido o agravo interno, pois ausentes argumentos que permitam sua modificação.4. Agravo interno a que se nega provimento., Decisão:  , Ementa:  '"
      ]
     },
     "execution_count": 12,
     "metadata": {},
     "output_type": "execute_result"
    }
   ],
   "source": [
    "df['text'][23]"
   ]
  },
  {
   "cell_type": "code",
   "execution_count": 10,
   "id": "900aca8a",
   "metadata": {},
   "outputs": [
    {
     "data": {
      "text/plain": [
       "'0        0600420-20.2018.6.00.0000| PC - Embargos de De... 1        0600448-63.2020.6.05.0166| AREspE - Agravo Reg... 2        0000452-62.2016.6.25.0028| REspEl - Agravo Reg... 3        0600738-86.2020.6.14.0050| AREspE - Agravo Reg... 4        0600208-57.2022.6.00.0000| TutAntAnt - Agravo ...                                ...                         84749    0002952-17.1998.6.00.0000| MS nº 301 - SP| Acó... 84750    0000283-25.1997.6.00.0000| RESPE nº 561 - MG| ... 84751    RESPE nº 1873 - GO| Acórdão nº 934 de 30/10/05... 84752            AR nº 901| Acórdão nº 5555 de 10/09/0457| 84753             PA nº 0| Resolução nº 101 de 02/08/0453| Name: info_gerais, Length: 84754, dtype: object, Ementa: 0        EMBARGOS DE DECLARAÇÃO. PRESTAÇÃO DE CONTAS. P... 1        ELEIÇÕES 2020. AGRAVO REGIMENTAL. AGRAVO. RECU... 2        AGRAVO INTERNO. RECURSOS ESPECIAIS. ELEIÇÕES 2... 3        AGRAVO INTERNO. AGRAVO. RECURSO ESPECIAL ELEIT... 4        ELEIÇÕES 2020. AGRAVO REGIMENTAL. TUTELA CAUTE...                                ...                         84749                                                  NaN 84750                                                  NaN 84751                                                  NaN 84752                                                  NaN 84753                                                  NaN Name: Ementa:, Length: 84754, dtype: object, Decisão: 0        O Tribunal, por unanimidade, acolheu parcialme... 1        O Tribunal, por unanimidade, negou provimento ... 2                                                      NaN 3                                                      NaN 4        O Tribunal, por unanimidade, negou provimento ...                                ...                         84749        Prejudicialidade Perda Motivo Interposição 84750    Diploma Expedição Inelegibilidade Superveni... 84751    Eleição suplementar Voto Contagem Recurso ... 84752                                                  NaN 84753                                                  NaN Name: Decisão:, Length: 84754, dtype: object, Ementa: 0        PARTE: CIDADANIA (CIDADANIA) - NACIONALAdvogad... 1        PARTE: A COLIGAÇÃO RUMO NOVO COM A FORÇA DO PO... 2                                                      NaN 3                                                      NaN 4        PARTE: ADEMIR DOMINGOS MIOTTOAdvogado(a): MATH...                                ...                         84749                                                  NaN 84750                                                  NaN 84751                                                  NaN 84752                                                  NaN 84753                                                  NaN Name: Partes:, Length: 84754, dtype: object'"
      ]
     },
     "execution_count": 10,
     "metadata": {},
     "output_type": "execute_result"
    }
   ],
   "source": [
    "df['text'][23]"
   ]
  },
  {
   "cell_type": "code",
   "execution_count": 14,
   "id": "ffda0990",
   "metadata": {},
   "outputs": [],
   "source": [
    "import re"
   ]
  },
  {
   "cell_type": "code",
   "execution_count": 15,
   "id": "d11bb570",
   "metadata": {},
   "outputs": [],
   "source": [
    "def remove_non_breaking_spaces(text):\n",
    "    return text.replace(\"\\xa0\", \" \").strip()"
   ]
  },
  {
   "cell_type": "code",
   "execution_count": 16,
   "id": "3ec562d2",
   "metadata": {},
   "outputs": [],
   "source": [
    "def remove_metadata(text):\n",
    "    text = re.sub(r', Length: \\d+, dtype: object', '', text)\n",
    "    text = str(text).replace(\"nan\", \"\")\n",
    "    return text.strip()"
   ]
  },
  {
   "cell_type": "code",
   "execution_count": 17,
   "id": "b805fbd7",
   "metadata": {},
   "outputs": [],
   "source": [
    "def remove_html_tags(text):\n",
    "    text = str(text)\n",
    "    clean = re.compile('<.*?>')\n",
    "    return re.sub(clean, '', text)"
   ]
  },
  {
   "cell_type": "code",
   "execution_count": 18,
   "id": "2e763d59",
   "metadata": {},
   "outputs": [],
   "source": [
    "def remove_excess_spaces(text):\n",
    "    text = str(text)\n",
    "    return re.sub(r'\\s+', ' ', text).strip()"
   ]
  },
  {
   "cell_type": "code",
   "execution_count": 19,
   "id": "744d664c",
   "metadata": {},
   "outputs": [],
   "source": [
    "def remove_reticencias_nan(text):\n",
    "    text = re.sub(r'\\.\\.\\.', '', text)\n",
    "    text = str(text).replace(\"nan\", \"\")\n",
    "    text = str(text).replace(\"NaN\", \"\")\n",
    "    return text.strip()  # Remove espaços em branco extras\n"
   ]
  },
  {
   "cell_type": "code",
   "execution_count": 20,
   "id": "3e41c3c9",
   "metadata": {},
   "outputs": [],
   "source": [
    "df['text'] = df['text'].apply(remove_non_breaking_spaces)\n",
    "df['text'] = df['text'].apply(remove_html_tags)\n",
    "df['text'] = df['text'].apply(remove_excess_spaces)\n",
    "df['text'] = df['text'].apply(remove_reticencias_nan)\n",
    "df['text'] = df['text'].apply(remove_metadata)"
   ]
  },
  {
   "cell_type": "code",
   "execution_count": 21,
   "id": "145e05f3",
   "metadata": {},
   "outputs": [
    {
     "data": {
      "text/plain": [
       "'0600347-08.2020.6.17.0064| AREspE - Agravo Regimental no Agravo em Recurso Especial Eleitoral nº 060034708 - ÁGUAS BELAS - PE| Acórdão de 17/06/2022| Relator(a) Min. Mauro Campbell Marques|, Ementa: ELEIÇÕES 2020. AGRAVO INTERNO EM AGRAVO EM RECURSO ESPECIAL. REPRESENTAÇÃO POR PROPAGANDA ELEITORAL IRREGULAR. DERRAMAMENTO DE SANTINHOS. PROCEDÊNCIA NA ORIGEM. PRETENSÃO DE ANÁLISE DAS CIRCUNSTÂNCIAS QUE ENVOLVERAM A CONDUTA, DE MODO A AFASTAR A CONCLUSÃO DA CORTE REGIONAL PELA EVIDÊNCIA DO CONHECIMENTO PRÉVIO DO CANDIDATO BENEFICIÁRIO. IMPOSSIBILIDADE. VERBETE SUMULAR Nº 24 DO TSE. NEGADO PROVIMENTO AO AGRAVO INTERNO.1. A Corte regional, após analisar o conteúdo fático–probatório dos autos, concluiu que ficou configurada a propaganda eleitoral irregular consubstanciada no derrame de santinhos no dia do pleito, bem como que está demonstrada a responsabilidade do candidato ora agravante.2. Para afastar as conclusões do TRE/PE, seria necessária nova incursão nas provas acostadas aos autos, providência inviável em âmbito especial, de acordo com o Enunciado Sumular nº 24 do TSE. Precedentes.3. Alicerçada a decisão combatida em fundamentos idôneos, não merece ser provido o agravo interno, pois ausentes argumentos que permitam sua modificação.4. Agravo interno a que se nega provimento., Decisão: , Ementa:'"
      ]
     },
     "execution_count": 21,
     "metadata": {},
     "output_type": "execute_result"
    }
   ],
   "source": [
    "df['text'][23]"
   ]
  },
  {
   "cell_type": "code",
   "execution_count": 18,
   "id": "ec029781",
   "metadata": {},
   "outputs": [
    {
     "data": {
      "text/plain": [
       "'0 0600420-20.2018.6.00.0000| PC - Embargos de De 1 0600448-63.2020.6.05.0166| AREspE - Agravo Reg 2 0000452-62.2016.6.25.0028| REspEl - Agravo Reg 3 0600738-86.2020.6.14.0050| AREspE - Agravo Reg 4 0600208-57.2022.6.00.0000| TutAntAnt - Agravo   84749 0002952-17.1998.6.00.0000| MS nº 301 - SP| Acó 84750 0000283-25.1997.6.00.0000| RESPE nº 561 - MG|  84751 RESPE nº 1873 - GO| Acórdão nº 934 de 30/10/05 84752 AR nº 901| Acórdão nº 5555 de 10/09/0457| 84753 PA nº 0| Resolução nº 101 de 02/08/0453| Name: info_gerais, Ementa: 0 EMBARGOS DE DECLARAÇÃO. PRESTAÇÃO DE CONTAS. P 1 ELEIÇÕES 2020. AGRAVO REGIMENTAL. AGRAVO. RECU 2 AGRAVO INTERNO. RECURSOS ESPECIAIS. ELEIÇÕES 2 3 AGRAVO INTERNO. AGRAVO. RECURSO ESPECIAL ELEIT 4 ELEIÇÕES 2020. AGRAVO REGIMENTAL. TUTELA CAUTE  84749  84750  84751  84752  84753  Name: Ementa:, Decisão: 0 O Tribunal, por uimidade, acolheu parcialme 1 O Tribunal, por uimidade, negou provimento  2  3  4 O Tribunal, por uimidade, negou provimento   84749 Prejudicialidade Perda Motivo Interposição 84750 Diploma Expedição Inelegibilidade Superveni 84751 Eleição suplementar Voto Contagem Recurso  84752  84753  Name: Decisão:, Ementa: 0 PARTE: CIDADANIA (CIDADANIA) - NACIONALAdvogad 1 PARTE: A COLIGAÇÃO RUMO NOVO COM A FORÇA DO PO 2  3  4 PARTE: ADEMIR DOMINGOS MIOTTOAdvogado(a): MATH  84749  84750  84751  84752  84753  Name: Partes:'"
      ]
     },
     "execution_count": 18,
     "metadata": {},
     "output_type": "execute_result"
    }
   ],
   "source": [
    "df['text'][23]"
   ]
  },
  {
   "cell_type": "code",
   "execution_count": 22,
   "id": "8f6f694c",
   "metadata": {},
   "outputs": [],
   "source": [
    "import pandas as pd"
   ]
  },
  {
   "cell_type": "code",
   "execution_count": 23,
   "id": "e3846838",
   "metadata": {},
   "outputs": [],
   "source": [
    "eleitoral_pp = pd.DataFrame()"
   ]
  },
  {
   "cell_type": "code",
   "execution_count": 24,
   "id": "233e2396",
   "metadata": {},
   "outputs": [],
   "source": [
    "eleitoral_pp['text'] = df['text']"
   ]
  },
  {
   "cell_type": "code",
   "execution_count": 25,
   "id": "e186c7c8",
   "metadata": {},
   "outputs": [
    {
     "data": {
      "text/html": [
       "<div>\n",
       "<style scoped>\n",
       "    .dataframe tbody tr th:only-of-type {\n",
       "        vertical-align: middle;\n",
       "    }\n",
       "\n",
       "    .dataframe tbody tr th {\n",
       "        vertical-align: top;\n",
       "    }\n",
       "\n",
       "    .dataframe thead th {\n",
       "        text-align: right;\n",
       "    }\n",
       "</style>\n",
       "<table border=\"1\" class=\"dataframe\">\n",
       "  <thead>\n",
       "    <tr style=\"text-align: right;\">\n",
       "      <th></th>\n",
       "      <th>text</th>\n",
       "    </tr>\n",
       "  </thead>\n",
       "  <tbody>\n",
       "    <tr>\n",
       "      <th>0</th>\n",
       "      <td>0600420-20.2018.6.00.0000| PC - Embargos de De...</td>\n",
       "    </tr>\n",
       "    <tr>\n",
       "      <th>1</th>\n",
       "      <td>0600448-63.2020.6.05.0166| AREspE - Agravo Reg...</td>\n",
       "    </tr>\n",
       "    <tr>\n",
       "      <th>2</th>\n",
       "      <td>0000452-62.2016.6.25.0028| REspEl - Agravo Reg...</td>\n",
       "    </tr>\n",
       "    <tr>\n",
       "      <th>3</th>\n",
       "      <td>0600738-86.2020.6.14.0050| AREspE - Agravo Reg...</td>\n",
       "    </tr>\n",
       "    <tr>\n",
       "      <th>4</th>\n",
       "      <td>0600208-57.2022.6.00.0000| TutAntAnt - Agravo ...</td>\n",
       "    </tr>\n",
       "    <tr>\n",
       "      <th>...</th>\n",
       "      <td>...</td>\n",
       "    </tr>\n",
       "    <tr>\n",
       "      <th>84749</th>\n",
       "      <td>0002952-17.1998.6.00.0000| MS nº 301 - SP| Acó...</td>\n",
       "    </tr>\n",
       "    <tr>\n",
       "      <th>84750</th>\n",
       "      <td>0000283-25.1997.6.00.0000| RESPE nº 561 - MG| ...</td>\n",
       "    </tr>\n",
       "    <tr>\n",
       "      <th>84751</th>\n",
       "      <td>RESPE nº 1873 - GO| Acórdão nº 934 de 30/10/05...</td>\n",
       "    </tr>\n",
       "    <tr>\n",
       "      <th>84752</th>\n",
       "      <td>AR nº 901| Acórdão nº 5555 de 10/09/0457|, Eme...</td>\n",
       "    </tr>\n",
       "    <tr>\n",
       "      <th>84753</th>\n",
       "      <td>PA nº 0| Resolução nº 101 de 02/08/0453|, Emen...</td>\n",
       "    </tr>\n",
       "  </tbody>\n",
       "</table>\n",
       "<p>84754 rows × 1 columns</p>\n",
       "</div>"
      ],
      "text/plain": [
       "                                                    text\n",
       "0      0600420-20.2018.6.00.0000| PC - Embargos de De...\n",
       "1      0600448-63.2020.6.05.0166| AREspE - Agravo Reg...\n",
       "2      0000452-62.2016.6.25.0028| REspEl - Agravo Reg...\n",
       "3      0600738-86.2020.6.14.0050| AREspE - Agravo Reg...\n",
       "4      0600208-57.2022.6.00.0000| TutAntAnt - Agravo ...\n",
       "...                                                  ...\n",
       "84749  0002952-17.1998.6.00.0000| MS nº 301 - SP| Acó...\n",
       "84750  0000283-25.1997.6.00.0000| RESPE nº 561 - MG| ...\n",
       "84751  RESPE nº 1873 - GO| Acórdão nº 934 de 30/10/05...\n",
       "84752  AR nº 901| Acórdão nº 5555 de 10/09/0457|, Eme...\n",
       "84753  PA nº 0| Resolução nº 101 de 02/08/0453|, Emen...\n",
       "\n",
       "[84754 rows x 1 columns]"
      ]
     },
     "execution_count": 25,
     "metadata": {},
     "output_type": "execute_result"
    }
   ],
   "source": [
    "eleitoral_pp"
   ]
  },
  {
   "cell_type": "code",
   "execution_count": 26,
   "id": "49011a84",
   "metadata": {},
   "outputs": [
    {
     "data": {
      "text/plain": [
       "'0600208-57.2022.6.00.0000| TutAntAnt - Agravo Regimental na Tutela Antecipada Antecedente nº 060020857 - PRESIDENTE CASTELLO BRANCO - SC| Acórdão de 23/06/2022| Relator(a) Min. Alexandre de Moraes| (3 fls.)| Eleições 2020|, Ementa: ELEIÇÕES 2020. AGRAVO REGIMENTAL. TUTELA CAUTELAR ANTECEDENTE. CAPTAÇÃO ILÍCITA DE SUFRÁGIO. PLAUSIBILIDADE DO DIREITO. DANO IRREPARÁVEL. NÃO DEMONSTRAÇÃO. DESPROVIMENTO.1. A concessão de medida liminar requer a comprovação da plausibilidade do direito, assim como a evidência do risco de dano irreparável.2. Em exame preliminar, o conteúdo probatório dos autos (testemunhas e gravação de conversa por Whatsapp) revela que os candidatos anuíram com esquema de oferta de dinheiro para que eleitores de seus adversários políticos não comparecessem às urnas na data do pleito.3.Ausência de impugnação sobre a autenticidade da conversa ou a identidade dos interlocutores. Existência de prova independente e sobre a qual não pesa aparente ilicitude ou dependência.4. Agravo Regimental desprovido, Decisão: O Tribunal, por uimidade, negou provimento ao agravo interno, nos termos do voto do Relator. Votaram com o Relator os Ministros: Ricardo Lewandowski, Mauro Campbell Marques, Benedito Gonçalves, Sérgio Banhos, Carlos Horbach e Edson Fachin (Presidente). Composição: Ministros Edson Fachin (Presidente), Alexandre de Moraes, Ricardo Lewandowski, Mauro Campbell Marques, Benedito Gonçalves, Sérgio Banhos e Carlos Horbach., Ementa: PARTE: ADEMIR DOMINGOS MIOTTOAdvogado(a): MATHEUS CAMARGO MATTIELLOAdvogado(a): RUAN WAGNER FERRARIAdvogado(a): WILSON KNONER CAMPOSAdvogado(a): FILIPE STECHINSKIAdvogado(a): MARLON CHARLES BERTOLAdvogado(a): GIOVANI ACOSTA DA LUZPARTE: ADEMIR PEDRO TONIELOAdvogado(a): GIOVANI ACOSTA DA LUZAdvogado(a): MARLON CHARLES BERTOLAdvogado(a): MATHEUS CAMARGO MATTIELLOAdvogado(a): WILSON KNONER CAMPOSAdvogado(a): FILIPE STECHINSKIAdvogado(a): RUAN WAGNER FERRARIPARTE: PARTIDO SOCIAL CRISTÃO (PSC) - MUNICIPALPARTE: TARCILIO SECCOAdvogado(a): FILIPE STECHINSKIAdvogado(a): GIOVANI ACOSTA DA LUZAdvogado(a): MARLON CHARLES BERTOLAdvogado(a): WILSON KNONER CAMPOSAdvogado(a): MATHEUS CAMARGO MATTIELLOAdvogado(a): RUAN WAGNER FERRARI'"
      ]
     },
     "execution_count": 26,
     "metadata": {},
     "output_type": "execute_result"
    }
   ],
   "source": [
    "eleitoral_pp.text[4]"
   ]
  },
  {
   "cell_type": "code",
   "execution_count": 24,
   "id": "3891974a",
   "metadata": {},
   "outputs": [
    {
     "data": {
      "text/plain": [
       "'0 0600420-20.2018.6.00.0000| PC - Embargos de De 1 0600448-63.2020.6.05.0166| AREspE - Agravo Reg 2 0000452-62.2016.6.25.0028| REspEl - Agravo Reg 3 0600738-86.2020.6.14.0050| AREspE - Agravo Reg 4 0600208-57.2022.6.00.0000| TutAntAnt - Agravo   84749 0002952-17.1998.6.00.0000| MS nº 301 - SP| Acó 84750 0000283-25.1997.6.00.0000| RESPE nº 561 - MG|  84751 RESPE nº 1873 - GO| Acórdão nº 934 de 30/10/05 84752 AR nº 901| Acórdão nº 5555 de 10/09/0457| 84753 PA nº 0| Resolução nº 101 de 02/08/0453| Name: info_gerais, Ementa: 0 EMBARGOS DE DECLARAÇÃO. PRESTAÇÃO DE CONTAS. P 1 ELEIÇÕES 2020. AGRAVO REGIMENTAL. AGRAVO. RECU 2 AGRAVO INTERNO. RECURSOS ESPECIAIS. ELEIÇÕES 2 3 AGRAVO INTERNO. AGRAVO. RECURSO ESPECIAL ELEIT 4 ELEIÇÕES 2020. AGRAVO REGIMENTAL. TUTELA CAUTE  84749  84750  84751  84752  84753  Name: Ementa:, Decisão: 0 O Tribunal, por uimidade, acolheu parcialme 1 O Tribunal, por uimidade, negou provimento  2  3  4 O Tribunal, por uimidade, negou provimento   84749 Prejudicialidade Perda Motivo Interposição 84750 Diploma Expedição Inelegibilidade Superveni 84751 Eleição suplementar Voto Contagem Recurso  84752  84753  Name: Decisão:, Ementa: 0 PARTE: CIDADANIA (CIDADANIA) - NACIONALAdvogad 1 PARTE: A COLIGAÇÃO RUMO NOVO COM A FORÇA DO PO 2  3  4 PARTE: ADEMIR DOMINGOS MIOTTOAdvogado(a): MATH  84749  84750  84751  84752  84753  Name: Partes:'"
      ]
     },
     "execution_count": 24,
     "metadata": {},
     "output_type": "execute_result"
    }
   ],
   "source": [
    "eleitoral_pp.text[4]"
   ]
  },
  {
   "cell_type": "code",
   "execution_count": 27,
   "id": "3c6ac976",
   "metadata": {},
   "outputs": [],
   "source": [
    "save_to = \"D:\\\\dados-juridicos\\\\pp\\\\\""
   ]
  },
  {
   "cell_type": "code",
   "execution_count": 28,
   "id": "af165bd7",
   "metadata": {},
   "outputs": [],
   "source": [
    "# Salve o dataframe atualizado em um novo arquivo\n",
    "eleitoral_pp.to_csv(f'{save_to}eleitoral_pp.csv', index=False)  # Substitua pelo nome desejado para o novo arquivo"
   ]
  },
  {
   "cell_type": "code",
   "execution_count": 29,
   "id": "d5306b3b",
   "metadata": {},
   "outputs": [],
   "source": [
    "df_eleitoral_pp = pd.read_csv(f'{save_to}eleitoral_pp.csv')"
   ]
  },
  {
   "cell_type": "code",
   "execution_count": 30,
   "id": "b0319126",
   "metadata": {},
   "outputs": [
    {
     "data": {
      "text/plain": [
       "'0600291-73.2022.6.00.0000| RFP - Registro de Federação Partidária nº 060029173 - BRASÍLIA - DF| Acórdão de 26/05/2022| Relator(a) Min. Ricardo Lewandowski| (6 fls.)| Eleições 2022|, Ementa: PEDIDO DE REGISTRO DE FEDERAÇÃO PARTIDÁRIA PSDB CIDADANIA. PREENCHIMENTO DOS REQUISITOS LEGAIS. DEFERIMENTO.1. O pedido de registro da Federação PSDB CIDADANIA encontra–se instruído com os documentos exigidos, estando igualmente preenchidas as demais condições previstas em lei.2. Convém ressaltar, todavia, que registro do Estatuto Federativo no Tribunal Superior Eleitoral não implica chancela de todos os seus dispositivos, que poderão ser questionados, se for o caso, sob a ótica da constitucionalidade e legalidade, por meio de ações próprias, inclusive a partir da ótica da democracia intrapartidária.3. Isso porque o exame dos dispositivos estatutários nos pedidos de registro de federações partidárias se dá apenas quanto ao cumprimento dos requisitos formais constantes da legislação aplicável, sem qualquer juízo de mérito.4. Pedido deferido., Decisão: O Tribunal, por uimidade, deferiu o pedido de registro da Federação PSDB CIDADANIA, nos termos do voto do Relator.Votaram com o Relator os Ministros: Mauro Campbell Marques, Benedito Gonçalves, Sérgio Banhos, Carlos Horbach, Alexandre de Moraes e Edson Fachin (Presidente).Falou o Dr. Luis Gustavo Motta Severo da Silva, advogado da requerente, Federação PSDB CIDADANIA.Composição: Ministros Edson Fachin (Presidente), Alexandre de Moraes, Ricardo Lewandowski, Mauro Campbell Marques, Benedito Gonçalves, Sérgio Banhos e Carlos Horbach., Ementa: PARTE: FEDERAÇÃO PSDB CIDADANIA - NACIONALAdvogado(a): RENATO CAMPOS GALUPPOAdvogado(a): EUGESIO PEREIRA MACIELAdvogado(a): FLAVIO HENRIQUE COSTA PEREIRAAdvogado(a): MAYARA DE SA PEDROSAAdvogado(a): GUSTAVO GUILHERME BEZERRA KANFFERAdvogado(a): LUIS GUSTAVO MOTTA SEVERO DA SILVA'"
      ]
     },
     "execution_count": 30,
     "metadata": {},
     "output_type": "execute_result"
    }
   ],
   "source": [
    "df_eleitoral_pp.text[100]"
   ]
  }
 ],
 "metadata": {
  "kernelspec": {
   "display_name": "Python 3 (ipykernel)",
   "language": "python",
   "name": "python3"
  },
  "language_info": {
   "codemirror_mode": {
    "name": "ipython",
    "version": 3
   },
   "file_extension": ".py",
   "mimetype": "text/x-python",
   "name": "python",
   "nbconvert_exporter": "python",
   "pygments_lexer": "ipython3",
   "version": "3.11.5"
  }
 },
 "nbformat": 4,
 "nbformat_minor": 5
}
