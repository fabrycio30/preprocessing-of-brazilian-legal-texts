{
 "cells": [
  {
   "cell_type": "code",
   "execution_count": 1,
   "id": "5c5d93de",
   "metadata": {},
   "outputs": [],
   "source": [
    "path = \"D:\\\\dados-juridicos\\\\brutos\\\\victor\\\\\""
   ]
  },
  {
   "cell_type": "code",
   "execution_count": 2,
   "id": "0384af48",
   "metadata": {},
   "outputs": [
    {
     "name": "stderr",
     "output_type": "stream",
     "text": [
      "C:\\Users\\fabry\\AppData\\Roaming\\Python\\Python311\\site-packages\\pandas\\core\\arrays\\masked.py:60: UserWarning: Pandas requires version '1.3.6' or newer of 'bottleneck' (version '1.3.5' currently installed).\n",
      "  from pandas.core import (\n"
     ]
    }
   ],
   "source": [
    "import pandas as pd"
   ]
  },
  {
   "cell_type": "code",
   "execution_count": 3,
   "id": "ce960849",
   "metadata": {},
   "outputs": [
    {
     "data": {
      "text/html": [
       "<div>\n",
       "<style scoped>\n",
       "    .dataframe tbody tr th:only-of-type {\n",
       "        vertical-align: middle;\n",
       "    }\n",
       "\n",
       "    .dataframe tbody tr th {\n",
       "        vertical-align: top;\n",
       "    }\n",
       "\n",
       "    .dataframe thead th {\n",
       "        text-align: right;\n",
       "    }\n",
       "</style>\n",
       "<table border=\"1\" class=\"dataframe\">\n",
       "  <thead>\n",
       "    <tr style=\"text-align: right;\">\n",
       "      <th></th>\n",
       "      <th>themes</th>\n",
       "      <th>process_id</th>\n",
       "      <th>file_name</th>\n",
       "      <th>document_type</th>\n",
       "      <th>pages</th>\n",
       "      <th>body</th>\n",
       "    </tr>\n",
       "  </thead>\n",
       "  <tbody>\n",
       "    <tr>\n",
       "      <th>0</th>\n",
       "      <td>[33]</td>\n",
       "      <td>AI_850118</td>\n",
       "      <td>AI_850118_273628870_1280_28102014.pdf</td>\n",
       "      <td>outros</td>\n",
       "      <td>1</td>\n",
       "      <td>{\"supremo tribunal federal ofício brasília de ...</td>\n",
       "    </tr>\n",
       "    <tr>\n",
       "      <th>1</th>\n",
       "      <td>[33]</td>\n",
       "      <td>AI_850118</td>\n",
       "      <td>AI_850118_789406_93_12052013.pdf</td>\n",
       "      <td>outros</td>\n",
       "      <td>1</td>\n",
       "      <td>{\"processo termo remessa tendo vista disposto ...</td>\n",
       "    </tr>\n",
       "    <tr>\n",
       "      <th>2</th>\n",
       "      <td>[33]</td>\n",
       "      <td>AI_850124</td>\n",
       "      <td>AI_850124_273618680_1280_28102014.pdf</td>\n",
       "      <td>outros</td>\n",
       "      <td>1</td>\n",
       "      <td>{\"supremo tribunal federal ofício brasília de ...</td>\n",
       "    </tr>\n",
       "    <tr>\n",
       "      <th>3</th>\n",
       "      <td>[33]</td>\n",
       "      <td>AI_850124</td>\n",
       "      <td>AI_850124_777156_94_12052013.pdf</td>\n",
       "      <td>outros</td>\n",
       "      <td>1</td>\n",
       "      <td>{\"ac j d c r a fls setírèíalia popgp _ agravo ...</td>\n",
       "    </tr>\n",
       "    <tr>\n",
       "      <th>4</th>\n",
       "      <td>[33]</td>\n",
       "      <td>AI_850124</td>\n",
       "      <td>AI_850124_777156_94_12052013.pdf</td>\n",
       "      <td>outros</td>\n",
       "      <td>2</td>\n",
       "      <td>{\"agram riom apelação utwt ttdzfê wíwf hio bra...</td>\n",
       "    </tr>\n",
       "    <tr>\n",
       "      <th>...</th>\n",
       "      <td>...</td>\n",
       "      <td>...</td>\n",
       "      <td>...</td>\n",
       "      <td>...</td>\n",
       "      <td>...</td>\n",
       "      <td>...</td>\n",
       "    </tr>\n",
       "    <tr>\n",
       "      <th>94730</th>\n",
       "      <td>[555, 810]</td>\n",
       "      <td>RE_981213</td>\n",
       "      <td>RE_981213_309944655_95_08072016.pdf</td>\n",
       "      <td>outros</td>\n",
       "      <td>1</td>\n",
       "      <td>{\"supremo tribunal federal secretaria judiciár...</td>\n",
       "    </tr>\n",
       "    <tr>\n",
       "      <th>94731</th>\n",
       "      <td>[555, 810]</td>\n",
       "      <td>RE_981213</td>\n",
       "      <td>RE_981213_309944655_95_08072016.pdf</td>\n",
       "      <td>outros</td>\n",
       "      <td>2</td>\n",
       "      <td>{\"brasília de julho coordenadoria processament...</td>\n",
       "    </tr>\n",
       "    <tr>\n",
       "      <th>94732</th>\n",
       "      <td>[555, 810]</td>\n",
       "      <td>RE_981213</td>\n",
       "      <td>RE_981213_310081922_1060_22082016.pdf</td>\n",
       "      <td>outros</td>\n",
       "      <td>1</td>\n",
       "      <td>{\"supremo tribunal federal recurso extraordiná...</td>\n",
       "    </tr>\n",
       "    <tr>\n",
       "      <th>94733</th>\n",
       "      <td>[555, 810]</td>\n",
       "      <td>RE_981213</td>\n",
       "      <td>RE_981213_310108340_1280_17082016.pdf</td>\n",
       "      <td>outros</td>\n",
       "      <td>1</td>\n",
       "      <td>{\"seção recursos extraordinários mandado intim...</td>\n",
       "    </tr>\n",
       "    <tr>\n",
       "      <th>94734</th>\n",
       "      <td>[555, 810]</td>\n",
       "      <td>RE_981213</td>\n",
       "      <td>RE_981213_310474119_93_07102016.pdf</td>\n",
       "      <td>outros</td>\n",
       "      <td>1</td>\n",
       "      <td>{\"supremo tribunal federal secretaria judiciár...</td>\n",
       "    </tr>\n",
       "  </tbody>\n",
       "</table>\n",
       "<p>94735 rows × 6 columns</p>\n",
       "</div>"
      ],
      "text/plain": [
       "           themes process_id                              file_name  \\\n",
       "0            [33]  AI_850118  AI_850118_273628870_1280_28102014.pdf   \n",
       "1            [33]  AI_850118       AI_850118_789406_93_12052013.pdf   \n",
       "2            [33]  AI_850124  AI_850124_273618680_1280_28102014.pdf   \n",
       "3            [33]  AI_850124       AI_850124_777156_94_12052013.pdf   \n",
       "4            [33]  AI_850124       AI_850124_777156_94_12052013.pdf   \n",
       "...           ...        ...                                    ...   \n",
       "94730  [555, 810]  RE_981213    RE_981213_309944655_95_08072016.pdf   \n",
       "94731  [555, 810]  RE_981213    RE_981213_309944655_95_08072016.pdf   \n",
       "94732  [555, 810]  RE_981213  RE_981213_310081922_1060_22082016.pdf   \n",
       "94733  [555, 810]  RE_981213  RE_981213_310108340_1280_17082016.pdf   \n",
       "94734  [555, 810]  RE_981213    RE_981213_310474119_93_07102016.pdf   \n",
       "\n",
       "      document_type  pages                                               body  \n",
       "0            outros      1  {\"supremo tribunal federal ofício brasília de ...  \n",
       "1            outros      1  {\"processo termo remessa tendo vista disposto ...  \n",
       "2            outros      1  {\"supremo tribunal federal ofício brasília de ...  \n",
       "3            outros      1  {\"ac j d c r a fls setírèíalia popgp _ agravo ...  \n",
       "4            outros      2  {\"agram riom apelação utwt ttdzfê wíwf hio bra...  \n",
       "...             ...    ...                                                ...  \n",
       "94730        outros      1  {\"supremo tribunal federal secretaria judiciár...  \n",
       "94731        outros      2  {\"brasília de julho coordenadoria processament...  \n",
       "94732        outros      1  {\"supremo tribunal federal recurso extraordiná...  \n",
       "94733        outros      1  {\"seção recursos extraordinários mandado intim...  \n",
       "94734        outros      1  {\"supremo tribunal federal secretaria judiciár...  \n",
       "\n",
       "[94735 rows x 6 columns]"
      ]
     },
     "execution_count": 3,
     "metadata": {},
     "output_type": "execute_result"
    }
   ],
   "source": [
    "df = pd.read_csv(f'{path}validation_small.csv.aspx')\n",
    "df"
   ]
  },
  {
   "cell_type": "code",
   "execution_count": 4,
   "id": "6cc7b9f1",
   "metadata": {},
   "outputs": [
    {
     "data": {
      "text/plain": [
       "'{\"antónio batista sousa oab n luena paula castro souá xatamente por isso não pode prescindir fase instrução pois situações jalo particularmente contratos que veiculam negócios entabulados seja nos casos apontados como paradigmas seja hipótese dos autos podem ser distintos variando conforme cláusulas pactuadas tanto quanto aqui que não raro nas flutuações economia mercado câmara cível reiteradas es se posicionou sobre tema como pode ver acórdão proferido apelação cível pormim relatado que recebeu seguinte ementa processual civil empréstimo bancário código consumidor aplicabilidade revisão clausulas contratuais pedido inversão ónus prova fal da parte hipossuficiente relação negocial questão fato de direito necessidade juntada contrato não aplicação ARTIGO_285 do cpc cerceamento defesa violação princípio devido processo legal nuijdade sentença violação ljterai disposiç lei que error procedendo insanável a controvérsia não unicamente direito mas também fato havendo inclusive pedido inversão ónus prova nos termos ARTIGO_6 inciso viii código defesa consumidor inaplicável disposto ARTIGO_285 código processo civil por configurar cerceamento defesa violação devido processo legai a sentençajulgou lide com fundamento ARTIGO_285 código processa civil impedindo que questões fato fossem comprovadas pelos sujeitos contraditório deve ser anulada mediante provocação parte até mesmo oficio que trata questão ordem pública face violação literal disposição lei sobretudo por ofender princípios contraditório da ampla defesa faio não ocorrendo andamento regular processo inclusive com apreciação pedido inversão ónus prova requerida nos autos não podemos inferir senão por suposições que contraio objeto presente lide idêntico aos que foram examinados sentenças anteriores não contrato nestes autos não podemos compará com casos julgados anteriormente que não conhecemos cláusulas negado bancário ora exame portanto não pode afirmar como exige an cpc que trate casos idênticos pois sequer sabemos conteúdo presente relação negociai aliás não conhecemos nem mesmo casos que sua exce ênaa aponta como paradigmas que não constam dos autos contratos examinados nos processos anteriores sendo impossível ajerir relação identidade entre casos julgados o que eslá sendo objeto exame presente lide o este tribunal que examina fatos comprovados não pode supor coisa alguma conjunto solat quadra casa rua bairro vila ivonete cep rjo branco acre antoniqbatistaadvfsjgniail com luenapaula csffljbol comppf\"}'"
      ]
     },
     "execution_count": 4,
     "metadata": {},
     "output_type": "execute_result"
    }
   ],
   "source": [
    "df.body[23]"
   ]
  },
  {
   "cell_type": "code",
   "execution_count": 5,
   "id": "86cba150",
   "metadata": {},
   "outputs": [],
   "source": [
    "df['text'] = df['body']"
   ]
  },
  {
   "cell_type": "code",
   "execution_count": 6,
   "id": "8b7bd6a4",
   "metadata": {},
   "outputs": [
    {
     "data": {
      "text/html": [
       "<div>\n",
       "<style scoped>\n",
       "    .dataframe tbody tr th:only-of-type {\n",
       "        vertical-align: middle;\n",
       "    }\n",
       "\n",
       "    .dataframe tbody tr th {\n",
       "        vertical-align: top;\n",
       "    }\n",
       "\n",
       "    .dataframe thead th {\n",
       "        text-align: right;\n",
       "    }\n",
       "</style>\n",
       "<table border=\"1\" class=\"dataframe\">\n",
       "  <thead>\n",
       "    <tr style=\"text-align: right;\">\n",
       "      <th></th>\n",
       "      <th>themes</th>\n",
       "      <th>process_id</th>\n",
       "      <th>file_name</th>\n",
       "      <th>document_type</th>\n",
       "      <th>pages</th>\n",
       "      <th>body</th>\n",
       "      <th>text</th>\n",
       "    </tr>\n",
       "  </thead>\n",
       "  <tbody>\n",
       "    <tr>\n",
       "      <th>0</th>\n",
       "      <td>[33]</td>\n",
       "      <td>AI_850118</td>\n",
       "      <td>AI_850118_273628870_1280_28102014.pdf</td>\n",
       "      <td>outros</td>\n",
       "      <td>1</td>\n",
       "      <td>{\"supremo tribunal federal ofício brasília de ...</td>\n",
       "      <td>{\"supremo tribunal federal ofício brasília de ...</td>\n",
       "    </tr>\n",
       "    <tr>\n",
       "      <th>1</th>\n",
       "      <td>[33]</td>\n",
       "      <td>AI_850118</td>\n",
       "      <td>AI_850118_789406_93_12052013.pdf</td>\n",
       "      <td>outros</td>\n",
       "      <td>1</td>\n",
       "      <td>{\"processo termo remessa tendo vista disposto ...</td>\n",
       "      <td>{\"processo termo remessa tendo vista disposto ...</td>\n",
       "    </tr>\n",
       "    <tr>\n",
       "      <th>2</th>\n",
       "      <td>[33]</td>\n",
       "      <td>AI_850124</td>\n",
       "      <td>AI_850124_273618680_1280_28102014.pdf</td>\n",
       "      <td>outros</td>\n",
       "      <td>1</td>\n",
       "      <td>{\"supremo tribunal federal ofício brasília de ...</td>\n",
       "      <td>{\"supremo tribunal federal ofício brasília de ...</td>\n",
       "    </tr>\n",
       "    <tr>\n",
       "      <th>3</th>\n",
       "      <td>[33]</td>\n",
       "      <td>AI_850124</td>\n",
       "      <td>AI_850124_777156_94_12052013.pdf</td>\n",
       "      <td>outros</td>\n",
       "      <td>1</td>\n",
       "      <td>{\"ac j d c r a fls setírèíalia popgp _ agravo ...</td>\n",
       "      <td>{\"ac j d c r a fls setírèíalia popgp _ agravo ...</td>\n",
       "    </tr>\n",
       "    <tr>\n",
       "      <th>4</th>\n",
       "      <td>[33]</td>\n",
       "      <td>AI_850124</td>\n",
       "      <td>AI_850124_777156_94_12052013.pdf</td>\n",
       "      <td>outros</td>\n",
       "      <td>2</td>\n",
       "      <td>{\"agram riom apelação utwt ttdzfê wíwf hio bra...</td>\n",
       "      <td>{\"agram riom apelação utwt ttdzfê wíwf hio bra...</td>\n",
       "    </tr>\n",
       "    <tr>\n",
       "      <th>...</th>\n",
       "      <td>...</td>\n",
       "      <td>...</td>\n",
       "      <td>...</td>\n",
       "      <td>...</td>\n",
       "      <td>...</td>\n",
       "      <td>...</td>\n",
       "      <td>...</td>\n",
       "    </tr>\n",
       "    <tr>\n",
       "      <th>94730</th>\n",
       "      <td>[555, 810]</td>\n",
       "      <td>RE_981213</td>\n",
       "      <td>RE_981213_309944655_95_08072016.pdf</td>\n",
       "      <td>outros</td>\n",
       "      <td>1</td>\n",
       "      <td>{\"supremo tribunal federal secretaria judiciár...</td>\n",
       "      <td>{\"supremo tribunal federal secretaria judiciár...</td>\n",
       "    </tr>\n",
       "    <tr>\n",
       "      <th>94731</th>\n",
       "      <td>[555, 810]</td>\n",
       "      <td>RE_981213</td>\n",
       "      <td>RE_981213_309944655_95_08072016.pdf</td>\n",
       "      <td>outros</td>\n",
       "      <td>2</td>\n",
       "      <td>{\"brasília de julho coordenadoria processament...</td>\n",
       "      <td>{\"brasília de julho coordenadoria processament...</td>\n",
       "    </tr>\n",
       "    <tr>\n",
       "      <th>94732</th>\n",
       "      <td>[555, 810]</td>\n",
       "      <td>RE_981213</td>\n",
       "      <td>RE_981213_310081922_1060_22082016.pdf</td>\n",
       "      <td>outros</td>\n",
       "      <td>1</td>\n",
       "      <td>{\"supremo tribunal federal recurso extraordiná...</td>\n",
       "      <td>{\"supremo tribunal federal recurso extraordiná...</td>\n",
       "    </tr>\n",
       "    <tr>\n",
       "      <th>94733</th>\n",
       "      <td>[555, 810]</td>\n",
       "      <td>RE_981213</td>\n",
       "      <td>RE_981213_310108340_1280_17082016.pdf</td>\n",
       "      <td>outros</td>\n",
       "      <td>1</td>\n",
       "      <td>{\"seção recursos extraordinários mandado intim...</td>\n",
       "      <td>{\"seção recursos extraordinários mandado intim...</td>\n",
       "    </tr>\n",
       "    <tr>\n",
       "      <th>94734</th>\n",
       "      <td>[555, 810]</td>\n",
       "      <td>RE_981213</td>\n",
       "      <td>RE_981213_310474119_93_07102016.pdf</td>\n",
       "      <td>outros</td>\n",
       "      <td>1</td>\n",
       "      <td>{\"supremo tribunal federal secretaria judiciár...</td>\n",
       "      <td>{\"supremo tribunal federal secretaria judiciár...</td>\n",
       "    </tr>\n",
       "  </tbody>\n",
       "</table>\n",
       "<p>94735 rows × 7 columns</p>\n",
       "</div>"
      ],
      "text/plain": [
       "           themes process_id                              file_name  \\\n",
       "0            [33]  AI_850118  AI_850118_273628870_1280_28102014.pdf   \n",
       "1            [33]  AI_850118       AI_850118_789406_93_12052013.pdf   \n",
       "2            [33]  AI_850124  AI_850124_273618680_1280_28102014.pdf   \n",
       "3            [33]  AI_850124       AI_850124_777156_94_12052013.pdf   \n",
       "4            [33]  AI_850124       AI_850124_777156_94_12052013.pdf   \n",
       "...           ...        ...                                    ...   \n",
       "94730  [555, 810]  RE_981213    RE_981213_309944655_95_08072016.pdf   \n",
       "94731  [555, 810]  RE_981213    RE_981213_309944655_95_08072016.pdf   \n",
       "94732  [555, 810]  RE_981213  RE_981213_310081922_1060_22082016.pdf   \n",
       "94733  [555, 810]  RE_981213  RE_981213_310108340_1280_17082016.pdf   \n",
       "94734  [555, 810]  RE_981213    RE_981213_310474119_93_07102016.pdf   \n",
       "\n",
       "      document_type  pages                                               body  \\\n",
       "0            outros      1  {\"supremo tribunal federal ofício brasília de ...   \n",
       "1            outros      1  {\"processo termo remessa tendo vista disposto ...   \n",
       "2            outros      1  {\"supremo tribunal federal ofício brasília de ...   \n",
       "3            outros      1  {\"ac j d c r a fls setírèíalia popgp _ agravo ...   \n",
       "4            outros      2  {\"agram riom apelação utwt ttdzfê wíwf hio bra...   \n",
       "...             ...    ...                                                ...   \n",
       "94730        outros      1  {\"supremo tribunal federal secretaria judiciár...   \n",
       "94731        outros      2  {\"brasília de julho coordenadoria processament...   \n",
       "94732        outros      1  {\"supremo tribunal federal recurso extraordiná...   \n",
       "94733        outros      1  {\"seção recursos extraordinários mandado intim...   \n",
       "94734        outros      1  {\"supremo tribunal federal secretaria judiciár...   \n",
       "\n",
       "                                                    text  \n",
       "0      {\"supremo tribunal federal ofício brasília de ...  \n",
       "1      {\"processo termo remessa tendo vista disposto ...  \n",
       "2      {\"supremo tribunal federal ofício brasília de ...  \n",
       "3      {\"ac j d c r a fls setírèíalia popgp _ agravo ...  \n",
       "4      {\"agram riom apelação utwt ttdzfê wíwf hio bra...  \n",
       "...                                                  ...  \n",
       "94730  {\"supremo tribunal federal secretaria judiciár...  \n",
       "94731  {\"brasília de julho coordenadoria processament...  \n",
       "94732  {\"supremo tribunal federal recurso extraordiná...  \n",
       "94733  {\"seção recursos extraordinários mandado intim...  \n",
       "94734  {\"supremo tribunal federal secretaria judiciár...  \n",
       "\n",
       "[94735 rows x 7 columns]"
      ]
     },
     "execution_count": 6,
     "metadata": {},
     "output_type": "execute_result"
    }
   ],
   "source": [
    "df"
   ]
  },
  {
   "cell_type": "code",
   "execution_count": 9,
   "id": "b049f3f2",
   "metadata": {},
   "outputs": [],
   "source": [
    "# Ajuste os caracteres \"\\n\" para justificar\n",
    "df['text'] = df['text'].str.replace('\\n', ' ')\n",
    "df['text'] = df['text'].str.replace('\\\\n', ' ')"
   ]
  },
  {
   "cell_type": "code",
   "execution_count": 7,
   "id": "d5368e5e",
   "metadata": {},
   "outputs": [
    {
     "data": {
      "text/plain": [
       "'{\"sistema tributário nacional entrará vigor partir primeiro dia quinto mês seguinte da promulgação constituição mantido até então da constituição com redação dada pela emenda pelas posteriores caput ARTIGO_34 promulgada constituição união estados distrito federal os municípios poderão editar leis necessárias aplicação sistema tributário nacional nela previsto leis essas que produzirão efeitos partir entrada vigor sistema tributário nacional previsto constituição do ARTIGO_34 vigente novo sistema tributário nacional fica assegurada aplicação legislação anterior que não seja incompatível com ele com legislação referida nos e retro do ARTIGO_34 prazo sessenta dias contados promulgação constituição não for editada lei complementar necessária instituição imposto que trata ARTIGO_155 estados o distrito federal mediante convênio celebrado nos termos lei complementar janeiro fixarão normas para regular provisoriamente matéria do ARTIGO_34 lei complementar essa nº anterior atual constituição que estabelece regras sentido como aprovar convênios interestaduais visando concessão isenções inclusive época permitido como referido parágrafo único seu ARTIGO_1º reduções base cálculo como claramente observa esse ARTIGO_34 adct expressamente estabeleceu que caso não fosse editada prazo dias contados promulgação constituição como fato não foi lei complementar relativa icms necessária segundo ARTIGO_146 iii mesma carta definição fato gerador base cálculo do contribuinte referido imposto estados o distrito federal fixariam mediante convênio celebrado nos termos lei complementar normas para regular provisoriamente matéria foi então que ainda estados efetivamente celebraram ainda com base superada legislação imposto que passou denominar icms convênio icm prevendo seu ARTIGO_32 que salvo determinação contrário legislação acarretará anulação crédito operação prestação subseqüente com redução base cálculo hipótese que estorno será proporcional redução praticamente ano depois celebração referido convênio rs promulgou sua constituição estadual estabelecendo do seu ARTIGO_145 decorrência permissivo contido inc iii do ARTIGO_155 nova constituição federal segundo qual alíquotas icms poderão serão seletivas que estado icms será seletivo função essencialidade das mercadorias dos serviços preferencialmente com base nas cestas consumo familiar conforme dispuser lei que também fixará alíquotas respeitando disposto constituição federal\"}'"
      ]
     },
     "execution_count": 7,
     "metadata": {},
     "output_type": "execute_result"
    }
   ],
   "source": [
    "df['text'][23]"
   ]
  },
  {
   "cell_type": "code",
   "execution_count": 28,
   "id": "900aca8a",
   "metadata": {},
   "outputs": [
    {
     "data": {
      "text/plain": [
       "'0         {\"agravo instrumento rio grande sul relator mi...\\n1         {\"supremo tribunal federal decisão sobre reper...\\n2         {\"supremo tribunal federal ementa sobre reperc...\\n3         {\"supremo tribunal federal manifestação sobre ...\\n4         {\"supremo tribunal federal manifestação sobre ...\\n                                ...                        \\n311010    {\"supremo tribunal federal recurso extraordiná...\\n311011    {\"seção recursos extraordinários mandado intim...\\n311012    {\"ciente etft w csi twmo s wfíf qfiea wçt iiii...\\n311013    {\"certidão certifico que dirigi setor autarqui...\\n311014    {\"supremo tribunal federal secretaria judiciár...\\nName: body, Length: 311015, dtype: object'"
      ]
     },
     "execution_count": 28,
     "metadata": {},
     "output_type": "execute_result"
    }
   ],
   "source": [
    "df['text'][23]"
   ]
  },
  {
   "cell_type": "code",
   "execution_count": 8,
   "id": "ffda0990",
   "metadata": {},
   "outputs": [],
   "source": [
    "import re"
   ]
  },
  {
   "cell_type": "code",
   "execution_count": 9,
   "id": "d11bb570",
   "metadata": {},
   "outputs": [],
   "source": [
    "def remove_non_breaking_spaces(text):\n",
    "    return text.replace(\"\\xa0\", \" \").strip()"
   ]
  },
  {
   "cell_type": "code",
   "execution_count": 10,
   "id": "3ec562d2",
   "metadata": {},
   "outputs": [],
   "source": [
    "def remove_metadata(text):\n",
    "    text = re.sub(r', Length: \\d+, dtype: object', '', text)\n",
    "    text = str(text).replace(\"nan\", \"\")\n",
    "    return text.strip()"
   ]
  },
  {
   "cell_type": "code",
   "execution_count": 11,
   "id": "b805fbd7",
   "metadata": {},
   "outputs": [],
   "source": [
    "def remove_html_tags(text):\n",
    "    text = str(text)\n",
    "    clean = re.compile('<.*?>')\n",
    "    return re.sub(clean, '', text)"
   ]
  },
  {
   "cell_type": "code",
   "execution_count": 12,
   "id": "2e763d59",
   "metadata": {},
   "outputs": [],
   "source": [
    "def remove_excess_spaces(text):\n",
    "    text = str(text)\n",
    "    return re.sub(r'\\s+', ' ', text).strip()"
   ]
  },
  {
   "cell_type": "code",
   "execution_count": 13,
   "id": "744d664c",
   "metadata": {},
   "outputs": [],
   "source": [
    "def remove_reticencias_nan(text):\n",
    "    text = re.sub(r'\\.\\.\\.', '', text)\n",
    "    text = str(text).replace(\"nan\", \"\")\n",
    "    text = str(text).replace(\"NaN\", \"\")\n",
    "    return text.strip()  # Remove espaços em branco extras\n"
   ]
  },
  {
   "cell_type": "code",
   "execution_count": 14,
   "id": "3e41c3c9",
   "metadata": {},
   "outputs": [],
   "source": [
    "df['text'] = df['text'].apply(remove_non_breaking_spaces)\n",
    "df['text'] = df['text'].apply(remove_html_tags)\n",
    "df['text'] = df['text'].apply(remove_excess_spaces)\n",
    "df['text'] = df['text'].apply(remove_reticencias_nan)\n",
    "df['text'] = df['text'].apply(remove_metadata)"
   ]
  },
  {
   "cell_type": "code",
   "execution_count": 15,
   "id": "a921da98",
   "metadata": {},
   "outputs": [
    {
     "data": {
      "text/plain": [
       "'{\"sistema tributário nacional entrará vigor partir primeiro dia quinto mês seguinte da promulgação constituição mantido até então da constituição com redação dada pela emenda pelas posteriores caput ARTIGO_34 promulgada constituição união estados distrito federal os municípios poderão editar leis necessárias aplicação sistema tributário nacional nela previsto leis essas que produzirão efeitos partir entrada vigor sistema tributário nacional previsto constituição do ARTIGO_34 vigente novo sistema tributário nacional fica assegurada aplicação legislação anterior que não seja incompatível com ele com legislação referida nos e retro do ARTIGO_34 prazo sessenta dias contados promulgação constituição não for editada lei complementar necessária instituição imposto que trata ARTIGO_155 estados o distrito federal mediante convênio celebrado nos termos lei complementar janeiro fixarão normas para regular provisoriamente matéria do ARTIGO_34 lei complementar essa nº anterior atual constituição que estabelece regras sentido como aprovar convênios interestaduais visando concessão isenções inclusive época permitido como referido parágrafo único seu ARTIGO_1º reduções base cálculo como claramente observa esse ARTIGO_34 adct expressamente estabeleceu que caso não fosse editada prazo dias contados promulgação constituição como fato não foi lei complementar relativa icms necessária segundo ARTIGO_146 iii mesma carta definição fato gerador base cálculo do contribuinte referido imposto estados o distrito federal fixariam mediante convênio celebrado nos termos lei complementar normas para regular provisoriamente matéria foi então que ainda estados efetivamente celebraram ainda com base superada legislação imposto que passou denominar icms convênio icm prevendo seu ARTIGO_32 que salvo determinação contrário legislação acarretará anulação crédito operação prestação subseqüente com redução base cálculo hipótese que estorno será proporcional redução praticamente ano depois celebração referido convênio rs promulgou sua constituição estadual estabelecendo do seu ARTIGO_145 decorrência permissivo contido inc iii do ARTIGO_155 nova constituição federal segundo qual alíquotas icms poderão serão seletivas que estado icms será seletivo função essencialidade das mercadorias dos serviços preferencialmente com base nas cestas consumo familiar conforme dispuser lei que também fixará alíquotas respeitando disposto constituição federal\"}'"
      ]
     },
     "execution_count": 15,
     "metadata": {},
     "output_type": "execute_result"
    }
   ],
   "source": [
    "df['text'][23]"
   ]
  },
  {
   "cell_type": "code",
   "execution_count": 18,
   "id": "ec029781",
   "metadata": {},
   "outputs": [
    {
     "data": {
      "text/plain": [
       "'0 0600420-20.2018.6.00.0000| PC - Embargos de De 1 0600448-63.2020.6.05.0166| AREspE - Agravo Reg 2 0000452-62.2016.6.25.0028| REspEl - Agravo Reg 3 0600738-86.2020.6.14.0050| AREspE - Agravo Reg 4 0600208-57.2022.6.00.0000| TutAntAnt - Agravo   84749 0002952-17.1998.6.00.0000| MS nº 301 - SP| Acó 84750 0000283-25.1997.6.00.0000| RESPE nº 561 - MG|  84751 RESPE nº 1873 - GO| Acórdão nº 934 de 30/10/05 84752 AR nº 901| Acórdão nº 5555 de 10/09/0457| 84753 PA nº 0| Resolução nº 101 de 02/08/0453| Name: info_gerais, Ementa: 0 EMBARGOS DE DECLARAÇÃO. PRESTAÇÃO DE CONTAS. P 1 ELEIÇÕES 2020. AGRAVO REGIMENTAL. AGRAVO. RECU 2 AGRAVO INTERNO. RECURSOS ESPECIAIS. ELEIÇÕES 2 3 AGRAVO INTERNO. AGRAVO. RECURSO ESPECIAL ELEIT 4 ELEIÇÕES 2020. AGRAVO REGIMENTAL. TUTELA CAUTE  84749  84750  84751  84752  84753  Name: Ementa:, Decisão: 0 O Tribunal, por uimidade, acolheu parcialme 1 O Tribunal, por uimidade, negou provimento  2  3  4 O Tribunal, por uimidade, negou provimento   84749 Prejudicialidade Perda Motivo Interposição 84750 Diploma Expedição Inelegibilidade Superveni 84751 Eleição suplementar Voto Contagem Recurso  84752  84753  Name: Decisão:, Ementa: 0 PARTE: CIDADANIA (CIDADANIA) - NACIONALAdvogad 1 PARTE: A COLIGAÇÃO RUMO NOVO COM A FORÇA DO PO 2  3  4 PARTE: ADEMIR DOMINGOS MIOTTOAdvogado(a): MATH  84749  84750  84751  84752  84753  Name: Partes:'"
      ]
     },
     "execution_count": 18,
     "metadata": {},
     "output_type": "execute_result"
    }
   ],
   "source": [
    "df['text'][23]"
   ]
  },
  {
   "cell_type": "code",
   "execution_count": 1,
   "id": "8f6f694c",
   "metadata": {},
   "outputs": [
    {
     "name": "stderr",
     "output_type": "stream",
     "text": [
      "C:\\Users\\fabry\\AppData\\Roaming\\Python\\Python311\\site-packages\\pandas\\core\\arrays\\masked.py:60: UserWarning: Pandas requires version '1.3.6' or newer of 'bottleneck' (version '1.3.5' currently installed).\n",
      "  from pandas.core import (\n"
     ]
    }
   ],
   "source": [
    "import pandas as pd"
   ]
  },
  {
   "cell_type": "code",
   "execution_count": 8,
   "id": "e3846838",
   "metadata": {},
   "outputs": [],
   "source": [
    "vitor_p6_pp = pd.DataFrame()"
   ]
  },
  {
   "cell_type": "code",
   "execution_count": 9,
   "id": "233e2396",
   "metadata": {},
   "outputs": [],
   "source": [
    "vitor_p6_pp['text'] = df['text']"
   ]
  },
  {
   "cell_type": "code",
   "execution_count": 10,
   "id": "e186c7c8",
   "metadata": {},
   "outputs": [
    {
     "data": {
      "text/html": [
       "<div>\n",
       "<style scoped>\n",
       "    .dataframe tbody tr th:only-of-type {\n",
       "        vertical-align: middle;\n",
       "    }\n",
       "\n",
       "    .dataframe tbody tr th {\n",
       "        vertical-align: top;\n",
       "    }\n",
       "\n",
       "    .dataframe thead th {\n",
       "        text-align: right;\n",
       "    }\n",
       "</style>\n",
       "<table border=\"1\" class=\"dataframe\">\n",
       "  <thead>\n",
       "    <tr style=\"text-align: right;\">\n",
       "      <th></th>\n",
       "      <th>text</th>\n",
       "    </tr>\n",
       "  </thead>\n",
       "  <tbody>\n",
       "    <tr>\n",
       "      <th>0</th>\n",
       "      <td>{\"supremo tribunal federal ofício brasília de ...</td>\n",
       "    </tr>\n",
       "    <tr>\n",
       "      <th>1</th>\n",
       "      <td>{\"processo termo remessa tendo vista disposto ...</td>\n",
       "    </tr>\n",
       "    <tr>\n",
       "      <th>2</th>\n",
       "      <td>{\"supremo tribunal federal ofício brasília de ...</td>\n",
       "    </tr>\n",
       "    <tr>\n",
       "      <th>3</th>\n",
       "      <td>{\"ac j d c r a fls setírèíalia popgp _ agravo ...</td>\n",
       "    </tr>\n",
       "    <tr>\n",
       "      <th>4</th>\n",
       "      <td>{\"agram riom apelação utwt ttdzfê wíwf hio bra...</td>\n",
       "    </tr>\n",
       "    <tr>\n",
       "      <th>...</th>\n",
       "      <td>...</td>\n",
       "    </tr>\n",
       "    <tr>\n",
       "      <th>94730</th>\n",
       "      <td>{\"supremo tribunal federal secretaria judiciár...</td>\n",
       "    </tr>\n",
       "    <tr>\n",
       "      <th>94731</th>\n",
       "      <td>{\"brasília de julho coordenadoria processament...</td>\n",
       "    </tr>\n",
       "    <tr>\n",
       "      <th>94732</th>\n",
       "      <td>{\"supremo tribunal federal recurso extraordiná...</td>\n",
       "    </tr>\n",
       "    <tr>\n",
       "      <th>94733</th>\n",
       "      <td>{\"seção recursos extraordinários mandado intim...</td>\n",
       "    </tr>\n",
       "    <tr>\n",
       "      <th>94734</th>\n",
       "      <td>{\"supremo tribunal federal secretaria judiciár...</td>\n",
       "    </tr>\n",
       "  </tbody>\n",
       "</table>\n",
       "<p>94735 rows × 1 columns</p>\n",
       "</div>"
      ],
      "text/plain": [
       "                                                    text\n",
       "0      {\"supremo tribunal federal ofício brasília de ...\n",
       "1      {\"processo termo remessa tendo vista disposto ...\n",
       "2      {\"supremo tribunal federal ofício brasília de ...\n",
       "3      {\"ac j d c r a fls setírèíalia popgp _ agravo ...\n",
       "4      {\"agram riom apelação utwt ttdzfê wíwf hio bra...\n",
       "...                                                  ...\n",
       "94730  {\"supremo tribunal federal secretaria judiciár...\n",
       "94731  {\"brasília de julho coordenadoria processament...\n",
       "94732  {\"supremo tribunal federal recurso extraordiná...\n",
       "94733  {\"seção recursos extraordinários mandado intim...\n",
       "94734  {\"supremo tribunal federal secretaria judiciár...\n",
       "\n",
       "[94735 rows x 1 columns]"
      ]
     },
     "execution_count": 10,
     "metadata": {},
     "output_type": "execute_result"
    }
   ],
   "source": [
    "vitor_p6_pp"
   ]
  },
  {
   "cell_type": "code",
   "execution_count": 11,
   "id": "3891974a",
   "metadata": {},
   "outputs": [
    {
     "data": {
      "text/plain": [
       "'{\"agram riom apelação utwt ttdzfê wíwf hio branco e a ó i desembargadora miracele souza lopes borges relatora banco cruzeiro sul a inconformado com decisão nocráíica que deu provimento apelação cível contra ele interposta por álvaro monteiro dos santos interpõe agravo interno nos termos dos ARTIGO_557 código processo civil alega banco resumo que r sentença não está confronto com jurisprudência dos tribunais superiores pois sendo ações repetitivas mesmas com portam julgamento antecipado lide alega ainda que não matéria ser discutida grau apelação tendo vista que mesmas tratam questões unicamente direito já foram ampla mente discutidas julgadas pelo superior tribunal justiça pelo supremo tribunal fede ral pondera por outro lado que r sentença não violou ARTIGO_285 cpc pois sendo ações repetitivas mesmas comportam julgamento antecipado lide aduz por outro lado que juros cobrados pelo banco estão dentro das taxas médias praticadas pelo mercado pois as partes livremente pactuaram capitali zação mensal juros ato assinatura contrato estando ciente das suas cláusulas não pode falar abusividade por parte instituição anexo tribunal justiça avenida ceará bairro abrahão alab cep telefone EMAIL\"}'"
      ]
     },
     "execution_count": 11,
     "metadata": {},
     "output_type": "execute_result"
    }
   ],
   "source": [
    "vitor_p6_pp.text[4]"
   ]
  },
  {
   "cell_type": "code",
   "execution_count": 2,
   "id": "3c6ac976",
   "metadata": {},
   "outputs": [],
   "source": [
    "save_to = \"D:\\\\dados-juridicos\\\\brutos\\\\victor\\\\\""
   ]
  },
  {
   "cell_type": "code",
   "execution_count": 13,
   "id": "af165bd7",
   "metadata": {},
   "outputs": [],
   "source": [
    "# Salve o dataframe atualizado em um novo arquivo\n",
    "vitor_p6_pp.to_csv(f'{save_to}validation_small_pp.csv', index=False)  # Substitua pelo nome desejado para o novo arquivo"
   ]
  },
  {
   "cell_type": "code",
   "execution_count": 14,
   "id": "b0319126",
   "metadata": {},
   "outputs": [
    {
     "data": {
      "text/plain": [
       "'{\"ministério fazenda procuradoria geral fazenda nacional procuradoria regional fazenda nacional região colendo supremo tribunal federal ilustres senhores ministros breve histórico trata de recurso extraordinário interposto pela união fazenda nacional com fulcro ARTIGO_102 iii alínea constituição federal contra acórdão turma recursal juizado especial federal que concluiu pela inexigibilidade contribuição previdenciária pss sobre cinquenta por cento gdpst raciocínio oposto decidido pelo supremo tribunal federal adi relativo aposentadorias pensões quanto possibilidade contribuição compulsória sistema previdenciário sem necessidade contraprestação pelo recebimento benefício previdenciário caso dos servidores ativos consoante previsão ARTIGO_40 caput constituição federal redação dada pela emenda constitucional fato conforme observa dos fundamentos resumidamente expostos ementa julgado desenvolvidos voto condutor acórdão mesmo entendeu que apesar já ter supremo tribunal federal concluído ser constitucional regime ec instituir contribuição dos inativos pensionistas tão somente para financiamento sistema sem que isto lhes confira obtenção benefício previdenciário correspondente adi turma recursal entendeu que tal orientação não aplicaria relação aos servidores ativos\"}'"
      ]
     },
     "execution_count": 14,
     "metadata": {},
     "output_type": "execute_result"
    }
   ],
   "source": [
    "df_vitor_p6_pp = pd.read_csv(f'{save_to}validation_small_pp.csv')\n",
    "df_vitor_p6_pp.text[1000]"
   ]
  },
  {
   "cell_type": "code",
   "execution_count": 3,
   "id": "5e8df18e",
   "metadata": {},
   "outputs": [],
   "source": [
    "##Juntando as partes preprocessadas\n",
    "p1 = pd.read_csv(f'{save_to}test_medium_pp.csv')\n",
    "p2 = pd.read_csv(f'{save_to}test_small_pp.csv')\n",
    "p3 = pd.read_csv(f'{save_to}train_medium_pp.csv')\n",
    "p4 = pd.read_csv(f'{save_to}train_small_pp.csv')\n",
    "p5 = pd.read_csv(f'{save_to}validation_medium_pp.csv')\n",
    "p6 = pd.read_csv(f'{save_to}validation_small_pp.csv')"
   ]
  },
  {
   "cell_type": "code",
   "execution_count": 4,
   "id": "212caa6e",
   "metadata": {},
   "outputs": [
    {
     "name": "stdout",
     "output_type": "stream",
     "text": [
      "Arquivo 'victor.csv' criado com sucesso!\n"
     ]
    }
   ],
   "source": [
    "# Concatenando os dataframes verticalmente\n",
    "df_combined = pd.concat([p1, p2, p3, p4, p5, p6], ignore_index=True)\n",
    "save_to = \"D:\\\\dados-juridicos\\\\pp\\\\\"\n",
    "df_combined.to_csv(f'{save_to}victor_pp.csv', index=False)\n",
    "\n",
    "print(\"Arquivo 'victor.csv' criado com sucesso!\")"
   ]
  },
  {
   "cell_type": "code",
   "execution_count": 5,
   "id": "53a14276",
   "metadata": {},
   "outputs": [
    {
     "data": {
      "text/html": [
       "<div>\n",
       "<style scoped>\n",
       "    .dataframe tbody tr th:only-of-type {\n",
       "        vertical-align: middle;\n",
       "    }\n",
       "\n",
       "    .dataframe tbody tr th {\n",
       "        vertical-align: top;\n",
       "    }\n",
       "\n",
       "    .dataframe thead th {\n",
       "        text-align: right;\n",
       "    }\n",
       "</style>\n",
       "<table border=\"1\" class=\"dataframe\">\n",
       "  <thead>\n",
       "    <tr style=\"text-align: right;\">\n",
       "      <th></th>\n",
       "      <th>text</th>\n",
       "    </tr>\n",
       "  </thead>\n",
       "  <tbody>\n",
       "    <tr>\n",
       "      <th>0</th>\n",
       "      <td>{\"agravo instrumento rio grande sul relator mi...</td>\n",
       "    </tr>\n",
       "    <tr>\n",
       "      <th>1</th>\n",
       "      <td>{\"supremo tribunal federal decisão sobre reper...</td>\n",
       "    </tr>\n",
       "    <tr>\n",
       "      <th>2</th>\n",
       "      <td>{\"supremo tribunal federal ementa sobre reperc...</td>\n",
       "    </tr>\n",
       "    <tr>\n",
       "      <th>3</th>\n",
       "      <td>{\"supremo tribunal federal manifestação sobre ...</td>\n",
       "    </tr>\n",
       "    <tr>\n",
       "      <th>4</th>\n",
       "      <td>{\"supremo tribunal federal manifestação sobre ...</td>\n",
       "    </tr>\n",
       "    <tr>\n",
       "      <th>...</th>\n",
       "      <td>...</td>\n",
       "    </tr>\n",
       "    <tr>\n",
       "      <th>2426372</th>\n",
       "      <td>{\"supremo tribunal federal secretaria judiciár...</td>\n",
       "    </tr>\n",
       "    <tr>\n",
       "      <th>2426373</th>\n",
       "      <td>{\"brasília de julho coordenadoria processament...</td>\n",
       "    </tr>\n",
       "    <tr>\n",
       "      <th>2426374</th>\n",
       "      <td>{\"supremo tribunal federal recurso extraordiná...</td>\n",
       "    </tr>\n",
       "    <tr>\n",
       "      <th>2426375</th>\n",
       "      <td>{\"seção recursos extraordinários mandado intim...</td>\n",
       "    </tr>\n",
       "    <tr>\n",
       "      <th>2426376</th>\n",
       "      <td>{\"supremo tribunal federal secretaria judiciár...</td>\n",
       "    </tr>\n",
       "  </tbody>\n",
       "</table>\n",
       "<p>2426377 rows × 1 columns</p>\n",
       "</div>"
      ],
      "text/plain": [
       "                                                      text\n",
       "0        {\"agravo instrumento rio grande sul relator mi...\n",
       "1        {\"supremo tribunal federal decisão sobre reper...\n",
       "2        {\"supremo tribunal federal ementa sobre reperc...\n",
       "3        {\"supremo tribunal federal manifestação sobre ...\n",
       "4        {\"supremo tribunal federal manifestação sobre ...\n",
       "...                                                    ...\n",
       "2426372  {\"supremo tribunal federal secretaria judiciár...\n",
       "2426373  {\"brasília de julho coordenadoria processament...\n",
       "2426374  {\"supremo tribunal federal recurso extraordiná...\n",
       "2426375  {\"seção recursos extraordinários mandado intim...\n",
       "2426376  {\"supremo tribunal federal secretaria judiciár...\n",
       "\n",
       "[2426377 rows x 1 columns]"
      ]
     },
     "execution_count": 5,
     "metadata": {},
     "output_type": "execute_result"
    }
   ],
   "source": [
    "vitor = pd.read_csv(f'{save_to}victor_pp.csv')\n",
    "vitor"
   ]
  }
 ],
 "metadata": {
  "kernelspec": {
   "display_name": "Python 3 (ipykernel)",
   "language": "python",
   "name": "python3"
  },
  "language_info": {
   "codemirror_mode": {
    "name": "ipython",
    "version": 3
   },
   "file_extension": ".py",
   "mimetype": "text/x-python",
   "name": "python",
   "nbconvert_exporter": "python",
   "pygments_lexer": "ipython3",
   "version": "3.11.5"
  }
 },
 "nbformat": 4,
 "nbformat_minor": 5
}
