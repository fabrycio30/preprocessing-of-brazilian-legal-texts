{
 "cells": [
  {
   "cell_type": "code",
   "execution_count": 1,
   "id": "5c5d93de",
   "metadata": {},
   "outputs": [],
   "source": [
    "path = \"D:\\\\dados-juridicos\\\\brutos\\\\jjf\\\\\""
   ]
  },
  {
   "cell_type": "code",
   "execution_count": 2,
   "id": "0384af48",
   "metadata": {},
   "outputs": [
    {
     "name": "stderr",
     "output_type": "stream",
     "text": [
      "C:\\Users\\fabry\\AppData\\Roaming\\Python\\Python311\\site-packages\\pandas\\core\\arrays\\masked.py:60: UserWarning: Pandas requires version '1.3.6' or newer of 'bottleneck' (version '1.3.5' currently installed).\n",
      "  from pandas.core import (\n"
     ]
    }
   ],
   "source": [
    "import pandas as pd"
   ]
  },
  {
   "cell_type": "code",
   "execution_count": 3,
   "id": "9e0582c4",
   "metadata": {},
   "outputs": [],
   "source": [
    "colunas_desejadas = ['Origem', 'Ementa', 'Fonte_da_publicacao']"
   ]
  },
  {
   "cell_type": "code",
   "execution_count": 5,
   "id": "ce960849",
   "metadata": {
    "scrolled": true
   },
   "outputs": [
    {
     "data": {
      "text/html": [
       "<div>\n",
       "<style scoped>\n",
       "    .dataframe tbody tr th:only-of-type {\n",
       "        vertical-align: middle;\n",
       "    }\n",
       "\n",
       "    .dataframe tbody tr th {\n",
       "        vertical-align: top;\n",
       "    }\n",
       "\n",
       "    .dataframe thead th {\n",
       "        text-align: right;\n",
       "    }\n",
       "</style>\n",
       "<table border=\"1\" class=\"dataframe\">\n",
       "  <thead>\n",
       "    <tr style=\"text-align: right;\">\n",
       "      <th></th>\n",
       "      <th>Origem</th>\n",
       "      <th>Fonte_da_publicacao</th>\n",
       "      <th>Ementa</th>\n",
       "    </tr>\n",
       "  </thead>\n",
       "  <tbody>\n",
       "    <tr>\n",
       "      <th>0</th>\n",
       "      <td>4ª Turma</td>\n",
       "      <td>E M E N T APROCESSUAL CIVIL. TRIBUTÁRIO.  COFI...</td>\n",
       "      <td>PODER JUDICIÁRIO Nº RELATOR: OUTROS PARTICIPAN...</td>\n",
       "    </tr>\n",
       "    <tr>\n",
       "      <th>1</th>\n",
       "      <td>4ª Turma</td>\n",
       "      <td>E M E N T APROCESSUAL CIVIL. TRIBUTÁRIO. PARCE...</td>\n",
       "      <td>PODER JUDICIÁRIO Nº RELATOR: OUTROS PARTICIPAN...</td>\n",
       "    </tr>\n",
       "    <tr>\n",
       "      <th>2</th>\n",
       "      <td>1ª Turma</td>\n",
       "      <td>E M E N T ADIREITO PROCESSUAL CIVIL. CONTRIBUI...</td>\n",
       "      <td>PODER JUDICIÁRIOTribunal Regional Federal da 3...</td>\n",
       "    </tr>\n",
       "    <tr>\n",
       "      <th>3</th>\n",
       "      <td>1ª Turma</td>\n",
       "      <td>E M E N T ADIREITO PROCESSUAL CIVIL. CONTRIBUI...</td>\n",
       "      <td>PODER JUDICIÁRIOTribunal Regional Federal da 3...</td>\n",
       "    </tr>\n",
       "    <tr>\n",
       "      <th>4</th>\n",
       "      <td>1ª Turma</td>\n",
       "      <td>E M E N T ADIREITO PROCESSUAL CIVIL. CONTRIBUI...</td>\n",
       "      <td>PODER JUDICIÁRIOTribunal Regional Federal da 3...</td>\n",
       "    </tr>\n",
       "    <tr>\n",
       "      <th>...</th>\n",
       "      <td>...</td>\n",
       "      <td>...</td>\n",
       "      <td>...</td>\n",
       "    </tr>\n",
       "    <tr>\n",
       "      <th>399995</th>\n",
       "      <td>TRF - TERCEIRA REGIÃO</td>\n",
       "      <td>DJEN DATA: 17/08/2022..FONTE_PUBLICACAO1:..FON...</td>\n",
       "      <td>E M E N T A DIREITO CIVIL. AGRAVO DE INSTRUMEN...</td>\n",
       "    </tr>\n",
       "    <tr>\n",
       "      <th>399996</th>\n",
       "      <td>1ª Turma</td>\n",
       "      <td>E M E N T A DIREITO CIVIL E PROCESSUAL CIVIL. ...</td>\n",
       "      <td>PODER JUDICIÁRIOTribunal Regional Federal da 3...</td>\n",
       "    </tr>\n",
       "    <tr>\n",
       "      <th>399997</th>\n",
       "      <td>TRF - TERCEIRA REGIÃO</td>\n",
       "      <td>DJEN DATA: 16/08/2022..FONTE_PUBLICACAO1:..FON...</td>\n",
       "      <td>E M E N T A  AGRAVO DE INSTRUMENTO. EXECUÇÃO F...</td>\n",
       "    </tr>\n",
       "    <tr>\n",
       "      <th>399998</th>\n",
       "      <td>TRF - TERCEIRA REGIÃO</td>\n",
       "      <td>DJEN DATA: 17/08/2022..FONTE_PUBLICACAO1:..FON...</td>\n",
       "      <td>E M E N T A AGRAVO DE INSTRUMENTO. VÍCIOS DE C...</td>\n",
       "    </tr>\n",
       "    <tr>\n",
       "      <th>399999</th>\n",
       "      <td>2ª Turma</td>\n",
       "      <td>E M E N T AAGRAVO DE INSTRUMENTO. CUMPRIMENTO ...</td>\n",
       "      <td>PODER JUDICIÁRIOTribunal Regional Federal da 3...</td>\n",
       "    </tr>\n",
       "  </tbody>\n",
       "</table>\n",
       "<p>400000 rows × 3 columns</p>\n",
       "</div>"
      ],
      "text/plain": [
       "                       Origem  \\\n",
       "0                    4ª Turma   \n",
       "1                    4ª Turma   \n",
       "2                    1ª Turma   \n",
       "3                    1ª Turma   \n",
       "4                    1ª Turma   \n",
       "...                       ...   \n",
       "399995  TRF - TERCEIRA REGIÃO   \n",
       "399996               1ª Turma   \n",
       "399997  TRF - TERCEIRA REGIÃO   \n",
       "399998  TRF - TERCEIRA REGIÃO   \n",
       "399999               2ª Turma   \n",
       "\n",
       "                                      Fonte_da_publicacao  \\\n",
       "0       E M E N T APROCESSUAL CIVIL. TRIBUTÁRIO.  COFI...   \n",
       "1       E M E N T APROCESSUAL CIVIL. TRIBUTÁRIO. PARCE...   \n",
       "2       E M E N T ADIREITO PROCESSUAL CIVIL. CONTRIBUI...   \n",
       "3       E M E N T ADIREITO PROCESSUAL CIVIL. CONTRIBUI...   \n",
       "4       E M E N T ADIREITO PROCESSUAL CIVIL. CONTRIBUI...   \n",
       "...                                                   ...   \n",
       "399995  DJEN DATA: 17/08/2022..FONTE_PUBLICACAO1:..FON...   \n",
       "399996  E M E N T A DIREITO CIVIL E PROCESSUAL CIVIL. ...   \n",
       "399997  DJEN DATA: 16/08/2022..FONTE_PUBLICACAO1:..FON...   \n",
       "399998  DJEN DATA: 17/08/2022..FONTE_PUBLICACAO1:..FON...   \n",
       "399999  E M E N T AAGRAVO DE INSTRUMENTO. CUMPRIMENTO ...   \n",
       "\n",
       "                                                   Ementa  \n",
       "0       PODER JUDICIÁRIO Nº RELATOR: OUTROS PARTICIPAN...  \n",
       "1       PODER JUDICIÁRIO Nº RELATOR: OUTROS PARTICIPAN...  \n",
       "2       PODER JUDICIÁRIOTribunal Regional Federal da 3...  \n",
       "3       PODER JUDICIÁRIOTribunal Regional Federal da 3...  \n",
       "4       PODER JUDICIÁRIOTribunal Regional Federal da 3...  \n",
       "...                                                   ...  \n",
       "399995  E M E N T A DIREITO CIVIL. AGRAVO DE INSTRUMEN...  \n",
       "399996  PODER JUDICIÁRIOTribunal Regional Federal da 3...  \n",
       "399997  E M E N T A  AGRAVO DE INSTRUMENTO. EXECUÇÃO F...  \n",
       "399998  E M E N T A AGRAVO DE INSTRUMENTO. VÍCIOS DE C...  \n",
       "399999  PODER JUDICIÁRIOTribunal Regional Federal da 3...  \n",
       "\n",
       "[400000 rows x 3 columns]"
      ]
     },
     "execution_count": 5,
     "metadata": {},
     "output_type": "execute_result"
    }
   ],
   "source": [
    "df = pd.read_csv(f'{path}dadosJF_parte_2.csv.aspx',  usecols=colunas_desejadas, nrows=400000) ##778575\n",
    "df"
   ]
  },
  {
   "cell_type": "code",
   "execution_count": 10,
   "id": "83e5741c",
   "metadata": {},
   "outputs": [],
   "source": [
    "# Carregue as amostras restantes\n",
    "df_ = pd.read_csv(f'{path}dadosJF_parte_2.csv.aspx', skiprows=range(1,400000)) #usecols=colunas_desejadas,"
   ]
  },
  {
   "cell_type": "code",
   "execution_count": 11,
   "id": "f8869aa0",
   "metadata": {},
   "outputs": [
    {
     "data": {
      "text/html": [
       "<div>\n",
       "<style scoped>\n",
       "    .dataframe tbody tr th:only-of-type {\n",
       "        vertical-align: middle;\n",
       "    }\n",
       "\n",
       "    .dataframe tbody tr th {\n",
       "        vertical-align: top;\n",
       "    }\n",
       "\n",
       "    .dataframe thead th {\n",
       "        text-align: right;\n",
       "    }\n",
       "</style>\n",
       "<table border=\"1\" class=\"dataframe\">\n",
       "  <thead>\n",
       "    <tr style=\"text-align: right;\">\n",
       "      <th></th>\n",
       "      <th>Unnamed: 0.3</th>\n",
       "      <th>Unnamed: 0</th>\n",
       "      <th>Tipo</th>\n",
       "      <th>Numero</th>\n",
       "      <th>Classe</th>\n",
       "      <th>Relator(a)</th>\n",
       "      <th>Relator_para_acordao</th>\n",
       "      <th>Origem</th>\n",
       "      <th>Orgao_julgador</th>\n",
       "      <th>Data</th>\n",
       "      <th>Data_da_publicacao</th>\n",
       "      <th>Fonte_da_publicacao</th>\n",
       "      <th>Decisao</th>\n",
       "      <th>Ementa</th>\n",
       "      <th>Unnamed: 0.2</th>\n",
       "      <th>Unnamed: 0.1</th>\n",
       "    </tr>\n",
       "  </thead>\n",
       "  <tbody>\n",
       "    <tr>\n",
       "      <th>0</th>\n",
       "      <td>NaN</td>\n",
       "      <td>17406.0</td>\n",
       "      <td>Acórdão</td>\n",
       "      <td>5012101-95.2019.4.03.0000..PROCESSO_ANTIGO:..P...</td>\n",
       "      <td>AGRAVO DE INSTRUMENTO..SIGLA_CLASSE:AI</td>\n",
       "      <td>Desembargador Federal OTAVIO PEIXOTO JUNIOR</td>\n",
       "      <td>TRF - TERCEIRA REGIÃO</td>\n",
       "      <td>2ª Turma</td>\n",
       "      <td>29/06/2022</td>\n",
       "      <td>17/08/2022</td>\n",
       "      <td>DJEN DATA: 17/08/2022..FONTE_PUBLICACAO1:..FON...</td>\n",
       "      <td>E M E N T AAGRAVO DE INSTRUMENTO. CUMPRIMENTO ...</td>\n",
       "      <td>VIDE EMENTA</td>\n",
       "      <td>PODER JUDICIÁRIOTribunal Regional Federal da 3...</td>\n",
       "      <td>NaN</td>\n",
       "      <td>17406.0</td>\n",
       "    </tr>\n",
       "    <tr>\n",
       "      <th>1</th>\n",
       "      <td>NaN</td>\n",
       "      <td>17407.0</td>\n",
       "      <td>Acórdão</td>\n",
       "      <td>5025150-09.2019.4.03.0000..PROCESSO_ANTIGO:..P...</td>\n",
       "      <td>DESAFORAMENTO DE JULGAMENTO..SIGLA_CLASSE:</td>\n",
       "      <td>Desembargador Federal FAUSTO MARTIN DE SANCTIS</td>\n",
       "      <td>TRF - TERCEIRA REGIÃO</td>\n",
       "      <td>11ª Turma</td>\n",
       "      <td>06/06/2022</td>\n",
       "      <td>12/08/2022</td>\n",
       "      <td>Intimação via sistema DATA: 12/08/2022..FONTE_...</td>\n",
       "      <td>E M E N T A PROCESSO PENAL. DESAFORAMENTO - AR...</td>\n",
       "      <td>VIDE EMENTA</td>\n",
       "      <td>PODER JUDICIÁRIOTribunal Regional Federal da 3...</td>\n",
       "      <td>NaN</td>\n",
       "      <td>17407.0</td>\n",
       "    </tr>\n",
       "    <tr>\n",
       "      <th>2</th>\n",
       "      <td>NaN</td>\n",
       "      <td>17408.0</td>\n",
       "      <td>Acórdão</td>\n",
       "      <td>5005561-10.2018.4.03.6000..PROCESSO_ANTIGO:..P...</td>\n",
       "      <td>REMESSA NECESSÁRIA CÍVEL..SIGLA_CLASSE:RemNecCiv</td>\n",
       "      <td>Desembargador Federal OTAVIO PEIXOTO JUNIOR</td>\n",
       "      <td>TRF - TERCEIRA REGIÃO</td>\n",
       "      <td>2ª Turma</td>\n",
       "      <td>01/07/2022</td>\n",
       "      <td>16/08/2022</td>\n",
       "      <td>Intimação via sistema DATA: 16/08/2022..FONTE_...</td>\n",
       "      <td>E M E N T AMANDADO DE SEGURANÇA. MILITAR. LICE...</td>\n",
       "      <td>VIDE EMENTA</td>\n",
       "      <td>PODER JUDICIÁRIOTribunal Regional Federal da 3...</td>\n",
       "      <td>NaN</td>\n",
       "      <td>17408.0</td>\n",
       "    </tr>\n",
       "    <tr>\n",
       "      <th>3</th>\n",
       "      <td>NaN</td>\n",
       "      <td>17409.0</td>\n",
       "      <td>Acórdão</td>\n",
       "      <td>5011552-85.2019.4.03.0000..PROCESSO_ANTIGO:..P...</td>\n",
       "      <td>AGRAVO DE INSTRUMENTO..SIGLA_CLASSE:AI</td>\n",
       "      <td>Desembargador Federal OTAVIO PEIXOTO JUNIOR</td>\n",
       "      <td>TRF - TERCEIRA REGIÃO</td>\n",
       "      <td>2ª Turma</td>\n",
       "      <td>29/06/2022</td>\n",
       "      <td>17/08/2022</td>\n",
       "      <td>DJEN DATA: 17/08/2022..FONTE_PUBLICACAO1:..FON...</td>\n",
       "      <td>E M E N T AAGRAVO DE INSTRUMENTO. CUMPRIMENTO ...</td>\n",
       "      <td>VIDE EMENTA</td>\n",
       "      <td>PODER JUDICIÁRIOTribunal Regional Federal da 3...</td>\n",
       "      <td>NaN</td>\n",
       "      <td>17409.0</td>\n",
       "    </tr>\n",
       "    <tr>\n",
       "      <th>4</th>\n",
       "      <td>NaN</td>\n",
       "      <td>17410.0</td>\n",
       "      <td>Acórdão</td>\n",
       "      <td>5004331-80.2021.4.03.0000..PROCESSO_ANTIGO:..P...</td>\n",
       "      <td>AGRAVO DE INSTRUMENTO..SIGLA_CLASSE:AI</td>\n",
       "      <td>Desembargador Federal OTAVIO PEIXOTO JUNIOR</td>\n",
       "      <td>TRF - TERCEIRA REGIÃO</td>\n",
       "      <td>2ª Turma</td>\n",
       "      <td>01/07/2022</td>\n",
       "      <td>16/08/2022</td>\n",
       "      <td>DJEN DATA: 16/08/2022..FONTE_PUBLICACAO1:..FON...</td>\n",
       "      <td>E M E N T AAGRAVO DE INSTRUMENTO.  AÇÃO COLETI...</td>\n",
       "      <td>VIDE EMENTA</td>\n",
       "      <td>PODER JUDICIÁRIOTribunal Regional Federal da 3...</td>\n",
       "      <td>NaN</td>\n",
       "      <td>17410.0</td>\n",
       "    </tr>\n",
       "    <tr>\n",
       "      <th>...</th>\n",
       "      <td>...</td>\n",
       "      <td>...</td>\n",
       "      <td>...</td>\n",
       "      <td>...</td>\n",
       "      <td>...</td>\n",
       "      <td>...</td>\n",
       "      <td>...</td>\n",
       "      <td>...</td>\n",
       "      <td>...</td>\n",
       "      <td>...</td>\n",
       "      <td>...</td>\n",
       "      <td>...</td>\n",
       "      <td>...</td>\n",
       "      <td>...</td>\n",
       "      <td>...</td>\n",
       "      <td>...</td>\n",
       "    </tr>\n",
       "    <tr>\n",
       "      <th>378571</th>\n",
       "      <td>NaN</td>\n",
       "      <td>45322.0</td>\n",
       "      <td>Acórdão</td>\n",
       "      <td>0000208-69.2021.4.03.9201..PROCESSO_ANTIGO:..P...</td>\n",
       "      <td>PETIÇÃO CRIMINAL..SIGLA_CLASSE:PetCrim</td>\n",
       "      <td>Juiz Federal MONIQUE MARCHIOLI LEITE</td>\n",
       "      <td>TRF - TERCEIRA REGIÃO</td>\n",
       "      <td>2ª Turma Recursal da Seção Judiciária de Mato ...</td>\n",
       "      <td>26/04/2022</td>\n",
       "      <td>29/08/2022</td>\n",
       "      <td>DJEN DATA: 29/08/2022..FONTE_PUBLICACAO1:..FON...</td>\n",
       "      <td>E M E N T APENAL. CULPABILIDADE. DOLO. COMUNIC...</td>\n",
       "      <td>VIDE EMENTA</td>\n",
       "      <td>PODER JUDICIÁRIOTurmas Recursais dos Juizados ...</td>\n",
       "      <td>NaN</td>\n",
       "      <td>NaN</td>\n",
       "    </tr>\n",
       "    <tr>\n",
       "      <th>378572</th>\n",
       "      <td>NaN</td>\n",
       "      <td>45323.0</td>\n",
       "      <td>Acórdão</td>\n",
       "      <td>0001472-74.2016.4.03.6137..PROCESSO_ANTIGO:..P...</td>\n",
       "      <td>APELAÇÃO CÍVEL..SIGLA_CLASSE:ApCiv</td>\n",
       "      <td>Desembargador Federal ANDRE NABARRETE NETO</td>\n",
       "      <td>TRF - TERCEIRA REGIÃO</td>\n",
       "      <td>4ª Turma</td>\n",
       "      <td>17/03/2022</td>\n",
       "      <td>01/08/2022</td>\n",
       "      <td>DJEN DATA: 01/08/2022..FONTE_PUBLICACAO1:..FON...</td>\n",
       "      <td>E M E N T APROCESSUAL CIVIL. AÇÃO PELO RITO OR...</td>\n",
       "      <td>VIDE EMENTA</td>\n",
       "      <td>PODER JUDICIÁRIOTribunal Regional Federal da 3...</td>\n",
       "      <td>NaN</td>\n",
       "      <td>NaN</td>\n",
       "    </tr>\n",
       "    <tr>\n",
       "      <th>378573</th>\n",
       "      <td>NaN</td>\n",
       "      <td>45324.0</td>\n",
       "      <td>Acórdão</td>\n",
       "      <td>0003204-78.2016.4.03.6141..PROCESSO_ANTIGO:..P...</td>\n",
       "      <td>APELAÇÃO CÍVEL..SIGLA_CLASSE:ApCiv</td>\n",
       "      <td>Desembargador Federal MARCELO MESQUITA SARAIVA</td>\n",
       "      <td>TRF - TERCEIRA REGIÃO</td>\n",
       "      <td>4ª Turma</td>\n",
       "      <td>04/03/2022</td>\n",
       "      <td>01/08/2022</td>\n",
       "      <td>DJEN DATA: 01/08/2022..FONTE_PUBLICACAO1:..FON...</td>\n",
       "      <td>E M E N T A  CONSTITUCIONAL. TRIBUTÁRIO. PROCE...</td>\n",
       "      <td>VIDE EMENTA</td>\n",
       "      <td>PODER JUDICIÁRIOTribunal Regional Federal da 3...</td>\n",
       "      <td>NaN</td>\n",
       "      <td>NaN</td>\n",
       "    </tr>\n",
       "    <tr>\n",
       "      <th>378574</th>\n",
       "      <td>NaN</td>\n",
       "      <td>45325.0</td>\n",
       "      <td>Acórdão</td>\n",
       "      <td>5001286-50.2017.4.03.6130..PROCESSO_ANTIGO:..P...</td>\n",
       "      <td>APELAÇÃO / REMESSA NECESSÁRIA..SIGLA_CLASSE:Ap...</td>\n",
       "      <td>Desembargador Federal ANDRE NABARRETE NETO</td>\n",
       "      <td>TRF - TERCEIRA REGIÃO</td>\n",
       "      <td>4ª Turma</td>\n",
       "      <td>17/03/2022</td>\n",
       "      <td>01/08/2022</td>\n",
       "      <td>DJEN DATA: 01/08/2022..FONTE_PUBLICACAO1:..FON...</td>\n",
       "      <td>E M E N T ADIREITO PROCESSUAL CIVIL E CONSTITU...</td>\n",
       "      <td>VIDE EMENTA</td>\n",
       "      <td>PODER JUDICIÁRIOTribunal Regional Federal da 3...</td>\n",
       "      <td>NaN</td>\n",
       "      <td>NaN</td>\n",
       "    </tr>\n",
       "    <tr>\n",
       "      <th>378575</th>\n",
       "      <td>NaN</td>\n",
       "      <td>45326.0</td>\n",
       "      <td>Acórdão</td>\n",
       "      <td>0000061-21.2020.4.03.6342..PROCESSO_ANTIGO:..P...</td>\n",
       "      <td>RECURSO INOMINADO CÍVEL..SIGLA_CLASSE:RecInoCiv</td>\n",
       "      <td>Juiz Federal RENATO DE CARVALHO VIANA</td>\n",
       "      <td>TRF - TERCEIRA REGIÃO</td>\n",
       "      <td>12ª Turma Recursal da Seção Judiciária de São ...</td>\n",
       "      <td>28/01/2022</td>\n",
       "      <td>02/08/2022</td>\n",
       "      <td>Intimação via sistema DATA: 02/08/2022..FONTE_...</td>\n",
       "      <td>Dispensada a ementa na forma da lei.</td>\n",
       "      <td>VIDE EMENTA</td>\n",
       "      <td>PODER JUDICIÁRIOTurmas Recursais dos Juizados ...</td>\n",
       "      <td>NaN</td>\n",
       "      <td>NaN</td>\n",
       "    </tr>\n",
       "  </tbody>\n",
       "</table>\n",
       "<p>378576 rows × 16 columns</p>\n",
       "</div>"
      ],
      "text/plain": [
       "        Unnamed: 0.3  Unnamed: 0     Tipo  \\\n",
       "0                NaN     17406.0  Acórdão   \n",
       "1                NaN     17407.0  Acórdão   \n",
       "2                NaN     17408.0  Acórdão   \n",
       "3                NaN     17409.0  Acórdão   \n",
       "4                NaN     17410.0  Acórdão   \n",
       "...              ...         ...      ...   \n",
       "378571           NaN     45322.0  Acórdão   \n",
       "378572           NaN     45323.0  Acórdão   \n",
       "378573           NaN     45324.0  Acórdão   \n",
       "378574           NaN     45325.0  Acórdão   \n",
       "378575           NaN     45326.0  Acórdão   \n",
       "\n",
       "                                                   Numero  \\\n",
       "0       5012101-95.2019.4.03.0000..PROCESSO_ANTIGO:..P...   \n",
       "1       5025150-09.2019.4.03.0000..PROCESSO_ANTIGO:..P...   \n",
       "2       5005561-10.2018.4.03.6000..PROCESSO_ANTIGO:..P...   \n",
       "3       5011552-85.2019.4.03.0000..PROCESSO_ANTIGO:..P...   \n",
       "4       5004331-80.2021.4.03.0000..PROCESSO_ANTIGO:..P...   \n",
       "...                                                   ...   \n",
       "378571  0000208-69.2021.4.03.9201..PROCESSO_ANTIGO:..P...   \n",
       "378572  0001472-74.2016.4.03.6137..PROCESSO_ANTIGO:..P...   \n",
       "378573  0003204-78.2016.4.03.6141..PROCESSO_ANTIGO:..P...   \n",
       "378574  5001286-50.2017.4.03.6130..PROCESSO_ANTIGO:..P...   \n",
       "378575  0000061-21.2020.4.03.6342..PROCESSO_ANTIGO:..P...   \n",
       "\n",
       "                                                   Classe  \\\n",
       "0                  AGRAVO DE INSTRUMENTO..SIGLA_CLASSE:AI   \n",
       "1              DESAFORAMENTO DE JULGAMENTO..SIGLA_CLASSE:   \n",
       "2        REMESSA NECESSÁRIA CÍVEL..SIGLA_CLASSE:RemNecCiv   \n",
       "3                  AGRAVO DE INSTRUMENTO..SIGLA_CLASSE:AI   \n",
       "4                  AGRAVO DE INSTRUMENTO..SIGLA_CLASSE:AI   \n",
       "...                                                   ...   \n",
       "378571             PETIÇÃO CRIMINAL..SIGLA_CLASSE:PetCrim   \n",
       "378572                 APELAÇÃO CÍVEL..SIGLA_CLASSE:ApCiv   \n",
       "378573                 APELAÇÃO CÍVEL..SIGLA_CLASSE:ApCiv   \n",
       "378574  APELAÇÃO / REMESSA NECESSÁRIA..SIGLA_CLASSE:Ap...   \n",
       "378575    RECURSO INOMINADO CÍVEL..SIGLA_CLASSE:RecInoCiv   \n",
       "\n",
       "                                            Relator(a)   Relator_para_acordao  \\\n",
       "0          Desembargador Federal OTAVIO PEIXOTO JUNIOR  TRF - TERCEIRA REGIÃO   \n",
       "1       Desembargador Federal FAUSTO MARTIN DE SANCTIS  TRF - TERCEIRA REGIÃO   \n",
       "2          Desembargador Federal OTAVIO PEIXOTO JUNIOR  TRF - TERCEIRA REGIÃO   \n",
       "3          Desembargador Federal OTAVIO PEIXOTO JUNIOR  TRF - TERCEIRA REGIÃO   \n",
       "4          Desembargador Federal OTAVIO PEIXOTO JUNIOR  TRF - TERCEIRA REGIÃO   \n",
       "...                                                ...                    ...   \n",
       "378571            Juiz Federal MONIQUE MARCHIOLI LEITE  TRF - TERCEIRA REGIÃO   \n",
       "378572      Desembargador Federal ANDRE NABARRETE NETO  TRF - TERCEIRA REGIÃO   \n",
       "378573  Desembargador Federal MARCELO MESQUITA SARAIVA  TRF - TERCEIRA REGIÃO   \n",
       "378574      Desembargador Federal ANDRE NABARRETE NETO  TRF - TERCEIRA REGIÃO   \n",
       "378575           Juiz Federal RENATO DE CARVALHO VIANA  TRF - TERCEIRA REGIÃO   \n",
       "\n",
       "                                                   Origem Orgao_julgador  \\\n",
       "0                                                2ª Turma     29/06/2022   \n",
       "1                                               11ª Turma     06/06/2022   \n",
       "2                                                2ª Turma     01/07/2022   \n",
       "3                                                2ª Turma     29/06/2022   \n",
       "4                                                2ª Turma     01/07/2022   \n",
       "...                                                   ...            ...   \n",
       "378571  2ª Turma Recursal da Seção Judiciária de Mato ...     26/04/2022   \n",
       "378572                                           4ª Turma     17/03/2022   \n",
       "378573                                           4ª Turma     04/03/2022   \n",
       "378574                                           4ª Turma     17/03/2022   \n",
       "378575  12ª Turma Recursal da Seção Judiciária de São ...     28/01/2022   \n",
       "\n",
       "              Data                                 Data_da_publicacao  \\\n",
       "0       17/08/2022  DJEN DATA: 17/08/2022..FONTE_PUBLICACAO1:..FON...   \n",
       "1       12/08/2022  Intimação via sistema DATA: 12/08/2022..FONTE_...   \n",
       "2       16/08/2022  Intimação via sistema DATA: 16/08/2022..FONTE_...   \n",
       "3       17/08/2022  DJEN DATA: 17/08/2022..FONTE_PUBLICACAO1:..FON...   \n",
       "4       16/08/2022  DJEN DATA: 16/08/2022..FONTE_PUBLICACAO1:..FON...   \n",
       "...            ...                                                ...   \n",
       "378571  29/08/2022  DJEN DATA: 29/08/2022..FONTE_PUBLICACAO1:..FON...   \n",
       "378572  01/08/2022  DJEN DATA: 01/08/2022..FONTE_PUBLICACAO1:..FON...   \n",
       "378573  01/08/2022  DJEN DATA: 01/08/2022..FONTE_PUBLICACAO1:..FON...   \n",
       "378574  01/08/2022  DJEN DATA: 01/08/2022..FONTE_PUBLICACAO1:..FON...   \n",
       "378575  02/08/2022  Intimação via sistema DATA: 02/08/2022..FONTE_...   \n",
       "\n",
       "                                      Fonte_da_publicacao      Decisao  \\\n",
       "0       E M E N T AAGRAVO DE INSTRUMENTO. CUMPRIMENTO ...  VIDE EMENTA   \n",
       "1       E M E N T A PROCESSO PENAL. DESAFORAMENTO - AR...  VIDE EMENTA   \n",
       "2       E M E N T AMANDADO DE SEGURANÇA. MILITAR. LICE...  VIDE EMENTA   \n",
       "3       E M E N T AAGRAVO DE INSTRUMENTO. CUMPRIMENTO ...  VIDE EMENTA   \n",
       "4       E M E N T AAGRAVO DE INSTRUMENTO.  AÇÃO COLETI...  VIDE EMENTA   \n",
       "...                                                   ...          ...   \n",
       "378571  E M E N T APENAL. CULPABILIDADE. DOLO. COMUNIC...  VIDE EMENTA   \n",
       "378572  E M E N T APROCESSUAL CIVIL. AÇÃO PELO RITO OR...  VIDE EMENTA   \n",
       "378573  E M E N T A  CONSTITUCIONAL. TRIBUTÁRIO. PROCE...  VIDE EMENTA   \n",
       "378574  E M E N T ADIREITO PROCESSUAL CIVIL E CONSTITU...  VIDE EMENTA   \n",
       "378575               Dispensada a ementa na forma da lei.  VIDE EMENTA   \n",
       "\n",
       "                                                   Ementa  Unnamed: 0.2  \\\n",
       "0       PODER JUDICIÁRIOTribunal Regional Federal da 3...           NaN   \n",
       "1       PODER JUDICIÁRIOTribunal Regional Federal da 3...           NaN   \n",
       "2       PODER JUDICIÁRIOTribunal Regional Federal da 3...           NaN   \n",
       "3       PODER JUDICIÁRIOTribunal Regional Federal da 3...           NaN   \n",
       "4       PODER JUDICIÁRIOTribunal Regional Federal da 3...           NaN   \n",
       "...                                                   ...           ...   \n",
       "378571  PODER JUDICIÁRIOTurmas Recursais dos Juizados ...           NaN   \n",
       "378572  PODER JUDICIÁRIOTribunal Regional Federal da 3...           NaN   \n",
       "378573  PODER JUDICIÁRIOTribunal Regional Federal da 3...           NaN   \n",
       "378574  PODER JUDICIÁRIOTribunal Regional Federal da 3...           NaN   \n",
       "378575  PODER JUDICIÁRIOTurmas Recursais dos Juizados ...           NaN   \n",
       "\n",
       "        Unnamed: 0.1  \n",
       "0            17406.0  \n",
       "1            17407.0  \n",
       "2            17408.0  \n",
       "3            17409.0  \n",
       "4            17410.0  \n",
       "...              ...  \n",
       "378571           NaN  \n",
       "378572           NaN  \n",
       "378573           NaN  \n",
       "378574           NaN  \n",
       "378575           NaN  \n",
       "\n",
       "[378576 rows x 16 columns]"
      ]
     },
     "execution_count": 11,
     "metadata": {},
     "output_type": "execute_result"
    }
   ],
   "source": [
    "df_"
   ]
  },
  {
   "cell_type": "code",
   "execution_count": 24,
   "id": "f72b3379",
   "metadata": {},
   "outputs": [
    {
     "data": {
      "text/plain": [
       "'E M E N T A DIREITO PROCESSUAL CIVIL E TRIBUTÁRIO. EMBARGOS DE DECLARAÇÃO. NÃO OCORRÊNCIADE OMISSÃO, OBSCURIDADE, CONTRADIÇÃO OU ERRO MATERIAL. VALE-TRANSPORTEPAGO EM PECÚNIA EM REGIME DE COPARTICIPAÇÃO. INEXISTÊNCIA DE NATUREZASALARIAL. NÃO INCIDÊNCIA DE CONTRIBUIÇÕES PREVIDENCIÁRIAS. EMBARGOS DEDECLARAÇÃO REJEITADOS.1. Não possuindo o vale-transporte natureza salarial, não deve incidira contribuição previdenciária sobre o valor descontado do empregado paracoparticipação.2. O pagamento feito pelo empregador a título de vale-transporte mediantecoparticipação do empregado faz com que ocorra o seguinte: no momento dopagamento, automaticamente, o valor da participação do empregado, que seriacreditado como salário (se não houvesse o vale-transporte), é creditado emvale, juntamente com a parcela referente à participação do empregador. Comoo valor pago a título de transporte não possui caráter salarial, não incidea contribuição patronal nem sobre a participação do empregador nem sobre ado empregado. 3. Embargos de declaração rejeitados.'"
      ]
     },
     "execution_count": 24,
     "metadata": {},
     "output_type": "execute_result"
    }
   ],
   "source": [
    "df_.Ementa[10000]"
   ]
  },
  {
   "cell_type": "code",
   "execution_count": 14,
   "id": "d5d4704a",
   "metadata": {},
   "outputs": [
    {
     "data": {
      "text/plain": [
       "'DJEN DATA: 17/08/2022..FONTE_PUBLICACAO1:..FONTE_PUBLICACAO2:..FONTE_PUBLICACAO3:'"
      ]
     },
     "execution_count": 14,
     "metadata": {},
     "output_type": "execute_result"
    }
   ],
   "source": [
    "df_.Fonte_da_publicacao[10000]"
   ]
  },
  {
   "cell_type": "code",
   "execution_count": 6,
   "id": "6cc7b9f1",
   "metadata": {},
   "outputs": [
    {
     "data": {
      "text/plain": [
       "'E M E N T A\\xa0RETRATAÇÃO. MANDADO DE SEGURANÇA. CONTRIBUIÇÕESPREVIDENCIÁRIAS. SALÁRIO-MATERNIDADE.1. Constou do acórdão proferido pela Turma: \"O Superior Tribunal de Justiçaassentou sua jurisprudência no sentido de que o salário-maternidade nãopossui natureza indenizatória, devendo integrar, destarte, o salário decontribuição.\"2. Contudo, o STF fixou entendimento em sentido contrário, conforme destacadopela Vice-Presidente. O Supremo Tribunal Federal, no julgamento do RE n.°576.967/PR, alçado como representativo de controvérsia (tema n.° 72) esubmetido à sistemática da repercussão geral (art. 1.036 do CPC), pacificouo seguinte entendimento: \"É inconstitucional a incidência da contribuiçãoprevidenciária a cargo do empregador sobre o salário maternidade\".3. Juízo positivo de retratação, passando o dispositivo do julgado a ter aseguinte redação quanto ao agravo legal da impetrante: PARCIAL PROVIMENTO aoagravo legal da impetrante para declarar a não incidência de contribuiçõesprevidenciárias sobre o salário-maternidade.'"
      ]
     },
     "execution_count": 6,
     "metadata": {},
     "output_type": "execute_result"
    }
   ],
   "source": [
    "df.Fonte_da_publicacao[10000]"
   ]
  },
  {
   "cell_type": "code",
   "execution_count": 7,
   "id": "85945add",
   "metadata": {},
   "outputs": [
    {
     "data": {
      "text/plain": [
       "'PODER JUDICIÁRIOTribunal Regional Federal da 3ª Região1ª TurmaAPELAÇÃO CÍVEL (198) Nº\\xa00008151-16.2012.4.03.6110RELATOR:\\xa0Gab. 02 - DES. FED. WILSON ZAUHYAPELANTE: MUNICIPIO DE ITU, UNIAO FEDERAL - FAZENDA NACIONALAdvogado do(a) APELANTE: ALECIO CASTELLUCCI FIGUEIREDO - SP188320-AAPELADO: MUNICIPIO DE ITU, UNIAO FEDERAL - FAZENDA NACIONALAdvogado do(a) APELADO: ALECIO CASTELLUCCI FIGUEIREDO - SP188320-AOUTROS PARTICIPANTES:\\xa0\\xa0\\xa0\\xa0\\xa0\\xa0PODER JUDICIÁRIOTribunal Regional Federal da 3ª Região1ª Turma\\xa0APELAÇÃO CÍVEL (198) Nº\\xa00008151-16.2012.4.03.6110RELATOR:\\xa0Gab. 02 - DES. FED. WILSON ZAUHYAPELANTE: MUNICIPIO DE ITU, UNIAO FEDERAL - FAZENDA NACIONALAdvogado do(a) APELANTE: ALECIO CASTELLUCCI FIGUEIREDO - SP188320-AAPELADO: MUNICIPIO DE ITU, UNIAO FEDERAL - FAZENDA NACIONALAdvogado do(a) APELADO: ALECIO CASTELLUCCI FIGUEIREDO - SP188320-AOUTROS PARTICIPANTES:\\xa0\\xa0\\xa0\\xa0\\xa0\\xa0R E L A T Ó R I O\\xa0Retornam da Vice-Presidência os presentes autos.Conforme consignado pela Vice-Presidente:\"Trata-se de Recurso Extraordinário interposto pelo Contribuinte, comfundamento no art. 102, III, \"a\", da Constituição Federal, contra acórdãoproferido por órgão fracionário deste E. Tribunal Regional Federal.Em seu recurso excepcional a recorrente alega, em síntese, que não incidecontribuição previdenciária sobre os valores despendidos a título desalário-maternidade, entre outras verbas.(...)O Supremo Tribunal Federal, no julgamento do RE n.° 576.9671PR, alçado comorepresentativo de controvérsia (tema n.° 72) e submetido à sistemática darepercussão geral (art. 1.036 do CPC), pacificou o seguinte entendimento:\"É inconstitucional a incidência da contribuição previdenciária a cargo doempregador sobre o salário maternidade\".(...)No caso concreto, o entendimento emanado do acórdão recorrido contrasta,em princípio, com o atual entendimento manifestado pelo Supremo TribunalFederal no acórdão paradigma acima mencionado.Em face do exposto, com fundamento no art. 1.040, II do Código de ProcessoCivil, encaminhem-se os autos à C. Turma Julgadora, para reexame dacontrovérsia à luz do paradigma citado e verificação da pertinência de seproceder a um juizo positivo de retratação na espécie.\"É o relatório.\\xa0\\xa0\\xa0\\xa0\\xa0\\xa0\\xa0\\xa0\\xa0PODER JUDICIÁRIOTribunal Regional Federal da 3ª Região1ª Turma\\xa0APELAÇÃO CÍVEL (198) Nº\\xa00008151-16.2012.4.03.6110RELATOR:\\xa0Gab. 02 - DES. FED. WILSON ZAUHYAPELANTE: MUNICIPIO DE ITU, UNIAO FEDERAL - FAZENDA NACIONALAdvogado do(a) APELANTE: ALECIO CASTELLUCCI FIGUEIREDO - SP188320-AAPELADO: MUNICIPIO DE ITU, UNIAO FEDERAL - FAZENDA NACIONALAdvogado do(a) APELADO: ALECIO CASTELLUCCI FIGUEIREDO - SP188320-AOUTROS PARTICIPANTES:\\xa0\\xa0\\xa0\\xa0\\xa0V O T O\\xa0\\xa0\\xa0Conforme constou do acórdão proferido pela Turma em 14 de abril de 2015:\"O STJ firmou entendimento no sentido de que as verbas pagas a títulode salário maternidade, (...) têm natureza salarial e, portanto, sofremincidência de contribuição previdenciária. (...) Agravos improvidos.\"\\xa0Contudo, o STF fixou entendimento em sentido contrário, conforme destacadopela Vice-Presidente.\\xa0Conforme constou do relatório do acórdão que apreciou os agravos legais(fls. 440 dos autos físicos):\"Trata-se de agravo legal de fls. 387/429 interposto pelo Município de Itue outro agravo legal de fls. 431/437v interposto pela União Federal contraa decisão proferida por este Relator às fls. 374/386 que, nos termos doart. 557, do CPC, negou seguimento às apelações da impetrante e da União edeu provimento à remessa oficial.A r. sentença concedeu em parte a segurança. Apelaram ambas as partes. (...)Em suas razões de inconformismo o impetrante alega que não incide contribuiçãoprevidenciária sobre verbas pagas a título de férias gozadas, saláriomaternidade e 13° salário.A União Federal alega que incide contribuição previdenciária sobregratificações eventuais, visto que integram o salário-contribuição, nãopossuindo caráter indenizatório.\"\\xa0Ante o exposto, exerço juízo positivo de retratação, passando o dispositivodo julgado a ter a seguinte redação quanto ao agravo legal da impetrante:DOU PARCIAL PROVIMENTO ao agravo legal da impetrante para declarar a nãoincidência de contribuições previdenciárias sobre o salário-maternidade.É o voto.\\xa0\\xa0\\xa0\\xa0\\xa0\\xa0\\xa0\\xa0\\xa0E M E N T A\\xa0RETRATAÇÃO. MANDADO DE SEGURANÇA. CONTRIBUIÇÕESPREVIDENCIÁRIAS. SALÁRIO-MATERNIDADE.1. Constou do acórdão proferido pela Turma: \"O STJ firmou entendimentono sentido de que as verbas pagas a título de salário maternidade,(...) têm natureza salarial e, portanto, sofrem incidência de contribuiçãoprevidenciária.\"2. Contudo, o STF fixou entendimento em sentido contrário, conforme destacadopela Vice-Presidente. O Supremo Tribunal Federal, no julgamento do RE n.°576.9671PR, alçado como representativo de controvérsia (tema n.° 72) esubmetido à sistemática da repercussão geral (art. 1.036 do CPC), pacificouo seguinte entendimento: \"É inconstitucional a incidência da contribuiçãoprevidenciária a cargo do empregador sobre o salário maternidade\".3. Juízo positivo de retratação, passando o dispositivo do julgado a ter aseguinte redação quanto ao agravo legal da impetrante: PARCIAL PROVIMENTO aoagravo legal da impetrante para declarar a não incidência de contribuiçõesprevidenciárias sobre o salário-maternidade.\\xa0 ACÓRDÃOVistos        e relatados estes autos em que são partes as acima indicadas,a Primeira Turma, por unanimidade,  exerceu juízo positivo de retratação,passando o dispositivo do julgado a ter a seguinte redação quanto ao agravolegal da impetrante: DOU PARCIAL PROVIMENTO ao agravo legal da impetrantepara declarar a não incidência de contribuições previdenciárias sobre osalário-maternidade, nos termos do relatório e voto  que       ficam fazendoparte integrante do presente julgado.'"
      ]
     },
     "execution_count": 7,
     "metadata": {},
     "output_type": "execute_result"
    }
   ],
   "source": [
    "df.Ementa[1000]"
   ]
  },
  {
   "cell_type": "code",
   "execution_count": 17,
   "id": "7b6af51b",
   "metadata": {},
   "outputs": [
    {
     "data": {
      "text/plain": [
       "'TRF - TERCEIRA REGIÃO'"
      ]
     },
     "execution_count": 17,
     "metadata": {},
     "output_type": "execute_result"
    }
   ],
   "source": [
    "df_['Origem'][1000]"
   ]
  },
  {
   "cell_type": "code",
   "execution_count": 21,
   "id": "582abdb5",
   "metadata": {},
   "outputs": [],
   "source": [
    "df_['Fonte_da_publicacao'] = df_['Fonte_da_publicacao'].apply(remove_excess_spaces)#remove espaços, a função está a abaixo (executa-las antes de chamá-la)\n",
    "df_['Fonte_da_publicacao'] = df_['Fonte_da_publicacao'].str.replace('\\xa0', ' ')"
   ]
  },
  {
   "cell_type": "code",
   "execution_count": 22,
   "id": "2b4d6245",
   "metadata": {},
   "outputs": [],
   "source": [
    "df_['Ementa'] = df_['Ementa'].apply(remove_excess_spaces)#remove espaços, a função está a abaixo (executa-las antes de chamá-la)\n",
    "df_['Ementa'] = df_['Ementa'].str.replace('\\xa0', ' ')"
   ]
  },
  {
   "cell_type": "code",
   "execution_count": 23,
   "id": "a36d728b",
   "metadata": {},
   "outputs": [],
   "source": [
    "df_['text'] = df_['Origem']+ \", Ementa: \"+df_['Ementa']+\", \"+df_['Fonte_da_publicacao']"
   ]
  },
  {
   "cell_type": "code",
   "execution_count": 11,
   "id": "b049f3f2",
   "metadata": {},
   "outputs": [],
   "source": [
    "# Ajuste os caracteres \"\\n\" para justificar\n",
    "df['text'] = df['text'].str.replace('\\n', ' ')\n",
    "df['text'] = df['text'].str.replace('\\\\n', ' ')\n"
   ]
  },
  {
   "cell_type": "code",
   "execution_count": null,
   "id": "bc08e0da",
   "metadata": {},
   "outputs": [],
   "source": [
    "df['text'] = df['text'].str.replace('\\xa0', ' ')"
   ]
  },
  {
   "cell_type": "code",
   "execution_count": 15,
   "id": "db9b9998",
   "metadata": {},
   "outputs": [
    {
     "data": {
      "text/plain": [
       "'Em 19/09/2022, No TRF - TERCEIRA REGIÃO, Ementa: E M E N T APROCESSO CIVIL. EMBARGOS DE DECLARAÇÃO. OMISSÃO APENAS NO TEXTO DOACÓRDÃO. APELAÇÃO DA UNIÃO FEDERAL E REMESSA OFICIAL PARCIALMENTE PROVIDASPARA ASSEGURAR A INCLUSÃO DO PIS E COFINS NAS PRÓPRIAS BASES. EMBARGOS DEDECLARAÇÃO PARCIALMENTE ACOLHIDOS APENAS PARA SANAR ERRO MATERIAL.- Os embargos de declaração, a teor do disposto no art. 1.022 do CPC, somentetêm cabimento nos casos de obscuridade ou contradição (inc. I), de omissão(inc. II) e de erro material (inc. III).- No caso em tela, constou do voto da Relatora (e do dispositivo de tal voto -id. 210070910), bem como da ementa (id. 254016224) o parcial provimento daapelação da União Federal para assegurar a inclusão do PIS e COFINS sobreas suas próprias de cálculo.- Todavia, o acórdão nada mencionou a esse respeito, de modo que deveser sanada a omissão contido passando a constar do referido acórdão(id. 254016223): \" Vistos e relatados estes autos em que são partes as acimaindicadas, a Quarta Turma, à unanimidade, decidiu dar parcial provimentoà apelação da impetrante para reconhecer a prescrição quinquenal no quese refere à exclusão do ISS das bases de cálculo do PIS e da COFINS edar parcial provimento à apelação da União Federal e à remessa oficial notocante a assegurar a inclusão do PIS e da COFINS sobre suas próprias bases decálculo (cálculo por dentro), nos termos do voto da Des. Fed. MARLI FERREIRA(Relatora), com quem votaram a Des. Fed. MÔNICA NOBRE e o Des. Fed. MARCELOSARAIVA. E, por maioria, decidiu dar parcial provimento à apelação da UniãoFederal e à remessa oficial, em menor extensão, apenas para restringira restituição/compensação do ICMS aqui pretendida ao limite temporal de15/03/2017 nos termos do julgamento do RE 574.706/PR, mantendo incólumesa restituição/compensação autorizadas pela sentença, sem restrição quanto arequerê-las administrativamente, nos termos do voto da Des. Fed. MÔNICA NOBRE,com quem votaram o Des. Fed. MARCELO SARAIVA, o Juiz Fed. Conv. MARCELOGUERRA e o Des. Fed. PAULO DOMINGUES. Vencida a Des. Fed. MARLI FERREIRA(Relatora), que dava parcial provimento à apelação da União Federal e àremessa oficial no sentido de autorizar a restituição na forma explicitadae consoante a legislação de regência, bem como para julgar improcedente opedido e assegurar a inclusão do PIS e da COFINS sobre suas próprias bases decálculo (cálculo por dentro), aplicando-se o entendimento em vigor sobre amatéria específica do E. Supremo Tribunal Federal e do C. Superior Tribunalde Justiça, mantendo a r. sentença em seus demais e exatos termos. Lavraráacórdão a Des. Fed. MÔNICA NOBRE. O Juiz Fed. Conv. MARCELO GUERRA votou naforma do art. 942, §1.º do CPC. O Des. Fed. PAULO DOMINGUES votou na formados artigos 53 e 260 do RITRF3. Ausente, justificadamente, em razão de férias,o Des. Fed. ANDRÉ NABARRETE (substituído pelo Juiz Federal Convocado MARCELOGUERRA), nos termos do relatório e voto que ficam fazendo parte integrantedo presente julgado\".- No mais,  o v. Acórdão embargado não se ressente de quaisquer vícios. Dasimples leitura do julgado verifica-se que foram abordadas todas as questõesdebatidas pelas partes.- De qualquer sorte, acerca do ponto específico da irresignação dacontribuinte, não procede a alegação no sentido de que seja declarado que,quanto ao ICMS, ocorreu o trânsito em julgado e a possibilidade de compensaçãodos valores.- Isso porque, diante da vedação legal prevista no art. 170-A do CTN e doentendimento jurisprudencial consolidado,  é vedada a compensação de tributoobjeto de contestação judicial, como no presente caso, antes do trânsito emjulgado da respectiva sentença. Precedentes.- A pretensão para que a compensação não se dê após o trânsito em julgado daação não pode ser acolhida, visto que a demanda pode ser modificada atéentão, porquanto o direito só se concretiza ante a inexistência de recursoa ser interposto.- Assim, infere-se que a compensação somente pode ser efetivada após o trânsitoem julgado da respectiva decisão judicial, aplicando-se o entendimento,inclusive, às hipóteses de tributo indevidamente recolhido. - No tocante à omissão apontada pela UNIÃO FEDERAL, acerca da pendênciade julgamento do 592.616- RG/RS (Tema 118), pelo Supremo Tribunal Federal,insta consignar que não há qualquer determinação de suspensão nacional dosfeitos que tratam da matéria, cabendo ao magistrado decidir de acordo como livre convencimento motivado até que surja precedente vinculante.- Por todo o exposto, verifica-se que os argumentos das embargantes denotammero inconformismo e intuito de rediscutir a controvérsia, não se prestandoos aclaratórios a esse fim.      - Embargos de declaração da União Federal e de LITOCOMP INDÚSTRIA GRÁFICAE EDITORA LTDA parcialmente acolhidos apenas para sanar a omissão relativaao parcial provimento da apelação fazendária quanto ao pedido de inclusãodo PIS e COFINS nas próprias bases de cálculo., Decisão: PODER JUDICIÁRIOTribunal Regional Federal da 3ª Região4ª TurmaAPELAÇÃO / REMESSA NECESSÁRIA (1728) Nº 5006857-53.2021.4.03.6100RELATOR: Gab. 13 - DES. FED. MONICA NOBREAPELANTE: LITOCOMP INDUSTRIA GRAFICA E EDITORA LTDA., UNIAO FEDERAL -FAZENDA NACIONALAdvogado do(a) APELANTE: MARCELO MIRANDA DOURADO FONTES ROSA - SP247111-AAPELADO: UNIAO FEDERAL - FAZENDA NACIONAL, LITOCOMP INDUSTRIA GRAFICA EEDITORA LTDA.Advogado do(a) APELADO: MARCELO MIRANDA DOURADO FONTES ROSA - SP247111-AOUTROS PARTICIPANTES:      PODER JUDICIÁRIOTribunal Regional Federal da 3ª Região4ª Turma APELAÇÃO / REMESSA NECESSÁRIA (1728) Nº 5006857-53.2021.4.03.6100RELATOR: Gab. 13 - DES. FED. MONICA NOBREAPELANTE: LITOCOMP INDUSTRIA GRAFICA E EDITORA LTDA., UNIAO FEDERAL -FAZENDA NACIONALAdvogado do(a) APELANTE: MARCELO MIRANDA DOURADO FONTES ROSA - SP247111-AAPELADO: UNIAO FEDERAL - FAZENDA NACIONAL, LITOCOMP INDUSTRIA GRAFICA EEDITORA LTDA.Advogado do(a) APELADO: MARCELO MIRANDA DOURADO FONTES ROSA - SP247111-A      R E L A T Ó R I O Cuida-se de embargos de declaração opostos pela UNIÃO FEDERAL e por LITOCOMPINDÚSTRIA GRÁFICA E EDITORA LTDA em face do acórdão de id. 254016223 quedeu parcial provimento à apelação da impetrante para reconhecer a prescriçãoquinquenal no que se refere à exclusão do ISS das bases de cálculo do PIS eda COFINS e deu parcial provimento à apelação da União Federal e à remessaoficial, em menor extensão, apenas para restringir a restituição/compensaçãodo ICMS ao limite temporal de 15/03/2017 nos termos do julgamento do RE574.706/PR.Em seus declaratórios, a UNIÃO FEDERAL argui, em síntese, a ocorrênciade omissão quanto à pendência de julgamento do Tema 118 do STF e quanto àdeterminação de inclusão do PIS/COFINS na própria base de cálculo.Por sua vez, LITOCOMP INDÚSTRIA GRÁFICA E EDITORA LTDA aduz omissão acercado pedido de trânsito em julgado parcial da questão relativa à exclusão doICMS da base do PIS e COFINS, bem como omissão no tocante à exclusão do PISe COFINS das próprias bases.Ambas as partes apresentaram resposta.É o relatório.           PODER JUDICIÁRIOTribunal Regional Federal da 3ª Região4ª Turma APELAÇÃO / REMESSA NECESSÁRIA (1728) Nº 5006857-53.2021.4.03.6100RELATOR: Gab. 13 - DES. FED. MONICA NOBREAPELANTE: LITOCOMP INDUSTRIA GRAFICA E EDITORA LTDA., UNIAO FEDERAL -FAZENDA NACIONALAdvogado do(a) APELANTE: MARCELO MIRANDA DOURADO FONTES ROSA - SP247111-AAPELADO: UNIAO FEDERAL - FAZENDA NACIONAL, LITOCOMP INDUSTRIA GRAFICA EEDITORA LTDA.Advogado do(a) APELADO: MARCELO MIRANDA DOURADO FONTES ROSA - SP247111-A     V O T O Assiste razão, em parte, às embargantes apenas no que se refere à omissão,no acórdão, quanto à determinação constante da ementa acerca da inclusão doPIS e COFINS nas próprias bases.Os embargos de declaração, a teor do disposto no art. 1.022 do CPC, somentetêm cabimento nos casos de obscuridade ou contradição (inc. I), de omissão(inc. II) e de erro material (inc. III).No caso em tela, constou do voto da Relatora (e do dispositivo de tal voto -id. 210070910), bem como da ementa (id. 254016224) o parcial provimento daapelação da União Federal para assegurar a inclusão do PIS e COFINS sobre assuas próprias de cálculo. Todavia, o acórdão nada mencionou a esse respeito,de modo que deve ser sanada a omissão contido passando a constar do referidoacórdão (id. 254016223):\"Vistos e relatados estes autos em que são partes as acima indicadas, a QuartaTurma, à unanimidade, decidiu dar parcial provimento à apelação da impetrantepara reconhecer a prescrição quinquenal no que se refere à exclusão do ISSdas bases de cálculo do PIS e da COFINS e dar parcial provimento à apelação daUnião Federal e à remessa oficial no tocante a assegurar a inclusão do PIS eda COFINS sobre suas próprias bases de cálculo (cálculo por dentro), nostermos do voto da Des. Fed. MARLI FERREIRA (Relatora), com quem votaram aDes. Fed. MÔNICA NOBRE e o Des. Fed. MARCELO SARAIVA. E, por maioria, decidiudar parcial provimento à apelação da União Federal e à remessa oficial,em menor extensão, apenas para restringir a restituição/compensação do ICMSaqui pretendida ao limite temporal de 15/03/2017 nos termos do julgamento doRE 574.706/PR, mantendo incólumes a restituição/compensação autorizadas pelasentença, sem restrição quanto a requerê-las administrativamente, nos termos dovoto da Des. Fed. MÔNICA NOBRE, com quem votaram o Des. Fed. MARCELO SARAIVA,o Juiz Fed. Conv. MARCELO GUERRA e o Des. Fed. PAULO DOMINGUES. Vencida aDes. Fed. MARLI FERREIRA (Relatora), que dava parcial provimento à apelaçãoda União Federal e à remessa oficial no sentido de autorizar a restituição naforma explicitada e consoante a legislação de regência, bem como para julgarimprocedente o pedido e assegurar a inclusão do PIS e da COFINS sobre suaspróprias bases de cálculo (cálculo por dentro), aplicando-se o entendimentoem vigor sobre a matéria específica do E. Supremo Tribunal Federal e doC. Superior Tribunal de Justiça, mantendo a r. sentença em seus demais e exatostermos. Lavrará acórdão a Des. Fed. MÔNICA NOBRE. O Juiz Fed. Conv. MARCELOGUERRA votou na forma do art. 942, §1.º do CPC. O Des. Fed. PAULO DOMINGUESvotou na forma dos artigos 53 e 260 do RITRF3. Ausente, justificadamente, emrazão de férias, o Des. Fed. ANDRÉ NABARRETE (substituído pelo Juiz FederalConvocado MARCELO GUERRA), nos termos do relatório e voto que ficam fazendoparte integrante do presente julgado\".No mais,  o v. Acórdão embargado não se ressente de quaisquer vícios. Dasimples leitura do julgado verifica-se que foram abordadas todas as questõesdebatidas pelas partes.De qualquer sorte, acerca do ponto específico da irresignação da contribuinte,não procede a alegação no sentido de que seja declarado que, quanto ao ICMS,ocorreu o trânsito em julgado e a possibilidade de compensação dos valores.Isso porque, diante da vedação legal prevista no art. 170-A do CTN e doentendimento jurisprudencial consolidado,  é vedada a compensação de tributoobjeto de contestação judicial, como no presente caso, antes do trânsitoem julgado da respectiva sentença. Nesse sentido, colaciono o seguinteentendimento:..EMEN: TRIBUTÁRIO E PROCESSUAL CIVIL. AGRAVO REGIMENTAL EM AGRAVO DEINSTRUMENTO CONTROVÉRSIA LIMITADA À COMPENSAÇÃO ANTES DO TRÂNSITO EMJULGADO. ARTIGO 170-A, DO CTN. INAPLICABILIDADE. 1.Os sucessivos regimesde legais de substituição tributária, consoante pacífico entendimento daPrimeira Seção externado no julgamento do ERESP 488.992/MG, não retroagem, porisso que \"a Lei Complementar 104/2001, que introduziu no Código Tributário oart. 170-A, segundo o qual \"é vedada a compensação mediante o aproveitamentode tributo, objeto de contestação judicial pelo sujeito passivo, antes dotrânsito em julgado da respectiva decisão judicial\". Agregou-se, com isso,novo requisito para a realização da compensação tributária: a inexistência dediscussão judicial sobre os créditos a serem utilizados pelo contribuintena compensação. Atualmente, portanto, a compensação será viável apenasapós o trânsito em julgado da decisão, (...)\". 2. In casu, verifica-se quea presente demanda foi ajuizada antes da entrada em vigor do art 170-A,do CTN, introduzido pela Lei Complementar 104/01, vigente em 11/01/2001,portanto, inaplicável o referido dispositivo. 3. Precedentes desta Corte:AgRg nos EREsp 611.099/SC, Rel. Ministra DENISE ARRUDA, PRIMEIRA SEÇÃO,julgado em 27/02/2008, DJe 17/03/2008; EREsp 359.014/PR, Rel. Ministro HERMANBENJAMIN, PRIMEIRA SEÇÃO, julgado em 13.12.2006, DJ 01.10.2007 p. 203; EREsp628.079/SE, Rel. Ministro LUIZ FUX, PRIMEIRA SEÇÃO, julgado em 13/06/2007,DJ 13/08/2007 p. 321. 5. Agravo regimental desprovido. ..EMEN:(AGA - AGRAVO REGIMENTAL NO AGRAVO DE INSTRUMENTO - 940481 2007.01.93269-0,LUIZ FUX, STJ - PRIMEIRA TURMA, DJE DATA:15/12/2008 ..DTPB:.)- grifei.A pretensão para que a compensação não se dê após o trânsito em julgado daação não pode ser acolhida, visto que a demanda pode ser modificada atéentão, porquanto o direito só se concretiza ante a inexistência de recursoa ser interposto.Assim, infere-se que a compensação somente pode ser efetivada após o trânsitoem julgado da respectiva decisão judicial, aplicando-se o entendimento,inclusive, às hipóteses de tributo indevidamente recolhido. Neste sentido,destaco o entendimento firmado sob o rito dos recursos especiais repetitivos:TRIBUTÁRIO. COMPENSAÇÃO. ART. 170-A DO CTN. REQUISITO DO TRÂNSITO EMJULGADO. APLICABILIDADE A HIPÓTESES DE INCONSTITUCIONALIDADE DO TRIBUTORECOLHIDO.\"Nos termos do art. 170-A do CTN, \"é vedada a compensação medianteo aproveitamento de tributo, objeto de contestação judicial pelo sujeitopassivo, antes do trânsito em julgado da respectiva decisão judicial\", vedaçãoque se aplica inclusive às hipóteses de reconhecida inconstitucionalidadedo tributo indevidamente recolhido. 2. Recurso especial provido. Acórdãosujeito ao regime do art. 543-C do CPC e da Resolução STJ 08/08.(REsp nº 1167039, Rel. Min. TEORI ALBINO ZAVASCKI, DJe de 02/09/2010)- grifei.No tocante à omissão apontada pela UNIÃO FEDERAL, acerca da pendência dejulgamento do 592.616- RG/RS, pelo Supremo Tribunal Federal, insta consignarque não há qualquer determinação de suspensão nacional dos feitos que tratamda matéria, cabendo ao magistrado decidir de acordo com o livre convencimentomotivado até que surja precedente vinculante.Por todo o exposto, verifica-se que os argumentos das embargantes denotammero inconformismo e intuito de rediscutir a controvérsia, não se prestandoos aclaratórios a esse fim.             Por tais razões, acolho parcialmente os embargos de declaração da UniãoFederal e de LITOCOMP INDÚSTRIA GRÁFICA E EDITORA LTDA apenas para sanara omissão relativa ao parcial provimento da apelação fazendária quanto aopedido de inclusão do PIS e COFINS nas próprias bases de cálculo.É o voto.E M E N T APROCESSO CIVIL. EMBARGOS DE DECLARAÇÃO. OMISSÃO APENAS NO TEXTO DOACÓRDÃO. APELAÇÃO DA UNIÃO FEDERAL E REMESSA OFICIAL PARCIALMENTE PROVIDASPARA ASSEGURAR A INCLUSÃO DO PIS E COFINS NAS PRÓPRIAS BASES. EMBARGOS DEDECLARAÇÃO PARCIALMENTE ACOLHIDOS APENAS PARA SANAR ERRO MATERIAL.- Os embargos de declaração, a teor do disposto no art. 1.022 do CPC, somentetêm cabimento nos casos de obscuridade ou contradição (inc. I), de omissão(inc. II) e de erro material (inc. III).- No caso em tela, constou do voto da Relatora (e do dispositivo de tal voto -id. 210070910), bem como da ementa (id. 254016224) o parcial provimento daapelação da União Federal para assegurar a inclusão do PIS e COFINS sobreas suas próprias de cálculo.- Todavia, o acórdão nada mencionou a esse respeito, de modo que deveser sanada a omissão contido passando a constar do referido acórdão(id. 254016223): \" Vistos e relatados estes autos em que são partes as acimaindicadas, a Quarta Turma, à unanimidade, decidiu dar parcial provimentoà apelação da impetrante para reconhecer a prescrição quinquenal no quese refere à exclusão do ISS das bases de cálculo do PIS e da COFINS edar parcial provimento à apelação da União Federal e à remessa oficial notocante a assegurar a inclusão do PIS e da COFINS sobre suas próprias bases decálculo (cálculo por dentro), nos termos do voto da Des. Fed. MARLI FERREIRA(Relatora), com quem votaram a Des. Fed. MÔNICA NOBRE e o Des. Fed. MARCELOSARAIVA. E, por maioria, decidiu dar parcial provimento à apelação da UniãoFederal e à remessa oficial, em menor extensão, apenas para restringira restituição/compensação do ICMS aqui pretendida ao limite temporal de15/03/2017 nos termos do julgamento do RE 574.706/PR, mantendo incólumesa restituição/compensação autorizadas pela sentença, sem restrição quanto arequerê-las administrativamente, nos termos do voto da Des. Fed. MÔNICA NOBRE,com quem votaram o Des. Fed. MARCELO SARAIVA, o Juiz Fed. Conv. MARCELOGUERRA e o Des. Fed. PAULO DOMINGUES. Vencida a Des. Fed. MARLI FERREIRA(Relatora), que dava parcial provimento à apelação da União Federal e àremessa oficial no sentido de autorizar a restituição na forma explicitadae consoante a legislação de regência, bem como para julgar improcedente opedido e assegurar a inclusão do PIS e da COFINS sobre suas próprias bases decálculo (cálculo por dentro), aplicando-se o entendimento em vigor sobre amatéria específica do E. Supremo Tribunal Federal e do C. Superior Tribunalde Justiça, mantendo a r. sentença em seus demais e exatos termos. Lavraráacórdão a Des. Fed. MÔNICA NOBRE. O Juiz Fed. Conv. MARCELO GUERRA votou naforma do art. 942, §1.º do CPC. O Des. Fed. PAULO DOMINGUES votou na formados artigos 53 e 260 do RITRF3. Ausente, justificadamente, em razão de férias,o Des. Fed. ANDRÉ NABARRETE (substituído pelo Juiz Federal Convocado MARCELOGUERRA), nos termos do relatório e voto que ficam fazendo parte integrantedo presente julgado\".- No mais,  o v. Acórdão embargado não se ressente de quaisquer vícios. Dasimples leitura do julgado verifica-se que foram abordadas todas as questõesdebatidas pelas partes.- De qualquer sorte, acerca do ponto específico da irresignação dacontribuinte, não procede a alegação no sentido de que seja declarado que,quanto ao ICMS, ocorreu o trânsito em julgado e a possibilidade de compensaçãodos valores.- Isso porque, diante da vedação legal prevista no art. 170-A do CTN e doentendimento jurisprudencial consolidado,  é vedada a compensação de tributoobjeto de contestação judicial, como no presente caso, antes do trânsito emjulgado da respectiva sentença. Precedentes.- A pretensão para que a compensação não se dê após o trânsito em julgado daação não pode ser acolhida, visto que a demanda pode ser modificada atéentão, porquanto o direito só se concretiza ante a inexistência de recursoa ser interposto.- Assim, infere-se que a compensação somente pode ser efetivada após o trânsitoem julgado da respectiva decisão judicial, aplicando-se o entendimento,inclusive, às hipóteses de tributo indevidamente recolhido. - No tocante à omissão apontada pela UNIÃO FEDERAL, acerca da pendênciade julgamento do 592.616- RG/RS (Tema 118), pelo Supremo Tribunal Federal,insta consignar que não há qualquer determinação de suspensão nacional dosfeitos que tratam da matéria, cabendo ao magistrado decidir de acordo como livre convencimento motivado até que surja precedente vinculante.- Por todo o exposto, verifica-se que os argumentos das embargantes denotammero inconformismo e intuito de rediscutir a controvérsia, não se prestandoos aclaratórios a esse fim.      - Embargos de declaração da União Federal e de LITOCOMP INDÚSTRIA GRÁFICAE EDITORA LTDA parcialmente acolhidos apenas para sanar a omissão relativaao parcial provimento da apelação fazendária quanto ao pedido de inclusãodo PIS e COFINS nas próprias bases de cálculo.    ACÓRDÃOVistos        e relatados estes autos em que são partes as acima indicadas,a Quarta Turma, à unanimidade, decidiu acolher parcialmente os embargos dedeclaração da União Federal e de LITOCOMP INDÚSTRIA GRÁFICA E EDITORA LTDAapenas para sanar a omissão relativa ao parcial provimento da apelaçãofazendária quanto ao pedido de inclusão do PIS e COFINS nas própriasbases de cálculo, nos termos do voto da Des. Fed. MÔNICA NOBRE (Relatora),com quem votaram o Des. Fed. ANDRÉ NABARRETE, a Des. Fed. MARLI FERREIRA,o Des. Fed. MAIRAN MAIA e o Des. Fed. PAULO DOMINGUES.Ausente, justificadamente, por motivo de férias, o Des. Fed. MARCELO SARAIVA.O Des. Fed. MAIRAN MAIA e o Des. Fed. PAULO DOMINGUES votaram na forma dosartigos 53 e 260, § 1.º do RITRF3, nos termos do relatório e voto  que       ficam fazendo parte integrantedo presente julgado.'"
      ]
     },
     "execution_count": 15,
     "metadata": {},
     "output_type": "execute_result"
    }
   ],
   "source": [
    "df['text'][987]"
   ]
  },
  {
   "cell_type": "code",
   "execution_count": 19,
   "id": "ffda0990",
   "metadata": {},
   "outputs": [],
   "source": [
    "import re"
   ]
  },
  {
   "cell_type": "code",
   "execution_count": 11,
   "id": "d11bb570",
   "metadata": {},
   "outputs": [],
   "source": [
    "def remove_non_breaking_spaces(text):\n",
    "    return text.replace(\"\\xa0\", \" \").strip()"
   ]
  },
  {
   "cell_type": "code",
   "execution_count": 14,
   "id": "3ec562d2",
   "metadata": {},
   "outputs": [],
   "source": [
    "def remove_metadata(text):\n",
    "    text = re.sub(r', Length: \\d+, dtype: object', '', text)\n",
    "    text = str(text).replace(\"nan\", \"\")\n",
    "    return text.strip()"
   ]
  },
  {
   "cell_type": "code",
   "execution_count": 15,
   "id": "b805fbd7",
   "metadata": {},
   "outputs": [],
   "source": [
    "def remove_html_tags(text):\n",
    "    text = str(text)\n",
    "    clean = re.compile('<.*?>')\n",
    "    return re.sub(clean, '', text)"
   ]
  },
  {
   "cell_type": "code",
   "execution_count": 20,
   "id": "2e763d59",
   "metadata": {},
   "outputs": [],
   "source": [
    "def remove_excess_spaces(text):\n",
    "    text = str(text)\n",
    "    return re.sub(r'\\s+', ' ', text).strip()"
   ]
  },
  {
   "cell_type": "code",
   "execution_count": 17,
   "id": "744d664c",
   "metadata": {},
   "outputs": [],
   "source": [
    "def remove_reticencias_nan(text):\n",
    "    text = re.sub(r'\\.\\.\\.', '', text)\n",
    "    text = str(text).replace(\"nan\", \"\")\n",
    "    text = str(text).replace(\"NaN\", \"\")\n",
    "    return text.strip()  # Remove espaços em branco extras\n"
   ]
  },
  {
   "cell_type": "code",
   "execution_count": 18,
   "id": "3e41c3c9",
   "metadata": {},
   "outputs": [],
   "source": [
    "df['text'] = df['text'].apply(remove_non_breaking_spaces)\n",
    "df['text'] = df['text'].apply(remove_html_tags)\n",
    "df['text'] = df['text'].apply(remove_excess_spaces)\n",
    "df['text'] = df['text'].apply(remove_reticencias_nan)\n",
    "df['text'] = df['text'].apply(remove_metadata)"
   ]
  },
  {
   "cell_type": "code",
   "execution_count": 16,
   "id": "16d6fa45",
   "metadata": {},
   "outputs": [
    {
     "data": {
      "text/plain": [
       "'Em 22/09/2022, No TRF - TERCEIRA REGIÃO, Ementa: E M E N T A PREVIDENCIÁRIO. PENSÃO POR MORTE. ART. 74 DA LEI N.º 8.213/91. NÃO COMPROVADAA CONVIVÊNCIA. IMPOSSIBILIDADE DE CONCESSÃO DO BENEFÍCIO.- A prova produzida, inconsistente, é insuficiente para ensejar a concessãodo benefício vindicado, eis que não demonstrada a convivência da autora como de cujus.- Reconhecimento da improcedência do pedido formulado.- Apelação da autora não provida., Decisão: PODER JUDICIÁRIOTribunal Regional Federal da 3ª Região8ª TurmaAPELAÇÃO CÍVEL (198) Nº 5153429-18.2021.4.03.9999RELATOR: Gab. 27 - DES. FED. THEREZINHA CAZERTAAPELANTE: MARISA GUALBERTO DE OLIVEIRAAdvogado do(a) APELANTE: ESTEVAN TOSO FERRAZ - SP230862-NAPELADO: INSTITUTO NACIONAL DO SEGURO SOCIAL - INSSOUTROS PARTICIPANTES:     APELAÇÃO CÍVEL (198) Nº 5153429-18.2021.4.03.9999RELATOR: Gab. 27 - DES. FED. THEREZINHA CAZERTAAPELANTE: MARISA GUALBERTO DE OLIVEIRAAdvogado do(a) APELANTE: ESTEVAN TOSO FERRAZ - SP230862-NAPELADO: INSTITUTO NACIONAL DO SEGURO SOCIAL - INSS OUTROS PARTICIPANTES:  \\xadR E L A T Ó R I O  Trata-se de demanda objetivando a concessão do benefício de pensão por morte decompanheiro, falecido em 25/10/2011, previsto no art. 74 da Lei n.º 8.213/91.O juízo a quo julgou improcedente o pedido formulado.A parte autora apela, pleiteando a reforma da sentença, sustentando,em síntese, o cumprimento dos requisitos legais necessários à concessãopretendida.Sem contrarrazões, subiram os autos.É o relatório.  THEREZINHA CAZERTADesembargadora Federal Relatora    APELAÇÃO CÍVEL (198) Nº 5153429-18.2021.4.03.9999RELATOR: Gab. 27 - DES. FED. THEREZINHA CAZERTAAPELANTE: MARISA GUALBERTO DE OLIVEIRAAdvogado do(a) APELANTE: ESTEVAN TOSO FERRAZ - SP230862-NAPELADO: INSTITUTO NACIONAL DO SEGURO SOCIAL - INSS OUTROS PARTICIPANTES:  \\xadV O T O  Tempestivo o recurso e presentes os demais requisitos de admissibilidade,passa-se ao exame da insurgência propriamente dita, considerando-se a matériaobjeto de devolução. PENSÃO POR MORTE O benefício de pensão por morte encontra-se disciplinado pelos arts. 74a 79 da Lei n.º 8.213/91, cujo texto original foi objeto de alterações,vigorando atualmente a redação dada pela Lei n.º 13.846, de 18/6/2019.Aplicável, quanto à concessão desse benefício, a lei vigente à época do óbitodo segurado, consoante o teor do verbete n.º 340, da Súmula da Jurisprudênciado Superior Tribunal de Justiça.Para se obter a implementação da aludida pensão, é necessário o preenchimentode dois requisitos: o falecido deve deter a qualidade de segurado e éimprescindível subsistir relação de dependência econômica entre ele e osrequerentes do benefício.Dispensa-se a demonstração do período de carência, nos termos do art. 26,inciso I, da Lei n.° 8.213/91, conquanto sua duração possa variar conforme aquantidade de contribuições recolhidas pelo instituidor, consoante o dispostono art. 77 do mesmo diploma legal.Com relação à dependência econômica, o art. 16 da Lei n.º 8.213/91 estabeleceo rol dos beneficiários, dividindo-os em três classes e indicando tanto ashipóteses em que a dependência econômica é presumida quanto aquelas em queela deverá ser comprovada.Cumpre observar, ainda, que é vedada a concessão da pensão aos dependentes dosegurado que perder essa qualidade, nos termos do art. 15 da Lei de Benefícios,salvo se antes preenchidos os requisitos para a obtenção da aposentadoria,conforme previsto no art. 102, §§ 1.º e 2.º. DO CASO DOS AUTOS Para demonstrar suas alegações, a parte autora juntou documentos, entre osquais se destacam:- certidão de óbito do sr. Roberto Cesar Fernandes, falecido em 25/10/2011,consignando sua residência com endereço à Rua Antônio Valente da Costa, n.º1, Jardim Alvorada, em Monte Alto - SP, com 44 anos e divorciado, e tendocomo declarante a sra. Rosimere Maria Fernandes da Costa, consignando queera divorciado da autora;- escritura de declaração de dependência econômica, em nome do falecido,declarando que a autora é sua dependente econômica e que é seu desejo quesuas dependentes sejam suas beneficiárias de quaisquer convênios médicos etítulos de quaisquer clubes para os quais ele contribua ou venha contribuir,datado de 23/10/2008;- contas de luz e água, em nome do falecido, sendo a mais antiga referenteao mês de agosto/2011, com endereço à rua Orico Campos Negreiros Junior,n.º 160, Jardim Bela Vista, Monte Alto - SP;- certidão de casamento celebrado entre a autora e o falecido, em 16/5/2009,com averbação de sentença transitada em julgado, datado de 6/7/2011,decretando o divórcio do casal;- cópia de petição de ação de divórcio, consignando o endereço da autora àrua Orico Campos Negreiros Junior, n.º 160, Jardim Bela Vista, Monte Alto -SP, e do falecido à rua Suíça, n.º 41, Monte Alto - SP, datado de 7/6/2011;- aviso de recebimento consignando o endereço da autora à rua Orico CamposNegreiros Junior, n.º 160, Monte Alto - SP;- comunicado de decisão administrativa indeferindo o pedido de pensão pormorte, apresentado pela autora em 17/7/2012, pelo motivo de falta da qualidadede dependente;Cabe ressaltar a existência de prova oral.Em depoimento pessoal, a autora informa que seu ex-cônjuge, após ser mandadoembora de seu emprego, se endividou e, após ser informado que se viesse afalecer as dívidas seriam suportadas pela autora, decidiram se divorciar,mas que permaneceram juntos de fato.A testemunha Rosimeire Aparecida Piquetti Pereira declara ter trabalhadopara a autora, sendo faxineira diarista. Declara que sempre viu a autora e ofalecido como marido e mulher, que o falecido era quem trabalhava e sustentavaa família. que a autora se comportou como viúva no velório. Declara quetrabalhou para a autora e o falecido nos anos de 2008 e 2009, e que estavatrabalhando para eles quando do evento do óbito; que moravam na residênciaa autora, o falecido e a filha da autora. Declara que jamais ouviu sobreseparação de fato ou divórcio do casal.A testemunha José Carlos Sonco declara ser amigo do falecido, que moravamapenas o falecido e a autora e que nunca soube sobre separação do casal eque sempre que visitava o casal convivia como marido e mulher.Neste caso, restou comprovado a qualidade de segurado do falecido, porquantomantinha vínculo empregatício por ocasião do óbito.Contudo, o conjunto probatório, testemunhal e documental, revela-se frágile inconsistente, insuficiente para comprovar a existência da união estávela justificar a concessão do benefício.A fragilidade está apontada na divergência de endereços à data do óbito (nacertidão de óbito se registra o endereço do falecido à Rua Antônio Valente daCosta, n.º 1, Jardim Alvorada, em Monte Alto - SP, mesmo endereço de seusgenitores, enquanto a autora alega residir à rua Orico Campos NegreirosJunior, n.º 160, Monte Alto - SP ).Ainda, na petição de ação de divórcio acostada, há nova divergência deendereços (endereço da autora à rua Orico Campos Negreiros Junior, n.º 160,Jardim Bela Vista, Monte Alto - SP, e do falecido à rua Suíça, n.º 41,Monte Alto - SP) (f. 40, Id. 186395176).E, a prova testemunhal também revela-se inconsistente, pois a testemunhaRosimeire aduziu que laborou na casa da autora e do falecido nos anos de2008 e 2009, para posteriormente responder, quando questionado pelo juízo,que permaneceu trabalhando para o casal até a data do falecimento, ocorridono ano de 2011, e que eles viviam com a filha da autora. Já a testemunhaJosé Carlos Sonco indicou que a autora e o falecido viviam sozinhos.Insuficiente a prova apresentada, não restando demonstrada a condiçãode companheira do de cujus, à data do óbito, forçoso o reconhecimento daimprocedência do pedido.De rigor, portanto, o indeferimento do benefício, porquanto não comprovadoo cumprimento dos requisitos para a sua concessão.Posto isso, nego provimento à apelação.É o voto.  THEREZINHA CAZERTADesembargadora Federal RelatoraE M E N T A PREVIDENCIÁRIO. PENSÃO POR MORTE. ART. 74 DA LEI N.º 8.213/91. NÃO COMPROVADAA CONVIVÊNCIA. IMPOSSIBILIDADE DE CONCESSÃO DO BENEFÍCIO.- A prova produzida, inconsistente, é insuficiente para ensejar a concessãodo benefício vindicado, eis que não demonstrada a convivência da autora como de cujus.- Reconhecimento da improcedência do pedido formulado.- Apelação da autora não provida.   ACÓRDÃOVistos        e relatados estes autos em que são partes as acima indicadas,a Oitava Turma, por unanimidade, decidiu negar provimento à apelação, nostermos do relatório e voto  que       ficam fazendo parte integrante dopresente julgado.'"
      ]
     },
     "execution_count": 16,
     "metadata": {},
     "output_type": "execute_result"
    }
   ],
   "source": [
    "df['text'][10]"
   ]
  },
  {
   "cell_type": "code",
   "execution_count": 17,
   "id": "ec029781",
   "metadata": {},
   "outputs": [
    {
     "data": {
      "text/plain": [
       "'Em 22/09/2022, No TRF - TERCEIRA REGIÃO, Ementa: E M E N T A PREVIDENCIÁRIO. PENSÃO POR MORTE. ART. 74 DA LEI N.º 8.213/91. NÃO COMPROVADAA CONVIVÊNCIA. IMPOSSIBILIDADE DE CONCESSÃO DO BENEFÍCIO.- A prova produzida, inconsistente, é insuficiente para ensejar a concessãodo benefício vindicado, eis que não demonstrada a convivência da autora como de cujus.- Reconhecimento da improcedência do pedido formulado.- Apelação da autora não provida., Decisão: PODER JUDICIÁRIOTribunal Regional Federal da 3ª Região8ª TurmaAPELAÇÃO CÍVEL (198) Nº 5153429-18.2021.4.03.9999RELATOR: Gab. 27 - DES. FED. THEREZINHA CAZERTAAPELANTE: MARISA GUALBERTO DE OLIVEIRAAdvogado do(a) APELANTE: ESTEVAN TOSO FERRAZ - SP230862-NAPELADO: INSTITUTO NACIONAL DO SEGURO SOCIAL - INSSOUTROS PARTICIPANTES:     APELAÇÃO CÍVEL (198) Nº 5153429-18.2021.4.03.9999RELATOR: Gab. 27 - DES. FED. THEREZINHA CAZERTAAPELANTE: MARISA GUALBERTO DE OLIVEIRAAdvogado do(a) APELANTE: ESTEVAN TOSO FERRAZ - SP230862-NAPELADO: INSTITUTO NACIONAL DO SEGURO SOCIAL - INSS OUTROS PARTICIPANTES:  \\xadR E L A T Ó R I O  Trata-se de demanda objetivando a concessão do benefício de pensão por morte decompanheiro, falecido em 25/10/2011, previsto no art. 74 da Lei n.º 8.213/91.O juízo a quo julgou improcedente o pedido formulado.A parte autora apela, pleiteando a reforma da sentença, sustentando,em síntese, o cumprimento dos requisitos legais necessários à concessãopretendida.Sem contrarrazões, subiram os autos.É o relatório.  THEREZINHA CAZERTADesembargadora Federal Relatora    APELAÇÃO CÍVEL (198) Nº 5153429-18.2021.4.03.9999RELATOR: Gab. 27 - DES. FED. THEREZINHA CAZERTAAPELANTE: MARISA GUALBERTO DE OLIVEIRAAdvogado do(a) APELANTE: ESTEVAN TOSO FERRAZ - SP230862-NAPELADO: INSTITUTO NACIONAL DO SEGURO SOCIAL - INSS OUTROS PARTICIPANTES:  \\xadV O T O  Tempestivo o recurso e presentes os demais requisitos de admissibilidade,passa-se ao exame da insurgência propriamente dita, considerando-se a matériaobjeto de devolução. PENSÃO POR MORTE O benefício de pensão por morte encontra-se disciplinado pelos arts. 74a 79 da Lei n.º 8.213/91, cujo texto original foi objeto de alterações,vigorando atualmente a redação dada pela Lei n.º 13.846, de 18/6/2019.Aplicável, quanto à concessão desse benefício, a lei vigente à época do óbitodo segurado, consoante o teor do verbete n.º 340, da Súmula da Jurisprudênciado Superior Tribunal de Justiça.Para se obter a implementação da aludida pensão, é necessário o preenchimentode dois requisitos: o falecido deve deter a qualidade de segurado e éimprescindível subsistir relação de dependência econômica entre ele e osrequerentes do benefício.Dispensa-se a demonstração do período de carência, nos termos do art. 26,inciso I, da Lei n.° 8.213/91, conquanto sua duração possa variar conforme aquantidade de contribuições recolhidas pelo instituidor, consoante o dispostono art. 77 do mesmo diploma legal.Com relação à dependência econômica, o art. 16 da Lei n.º 8.213/91 estabeleceo rol dos beneficiários, dividindo-os em três classes e indicando tanto ashipóteses em que a dependência econômica é presumida quanto aquelas em queela deverá ser comprovada.Cumpre observar, ainda, que é vedada a concessão da pensão aos dependentes dosegurado que perder essa qualidade, nos termos do art. 15 da Lei de Benefícios,salvo se antes preenchidos os requisitos para a obtenção da aposentadoria,conforme previsto no art. 102, §§ 1.º e 2.º. DO CASO DOS AUTOS Para demonstrar suas alegações, a parte autora juntou documentos, entre osquais se destacam:- certidão de óbito do sr. Roberto Cesar Fernandes, falecido em 25/10/2011,consignando sua residência com endereço à Rua Antônio Valente da Costa, n.º1, Jardim Alvorada, em Monte Alto - SP, com 44 anos e divorciado, e tendocomo declarante a sra. Rosimere Maria Fernandes da Costa, consignando queera divorciado da autora;- escritura de declaração de dependência econômica, em nome do falecido,declarando que a autora é sua dependente econômica e que é seu desejo quesuas dependentes sejam suas beneficiárias de quaisquer convênios médicos etítulos de quaisquer clubes para os quais ele contribua ou venha contribuir,datado de 23/10/2008;- contas de luz e água, em nome do falecido, sendo a mais antiga referenteao mês de agosto/2011, com endereço à rua Orico Campos Negreiros Junior,n.º 160, Jardim Bela Vista, Monte Alto - SP;- certidão de casamento celebrado entre a autora e o falecido, em 16/5/2009,com averbação de sentença transitada em julgado, datado de 6/7/2011,decretando o divórcio do casal;- cópia de petição de ação de divórcio, consignando o endereço da autora àrua Orico Campos Negreiros Junior, n.º 160, Jardim Bela Vista, Monte Alto -SP, e do falecido à rua Suíça, n.º 41, Monte Alto - SP, datado de 7/6/2011;- aviso de recebimento consignando o endereço da autora à rua Orico CamposNegreiros Junior, n.º 160, Monte Alto - SP;- comunicado de decisão administrativa indeferindo o pedido de pensão pormorte, apresentado pela autora em 17/7/2012, pelo motivo de falta da qualidadede dependente;Cabe ressaltar a existência de prova oral.Em depoimento pessoal, a autora informa que seu ex-cônjuge, após ser mandadoembora de seu emprego, se endividou e, após ser informado que se viesse afalecer as dívidas seriam suportadas pela autora, decidiram se divorciar,mas que permaneceram juntos de fato.A testemunha Rosimeire Aparecida Piquetti Pereira declara ter trabalhadopara a autora, sendo faxineira diarista. Declara que sempre viu a autora e ofalecido como marido e mulher, que o falecido era quem trabalhava e sustentavaa família. que a autora se comportou como viúva no velório. Declara quetrabalhou para a autora e o falecido nos anos de 2008 e 2009, e que estavatrabalhando para eles quando do evento do óbito; que moravam na residênciaa autora, o falecido e a filha da autora. Declara que jamais ouviu sobreseparação de fato ou divórcio do casal.A testemunha José Carlos Sonco declara ser amigo do falecido, que moravamapenas o falecido e a autora e que nunca soube sobre separação do casal eque sempre que visitava o casal convivia como marido e mulher.Neste caso, restou comprovado a qualidade de segurado do falecido, porquantomantinha vínculo empregatício por ocasião do óbito.Contudo, o conjunto probatório, testemunhal e documental, revela-se frágile inconsistente, insuficiente para comprovar a existência da união estávela justificar a concessão do benefício.A fragilidade está apontada na divergência de endereços à data do óbito (nacertidão de óbito se registra o endereço do falecido à Rua Antônio Valente daCosta, n.º 1, Jardim Alvorada, em Monte Alto - SP, mesmo endereço de seusgenitores, enquanto a autora alega residir à rua Orico Campos NegreirosJunior, n.º 160, Monte Alto - SP ).Ainda, na petição de ação de divórcio acostada, há nova divergência deendereços (endereço da autora à rua Orico Campos Negreiros Junior, n.º 160,Jardim Bela Vista, Monte Alto - SP, e do falecido à rua Suíça, n.º 41,Monte Alto - SP) (f. 40, Id. 186395176).E, a prova testemunhal também revela-se inconsistente, pois a testemunhaRosimeire aduziu que laborou na casa da autora e do falecido nos anos de2008 e 2009, para posteriormente responder, quando questionado pelo juízo,que permaneceu trabalhando para o casal até a data do falecimento, ocorridono ano de 2011, e que eles viviam com a filha da autora. Já a testemunhaJosé Carlos Sonco indicou que a autora e o falecido viviam sozinhos.Insuficiente a prova apresentada, não restando demonstrada a condiçãode companheira do de cujus, à data do óbito, forçoso o reconhecimento daimprocedência do pedido.De rigor, portanto, o indeferimento do benefício, porquanto não comprovadoo cumprimento dos requisitos para a sua concessão.Posto isso, nego provimento à apelação.É o voto.  THEREZINHA CAZERTADesembargadora Federal RelatoraE M E N T A PREVIDENCIÁRIO. PENSÃO POR MORTE. ART. 74 DA LEI N.º 8.213/91. NÃO COMPROVADAA CONVIVÊNCIA. IMPOSSIBILIDADE DE CONCESSÃO DO BENEFÍCIO.- A prova produzida, inconsistente, é insuficiente para ensejar a concessãodo benefício vindicado, eis que não demonstrada a convivência da autora como de cujus.- Reconhecimento da improcedência do pedido formulado.- Apelação da autora não provida.   ACÓRDÃOVistos        e relatados estes autos em que são partes as acima indicadas,a Oitava Turma, por unanimidade, decidiu negar provimento à apelação, nostermos do relatório e voto  que       ficam fazendo parte integrante dopresente julgado.'"
      ]
     },
     "execution_count": 17,
     "metadata": {},
     "output_type": "execute_result"
    }
   ],
   "source": [
    "df['text'][10]"
   ]
  },
  {
   "cell_type": "code",
   "execution_count": 17,
   "id": "8f6f694c",
   "metadata": {},
   "outputs": [],
   "source": [
    "import pandas as pd"
   ]
  },
  {
   "cell_type": "code",
   "execution_count": 25,
   "id": "e3846838",
   "metadata": {},
   "outputs": [],
   "source": [
    "jf_p2b_pp = pd.DataFrame()"
   ]
  },
  {
   "cell_type": "code",
   "execution_count": 26,
   "id": "233e2396",
   "metadata": {},
   "outputs": [],
   "source": [
    "jf_p2b_pp['text'] = df_['text']"
   ]
  },
  {
   "cell_type": "code",
   "execution_count": 27,
   "id": "e186c7c8",
   "metadata": {},
   "outputs": [
    {
     "data": {
      "text/html": [
       "<div>\n",
       "<style scoped>\n",
       "    .dataframe tbody tr th:only-of-type {\n",
       "        vertical-align: middle;\n",
       "    }\n",
       "\n",
       "    .dataframe tbody tr th {\n",
       "        vertical-align: top;\n",
       "    }\n",
       "\n",
       "    .dataframe thead th {\n",
       "        text-align: right;\n",
       "    }\n",
       "</style>\n",
       "<table border=\"1\" class=\"dataframe\">\n",
       "  <thead>\n",
       "    <tr style=\"text-align: right;\">\n",
       "      <th></th>\n",
       "      <th>text</th>\n",
       "    </tr>\n",
       "  </thead>\n",
       "  <tbody>\n",
       "    <tr>\n",
       "      <th>0</th>\n",
       "      <td>2ª Turma, Ementa: PODER JUDICIÁRIOTribunal Reg...</td>\n",
       "    </tr>\n",
       "    <tr>\n",
       "      <th>1</th>\n",
       "      <td>11ª Turma, Ementa: PODER JUDICIÁRIOTribunal Re...</td>\n",
       "    </tr>\n",
       "    <tr>\n",
       "      <th>2</th>\n",
       "      <td>2ª Turma, Ementa: PODER JUDICIÁRIOTribunal Reg...</td>\n",
       "    </tr>\n",
       "    <tr>\n",
       "      <th>3</th>\n",
       "      <td>2ª Turma, Ementa: PODER JUDICIÁRIOTribunal Reg...</td>\n",
       "    </tr>\n",
       "    <tr>\n",
       "      <th>4</th>\n",
       "      <td>2ª Turma, Ementa: PODER JUDICIÁRIOTribunal Reg...</td>\n",
       "    </tr>\n",
       "    <tr>\n",
       "      <th>...</th>\n",
       "      <td>...</td>\n",
       "    </tr>\n",
       "    <tr>\n",
       "      <th>378571</th>\n",
       "      <td>2ª Turma Recursal da Seção Judiciária de Mato ...</td>\n",
       "    </tr>\n",
       "    <tr>\n",
       "      <th>378572</th>\n",
       "      <td>4ª Turma, Ementa: PODER JUDICIÁRIOTribunal Reg...</td>\n",
       "    </tr>\n",
       "    <tr>\n",
       "      <th>378573</th>\n",
       "      <td>4ª Turma, Ementa: PODER JUDICIÁRIOTribunal Reg...</td>\n",
       "    </tr>\n",
       "    <tr>\n",
       "      <th>378574</th>\n",
       "      <td>4ª Turma, Ementa: PODER JUDICIÁRIOTribunal Reg...</td>\n",
       "    </tr>\n",
       "    <tr>\n",
       "      <th>378575</th>\n",
       "      <td>12ª Turma Recursal da Seção Judiciária de São ...</td>\n",
       "    </tr>\n",
       "  </tbody>\n",
       "</table>\n",
       "<p>378576 rows × 1 columns</p>\n",
       "</div>"
      ],
      "text/plain": [
       "                                                     text\n",
       "0       2ª Turma, Ementa: PODER JUDICIÁRIOTribunal Reg...\n",
       "1       11ª Turma, Ementa: PODER JUDICIÁRIOTribunal Re...\n",
       "2       2ª Turma, Ementa: PODER JUDICIÁRIOTribunal Reg...\n",
       "3       2ª Turma, Ementa: PODER JUDICIÁRIOTribunal Reg...\n",
       "4       2ª Turma, Ementa: PODER JUDICIÁRIOTribunal Reg...\n",
       "...                                                   ...\n",
       "378571  2ª Turma Recursal da Seção Judiciária de Mato ...\n",
       "378572  4ª Turma, Ementa: PODER JUDICIÁRIOTribunal Reg...\n",
       "378573  4ª Turma, Ementa: PODER JUDICIÁRIOTribunal Reg...\n",
       "378574  4ª Turma, Ementa: PODER JUDICIÁRIOTribunal Reg...\n",
       "378575  12ª Turma Recursal da Seção Judiciária de São ...\n",
       "\n",
       "[378576 rows x 1 columns]"
      ]
     },
     "execution_count": 27,
     "metadata": {},
     "output_type": "execute_result"
    }
   ],
   "source": [
    "jf_p2b_pp"
   ]
  },
  {
   "cell_type": "code",
   "execution_count": 28,
   "id": "645750e5",
   "metadata": {},
   "outputs": [
    {
     "data": {
      "text/plain": [
       "'2ª Turma Recursal da Seção Judiciária de Mato Grosso do Sul, Ementa: PODER JUDICIÁRIOTurmas Recursais dos Juizados Especiais Federais SeçãoJudiciária de Mato Grosso do Sul2ª Turma Recursal da Seção Judiciária de Mato Grosso do SulPETIÇÃO CRIMINAL (1727) Nº 0000208-69.2021.4.03.9201RELATOR: 5º Juiz Federal da 2ª TR MSREQUERENTE: VALDIR MARTINSAdvogado do(a) REQUERENTE: IVAIR XIMENES LOPES - MS8322-AREQUERIDO: MINISTERIO PUBLICO FEDERALOUTROS PARTICIPANTES: PODER JUDICIÁRIOJUIZADO ESPECIAL FEDERAL DA 3ª REGIÃOTURMAS RECURSAIS DOSJUIZADOS ESPECIAIS FEDERAIS DE MATO GROSSO DO SUL PETIÇÃO CRIMINAL (1727) Nº 0000208-69.2021.4.03.9201RELATOR: 5º Juiz Federal da 2ª TR MSREQUERENTE: VALDIR MARTINSAdvogado do(a) REQUERENTE: IVAIR XIMENES LOPES - MS8322-AREQUERIDO: MINISTERIO PUBLICO FEDERAL OUTROS PARTICIPANTES: R E L A T Ó R I O Trata-se de apelação criminal interposta pelo réu contra a sentença defls. 114/116, que condenou Valdir Martins à pena de 10 (dez) dias-multa,no valor unitário e 1/30 (um trigésimo) do salário mínimo, pela prática dodelito do art. 340, do Código Penal.Alega-se, em síntese, o que segue:a) ausência de justa causa;b) ausência de culpa do réu em comunicar falsamente o crime ;Foram apresentadas contrarrazões (fls. 170).O MPF manifestou-se pelo desprovimento da apelação (fls. 172).É o relatório. PODER JUDICIÁRIOJUIZADO ESPECIAL FEDERAL DA 3ª REGIÃOTURMAS RECURSAIS DOSJUIZADOS ESPECIAIS FEDERAIS DE MATO GROSSO DO SUL PETIÇÃO CRIMINAL (1727) Nº 0000208-69.2021.4.03.9201RELATOR: 5º Juiz Federal da 2ª TR MSREQUERENTE: VALDIR MARTINSAdvogado do(a) REQUERENTE: IVAIR XIMENES LOPES - MS8322-AREQUERIDO: MINISTERIO PUBLICO FEDERAL OUTROS PARTICIPANTES: V O T O O recurso não merece prosperar.A respeito, consigno que o art. 46 combinado com o parágrafo 5º do art. 82,ambos da Lei nº 9.099/95, facultam à Turma Recursal dos Juizados Especiaisa remissão aos fundamentos adotados na sentença.Por sua vez, o mencionado parágrafo 5º do artigo 82 da Lei nº 9.099/95,dispõe \"se a sentença for confirmada pelos próprios fundamentos, a súmulado julgamento servirá de acórdão.\".O Colendo Supremo Tribunal Federal já reconheceu a constitucionalidade,vale dizer, a não violação ao dever constitucional de motivação das decisõesjudiciais (art. 93, inc. IX, da CF/88), da utilização da denominada técnicada fundamentação per relationem, consoante se infere na leitura do seguinteprecedente da jurisprudência da excelsa corte, verbis:\"(...) O Supremo Tribunal Federal tem salientado, em seu magistériojurisprudencial, a propósito da motivação \"per relationem\", que inocorreausência de fundamentação quando o ato decisório - o acórdão, inclusive -reporta-se, expressamente, a manifestações ou a peças processuais outras,mesmo as produzidas pelo Ministério Público, desde que, nestas, se achemexpostos os motivos, de fato ou de direito, justificadores da decisãojudicial proferida. Precedentes. Doutrina. O acórdão, ao fazer remissão aosfundamentos fático-jurídicos expostos no parecer do Ministério Público -e ao invocá-los como expressa razão de decidir -, ajusta-se, com plenafidelidade, à exigência jurídico-constitucional de motivação a que estãosujeitos os atos decisórios emanados do Poder Judiciário (CF, art. 93, IX).\"(ADI 416 AgR, Relator(a): Min. CELSO DE MELLO, Tribunal Pleno, julgado em16/10/2014, ACÓRDÃO ELETRÔNICO DJe-215 DIVULG 31-10-2014 PUBLIC 03-11-2014)grifei.Nessa toada, a sentença, no mérito, não merece reparos, uma vez que sefundamentou em norma jurídica e orientação jurisprudencial aplicáveis àespécie.A sentença foi proferida nos seguintes termos:Tendo em vista que, intimado, o réu não compareceu na presente audiência,decret a sua reve|ia. O Ministério Público Federal ofereceu denúnciacontra Valdir Martins, imputando a ele a conduta delitiva prevista noart. 340 do Código Penal, por ter provocado a ação da autoridade policial,comunicando-lhe a ocorrência de crimes que sabia não terem acontecido. Constada denúncia exposição do fato criminoso com todas as suas circunstâncias,a qualificação do acusado e a classificação provisória do delito. Analisandoa peça acusatória, em cotejo com o que consta dos autos, observo haver justacausa para a persecução penal, já que está embasada em provas da emstênciade fatos que constituem crime em tese e indlcios da autoria, a justificar oseu oferecimento. Estão presentes os pressupostos processuais e as condiçõesda ação. Na resposta à acusação, feita de forma oral na presente audiência,não foram apresentados quaisquer elementos que permitissem a rejeição dadenúncia. Assim, RECEBO a denúncia oferecida em face de Valdir Martins.\" Emprosseguimento, procedeu-se a oitiva da testemunha arrolada pela acusaçãoDaniel Martarelli da Costa, tendo o MPF desistido da oitiva da testemunhaAdão Candado, o que foi homologado pelo Juízo. Ausente o interrogado,presume-se que preferiu fazer uso de seu direito de permanecer em silêncio,nos termos do artigo 81 da Lei no 9.099/95. Dada a palavra ao Procuradorda República para alegações finais, por ele foi ditp qüe tantHQateria|idadecomo autoria foram demonstradas de forma satisfatória, pé\\'áindo a condenàçãodo acusado. Dada a palavra à defesa para alegações finais, yío defensor doacusado foram reiterados os termos da resposta à acusação. Na Fequência,o mm. juij Federal proferiu a seguinte sentença: \"Relatório dispYisado, nostermos do § po do art. 81 da Lei 9.099/1995. O Ministério Público FeF|era|denunciou Valdir Mafins como incurso nas sanções do art. 340 do CÓdigo PePa|por ter feito falsa co/nunicação de crime à autoridade policial, provocando asua ação. O tipo penal em queNo qualifica como crime a conduta de \\'Provocar aação de autoí\\\\dade, comunicando-/he p ocorrência de crime ou de contravençãoque sabe não se ter verincado\\'. Compu|saWo os autos do inquérito \\\\ policialapenso, vejo que o acusado compareceu na DPF/YI/MS em 08/10/2015 e declarou,perante a autoridade policial, que, \\'por volta das 21)íOOmin do dia anterior,um grupo de pessoas armadas teria atacado o Acampamento/ Tejui/Curupi,onde reside, notificação, uma equipe policial deslocou-se até o local dosfatos, tendo apurado indícios de que o ataque noticiado não teria ocorrido. Orelatório fotográfico (fl. 7/10) relata a existência de insetos sob a madeiraqueimada e véu de poeira sobre as cinzas, indicativo de que c) incêndio datavade mais tempo do que o relato de Valdir, Também menciona que os indígenasque, supostamente, estariam sendo atacados, não realizaram qualquer pedidode socorro via telefone, embora vários deles tivessem aparelhos celulares e acomu nicação era perfeitamente possÍvel daquele iocal, conforme já constatadoanteriormente. Nenhuma cápsula de projétii de arma de fogo foi encontradano local.Adão Candado, servidor da Funai, relatou que também foi acionadopelo acusado na noite do mesmo dia. Ouvido em sede poIicial, informou quea queima das barracas não teria ocorrido na data relatada pelo acusado (fl,17/18), bem como que, em vistoria por ele realizada, não foram encontradascápsulas de projéteis de arma de fogo deflagradas, marcas de pneu ou pegadashumanas no local. A testemunha Daniel Martarelli da Costa confirmou querealizou diligência no local, não constatando indlcios da ocorrência doscrimes relatados pelo acusado. A conjuqação dos exames prehminares realizadospela autoridade policial, com os depoimentos prestados em JuÍzo, indicam deforma bastante clara que o ataque noticiado pelo acusado não aconteceu, Nomáximo, deu-se um incêndio acidental em duas das barracas do assentamento,aparentemente sem concurso de terceiros que não os prÓprios habitantes dolocal, e em data bem anterior ao que relatou o réu. Valdir Martins, capitãodo acampamento, não tinha como ignorar essas circunstâncias, o que me levaa concluir que fez, de forma deíiberada e consciente, falsa comunicação decrime à autoridade policial, provocando a sua ação. Assim, entendo teremsido demonstradas de forma satisfatória a autoria e a materialidade do delitoem questão. Valdir Martins fez falsa comunicação da ocorrência de um ataqueao acampamento indígena em que habita, dando causa à atuação da autoridadepoIicial, que deslocou-se, juntamente com uma equipe policial, ao local dosfatos. O dolo exigido pelo tipo em questão é genérico, prescindindo-se de umespecial fim de agir, consistindo na vontade Iivre e consciente de provocara atuação da autoridade, comunicando-lhe a ocorrência de crimes que sabenão terem acontecido. Configuradas a autoria e a materialidade, bem como aadequação típica, exsurge de maneira cristalina a responsabilidade penal doacusado, sendo de rigor a sua condenação. Passo à eSco|ha e à çiosimétria dapena. Preliminarmente, faço a definição da pena a ser imposta ao acusado. Otipo penal em questão prevê as penas de detenção ou multa. Considerando que oacusado não ostenta anotações penais desfavoráveis, e que inexistem elementosnos autos que permitam avaliar negativamente sua personalidade e suaconduta social, entendo que a pena de multa, isoladamente aplicada,é suficiente para a reprovação e prevenção do crime, nas condições emque foi pratieaclo. Consicjerando que as circunstâncias judiciais doart. 59 do Código Penal não lhes são desfavoráveis, bem como que inexistemcircunstâncias agravantes ou causas de aumento a serem aplicadas, fixo apena de multa no seu mlnimo legal, qual seja, 10 dias multa. Considerando ascondições econômicas do réu, que é indígena e vive em,.acampamento à beira derodovia, tendo-se declarado desempregado por ocasião de seu comparecimentoà DPF/NVI/YS, fixo o dia multa também no mínimo legal, qual sejaf/\"1/30 dovalor do sa|ário-mÍniTo vigente por ocasião do fato. Tendo sido cominadaunicamente a pena de multa, de/forma solada, não há que se falar em concessãode sursis ou substituição por restritivas de direitos. Dispositivo. Peloexposto, nos termos da fundamentação, julgo PROCEDENTE o pedido constanteda denúncia. CONDENO Valdir Martins, qualificado na inicial, como incursonas sanções do art. 340 do CÓdigo Penal, e determino que pague uma penapecuniária de 10 (dez) dias-multa, cada um deles equivalente a 1/30 (umtrigésimo) do valor do salário mínimo vigente em OUT/2015, a ser atualizadamonetariamente até a data Ko efetivo pagamento pelos parâmetros constantesdo Manual de Cálculos da Justiça Federal. Custas pelo réu (Lei 9,289/1996,art. 6°). Oficie-se aos órgãos de estatísticas. A|Rente Secretaria, com osdados do processo e do condenado, os sistemas estatísticos e os bancos dedados oficiais. Transitando em julgado, inscreva-se q nome do réu no rol dosculpados. Deixo de fixar o valor indenizatório mínimo por não vislumbrara ocorrência de dano indenizável, sem prejuÍzo de que terceiros venham apleitear por ação própria as reparações que entenderem devidas. Publicadaem audiência. Arbitro os honorários do defensor dativo, Dr. Anderson AkiraKogawa ,- OAB/MS 19.243 no valor máximo constante da tabela anexa à Resolução305/2014 - CJF. Requisite-se o seu pagamento. Registre-se como \"Tipo d\", jjãraos fins da \\'Resolução CJF n° 535/2006. Saem os presentes intimados. Intime-seo acusado.Trato dos pontos discutidos no recurso.Em relação à justa causa, verifico que a denúncia foi recebida em audiência. Omagistrado de origem verificou que os autos estão instruídos com provas queindicam a autoria e a materialidade do fato narrado na inicial a justificaro recebimento da denúncia. O réu compareceu pessoalmente ao Departamento dePolícia Federal onde reportou a ocorrência de crime. Ademais, há provas deque os policiais federais, provocados pela notícia trazida pela parte ré,compareceram ao local onde não foram verificadas provas do alegado incêndiocriminoso ou dos alegados ataques e disparos contra o acampamento. Assim,não há elementos aptos a afastar a existência de justa causa verificada peloJuízo de origem.Restou comprovado nos autos que não havia prova de incêndio criminoso alegadopela parte ré. As barracas que sofreram incêndio foram queimadas em momentomuito anterior ao noticiado pela parte ré. Não foram encontradas cápsulas dosalegados disparos. As testemunhas que compareceram ao local, dentre elas umservidor da FUNAI, também alegaram não existir cápsulas ou indícios de queas queimadas tenham sido criminosas ou realizadas por pessoas estranhas aoacampamento.Em relação ao dolo, o magistrado de origem verificou a existência de dologenérico. A parte ré sabia que o crime narrado não havia ocorrido (sabiaque o incêndio não havia ocorrido nem na forma nem no tempo narrado e quenão houve disparos contra o acampamento) e, ainda assim, deliberadamente onoticiou à autoridade policial. Assim, também nesse ponto, não vislumbro motivos para a reforma da sentença.No mais, consigno ser suficiente que sejam expostas as razões de decidir dojulgador, para que se dê por completa e acabada a prestação jurisdicional,não havendo a necessidade de expressa menção a todo e qualquer dispositivolegal mencionado, a título de prequestionamento. Assim, não vislumbro dosargumentos deduzidos no processo qualquer outro fundamento relevante capazde, em tese, infirmar a conclusão ora adotada.Posto isso, voto por negar provimento ao recurso do réu, confirmando a sentençapor seus próprios e jurídicos fundamentos, os quais dou por transcritos,com base no art. 46 da Lei nº 9.099/95, combinado com o art. 1º da Lei nº10.259/2001, somados aos argumentos ora expendidos.Sem custas. Sem honorários.É o voto. E M E N T APENAL. CULPABILIDADE. DOLO. COMUNICAÇÃO FALSA DE CRIME. RECURSO INOMINADOINTERPOSTO PELA PARTE AUTORA. MANUTENÇÃO DA SENTENÇA POR SEUS PRÓPRIOSFUNDAMENTOS. RECURSO CONHECIDO E NÃO PROVIDO. ACÓRDÃOVistos e relatados estes autos em que são partes as acima indicadas,a Segunda Turma Recursal, por unanimidade, decidiu negar provimento aorecurso do réu, nos termos do relatório e voto que ficam fazendoparte integrante do presente julgado., E M E N T APENAL. CULPABILIDADE. DOLO. COMUNICAÇÃO FALSA DE CRIME. RECURSO INOMINADOINTERPOSTO PELA PARTE AUTORA. MANUTENÇÃO DA SENTENÇA POR SEUS PRÓPRIOSFUNDAMENTOS. RECURSO CONHECIDO E NÃO PROVIDO.'"
      ]
     },
     "execution_count": 28,
     "metadata": {},
     "output_type": "execute_result"
    }
   ],
   "source": [
    "jf_p2b_pp.text[378571]"
   ]
  },
  {
   "cell_type": "code",
   "execution_count": 29,
   "id": "3c6ac976",
   "metadata": {},
   "outputs": [],
   "source": [
    "save_to = \"D:\\\\dados-juridicos\\\\pp\\\\\""
   ]
  },
  {
   "cell_type": "code",
   "execution_count": 30,
   "id": "af165bd7",
   "metadata": {},
   "outputs": [],
   "source": [
    "# Salve o dataframe atualizado em um novo arquivo\n",
    "jf_p2b_pp.to_csv(f'{save_to}jf_p2b_pp.csv', index=False)  # Substitua pelo nome desejado para o novo arquivo"
   ]
  },
  {
   "cell_type": "code",
   "execution_count": 31,
   "id": "9756884f",
   "metadata": {},
   "outputs": [],
   "source": [
    "jf_p2b_pp = pd.read_csv(f'{save_to}jf_p2b_pp.csv', nrows=100)"
   ]
  },
  {
   "cell_type": "code",
   "execution_count": 32,
   "id": "b0319126",
   "metadata": {},
   "outputs": [
    {
     "data": {
      "text/plain": [
       "'TRF - TERCEIRA REGIÃO, Ementa: E M E N T A DIREITO PROCESSUAL CIVIL. EMBARGOS DE DECLARAÇÃO. OCORRÊNCIA DEOMISSÃO. EXECUÇÃO DE TÍTULO JUDICIAL. AJUIZAMENTO DE AÇÃO DE EXECUÇÃOCOLETIVA POR LEGITIMADO EXTRAORDINÁRIO. INTERRUPÇÃO DA PRESCRIÇÃO DAEXECUÇÃO INDIVIDUAL. PRESCRIÇÃO NÃO RECONHECIDA. ATRIBUIÇÃO DE EFEITOSINFRINGENTES. EMBARGOS DE DECLARAÇÃO ACOLHIDOS.1. O STJ tem entendimento de que a ação de execução coletiva ajuizadapelo legitimado extraordinário interrompe o prazo prescricional da execuçãoindividual.2. Nos autos da ação coletiva n° 2006.34.00.006627-7, foi ajuizada execuçãocoletiva pela ASDNER em data não especificada, mas certamente anterior a16/12/2013, porquanto nessa data foi proferida decisão que, dentre outrasdeterminações, delimitou os beneficiários diretos daquela execução.3. O prazo prescricional quinquenal previsto no artigo 1° do Decreto n°20.910/1932 começou a transcorrer a partir de 27/11/2013 (data da celebração deacordo para liquidação de sentença), veio a ser interrompido pelo ajuizamentode execução coletiva em data não especificada, mas anterior a 16/12/2013, eainda não voltou a correr, eis que não houve trânsito em julgado da execuçãocoletiva.4. Ajuizada a execução de origem em 06/07/2020, tem-se por não ocorrida aprescrição.5. Embargos de declaração acolhidos com efeitos infringentes e, de conseguinte,provido o agravo de instrumento da União, com o afastamento da prescriçãoda execução promovida pela exequente., DJEN DATA: 17/08/2022..FONTE_PUBLICACAO1:..FONTE_PUBLICACAO2:..FONTE_PUBLICACAO3:'"
      ]
     },
     "execution_count": 32,
     "metadata": {},
     "output_type": "execute_result"
    }
   ],
   "source": [
    "jf_p2b_pp.text[23]"
   ]
  },
  {
   "cell_type": "code",
   "execution_count": null,
   "id": "14165c75",
   "metadata": {},
   "outputs": [],
   "source": []
  }
 ],
 "metadata": {
  "kernelspec": {
   "display_name": "Python 3 (ipykernel)",
   "language": "python",
   "name": "python3"
  },
  "language_info": {
   "codemirror_mode": {
    "name": "ipython",
    "version": 3
   },
   "file_extension": ".py",
   "mimetype": "text/x-python",
   "name": "python",
   "nbconvert_exporter": "python",
   "pygments_lexer": "ipython3",
   "version": "3.11.5"
  }
 },
 "nbformat": 4,
 "nbformat_minor": 5
}
